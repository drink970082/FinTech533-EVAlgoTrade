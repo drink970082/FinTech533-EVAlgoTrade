{
 "cells": [
  {
   "cell_type": "code",
   "execution_count": 3,
   "id": "5df9f6d0",
   "metadata": {},
   "outputs": [],
   "source": [
    "import numpy as np\n",
    "import pandas as pd\n",
    "from script.data_pipeline import shinyDataFetcher\n",
    "import plotly.graph_objects as go\n",
    "import statsmodels.api as sm\n",
    "from statsmodels.tsa.stattools import coint, adfuller\n",
    "from statsmodels.regression.rolling import RollingOLS\n",
    "import matplotlib.pyplot as plt\n",
    "import itertools\n",
    "import warnings\n",
    "import statsmodels.tsa.stattools as ts\n",
    "from IPython.display import HTML, display\n",
    "import itables\n",
    "\n",
    "warnings.filterwarnings(\"ignore\")\n",
    "\n",
    "def write_table(df, filename):\n",
    "    html = itables.to_html_datatable(df, display_logo_when_loading=True)\n",
    "    with open(f'../docs/dataframe/{filename}.html', 'w') as f:\n",
    "        f.write(html)\n",
    "\n",
    "EV_stocks = [\"TSLA\", \"RIVN\", \"LCID\", \"F\", \"GM\", \"NIO\", \"XPEV\", \"BYDDF\", \"LI\"]\n",
    "EV_stocks_data = {}\n",
    "for stock in EV_stocks:\n",
    "    EV_stocks_data[stock] = shinyDataFetcher(asset=stock, durationStr=\"3 Y\", barSizeSetting=\"1 day\").fetch_asset_data()\n",
    "\n",
    "log_prices = {}\n",
    "for ticker in EV_stocks:\n",
    "    df_temp = EV_stocks_data[ticker].copy()\n",
    "    df_temp[\"log_close\"] = np.log(df_temp[\"close\"])\n",
    "    log_prices[ticker] = df_temp.set_index(\"timestamp\")[\"log_close\"].dropna()\n",
    "\n",
    "# # Loop over all unique pairs\n",
    "# for s1, s2 in itertools.combinations(EV_stocks, 2):\n",
    "#     # Align datasets by timestamp\n",
    "#     print(f\"Processing pair: {s1} & {s2}\")\n",
    "#     df_pair = pd.concat([log_prices[s1], log_prices[s2]], axis=1).dropna()\n",
    "#     if df_pair.empty:\n",
    "#         continue\n",
    "\n",
    "#     X = log_prices[s1]\n",
    "#     Y = log_prices[s2]\n",
    "#     X_const = sm.add_constant(X)  # Adds a constant term to the predictor\n",
    "#     model = sm.OLS(Y, X_const).fit()\n",
    "#     print(f\"OLS Coefficients: {model.params.to_dict()}, OLS p-value: {model.pvalues[1]:.4f}, OLS R-squared: {model.rsquared:.4f}\")\n",
    "\n",
    "#     # Perform cointegration test\n",
    "#     result = coint(df_pair.iloc[:, 0], df_pair.iloc[:, 1])\n",
    "#     test_stat, p_value, crit_values = result\n",
    "\n",
    "#     print(f\"Test Statistic: {test_stat:.3f}, p-value: {p_value:.4f}\", f\"Critical Values: {crit_values}\")\n",
    "#     print(f\"r-square > 0.5? {'Yes' if model.rsquared > 0.5 else 'No'}\")\n",
    "#     print(f\"Is cointegrated? {'Yes' if p_value < 0.05 else 'No'}\")\n",
    "#     print(\"-\" * 50)"
   ]
  },
  {
   "cell_type": "code",
   "execution_count": 4,
   "id": "bade2af4",
   "metadata": {},
   "outputs": [
    {
     "data": {
      "application/vnd.plotly.v1+json": {
       "config": {
        "plotlyServerURL": "https://plot.ly"
       },
       "data": [
        {
         "mode": "lines",
         "name": "TSLA",
         "type": "scatter",
         "x": [
          "2022-04-19",
          "2022-04-20",
          "2022-04-21",
          "2022-04-22",
          "2022-04-25",
          "2022-04-26",
          "2022-04-27",
          "2022-04-28",
          "2022-04-29",
          "2022-05-02",
          "2022-05-03",
          "2022-05-04",
          "2022-05-05",
          "2022-05-06",
          "2022-05-09",
          "2022-05-10",
          "2022-05-11",
          "2022-05-12",
          "2022-05-13",
          "2022-05-16",
          "2022-05-17",
          "2022-05-18",
          "2022-05-19",
          "2022-05-20",
          "2022-05-23",
          "2022-05-24",
          "2022-05-25",
          "2022-05-26",
          "2022-05-27",
          "2022-05-31",
          "2022-06-01",
          "2022-06-02",
          "2022-06-03",
          "2022-06-06",
          "2022-06-07",
          "2022-06-08",
          "2022-06-09",
          "2022-06-10",
          "2022-06-13",
          "2022-06-14",
          "2022-06-15",
          "2022-06-16",
          "2022-06-17",
          "2022-06-21",
          "2022-06-22",
          "2022-06-23",
          "2022-06-24",
          "2022-06-27",
          "2022-06-28",
          "2022-06-29",
          "2022-06-30",
          "2022-07-01",
          "2022-07-05",
          "2022-07-06",
          "2022-07-07",
          "2022-07-08",
          "2022-07-11",
          "2022-07-12",
          "2022-07-13",
          "2022-07-14",
          "2022-07-15",
          "2022-07-18",
          "2022-07-19",
          "2022-07-20",
          "2022-07-21",
          "2022-07-22",
          "2022-07-25",
          "2022-07-26",
          "2022-07-27",
          "2022-07-28",
          "2022-07-29",
          "2022-08-01",
          "2022-08-02",
          "2022-08-03",
          "2022-08-04",
          "2022-08-05",
          "2022-08-08",
          "2022-08-09",
          "2022-08-10",
          "2022-08-11",
          "2022-08-12",
          "2022-08-15",
          "2022-08-16",
          "2022-08-17",
          "2022-08-18",
          "2022-08-19",
          "2022-08-22",
          "2022-08-23",
          "2022-08-24",
          "2022-08-25",
          "2022-08-26",
          "2022-08-29",
          "2022-08-30",
          "2022-08-31",
          "2022-09-01",
          "2022-09-02",
          "2022-09-06",
          "2022-09-07",
          "2022-09-08",
          "2022-09-09",
          "2022-09-12",
          "2022-09-13",
          "2022-09-14",
          "2022-09-15",
          "2022-09-16",
          "2022-09-19",
          "2022-09-20",
          "2022-09-21",
          "2022-09-22",
          "2022-09-23",
          "2022-09-26",
          "2022-09-27",
          "2022-09-28",
          "2022-09-29",
          "2022-09-30",
          "2022-10-03",
          "2022-10-04",
          "2022-10-05",
          "2022-10-06",
          "2022-10-07",
          "2022-10-10",
          "2022-10-11",
          "2022-10-12",
          "2022-10-13",
          "2022-10-14",
          "2022-10-17",
          "2022-10-18",
          "2022-10-19",
          "2022-10-20",
          "2022-10-21",
          "2022-10-24",
          "2022-10-25",
          "2022-10-26",
          "2022-10-27",
          "2022-10-28",
          "2022-10-31",
          "2022-11-01",
          "2022-11-02",
          "2022-11-03",
          "2022-11-04",
          "2022-11-07",
          "2022-11-08",
          "2022-11-09",
          "2022-11-10",
          "2022-11-11",
          "2022-11-14",
          "2022-11-15",
          "2022-11-16",
          "2022-11-17",
          "2022-11-18",
          "2022-11-21",
          "2022-11-22",
          "2022-11-23",
          "2022-11-25",
          "2022-11-28",
          "2022-11-29",
          "2022-11-30",
          "2022-12-01",
          "2022-12-02",
          "2022-12-05",
          "2022-12-06",
          "2022-12-07",
          "2022-12-08",
          "2022-12-09",
          "2022-12-12",
          "2022-12-13",
          "2022-12-14",
          "2022-12-15",
          "2022-12-16",
          "2022-12-19",
          "2022-12-20",
          "2022-12-21",
          "2022-12-22",
          "2022-12-23",
          "2022-12-27",
          "2022-12-28",
          "2022-12-29",
          "2022-12-30",
          "2023-01-03",
          "2023-01-04",
          "2023-01-05",
          "2023-01-06",
          "2023-01-09",
          "2023-01-10",
          "2023-01-11",
          "2023-01-12",
          "2023-01-13",
          "2023-01-17",
          "2023-01-18",
          "2023-01-19",
          "2023-01-20",
          "2023-01-23",
          "2023-01-24",
          "2023-01-25",
          "2023-01-26",
          "2023-01-27",
          "2023-01-30",
          "2023-01-31",
          "2023-02-01",
          "2023-02-02",
          "2023-02-03",
          "2023-02-06",
          "2023-02-07",
          "2023-02-08",
          "2023-02-09",
          "2023-02-10",
          "2023-02-13",
          "2023-02-14",
          "2023-02-15",
          "2023-02-16",
          "2023-02-17",
          "2023-02-21",
          "2023-02-22",
          "2023-02-23",
          "2023-02-24",
          "2023-02-27",
          "2023-02-28",
          "2023-03-01",
          "2023-03-02",
          "2023-03-03",
          "2023-03-06",
          "2023-03-07",
          "2023-03-08",
          "2023-03-09",
          "2023-03-10",
          "2023-03-13",
          "2023-03-14",
          "2023-03-15",
          "2023-03-16",
          "2023-03-17",
          "2023-03-20",
          "2023-03-21",
          "2023-03-22",
          "2023-03-23",
          "2023-03-24",
          "2023-03-27",
          "2023-03-28",
          "2023-03-29",
          "2023-03-30",
          "2023-03-31",
          "2023-04-03",
          "2023-04-04",
          "2023-04-05",
          "2023-04-06",
          "2023-04-10",
          "2023-04-11",
          "2023-04-12",
          "2023-04-13",
          "2023-04-14",
          "2023-04-17",
          "2023-04-18",
          "2023-04-19",
          "2023-04-20",
          "2023-04-21",
          "2023-04-24",
          "2023-04-25",
          "2023-04-26",
          "2023-04-27",
          "2023-04-28",
          "2023-05-01",
          "2023-05-02",
          "2023-05-03",
          "2023-05-04",
          "2023-05-05",
          "2023-05-08",
          "2023-05-09",
          "2023-05-10",
          "2023-05-11",
          "2023-05-12",
          "2023-05-15",
          "2023-05-16",
          "2023-05-17",
          "2023-05-18",
          "2023-05-19",
          "2023-05-22",
          "2023-05-23",
          "2023-05-24",
          "2023-05-25",
          "2023-05-26",
          "2023-05-30",
          "2023-05-31",
          "2023-06-01",
          "2023-06-02",
          "2023-06-05",
          "2023-06-06",
          "2023-06-07",
          "2023-06-08",
          "2023-06-09",
          "2023-06-12",
          "2023-06-13",
          "2023-06-14",
          "2023-06-15",
          "2023-06-16",
          "2023-06-20",
          "2023-06-21",
          "2023-06-22",
          "2023-06-23",
          "2023-06-26",
          "2023-06-27",
          "2023-06-28",
          "2023-06-29",
          "2023-06-30",
          "2023-07-03",
          "2023-07-05",
          "2023-07-06",
          "2023-07-07",
          "2023-07-10",
          "2023-07-11",
          "2023-07-12",
          "2023-07-13",
          "2023-07-14",
          "2023-07-17",
          "2023-07-18",
          "2023-07-19",
          "2023-07-20",
          "2023-07-21",
          "2023-07-24",
          "2023-07-25",
          "2023-07-26",
          "2023-07-27",
          "2023-07-28",
          "2023-07-31",
          "2023-08-01",
          "2023-08-02",
          "2023-08-03",
          "2023-08-04",
          "2023-08-07",
          "2023-08-08",
          "2023-08-09",
          "2023-08-10",
          "2023-08-11",
          "2023-08-14",
          "2023-08-15",
          "2023-08-16",
          "2023-08-17",
          "2023-08-18",
          "2023-08-21",
          "2023-08-22",
          "2023-08-23",
          "2023-08-24",
          "2023-08-25",
          "2023-08-28",
          "2023-08-29",
          "2023-08-30",
          "2023-08-31",
          "2023-09-01",
          "2023-09-05",
          "2023-09-06",
          "2023-09-07",
          "2023-09-08",
          "2023-09-11",
          "2023-09-12",
          "2023-09-13",
          "2023-09-14",
          "2023-09-15",
          "2023-09-18",
          "2023-09-19",
          "2023-09-20",
          "2023-09-21",
          "2023-09-22",
          "2023-09-25",
          "2023-09-26",
          "2023-09-27",
          "2023-09-28",
          "2023-09-29",
          "2023-10-02",
          "2023-10-03",
          "2023-10-04",
          "2023-10-05",
          "2023-10-06",
          "2023-10-09",
          "2023-10-10",
          "2023-10-11",
          "2023-10-12",
          "2023-10-13",
          "2023-10-16",
          "2023-10-17",
          "2023-10-18",
          "2023-10-19",
          "2023-10-20",
          "2023-10-23",
          "2023-10-24",
          "2023-10-25",
          "2023-10-26",
          "2023-10-27",
          "2023-10-30",
          "2023-10-31",
          "2023-11-01",
          "2023-11-02",
          "2023-11-03",
          "2023-11-06",
          "2023-11-07",
          "2023-11-08",
          "2023-11-09",
          "2023-11-10",
          "2023-11-13",
          "2023-11-14",
          "2023-11-15",
          "2023-11-16",
          "2023-11-17",
          "2023-11-20",
          "2023-11-21",
          "2023-11-22",
          "2023-11-24",
          "2023-11-27",
          "2023-11-28",
          "2023-11-29",
          "2023-11-30",
          "2023-12-01",
          "2023-12-04",
          "2023-12-05",
          "2023-12-06",
          "2023-12-07",
          "2023-12-08",
          "2023-12-11",
          "2023-12-12",
          "2023-12-13",
          "2023-12-14",
          "2023-12-15",
          "2023-12-18",
          "2023-12-19",
          "2023-12-20",
          "2023-12-21",
          "2023-12-22",
          "2023-12-26",
          "2023-12-27",
          "2023-12-28",
          "2023-12-29",
          "2024-01-02",
          "2024-01-03",
          "2024-01-04",
          "2024-01-05",
          "2024-01-08",
          "2024-01-09",
          "2024-01-10",
          "2024-01-11",
          "2024-01-12",
          "2024-01-16",
          "2024-01-17",
          "2024-01-18",
          "2024-01-19",
          "2024-01-22",
          "2024-01-23",
          "2024-01-24",
          "2024-01-25",
          "2024-01-26",
          "2024-01-29",
          "2024-01-30",
          "2024-01-31",
          "2024-02-01",
          "2024-02-02",
          "2024-02-05",
          "2024-02-06",
          "2024-02-07",
          "2024-02-08",
          "2024-02-09",
          "2024-02-12",
          "2024-02-13",
          "2024-02-14",
          "2024-02-15",
          "2024-02-16",
          "2024-02-20",
          "2024-02-21",
          "2024-02-22",
          "2024-02-23",
          "2024-02-26",
          "2024-02-27",
          "2024-02-28",
          "2024-02-29",
          "2024-03-01",
          "2024-03-04",
          "2024-03-05",
          "2024-03-06",
          "2024-03-07",
          "2024-03-08",
          "2024-03-11",
          "2024-03-12",
          "2024-03-13",
          "2024-03-14",
          "2024-03-15",
          "2024-03-18",
          "2024-03-19",
          "2024-03-20",
          "2024-03-21",
          "2024-03-22",
          "2024-03-25",
          "2024-03-26",
          "2024-03-27",
          "2024-03-28",
          "2024-04-01",
          "2024-04-02",
          "2024-04-03",
          "2024-04-04",
          "2024-04-05",
          "2024-04-08",
          "2024-04-09",
          "2024-04-10",
          "2024-04-11",
          "2024-04-12",
          "2024-04-15",
          "2024-04-16",
          "2024-04-17",
          "2024-04-18",
          "2024-04-19",
          "2024-04-22",
          "2024-04-23",
          "2024-04-24",
          "2024-04-25",
          "2024-04-26",
          "2024-04-29",
          "2024-04-30",
          "2024-05-01",
          "2024-05-02",
          "2024-05-03",
          "2024-05-06",
          "2024-05-07",
          "2024-05-08",
          "2024-05-09",
          "2024-05-10",
          "2024-05-13",
          "2024-05-14",
          "2024-05-15",
          "2024-05-16",
          "2024-05-17",
          "2024-05-20",
          "2024-05-21",
          "2024-05-22",
          "2024-05-23",
          "2024-05-24",
          "2024-05-28",
          "2024-05-29",
          "2024-05-30",
          "2024-05-31",
          "2024-06-03",
          "2024-06-04",
          "2024-06-05",
          "2024-06-06",
          "2024-06-07",
          "2024-06-10",
          "2024-06-11",
          "2024-06-12",
          "2024-06-13",
          "2024-06-14",
          "2024-06-17",
          "2024-06-18",
          "2024-06-20",
          "2024-06-21",
          "2024-06-24",
          "2024-06-25",
          "2024-06-26",
          "2024-06-27",
          "2024-06-28",
          "2024-07-01",
          "2024-07-02",
          "2024-07-03",
          "2024-07-05",
          "2024-07-08",
          "2024-07-09",
          "2024-07-10",
          "2024-07-11",
          "2024-07-12",
          "2024-07-15",
          "2024-07-16",
          "2024-07-17",
          "2024-07-18",
          "2024-07-19",
          "2024-07-22",
          "2024-07-23",
          "2024-07-24",
          "2024-07-25",
          "2024-07-26",
          "2024-07-29",
          "2024-07-30",
          "2024-07-31",
          "2024-08-01",
          "2024-08-02",
          "2024-08-05",
          "2024-08-06",
          "2024-08-07",
          "2024-08-08",
          "2024-08-09",
          "2024-08-12",
          "2024-08-13",
          "2024-08-14",
          "2024-08-15",
          "2024-08-16",
          "2024-08-19",
          "2024-08-20",
          "2024-08-21",
          "2024-08-22",
          "2024-08-23",
          "2024-08-26",
          "2024-08-27",
          "2024-08-28",
          "2024-08-29",
          "2024-08-30",
          "2024-09-03",
          "2024-09-04",
          "2024-09-05",
          "2024-09-06",
          "2024-09-09",
          "2024-09-10",
          "2024-09-11",
          "2024-09-12",
          "2024-09-13",
          "2024-09-16",
          "2024-09-17",
          "2024-09-18",
          "2024-09-19",
          "2024-09-20",
          "2024-09-23",
          "2024-09-24",
          "2024-09-25",
          "2024-09-26",
          "2024-09-27",
          "2024-09-30",
          "2024-10-01",
          "2024-10-02",
          "2024-10-03",
          "2024-10-04",
          "2024-10-07",
          "2024-10-08",
          "2024-10-09",
          "2024-10-10",
          "2024-10-11",
          "2024-10-14",
          "2024-10-15",
          "2024-10-16",
          "2024-10-17",
          "2024-10-18",
          "2024-10-21",
          "2024-10-22",
          "2024-10-23",
          "2024-10-24",
          "2024-10-25",
          "2024-10-28",
          "2024-10-29",
          "2024-10-30",
          "2024-10-31",
          "2024-11-01",
          "2024-11-04",
          "2024-11-05",
          "2024-11-06",
          "2024-11-07",
          "2024-11-08",
          "2024-11-11",
          "2024-11-12",
          "2024-11-13",
          "2024-11-14",
          "2024-11-15",
          "2024-11-18",
          "2024-11-19",
          "2024-11-20",
          "2024-11-21",
          "2024-11-22",
          "2024-11-25",
          "2024-11-26",
          "2024-11-27",
          "2024-11-29",
          "2024-12-02",
          "2024-12-03",
          "2024-12-04",
          "2024-12-05",
          "2024-12-06",
          "2024-12-09",
          "2024-12-10",
          "2024-12-11",
          "2024-12-12",
          "2024-12-13",
          "2024-12-16",
          "2024-12-17",
          "2024-12-18",
          "2024-12-19",
          "2024-12-20",
          "2024-12-23",
          "2024-12-24",
          "2024-12-26",
          "2024-12-27",
          "2024-12-30",
          "2024-12-31",
          "2025-01-02",
          "2025-01-03",
          "2025-01-06",
          "2025-01-07",
          "2025-01-08",
          "2025-01-10",
          "2025-01-13",
          "2025-01-14",
          "2025-01-15",
          "2025-01-16",
          "2025-01-17",
          "2025-01-21",
          "2025-01-22",
          "2025-01-23",
          "2025-01-24",
          "2025-01-27",
          "2025-01-28",
          "2025-01-29",
          "2025-01-30",
          "2025-01-31",
          "2025-02-03",
          "2025-02-04",
          "2025-02-05",
          "2025-02-06",
          "2025-02-07",
          "2025-02-10",
          "2025-02-11",
          "2025-02-12",
          "2025-02-13",
          "2025-02-14",
          "2025-02-18",
          "2025-02-19",
          "2025-02-20",
          "2025-02-21",
          "2025-02-24",
          "2025-02-25",
          "2025-02-26",
          "2025-02-27",
          "2025-02-28",
          "2025-03-03",
          "2025-03-04",
          "2025-03-05",
          "2025-03-06",
          "2025-03-07",
          "2025-03-10",
          "2025-03-11",
          "2025-03-12",
          "2025-03-13",
          "2025-03-14",
          "2025-03-17",
          "2025-03-18",
          "2025-03-19",
          "2025-03-20",
          "2025-03-21",
          "2025-03-24",
          "2025-03-25",
          "2025-03-26",
          "2025-03-27",
          "2025-03-28",
          "2025-03-31",
          "2025-04-01",
          "2025-04-02",
          "2025-04-03",
          "2025-04-04",
          "2025-04-07",
          "2025-04-08",
          "2025-04-09",
          "2025-04-10",
          "2025-04-11",
          "2025-04-14",
          "2025-04-15",
          "2025-04-16",
          "2025-04-17"
         ],
         "y": {
          "bdata": "+GaH7f9YF0DnlFs57yQXQOaBGo+DRRdA2KuEFbtBF0Bt3zLLhToXQNxZppp8tRZAyQHeoW27FkC9Ywtxv7YWQNWpTSfXrhZAhpNhSwPUFkAeV/P5IdsWQBvunLjbChdAJaust8yxFkDN2sRB06gWQIEtNgtuRxZAO+YDWB1YFkAwW56A6P8VQJeJ6duA9xVAacKsJ2EwFkA2v/58YvIVQMweZsC0JRZAmr/CWJDdFUAr+J9FAN0VQPTt0JIbmRVAa1XbRPOpFUAohSGVdWAVQIPRTAo2kRVAZR5HvJLaFUAaCJBaCiMWQG0uxLAtIRZA0Oc3IL4IFkAm8qYfijcWQFzxKJiF1BVA0w2cJc/kFUARMaxhbecVQERvdzsf9BVAryQ7qe/qFUC2zOZGecoVQORzxz8NfxVAEh2rczWXFUBfNj0G3c0VQHme7Z1xchVAbBn5uOGDFUAMRMpld98VQD7PAa1a2xVALK+pqOvWFUDrmZNqQAQWQK5IZzj0ABZAunWfN17MFUCcBNsn2bkVQKCHKwCspxVABeO4LVK0FUBKJqzEK84VQPIwNENEyBVA3nhULl3/FUDSikuPFRkWQIBCpFC80xVASiasxCvOFUAMRMpld98VQJ7xPCbw5BVAclW0DnnsFUCyCFarhO4VQL7zjk6AAxZAOjkyN68LFkAnq2q8P2sWQE27EpQ+bRZAED9I9c9eFkDPdMtlozkWQDpPhzPndhZAIJJHik+NFkBOoJAU5sYWQK8ckb1YxxZAai+IZa/SFkAYuvwboOkWQPnn+e627RZASxvizXmnFkCnepelcK8WQMvAooghlhZABTB9IT29FkC5etsh/aEWQDCc7ZDG0BZAgZLoWQDwFkDqq5DL0uYWQI52f4I83hZAaVcER2zaFkAPHOVIPsUWQAmfouWjrRZAr3Le0HvEFkAPgof3ucYWQIjNMZMrwxZA0FTxBDGnFkB3ZbmBgJsWQHGnOBGUgRZAIe2Ertd5FkDeGwLSlX8WQNY2W4mUZRZARVuMX2l1FkBibMakd5cWQGDXl31XqxZAlWVilZTPFkBlAbRupt8WQIONdqFztRZAS+ZkJIvZFkCeGJXXZN0WQDazh2cL3BZA6lHzZCzvFkC245HbC+4WQER5KXlm0xZAOacImPeoFkAVyRE6zXgWQMppwtxTexZAIneJcriUFkByJuEcMqYWQHXxnAX5XRZA9g504ptSFkAiJooHXfYVQEgkWf2tExZABR8125/vFUBiXIESKuQVQFvtSulDoRVA9s59nMKgFUCILbIYp4IVQKaMmpQlhhVA3T9sngybFUBt4hNXtkoVQLqrzG8LkBVAjQgeZvWTFUAxAkGwhpwVQOgRL5YWVhVAyk/O2dx4FUAiYW7pg2kVQJ1BJCc7nhVAzt4gdXKoFUCk7noPf6oVQDdcdJL7uRVA6EqU9ZS1FUA74tBX17YVQJslDCZwexVARQbzPAJ9FUAD7E7EBlcVQAKUUJdqIhVA2KISY+8DFUAC4aj0yLcUQMmEgWPTABVA56dK9qEcFUC+uRtVDwIVQBLG9FKAFBVA/KDrkDfsFEDUuV7ydtcUQDmo1gqrxhRAOSNBfCV+FEC5pDbtg4oUQPJztuCh1xRAhWL66brVFEDaRB7qENYUQJd+O3pMyhRAVltXlvkVFUBWW1eW+RUVQPKNOOzQFhVAVO+7fG7TFEDUmZ80kMQUQL/b/qUboxRAZEaWWZKfFEB5UW9HK8AUQBMJ72TXfRRA6LH1PQpTFEDW5ppYSjgUQOC95dL0PRRAlx70n3UMFEA8n0WwAAoUQDGBrssFtBNAQcyo40+yE0A2PTB0DlMTQP/oqb/sQBNAdaaLFuHEEkBPMYm6NuYSQLBywDzONRNA7XDAmSxBE0DIp9Y4c7sSQGY9gN+g7hJALgIXvXPQEkAJBcWBY+kSQAhqhU9tJBNAE8Us6IccE0BmGFi2gUETQOApUAxURBNAcewWYKs6E0CjBrtvBoQTQCDrxzazbhNAUbYRP9FhE0Ab7l8z8pITQBYSITtP3xNAO26FaU7gE0Dqxr5cJOQTQJlUG1y0ThRA+MZZJ5K5FECm9JwevXYUQLxtTZ9FnhRA4PXq8JPNFEBS4iIOlvMUQC+MZkjY/BRAV2DaW0oWFUDcsP80AyEVQKVbx4EPOBVAFUBQK0lWFUBQlhi+bSEVQBPTdMqoFRVAecmLQMZfFUD3obk+6HcVQEqEjG7eOxVAlzCl/ClbFUD4IlQM7CMVQPYNDOneNRVAlbl/WgU8FUD4oZBtYCEVQDFQcNrQVxVAAwcEeU1OFUDC7qvjjz8VQO8Tca7KARVAuHweSxkmFUCGwGKLSBEVQABznCiJ8BRA/KMEIefQFEAx3pY4f5wUQGRGllmSnxRAd8Z2jbGlFEC3+v+399cUQFih2wUlyBRASeWnQ9HcFECSWhW9U8YUQNqk82np1xRAwCGh0QIlFUC7JsnBIQMVQE9JdBHZCBVA0qS08ij/FED8PjVTqQYVQLcMm+2T+BRAp2VJNacRFUCquJNWBRkVQO29mSH6VhVAtFR80VcWFUBQCgORwwoVQFeVz8KE5BRAL+Wa9vnhFEBDjXu17d4UQNWafi+B6xRA49xEvKfIFEBsfRYpneYUQCvHGPWk4RRA1zUKzt/sFEDzZDxn0d0UQLFJSlPwyBRAIcw9+O9fFEDWIyUK/GwUQAHJZFcrXRRAsVL3zEFRFEC7a6//LCQUQM7d1nkxThRArnXnbjJoFEBSnLCen1gUQMYa+Mb1ThRAjXBn499QFEDGP8UboVQUQL9hJUBrixRA7SR8iciVFEB6G9u87IUUQJZv96o5ghRAwyL0sIKXFECyZzU00X4UQNME5Q7VdBRAiaI40eB1FECDXBJjDKIUQEOLaKG9sxRAUT2PSmLGFEB+QCMo2PYUQHhVZcfl5RRAmxQ1QPTVFECEw1jftN4UQKXkk3XlDRVAHfmQJmY3FUABReZHZ0UVQAc2gu9FVxVAN9osqp12FUDebzeu44cVQM42O2snmRVA8vQYwiCoFUBJSxpeAdYVQHUiRQ/H/hVAC5xEiEcVFkDRsl1zCzkWQDmn2rVqMRZAz8N0k9wtFkBcFrs2Q0AWQEZllgeGdRZAivFuTgI8FkATRVCdIlAWQBFOWK2oMBZArLII/aTwFUAH5Jn11RYWQOyNEKQ4LxZA+y91gz40FkDf3MXfFUUWQKW/3LVdiRZAaKQS6Q2TFkBs8v7ASn0WQOrY++xydRZA8lbCzE1jFkBa38TB/GMWQObpMb1NbBZA/YS9y1CCFkCAwZQbD48WQD1P8olMrxZA1v27L6+5FkCrq5rEZbIWQLURmg1/SRZAuUpYfTc+FkBTlvF7NmEWQLH2F4i5UhZATssx6SBPFkDjLSDeGS0WQGtc3VExVxZAg11cjf1aFkBre1/vV0IWQMu02XSsJhZAKFPp0XQ7FkAVo+lsqiUWQO7NzeTlGxZAxgLTFr8UFkAWTnnTefUVQBjrL1+1AhZAKlrPQGv3FUCN57JVJusVQJhBagSwzRVAiysWWNCsFUB8wUIHcI8VQAOByEzdfRVASdfItEbGFUC0veezss4VQAVnRkKw3hVAOhPbcsXAFUCU9Nr4I+YVQC22bI4g5xVAw/srivgyFkAer9P62jEWQC16Tk+MNhZAjWcpiFQBFkCQTMNGODAWQC0K2WzPHRZAYIp0lw8cFkAhJtI/0A8WQGwCL7hFchZA4Covjy5bFkAZVTrfs2kWQIBeilpwexZAZv+0tkx1FkCx9heIuVIWQBHVgFhsVxZATK0ew0lIFkB8UqmdDy0WQHNcYWfJABZABciXe5IJFkARABCPmv0VQMni1ixO7hVAYmxvQQoHFkCyLaZv4BYWQI2H/jmCHBZA7AjuzakHFkCpRytKskIWQMEUortVPhZAy77rJjlAFkDSfZZk1jwWQAvrWgBMTBZAI4dqx9hJFkDxyjiGrTkWQJMmFaKNGhZAlbxEYOglFkCRBjm+pikWQGXeSqmL9xVAWmCFI5aTFUC/XzmWGG0VQMhIItuHbRVAbMTXT7+CFUDwh8/HK28VQOxFji6NThVAvp0P4S9WFUDUVxbE3iMVQOetj87ENRVAQtKCvw1OFUCc91GhHYwVQG/5wG7jkhVATzrMz6uPFUBxfTPsK50VQHVyj1HZnBVAWJJyMFdjFUCXLwRx3XkVQGEGnPAypBVAZcuNQxDhFUCxiuJvOPgVQKSQxPtz0BVApwi1kI/TFUA00y4JOtkVQKR2YhBI8RVAh8Gz2SrTFUD/IDgVk9gVQHdYb5JP2xVA89+gwnMIFkDfItwIsP0VQBiXCPqD7BVAH2liiCvnFUBU8xfII9kVQJadWsSy5hVAUVfBk3vpFUBQfhZzYPcVQGPFkbZt/BVAckZ2dxDrFUAOpuQ3Vt8VQBSmgvMj6RVAuILMjEQaFkDWhf1pNiQWQDnbpt11HhZAE1gCTyEzFkA/ND6jMQoWQNQjdXo+KBZAs7l7y1MgFkCNtprksjAWQL/eszHLQxZA6E4eS+siFkAn23wmuw8WQF4a4dd7DxZAsAkdG4rlFUDVMZvPTeMVQI+0Z5Vo4RVAUi5xqxfuFUAD6AH2cNYVQB8LM3n80RVA7G7cCCS0FUBOia8d5Y0VQDpJO9ankhVASeWmRyZ+FUBLLeiGkGwVQB++nMkPbhVAxKsA5ZFdFUDwpgNpPF8VQPaDET7NWBVALcPM+3DUFEDapPNp6dcUQMNAy9/zARVAy/FJe3wFFUDVYrH0Pe4UQB253UbK9hRAgVRAUaDxFECOG5+wmcsUQHmdW54y4hRABlrAi9PvFECVwqIalPoUQCORObkDEBVAeFqODNPyFEB+SpKcNNwUQKUFNP359RRAyNnoRMczFUCvWkSQODEVQP7YGOgEERVAtFR80VcWFUAIVpIrISQVQCugUueDBxVABa5kfmYuFUDZ82f5FzAVQEqEjG7eOxVAfnp7wA47FUCOpwHF5z4VQGtznfvg8hRAUbh/+cnJFEDfmjRutrEUQK4oqP3gvRRA8nv0d7qqFEB7OMiF0rgUQEiarCN/txRAMq0UquuHFECERbCx2lwUQC7nRieTYxRAzOlz57GhFEBzw9Na+pIUQGzDunOYrBRAiHwqlOebFEDWWb+CC5AUQLXRbzfHmhRAbNXFBD+4FEApm4XInsQUQMgXWmJarRRAovX0/waqFEDYbnLtjXYUQHzQR7BAgRRAMq7p07iRFEAq4QcM3msUQAifESranBRAOm57z66zFECWXR7BmpUUQDBqQMhlphRANyf041yRFEAfmOoMaFYUQGZKlhpQOhRArTYtmG8vFED7vbmdaQoUQHvIBxyN9hNANxK9nSDTE0AHUea56eUTQJh6viGFWhRAmDGyKSSMFEDR8aWItIAUQItqo/aMEhVAJzF/UxTYFECpwrDqh8UUQLsdOwulxRRApZQY11XMFEBAtm2oUOAUQAwSPYANuRRA3/NW4xmnFEC52roQ25YUQB13vcTMgRRAko2YFmGWFEC6PX/njbcUQMlZgFPQohRAMYjF3s2nFEDg1mz9CLcUQG31z75yqBRAz1qeZnbqFECvu4KhNsYUQGH41WNXoRRATXOoTkHBFEBLwukS7rIUQFq9OjOurxRAc2FFV66+FECQvRBCm7oUQHGWV/FCsBRAUelH5WSnFEAwXYOnvagUQJJ0xhbNuRRAuPlDiCa3FEA/exLSoqEUQAyBsIIGjxRAQubYvg22FEDEEb44i9MUQKbmmzE0uhRA1jN40g/vFEBJ68iA3uAUQB6sggt7zhRAFrHK3JHWFEAAu2E0KdQUQJpMKuyR7hRAiKaEfLgeFUAkqvNyLiQVQN4Fl4yQJhVAOfDoVcFiFUAOz0YJMMYVQHDSLOUUBxZAg19U3C4cFkCG/Z+t8iEWQB6OQBNGRxZAf3O5xeVKFkCRAcI8j/AVQFXrHUWzDhZAShzIk7sgFkCHu0nPfzAWQCEm0j/QDxZAVReNM9ESFkBPy0RWwegVQPPrJHAkHBZAYmxvQQoHFkAw3qjYPIAVQE4xQNI8lBVApTurrSSSFUAWY4V95skVQKJmlI0ynxVAtTPUmsTJFUAkptGhWoQVQEUBvlkDWBVA5Oa6+bkrFUAfRRShvzQVQH95WftkBhVAU7oDP4UrFUBTnJQbejEVQGf8ymGLJBVA9oMRPs1YFUBwwoawhDgVQHWNQtttdxVAOyH5k9qAFUCsJNdHqJ8VQAtDuI0umBVAI1vF1i6iFUAd7ea+pmYVQKoKch+QlBVAVBrj5fhyFUA98twilF8VQET/9nCAThVAaGw31yJRFUBon/cgSXcVQOZlShJcZhVAiT/xIVOQFUBaNaWMWcEVQEQpvNb9ZhVArnlRdZCBFUDzSTfXZa8VQF8UWM47uBVA2X8YOL+/FUDx9vwu4sEVQO0K9+knshVAARCv3hC3FUB0kKb1DLQVQKBhTbTD/BVA4tbqI67kFUAkcdHZ+RUWQLHIjXZRJxZAHFiVZlUyFkC3puDoHScWQMuKe7XyPxZASEf3oolEFkBMLp5bTzYWQOPmGzr0ERZA/Xo5hPzuFUC+KDi5TRYWQHANkqC17xVAAM9FTDL/FUCssgj9pPAVQHlX3Krp5hVAhFXadsiIFUCaPzVFKI8VQKPTyzkSkRVAeo6mGz+ZFUASHatzNZcVQP9/sd5TlhVA9RoUNbWNFUBgvRP/lIkVQKFQR1MVdRVA4lVj1gZAFkCFfqwctWEWQHQUyuL5RxZAzCCI6z48FkDoSAppcTQWQE5RaoRcFRZAnI2RHcoRFkCxiuJvOPgVQFMy4HfbGxZApignFsGoFkCdc6dEEsYWQMu3RkOoFhdAbaRiB4ZuF0DyLa4Vky0XQKWb+uwDMxdAH8HW8yP2FkA1TIvmDxUXQCV5MtcJTRdAxcGj2MBiF0AtHLSe71YXQIttoGjBTxdA6wpgcvx1F0Cc36K7lUwXQMKjVN1+SxdAaoKyGDM7F0CqGEynQ2AXQEy1Rj8PgxdA06LNbqtyF0CPzk0td4UXQKWRwL8DphdAfLT+wUjbF0BGb9hgyNwXQLEPsHzK+RdAP2Vi9cg0GECwPHbzkyQYQLFY4bILUBhAT0DzpBONGEB2+LyDqLEYQByTCeooWRhAHSnzo+dPGEBEkJBMzSsYQMCR5m++QhhAZ8SOWXCLGEDA+D6GOXkYQD7mifVCRRhApN2t+OIiGEAdCNIPCwEYQNMYfBbLwBdAk95IraQRGECBDRr9KRMYQGzPIvK36BdAKnskNTnqF0A2ajNstOkXQGMmPcyy/xdAwb4sDebtF0Cm5taAET0YQJAEApwKGhhAWebEcvI4GEAmAhCaGDMYQHsm54Q6HRhAMCQX0XgWGEAkU7eq9wcYQOMSQAXw7xdAJ/Eev1vyF0BdBIvs99oXQIY2Oev59xdAw7KL7/cCGEDM/2eymswXQDIERNwe4xdAQ+zgxcq9F0ACimhPULMXQAD3YNv3jxdAuyKJN6hwF0AuapkQmy0XQD7YJWJGRhdADoD9p8F/F0Ds71v/d38XQNziHWp6ehdA67BkUfaMF0D/HrwCUXsXQET/7GExShdABDK3BuozF0CTKd+uL9oWQAHpxmzHsBZAsNSImiGRFkCSHCZGbbgWQIdynv7jmhZAY/az7H1sFkBsCatSuoYWQGr/D+aiSxZAUrQ4nZlIFkASxyuGCJ0VQBO3yhYswxVA9VqBYR8OFkDVqg9NEu8VQMHt5ODkFRZAtTEN8KXjFUCaM8Qmf6sVQIHQXStb2hVAxQRSXhfcFUB5dpavrRAWQJ/jg5sehBZASAQjg16nFkBreEUykWwWQHN9zyyWcBZAcodSYgZMFkBPxBMH0zoWQJv8A0HtXhZAg/zQnxGUFkDd1s95aloWQBr9BEe96RVATjtbGCPPFUClkmYXspsVQKgtGQ8YbRZAsZUvbsIfFkB3S3PwZB8WQE9PuH6OHxZAy7TZdKwmFkAo/f0txPIVQIDF+pxj+BVA",
          "dtype": "f8"
         }
        },
        {
         "mode": "lines",
         "name": "RIVN",
         "type": "scatter",
         "x": [
          "2022-04-19",
          "2022-04-20",
          "2022-04-21",
          "2022-04-22",
          "2022-04-25",
          "2022-04-26",
          "2022-04-27",
          "2022-04-28",
          "2022-04-29",
          "2022-05-02",
          "2022-05-03",
          "2022-05-04",
          "2022-05-05",
          "2022-05-06",
          "2022-05-09",
          "2022-05-10",
          "2022-05-11",
          "2022-05-12",
          "2022-05-13",
          "2022-05-16",
          "2022-05-17",
          "2022-05-18",
          "2022-05-19",
          "2022-05-20",
          "2022-05-23",
          "2022-05-24",
          "2022-05-25",
          "2022-05-26",
          "2022-05-27",
          "2022-05-31",
          "2022-06-01",
          "2022-06-02",
          "2022-06-03",
          "2022-06-06",
          "2022-06-07",
          "2022-06-08",
          "2022-06-09",
          "2022-06-10",
          "2022-06-13",
          "2022-06-14",
          "2022-06-15",
          "2022-06-16",
          "2022-06-17",
          "2022-06-21",
          "2022-06-22",
          "2022-06-23",
          "2022-06-24",
          "2022-06-27",
          "2022-06-28",
          "2022-06-29",
          "2022-06-30",
          "2022-07-01",
          "2022-07-05",
          "2022-07-06",
          "2022-07-07",
          "2022-07-08",
          "2022-07-11",
          "2022-07-12",
          "2022-07-13",
          "2022-07-14",
          "2022-07-15",
          "2022-07-18",
          "2022-07-19",
          "2022-07-20",
          "2022-07-21",
          "2022-07-22",
          "2022-07-25",
          "2022-07-26",
          "2022-07-27",
          "2022-07-28",
          "2022-07-29",
          "2022-08-01",
          "2022-08-02",
          "2022-08-03",
          "2022-08-04",
          "2022-08-05",
          "2022-08-08",
          "2022-08-09",
          "2022-08-10",
          "2022-08-11",
          "2022-08-12",
          "2022-08-15",
          "2022-08-16",
          "2022-08-17",
          "2022-08-18",
          "2022-08-19",
          "2022-08-22",
          "2022-08-23",
          "2022-08-24",
          "2022-08-25",
          "2022-08-26",
          "2022-08-29",
          "2022-08-30",
          "2022-08-31",
          "2022-09-01",
          "2022-09-02",
          "2022-09-06",
          "2022-09-07",
          "2022-09-08",
          "2022-09-09",
          "2022-09-12",
          "2022-09-13",
          "2022-09-14",
          "2022-09-15",
          "2022-09-16",
          "2022-09-19",
          "2022-09-20",
          "2022-09-21",
          "2022-09-22",
          "2022-09-23",
          "2022-09-26",
          "2022-09-27",
          "2022-09-28",
          "2022-09-29",
          "2022-09-30",
          "2022-10-03",
          "2022-10-04",
          "2022-10-05",
          "2022-10-06",
          "2022-10-07",
          "2022-10-10",
          "2022-10-11",
          "2022-10-12",
          "2022-10-13",
          "2022-10-14",
          "2022-10-17",
          "2022-10-18",
          "2022-10-19",
          "2022-10-20",
          "2022-10-21",
          "2022-10-24",
          "2022-10-25",
          "2022-10-26",
          "2022-10-27",
          "2022-10-28",
          "2022-10-31",
          "2022-11-01",
          "2022-11-02",
          "2022-11-03",
          "2022-11-04",
          "2022-11-07",
          "2022-11-08",
          "2022-11-09",
          "2022-11-10",
          "2022-11-11",
          "2022-11-14",
          "2022-11-15",
          "2022-11-16",
          "2022-11-17",
          "2022-11-18",
          "2022-11-21",
          "2022-11-22",
          "2022-11-23",
          "2022-11-25",
          "2022-11-28",
          "2022-11-29",
          "2022-11-30",
          "2022-12-01",
          "2022-12-02",
          "2022-12-05",
          "2022-12-06",
          "2022-12-07",
          "2022-12-08",
          "2022-12-09",
          "2022-12-12",
          "2022-12-13",
          "2022-12-14",
          "2022-12-15",
          "2022-12-16",
          "2022-12-19",
          "2022-12-20",
          "2022-12-21",
          "2022-12-22",
          "2022-12-23",
          "2022-12-27",
          "2022-12-28",
          "2022-12-29",
          "2022-12-30",
          "2023-01-03",
          "2023-01-04",
          "2023-01-05",
          "2023-01-06",
          "2023-01-09",
          "2023-01-10",
          "2023-01-11",
          "2023-01-12",
          "2023-01-13",
          "2023-01-17",
          "2023-01-18",
          "2023-01-19",
          "2023-01-20",
          "2023-01-23",
          "2023-01-24",
          "2023-01-25",
          "2023-01-26",
          "2023-01-27",
          "2023-01-30",
          "2023-01-31",
          "2023-02-01",
          "2023-02-02",
          "2023-02-03",
          "2023-02-06",
          "2023-02-07",
          "2023-02-08",
          "2023-02-09",
          "2023-02-10",
          "2023-02-13",
          "2023-02-14",
          "2023-02-15",
          "2023-02-16",
          "2023-02-17",
          "2023-02-21",
          "2023-02-22",
          "2023-02-23",
          "2023-02-24",
          "2023-02-27",
          "2023-02-28",
          "2023-03-01",
          "2023-03-02",
          "2023-03-03",
          "2023-03-06",
          "2023-03-07",
          "2023-03-08",
          "2023-03-09",
          "2023-03-10",
          "2023-03-13",
          "2023-03-14",
          "2023-03-15",
          "2023-03-16",
          "2023-03-17",
          "2023-03-20",
          "2023-03-21",
          "2023-03-22",
          "2023-03-23",
          "2023-03-24",
          "2023-03-27",
          "2023-03-28",
          "2023-03-29",
          "2023-03-30",
          "2023-03-31",
          "2023-04-03",
          "2023-04-04",
          "2023-04-05",
          "2023-04-06",
          "2023-04-10",
          "2023-04-11",
          "2023-04-12",
          "2023-04-13",
          "2023-04-14",
          "2023-04-17",
          "2023-04-18",
          "2023-04-19",
          "2023-04-20",
          "2023-04-21",
          "2023-04-24",
          "2023-04-25",
          "2023-04-26",
          "2023-04-27",
          "2023-04-28",
          "2023-05-01",
          "2023-05-02",
          "2023-05-03",
          "2023-05-04",
          "2023-05-05",
          "2023-05-08",
          "2023-05-09",
          "2023-05-10",
          "2023-05-11",
          "2023-05-12",
          "2023-05-15",
          "2023-05-16",
          "2023-05-17",
          "2023-05-18",
          "2023-05-19",
          "2023-05-22",
          "2023-05-23",
          "2023-05-24",
          "2023-05-25",
          "2023-05-26",
          "2023-05-30",
          "2023-05-31",
          "2023-06-01",
          "2023-06-02",
          "2023-06-05",
          "2023-06-06",
          "2023-06-07",
          "2023-06-08",
          "2023-06-09",
          "2023-06-12",
          "2023-06-13",
          "2023-06-14",
          "2023-06-15",
          "2023-06-16",
          "2023-06-20",
          "2023-06-21",
          "2023-06-22",
          "2023-06-23",
          "2023-06-26",
          "2023-06-27",
          "2023-06-28",
          "2023-06-29",
          "2023-06-30",
          "2023-07-03",
          "2023-07-05",
          "2023-07-06",
          "2023-07-07",
          "2023-07-10",
          "2023-07-11",
          "2023-07-12",
          "2023-07-13",
          "2023-07-14",
          "2023-07-17",
          "2023-07-18",
          "2023-07-19",
          "2023-07-20",
          "2023-07-21",
          "2023-07-24",
          "2023-07-25",
          "2023-07-26",
          "2023-07-27",
          "2023-07-28",
          "2023-07-31",
          "2023-08-01",
          "2023-08-02",
          "2023-08-03",
          "2023-08-04",
          "2023-08-07",
          "2023-08-08",
          "2023-08-09",
          "2023-08-10",
          "2023-08-11",
          "2023-08-14",
          "2023-08-15",
          "2023-08-16",
          "2023-08-17",
          "2023-08-18",
          "2023-08-21",
          "2023-08-22",
          "2023-08-23",
          "2023-08-24",
          "2023-08-25",
          "2023-08-28",
          "2023-08-29",
          "2023-08-30",
          "2023-08-31",
          "2023-09-01",
          "2023-09-05",
          "2023-09-06",
          "2023-09-07",
          "2023-09-08",
          "2023-09-11",
          "2023-09-12",
          "2023-09-13",
          "2023-09-14",
          "2023-09-15",
          "2023-09-18",
          "2023-09-19",
          "2023-09-20",
          "2023-09-21",
          "2023-09-22",
          "2023-09-25",
          "2023-09-26",
          "2023-09-27",
          "2023-09-28",
          "2023-09-29",
          "2023-10-02",
          "2023-10-03",
          "2023-10-04",
          "2023-10-05",
          "2023-10-06",
          "2023-10-09",
          "2023-10-10",
          "2023-10-11",
          "2023-10-12",
          "2023-10-13",
          "2023-10-16",
          "2023-10-17",
          "2023-10-18",
          "2023-10-19",
          "2023-10-20",
          "2023-10-23",
          "2023-10-24",
          "2023-10-25",
          "2023-10-26",
          "2023-10-27",
          "2023-10-30",
          "2023-10-31",
          "2023-11-01",
          "2023-11-02",
          "2023-11-03",
          "2023-11-06",
          "2023-11-07",
          "2023-11-08",
          "2023-11-09",
          "2023-11-10",
          "2023-11-13",
          "2023-11-14",
          "2023-11-15",
          "2023-11-16",
          "2023-11-17",
          "2023-11-20",
          "2023-11-21",
          "2023-11-22",
          "2023-11-24",
          "2023-11-27",
          "2023-11-28",
          "2023-11-29",
          "2023-11-30",
          "2023-12-01",
          "2023-12-04",
          "2023-12-05",
          "2023-12-06",
          "2023-12-07",
          "2023-12-08",
          "2023-12-11",
          "2023-12-12",
          "2023-12-13",
          "2023-12-14",
          "2023-12-15",
          "2023-12-18",
          "2023-12-19",
          "2023-12-20",
          "2023-12-21",
          "2023-12-22",
          "2023-12-26",
          "2023-12-27",
          "2023-12-28",
          "2023-12-29",
          "2024-01-02",
          "2024-01-03",
          "2024-01-04",
          "2024-01-05",
          "2024-01-08",
          "2024-01-09",
          "2024-01-10",
          "2024-01-11",
          "2024-01-12",
          "2024-01-16",
          "2024-01-17",
          "2024-01-18",
          "2024-01-19",
          "2024-01-22",
          "2024-01-23",
          "2024-01-24",
          "2024-01-25",
          "2024-01-26",
          "2024-01-29",
          "2024-01-30",
          "2024-01-31",
          "2024-02-01",
          "2024-02-02",
          "2024-02-05",
          "2024-02-06",
          "2024-02-07",
          "2024-02-08",
          "2024-02-09",
          "2024-02-12",
          "2024-02-13",
          "2024-02-14",
          "2024-02-15",
          "2024-02-16",
          "2024-02-20",
          "2024-02-21",
          "2024-02-22",
          "2024-02-23",
          "2024-02-26",
          "2024-02-27",
          "2024-02-28",
          "2024-02-29",
          "2024-03-01",
          "2024-03-04",
          "2024-03-05",
          "2024-03-06",
          "2024-03-07",
          "2024-03-08",
          "2024-03-11",
          "2024-03-12",
          "2024-03-13",
          "2024-03-14",
          "2024-03-15",
          "2024-03-18",
          "2024-03-19",
          "2024-03-20",
          "2024-03-21",
          "2024-03-22",
          "2024-03-25",
          "2024-03-26",
          "2024-03-27",
          "2024-03-28",
          "2024-04-01",
          "2024-04-02",
          "2024-04-03",
          "2024-04-04",
          "2024-04-05",
          "2024-04-08",
          "2024-04-09",
          "2024-04-10",
          "2024-04-11",
          "2024-04-12",
          "2024-04-15",
          "2024-04-16",
          "2024-04-17",
          "2024-04-18",
          "2024-04-19",
          "2024-04-22",
          "2024-04-23",
          "2024-04-24",
          "2024-04-25",
          "2024-04-26",
          "2024-04-29",
          "2024-04-30",
          "2024-05-01",
          "2024-05-02",
          "2024-05-03",
          "2024-05-06",
          "2024-05-07",
          "2024-05-08",
          "2024-05-09",
          "2024-05-10",
          "2024-05-13",
          "2024-05-14",
          "2024-05-15",
          "2024-05-16",
          "2024-05-17",
          "2024-05-20",
          "2024-05-21",
          "2024-05-22",
          "2024-05-23",
          "2024-05-24",
          "2024-05-28",
          "2024-05-29",
          "2024-05-30",
          "2024-05-31",
          "2024-06-03",
          "2024-06-04",
          "2024-06-05",
          "2024-06-06",
          "2024-06-07",
          "2024-06-10",
          "2024-06-11",
          "2024-06-12",
          "2024-06-13",
          "2024-06-14",
          "2024-06-17",
          "2024-06-18",
          "2024-06-20",
          "2024-06-21",
          "2024-06-24",
          "2024-06-25",
          "2024-06-26",
          "2024-06-27",
          "2024-06-28",
          "2024-07-01",
          "2024-07-02",
          "2024-07-03",
          "2024-07-05",
          "2024-07-08",
          "2024-07-09",
          "2024-07-10",
          "2024-07-11",
          "2024-07-12",
          "2024-07-15",
          "2024-07-16",
          "2024-07-17",
          "2024-07-18",
          "2024-07-19",
          "2024-07-22",
          "2024-07-23",
          "2024-07-24",
          "2024-07-25",
          "2024-07-26",
          "2024-07-29",
          "2024-07-30",
          "2024-07-31",
          "2024-08-01",
          "2024-08-02",
          "2024-08-05",
          "2024-08-06",
          "2024-08-07",
          "2024-08-08",
          "2024-08-09",
          "2024-08-12",
          "2024-08-13",
          "2024-08-14",
          "2024-08-15",
          "2024-08-16",
          "2024-08-19",
          "2024-08-20",
          "2024-08-21",
          "2024-08-22",
          "2024-08-23",
          "2024-08-26",
          "2024-08-27",
          "2024-08-28",
          "2024-08-29",
          "2024-08-30",
          "2024-09-03",
          "2024-09-04",
          "2024-09-05",
          "2024-09-06",
          "2024-09-09",
          "2024-09-10",
          "2024-09-11",
          "2024-09-12",
          "2024-09-13",
          "2024-09-16",
          "2024-09-17",
          "2024-09-18",
          "2024-09-19",
          "2024-09-20",
          "2024-09-23",
          "2024-09-24",
          "2024-09-25",
          "2024-09-26",
          "2024-09-27",
          "2024-09-30",
          "2024-10-01",
          "2024-10-02",
          "2024-10-03",
          "2024-10-04",
          "2024-10-07",
          "2024-10-08",
          "2024-10-09",
          "2024-10-10",
          "2024-10-11",
          "2024-10-14",
          "2024-10-15",
          "2024-10-16",
          "2024-10-17",
          "2024-10-18",
          "2024-10-21",
          "2024-10-22",
          "2024-10-23",
          "2024-10-24",
          "2024-10-25",
          "2024-10-28",
          "2024-10-29",
          "2024-10-30",
          "2024-10-31",
          "2024-11-01",
          "2024-11-04",
          "2024-11-05",
          "2024-11-06",
          "2024-11-07",
          "2024-11-08",
          "2024-11-11",
          "2024-11-12",
          "2024-11-13",
          "2024-11-14",
          "2024-11-15",
          "2024-11-18",
          "2024-11-19",
          "2024-11-20",
          "2024-11-21",
          "2024-11-22",
          "2024-11-25",
          "2024-11-26",
          "2024-11-27",
          "2024-11-29",
          "2024-12-02",
          "2024-12-03",
          "2024-12-04",
          "2024-12-05",
          "2024-12-06",
          "2024-12-09",
          "2024-12-10",
          "2024-12-11",
          "2024-12-12",
          "2024-12-13",
          "2024-12-16",
          "2024-12-17",
          "2024-12-18",
          "2024-12-19",
          "2024-12-20",
          "2024-12-23",
          "2024-12-24",
          "2024-12-26",
          "2024-12-27",
          "2024-12-30",
          "2024-12-31",
          "2025-01-02",
          "2025-01-03",
          "2025-01-06",
          "2025-01-07",
          "2025-01-08",
          "2025-01-10",
          "2025-01-13",
          "2025-01-14",
          "2025-01-15",
          "2025-01-16",
          "2025-01-17",
          "2025-01-21",
          "2025-01-22",
          "2025-01-23",
          "2025-01-24",
          "2025-01-27",
          "2025-01-28",
          "2025-01-29",
          "2025-01-30",
          "2025-01-31",
          "2025-02-03",
          "2025-02-04",
          "2025-02-05",
          "2025-02-06",
          "2025-02-07",
          "2025-02-10",
          "2025-02-11",
          "2025-02-12",
          "2025-02-13",
          "2025-02-14",
          "2025-02-18",
          "2025-02-19",
          "2025-02-20",
          "2025-02-21",
          "2025-02-24",
          "2025-02-25",
          "2025-02-26",
          "2025-02-27",
          "2025-02-28",
          "2025-03-03",
          "2025-03-04",
          "2025-03-05",
          "2025-03-06",
          "2025-03-07",
          "2025-03-10",
          "2025-03-11",
          "2025-03-12",
          "2025-03-13",
          "2025-03-14",
          "2025-03-17",
          "2025-03-18",
          "2025-03-19",
          "2025-03-20",
          "2025-03-21",
          "2025-03-24",
          "2025-03-25",
          "2025-03-26",
          "2025-03-27",
          "2025-03-28",
          "2025-03-31",
          "2025-04-01",
          "2025-04-02",
          "2025-04-03",
          "2025-04-04",
          "2025-04-07",
          "2025-04-08",
          "2025-04-09",
          "2025-04-10",
          "2025-04-11",
          "2025-04-14",
          "2025-04-15",
          "2025-04-16",
          "2025-04-17"
         ],
         "y": {
          "bdata": "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",
          "dtype": "f8"
         }
        }
       ],
       "layout": {
        "legend": {
         "x": 0,
         "y": 1
        },
        "template": {
         "data": {
          "bar": [
           {
            "error_x": {
             "color": "#2a3f5f"
            },
            "error_y": {
             "color": "#2a3f5f"
            },
            "marker": {
             "line": {
              "color": "#E5ECF6",
              "width": 0.5
             },
             "pattern": {
              "fillmode": "overlay",
              "size": 10,
              "solidity": 0.2
             }
            },
            "type": "bar"
           }
          ],
          "barpolar": [
           {
            "marker": {
             "line": {
              "color": "#E5ECF6",
              "width": 0.5
             },
             "pattern": {
              "fillmode": "overlay",
              "size": 10,
              "solidity": 0.2
             }
            },
            "type": "barpolar"
           }
          ],
          "carpet": [
           {
            "aaxis": {
             "endlinecolor": "#2a3f5f",
             "gridcolor": "white",
             "linecolor": "white",
             "minorgridcolor": "white",
             "startlinecolor": "#2a3f5f"
            },
            "baxis": {
             "endlinecolor": "#2a3f5f",
             "gridcolor": "white",
             "linecolor": "white",
             "minorgridcolor": "white",
             "startlinecolor": "#2a3f5f"
            },
            "type": "carpet"
           }
          ],
          "choropleth": [
           {
            "colorbar": {
             "outlinewidth": 0,
             "ticks": ""
            },
            "type": "choropleth"
           }
          ],
          "contour": [
           {
            "colorbar": {
             "outlinewidth": 0,
             "ticks": ""
            },
            "colorscale": [
             [
              0,
              "#0d0887"
             ],
             [
              0.1111111111111111,
              "#46039f"
             ],
             [
              0.2222222222222222,
              "#7201a8"
             ],
             [
              0.3333333333333333,
              "#9c179e"
             ],
             [
              0.4444444444444444,
              "#bd3786"
             ],
             [
              0.5555555555555556,
              "#d8576b"
             ],
             [
              0.6666666666666666,
              "#ed7953"
             ],
             [
              0.7777777777777778,
              "#fb9f3a"
             ],
             [
              0.8888888888888888,
              "#fdca26"
             ],
             [
              1,
              "#f0f921"
             ]
            ],
            "type": "contour"
           }
          ],
          "contourcarpet": [
           {
            "colorbar": {
             "outlinewidth": 0,
             "ticks": ""
            },
            "type": "contourcarpet"
           }
          ],
          "heatmap": [
           {
            "colorbar": {
             "outlinewidth": 0,
             "ticks": ""
            },
            "colorscale": [
             [
              0,
              "#0d0887"
             ],
             [
              0.1111111111111111,
              "#46039f"
             ],
             [
              0.2222222222222222,
              "#7201a8"
             ],
             [
              0.3333333333333333,
              "#9c179e"
             ],
             [
              0.4444444444444444,
              "#bd3786"
             ],
             [
              0.5555555555555556,
              "#d8576b"
             ],
             [
              0.6666666666666666,
              "#ed7953"
             ],
             [
              0.7777777777777778,
              "#fb9f3a"
             ],
             [
              0.8888888888888888,
              "#fdca26"
             ],
             [
              1,
              "#f0f921"
             ]
            ],
            "type": "heatmap"
           }
          ],
          "histogram": [
           {
            "marker": {
             "pattern": {
              "fillmode": "overlay",
              "size": 10,
              "solidity": 0.2
             }
            },
            "type": "histogram"
           }
          ],
          "histogram2d": [
           {
            "colorbar": {
             "outlinewidth": 0,
             "ticks": ""
            },
            "colorscale": [
             [
              0,
              "#0d0887"
             ],
             [
              0.1111111111111111,
              "#46039f"
             ],
             [
              0.2222222222222222,
              "#7201a8"
             ],
             [
              0.3333333333333333,
              "#9c179e"
             ],
             [
              0.4444444444444444,
              "#bd3786"
             ],
             [
              0.5555555555555556,
              "#d8576b"
             ],
             [
              0.6666666666666666,
              "#ed7953"
             ],
             [
              0.7777777777777778,
              "#fb9f3a"
             ],
             [
              0.8888888888888888,
              "#fdca26"
             ],
             [
              1,
              "#f0f921"
             ]
            ],
            "type": "histogram2d"
           }
          ],
          "histogram2dcontour": [
           {
            "colorbar": {
             "outlinewidth": 0,
             "ticks": ""
            },
            "colorscale": [
             [
              0,
              "#0d0887"
             ],
             [
              0.1111111111111111,
              "#46039f"
             ],
             [
              0.2222222222222222,
              "#7201a8"
             ],
             [
              0.3333333333333333,
              "#9c179e"
             ],
             [
              0.4444444444444444,
              "#bd3786"
             ],
             [
              0.5555555555555556,
              "#d8576b"
             ],
             [
              0.6666666666666666,
              "#ed7953"
             ],
             [
              0.7777777777777778,
              "#fb9f3a"
             ],
             [
              0.8888888888888888,
              "#fdca26"
             ],
             [
              1,
              "#f0f921"
             ]
            ],
            "type": "histogram2dcontour"
           }
          ],
          "mesh3d": [
           {
            "colorbar": {
             "outlinewidth": 0,
             "ticks": ""
            },
            "type": "mesh3d"
           }
          ],
          "parcoords": [
           {
            "line": {
             "colorbar": {
              "outlinewidth": 0,
              "ticks": ""
             }
            },
            "type": "parcoords"
           }
          ],
          "pie": [
           {
            "automargin": true,
            "type": "pie"
           }
          ],
          "scatter": [
           {
            "fillpattern": {
             "fillmode": "overlay",
             "size": 10,
             "solidity": 0.2
            },
            "type": "scatter"
           }
          ],
          "scatter3d": [
           {
            "line": {
             "colorbar": {
              "outlinewidth": 0,
              "ticks": ""
             }
            },
            "marker": {
             "colorbar": {
              "outlinewidth": 0,
              "ticks": ""
             }
            },
            "type": "scatter3d"
           }
          ],
          "scattercarpet": [
           {
            "marker": {
             "colorbar": {
              "outlinewidth": 0,
              "ticks": ""
             }
            },
            "type": "scattercarpet"
           }
          ],
          "scattergeo": [
           {
            "marker": {
             "colorbar": {
              "outlinewidth": 0,
              "ticks": ""
             }
            },
            "type": "scattergeo"
           }
          ],
          "scattergl": [
           {
            "marker": {
             "colorbar": {
              "outlinewidth": 0,
              "ticks": ""
             }
            },
            "type": "scattergl"
           }
          ],
          "scattermap": [
           {
            "marker": {
             "colorbar": {
              "outlinewidth": 0,
              "ticks": ""
             }
            },
            "type": "scattermap"
           }
          ],
          "scattermapbox": [
           {
            "marker": {
             "colorbar": {
              "outlinewidth": 0,
              "ticks": ""
             }
            },
            "type": "scattermapbox"
           }
          ],
          "scatterpolar": [
           {
            "marker": {
             "colorbar": {
              "outlinewidth": 0,
              "ticks": ""
             }
            },
            "type": "scatterpolar"
           }
          ],
          "scatterpolargl": [
           {
            "marker": {
             "colorbar": {
              "outlinewidth": 0,
              "ticks": ""
             }
            },
            "type": "scatterpolargl"
           }
          ],
          "scatterternary": [
           {
            "marker": {
             "colorbar": {
              "outlinewidth": 0,
              "ticks": ""
             }
            },
            "type": "scatterternary"
           }
          ],
          "surface": [
           {
            "colorbar": {
             "outlinewidth": 0,
             "ticks": ""
            },
            "colorscale": [
             [
              0,
              "#0d0887"
             ],
             [
              0.1111111111111111,
              "#46039f"
             ],
             [
              0.2222222222222222,
              "#7201a8"
             ],
             [
              0.3333333333333333,
              "#9c179e"
             ],
             [
              0.4444444444444444,
              "#bd3786"
             ],
             [
              0.5555555555555556,
              "#d8576b"
             ],
             [
              0.6666666666666666,
              "#ed7953"
             ],
             [
              0.7777777777777778,
              "#fb9f3a"
             ],
             [
              0.8888888888888888,
              "#fdca26"
             ],
             [
              1,
              "#f0f921"
             ]
            ],
            "type": "surface"
           }
          ],
          "table": [
           {
            "cells": {
             "fill": {
              "color": "#EBF0F8"
             },
             "line": {
              "color": "white"
             }
            },
            "header": {
             "fill": {
              "color": "#C8D4E3"
             },
             "line": {
              "color": "white"
             }
            },
            "type": "table"
           }
          ]
         },
         "layout": {
          "annotationdefaults": {
           "arrowcolor": "#2a3f5f",
           "arrowhead": 0,
           "arrowwidth": 1
          },
          "autotypenumbers": "strict",
          "coloraxis": {
           "colorbar": {
            "outlinewidth": 0,
            "ticks": ""
           }
          },
          "colorscale": {
           "diverging": [
            [
             0,
             "#8e0152"
            ],
            [
             0.1,
             "#c51b7d"
            ],
            [
             0.2,
             "#de77ae"
            ],
            [
             0.3,
             "#f1b6da"
            ],
            [
             0.4,
             "#fde0ef"
            ],
            [
             0.5,
             "#f7f7f7"
            ],
            [
             0.6,
             "#e6f5d0"
            ],
            [
             0.7,
             "#b8e186"
            ],
            [
             0.8,
             "#7fbc41"
            ],
            [
             0.9,
             "#4d9221"
            ],
            [
             1,
             "#276419"
            ]
           ],
           "sequential": [
            [
             0,
             "#0d0887"
            ],
            [
             0.1111111111111111,
             "#46039f"
            ],
            [
             0.2222222222222222,
             "#7201a8"
            ],
            [
             0.3333333333333333,
             "#9c179e"
            ],
            [
             0.4444444444444444,
             "#bd3786"
            ],
            [
             0.5555555555555556,
             "#d8576b"
            ],
            [
             0.6666666666666666,
             "#ed7953"
            ],
            [
             0.7777777777777778,
             "#fb9f3a"
            ],
            [
             0.8888888888888888,
             "#fdca26"
            ],
            [
             1,
             "#f0f921"
            ]
           ],
           "sequentialminus": [
            [
             0,
             "#0d0887"
            ],
            [
             0.1111111111111111,
             "#46039f"
            ],
            [
             0.2222222222222222,
             "#7201a8"
            ],
            [
             0.3333333333333333,
             "#9c179e"
            ],
            [
             0.4444444444444444,
             "#bd3786"
            ],
            [
             0.5555555555555556,
             "#d8576b"
            ],
            [
             0.6666666666666666,
             "#ed7953"
            ],
            [
             0.7777777777777778,
             "#fb9f3a"
            ],
            [
             0.8888888888888888,
             "#fdca26"
            ],
            [
             1,
             "#f0f921"
            ]
           ]
          },
          "colorway": [
           "#636efa",
           "#EF553B",
           "#00cc96",
           "#ab63fa",
           "#FFA15A",
           "#19d3f3",
           "#FF6692",
           "#B6E880",
           "#FF97FF",
           "#FECB52"
          ],
          "font": {
           "color": "#2a3f5f"
          },
          "geo": {
           "bgcolor": "white",
           "lakecolor": "white",
           "landcolor": "#E5ECF6",
           "showlakes": true,
           "showland": true,
           "subunitcolor": "white"
          },
          "hoverlabel": {
           "align": "left"
          },
          "hovermode": "closest",
          "mapbox": {
           "style": "light"
          },
          "paper_bgcolor": "white",
          "plot_bgcolor": "#E5ECF6",
          "polar": {
           "angularaxis": {
            "gridcolor": "white",
            "linecolor": "white",
            "ticks": ""
           },
           "bgcolor": "#E5ECF6",
           "radialaxis": {
            "gridcolor": "white",
            "linecolor": "white",
            "ticks": ""
           }
          },
          "scene": {
           "xaxis": {
            "backgroundcolor": "#E5ECF6",
            "gridcolor": "white",
            "gridwidth": 2,
            "linecolor": "white",
            "showbackground": true,
            "ticks": "",
            "zerolinecolor": "white"
           },
           "yaxis": {
            "backgroundcolor": "#E5ECF6",
            "gridcolor": "white",
            "gridwidth": 2,
            "linecolor": "white",
            "showbackground": true,
            "ticks": "",
            "zerolinecolor": "white"
           },
           "zaxis": {
            "backgroundcolor": "#E5ECF6",
            "gridcolor": "white",
            "gridwidth": 2,
            "linecolor": "white",
            "showbackground": true,
            "ticks": "",
            "zerolinecolor": "white"
           }
          },
          "shapedefaults": {
           "line": {
            "color": "#2a3f5f"
           }
          },
          "ternary": {
           "aaxis": {
            "gridcolor": "white",
            "linecolor": "white",
            "ticks": ""
           },
           "baxis": {
            "gridcolor": "white",
            "linecolor": "white",
            "ticks": ""
           },
           "bgcolor": "#E5ECF6",
           "caxis": {
            "gridcolor": "white",
            "linecolor": "white",
            "ticks": ""
           }
          },
          "title": {
           "x": 0.05
          },
          "xaxis": {
           "automargin": true,
           "gridcolor": "white",
           "linecolor": "white",
           "ticks": "",
           "title": {
            "standoff": 15
           },
           "zerolinecolor": "white",
           "zerolinewidth": 2
          },
          "yaxis": {
           "automargin": true,
           "gridcolor": "white",
           "linecolor": "white",
           "ticks": "",
           "title": {
            "standoff": 15
           },
           "zerolinecolor": "white",
           "zerolinewidth": 2
          }
         }
        },
        "title": {
         "text": "TSLA  vs. RIVN Stock Log Prices"
        },
        "xaxis": {
         "title": {
          "text": "timestamp"
         }
        },
        "yaxis": {
         "title": {
          "text": "Price (USD)"
         }
        }
       }
      }
     },
     "metadata": {},
     "output_type": "display_data"
    }
   ],
   "source": [
    "fig = go.Figure()\n",
    "asset_a = \"TSLA\"\n",
    "asset_b = \"RIVN\"\n",
    "fig.add_trace(go.Scatter(x=EV_stocks_data[asset_a][\"timestamp\"], y=np.log(EV_stocks_data[asset_a][\"close\"]), mode=\"lines\", name=f\"{asset_a}\"))\n",
    "fig.add_trace(go.Scatter(x=EV_stocks_data[asset_b][\"timestamp\"], y=np.log(EV_stocks_data[asset_b][\"close\"]), mode=\"lines\", name=f\"{asset_b}\"))\n",
    "fig.update_layout(title=f\"{asset_a}  vs. {asset_b} Stock Log Prices\", xaxis_title=\"timestamp\", yaxis_title=\"Price (USD)\", legend=dict(x=0, y=1))\n",
    "fig.show()\n",
    "fig.write_html(\"html_plot/log_price.html\")"
   ]
  },
  {
   "cell_type": "code",
   "execution_count": null,
   "id": "6b50effc",
   "metadata": {},
   "outputs": [
    {
     "name": "stdout",
     "output_type": "stream",
     "text": [
      "                            OLS Regression Results                            \n",
      "==============================================================================\n",
      "Dep. Variable:                  close   R-squared:                       0.029\n",
      "Model:                            OLS   Adj. R-squared:                  0.027\n",
      "Method:                 Least Squares   F-statistic:                     22.17\n",
      "Date:                Thu, 17 Apr 2025   Prob (F-statistic):           2.97e-06\n",
      "Time:                        10:13:11   Log-Likelihood:                -371.88\n",
      "No. Observations:                 753   AIC:                             747.8\n",
      "Df Residuals:                     751   BIC:                             757.0\n",
      "Df Model:                           1                                         \n",
      "Covariance Type:            nonrobust                                         \n",
      "==============================================================================\n",
      "                 coef    std err          t      P>|t|      [0.025      0.975]\n",
      "------------------------------------------------------------------------------\n",
      "const          1.4184      0.305      4.652      0.000       0.820       2.017\n",
      "close          0.2638      0.056      4.709      0.000       0.154       0.374\n",
      "==============================================================================\n",
      "Omnibus:                      397.076   Durbin-Watson:                   0.013\n",
      "Prob(Omnibus):                  0.000   Jarque-Bera (JB):               53.740\n",
      "Skew:                           0.306   Prob(JB):                     2.14e-12\n",
      "Kurtosis:                       1.843   Cond. No.                         119.\n",
      "==============================================================================\n",
      "\n",
      "Notes:\n",
      "[1] Standard Errors assume that the covariance matrix of the errors is correctly specified.\n",
      "Cointegration test result:\n",
      "========================================\n",
      "Test Statistic: -2.4426285226999096\n",
      "p-value: 0.30493998944930345\n"
     ]
    }
   ],
   "source": [
    "X = np.log(EV_stocks_data[asset_a][\"close\"])\n",
    "Y = np.log(EV_stocks_data[asset_b][\"close\"])\n",
    "X_const = sm.add_constant(X)  # Adds a constant term to the predictor\n",
    "model = sm.OLS(Y, X_const).fit()\n",
    "print(model.summary())\n",
    "\n",
    "\n",
    "result = ts.coint(X, Y)\n",
    "print(\"Cointegration test result:\")\n",
    "print(\"========================================\")\n",
    "print(\"Test Statistic:\", result[0])\n",
    "print(\"p-value:\", result[1])"
   ]
  },
  {
   "cell_type": "code",
   "execution_count": null,
   "id": "9ace8d96",
   "metadata": {},
   "outputs": [],
   "source": [
    "def rolling_adf(spread_series, time_index, window=90):\n",
    "    adf_stats = []\n",
    "    p_values = []\n",
    "    dates = []\n",
    "\n",
    "    for i in range(window, len(spread_series)):\n",
    "        window_data = spread_series.iloc[i - window : i]\n",
    "        result = adfuller(window_data, maxlag=1, autolag=None)\n",
    "        adf_stats.append(result[0])  # Test statistic\n",
    "        p_values.append(result[1])  # p-value\n",
    "        dates.append(time_index.iloc[i])\n",
    "    return pd.DataFrame({\"timestamp\": dates, \"adf_stat\": adf_stats, \"p_value\": p_values})\n",
    "\n",
    "\n",
    "trade_df = pd.merge(EV_stocks_data[\"RIVN\"][[\"timestamp\", \"open\", \"close\"]], EV_stocks_data[\"TSLA\"][[\"timestamp\", \"open\", \"close\"]], on=\"timestamp\", suffixes=(\"_RIVN\", \"_TSLA\"))\n",
    "trade_df[\"log_close_TSLA\"] = np.log(trade_df[\"close_TSLA\"])\n",
    "trade_df[\"log_close_RIVN\"] = np.log(trade_df[\"close_RIVN\"])\n",
    "X = trade_df[\"log_close_TSLA\"].astype(float)\n",
    "Y = trade_df[\"log_close_RIVN\"].astype(float)\n",
    "X_with_const = sm.add_constant(X)\n",
    "model = RollingOLS(endog=Y, exog=X_with_const, window=20)\n",
    "rres = model.fit()\n",
    "trade_df[\"hedge_ratio\"] = rres.params[\"log_close_TSLA\"]\n",
    "trade_df[\"spread\"] = trade_df[\"log_close_RIVN\"] - trade_df[\"hedge_ratio\"] * trade_df[\"log_close_TSLA\"]\n",
    "trade_df[\"z_score\"] = (trade_df[\"spread\"] - trade_df[\"spread\"].rolling(window=20).mean()) / trade_df[\"spread\"].rolling(window=20).std()\n",
    "trade_df.dropna(inplace=True)\n",
    "rolling_adf_df = rolling_adf(trade_df[\"spread\"], trade_df[\"timestamp\"], window=60)\n",
    "trade_df = pd.merge(trade_df, rolling_adf_df, on=\"timestamp\", how=\"left\")\n",
    "trade_df.dropna(inplace=True)\n"
   ]
  },
  {
   "cell_type": "code",
   "execution_count": 43,
   "id": "73e523eb",
   "metadata": {},
   "outputs": [
    {
     "data": {
      "application/vnd.plotly.v1+json": {
       "config": {
        "plotlyServerURL": "https://plot.ly"
       },
       "data": [
        {
         "mode": "lines",
         "name": "spread",
         "type": "scatter",
         "x": [
          "2022-09-07",
          "2022-09-08",
          "2022-09-09",
          "2022-09-12",
          "2022-09-13",
          "2022-09-14",
          "2022-09-15",
          "2022-09-16",
          "2022-09-19",
          "2022-09-20",
          "2022-09-21",
          "2022-09-22",
          "2022-09-23",
          "2022-09-26",
          "2022-09-27",
          "2022-09-28",
          "2022-09-29",
          "2022-09-30",
          "2022-10-03",
          "2022-10-04",
          "2022-10-05",
          "2022-10-06",
          "2022-10-07",
          "2022-10-10",
          "2022-10-11",
          "2022-10-12",
          "2022-10-13",
          "2022-10-14",
          "2022-10-17",
          "2022-10-18",
          "2022-10-19",
          "2022-10-20",
          "2022-10-21",
          "2022-10-24",
          "2022-10-25",
          "2022-10-26",
          "2022-10-27",
          "2022-10-28",
          "2022-10-31",
          "2022-11-01",
          "2022-11-02",
          "2022-11-03",
          "2022-11-04",
          "2022-11-07",
          "2022-11-08",
          "2022-11-09",
          "2022-11-10",
          "2022-11-11",
          "2022-11-14",
          "2022-11-15",
          "2022-11-16",
          "2022-11-17",
          "2022-11-18",
          "2022-11-21",
          "2022-11-22",
          "2022-11-23",
          "2022-11-25",
          "2022-11-28",
          "2022-11-29",
          "2022-11-30",
          "2022-12-01",
          "2022-12-02",
          "2022-12-05",
          "2022-12-06",
          "2022-12-07",
          "2022-12-08",
          "2022-12-09",
          "2022-12-12",
          "2022-12-13",
          "2022-12-14",
          "2022-12-15",
          "2022-12-16",
          "2022-12-19",
          "2022-12-20",
          "2022-12-21",
          "2022-12-22",
          "2022-12-23",
          "2022-12-27",
          "2022-12-28",
          "2022-12-29",
          "2022-12-30",
          "2023-01-03",
          "2023-01-04",
          "2023-01-05",
          "2023-01-06",
          "2023-01-09",
          "2023-01-10",
          "2023-01-11",
          "2023-01-12",
          "2023-01-13",
          "2023-01-17",
          "2023-01-18",
          "2023-01-19",
          "2023-01-20",
          "2023-01-23",
          "2023-01-24",
          "2023-01-25",
          "2023-01-26",
          "2023-01-27",
          "2023-01-30",
          "2023-01-31",
          "2023-02-01",
          "2023-02-02",
          "2023-02-03",
          "2023-02-06",
          "2023-02-07",
          "2023-02-08",
          "2023-02-09",
          "2023-02-10",
          "2023-02-13",
          "2023-02-14",
          "2023-02-15",
          "2023-02-16",
          "2023-02-17",
          "2023-02-21",
          "2023-02-22",
          "2023-02-23",
          "2023-02-24",
          "2023-02-27",
          "2023-02-28",
          "2023-03-01",
          "2023-03-02",
          "2023-03-03",
          "2023-03-06",
          "2023-03-07",
          "2023-03-08",
          "2023-03-09",
          "2023-03-10",
          "2023-03-13",
          "2023-03-14",
          "2023-03-15",
          "2023-03-16",
          "2023-03-17",
          "2023-03-20",
          "2023-03-21",
          "2023-03-22",
          "2023-03-23",
          "2023-03-24",
          "2023-03-27",
          "2023-03-28",
          "2023-03-29",
          "2023-03-30",
          "2023-03-31",
          "2023-04-03",
          "2023-04-04",
          "2023-04-05",
          "2023-04-06",
          "2023-04-10",
          "2023-04-11",
          "2023-04-12",
          "2023-04-13",
          "2023-04-14",
          "2023-04-17",
          "2023-04-18",
          "2023-04-19",
          "2023-04-20",
          "2023-04-21",
          "2023-04-24",
          "2023-04-25",
          "2023-04-26",
          "2023-04-27",
          "2023-04-28",
          "2023-05-01",
          "2023-05-02",
          "2023-05-03",
          "2023-05-04",
          "2023-05-05",
          "2023-05-08",
          "2023-05-09",
          "2023-05-10",
          "2023-05-11",
          "2023-05-12",
          "2023-05-15",
          "2023-05-16",
          "2023-05-17",
          "2023-05-18",
          "2023-05-19",
          "2023-05-22",
          "2023-05-23",
          "2023-05-24",
          "2023-05-25",
          "2023-05-26",
          "2023-05-30",
          "2023-05-31",
          "2023-06-01",
          "2023-06-02",
          "2023-06-05",
          "2023-06-06",
          "2023-06-07",
          "2023-06-08",
          "2023-06-09",
          "2023-06-12",
          "2023-06-13",
          "2023-06-14",
          "2023-06-15",
          "2023-06-16",
          "2023-06-20",
          "2023-06-21",
          "2023-06-22",
          "2023-06-23",
          "2023-06-26",
          "2023-06-27",
          "2023-06-28",
          "2023-06-29",
          "2023-06-30",
          "2023-07-03",
          "2023-07-05",
          "2023-07-06",
          "2023-07-07",
          "2023-07-10",
          "2023-07-11",
          "2023-07-12",
          "2023-07-13",
          "2023-07-14",
          "2023-07-17",
          "2023-07-18",
          "2023-07-19",
          "2023-07-20",
          "2023-07-21",
          "2023-07-24",
          "2023-07-25",
          "2023-07-26",
          "2023-07-27",
          "2023-07-28",
          "2023-07-31",
          "2023-08-01",
          "2023-08-02",
          "2023-08-03",
          "2023-08-04",
          "2023-08-07",
          "2023-08-08",
          "2023-08-09",
          "2023-08-10",
          "2023-08-11",
          "2023-08-14",
          "2023-08-15",
          "2023-08-16",
          "2023-08-17",
          "2023-08-18",
          "2023-08-21",
          "2023-08-22",
          "2023-08-23",
          "2023-08-24",
          "2023-08-25",
          "2023-08-28",
          "2023-08-29",
          "2023-08-30",
          "2023-08-31",
          "2023-09-01",
          "2023-09-05",
          "2023-09-06",
          "2023-09-07",
          "2023-09-08",
          "2023-09-11",
          "2023-09-12",
          "2023-09-13",
          "2023-09-14",
          "2023-09-15",
          "2023-09-18",
          "2023-09-19",
          "2023-09-20",
          "2023-09-21",
          "2023-09-22",
          "2023-09-25",
          "2023-09-26",
          "2023-09-27",
          "2023-09-28",
          "2023-09-29",
          "2023-10-02",
          "2023-10-03",
          "2023-10-04",
          "2023-10-05",
          "2023-10-06",
          "2023-10-09",
          "2023-10-10",
          "2023-10-11",
          "2023-10-12",
          "2023-10-13",
          "2023-10-16",
          "2023-10-17",
          "2023-10-18",
          "2023-10-19",
          "2023-10-20",
          "2023-10-23",
          "2023-10-24",
          "2023-10-25",
          "2023-10-26",
          "2023-10-27",
          "2023-10-30",
          "2023-10-31",
          "2023-11-01",
          "2023-11-02",
          "2023-11-03",
          "2023-11-06",
          "2023-11-07",
          "2023-11-08",
          "2023-11-09",
          "2023-11-10",
          "2023-11-13",
          "2023-11-14",
          "2023-11-15",
          "2023-11-16",
          "2023-11-17",
          "2023-11-20",
          "2023-11-21",
          "2023-11-22",
          "2023-11-24",
          "2023-11-27",
          "2023-11-28",
          "2023-11-29",
          "2023-11-30",
          "2023-12-01",
          "2023-12-04",
          "2023-12-05",
          "2023-12-06",
          "2023-12-07",
          "2023-12-08",
          "2023-12-11",
          "2023-12-12",
          "2023-12-13",
          "2023-12-14",
          "2023-12-15",
          "2023-12-18",
          "2023-12-19",
          "2023-12-20",
          "2023-12-21",
          "2023-12-22",
          "2023-12-26",
          "2023-12-27",
          "2023-12-28",
          "2023-12-29",
          "2024-01-02",
          "2024-01-03",
          "2024-01-04",
          "2024-01-05",
          "2024-01-08",
          "2024-01-09",
          "2024-01-10",
          "2024-01-11",
          "2024-01-12",
          "2024-01-16",
          "2024-01-17",
          "2024-01-18",
          "2024-01-19",
          "2024-01-22",
          "2024-01-23",
          "2024-01-24",
          "2024-01-25",
          "2024-01-26",
          "2024-01-29",
          "2024-01-30",
          "2024-01-31",
          "2024-02-01",
          "2024-02-02",
          "2024-02-05",
          "2024-02-06",
          "2024-02-07",
          "2024-02-08",
          "2024-02-09",
          "2024-02-12",
          "2024-02-13",
          "2024-02-14",
          "2024-02-15",
          "2024-02-16",
          "2024-02-20",
          "2024-02-21",
          "2024-02-22",
          "2024-02-23",
          "2024-02-26",
          "2024-02-27",
          "2024-02-28",
          "2024-02-29",
          "2024-03-01",
          "2024-03-04",
          "2024-03-05",
          "2024-03-06",
          "2024-03-07",
          "2024-03-08",
          "2024-03-11",
          "2024-03-12",
          "2024-03-13",
          "2024-03-14",
          "2024-03-15",
          "2024-03-18",
          "2024-03-19",
          "2024-03-20",
          "2024-03-21",
          "2024-03-22",
          "2024-03-25",
          "2024-03-26",
          "2024-03-27",
          "2024-03-28",
          "2024-04-01",
          "2024-04-02",
          "2024-04-03",
          "2024-04-04",
          "2024-04-05",
          "2024-04-08",
          "2024-04-09",
          "2024-04-10",
          "2024-04-11",
          "2024-04-12",
          "2024-04-15",
          "2024-04-16",
          "2024-04-17",
          "2024-04-18",
          "2024-04-19",
          "2024-04-22",
          "2024-04-23",
          "2024-04-24",
          "2024-04-25",
          "2024-04-26",
          "2024-04-29",
          "2024-04-30",
          "2024-05-01",
          "2024-05-02",
          "2024-05-03",
          "2024-05-06",
          "2024-05-07",
          "2024-05-08",
          "2024-05-09",
          "2024-05-10",
          "2024-05-13",
          "2024-05-14",
          "2024-05-15",
          "2024-05-16",
          "2024-05-17",
          "2024-05-20",
          "2024-05-21",
          "2024-05-22",
          "2024-05-23",
          "2024-05-24",
          "2024-05-28",
          "2024-05-29",
          "2024-05-30",
          "2024-05-31",
          "2024-06-03",
          "2024-06-04",
          "2024-06-05",
          "2024-06-06",
          "2024-06-07",
          "2024-06-10",
          "2024-06-11",
          "2024-06-12",
          "2024-06-13",
          "2024-06-14",
          "2024-06-17",
          "2024-06-18",
          "2024-06-20",
          "2024-06-21",
          "2024-06-24",
          "2024-06-25",
          "2024-06-26",
          "2024-06-27",
          "2024-06-28",
          "2024-07-01",
          "2024-07-02",
          "2024-07-03",
          "2024-07-05",
          "2024-07-08",
          "2024-07-09",
          "2024-07-10",
          "2024-07-11",
          "2024-07-12",
          "2024-07-15",
          "2024-07-16",
          "2024-07-17",
          "2024-07-18",
          "2024-07-19",
          "2024-07-22",
          "2024-07-23",
          "2024-07-24",
          "2024-07-25",
          "2024-07-26",
          "2024-07-29",
          "2024-07-30",
          "2024-07-31",
          "2024-08-01",
          "2024-08-02",
          "2024-08-05",
          "2024-08-06",
          "2024-08-07",
          "2024-08-08",
          "2024-08-09",
          "2024-08-12",
          "2024-08-13",
          "2024-08-14",
          "2024-08-15",
          "2024-08-16",
          "2024-08-19",
          "2024-08-20",
          "2024-08-21",
          "2024-08-22",
          "2024-08-23",
          "2024-08-26",
          "2024-08-27",
          "2024-08-28",
          "2024-08-29",
          "2024-08-30",
          "2024-09-03",
          "2024-09-04",
          "2024-09-05",
          "2024-09-06",
          "2024-09-09",
          "2024-09-10",
          "2024-09-11",
          "2024-09-12",
          "2024-09-13",
          "2024-09-16",
          "2024-09-17",
          "2024-09-18",
          "2024-09-19",
          "2024-09-20",
          "2024-09-23",
          "2024-09-24",
          "2024-09-25",
          "2024-09-26",
          "2024-09-27",
          "2024-09-30",
          "2024-10-01",
          "2024-10-02",
          "2024-10-03",
          "2024-10-04",
          "2024-10-07",
          "2024-10-08",
          "2024-10-09",
          "2024-10-10",
          "2024-10-11",
          "2024-10-14",
          "2024-10-15",
          "2024-10-16",
          "2024-10-17",
          "2024-10-18",
          "2024-10-21",
          "2024-10-22",
          "2024-10-23",
          "2024-10-24",
          "2024-10-25",
          "2024-10-28",
          "2024-10-29",
          "2024-10-30",
          "2024-10-31",
          "2024-11-01",
          "2024-11-04",
          "2024-11-05",
          "2024-11-06",
          "2024-11-07",
          "2024-11-08",
          "2024-11-11",
          "2024-11-12",
          "2024-11-13",
          "2024-11-14",
          "2024-11-15",
          "2024-11-18",
          "2024-11-19",
          "2024-11-20",
          "2024-11-21",
          "2024-11-22",
          "2024-11-25",
          "2024-11-26",
          "2024-11-27",
          "2024-11-29",
          "2024-12-02",
          "2024-12-03",
          "2024-12-04",
          "2024-12-05",
          "2024-12-06",
          "2024-12-09",
          "2024-12-10",
          "2024-12-11",
          "2024-12-12",
          "2024-12-13",
          "2024-12-16",
          "2024-12-17",
          "2024-12-18",
          "2024-12-19",
          "2024-12-20",
          "2024-12-23",
          "2024-12-24",
          "2024-12-26",
          "2024-12-27",
          "2024-12-30",
          "2024-12-31",
          "2025-01-02",
          "2025-01-03",
          "2025-01-06",
          "2025-01-07",
          "2025-01-08",
          "2025-01-10",
          "2025-01-13",
          "2025-01-14",
          "2025-01-15",
          "2025-01-16",
          "2025-01-17",
          "2025-01-21",
          "2025-01-22",
          "2025-01-23",
          "2025-01-24",
          "2025-01-27",
          "2025-01-28",
          "2025-01-29",
          "2025-01-30",
          "2025-01-31",
          "2025-02-03",
          "2025-02-04",
          "2025-02-05",
          "2025-02-06",
          "2025-02-07",
          "2025-02-10",
          "2025-02-11",
          "2025-02-12",
          "2025-02-13",
          "2025-02-14",
          "2025-02-18",
          "2025-02-19",
          "2025-02-20",
          "2025-02-21",
          "2025-02-24",
          "2025-02-25",
          "2025-02-26",
          "2025-02-27",
          "2025-02-28",
          "2025-03-03",
          "2025-03-04",
          "2025-03-05",
          "2025-03-06",
          "2025-03-07",
          "2025-03-10",
          "2025-03-11",
          "2025-03-12",
          "2025-03-13",
          "2025-03-14",
          "2025-03-17",
          "2025-03-18",
          "2025-03-19",
          "2025-03-20",
          "2025-03-21",
          "2025-03-24",
          "2025-03-25",
          "2025-03-26",
          "2025-03-27",
          "2025-03-28",
          "2025-03-31",
          "2025-04-01",
          "2025-04-02",
          "2025-04-03",
          "2025-04-04",
          "2025-04-07",
          "2025-04-08",
          "2025-04-09",
          "2025-04-10",
          "2025-04-11",
          "2025-04-14",
          "2025-04-15",
          "2025-04-16"
         ],
         "y": {
          "bdata": "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",
          "dtype": "f8"
         }
        },
        {
         "mode": "lines",
         "name": "z-score",
         "opacity": 0.4,
         "type": "scatter",
         "x": [
          "2022-09-07",
          "2022-09-08",
          "2022-09-09",
          "2022-09-12",
          "2022-09-13",
          "2022-09-14",
          "2022-09-15",
          "2022-09-16",
          "2022-09-19",
          "2022-09-20",
          "2022-09-21",
          "2022-09-22",
          "2022-09-23",
          "2022-09-26",
          "2022-09-27",
          "2022-09-28",
          "2022-09-29",
          "2022-09-30",
          "2022-10-03",
          "2022-10-04",
          "2022-10-05",
          "2022-10-06",
          "2022-10-07",
          "2022-10-10",
          "2022-10-11",
          "2022-10-12",
          "2022-10-13",
          "2022-10-14",
          "2022-10-17",
          "2022-10-18",
          "2022-10-19",
          "2022-10-20",
          "2022-10-21",
          "2022-10-24",
          "2022-10-25",
          "2022-10-26",
          "2022-10-27",
          "2022-10-28",
          "2022-10-31",
          "2022-11-01",
          "2022-11-02",
          "2022-11-03",
          "2022-11-04",
          "2022-11-07",
          "2022-11-08",
          "2022-11-09",
          "2022-11-10",
          "2022-11-11",
          "2022-11-14",
          "2022-11-15",
          "2022-11-16",
          "2022-11-17",
          "2022-11-18",
          "2022-11-21",
          "2022-11-22",
          "2022-11-23",
          "2022-11-25",
          "2022-11-28",
          "2022-11-29",
          "2022-11-30",
          "2022-12-01",
          "2022-12-02",
          "2022-12-05",
          "2022-12-06",
          "2022-12-07",
          "2022-12-08",
          "2022-12-09",
          "2022-12-12",
          "2022-12-13",
          "2022-12-14",
          "2022-12-15",
          "2022-12-16",
          "2022-12-19",
          "2022-12-20",
          "2022-12-21",
          "2022-12-22",
          "2022-12-23",
          "2022-12-27",
          "2022-12-28",
          "2022-12-29",
          "2022-12-30",
          "2023-01-03",
          "2023-01-04",
          "2023-01-05",
          "2023-01-06",
          "2023-01-09",
          "2023-01-10",
          "2023-01-11",
          "2023-01-12",
          "2023-01-13",
          "2023-01-17",
          "2023-01-18",
          "2023-01-19",
          "2023-01-20",
          "2023-01-23",
          "2023-01-24",
          "2023-01-25",
          "2023-01-26",
          "2023-01-27",
          "2023-01-30",
          "2023-01-31",
          "2023-02-01",
          "2023-02-02",
          "2023-02-03",
          "2023-02-06",
          "2023-02-07",
          "2023-02-08",
          "2023-02-09",
          "2023-02-10",
          "2023-02-13",
          "2023-02-14",
          "2023-02-15",
          "2023-02-16",
          "2023-02-17",
          "2023-02-21",
          "2023-02-22",
          "2023-02-23",
          "2023-02-24",
          "2023-02-27",
          "2023-02-28",
          "2023-03-01",
          "2023-03-02",
          "2023-03-03",
          "2023-03-06",
          "2023-03-07",
          "2023-03-08",
          "2023-03-09",
          "2023-03-10",
          "2023-03-13",
          "2023-03-14",
          "2023-03-15",
          "2023-03-16",
          "2023-03-17",
          "2023-03-20",
          "2023-03-21",
          "2023-03-22",
          "2023-03-23",
          "2023-03-24",
          "2023-03-27",
          "2023-03-28",
          "2023-03-29",
          "2023-03-30",
          "2023-03-31",
          "2023-04-03",
          "2023-04-04",
          "2023-04-05",
          "2023-04-06",
          "2023-04-10",
          "2023-04-11",
          "2023-04-12",
          "2023-04-13",
          "2023-04-14",
          "2023-04-17",
          "2023-04-18",
          "2023-04-19",
          "2023-04-20",
          "2023-04-21",
          "2023-04-24",
          "2023-04-25",
          "2023-04-26",
          "2023-04-27",
          "2023-04-28",
          "2023-05-01",
          "2023-05-02",
          "2023-05-03",
          "2023-05-04",
          "2023-05-05",
          "2023-05-08",
          "2023-05-09",
          "2023-05-10",
          "2023-05-11",
          "2023-05-12",
          "2023-05-15",
          "2023-05-16",
          "2023-05-17",
          "2023-05-18",
          "2023-05-19",
          "2023-05-22",
          "2023-05-23",
          "2023-05-24",
          "2023-05-25",
          "2023-05-26",
          "2023-05-30",
          "2023-05-31",
          "2023-06-01",
          "2023-06-02",
          "2023-06-05",
          "2023-06-06",
          "2023-06-07",
          "2023-06-08",
          "2023-06-09",
          "2023-06-12",
          "2023-06-13",
          "2023-06-14",
          "2023-06-15",
          "2023-06-16",
          "2023-06-20",
          "2023-06-21",
          "2023-06-22",
          "2023-06-23",
          "2023-06-26",
          "2023-06-27",
          "2023-06-28",
          "2023-06-29",
          "2023-06-30",
          "2023-07-03",
          "2023-07-05",
          "2023-07-06",
          "2023-07-07",
          "2023-07-10",
          "2023-07-11",
          "2023-07-12",
          "2023-07-13",
          "2023-07-14",
          "2023-07-17",
          "2023-07-18",
          "2023-07-19",
          "2023-07-20",
          "2023-07-21",
          "2023-07-24",
          "2023-07-25",
          "2023-07-26",
          "2023-07-27",
          "2023-07-28",
          "2023-07-31",
          "2023-08-01",
          "2023-08-02",
          "2023-08-03",
          "2023-08-04",
          "2023-08-07",
          "2023-08-08",
          "2023-08-09",
          "2023-08-10",
          "2023-08-11",
          "2023-08-14",
          "2023-08-15",
          "2023-08-16",
          "2023-08-17",
          "2023-08-18",
          "2023-08-21",
          "2023-08-22",
          "2023-08-23",
          "2023-08-24",
          "2023-08-25",
          "2023-08-28",
          "2023-08-29",
          "2023-08-30",
          "2023-08-31",
          "2023-09-01",
          "2023-09-05",
          "2023-09-06",
          "2023-09-07",
          "2023-09-08",
          "2023-09-11",
          "2023-09-12",
          "2023-09-13",
          "2023-09-14",
          "2023-09-15",
          "2023-09-18",
          "2023-09-19",
          "2023-09-20",
          "2023-09-21",
          "2023-09-22",
          "2023-09-25",
          "2023-09-26",
          "2023-09-27",
          "2023-09-28",
          "2023-09-29",
          "2023-10-02",
          "2023-10-03",
          "2023-10-04",
          "2023-10-05",
          "2023-10-06",
          "2023-10-09",
          "2023-10-10",
          "2023-10-11",
          "2023-10-12",
          "2023-10-13",
          "2023-10-16",
          "2023-10-17",
          "2023-10-18",
          "2023-10-19",
          "2023-10-20",
          "2023-10-23",
          "2023-10-24",
          "2023-10-25",
          "2023-10-26",
          "2023-10-27",
          "2023-10-30",
          "2023-10-31",
          "2023-11-01",
          "2023-11-02",
          "2023-11-03",
          "2023-11-06",
          "2023-11-07",
          "2023-11-08",
          "2023-11-09",
          "2023-11-10",
          "2023-11-13",
          "2023-11-14",
          "2023-11-15",
          "2023-11-16",
          "2023-11-17",
          "2023-11-20",
          "2023-11-21",
          "2023-11-22",
          "2023-11-24",
          "2023-11-27",
          "2023-11-28",
          "2023-11-29",
          "2023-11-30",
          "2023-12-01",
          "2023-12-04",
          "2023-12-05",
          "2023-12-06",
          "2023-12-07",
          "2023-12-08",
          "2023-12-11",
          "2023-12-12",
          "2023-12-13",
          "2023-12-14",
          "2023-12-15",
          "2023-12-18",
          "2023-12-19",
          "2023-12-20",
          "2023-12-21",
          "2023-12-22",
          "2023-12-26",
          "2023-12-27",
          "2023-12-28",
          "2023-12-29",
          "2024-01-02",
          "2024-01-03",
          "2024-01-04",
          "2024-01-05",
          "2024-01-08",
          "2024-01-09",
          "2024-01-10",
          "2024-01-11",
          "2024-01-12",
          "2024-01-16",
          "2024-01-17",
          "2024-01-18",
          "2024-01-19",
          "2024-01-22",
          "2024-01-23",
          "2024-01-24",
          "2024-01-25",
          "2024-01-26",
          "2024-01-29",
          "2024-01-30",
          "2024-01-31",
          "2024-02-01",
          "2024-02-02",
          "2024-02-05",
          "2024-02-06",
          "2024-02-07",
          "2024-02-08",
          "2024-02-09",
          "2024-02-12",
          "2024-02-13",
          "2024-02-14",
          "2024-02-15",
          "2024-02-16",
          "2024-02-20",
          "2024-02-21",
          "2024-02-22",
          "2024-02-23",
          "2024-02-26",
          "2024-02-27",
          "2024-02-28",
          "2024-02-29",
          "2024-03-01",
          "2024-03-04",
          "2024-03-05",
          "2024-03-06",
          "2024-03-07",
          "2024-03-08",
          "2024-03-11",
          "2024-03-12",
          "2024-03-13",
          "2024-03-14",
          "2024-03-15",
          "2024-03-18",
          "2024-03-19",
          "2024-03-20",
          "2024-03-21",
          "2024-03-22",
          "2024-03-25",
          "2024-03-26",
          "2024-03-27",
          "2024-03-28",
          "2024-04-01",
          "2024-04-02",
          "2024-04-03",
          "2024-04-04",
          "2024-04-05",
          "2024-04-08",
          "2024-04-09",
          "2024-04-10",
          "2024-04-11",
          "2024-04-12",
          "2024-04-15",
          "2024-04-16",
          "2024-04-17",
          "2024-04-18",
          "2024-04-19",
          "2024-04-22",
          "2024-04-23",
          "2024-04-24",
          "2024-04-25",
          "2024-04-26",
          "2024-04-29",
          "2024-04-30",
          "2024-05-01",
          "2024-05-02",
          "2024-05-03",
          "2024-05-06",
          "2024-05-07",
          "2024-05-08",
          "2024-05-09",
          "2024-05-10",
          "2024-05-13",
          "2024-05-14",
          "2024-05-15",
          "2024-05-16",
          "2024-05-17",
          "2024-05-20",
          "2024-05-21",
          "2024-05-22",
          "2024-05-23",
          "2024-05-24",
          "2024-05-28",
          "2024-05-29",
          "2024-05-30",
          "2024-05-31",
          "2024-06-03",
          "2024-06-04",
          "2024-06-05",
          "2024-06-06",
          "2024-06-07",
          "2024-06-10",
          "2024-06-11",
          "2024-06-12",
          "2024-06-13",
          "2024-06-14",
          "2024-06-17",
          "2024-06-18",
          "2024-06-20",
          "2024-06-21",
          "2024-06-24",
          "2024-06-25",
          "2024-06-26",
          "2024-06-27",
          "2024-06-28",
          "2024-07-01",
          "2024-07-02",
          "2024-07-03",
          "2024-07-05",
          "2024-07-08",
          "2024-07-09",
          "2024-07-10",
          "2024-07-11",
          "2024-07-12",
          "2024-07-15",
          "2024-07-16",
          "2024-07-17",
          "2024-07-18",
          "2024-07-19",
          "2024-07-22",
          "2024-07-23",
          "2024-07-24",
          "2024-07-25",
          "2024-07-26",
          "2024-07-29",
          "2024-07-30",
          "2024-07-31",
          "2024-08-01",
          "2024-08-02",
          "2024-08-05",
          "2024-08-06",
          "2024-08-07",
          "2024-08-08",
          "2024-08-09",
          "2024-08-12",
          "2024-08-13",
          "2024-08-14",
          "2024-08-15",
          "2024-08-16",
          "2024-08-19",
          "2024-08-20",
          "2024-08-21",
          "2024-08-22",
          "2024-08-23",
          "2024-08-26",
          "2024-08-27",
          "2024-08-28",
          "2024-08-29",
          "2024-08-30",
          "2024-09-03",
          "2024-09-04",
          "2024-09-05",
          "2024-09-06",
          "2024-09-09",
          "2024-09-10",
          "2024-09-11",
          "2024-09-12",
          "2024-09-13",
          "2024-09-16",
          "2024-09-17",
          "2024-09-18",
          "2024-09-19",
          "2024-09-20",
          "2024-09-23",
          "2024-09-24",
          "2024-09-25",
          "2024-09-26",
          "2024-09-27",
          "2024-09-30",
          "2024-10-01",
          "2024-10-02",
          "2024-10-03",
          "2024-10-04",
          "2024-10-07",
          "2024-10-08",
          "2024-10-09",
          "2024-10-10",
          "2024-10-11",
          "2024-10-14",
          "2024-10-15",
          "2024-10-16",
          "2024-10-17",
          "2024-10-18",
          "2024-10-21",
          "2024-10-22",
          "2024-10-23",
          "2024-10-24",
          "2024-10-25",
          "2024-10-28",
          "2024-10-29",
          "2024-10-30",
          "2024-10-31",
          "2024-11-01",
          "2024-11-04",
          "2024-11-05",
          "2024-11-06",
          "2024-11-07",
          "2024-11-08",
          "2024-11-11",
          "2024-11-12",
          "2024-11-13",
          "2024-11-14",
          "2024-11-15",
          "2024-11-18",
          "2024-11-19",
          "2024-11-20",
          "2024-11-21",
          "2024-11-22",
          "2024-11-25",
          "2024-11-26",
          "2024-11-27",
          "2024-11-29",
          "2024-12-02",
          "2024-12-03",
          "2024-12-04",
          "2024-12-05",
          "2024-12-06",
          "2024-12-09",
          "2024-12-10",
          "2024-12-11",
          "2024-12-12",
          "2024-12-13",
          "2024-12-16",
          "2024-12-17",
          "2024-12-18",
          "2024-12-19",
          "2024-12-20",
          "2024-12-23",
          "2024-12-24",
          "2024-12-26",
          "2024-12-27",
          "2024-12-30",
          "2024-12-31",
          "2025-01-02",
          "2025-01-03",
          "2025-01-06",
          "2025-01-07",
          "2025-01-08",
          "2025-01-10",
          "2025-01-13",
          "2025-01-14",
          "2025-01-15",
          "2025-01-16",
          "2025-01-17",
          "2025-01-21",
          "2025-01-22",
          "2025-01-23",
          "2025-01-24",
          "2025-01-27",
          "2025-01-28",
          "2025-01-29",
          "2025-01-30",
          "2025-01-31",
          "2025-02-03",
          "2025-02-04",
          "2025-02-05",
          "2025-02-06",
          "2025-02-07",
          "2025-02-10",
          "2025-02-11",
          "2025-02-12",
          "2025-02-13",
          "2025-02-14",
          "2025-02-18",
          "2025-02-19",
          "2025-02-20",
          "2025-02-21",
          "2025-02-24",
          "2025-02-25",
          "2025-02-26",
          "2025-02-27",
          "2025-02-28",
          "2025-03-03",
          "2025-03-04",
          "2025-03-05",
          "2025-03-06",
          "2025-03-07",
          "2025-03-10",
          "2025-03-11",
          "2025-03-12",
          "2025-03-13",
          "2025-03-14",
          "2025-03-17",
          "2025-03-18",
          "2025-03-19",
          "2025-03-20",
          "2025-03-21",
          "2025-03-24",
          "2025-03-25",
          "2025-03-26",
          "2025-03-27",
          "2025-03-28",
          "2025-03-31",
          "2025-04-01",
          "2025-04-02",
          "2025-04-03",
          "2025-04-04",
          "2025-04-07",
          "2025-04-08",
          "2025-04-09",
          "2025-04-10",
          "2025-04-11",
          "2025-04-14",
          "2025-04-15",
          "2025-04-16"
         ],
         "y": {
          "bdata": "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",
          "dtype": "f8"
         }
        }
       ],
       "layout": {
        "annotations": [
         {
          "showarrow": false,
          "text": "z-score upper threshold",
          "x": 1,
          "xanchor": "right",
          "xref": "x domain",
          "y": 2,
          "yanchor": "bottom",
          "yref": "y"
         },
         {
          "showarrow": false,
          "text": "z-score lower threshold",
          "x": 1,
          "xanchor": "right",
          "xref": "x domain",
          "y": -2,
          "yanchor": "top",
          "yref": "y"
         }
        ],
        "shapes": [
         {
          "line": {
           "color": "red",
           "dash": "dash"
          },
          "opacity": 0.4,
          "type": "line",
          "x0": 0,
          "x1": 1,
          "xref": "x domain",
          "y0": 2,
          "y1": 2,
          "yref": "y"
         },
         {
          "line": {
           "color": "red",
           "dash": "dash"
          },
          "opacity": 0.4,
          "type": "line",
          "x0": 0,
          "x1": 1,
          "xref": "x domain",
          "y0": -2,
          "y1": -2,
          "yref": "y"
         }
        ],
        "template": {
         "data": {
          "bar": [
           {
            "error_x": {
             "color": "#2a3f5f"
            },
            "error_y": {
             "color": "#2a3f5f"
            },
            "marker": {
             "line": {
              "color": "#E5ECF6",
              "width": 0.5
             },
             "pattern": {
              "fillmode": "overlay",
              "size": 10,
              "solidity": 0.2
             }
            },
            "type": "bar"
           }
          ],
          "barpolar": [
           {
            "marker": {
             "line": {
              "color": "#E5ECF6",
              "width": 0.5
             },
             "pattern": {
              "fillmode": "overlay",
              "size": 10,
              "solidity": 0.2
             }
            },
            "type": "barpolar"
           }
          ],
          "carpet": [
           {
            "aaxis": {
             "endlinecolor": "#2a3f5f",
             "gridcolor": "white",
             "linecolor": "white",
             "minorgridcolor": "white",
             "startlinecolor": "#2a3f5f"
            },
            "baxis": {
             "endlinecolor": "#2a3f5f",
             "gridcolor": "white",
             "linecolor": "white",
             "minorgridcolor": "white",
             "startlinecolor": "#2a3f5f"
            },
            "type": "carpet"
           }
          ],
          "choropleth": [
           {
            "colorbar": {
             "outlinewidth": 0,
             "ticks": ""
            },
            "type": "choropleth"
           }
          ],
          "contour": [
           {
            "colorbar": {
             "outlinewidth": 0,
             "ticks": ""
            },
            "colorscale": [
             [
              0,
              "#0d0887"
             ],
             [
              0.1111111111111111,
              "#46039f"
             ],
             [
              0.2222222222222222,
              "#7201a8"
             ],
             [
              0.3333333333333333,
              "#9c179e"
             ],
             [
              0.4444444444444444,
              "#bd3786"
             ],
             [
              0.5555555555555556,
              "#d8576b"
             ],
             [
              0.6666666666666666,
              "#ed7953"
             ],
             [
              0.7777777777777778,
              "#fb9f3a"
             ],
             [
              0.8888888888888888,
              "#fdca26"
             ],
             [
              1,
              "#f0f921"
             ]
            ],
            "type": "contour"
           }
          ],
          "contourcarpet": [
           {
            "colorbar": {
             "outlinewidth": 0,
             "ticks": ""
            },
            "type": "contourcarpet"
           }
          ],
          "heatmap": [
           {
            "colorbar": {
             "outlinewidth": 0,
             "ticks": ""
            },
            "colorscale": [
             [
              0,
              "#0d0887"
             ],
             [
              0.1111111111111111,
              "#46039f"
             ],
             [
              0.2222222222222222,
              "#7201a8"
             ],
             [
              0.3333333333333333,
              "#9c179e"
             ],
             [
              0.4444444444444444,
              "#bd3786"
             ],
             [
              0.5555555555555556,
              "#d8576b"
             ],
             [
              0.6666666666666666,
              "#ed7953"
             ],
             [
              0.7777777777777778,
              "#fb9f3a"
             ],
             [
              0.8888888888888888,
              "#fdca26"
             ],
             [
              1,
              "#f0f921"
             ]
            ],
            "type": "heatmap"
           }
          ],
          "histogram": [
           {
            "marker": {
             "pattern": {
              "fillmode": "overlay",
              "size": 10,
              "solidity": 0.2
             }
            },
            "type": "histogram"
           }
          ],
          "histogram2d": [
           {
            "colorbar": {
             "outlinewidth": 0,
             "ticks": ""
            },
            "colorscale": [
             [
              0,
              "#0d0887"
             ],
             [
              0.1111111111111111,
              "#46039f"
             ],
             [
              0.2222222222222222,
              "#7201a8"
             ],
             [
              0.3333333333333333,
              "#9c179e"
             ],
             [
              0.4444444444444444,
              "#bd3786"
             ],
             [
              0.5555555555555556,
              "#d8576b"
             ],
             [
              0.6666666666666666,
              "#ed7953"
             ],
             [
              0.7777777777777778,
              "#fb9f3a"
             ],
             [
              0.8888888888888888,
              "#fdca26"
             ],
             [
              1,
              "#f0f921"
             ]
            ],
            "type": "histogram2d"
           }
          ],
          "histogram2dcontour": [
           {
            "colorbar": {
             "outlinewidth": 0,
             "ticks": ""
            },
            "colorscale": [
             [
              0,
              "#0d0887"
             ],
             [
              0.1111111111111111,
              "#46039f"
             ],
             [
              0.2222222222222222,
              "#7201a8"
             ],
             [
              0.3333333333333333,
              "#9c179e"
             ],
             [
              0.4444444444444444,
              "#bd3786"
             ],
             [
              0.5555555555555556,
              "#d8576b"
             ],
             [
              0.6666666666666666,
              "#ed7953"
             ],
             [
              0.7777777777777778,
              "#fb9f3a"
             ],
             [
              0.8888888888888888,
              "#fdca26"
             ],
             [
              1,
              "#f0f921"
             ]
            ],
            "type": "histogram2dcontour"
           }
          ],
          "mesh3d": [
           {
            "colorbar": {
             "outlinewidth": 0,
             "ticks": ""
            },
            "type": "mesh3d"
           }
          ],
          "parcoords": [
           {
            "line": {
             "colorbar": {
              "outlinewidth": 0,
              "ticks": ""
             }
            },
            "type": "parcoords"
           }
          ],
          "pie": [
           {
            "automargin": true,
            "type": "pie"
           }
          ],
          "scatter": [
           {
            "fillpattern": {
             "fillmode": "overlay",
             "size": 10,
             "solidity": 0.2
            },
            "type": "scatter"
           }
          ],
          "scatter3d": [
           {
            "line": {
             "colorbar": {
              "outlinewidth": 0,
              "ticks": ""
             }
            },
            "marker": {
             "colorbar": {
              "outlinewidth": 0,
              "ticks": ""
             }
            },
            "type": "scatter3d"
           }
          ],
          "scattercarpet": [
           {
            "marker": {
             "colorbar": {
              "outlinewidth": 0,
              "ticks": ""
             }
            },
            "type": "scattercarpet"
           }
          ],
          "scattergeo": [
           {
            "marker": {
             "colorbar": {
              "outlinewidth": 0,
              "ticks": ""
             }
            },
            "type": "scattergeo"
           }
          ],
          "scattergl": [
           {
            "marker": {
             "colorbar": {
              "outlinewidth": 0,
              "ticks": ""
             }
            },
            "type": "scattergl"
           }
          ],
          "scattermap": [
           {
            "marker": {
             "colorbar": {
              "outlinewidth": 0,
              "ticks": ""
             }
            },
            "type": "scattermap"
           }
          ],
          "scattermapbox": [
           {
            "marker": {
             "colorbar": {
              "outlinewidth": 0,
              "ticks": ""
             }
            },
            "type": "scattermapbox"
           }
          ],
          "scatterpolar": [
           {
            "marker": {
             "colorbar": {
              "outlinewidth": 0,
              "ticks": ""
             }
            },
            "type": "scatterpolar"
           }
          ],
          "scatterpolargl": [
           {
            "marker": {
             "colorbar": {
              "outlinewidth": 0,
              "ticks": ""
             }
            },
            "type": "scatterpolargl"
           }
          ],
          "scatterternary": [
           {
            "marker": {
             "colorbar": {
              "outlinewidth": 0,
              "ticks": ""
             }
            },
            "type": "scatterternary"
           }
          ],
          "surface": [
           {
            "colorbar": {
             "outlinewidth": 0,
             "ticks": ""
            },
            "colorscale": [
             [
              0,
              "#0d0887"
             ],
             [
              0.1111111111111111,
              "#46039f"
             ],
             [
              0.2222222222222222,
              "#7201a8"
             ],
             [
              0.3333333333333333,
              "#9c179e"
             ],
             [
              0.4444444444444444,
              "#bd3786"
             ],
             [
              0.5555555555555556,
              "#d8576b"
             ],
             [
              0.6666666666666666,
              "#ed7953"
             ],
             [
              0.7777777777777778,
              "#fb9f3a"
             ],
             [
              0.8888888888888888,
              "#fdca26"
             ],
             [
              1,
              "#f0f921"
             ]
            ],
            "type": "surface"
           }
          ],
          "table": [
           {
            "cells": {
             "fill": {
              "color": "#EBF0F8"
             },
             "line": {
              "color": "white"
             }
            },
            "header": {
             "fill": {
              "color": "#C8D4E3"
             },
             "line": {
              "color": "white"
             }
            },
            "type": "table"
           }
          ]
         },
         "layout": {
          "annotationdefaults": {
           "arrowcolor": "#2a3f5f",
           "arrowhead": 0,
           "arrowwidth": 1
          },
          "autotypenumbers": "strict",
          "coloraxis": {
           "colorbar": {
            "outlinewidth": 0,
            "ticks": ""
           }
          },
          "colorscale": {
           "diverging": [
            [
             0,
             "#8e0152"
            ],
            [
             0.1,
             "#c51b7d"
            ],
            [
             0.2,
             "#de77ae"
            ],
            [
             0.3,
             "#f1b6da"
            ],
            [
             0.4,
             "#fde0ef"
            ],
            [
             0.5,
             "#f7f7f7"
            ],
            [
             0.6,
             "#e6f5d0"
            ],
            [
             0.7,
             "#b8e186"
            ],
            [
             0.8,
             "#7fbc41"
            ],
            [
             0.9,
             "#4d9221"
            ],
            [
             1,
             "#276419"
            ]
           ],
           "sequential": [
            [
             0,
             "#0d0887"
            ],
            [
             0.1111111111111111,
             "#46039f"
            ],
            [
             0.2222222222222222,
             "#7201a8"
            ],
            [
             0.3333333333333333,
             "#9c179e"
            ],
            [
             0.4444444444444444,
             "#bd3786"
            ],
            [
             0.5555555555555556,
             "#d8576b"
            ],
            [
             0.6666666666666666,
             "#ed7953"
            ],
            [
             0.7777777777777778,
             "#fb9f3a"
            ],
            [
             0.8888888888888888,
             "#fdca26"
            ],
            [
             1,
             "#f0f921"
            ]
           ],
           "sequentialminus": [
            [
             0,
             "#0d0887"
            ],
            [
             0.1111111111111111,
             "#46039f"
            ],
            [
             0.2222222222222222,
             "#7201a8"
            ],
            [
             0.3333333333333333,
             "#9c179e"
            ],
            [
             0.4444444444444444,
             "#bd3786"
            ],
            [
             0.5555555555555556,
             "#d8576b"
            ],
            [
             0.6666666666666666,
             "#ed7953"
            ],
            [
             0.7777777777777778,
             "#fb9f3a"
            ],
            [
             0.8888888888888888,
             "#fdca26"
            ],
            [
             1,
             "#f0f921"
            ]
           ]
          },
          "colorway": [
           "#636efa",
           "#EF553B",
           "#00cc96",
           "#ab63fa",
           "#FFA15A",
           "#19d3f3",
           "#FF6692",
           "#B6E880",
           "#FF97FF",
           "#FECB52"
          ],
          "font": {
           "color": "#2a3f5f"
          },
          "geo": {
           "bgcolor": "white",
           "lakecolor": "white",
           "landcolor": "#E5ECF6",
           "showlakes": true,
           "showland": true,
           "subunitcolor": "white"
          },
          "hoverlabel": {
           "align": "left"
          },
          "hovermode": "closest",
          "mapbox": {
           "style": "light"
          },
          "paper_bgcolor": "white",
          "plot_bgcolor": "#E5ECF6",
          "polar": {
           "angularaxis": {
            "gridcolor": "white",
            "linecolor": "white",
            "ticks": ""
           },
           "bgcolor": "#E5ECF6",
           "radialaxis": {
            "gridcolor": "white",
            "linecolor": "white",
            "ticks": ""
           }
          },
          "scene": {
           "xaxis": {
            "backgroundcolor": "#E5ECF6",
            "gridcolor": "white",
            "gridwidth": 2,
            "linecolor": "white",
            "showbackground": true,
            "ticks": "",
            "zerolinecolor": "white"
           },
           "yaxis": {
            "backgroundcolor": "#E5ECF6",
            "gridcolor": "white",
            "gridwidth": 2,
            "linecolor": "white",
            "showbackground": true,
            "ticks": "",
            "zerolinecolor": "white"
           },
           "zaxis": {
            "backgroundcolor": "#E5ECF6",
            "gridcolor": "white",
            "gridwidth": 2,
            "linecolor": "white",
            "showbackground": true,
            "ticks": "",
            "zerolinecolor": "white"
           }
          },
          "shapedefaults": {
           "line": {
            "color": "#2a3f5f"
           }
          },
          "ternary": {
           "aaxis": {
            "gridcolor": "white",
            "linecolor": "white",
            "ticks": ""
           },
           "baxis": {
            "gridcolor": "white",
            "linecolor": "white",
            "ticks": ""
           },
           "bgcolor": "#E5ECF6",
           "caxis": {
            "gridcolor": "white",
            "linecolor": "white",
            "ticks": ""
           }
          },
          "title": {
           "x": 0.05
          },
          "xaxis": {
           "automargin": true,
           "gridcolor": "white",
           "linecolor": "white",
           "ticks": "",
           "title": {
            "standoff": 15
           },
           "zerolinecolor": "white",
           "zerolinewidth": 2
          },
          "yaxis": {
           "automargin": true,
           "gridcolor": "white",
           "linecolor": "white",
           "ticks": "",
           "title": {
            "standoff": 15
           },
           "zerolinecolor": "white",
           "zerolinewidth": 2
          }
         }
        },
        "title": {
         "text": "spread through time"
        }
       }
      }
     },
     "metadata": {},
     "output_type": "display_data"
    }
   ],
   "source": [
    "from plotly.subplots import make_subplots\n",
    "import plotly.graph_objects as go\n",
    "\n",
    "fig = go.Figure()\n",
    "fig.add_trace(go.Scatter(x=trade_df[\"timestamp\"], y=trade_df[\"spread\"], mode=\"lines\", name=f\"spread\"))\n",
    "fig.add_trace(go.Scatter(x=trade_df[\"timestamp\"], y=trade_df[\"z_score\"], mode=\"lines\", name=f\"z-score\", opacity=0.4))\n",
    "fig.add_hline(y=2, line_dash=\"dash\", line_color=\"red\", annotation_text=\"z-score upper threshold\", annotation_position=\"top right\", opacity=0.4)\n",
    "fig.add_hline(y=-2, line_dash=\"dash\", line_color=\"red\", annotation_text=\"z-score lower threshold\", annotation_position=\"bottom right\", opacity=0.4)\n",
    "fig.update_layout(title=\"spread through time\")\n",
    "fig.show()\n",
    "# fig.write_html(\"html_plot/log_price.html\")"
   ]
  },
  {
   "cell_type": "code",
   "execution_count": 7,
   "id": "8f86e44d",
   "metadata": {},
   "outputs": [
    {
     "data": {
      "application/vnd.plotly.v1+json": {
       "config": {
        "plotlyServerURL": "https://plot.ly"
       },
       "data": [
        {
         "mode": "lines",
         "name": "Rolling ADF p-value",
         "type": "scatter",
         "x": [
          "2022-09-07",
          "2022-09-08",
          "2022-09-09",
          "2022-09-12",
          "2022-09-13",
          "2022-09-14",
          "2022-09-15",
          "2022-09-16",
          "2022-09-19",
          "2022-09-20",
          "2022-09-21",
          "2022-09-22",
          "2022-09-23",
          "2022-09-26",
          "2022-09-27",
          "2022-09-28",
          "2022-09-29",
          "2022-09-30",
          "2022-10-03",
          "2022-10-04",
          "2022-10-05",
          "2022-10-06",
          "2022-10-07",
          "2022-10-10",
          "2022-10-11",
          "2022-10-12",
          "2022-10-13",
          "2022-10-14",
          "2022-10-17",
          "2022-10-18",
          "2022-10-19",
          "2022-10-20",
          "2022-10-21",
          "2022-10-24",
          "2022-10-25",
          "2022-10-26",
          "2022-10-27",
          "2022-10-28",
          "2022-10-31",
          "2022-11-01",
          "2022-11-02",
          "2022-11-03",
          "2022-11-04",
          "2022-11-07",
          "2022-11-08",
          "2022-11-09",
          "2022-11-10",
          "2022-11-11",
          "2022-11-14",
          "2022-11-15",
          "2022-11-16",
          "2022-11-17",
          "2022-11-18",
          "2022-11-21",
          "2022-11-22",
          "2022-11-23",
          "2022-11-25",
          "2022-11-28",
          "2022-11-29",
          "2022-11-30",
          "2022-12-01",
          "2022-12-02",
          "2022-12-05",
          "2022-12-06",
          "2022-12-07",
          "2022-12-08",
          "2022-12-09",
          "2022-12-12",
          "2022-12-13",
          "2022-12-14",
          "2022-12-15",
          "2022-12-16",
          "2022-12-19",
          "2022-12-20",
          "2022-12-21",
          "2022-12-22",
          "2022-12-23",
          "2022-12-27",
          "2022-12-28",
          "2022-12-29",
          "2022-12-30",
          "2023-01-03",
          "2023-01-04",
          "2023-01-05",
          "2023-01-06",
          "2023-01-09",
          "2023-01-10",
          "2023-01-11",
          "2023-01-12",
          "2023-01-13",
          "2023-01-17",
          "2023-01-18",
          "2023-01-19",
          "2023-01-20",
          "2023-01-23",
          "2023-01-24",
          "2023-01-25",
          "2023-01-26",
          "2023-01-27",
          "2023-01-30",
          "2023-01-31",
          "2023-02-01",
          "2023-02-02",
          "2023-02-03",
          "2023-02-06",
          "2023-02-07",
          "2023-02-08",
          "2023-02-09",
          "2023-02-10",
          "2023-02-13",
          "2023-02-14",
          "2023-02-15",
          "2023-02-16",
          "2023-02-17",
          "2023-02-21",
          "2023-02-22",
          "2023-02-23",
          "2023-02-24",
          "2023-02-27",
          "2023-02-28",
          "2023-03-01",
          "2023-03-02",
          "2023-03-03",
          "2023-03-06",
          "2023-03-07",
          "2023-03-08",
          "2023-03-09",
          "2023-03-10",
          "2023-03-13",
          "2023-03-14",
          "2023-03-15",
          "2023-03-16",
          "2023-03-17",
          "2023-03-20",
          "2023-03-21",
          "2023-03-22",
          "2023-03-23",
          "2023-03-24",
          "2023-03-27",
          "2023-03-28",
          "2023-03-29",
          "2023-03-30",
          "2023-03-31",
          "2023-04-03",
          "2023-04-04",
          "2023-04-05",
          "2023-04-06",
          "2023-04-10",
          "2023-04-11",
          "2023-04-12",
          "2023-04-13",
          "2023-04-14",
          "2023-04-17",
          "2023-04-18",
          "2023-04-19",
          "2023-04-20",
          "2023-04-21",
          "2023-04-24",
          "2023-04-25",
          "2023-04-26",
          "2023-04-27",
          "2023-04-28",
          "2023-05-01",
          "2023-05-02",
          "2023-05-03",
          "2023-05-04",
          "2023-05-05",
          "2023-05-08",
          "2023-05-09",
          "2023-05-10",
          "2023-05-11",
          "2023-05-12",
          "2023-05-15",
          "2023-05-16",
          "2023-05-17",
          "2023-05-18",
          "2023-05-19",
          "2023-05-22",
          "2023-05-23",
          "2023-05-24",
          "2023-05-25",
          "2023-05-26",
          "2023-05-30",
          "2023-05-31",
          "2023-06-01",
          "2023-06-02",
          "2023-06-05",
          "2023-06-06",
          "2023-06-07",
          "2023-06-08",
          "2023-06-09",
          "2023-06-12",
          "2023-06-13",
          "2023-06-14",
          "2023-06-15",
          "2023-06-16",
          "2023-06-20",
          "2023-06-21",
          "2023-06-22",
          "2023-06-23",
          "2023-06-26",
          "2023-06-27",
          "2023-06-28",
          "2023-06-29",
          "2023-06-30",
          "2023-07-03",
          "2023-07-05",
          "2023-07-06",
          "2023-07-07",
          "2023-07-10",
          "2023-07-11",
          "2023-07-12",
          "2023-07-13",
          "2023-07-14",
          "2023-07-17",
          "2023-07-18",
          "2023-07-19",
          "2023-07-20",
          "2023-07-21",
          "2023-07-24",
          "2023-07-25",
          "2023-07-26",
          "2023-07-27",
          "2023-07-28",
          "2023-07-31",
          "2023-08-01",
          "2023-08-02",
          "2023-08-03",
          "2023-08-04",
          "2023-08-07",
          "2023-08-08",
          "2023-08-09",
          "2023-08-10",
          "2023-08-11",
          "2023-08-14",
          "2023-08-15",
          "2023-08-16",
          "2023-08-17",
          "2023-08-18",
          "2023-08-21",
          "2023-08-22",
          "2023-08-23",
          "2023-08-24",
          "2023-08-25",
          "2023-08-28",
          "2023-08-29",
          "2023-08-30",
          "2023-08-31",
          "2023-09-01",
          "2023-09-05",
          "2023-09-06",
          "2023-09-07",
          "2023-09-08",
          "2023-09-11",
          "2023-09-12",
          "2023-09-13",
          "2023-09-14",
          "2023-09-15",
          "2023-09-18",
          "2023-09-19",
          "2023-09-20",
          "2023-09-21",
          "2023-09-22",
          "2023-09-25",
          "2023-09-26",
          "2023-09-27",
          "2023-09-28",
          "2023-09-29",
          "2023-10-02",
          "2023-10-03",
          "2023-10-04",
          "2023-10-05",
          "2023-10-06",
          "2023-10-09",
          "2023-10-10",
          "2023-10-11",
          "2023-10-12",
          "2023-10-13",
          "2023-10-16",
          "2023-10-17",
          "2023-10-18",
          "2023-10-19",
          "2023-10-20",
          "2023-10-23",
          "2023-10-24",
          "2023-10-25",
          "2023-10-26",
          "2023-10-27",
          "2023-10-30",
          "2023-10-31",
          "2023-11-01",
          "2023-11-02",
          "2023-11-03",
          "2023-11-06",
          "2023-11-07",
          "2023-11-08",
          "2023-11-09",
          "2023-11-10",
          "2023-11-13",
          "2023-11-14",
          "2023-11-15",
          "2023-11-16",
          "2023-11-17",
          "2023-11-20",
          "2023-11-21",
          "2023-11-22",
          "2023-11-24",
          "2023-11-27",
          "2023-11-28",
          "2023-11-29",
          "2023-11-30",
          "2023-12-01",
          "2023-12-04",
          "2023-12-05",
          "2023-12-06",
          "2023-12-07",
          "2023-12-08",
          "2023-12-11",
          "2023-12-12",
          "2023-12-13",
          "2023-12-14",
          "2023-12-15",
          "2023-12-18",
          "2023-12-19",
          "2023-12-20",
          "2023-12-21",
          "2023-12-22",
          "2023-12-26",
          "2023-12-27",
          "2023-12-28",
          "2023-12-29",
          "2024-01-02",
          "2024-01-03",
          "2024-01-04",
          "2024-01-05",
          "2024-01-08",
          "2024-01-09",
          "2024-01-10",
          "2024-01-11",
          "2024-01-12",
          "2024-01-16",
          "2024-01-17",
          "2024-01-18",
          "2024-01-19",
          "2024-01-22",
          "2024-01-23",
          "2024-01-24",
          "2024-01-25",
          "2024-01-26",
          "2024-01-29",
          "2024-01-30",
          "2024-01-31",
          "2024-02-01",
          "2024-02-02",
          "2024-02-05",
          "2024-02-06",
          "2024-02-07",
          "2024-02-08",
          "2024-02-09",
          "2024-02-12",
          "2024-02-13",
          "2024-02-14",
          "2024-02-15",
          "2024-02-16",
          "2024-02-20",
          "2024-02-21",
          "2024-02-22",
          "2024-02-23",
          "2024-02-26",
          "2024-02-27",
          "2024-02-28",
          "2024-02-29",
          "2024-03-01",
          "2024-03-04",
          "2024-03-05",
          "2024-03-06",
          "2024-03-07",
          "2024-03-08",
          "2024-03-11",
          "2024-03-12",
          "2024-03-13",
          "2024-03-14",
          "2024-03-15",
          "2024-03-18",
          "2024-03-19",
          "2024-03-20",
          "2024-03-21",
          "2024-03-22",
          "2024-03-25",
          "2024-03-26",
          "2024-03-27",
          "2024-03-28",
          "2024-04-01",
          "2024-04-02",
          "2024-04-03",
          "2024-04-04",
          "2024-04-05",
          "2024-04-08",
          "2024-04-09",
          "2024-04-10",
          "2024-04-11",
          "2024-04-12",
          "2024-04-15",
          "2024-04-16",
          "2024-04-17",
          "2024-04-18",
          "2024-04-19",
          "2024-04-22",
          "2024-04-23",
          "2024-04-24",
          "2024-04-25",
          "2024-04-26",
          "2024-04-29",
          "2024-04-30",
          "2024-05-01",
          "2024-05-02",
          "2024-05-03",
          "2024-05-06",
          "2024-05-07",
          "2024-05-08",
          "2024-05-09",
          "2024-05-10",
          "2024-05-13",
          "2024-05-14",
          "2024-05-15",
          "2024-05-16",
          "2024-05-17",
          "2024-05-20",
          "2024-05-21",
          "2024-05-22",
          "2024-05-23",
          "2024-05-24",
          "2024-05-28",
          "2024-05-29",
          "2024-05-30",
          "2024-05-31",
          "2024-06-03",
          "2024-06-04",
          "2024-06-05",
          "2024-06-06",
          "2024-06-07",
          "2024-06-10",
          "2024-06-11",
          "2024-06-12",
          "2024-06-13",
          "2024-06-14",
          "2024-06-17",
          "2024-06-18",
          "2024-06-20",
          "2024-06-21",
          "2024-06-24",
          "2024-06-25",
          "2024-06-26",
          "2024-06-27",
          "2024-06-28",
          "2024-07-01",
          "2024-07-02",
          "2024-07-03",
          "2024-07-05",
          "2024-07-08",
          "2024-07-09",
          "2024-07-10",
          "2024-07-11",
          "2024-07-12",
          "2024-07-15",
          "2024-07-16",
          "2024-07-17",
          "2024-07-18",
          "2024-07-19",
          "2024-07-22",
          "2024-07-23",
          "2024-07-24",
          "2024-07-25",
          "2024-07-26",
          "2024-07-29",
          "2024-07-30",
          "2024-07-31",
          "2024-08-01",
          "2024-08-02",
          "2024-08-05",
          "2024-08-06",
          "2024-08-07",
          "2024-08-08",
          "2024-08-09",
          "2024-08-12",
          "2024-08-13",
          "2024-08-14",
          "2024-08-15",
          "2024-08-16",
          "2024-08-19",
          "2024-08-20",
          "2024-08-21",
          "2024-08-22",
          "2024-08-23",
          "2024-08-26",
          "2024-08-27",
          "2024-08-28",
          "2024-08-29",
          "2024-08-30",
          "2024-09-03",
          "2024-09-04",
          "2024-09-05",
          "2024-09-06",
          "2024-09-09",
          "2024-09-10",
          "2024-09-11",
          "2024-09-12",
          "2024-09-13",
          "2024-09-16",
          "2024-09-17",
          "2024-09-18",
          "2024-09-19",
          "2024-09-20",
          "2024-09-23",
          "2024-09-24",
          "2024-09-25",
          "2024-09-26",
          "2024-09-27",
          "2024-09-30",
          "2024-10-01",
          "2024-10-02",
          "2024-10-03",
          "2024-10-04",
          "2024-10-07",
          "2024-10-08",
          "2024-10-09",
          "2024-10-10",
          "2024-10-11",
          "2024-10-14",
          "2024-10-15",
          "2024-10-16",
          "2024-10-17",
          "2024-10-18",
          "2024-10-21",
          "2024-10-22",
          "2024-10-23",
          "2024-10-24",
          "2024-10-25",
          "2024-10-28",
          "2024-10-29",
          "2024-10-30",
          "2024-10-31",
          "2024-11-01",
          "2024-11-04",
          "2024-11-05",
          "2024-11-06",
          "2024-11-07",
          "2024-11-08",
          "2024-11-11",
          "2024-11-12",
          "2024-11-13",
          "2024-11-14",
          "2024-11-15",
          "2024-11-18",
          "2024-11-19",
          "2024-11-20",
          "2024-11-21",
          "2024-11-22",
          "2024-11-25",
          "2024-11-26",
          "2024-11-27",
          "2024-11-29",
          "2024-12-02",
          "2024-12-03",
          "2024-12-04",
          "2024-12-05",
          "2024-12-06",
          "2024-12-09",
          "2024-12-10",
          "2024-12-11",
          "2024-12-12",
          "2024-12-13",
          "2024-12-16",
          "2024-12-17",
          "2024-12-18",
          "2024-12-19",
          "2024-12-20",
          "2024-12-23",
          "2024-12-24",
          "2024-12-26",
          "2024-12-27",
          "2024-12-30",
          "2024-12-31",
          "2025-01-02",
          "2025-01-03",
          "2025-01-06",
          "2025-01-07",
          "2025-01-08",
          "2025-01-10",
          "2025-01-13",
          "2025-01-14",
          "2025-01-15",
          "2025-01-16",
          "2025-01-17",
          "2025-01-21",
          "2025-01-22",
          "2025-01-23",
          "2025-01-24",
          "2025-01-27",
          "2025-01-28",
          "2025-01-29",
          "2025-01-30",
          "2025-01-31",
          "2025-02-03",
          "2025-02-04",
          "2025-02-05",
          "2025-02-06",
          "2025-02-07",
          "2025-02-10",
          "2025-02-11",
          "2025-02-12",
          "2025-02-13",
          "2025-02-14",
          "2025-02-18",
          "2025-02-19",
          "2025-02-20",
          "2025-02-21",
          "2025-02-24",
          "2025-02-25",
          "2025-02-26",
          "2025-02-27",
          "2025-02-28",
          "2025-03-03",
          "2025-03-04",
          "2025-03-05",
          "2025-03-06",
          "2025-03-07",
          "2025-03-10",
          "2025-03-11",
          "2025-03-12",
          "2025-03-13",
          "2025-03-14",
          "2025-03-17",
          "2025-03-18",
          "2025-03-19",
          "2025-03-20",
          "2025-03-21",
          "2025-03-24",
          "2025-03-25",
          "2025-03-26",
          "2025-03-27",
          "2025-03-28",
          "2025-03-31",
          "2025-04-01",
          "2025-04-02",
          "2025-04-03",
          "2025-04-04",
          "2025-04-07",
          "2025-04-08",
          "2025-04-09",
          "2025-04-10",
          "2025-04-11",
          "2025-04-14",
          "2025-04-15",
          "2025-04-16"
         ],
         "y": {
          "bdata": "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",
          "dtype": "f8"
         }
        }
       ],
       "layout": {
        "annotations": [
         {
          "showarrow": false,
          "text": "Significance threshold (0.05)",
          "x": 1,
          "xanchor": "right",
          "xref": "x domain",
          "y": 0.05,
          "yanchor": "top",
          "yref": "y"
         }
        ],
        "shapes": [
         {
          "line": {
           "color": "red",
           "dash": "dash"
          },
          "type": "line",
          "x0": 0,
          "x1": 1,
          "xref": "x domain",
          "y0": 0.05,
          "y1": 0.05,
          "yref": "y"
         }
        ],
        "template": {
         "data": {
          "bar": [
           {
            "error_x": {
             "color": "#2a3f5f"
            },
            "error_y": {
             "color": "#2a3f5f"
            },
            "marker": {
             "line": {
              "color": "#E5ECF6",
              "width": 0.5
             },
             "pattern": {
              "fillmode": "overlay",
              "size": 10,
              "solidity": 0.2
             }
            },
            "type": "bar"
           }
          ],
          "barpolar": [
           {
            "marker": {
             "line": {
              "color": "#E5ECF6",
              "width": 0.5
             },
             "pattern": {
              "fillmode": "overlay",
              "size": 10,
              "solidity": 0.2
             }
            },
            "type": "barpolar"
           }
          ],
          "carpet": [
           {
            "aaxis": {
             "endlinecolor": "#2a3f5f",
             "gridcolor": "white",
             "linecolor": "white",
             "minorgridcolor": "white",
             "startlinecolor": "#2a3f5f"
            },
            "baxis": {
             "endlinecolor": "#2a3f5f",
             "gridcolor": "white",
             "linecolor": "white",
             "minorgridcolor": "white",
             "startlinecolor": "#2a3f5f"
            },
            "type": "carpet"
           }
          ],
          "choropleth": [
           {
            "colorbar": {
             "outlinewidth": 0,
             "ticks": ""
            },
            "type": "choropleth"
           }
          ],
          "contour": [
           {
            "colorbar": {
             "outlinewidth": 0,
             "ticks": ""
            },
            "colorscale": [
             [
              0,
              "#0d0887"
             ],
             [
              0.1111111111111111,
              "#46039f"
             ],
             [
              0.2222222222222222,
              "#7201a8"
             ],
             [
              0.3333333333333333,
              "#9c179e"
             ],
             [
              0.4444444444444444,
              "#bd3786"
             ],
             [
              0.5555555555555556,
              "#d8576b"
             ],
             [
              0.6666666666666666,
              "#ed7953"
             ],
             [
              0.7777777777777778,
              "#fb9f3a"
             ],
             [
              0.8888888888888888,
              "#fdca26"
             ],
             [
              1,
              "#f0f921"
             ]
            ],
            "type": "contour"
           }
          ],
          "contourcarpet": [
           {
            "colorbar": {
             "outlinewidth": 0,
             "ticks": ""
            },
            "type": "contourcarpet"
           }
          ],
          "heatmap": [
           {
            "colorbar": {
             "outlinewidth": 0,
             "ticks": ""
            },
            "colorscale": [
             [
              0,
              "#0d0887"
             ],
             [
              0.1111111111111111,
              "#46039f"
             ],
             [
              0.2222222222222222,
              "#7201a8"
             ],
             [
              0.3333333333333333,
              "#9c179e"
             ],
             [
              0.4444444444444444,
              "#bd3786"
             ],
             [
              0.5555555555555556,
              "#d8576b"
             ],
             [
              0.6666666666666666,
              "#ed7953"
             ],
             [
              0.7777777777777778,
              "#fb9f3a"
             ],
             [
              0.8888888888888888,
              "#fdca26"
             ],
             [
              1,
              "#f0f921"
             ]
            ],
            "type": "heatmap"
           }
          ],
          "histogram": [
           {
            "marker": {
             "pattern": {
              "fillmode": "overlay",
              "size": 10,
              "solidity": 0.2
             }
            },
            "type": "histogram"
           }
          ],
          "histogram2d": [
           {
            "colorbar": {
             "outlinewidth": 0,
             "ticks": ""
            },
            "colorscale": [
             [
              0,
              "#0d0887"
             ],
             [
              0.1111111111111111,
              "#46039f"
             ],
             [
              0.2222222222222222,
              "#7201a8"
             ],
             [
              0.3333333333333333,
              "#9c179e"
             ],
             [
              0.4444444444444444,
              "#bd3786"
             ],
             [
              0.5555555555555556,
              "#d8576b"
             ],
             [
              0.6666666666666666,
              "#ed7953"
             ],
             [
              0.7777777777777778,
              "#fb9f3a"
             ],
             [
              0.8888888888888888,
              "#fdca26"
             ],
             [
              1,
              "#f0f921"
             ]
            ],
            "type": "histogram2d"
           }
          ],
          "histogram2dcontour": [
           {
            "colorbar": {
             "outlinewidth": 0,
             "ticks": ""
            },
            "colorscale": [
             [
              0,
              "#0d0887"
             ],
             [
              0.1111111111111111,
              "#46039f"
             ],
             [
              0.2222222222222222,
              "#7201a8"
             ],
             [
              0.3333333333333333,
              "#9c179e"
             ],
             [
              0.4444444444444444,
              "#bd3786"
             ],
             [
              0.5555555555555556,
              "#d8576b"
             ],
             [
              0.6666666666666666,
              "#ed7953"
             ],
             [
              0.7777777777777778,
              "#fb9f3a"
             ],
             [
              0.8888888888888888,
              "#fdca26"
             ],
             [
              1,
              "#f0f921"
             ]
            ],
            "type": "histogram2dcontour"
           }
          ],
          "mesh3d": [
           {
            "colorbar": {
             "outlinewidth": 0,
             "ticks": ""
            },
            "type": "mesh3d"
           }
          ],
          "parcoords": [
           {
            "line": {
             "colorbar": {
              "outlinewidth": 0,
              "ticks": ""
             }
            },
            "type": "parcoords"
           }
          ],
          "pie": [
           {
            "automargin": true,
            "type": "pie"
           }
          ],
          "scatter": [
           {
            "fillpattern": {
             "fillmode": "overlay",
             "size": 10,
             "solidity": 0.2
            },
            "type": "scatter"
           }
          ],
          "scatter3d": [
           {
            "line": {
             "colorbar": {
              "outlinewidth": 0,
              "ticks": ""
             }
            },
            "marker": {
             "colorbar": {
              "outlinewidth": 0,
              "ticks": ""
             }
            },
            "type": "scatter3d"
           }
          ],
          "scattercarpet": [
           {
            "marker": {
             "colorbar": {
              "outlinewidth": 0,
              "ticks": ""
             }
            },
            "type": "scattercarpet"
           }
          ],
          "scattergeo": [
           {
            "marker": {
             "colorbar": {
              "outlinewidth": 0,
              "ticks": ""
             }
            },
            "type": "scattergeo"
           }
          ],
          "scattergl": [
           {
            "marker": {
             "colorbar": {
              "outlinewidth": 0,
              "ticks": ""
             }
            },
            "type": "scattergl"
           }
          ],
          "scattermap": [
           {
            "marker": {
             "colorbar": {
              "outlinewidth": 0,
              "ticks": ""
             }
            },
            "type": "scattermap"
           }
          ],
          "scattermapbox": [
           {
            "marker": {
             "colorbar": {
              "outlinewidth": 0,
              "ticks": ""
             }
            },
            "type": "scattermapbox"
           }
          ],
          "scatterpolar": [
           {
            "marker": {
             "colorbar": {
              "outlinewidth": 0,
              "ticks": ""
             }
            },
            "type": "scatterpolar"
           }
          ],
          "scatterpolargl": [
           {
            "marker": {
             "colorbar": {
              "outlinewidth": 0,
              "ticks": ""
             }
            },
            "type": "scatterpolargl"
           }
          ],
          "scatterternary": [
           {
            "marker": {
             "colorbar": {
              "outlinewidth": 0,
              "ticks": ""
             }
            },
            "type": "scatterternary"
           }
          ],
          "surface": [
           {
            "colorbar": {
             "outlinewidth": 0,
             "ticks": ""
            },
            "colorscale": [
             [
              0,
              "#0d0887"
             ],
             [
              0.1111111111111111,
              "#46039f"
             ],
             [
              0.2222222222222222,
              "#7201a8"
             ],
             [
              0.3333333333333333,
              "#9c179e"
             ],
             [
              0.4444444444444444,
              "#bd3786"
             ],
             [
              0.5555555555555556,
              "#d8576b"
             ],
             [
              0.6666666666666666,
              "#ed7953"
             ],
             [
              0.7777777777777778,
              "#fb9f3a"
             ],
             [
              0.8888888888888888,
              "#fdca26"
             ],
             [
              1,
              "#f0f921"
             ]
            ],
            "type": "surface"
           }
          ],
          "table": [
           {
            "cells": {
             "fill": {
              "color": "#EBF0F8"
             },
             "line": {
              "color": "white"
             }
            },
            "header": {
             "fill": {
              "color": "#C8D4E3"
             },
             "line": {
              "color": "white"
             }
            },
            "type": "table"
           }
          ]
         },
         "layout": {
          "annotationdefaults": {
           "arrowcolor": "#2a3f5f",
           "arrowhead": 0,
           "arrowwidth": 1
          },
          "autotypenumbers": "strict",
          "coloraxis": {
           "colorbar": {
            "outlinewidth": 0,
            "ticks": ""
           }
          },
          "colorscale": {
           "diverging": [
            [
             0,
             "#8e0152"
            ],
            [
             0.1,
             "#c51b7d"
            ],
            [
             0.2,
             "#de77ae"
            ],
            [
             0.3,
             "#f1b6da"
            ],
            [
             0.4,
             "#fde0ef"
            ],
            [
             0.5,
             "#f7f7f7"
            ],
            [
             0.6,
             "#e6f5d0"
            ],
            [
             0.7,
             "#b8e186"
            ],
            [
             0.8,
             "#7fbc41"
            ],
            [
             0.9,
             "#4d9221"
            ],
            [
             1,
             "#276419"
            ]
           ],
           "sequential": [
            [
             0,
             "#0d0887"
            ],
            [
             0.1111111111111111,
             "#46039f"
            ],
            [
             0.2222222222222222,
             "#7201a8"
            ],
            [
             0.3333333333333333,
             "#9c179e"
            ],
            [
             0.4444444444444444,
             "#bd3786"
            ],
            [
             0.5555555555555556,
             "#d8576b"
            ],
            [
             0.6666666666666666,
             "#ed7953"
            ],
            [
             0.7777777777777778,
             "#fb9f3a"
            ],
            [
             0.8888888888888888,
             "#fdca26"
            ],
            [
             1,
             "#f0f921"
            ]
           ],
           "sequentialminus": [
            [
             0,
             "#0d0887"
            ],
            [
             0.1111111111111111,
             "#46039f"
            ],
            [
             0.2222222222222222,
             "#7201a8"
            ],
            [
             0.3333333333333333,
             "#9c179e"
            ],
            [
             0.4444444444444444,
             "#bd3786"
            ],
            [
             0.5555555555555556,
             "#d8576b"
            ],
            [
             0.6666666666666666,
             "#ed7953"
            ],
            [
             0.7777777777777778,
             "#fb9f3a"
            ],
            [
             0.8888888888888888,
             "#fdca26"
            ],
            [
             1,
             "#f0f921"
            ]
           ]
          },
          "colorway": [
           "#636efa",
           "#EF553B",
           "#00cc96",
           "#ab63fa",
           "#FFA15A",
           "#19d3f3",
           "#FF6692",
           "#B6E880",
           "#FF97FF",
           "#FECB52"
          ],
          "font": {
           "color": "#2a3f5f"
          },
          "geo": {
           "bgcolor": "white",
           "lakecolor": "white",
           "landcolor": "#E5ECF6",
           "showlakes": true,
           "showland": true,
           "subunitcolor": "white"
          },
          "hoverlabel": {
           "align": "left"
          },
          "hovermode": "closest",
          "mapbox": {
           "style": "light"
          },
          "paper_bgcolor": "white",
          "plot_bgcolor": "#E5ECF6",
          "polar": {
           "angularaxis": {
            "gridcolor": "white",
            "linecolor": "white",
            "ticks": ""
           },
           "bgcolor": "#E5ECF6",
           "radialaxis": {
            "gridcolor": "white",
            "linecolor": "white",
            "ticks": ""
           }
          },
          "scene": {
           "xaxis": {
            "backgroundcolor": "#E5ECF6",
            "gridcolor": "white",
            "gridwidth": 2,
            "linecolor": "white",
            "showbackground": true,
            "ticks": "",
            "zerolinecolor": "white"
           },
           "yaxis": {
            "backgroundcolor": "#E5ECF6",
            "gridcolor": "white",
            "gridwidth": 2,
            "linecolor": "white",
            "showbackground": true,
            "ticks": "",
            "zerolinecolor": "white"
           },
           "zaxis": {
            "backgroundcolor": "#E5ECF6",
            "gridcolor": "white",
            "gridwidth": 2,
            "linecolor": "white",
            "showbackground": true,
            "ticks": "",
            "zerolinecolor": "white"
           }
          },
          "shapedefaults": {
           "line": {
            "color": "#2a3f5f"
           }
          },
          "ternary": {
           "aaxis": {
            "gridcolor": "white",
            "linecolor": "white",
            "ticks": ""
           },
           "baxis": {
            "gridcolor": "white",
            "linecolor": "white",
            "ticks": ""
           },
           "bgcolor": "#E5ECF6",
           "caxis": {
            "gridcolor": "white",
            "linecolor": "white",
            "ticks": ""
           }
          },
          "title": {
           "x": 0.05
          },
          "xaxis": {
           "automargin": true,
           "gridcolor": "white",
           "linecolor": "white",
           "ticks": "",
           "title": {
            "standoff": 15
           },
           "zerolinecolor": "white",
           "zerolinewidth": 2
          },
          "yaxis": {
           "automargin": true,
           "gridcolor": "white",
           "linecolor": "white",
           "ticks": "",
           "title": {
            "standoff": 15
           },
           "zerolinecolor": "white",
           "zerolinewidth": 2
          }
         }
        },
        "title": {
         "text": "Rolling ADF Test on Spread (window=60)"
        },
        "xaxis": {
         "title": {
          "text": "timestamp"
         }
        },
        "yaxis": {
         "title": {
          "text": "p-value"
         }
        }
       }
      }
     },
     "metadata": {},
     "output_type": "display_data"
    }
   ],
   "source": [
    "fig = go.Figure()\n",
    "rolling_window = 60\n",
    "fig.add_trace(go.Scatter(x=rolling_adf_df[\"timestamp\"], y=rolling_adf_df[\"p_value\"], mode=\"lines\", name=\"Rolling ADF p-value\"))\n",
    "fig.add_hline(y=0.05, line_dash=\"dash\", line_color=\"red\", annotation_text=\"Significance threshold (0.05)\", annotation_position=\"bottom right\")\n",
    "fig.update_layout(title=f\"Rolling ADF Test on Spread (window={rolling_window})\", xaxis_title=\"timestamp\", yaxis_title=\"p-value\")\n",
    "fig.show()\n",
    "fig.write_html('html_plot/adf_test.html')"
   ]
  },
  {
   "cell_type": "code",
   "execution_count": 62,
   "id": "f052d6e4",
   "metadata": {},
   "outputs": [],
   "source": [
    "df = trade_df.copy()\n",
    "df[\"signal_z_score\"] = df[\"z_score\"].shift(1)\n",
    "df[\"signal_spread\"] = df[\"spread\"].shift(1)\n",
    "df[\"signal_p_value\"] = df[\"p_value\"].shift(1)\n",
    "df[\"position\"] = 0\n",
    "df[\"trade_entry\"] = False\n",
    "df[\"trade_exit\"] = False\n",
    "df[\"pnl\"] = 0.0\n",
    "\n",
    "\n",
    "\n",
    "in_position = False\n",
    "position_type = 0\n",
    "entry_index = None\n",
    "entry_tsla_price = None\n",
    "entry_rivn_price = None\n",
    "tsla_qty = 0\n",
    "rivn_qty = 0\n",
    "\n",
    "\n",
    "\n",
    "blotter = []\n",
    "ledger = []\n",
    "\n",
    "\n",
    "notional = 10000\n",
    "\n",
    "\n",
    "account_value = 100000\n",
    "cumulative_pnl = 0.0\n",
    "\n",
    "for i in range(1, len(df)):\n",
    "    z = df[\"signal_z_score\"].iloc[i]\n",
    "    spread = df[\"signal_spread\"].iloc[i]\n",
    "    p_value = df[\"signal_p_value\"].iloc[i]\n",
    "    tsla_open = df[\"open_TSLA\"].iloc[i]\n",
    "    rivn_open = df[\"open_RIVN\"].iloc[i]\n",
    "    tsla_close = df[\"close_TSLA\"].iloc[i]\n",
    "    rivn_close = df[\"close_RIVN\"].iloc[i]\n",
    "    timestamp = df[\"timestamp\"].iloc[i]\n",
    "    beta = df[\"hedge_ratio\"].iloc[i]\n",
    "\n",
    "    if not in_position and p_value < 0.05:\n",
    "        is_entry = False\n",
    "        if z > 2:\n",
    "            if beta > 0:\n",
    "                # short spread: short TSLA, long RIVN\n",
    "                tsla_qty = -round(notional / tsla_open)\n",
    "                rivn_qty = round((beta * notional) / rivn_open)\n",
    "                direction = \"short TSLA, long RIVN\"\n",
    "                position_type = -1\n",
    "                is_entry = True\n",
    "            else:\n",
    "                # short spread with negative beta: long TSLA, short RIVN\n",
    "                tsla_qty = round(notional / tsla_open)\n",
    "                rivn_qty = -round((abs(beta) * notional) / rivn_open)\n",
    "                direction = \"long TSLA, short RIVN (β<0)\"\n",
    "                position_type = -1\n",
    "                is_entry = True\n",
    "\n",
    "        elif z < -2:\n",
    "            if beta > 0:\n",
    "                # long spread: long TSLA, short RIVN\n",
    "                tsla_qty = round(notional / tsla_open)\n",
    "                rivn_qty = -round((beta * notional) / rivn_open)\n",
    "                direction = \"long TSLA, short RIVN\"\n",
    "                position_type = 1\n",
    "                is_entry = True\n",
    "            else:\n",
    "                # long spread with negative beta: short TSLA, long RIVN\n",
    "                tsla_qty = -round(notional / tsla_open)\n",
    "                rivn_qty = round((abs(beta) * notional) / rivn_open)\n",
    "                direction = \"short TSLA, long RIVN (β<0)\"\n",
    "                position_type = 1\n",
    "                is_entry = True\n",
    "\n",
    "        if is_entry:\n",
    "            df.at[df.index[i], \"position\"] = position_type\n",
    "            df.at[df.index[i], \"trade_entry\"] = True\n",
    "            in_position = True\n",
    "            entry_index = i\n",
    "\n",
    "            entry_tsla_price = tsla_open\n",
    "            entry_rivn_price = rivn_open\n",
    "\n",
    "            blotter.append(\n",
    "                {\n",
    "                    \"entry_time\": timestamp,\n",
    "                    \"entry_tsla\": tsla_open,\n",
    "                    \"entry_rivn\": rivn_open,\n",
    "                    \"direction\": direction,\n",
    "                    \"entry_spread\": spread,\n",
    "                    \"hedge_ratio\": beta,\n",
    "                    \"TSLA_qty\": tsla_qty,\n",
    "                    \"RIVN_qty\": rivn_qty,\n",
    "                }\n",
    "            )\n",
    "\n",
    "    daily_pnl = 0.0\n",
    "    if in_position:\n",
    "        daily_pnl = (tsla_close - entry_tsla_price) * tsla_qty + (rivn_close - entry_rivn_price) * rivn_qty\n",
    "        df.at[df.index[i], \"pnl\"] = daily_pnl\n",
    "        # exit condition\n",
    "        mean_reversion_triggered = abs(z) < 0.5\n",
    "        timeout_triggered = i - entry_index >= 10 and (abs(z) > 3 or p_value > 0.05)\n",
    "        if mean_reversion_triggered or timeout_triggered:\n",
    "            reason = \"mean_reversion\" if mean_reversion_triggered else \"timeout\"\n",
    "            df.at[df.index[i], \"position\"] = 0\n",
    "            df.at[df.index[i], \"trade_exit\"] = True\n",
    "            pnl_tsla = (df[\"open_TSLA\"].iloc[i] - entry_tsla_price) * tsla_qty\n",
    "            pnl_rivn = (df[\"open_RIVN\"].iloc[i] - entry_rivn_price) * rivn_qty\n",
    "            daily_pnl = pnl_tsla + pnl_rivn\n",
    "            df.at[df.index[i], \"pnl\"] = daily_pnl\n",
    "            cumulative_pnl += daily_pnl\n",
    "            account_value += daily_pnl\n",
    "            blotter[-1].update({\"exit_time\": timestamp, \"exit_tsla\": tsla_open, \"exit_rivn\": rivn_open, \"exit_spread\": df[\"spread\"].iloc[i], \"pnl\": daily_pnl, \"reason\": reason})\n",
    "            in_position = False\n",
    "            position_type = 0\n",
    "            entry_index = None\n",
    "            entry_tsla_price = None\n",
    "            entry_rivn_price = None\n",
    "            tsla_qty = 0\n",
    "            rivn_qty = 0\n",
    "    else:\n",
    "        df.at[df.index[i], \"pnl\"] = 0.0\n",
    "\n",
    "    ledger.append(\n",
    "        {\n",
    "            \"timestamp\": timestamp,\n",
    "            \"position\": position_type,\n",
    "            \"TSLA_qty\": tsla_qty,\n",
    "            \"RIVN_qty\": rivn_qty,\n",
    "            \"TSLA_close\": tsla_close,\n",
    "            \"RIVN_close\": rivn_close,\n",
    "            \"daily_pnl\": daily_pnl,\n",
    "            \"account_value\": account_value + daily_pnl,\n",
    "            \"realized_pnl\": cumulative_pnl,\n",
    "        }\n",
    "    )\n",
    "\n",
    "\n",
    "\n",
    "blotter_df = pd.DataFrame(blotter)\n",
    "ledger_df = pd.DataFrame(ledger)"
   ]
  },
  {
   "cell_type": "code",
   "execution_count": 58,
   "id": "a3814803",
   "metadata": {},
   "outputs": [],
   "source": [
    "blotter_df\n",
    "write_table(blotter_df, 'blotter')"
   ]
  },
  {
   "cell_type": "code",
   "execution_count": 63,
   "id": "14fa7500",
   "metadata": {},
   "outputs": [
    {
     "data": {
      "text/html": [
       "<div>\n",
       "<style scoped>\n",
       "    .dataframe tbody tr th:only-of-type {\n",
       "        vertical-align: middle;\n",
       "    }\n",
       "\n",
       "    .dataframe tbody tr th {\n",
       "        vertical-align: top;\n",
       "    }\n",
       "\n",
       "    .dataframe thead th {\n",
       "        text-align: right;\n",
       "    }\n",
       "</style>\n",
       "<table border=\"1\" class=\"dataframe\">\n",
       "  <thead>\n",
       "    <tr style=\"text-align: right;\">\n",
       "      <th></th>\n",
       "      <th>entry_time</th>\n",
       "      <th>entry_tsla</th>\n",
       "      <th>entry_rivn</th>\n",
       "      <th>direction</th>\n",
       "      <th>entry_spread</th>\n",
       "      <th>hedge_ratio</th>\n",
       "      <th>TSLA_qty</th>\n",
       "      <th>RIVN_qty</th>\n",
       "      <th>exit_time</th>\n",
       "      <th>exit_tsla</th>\n",
       "      <th>exit_rivn</th>\n",
       "      <th>exit_spread</th>\n",
       "      <th>pnl</th>\n",
       "      <th>reason</th>\n",
       "    </tr>\n",
       "  </thead>\n",
       "  <tbody>\n",
       "    <tr>\n",
       "      <th>0</th>\n",
       "      <td>2023-01-19</td>\n",
       "      <td>127.28</td>\n",
       "      <td>16.27</td>\n",
       "      <td>short TSLA, long RIVN</td>\n",
       "      <td>-0.820653</td>\n",
       "      <td>0.554820</td>\n",
       "      <td>-79</td>\n",
       "      <td>341</td>\n",
       "      <td>2023-02-02</td>\n",
       "      <td>187.33</td>\n",
       "      <td>20.44</td>\n",
       "      <td>0.813464</td>\n",
       "      <td>-3321.98</td>\n",
       "      <td>timeout</td>\n",
       "    </tr>\n",
       "    <tr>\n",
       "      <th>1</th>\n",
       "      <td>2023-07-31</td>\n",
       "      <td>267.41</td>\n",
       "      <td>27.02</td>\n",
       "      <td>long TSLA, short RIVN (β&lt;0)</td>\n",
       "      <td>5.509661</td>\n",
       "      <td>-1.096994</td>\n",
       "      <td>37</td>\n",
       "      <td>-406</td>\n",
       "      <td>2023-08-14</td>\n",
       "      <td>235.70</td>\n",
       "      <td>20.90</td>\n",
       "      <td>-1.243744</td>\n",
       "      <td>1311.45</td>\n",
       "      <td>mean_reversion</td>\n",
       "    </tr>\n",
       "    <tr>\n",
       "      <th>2</th>\n",
       "      <td>2023-09-28</td>\n",
       "      <td>240.02</td>\n",
       "      <td>23.02</td>\n",
       "      <td>short TSLA, long RIVN</td>\n",
       "      <td>0.275336</td>\n",
       "      <td>0.485939</td>\n",
       "      <td>-42</td>\n",
       "      <td>211</td>\n",
       "      <td>2023-10-19</td>\n",
       "      <td>225.84</td>\n",
       "      <td>17.80</td>\n",
       "      <td>2.134464</td>\n",
       "      <td>-505.86</td>\n",
       "      <td>timeout</td>\n",
       "    </tr>\n",
       "    <tr>\n",
       "      <th>3</th>\n",
       "      <td>2023-11-17</td>\n",
       "      <td>231.97</td>\n",
       "      <td>16.48</td>\n",
       "      <td>short TSLA, long RIVN</td>\n",
       "      <td>0.660076</td>\n",
       "      <td>0.364140</td>\n",
       "      <td>-43</td>\n",
       "      <td>221</td>\n",
       "      <td>2023-12-05</td>\n",
       "      <td>233.85</td>\n",
       "      <td>17.60</td>\n",
       "      <td>-0.389895</td>\n",
       "      <td>166.68</td>\n",
       "      <td>mean_reversion</td>\n",
       "    </tr>\n",
       "    <tr>\n",
       "      <th>4</th>\n",
       "      <td>2023-12-11</td>\n",
       "      <td>242.75</td>\n",
       "      <td>19.11</td>\n",
       "      <td>long TSLA, short RIVN</td>\n",
       "      <td>-3.450797</td>\n",
       "      <td>1.374678</td>\n",
       "      <td>41</td>\n",
       "      <td>-719</td>\n",
       "      <td>2023-12-26</td>\n",
       "      <td>254.49</td>\n",
       "      <td>23.47</td>\n",
       "      <td>-19.175641</td>\n",
       "      <td>-2653.50</td>\n",
       "      <td>timeout</td>\n",
       "    </tr>\n",
       "    <tr>\n",
       "      <th>5</th>\n",
       "      <td>2024-04-16</td>\n",
       "      <td>156.77</td>\n",
       "      <td>8.38</td>\n",
       "      <td>long TSLA, short RIVN</td>\n",
       "      <td>-6.620424</td>\n",
       "      <td>1.781544</td>\n",
       "      <td>64</td>\n",
       "      <td>-2126</td>\n",
       "      <td>2024-04-24</td>\n",
       "      <td>162.92</td>\n",
       "      <td>9.16</td>\n",
       "      <td>-3.107723</td>\n",
       "      <td>-1264.68</td>\n",
       "      <td>mean_reversion</td>\n",
       "    </tr>\n",
       "    <tr>\n",
       "      <th>6</th>\n",
       "      <td>2024-05-23</td>\n",
       "      <td>181.80</td>\n",
       "      <td>10.57</td>\n",
       "      <td>long TSLA, short RIVN (β&lt;0)</td>\n",
       "      <td>2.534002</td>\n",
       "      <td>-0.323620</td>\n",
       "      <td>55</td>\n",
       "      <td>-306</td>\n",
       "      <td>2024-06-03</td>\n",
       "      <td>178.13</td>\n",
       "      <td>11.12</td>\n",
       "      <td>1.306238</td>\n",
       "      <td>-370.15</td>\n",
       "      <td>mean_reversion</td>\n",
       "    </tr>\n",
       "    <tr>\n",
       "      <th>7</th>\n",
       "      <td>2025-01-07</td>\n",
       "      <td>405.81</td>\n",
       "      <td>15.93</td>\n",
       "      <td>short TSLA, long RIVN</td>\n",
       "      <td>1.644824</td>\n",
       "      <td>0.031547</td>\n",
       "      <td>-25</td>\n",
       "      <td>20</td>\n",
       "      <td>2025-01-23</td>\n",
       "      <td>416.06</td>\n",
       "      <td>12.61</td>\n",
       "      <td>2.290160</td>\n",
       "      <td>-322.65</td>\n",
       "      <td>timeout</td>\n",
       "    </tr>\n",
       "  </tbody>\n",
       "</table>\n",
       "</div>"
      ],
      "text/plain": [
       "   entry_time  entry_tsla  entry_rivn                    direction  \\\n",
       "0  2023-01-19      127.28       16.27        short TSLA, long RIVN   \n",
       "1  2023-07-31      267.41       27.02  long TSLA, short RIVN (β<0)   \n",
       "2  2023-09-28      240.02       23.02        short TSLA, long RIVN   \n",
       "3  2023-11-17      231.97       16.48        short TSLA, long RIVN   \n",
       "4  2023-12-11      242.75       19.11        long TSLA, short RIVN   \n",
       "5  2024-04-16      156.77        8.38        long TSLA, short RIVN   \n",
       "6  2024-05-23      181.80       10.57  long TSLA, short RIVN (β<0)   \n",
       "7  2025-01-07      405.81       15.93        short TSLA, long RIVN   \n",
       "\n",
       "   entry_spread  hedge_ratio  TSLA_qty  RIVN_qty   exit_time  exit_tsla  \\\n",
       "0     -0.820653     0.554820       -79       341  2023-02-02     187.33   \n",
       "1      5.509661    -1.096994        37      -406  2023-08-14     235.70   \n",
       "2      0.275336     0.485939       -42       211  2023-10-19     225.84   \n",
       "3      0.660076     0.364140       -43       221  2023-12-05     233.85   \n",
       "4     -3.450797     1.374678        41      -719  2023-12-26     254.49   \n",
       "5     -6.620424     1.781544        64     -2126  2024-04-24     162.92   \n",
       "6      2.534002    -0.323620        55      -306  2024-06-03     178.13   \n",
       "7      1.644824     0.031547       -25        20  2025-01-23     416.06   \n",
       "\n",
       "   exit_rivn  exit_spread      pnl          reason  \n",
       "0      20.44     0.813464 -3321.98         timeout  \n",
       "1      20.90    -1.243744  1311.45  mean_reversion  \n",
       "2      17.80     2.134464  -505.86         timeout  \n",
       "3      17.60    -0.389895   166.68  mean_reversion  \n",
       "4      23.47   -19.175641 -2653.50         timeout  \n",
       "5       9.16    -3.107723 -1264.68  mean_reversion  \n",
       "6      11.12     1.306238  -370.15  mean_reversion  \n",
       "7      12.61     2.290160  -322.65         timeout  "
      ]
     },
     "execution_count": 63,
     "metadata": {},
     "output_type": "execute_result"
    }
   ],
   "source": [
    "blotter_df"
   ]
  },
  {
   "cell_type": "code",
   "execution_count": 53,
   "id": "3b26be01",
   "metadata": {},
   "outputs": [],
   "source": [
    "ledger_df\n",
    "write_table(ledger_df, 'ledger')"
   ]
  },
  {
   "cell_type": "code",
   "execution_count": 54,
   "id": "63fdc4b7",
   "metadata": {},
   "outputs": [
    {
     "data": {
      "text/html": [
       "<table id=\"itables_f075cede_c517_4522_ba00_6f0d8b73ea2f\" class=\"display nowrap\" data-quarto-disable-processing=\"true\" style=\"table-layout:auto;width:auto;margin:auto;caption-side:bottom\">\n",
       "<thead>\n",
       "    <tr style=\"text-align: right;\">\n",
       "      \n",
       "      <th>timestamp</th>\n",
       "      <th>position</th>\n",
       "      <th>TSLA_qty</th>\n",
       "      <th>RIVN_qty</th>\n",
       "      <th>TSLA_close</th>\n",
       "      <th>RIVN_close</th>\n",
       "      <th>daily_pnl</th>\n",
       "      <th>account_value</th>\n",
       "      <th>realized_pnl</th>\n",
       "    </tr>\n",
       "  </thead><tbody><tr>\n",
       "<td style=\"vertical-align:middle; text-align:left\">\n",
       "<a href=https://mwouts.github.io/itables/><svg class=\"main-svg\" xmlns=\"http://www.w3.org/2000/svg\" xmlns:xlink=\"http://www.w3.org/1999/xlink\"\n",
       "width=\"64\" viewBox=\"0 0 500 400\" style=\"font-family: 'Droid Sans', sans-serif;\">\n",
       "    <g style=\"fill:#d9d7fc\">\n",
       "        <path d=\"M100,400H500V357H100Z\" />\n",
       "        <path d=\"M100,300H400V257H100Z\" />\n",
       "        <path d=\"M0,200H400V157H0Z\" />\n",
       "        <path d=\"M100,100H500V57H100Z\" />\n",
       "        <path d=\"M100,350H500V307H100Z\" />\n",
       "        <path d=\"M100,250H400V207H100Z\" />\n",
       "        <path d=\"M0,150H400V107H0Z\" />\n",
       "        <path d=\"M100,50H500V7H100Z\" />\n",
       "    </g>\n",
       "    <g style=\"fill:#1a1366;stroke:#1a1366;\">\n",
       "   <rect x=\"100\" y=\"7\" width=\"400\" height=\"43\">\n",
       "    <animate\n",
       "      attributeName=\"width\"\n",
       "      values=\"0;400;0\"\n",
       "      dur=\"5s\"\n",
       "      repeatCount=\"indefinite\" />\n",
       "      <animate\n",
       "      attributeName=\"x\"\n",
       "      values=\"100;100;500\"\n",
       "      dur=\"5s\"\n",
       "      repeatCount=\"indefinite\" />\n",
       "  </rect>\n",
       "        <rect x=\"0\" y=\"107\" width=\"400\" height=\"43\">\n",
       "    <animate\n",
       "      attributeName=\"width\"\n",
       "      values=\"0;400;0\"\n",
       "      dur=\"3.5s\"\n",
       "      repeatCount=\"indefinite\" />\n",
       "    <animate\n",
       "      attributeName=\"x\"\n",
       "      values=\"0;0;400\"\n",
       "      dur=\"3.5s\"\n",
       "      repeatCount=\"indefinite\" />\n",
       "  </rect>\n",
       "        <rect x=\"100\" y=\"207\" width=\"300\" height=\"43\">\n",
       "    <animate\n",
       "      attributeName=\"width\"\n",
       "      values=\"0;300;0\"\n",
       "      dur=\"3s\"\n",
       "      repeatCount=\"indefinite\" />\n",
       "    <animate\n",
       "      attributeName=\"x\"\n",
       "      values=\"100;100;400\"\n",
       "      dur=\"3s\"\n",
       "      repeatCount=\"indefinite\" />\n",
       "  </rect>\n",
       "        <rect x=\"100\" y=\"307\" width=\"400\" height=\"43\">\n",
       "    <animate\n",
       "      attributeName=\"width\"\n",
       "      values=\"0;400;0\"\n",
       "      dur=\"4s\"\n",
       "      repeatCount=\"indefinite\" />\n",
       "      <animate\n",
       "      attributeName=\"x\"\n",
       "      values=\"100;100;500\"\n",
       "      dur=\"4s\"\n",
       "      repeatCount=\"indefinite\" />\n",
       "  </rect>\n",
       "        <g style=\"fill:transparent;stroke-width:8; stroke-linejoin:round\" rx=\"5\">\n",
       "            <g transform=\"translate(45 50) rotate(-45)\">\n",
       "                <circle r=\"33\" cx=\"0\" cy=\"0\" />\n",
       "                <rect x=\"-8\" y=\"32\" width=\"16\" height=\"30\" />\n",
       "            </g>\n",
       "\n",
       "            <g transform=\"translate(450 152)\">\n",
       "                <polyline points=\"-15,-20 -35,-20 -35,40 25,40 25,20\" />\n",
       "                <rect x=\"-15\" y=\"-40\" width=\"60\" height=\"60\" />\n",
       "            </g>\n",
       "\n",
       "            <g transform=\"translate(50 352)\">\n",
       "                <polygon points=\"-35,-5 0,-40 35,-5\" />\n",
       "                <polygon points=\"-35,10 0,45 35,10\" />\n",
       "            </g>\n",
       "\n",
       "            <g transform=\"translate(75 250)\">\n",
       "                <polyline points=\"-30,30 -60,0 -30,-30\" />\n",
       "                <polyline points=\"0,30 -30,0 0,-30\" />\n",
       "            </g>\n",
       "\n",
       "            <g transform=\"translate(425 250) rotate(180)\">\n",
       "                <polyline points=\"-30,30 -60,0 -30,-30\" />\n",
       "                <polyline points=\"0,30 -30,0 0,-30\" />\n",
       "            </g>\n",
       "        </g>\n",
       "    </g>\n",
       "</svg>\n",
       "</a>\n",
       "Loading ITables v2.3.0 from the internet...\n",
       "(need <a href=https://mwouts.github.io/itables/troubleshooting.html>help</a>?)</td>\n",
       "</tr></tbody>\n",
       "</table>\n",
       "<link href=\"https://www.unpkg.com/dt_for_itables@2.2.0/dt_bundle.css\" rel=\"stylesheet\">\n",
       "<script type=\"module\">\n",
       "    import {DataTable, jQuery as $} from 'https://www.unpkg.com/dt_for_itables@2.2.0/dt_bundle.js';\n",
       "\n",
       "    document.querySelectorAll(\"#itables_f075cede_c517_4522_ba00_6f0d8b73ea2f:not(.dataTable)\").forEach(table => {\n",
       "        if (!(table instanceof HTMLTableElement))\n",
       "            return;\n",
       "\n",
       "        // Define the table data\n",
       "        const data = [[\"2022-09-09\", 0, 0, 0, 299.68, 37.55, 0.0, 100000.0, 0.0], [\"2022-09-12\", 0, 0, 0, 304.42, 38.74, 0.0, 100000.0, 0.0], [\"2022-09-13\", 0, 0, 0, 292.13, 38.76, 0.0, 100000.0, 0.0], [\"2022-09-14\", 0, 0, 0, 302.61, 40.1, 0.0, 100000.0, 0.0], [\"2022-09-15\", 0, 0, 0, 303.75, 39.69, 0.0, 100000.0, 0.0], [\"2022-09-16\", 0, 0, 0, 303.35, 39.26, 0.0, 100000.0, 0.0], [\"2022-09-19\", 0, 0, 0, 309.07, 37.94, 0.0, 100000.0, 0.0], [\"2022-09-20\", 0, 0, 0, 308.73, 35.75, 0.0, 100000.0, 0.0], [\"2022-09-21\", 0, 0, 0, 300.8, 35.1, 0.0, 100000.0, 0.0], [\"2022-09-22\", 0, 0, 0, 288.59, 33.33, 0.0, 100000.0, 0.0], [\"2022-09-23\", 0, 0, 0, 275.33, 33.56, 0.0, 100000.0, 0.0], [\"2022-09-26\", 0, 0, 0, 276.01, 33.85, 0.0, 100000.0, 0.0], [\"2022-09-27\", 0, 0, 0, 282.94, 33.79, 0.0, 100000.0, 0.0], [\"2022-09-28\", 0, 0, 0, 287.81, 35.08, 0.0, 100000.0, 0.0], [\"2022-09-29\", 0, 0, 0, 268.21, 32.31, 0.0, 100000.0, 0.0], [\"2022-09-30\", 0, 0, 0, 265.25, 32.91, 0.0, 100000.0, 0.0], [\"2022-10-03\", 0, 0, 0, 242.4, 31.89, 0.0, 100000.0, 0.0], [\"2022-10-04\", 0, 0, 0, 249.44, 36.3, 0.0, 100000.0, 0.0], [\"2022-10-05\", 0, 0, 0, 240.81, 36.13, 0.0, 100000.0, 0.0], [\"2022-10-06\", 0, 0, 0, 238.13, 36.76, 0.0, 100000.0, 0.0], [\"2022-10-07\", 0, 0, 0, 223.07, 33.95, 0.0, 100000.0, 0.0], [\"2022-10-10\", 0, 0, 0, 222.96, 31.48, 0.0, 100000.0, 0.0], [\"2022-10-11\", 0, 0, 0, 216.5, 32.33, 0.0, 100000.0, 0.0], [\"2022-10-12\", 0, 0, 0, 217.24, 32.35, 0.0, 100000.0, 0.0], [\"2022-10-13\", 0, 0, 0, 221.72, 32.5, 0.0, 100000.0, 0.0], [\"2022-10-14\", 0, 0, 0, 204.99, 28.71, 0.0, 100000.0, 0.0], [\"2022-10-17\", 0, 0, 0, 219.35, 30.7, 0.0, 100000.0, 0.0], [\"2022-10-18\", 0, 0, 0, 220.19, 31.64, 0.0, 100000.0, 0.0], [\"2022-10-19\", 0, 0, 0, 222.04, 31.5, 0.0, 100000.0, 0.0], [\"2022-10-20\", 0, 0, 0, 207.28, 30.73, 0.0, 100000.0, 0.0], [\"2022-10-21\", 0, 0, 0, 214.44, 31.92, 0.0, 100000.0, 0.0], [\"2022-10-24\", 0, 0, 0, 211.25, 31.34, 0.0, 100000.0, 0.0], [\"2022-10-25\", 0, 0, 0, 222.41, 34.49, 0.0, 100000.0, 0.0], [\"2022-10-26\", 0, 0, 0, 224.64, 34.44, 0.0, 100000.0, 0.0], [\"2022-10-27\", 0, 0, 0, 225.09, 34.5, 0.0, 100000.0, 0.0], [\"2022-10-28\", 0, 0, 0, 228.52, 34.48, 0.0, 100000.0, 0.0], [\"2022-10-31\", 0, 0, 0, 227.54, 34.97, 0.0, 100000.0, 0.0], [\"2022-11-01\", 0, 0, 0, 227.82, 33.48, 0.0, 100000.0, 0.0], [\"2022-11-02\", 0, 0, 0, 214.98, 31.52, 0.0, 100000.0, 0.0], [\"2022-11-03\", 0, 0, 0, 215.31, 32.24, 0.0, 100000.0, 0.0], [\"2022-11-04\", 0, 0, 0, 207.47, 31.99, 0.0, 100000.0, 0.0], [\"2022-11-07\", 0, 0, 0, 197.08, 31.32, 0.0, 100000.0, 0.0], [\"2022-11-08\", 0, 0, 0, 191.3, 31.85, 0.0, 100000.0, 0.0], [\"2022-11-09\", 0, 0, 0, 177.59, 28.07, 0.0, 100000.0, 0.0], [\"2022-11-10\", 0, 0, 0, 190.72, 32.96, 0.0, 100000.0, 0.0], [\"2022-11-11\", 0, 0, 0, 195.97, 34.9, 0.0, 100000.0, 0.0], [\"2022-11-14\", 0, 0, 0, 190.95, 34.38, 0.0, 100000.0, 0.0], [\"2022-11-15\", 0, 0, 0, 194.42, 35.15, 0.0, 100000.0, 0.0], [\"2022-11-16\", 0, 0, 0, 186.92, 33.32, 0.0, 100000.0, 0.0], [\"2022-11-17\", 0, 0, 0, 183.17, 32.07, 0.0, 100000.0, 0.0], [\"2022-11-18\", 0, 0, 0, 180.19, 30.34, 0.0, 100000.0, 0.0], [\"2022-11-21\", 0, 0, 0, 167.87, 28.42, 0.0, 100000.0, 0.0], [\"2022-11-22\", 0, 0, 0, 169.91, 28.94, 0.0, 100000.0, 0.0], [\"2022-11-23\", 0, 0, 0, 183.2, 29.71, 0.0, 100000.0, 0.0], [\"2022-11-25\", 0, 0, 0, 182.86, 29.53, 0.0, 100000.0, 0.0], [\"2022-11-28\", 0, 0, 0, 182.92, 28.64, 0.0, 100000.0, 0.0], [\"2022-11-29\", 0, 0, 0, 180.83, 28.85, 0.0, 100000.0, 0.0], [\"2022-11-30\", 0, 0, 0, 194.7, 32.04, 0.0, 100000.0, 0.0], [\"2022-12-01\", 0, 0, 0, 194.7, 31.48, 0.0, 100000.0, 0.0], [\"2022-12-02\", 0, 0, 0, 194.86, 31.36, 0.0, 100000.0, 0.0], [\"2022-12-05\", 0, 0, 0, 182.45, 29.53, 0.0, 100000.0, 0.0], [\"2022-12-06\", 0, 0, 0, 179.82, 27.89, 0.0, 100000.0, 0.0], [\"2022-12-07\", 0, 0, 0, 174.04, 27.94, 0.0, 100000.0, 0.0], [\"2022-12-08\", 0, 0, 0, 173.44, 28.58, 0.0, 100000.0, 0.0], [\"2022-12-09\", 0, 0, 0, 179.05, 27.29, 0.0, 100000.0, 0.0], [\"2022-12-12\", 0, 0, 0, 167.82, 25.61, 0.0, 100000.0, 0.0], [\"2022-12-13\", 0, 0, 0, 160.95, 24.96, 0.0, 100000.0, 0.0], [\"2022-12-14\", 0, 0, 0, 156.8, 24.54, 0.0, 100000.0, 0.0], [\"2022-12-15\", 0, 0, 0, 157.67, 23.97, 0.0, 100000.0, 0.0], [\"2022-12-16\", 0, 0, 0, 150.23, 22.48, 0.0, 100000.0, 0.0], [\"2022-12-19\", 0, 0, 0, 149.87, 22.03, 0.0, 100000.0, 0.0], [\"2022-12-20\", 0, 0, 0, 137.8, 21.4, 0.0, 100000.0, 0.0], [\"2022-12-21\", 0, 0, 0, 137.57, 21.03, 0.0, 100000.0, 0.0], [\"2022-12-22\", 0, 0, 0, 125.35, 19.73, 0.0, 100000.0, 0.0], [\"2022-12-23\", 0, 0, 0, 123.15, 19.14, 0.0, 100000.0, 0.0], [\"2022-12-27\", 0, 0, 0, 109.1, 17.74, 0.0, 100000.0, 0.0], [\"2022-12-28\", 0, 0, 0, 112.71, 17.74, 0.0, 100000.0, 0.0], [\"2022-12-29\", 0, 0, 0, 121.82, 18.73, 0.0, 100000.0, 0.0], [\"2022-12-30\", 0, 0, 0, 123.18, 18.43, 0.0, 100000.0, 0.0], [\"2023-01-03\", 0, 0, 0, 108.1, 17.34, 0.0, 100000.0, 0.0], [\"2023-01-04\", 0, 0, 0, 113.64, 17.71, 0.0, 100000.0, 0.0], [\"2023-01-05\", 0, 0, 0, 110.34, 16.56, 0.0, 100000.0, 0.0], [\"2023-01-06\", 0, 0, 0, 113.06, 16.4, 0.0, 100000.0, 0.0], [\"2023-01-09\", 0, 0, 0, 119.77, 16.62, 0.0, 100000.0, 0.0], [\"2023-01-10\", 0, 0, 0, 118.85, 16.45, 0.0, 100000.0, 0.0], [\"2023-01-11\", 0, 0, 0, 123.22, 17.08, 0.0, 100000.0, 0.0], [\"2023-01-12\", 0, 0, 0, 123.56, 17.58, 0.0, 100000.0, 0.0], [\"2023-01-13\", 0, 0, 0, 122.4, 16.45, 0.0, 100000.0, 0.0], [\"2023-01-17\", 0, 0, 0, 131.49, 16.93, 0.0, 100000.0, 0.0], [\"2023-01-18\", 0, 0, 0, 128.78, 16.5, 0.0, 100000.0, 0.0], [\"2023-01-19\", -1, -79, 341, 127.17, 15.79, -154.99, 99845.01, 0.0], [\"2023-01-20\", -1, -79, 341, 133.42, 16.23, -498.7, 99501.3, 0.0], [\"2023-01-23\", -1, -79, 341, 143.75, 18.1, -677.1, 99322.9, 0.0], [\"2023-01-24\", -1, -79, 341, 143.89, 18.05, -705.21, 99294.79, 0.0], [\"2023-01-25\", -1, -79, 341, 144.43, 18.69, -529.63, 99470.37, 0.0], [\"2023-01-26\", -1, -79, 341, 160.27, 18.31, -1910.57, 98089.43, 0.0], [\"2023-01-27\", -1, -79, 341, 177.9, 19.83, -2785.02, 97214.98, 0.0], [\"2023-01-30\", -1, -79, 341, 166.66, 18.04, -2507.45, 97492.55, 0.0], [\"2023-01-31\", -1, -79, 341, 173.22, 19.4, -2561.93, 97438.07, 0.0], [\"2023-02-01\", -1, -79, 341, 181.41, 19.71, -3103.23, 96896.77, 0.0], [\"2023-02-02\", -1, -79, 341, 188.27, 20.88, -3246.2, 96753.8, 0.0], [\"2023-02-03\", 0, 0, 0, 189.98, 19.9, -3211.82, 93576.36, -3211.82], [\"2023-02-06\", 0, 0, 0, 194.76, 20.22, 0.0, 96788.18, -3211.82], [\"2023-02-07\", 0, 0, 0, 196.81, 19.91, 0.0, 96788.18, -3211.82], [\"2023-02-08\", 0, 0, 0, 201.29, 20.08, 0.0, 96788.18, -3211.82], [\"2023-02-09\", 0, 0, 0, 207.32, 19.42, 0.0, 96788.18, -3211.82], [\"2023-02-10\", 0, 0, 0, 196.89, 18.85, 0.0, 96788.18, -3211.82], [\"2023-02-13\", 0, 0, 0, 194.64, 18.92, 0.0, 96788.18, -3211.82], [\"2023-02-14\", 0, 0, 0, 209.25, 19.49, 0.0, 96788.18, -3211.82], [\"2023-02-15\", 0, 0, 0, 214.24, 21.15, 0.0, 96788.18, -3211.82], [\"2023-02-16\", 0, 0, 0, 202.04, 20.68, 0.0, 96788.18, -3211.82], [\"2023-02-17\", 0, 0, 0, 208.31, 20.22, 0.0, 96788.18, -3211.82], [\"2023-02-21\", 0, 0, 0, 197.37, 19.08, 0.0, 96788.18, -3211.82], [\"2023-02-22\", 0, 0, 0, 200.86, 19.02, 0.0, 96788.18, -3211.82], [\"2023-02-23\", 0, 0, 0, 202.07, 18.18, 0.0, 96788.18, -3211.82], [\"2023-02-24\", 0, 0, 0, 196.88, 17.32, 0.0, 96788.18, -3211.82], [\"2023-02-27\", 0, 0, 0, 207.63, 18.45, 0.0, 96788.18, -3211.82], [\"2023-02-28\", 0, 0, 0, 205.71, 19.3, 0.0, 96788.18, -3211.82], [\"2023-03-01\", 0, 0, 0, 202.77, 15.76, 0.0, 96788.18, -3211.82], [\"2023-03-02\", 0, 0, 0, 190.9, 15.72, 0.0, 96788.18, -3211.82], [\"2023-03-03\", 0, 0, 0, 197.79, 16.92, 0.0, 96788.18, -3211.82], [\"2023-03-06\", 0, 0, 0, 193.81, 17.13, 0.0, 96788.18, -3211.82], [\"2023-03-07\", 0, 0, 0, 187.71, 14.64, 0.0, 96788.18, -3211.82], [\"2023-03-08\", 0, 0, 0, 182.0, 15.13, 0.0, 96788.18, -3211.82], [\"2023-03-09\", 0, 0, 0, 172.92, 14.53, 0.0, 96788.18, -3211.82], [\"2023-03-10\", 0, 0, 0, 173.44, 14.16, 0.0, 96788.18, -3211.82], [\"2023-03-13\", 0, 0, 0, 174.48, 13.73, 0.0, 96788.18, -3211.82], [\"2023-03-14\", 0, 0, 0, 183.26, 13.21, 0.0, 96788.18, -3211.82], [\"2023-03-15\", 0, 0, 0, 180.45, 13.03, 0.0, 96788.18, -3211.82], [\"2023-03-16\", 0, 0, 0, 184.13, 13.46, 0.0, 96788.18, -3211.82], [\"2023-03-17\", 0, 0, 0, 180.13, 13.01, 0.0, 96788.18, -3211.82], [\"2023-03-20\", 0, 0, 0, 183.25, 13.02, 0.0, 96788.18, -3211.82], [\"2023-03-21\", 0, 0, 0, 197.58, 13.61, 0.0, 96788.18, -3211.82], [\"2023-03-22\", 0, 0, 0, 191.15, 13.29, 0.0, 96788.18, -3211.82], [\"2023-03-23\", 0, 0, 0, 192.22, 13.71, 0.0, 96788.18, -3211.82], [\"2023-03-24\", 0, 0, 0, 190.41, 13.62, 0.0, 96788.18, -3211.82], [\"2023-03-27\", 0, 0, 0, 191.81, 13.31, 0.0, 96788.18, -3211.82], [\"2023-03-28\", 0, 0, 0, 189.19, 12.96, 0.0, 96788.18, -3211.82], [\"2023-03-29\", 0, 0, 0, 193.88, 14.24, 0.0, 96788.18, -3211.82], [\"2023-03-30\", 0, 0, 0, 195.28, 14.4, 0.0, 96788.18, -3211.82], [\"2023-03-31\", 0, 0, 0, 207.46, 15.48, 0.0, 96788.18, -3211.82], [\"2023-04-03\", 0, 0, 0, 194.77, 15.23, 0.0, 96788.18, -3211.82], [\"2023-04-04\", 0, 0, 0, 192.58, 15.38, 0.0, 96788.18, -3211.82], [\"2023-04-05\", 0, 0, 0, 185.52, 14.63, 0.0, 96788.18, -3211.82], [\"2023-04-06\", 0, 0, 0, 185.06, 14.47, 0.0, 96788.18, -3211.82], [\"2023-04-10\", 0, 0, 0, 184.51, 14.81, 0.0, 96788.18, -3211.82], [\"2023-04-11\", 0, 0, 0, 186.79, 14.74, 0.0, 96788.18, -3211.82], [\"2023-04-12\", 0, 0, 0, 180.54, 14.19, 0.0, 96788.18, -3211.82], [\"2023-04-13\", 0, 0, 0, 185.9, 14.37, 0.0, 96788.18, -3211.82], [\"2023-04-14\", 0, 0, 0, 185.0, 13.38, 0.0, 96788.18, -3211.82], [\"2023-04-17\", 0, 0, 0, 187.04, 13.73, 0.0, 96788.18, -3211.82], [\"2023-04-18\", 0, 0, 0, 184.31, 13.43, 0.0, 96788.18, -3211.82], [\"2023-04-19\", 0, 0, 0, 180.59, 12.82, 0.0, 96788.18, -3211.82], [\"2023-04-20\", 0, 0, 0, 162.99, 12.35, 0.0, 96788.18, -3211.82], [\"2023-04-21\", 0, 0, 0, 165.08, 12.25, 0.0, 96788.18, -3211.82], [\"2023-04-24\", 0, 0, 0, 162.55, 12.36, 0.0, 96788.18, -3211.82], [\"2023-04-25\", 0, 0, 0, 160.67, 12.0, 0.0, 96788.18, -3211.82], [\"2023-04-26\", 0, 0, 0, 153.75, 12.04, 0.0, 96788.18, -3211.82], [\"2023-04-27\", 0, 0, 0, 160.19, 12.67, 0.0, 96788.18, -3211.82], [\"2023-04-28\", 0, 0, 0, 164.31, 12.82, 0.0, 96788.18, -3211.82], [\"2023-05-01\", 0, 0, 0, 161.83, 12.65, 0.0, 96788.18, -3211.82], [\"2023-05-02\", 0, 0, 0, 160.31, 12.68, 0.0, 96788.18, -3211.82], [\"2023-05-03\", 0, 0, 0, 160.61, 12.81, 0.0, 96788.18, -3211.82], [\"2023-05-04\", 0, 0, 0, 161.2, 12.95, 0.0, 96788.18, -3211.82], [\"2023-05-05\", 0, 0, 0, 170.06, 13.41, 0.0, 96788.18, -3211.82], [\"2023-05-08\", 0, 0, 0, 171.79, 13.87, 0.0, 96788.18, -3211.82], [\"2023-05-09\", 0, 0, 0, 169.15, 13.86, 0.0, 96788.18, -3211.82], [\"2023-05-10\", 0, 0, 0, 168.54, 14.11, 0.0, 96788.18, -3211.82], [\"2023-05-11\", 0, 0, 0, 172.08, 13.84, 0.0, 96788.18, -3211.82], [\"2023-05-12\", 0, 0, 0, 167.98, 12.91, 0.0, 96788.18, -3211.82], [\"2023-05-15\", 0, 0, 0, 166.35, 13.44, 0.0, 96788.18, -3211.82], [\"2023-05-16\", 0, 0, 0, 166.52, 13.08, 0.0, 96788.18, -3211.82], [\"2023-05-17\", 0, 0, 0, 173.86, 13.41, 0.0, 96788.18, -3211.82], [\"2023-05-18\", 0, 0, 0, 176.89, 13.54, 0.0, 96788.18, -3211.82], [\"2023-05-19\", 0, 0, 0, 180.14, 13.47, 0.0, 96788.18, -3211.82], [\"2023-05-22\", 0, 0, 0, 188.87, 14.23, 0.0, 96788.18, -3211.82], [\"2023-05-23\", 0, 0, 0, 185.77, 14.2, 0.0, 96788.18, -3211.82], [\"2023-05-24\", 0, 0, 0, 182.9, 14.38, 0.0, 96788.18, -3211.82], [\"2023-05-25\", 0, 0, 0, 184.47, 14.57, 0.0, 96788.18, -3211.82], [\"2023-05-26\", 0, 0, 0, 193.17, 15.14, 0.0, 96788.18, -3211.82], [\"2023-05-30\", 0, 0, 0, 201.16, 14.87, 0.0, 96788.18, -3211.82], [\"2023-05-31\", 0, 0, 0, 203.93, 14.73, 0.0, 96788.18, -3211.82], [\"2023-06-01\", 0, 0, 0, 207.52, 14.58, 0.0, 96788.18, -3211.82], [\"2023-06-02\", 0, 0, 0, 213.97, 14.48, 0.0, 96788.18, -3211.82], [\"2023-06-05\", 0, 0, 0, 217.61, 14.34, 0.0, 96788.18, -3211.82], [\"2023-06-06\", 0, 0, 0, 221.31, 14.5, 0.0, 96788.18, -3211.82], [\"2023-06-07\", 0, 0, 0, 224.57, 13.82, 0.0, 96788.18, -3211.82], [\"2023-06-08\", 0, 0, 0, 234.86, 14.05, 0.0, 96788.18, -3211.82], [\"2023-06-09\", 0, 0, 0, 244.4, 13.87, 0.0, 96788.18, -3211.82], [\"2023-06-12\", 0, 0, 0, 249.83, 14.0, 0.0, 96788.18, -3211.82], [\"2023-06-13\", 0, 0, 0, 258.71, 15.25, 0.0, 96788.18, -3211.82], [\"2023-06-14\", 0, 0, 0, 256.79, 14.74, 0.0, 96788.18, -3211.82], [\"2023-06-15\", 0, 0, 0, 255.9, 15.24, 0.0, 96788.18, -3211.82], [\"2023-06-16\", 0, 0, 0, 260.54, 14.88, 0.0, 96788.18, -3211.82], [\"2023-06-20\", 0, 0, 0, 274.45, 15.7, 0.0, 96788.18, -3211.82], [\"2023-06-21\", 0, 0, 0, 259.46, 14.62, 0.0, 96788.18, -3211.82], [\"2023-06-22\", 0, 0, 0, 264.61, 14.15, 0.0, 96788.18, -3211.82], [\"2023-06-23\", 0, 0, 0, 256.6, 13.53, 0.0, 96788.18, -3211.82], [\"2023-06-26\", 0, 0, 0, 241.05, 13.45, 0.0, 96788.18, -3211.82], [\"2023-06-27\", 0, 0, 0, 250.21, 13.94, 0.0, 96788.18, -3211.82], [\"2023-06-28\", 0, 0, 0, 256.24, 14.64, 0.0, 96788.18, -3211.82], [\"2023-06-29\", 0, 0, 0, 257.5, 16.01, 0.0, 96788.18, -3211.82], [\"2023-06-30\", 0, 0, 0, 261.77, 16.66, 0.0, 96788.18, -3211.82], [\"2023-07-03\", 0, 0, 0, 279.82, 19.56, 0.0, 96788.18, -3211.82], [\"2023-07-05\", 0, 0, 0, 282.48, 20.43, 0.0, 96788.18, -3211.82], [\"2023-07-06\", 0, 0, 0, 276.54, 21.62, 0.0, 96788.18, -3211.82], [\"2023-07-07\", 0, 0, 0, 274.43, 24.7, 0.0, 96788.18, -3211.82], [\"2023-07-10\", 0, 0, 0, 269.61, 25.51, 0.0, 96788.18, -3211.82], [\"2023-07-11\", 0, 0, 0, 269.79, 24.85, 0.0, 96788.18, -3211.82], [\"2023-07-12\", 0, 0, 0, 271.99, 25.91, 0.0, 96788.18, -3211.82], [\"2023-07-13\", 0, 0, 0, 277.9, 25.52, 0.0, 96788.18, -3211.82], [\"2023-07-14\", 0, 0, 0, 281.38, 24.82, 0.0, 96788.18, -3211.82], [\"2023-07-17\", 0, 0, 0, 290.38, 23.99, 0.0, 96788.18, -3211.82], [\"2023-07-18\", 0, 0, 0, 293.34, 24.69, 0.0, 96788.18, -3211.82], [\"2023-07-19\", 0, 0, 0, 291.26, 24.83, 0.0, 96788.18, -3211.82], [\"2023-07-20\", 0, 0, 0, 262.9, 25.81, 0.0, 96788.18, -3211.82], [\"2023-07-21\", 0, 0, 0, 260.02, 25.27, 0.0, 96788.18, -3211.82], [\"2023-07-24\", 0, 0, 0, 269.06, 25.81, 0.0, 96788.18, -3211.82], [\"2023-07-25\", 0, 0, 0, 265.28, 25.35, 0.0, 96788.18, -3211.82], [\"2023-07-26\", 0, 0, 0, 264.35, 27.15, 0.0, 96788.18, -3211.82], [\"2023-07-27\", 0, 0, 0, 255.71, 26.05, 0.0, 96788.18, -3211.82], [\"2023-07-28\", 0, 0, 0, 266.44, 26.94, 0.0, 96788.18, -3211.82], [\"2023-07-31\", -1, 37, -406, 267.43, 27.64, -250.98, 96537.2, -3211.82], [\"2023-08-01\", -1, 37, -406, 261.07, 27.3, -348.26, 96439.92, -3211.82], [\"2023-08-02\", -1, 37, -406, 254.11, 25.91, -41.44, 96746.74, -3211.82], [\"2023-08-03\", -1, 37, -406, 259.32, 26.5, -88.21, 96699.97, -3211.82], [\"2023-08-04\", -1, 37, -406, 253.86, 25.26, 213.21, 97001.39, -3211.82], [\"2023-08-07\", -1, 37, -406, 251.45, 24.28, 521.92, 97310.1, -3211.82], [\"2023-08-08\", -1, 37, -406, 249.7, 24.8, 246.05, 97034.23, -3211.82], [\"2023-08-09\", -1, 37, -406, 242.19, 22.35, 962.88, 97751.06, -3211.82], [\"2023-08-10\", -1, 37, -406, 245.34, 21.91, 1258.07, 98046.25, -3211.82], [\"2023-08-11\", -1, 37, -406, 242.65, 21.57, 1296.58, 98084.76, -3211.82], [\"2023-08-14\", 0, 0, 0, 239.76, 21.56, 1311.45, 99411.08, -1900.37], [\"2023-08-15\", 0, 0, 0, 232.96, 20.78, 0.0, 98099.63, -1900.37], [\"2023-08-16\", 0, 0, 0, 225.6, 21.04, 0.0, 98099.63, -1900.37], [\"2023-08-17\", 0, 0, 0, 219.22, 20.95, 0.0, 98099.63, -1900.37], [\"2023-08-18\", 0, 0, 0, 215.49, 20.78, 0.0, 98099.63, -1900.37], [\"2023-08-21\", 0, 0, 0, 231.28, 21.18, 0.0, 98099.63, -1900.37], [\"2023-08-22\", 0, 0, 0, 233.19, 20.08, 0.0, 98099.63, -1900.37], [\"2023-08-23\", 0, 0, 0, 236.86, 20.32, 0.0, 98099.63, -1900.37], [\"2023-08-24\", 0, 0, 0, 230.04, 19.64, 0.0, 98099.63, -1900.37], [\"2023-08-25\", 0, 0, 0, 238.59, 20.07, 0.0, 98099.63, -1900.37], [\"2023-08-28\", 0, 0, 0, 238.82, 20.53, 0.0, 98099.63, -1900.37], [\"2023-08-29\", 0, 0, 0, 257.18, 22.31, 0.0, 98099.63, -1900.37], [\"2023-08-30\", 0, 0, 0, 256.9, 22.88, 0.0, 98099.63, -1900.37], [\"2023-08-31\", 0, 0, 0, 258.08, 22.73, 0.0, 98099.63, -1900.37], [\"2023-09-01\", 0, 0, 0, 245.01, 23.31, 0.0, 98099.63, -1900.37], [\"2023-09-05\", 0, 0, 0, 256.49, 23.39, 0.0, 98099.63, -1900.37], [\"2023-09-06\", 0, 0, 0, 251.92, 23.26, 0.0, 98099.63, -1900.37], [\"2023-09-07\", 0, 0, 0, 251.49, 23.42, 0.0, 98099.63, -1900.37], [\"2023-09-08\", 0, 0, 0, 248.5, 23.1, 0.0, 98099.63, -1900.37], [\"2023-09-11\", 0, 0, 0, 273.58, 23.41, 0.0, 98099.63, -1900.37], [\"2023-09-12\", 0, 0, 0, 267.48, 23.58, 0.0, 98099.63, -1900.37], [\"2023-09-13\", 0, 0, 0, 271.3, 23.25, 0.0, 98099.63, -1900.37], [\"2023-09-14\", 0, 0, 0, 276.04, 24.11, 0.0, 98099.63, -1900.37], [\"2023-09-15\", 0, 0, 0, 274.39, 24.18, 0.0, 98099.63, -1900.37], [\"2023-09-18\", 0, 0, 0, 265.28, 23.71, 0.0, 98099.63, -1900.37], [\"2023-09-19\", 0, 0, 0, 266.5, 22.74, 0.0, 98099.63, -1900.37], [\"2023-09-20\", 0, 0, 0, 262.59, 22.4, 0.0, 98099.63, -1900.37], [\"2023-09-21\", 0, 0, 0, 255.7, 21.53, 0.0, 98099.63, -1900.37], [\"2023-09-22\", 0, 0, 0, 244.88, 20.59, 0.0, 98099.63, -1900.37], [\"2023-09-25\", 0, 0, 0, 246.99, 21.13, 0.0, 98099.63, -1900.37], [\"2023-09-26\", 0, 0, 0, 244.12, 22.26, 0.0, 98099.63, -1900.37], [\"2023-09-27\", 0, 0, 0, 240.5, 23.05, 0.0, 98099.63, -1900.37], [\"2023-09-28\", -1, -42, 211, 246.38, 23.08, -254.46, 97845.17, -1900.37], [\"2023-09-29\", -1, -42, 211, 250.22, 24.28, -162.54, 97937.09, -1900.37], [\"2023-10-02\", -1, -42, 211, 251.6, 23.66, -351.32, 97748.31, -1900.37], [\"2023-10-03\", -1, -42, 211, 246.53, 21.69, -554.05, 97545.58, -1900.37], [\"2023-10-04\", -1, -42, 211, 261.16, 23.69, -746.51, 97353.12, -1900.37], [\"2023-10-05\", -1, -42, 211, 260.05, 18.27, -1843.51, 96256.12, -1900.37], [\"2023-10-06\", -1, -42, 211, 260.53, 18.92, -1726.52, 96373.11, -1900.37], [\"2023-10-09\", -1, -42, 211, 259.67, 18.78, -1719.94, 96379.69, -1900.37], [\"2023-10-10\", -1, -42, 211, 263.62, 19.64, -1704.38, 96395.25, -1900.37], [\"2023-10-11\", -1, -42, 211, 262.99, 19.37, -1734.89, 96364.74, -1900.37], [\"2023-10-12\", -1, -42, 211, 258.87, 19.33, -1570.29, 96529.34, -1900.37], [\"2023-10-13\", -1, -42, 211, 251.12, 19.3, -1251.12, 96848.51, -1900.37], [\"2023-10-16\", -1, -42, 211, 253.92, 19.66, -1292.76, 96806.87, -1900.37], [\"2023-10-17\", -1, -42, 211, 254.85, 19.9, -1281.18, 96818.45, -1900.37], [\"2023-10-18\", -1, -42, 211, 242.68, 18.09, -1151.95, 96947.68, -1900.37], [\"2023-10-19\", -1, -42, 211, 220.11, 17.16, -400.24, 97699.39, -1900.37], [\"2023-10-20\", 0, 0, 0, 211.99, 16.72, -299.58, 97500.47, -2199.95], [\"2023-10-23\", 0, 0, 0, 212.08, 17.07, 0.0, 97800.05, -2199.95], [\"2023-10-24\", 0, 0, 0, 216.52, 17.43, 0.0, 97800.05, -2199.95], [\"2023-10-25\", 0, 0, 0, 212.42, 17.02, 0.0, 97800.05, -2199.95], [\"2023-10-26\", 0, 0, 0, 205.76, 16.17, 0.0, 97800.05, -2199.95], [\"2023-10-27\", 0, 0, 0, 207.3, 16.01, 0.0, 97800.05, -2199.95], [\"2023-10-30\", 0, 0, 0, 197.36, 15.72, 0.0, 97800.05, -2199.95], [\"2023-10-31\", 0, 0, 0, 200.84, 16.22, 0.0, 97800.05, -2199.95], [\"2023-11-01\", 0, 0, 0, 205.66, 16.13, 0.0, 97800.05, -2199.95], [\"2023-11-02\", 0, 0, 0, 218.51, 17.59, 0.0, 97800.05, -2199.95], [\"2023-11-03\", 0, 0, 0, 219.96, 17.71, 0.0, 97800.05, -2199.95], [\"2023-11-06\", 0, 0, 0, 219.27, 17.18, 0.0, 97800.05, -2199.95], [\"2023-11-07\", 0, 0, 0, 222.18, 17.42, 0.0, 97800.05, -2199.95], [\"2023-11-08\", 0, 0, 0, 222.11, 17.0, 0.0, 97800.05, -2199.95], [\"2023-11-09\", 0, 0, 0, 209.98, 15.33, 0.0, 97800.05, -2199.95], [\"2023-11-10\", 0, 0, 0, 214.65, 15.4, 0.0, 97800.05, -2199.95], [\"2023-11-13\", 0, 0, 0, 223.71, 16.19, 0.0, 97800.05, -2199.95], [\"2023-11-14\", 0, 0, 0, 237.41, 16.9, 0.0, 97800.05, -2199.95], [\"2023-11-15\", 0, 0, 0, 242.84, 17.24, 0.0, 97800.05, -2199.95], [\"2023-11-16\", 0, 0, 0, 233.59, 16.39, 0.0, 97800.05, -2199.95], [\"2023-11-17\", -1, -43, 221, 234.3, 16.7, -51.57, 97748.48, -2199.95], [\"2023-11-20\", -1, -43, 221, 235.6, 16.93, -56.64, 97743.41, -2199.95], [\"2023-11-21\", -1, -43, 221, 241.2, 15.72, -564.85, 97235.2, -2199.95], [\"2023-11-22\", -1, -43, 221, 234.21, 15.98, -206.82, 97593.23, -2199.95], [\"2023-11-24\", -1, -43, 221, 235.45, 16.43, -160.69, 97639.36, -2199.95], [\"2023-11-27\", -1, -43, 221, 236.08, 16.66, -136.95, 97663.1, -2199.95], [\"2023-11-28\", -1, -43, 221, 246.72, 17.42, -426.51, 97373.54, -2199.95], [\"2023-11-29\", -1, -43, 221, 244.14, 17.32, -337.67, 97462.38, -2199.95], [\"2023-11-30\", -1, -43, 221, 240.08, 16.76, -286.85, 97513.2, -2199.95], [\"2023-12-01\", -1, -43, 221, 238.83, 18.03, 47.57, 97847.62, -2199.95], [\"2023-12-04\", -1, -43, 221, 235.58, 17.74, 123.23, 97923.28, -2199.95], [\"2023-12-05\", 0, 0, 0, 238.72, 17.41, 166.68, 98133.41, -2033.27], [\"2023-12-06\", 0, 0, 0, 239.37, 18.38, 0.0, 97966.73, -2033.27], [\"2023-12-07\", 0, 0, 0, 242.64, 19.19, 0.0, 97966.73, -2033.27], [\"2023-12-08\", 0, 0, 0, 243.84, 19.04, 0.0, 97966.73, -2033.27], [\"2023-12-11\", 1, 41, -719, 239.74, 18.95, -8.37, 97958.36, -2033.27], [\"2023-12-12\", 1, 41, -719, 237.01, 18.21, 411.76, 98378.49, -2033.27], [\"2023-12-13\", 1, 41, -719, 239.29, 19.68, -551.69, 97415.04, -2033.27], [\"2023-12-14\", 1, 41, -719, 251.05, 22.43, -2046.78, 95919.95, -2033.27], [\"2023-12-15\", 1, 41, -719, 253.5, 22.83, -2233.93, 95732.8, -2033.27], [\"2023-12-18\", 1, 41, -719, 252.08, 23.8, -2989.58, 94977.15, -2033.27], [\"2023-12-19\", 1, 41, -719, 257.22, 24.35, -3174.29, 94792.44, -2033.27], [\"2023-12-20\", 1, 41, -719, 247.14, 23.18, -2746.34, 95220.39, -2033.27], [\"2023-12-21\", 1, 41, -719, 254.5, 23.58, -2732.18, 95234.55, -2033.27], [\"2023-12-22\", 1, 41, -719, 252.54, 23.21, -2546.51, 95420.22, -2033.27], [\"2023-12-26\", 1, 41, -719, 256.61, 23.59, -2652.86, 95313.87, -2033.27], [\"2023-12-27\", 1, 41, -719, 261.44, 23.73, -2555.49, 95411.24, -2033.27], [\"2023-12-28\", 1, 41, -719, 253.18, 23.54, -2757.54, 95209.19, -2033.27], [\"2023-12-29\", 1, 41, -719, 248.48, 23.46, -2892.72, 95074.01, -2033.27], [\"2024-01-02\", 1, 41, -719, 248.42, 21.1, -1198.34, 96768.39, -2033.27], [\"2024-01-03\", 1, 41, -719, 238.45, 20.32, -1046.29, 96920.44, -2033.27], [\"2024-01-04\", 0, 0, 0, 237.93, 19.5, -725.89, 96514.95, -2759.16], [\"2024-01-05\", 0, 0, 0, 237.49, 19.08, 0.0, 97240.84, -2759.16], [\"2024-01-08\", 0, 0, 0, 240.45, 19.58, 0.0, 97240.84, -2759.16], [\"2024-01-09\", 0, 0, 0, 234.96, 19.25, 0.0, 97240.84, -2759.16], [\"2024-01-10\", 0, 0, 0, 233.94, 19.07, 0.0, 97240.84, -2759.16], [\"2024-01-11\", 0, 0, 0, 227.22, 18.79, 0.0, 97240.84, -2759.16], [\"2024-01-12\", 0, 0, 0, 218.89, 18.06, 0.0, 97240.84, -2759.16], [\"2024-01-16\", 0, 0, 0, 219.91, 17.82, 0.0, 97240.84, -2759.16], [\"2024-01-17\", 0, 0, 0, 215.55, 16.76, 0.0, 97240.84, -2759.16], [\"2024-01-18\", 0, 0, 0, 211.88, 15.74, 0.0, 97240.84, -2759.16], [\"2024-01-19\", 0, 0, 0, 212.19, 15.48, 0.0, 97240.84, -2759.16], [\"2024-01-22\", 0, 0, 0, 208.8, 16.03, 0.0, 97240.84, -2759.16], [\"2024-01-23\", 0, 0, 0, 209.14, 16.04, 0.0, 97240.84, -2759.16], [\"2024-01-24\", 0, 0, 0, 207.83, 15.34, 0.0, 97240.84, -2759.16], [\"2024-01-25\", 0, 0, 0, 182.63, 15.0, 0.0, 97240.84, -2759.16], [\"2024-01-26\", 0, 0, 0, 183.25, 15.29, 0.0, 97240.84, -2759.16], [\"2024-01-29\", 0, 0, 0, 190.93, 16.12, 0.0, 97240.84, -2759.16], [\"2024-01-30\", 0, 0, 0, 191.59, 15.66, 0.0, 97240.84, -2759.16], [\"2024-01-31\", 0, 0, 0, 187.29, 15.31, 0.0, 97240.84, -2759.16], [\"2024-02-01\", 0, 0, 0, 188.86, 15.53, 0.0, 97240.84, -2759.16], [\"2024-02-02\", 0, 0, 0, 187.91, 15.6, 0.0, 97240.84, -2759.16], [\"2024-02-05\", 0, 0, 0, 181.06, 14.94, 0.0, 97240.84, -2759.16], [\"2024-02-06\", 0, 0, 0, 185.1, 15.5, 0.0, 97240.84, -2759.16], [\"2024-02-07\", 0, 0, 0, 187.58, 15.17, 0.0, 97240.84, -2759.16], [\"2024-02-08\", 0, 0, 0, 189.56, 16.11, 0.0, 97240.84, -2759.16], [\"2024-02-09\", 0, 0, 0, 193.57, 16.68, 0.0, 97240.84, -2759.16], [\"2024-02-12\", 0, 0, 0, 188.13, 16.33, 0.0, 97240.84, -2759.16], [\"2024-02-13\", 0, 0, 0, 184.02, 15.38, 0.0, 97240.84, -2759.16], [\"2024-02-14\", 0, 0, 0, 188.71, 15.54, 0.0, 97240.84, -2759.16], [\"2024-02-15\", 0, 0, 0, 200.45, 16.35, 0.0, 97240.84, -2759.16], [\"2024-02-16\", 0, 0, 0, 199.95, 16.3, 0.0, 97240.84, -2759.16], [\"2024-02-20\", 0, 0, 0, 193.76, 15.89, 0.0, 97240.84, -2759.16], [\"2024-02-21\", 0, 0, 0, 194.77, 15.39, 0.0, 97240.84, -2759.16], [\"2024-02-22\", 0, 0, 0, 197.41, 11.45, 0.0, 97240.84, -2759.16], [\"2024-02-23\", 0, 0, 0, 191.97, 10.07, 0.0, 97240.84, -2759.16], [\"2024-02-26\", 0, 0, 0, 199.4, 10.7, 0.0, 97240.84, -2759.16], [\"2024-02-27\", 0, 0, 0, 199.73, 11.14, 0.0, 97240.84, -2759.16], [\"2024-02-28\", 0, 0, 0, 202.04, 11.3, 0.0, 97240.84, -2759.16], [\"2024-02-29\", 0, 0, 0, 201.88, 11.32, 0.0, 97240.84, -2759.16], [\"2024-03-01\", 0, 0, 0, 202.64, 11.35, 0.0, 97240.84, -2759.16], [\"2024-03-04\", 0, 0, 0, 188.14, 10.91, 0.0, 97240.84, -2759.16], [\"2024-03-05\", 0, 0, 0, 180.74, 10.93, 0.0, 97240.84, -2759.16], [\"2024-03-06\", 0, 0, 0, 176.54, 11.03, 0.0, 97240.84, -2759.16], [\"2024-03-07\", 0, 0, 0, 178.65, 12.51, 0.0, 97240.84, -2759.16], [\"2024-03-08\", 0, 0, 0, 175.34, 12.78, 0.0, 97240.84, -2759.16], [\"2024-03-11\", 0, 0, 0, 177.77, 12.69, 0.0, 97240.84, -2759.16], [\"2024-03-12\", 0, 0, 0, 177.54, 12.37, 0.0, 97240.84, -2759.16], [\"2024-03-13\", 0, 0, 0, 169.48, 11.71, 0.0, 97240.84, -2759.16], [\"2024-03-14\", 0, 0, 0, 162.5, 10.69, 0.0, 97240.84, -2759.16], [\"2024-03-15\", 0, 0, 0, 163.57, 11.04, 0.0, 97240.84, -2759.16], [\"2024-03-18\", 0, 0, 0, 173.8, 11.4, 0.0, 97240.84, -2759.16], [\"2024-03-19\", 0, 0, 0, 171.32, 11.26, 0.0, 97240.84, -2759.16], [\"2024-03-20\", 0, 0, 0, 175.66, 11.36, 0.0, 97240.84, -2759.16], [\"2024-03-21\", 0, 0, 0, 172.82, 11.17, 0.0, 97240.84, -2759.16], [\"2024-03-22\", 0, 0, 0, 170.83, 10.8, 0.0, 97240.84, -2759.16], [\"2024-03-25\", 0, 0, 0, 172.63, 10.65, 0.0, 97240.84, -2759.16], [\"2024-03-26\", 0, 0, 0, 177.67, 10.52, 0.0, 97240.84, -2759.16], [\"2024-03-27\", 0, 0, 0, 179.83, 10.99, 0.0, 97240.84, -2759.16], [\"2024-03-28\", 0, 0, 0, 175.79, 10.95, 0.0, 97240.84, -2759.16], [\"2024-04-01\", 0, 0, 0, 175.22, 11.09, 0.0, 97240.84, -2759.16], [\"2024-04-02\", 0, 0, 0, 166.63, 10.51, 0.0, 97240.84, -2759.16], [\"2024-04-03\", 0, 0, 0, 168.38, 10.54, 0.0, 97240.84, -2759.16], [\"2024-04-04\", 0, 0, 0, 171.11, 10.13, 0.0, 97240.84, -2759.16], [\"2024-04-05\", 0, 0, 0, 164.9, 10.1, 0.0, 97240.84, -2759.16], [\"2024-04-08\", 0, 0, 0, 172.98, 10.44, 0.0, 97240.84, -2759.16], [\"2024-04-09\", 0, 0, 0, 176.88, 10.63, 0.0, 97240.84, -2759.16], [\"2024-04-10\", 0, 0, 0, 171.76, 10.27, 0.0, 97240.84, -2759.16], [\"2024-04-11\", 0, 0, 0, 174.6, 9.57, 0.0, 97240.84, -2759.16], [\"2024-04-12\", 0, 0, 0, 171.05, 9.13, 0.0, 97240.84, -2759.16], [\"2024-04-15\", 0, 0, 0, 161.48, 8.4, 0.0, 97240.84, -2759.16], [\"2024-04-16\", 1, 64, -2126, 157.11, 8.71, -679.82, 96561.02, -2759.16], [\"2024-04-17\", 1, 64, -2126, 155.45, 8.74, -849.84, 96391.0, -2759.16], [\"2024-04-18\", 1, 64, -2126, 149.93, 8.83, -1394.46, 95846.38, -2759.16], [\"2024-04-19\", 1, 64, -2126, 147.05, 8.63, -1153.58, 96087.26, -2759.16], [\"2024-04-22\", 1, 64, -2126, 142.05, 8.79, -1813.74, 95427.1, -2759.16], [\"2024-04-23\", 1, 64, -2126, 144.68, 9.04, -2176.92, 95063.92, -2759.16], [\"2024-04-24\", 0, 0, 0, 162.13, 8.84, -1264.68, 94711.48, -4023.84], [\"2024-04-25\", 0, 0, 0, 170.18, 8.52, 0.0, 95976.16, -4023.84], [\"2024-04-26\", 0, 0, 0, 168.29, 9.04, 0.0, 95976.16, -4023.84], [\"2024-04-29\", 0, 0, 0, 194.05, 9.38, 0.0, 95976.16, -4023.84], [\"2024-04-30\", 0, 0, 0, 183.28, 8.9, 0.0, 95976.16, -4023.84], [\"2024-05-01\", 0, 0, 0, 179.99, 9.21, 0.0, 95976.16, -4023.84], [\"2024-05-02\", 0, 0, 0, 180.01, 9.83, 0.0, 95976.16, -4023.84], [\"2024-05-03\", 0, 0, 0, 181.19, 10.07, 0.0, 95976.16, -4023.84], [\"2024-05-06\", 0, 0, 0, 184.76, 10.33, 0.0, 95976.16, -4023.84], [\"2024-05-07\", 0, 0, 0, 177.81, 10.25, 0.0, 95976.16, -4023.84], [\"2024-05-08\", 0, 0, 0, 174.72, 10.27, 0.0, 95976.16, -4023.84], [\"2024-05-09\", 0, 0, 0, 171.97, 10.22, 0.0, 95976.16, -4023.84], [\"2024-05-10\", 0, 0, 0, 168.47, 9.99, 0.0, 95976.16, -4023.84], [\"2024-05-13\", 0, 0, 0, 171.89, 10.9, 0.0, 95976.16, -4023.84], [\"2024-05-14\", 0, 0, 0, 177.55, 11.19, 0.0, 95976.16, -4023.84], [\"2024-05-15\", 0, 0, 0, 173.99, 10.2, 0.0, 95976.16, -4023.84], [\"2024-05-16\", 0, 0, 0, 174.84, 10.13, 0.0, 95976.16, -4023.84], [\"2024-05-17\", 0, 0, 0, 177.46, 10.5, 0.0, 95976.16, -4023.84], [\"2024-05-20\", 0, 0, 0, 174.95, 10.28, 0.0, 95976.16, -4023.84], [\"2024-05-21\", 0, 0, 0, 186.6, 10.05, 0.0, 95976.16, -4023.84], [\"2024-05-22\", 0, 0, 0, 180.11, 10.7, 0.0, 95976.16, -4023.84], [\"2024-05-23\", -1, 55, -306, 173.74, 9.95, -253.58, 95722.58, -4023.84], [\"2024-05-24\", -1, 55, -306, 179.24, 10.44, -101.02, 95875.14, -4023.84], [\"2024-05-28\", -1, 55, -306, 176.75, 10.42, -231.85, 95744.31, -4023.84], [\"2024-05-29\", -1, 55, -306, 176.19, 10.22, -201.45, 95774.71, -4023.84], [\"2024-05-30\", -1, 55, -306, 178.79, 10.97, -287.95, 95688.21, -4023.84], [\"2024-05-31\", -1, 55, -306, 178.08, 10.92, -311.7, 95664.46, -4023.84], [\"2024-06-03\", 0, 0, 0, 176.29, 11.4, -370.15, 95235.86, -4393.99], [\"2024-06-04\", 0, 0, 0, 174.77, 11.22, 0.0, 95606.01, -4393.99], [\"2024-06-05\", 0, 0, 0, 175.0, 11.45, 0.0, 95606.01, -4393.99], [\"2024-06-06\", 0, 0, 0, 177.94, 11.74, 0.0, 95606.01, -4393.99], [\"2024-06-07\", 0, 0, 0, 177.48, 11.52, 0.0, 95606.01, -4393.99], [\"2024-06-10\", 0, 0, 0, 173.79, 11.87, 0.0, 95606.01, -4393.99], [\"2024-06-11\", 0, 0, 0, 170.66, 11.83, 0.0, 95606.01, -4393.99], [\"2024-06-12\", 0, 0, 0, 177.29, 11.8, 0.0, 95606.01, -4393.99], [\"2024-06-13\", 0, 0, 0, 182.47, 11.11, 0.0, 95606.01, -4393.99], [\"2024-06-14\", 0, 0, 0, 178.01, 10.88, 0.0, 95606.01, -4393.99], [\"2024-06-17\", 0, 0, 0, 187.44, 10.96, 0.0, 95606.01, -4393.99], [\"2024-06-18\", 0, 0, 0, 184.86, 11.02, 0.0, 95606.01, -4393.99], [\"2024-06-20\", 0, 0, 0, 181.57, 10.33, 0.0, 95606.01, -4393.99], [\"2024-06-21\", 0, 0, 0, 183.01, 10.32, 0.0, 95606.01, -4393.99], [\"2024-06-24\", 0, 0, 0, 182.58, 11.01, 0.0, 95606.01, -4393.99], [\"2024-06-25\", 0, 0, 0, 187.35, 11.96, 0.0, 95606.01, -4393.99], [\"2024-06-26\", 0, 0, 0, 196.37, 14.74, 0.0, 95606.01, -4393.99], [\"2024-06-27\", 0, 0, 0, 197.42, 14.47, 0.0, 95606.01, -4393.99], [\"2024-06-28\", 0, 0, 0, 197.88, 13.42, 0.0, 95606.01, -4393.99], [\"2024-07-01\", 0, 0, 0, 209.86, 13.92, 0.0, 95606.01, -4393.99], [\"2024-07-02\", 0, 0, 0, 231.26, 14.89, 0.0, 95606.01, -4393.99], [\"2024-07-03\", 0, 0, 0, 246.39, 14.65, 0.0, 95606.01, -4393.99], [\"2024-07-05\", 0, 0, 0, 251.52, 14.79, 0.0, 95606.01, -4393.99], [\"2024-07-08\", 0, 0, 0, 252.94, 15.49, 0.0, 95606.01, -4393.99], [\"2024-07-09\", 0, 0, 0, 262.33, 15.71, 0.0, 95606.01, -4393.99], [\"2024-07-10\", 0, 0, 0, 263.26, 16.37, 0.0, 95606.01, -4393.99], [\"2024-07-11\", 0, 0, 0, 241.03, 16.76, 0.0, 95606.01, -4393.99], [\"2024-07-12\", 0, 0, 0, 248.23, 18.11, 0.0, 95606.01, -4393.99], [\"2024-07-15\", 0, 0, 0, 252.64, 17.5, 0.0, 95606.01, -4393.99], [\"2024-07-16\", 0, 0, 0, 256.56, 17.94, 0.0, 95606.01, -4393.99], [\"2024-07-17\", 0, 0, 0, 248.5, 17.19, 0.0, 95606.01, -4393.99], [\"2024-07-18\", 0, 0, 0, 249.23, 16.9, 0.0, 95606.01, -4393.99], [\"2024-07-19\", 0, 0, 0, 239.2, 16.75, 0.0, 95606.01, -4393.99], [\"2024-07-22\", 0, 0, 0, 251.51, 17.22, 0.0, 95606.01, -4393.99], [\"2024-07-23\", 0, 0, 0, 246.38, 17.5, 0.0, 95606.01, -4393.99], [\"2024-07-24\", 0, 0, 0, 215.99, 16.27, 0.0, 95606.01, -4393.99], [\"2024-07-25\", 0, 0, 0, 220.25, 16.25, 0.0, 95606.01, -4393.99], [\"2024-07-26\", 0, 0, 0, 219.8, 16.21, 0.0, 95606.01, -4393.99], [\"2024-07-29\", 0, 0, 0, 232.1, 16.3, 0.0, 95606.01, -4393.99], [\"2024-07-30\", 0, 0, 0, 222.62, 16.22, 0.0, 95606.01, -4393.99], [\"2024-07-31\", 0, 0, 0, 232.07, 16.41, 0.0, 95606.01, -4393.99], [\"2024-08-01\", 0, 0, 0, 216.86, 15.24, 0.0, 95606.01, -4393.99], [\"2024-08-02\", 0, 0, 0, 207.67, 14.72, 0.0, 95606.01, -4393.99], [\"2024-08-05\", 0, 0, 0, 198.88, 14.61, 0.0, 95606.01, -4393.99], [\"2024-08-06\", 0, 0, 0, 200.64, 14.8, 0.0, 95606.01, -4393.99], [\"2024-08-07\", 0, 0, 0, 191.76, 13.79, 0.0, 95606.01, -4393.99], [\"2024-08-08\", 0, 0, 0, 198.84, 14.72, 0.0, 95606.01, -4393.99], [\"2024-08-09\", 0, 0, 0, 200.0, 13.95, 0.0, 95606.01, -4393.99], [\"2024-08-12\", 0, 0, 0, 197.49, 13.39, 0.0, 95606.01, -4393.99], [\"2024-08-13\", 0, 0, 0, 207.83, 13.54, 0.0, 95606.01, -4393.99], [\"2024-08-14\", 0, 0, 0, 201.38, 13.25, 0.0, 95606.01, -4393.99], [\"2024-08-15\", 0, 0, 0, 214.14, 13.76, 0.0, 95606.01, -4393.99], [\"2024-08-16\", 0, 0, 0, 216.12, 13.21, 0.0, 95606.01, -4393.99], [\"2024-08-19\", 0, 0, 0, 222.72, 13.53, 0.0, 95606.01, -4393.99], [\"2024-08-20\", 0, 0, 0, 221.1, 13.2, 0.0, 95606.01, -4393.99], [\"2024-08-21\", 0, 0, 0, 223.27, 13.07, 0.0, 95606.01, -4393.99], [\"2024-08-22\", 0, 0, 0, 210.66, 12.81, 0.0, 95606.01, -4393.99], [\"2024-08-23\", 0, 0, 0, 220.32, 13.96, 0.0, 95606.01, -4393.99], [\"2024-08-26\", 0, 0, 0, 213.21, 14.36, 0.0, 95606.01, -4393.99], [\"2024-08-27\", 0, 0, 0, 209.21, 14.48, 0.0, 95606.01, -4393.99], [\"2024-08-28\", 0, 0, 0, 205.75, 13.83, 0.0, 95606.01, -4393.99], [\"2024-08-29\", 0, 0, 0, 206.28, 14.09, 0.0, 95606.01, -4393.99], [\"2024-08-30\", 0, 0, 0, 214.11, 14.13, 0.0, 95606.01, -4393.99], [\"2024-09-03\", 0, 0, 0, 210.6, 13.15, 0.0, 95606.01, -4393.99], [\"2024-09-04\", 0, 0, 0, 219.41, 13.28, 0.0, 95606.01, -4393.99], [\"2024-09-05\", 0, 0, 0, 230.17, 13.74, 0.0, 95606.01, -4393.99], [\"2024-09-06\", 0, 0, 0, 210.73, 13.23, 0.0, 95606.01, -4393.99], [\"2024-09-09\", 0, 0, 0, 216.27, 13.08, 0.0, 95606.01, -4393.99], [\"2024-09-10\", 0, 0, 0, 226.17, 13.23, 0.0, 95606.01, -4393.99], [\"2024-09-11\", 0, 0, 0, 228.13, 13.93, 0.0, 95606.01, -4393.99], [\"2024-09-12\", 0, 0, 0, 229.81, 13.72, 0.0, 95606.01, -4393.99], [\"2024-09-13\", 0, 0, 0, 230.29, 13.5, 0.0, 95606.01, -4393.99], [\"2024-09-16\", 0, 0, 0, 226.78, 13.2, 0.0, 95606.01, -4393.99], [\"2024-09-17\", 0, 0, 0, 227.87, 13.1, 0.0, 95606.01, -4393.99], [\"2024-09-18\", 0, 0, 0, 227.2, 12.9, 0.0, 95606.01, -4393.99], [\"2024-09-19\", 0, 0, 0, 243.92, 13.15, 0.0, 95606.01, -4393.99], [\"2024-09-20\", 0, 0, 0, 238.25, 11.71, 0.0, 95606.01, -4393.99], [\"2024-09-23\", 0, 0, 0, 250.0, 11.91, 0.0, 95606.01, -4393.99], [\"2024-09-24\", 0, 0, 0, 254.27, 11.84, 0.0, 95606.01, -4393.99], [\"2024-09-25\", 0, 0, 0, 257.02, 11.03, 0.0, 95606.01, -4393.99], [\"2024-09-26\", 0, 0, 0, 254.22, 11.17, 0.0, 95606.01, -4393.99], [\"2024-09-27\", 0, 0, 0, 260.46, 11.6, 0.0, 95606.01, -4393.99], [\"2024-09-30\", 0, 0, 0, 261.63, 11.22, 0.0, 95606.01, -4393.99], [\"2024-10-01\", 0, 0, 0, 258.02, 10.44, 0.0, 95606.01, -4393.99], [\"2024-10-02\", 0, 0, 0, 249.02, 10.64, 0.0, 95606.01, -4393.99], [\"2024-10-03\", 0, 0, 0, 240.66, 10.78, 0.0, 95606.01, -4393.99], [\"2024-10-04\", 0, 0, 0, 250.08, 10.44, 0.0, 95606.01, -4393.99], [\"2024-10-07\", 0, 0, 0, 240.83, 10.49, 0.0, 95606.01, -4393.99], [\"2024-10-08\", 0, 0, 0, 244.5, 10.47, 0.0, 95606.01, -4393.99], [\"2024-10-09\", 0, 0, 0, 241.05, 10.42, 0.0, 95606.01, -4393.99], [\"2024-10-10\", 0, 0, 0, 238.77, 10.26, 0.0, 95606.01, -4393.99], [\"2024-10-11\", 0, 0, 0, 217.8, 10.5, 0.0, 95606.01, -4393.99], [\"2024-10-14\", 0, 0, 0, 219.16, 10.35, 0.0, 95606.01, -4393.99], [\"2024-10-15\", 0, 0, 0, 219.57, 10.15, 0.0, 95606.01, -4393.99], [\"2024-10-16\", 0, 0, 0, 221.33, 10.24, 0.0, 95606.01, -4393.99], [\"2024-10-17\", 0, 0, 0, 220.89, 10.12, 0.0, 95606.01, -4393.99], [\"2024-10-18\", 0, 0, 0, 220.7, 10.04, 0.0, 95606.01, -4393.99], [\"2024-10-21\", 0, 0, 0, 218.85, 10.03, 0.0, 95606.01, -4393.99], [\"2024-10-22\", 0, 0, 0, 217.97, 10.49, 0.0, 95606.01, -4393.99], [\"2024-10-23\", 0, 0, 0, 213.65, 10.16, 0.0, 95606.01, -4393.99], [\"2024-10-24\", 0, 0, 0, 260.48, 10.43, 0.0, 95606.01, -4393.99], [\"2024-10-25\", 0, 0, 0, 269.19, 10.45, 0.0, 95606.01, -4393.99], [\"2024-10-28\", 0, 0, 0, 262.51, 10.86, 0.0, 95606.01, -4393.99], [\"2024-10-29\", 0, 0, 0, 259.52, 10.47, 0.0, 95606.01, -4393.99], [\"2024-10-30\", 0, 0, 0, 257.55, 10.39, 0.0, 95606.01, -4393.99], [\"2024-10-31\", 0, 0, 0, 249.85, 10.1, 0.0, 95606.01, -4393.99], [\"2024-11-01\", 0, 0, 0, 248.98, 10.18, 0.0, 95606.01, -4393.99], [\"2024-11-04\", 0, 0, 0, 242.84, 10.29, 0.0, 95606.01, -4393.99], [\"2024-11-05\", 0, 0, 0, 251.44, 10.59, 0.0, 95606.01, -4393.99], [\"2024-11-06\", 0, 0, 0, 288.53, 9.71, 0.0, 95606.01, -4393.99], [\"2024-11-07\", 0, 0, 0, 296.91, 10.05, 0.0, 95606.01, -4393.99], [\"2024-11-08\", 0, 0, 0, 321.22, 10.59, 0.0, 95606.01, -4393.99], [\"2024-11-11\", 0, 0, 0, 350.0, 11.04, 0.0, 95606.01, -4393.99], [\"2024-11-12\", 0, 0, 0, 328.49, 10.58, 0.0, 95606.01, -4393.99], [\"2024-11-13\", 0, 0, 0, 330.24, 12.03, 0.0, 95606.01, -4393.99], [\"2024-11-14\", 0, 0, 0, 311.18, 10.31, 0.0, 95606.01, -4393.99], [\"2024-11-15\", 0, 0, 0, 320.72, 10.06, 0.0, 95606.01, -4393.99], [\"2024-11-18\", 0, 0, 0, 338.74, 10.07, 0.0, 95606.01, -4393.99], [\"2024-11-19\", 0, 0, 0, 346.0, 10.17, 0.0, 95606.01, -4393.99], [\"2024-11-20\", 0, 0, 0, 342.03, 10.05, 0.0, 95606.01, -4393.99], [\"2024-11-21\", 0, 0, 0, 339.64, 10.02, 0.0, 95606.01, -4393.99], [\"2024-11-22\", 0, 0, 0, 352.56, 10.24, 0.0, 95606.01, -4393.99], [\"2024-11-25\", 0, 0, 0, 338.59, 11.6, 0.0, 95606.01, -4393.99], [\"2024-11-26\", 0, 0, 0, 338.23, 11.55, 0.0, 95606.01, -4393.99], [\"2024-11-27\", 0, 0, 0, 332.89, 12.22, 0.0, 95606.01, -4393.99], [\"2024-11-29\", 0, 0, 0, 345.16, 12.23, 0.0, 95606.01, -4393.99], [\"2024-12-02\", 0, 0, 0, 357.09, 11.87, 0.0, 95606.01, -4393.99], [\"2024-12-03\", 0, 0, 0, 351.42, 11.88, 0.0, 95606.01, -4393.99], [\"2024-12-04\", 0, 0, 0, 357.93, 11.96, 0.0, 95606.01, -4393.99], [\"2024-12-05\", 0, 0, 0, 369.49, 12.34, 0.0, 95606.01, -4393.99], [\"2024-12-06\", 0, 0, 0, 389.22, 13.0, 0.0, 95606.01, -4393.99], [\"2024-12-09\", 0, 0, 0, 389.79, 14.45, 0.0, 95606.01, -4393.99], [\"2024-12-10\", 0, 0, 0, 400.99, 14.06, 0.0, 95606.01, -4393.99], [\"2024-12-11\", 0, 0, 0, 424.77, 13.76, 0.0, 95606.01, -4393.99], [\"2024-12-12\", 0, 0, 0, 418.1, 14.2, 0.0, 95606.01, -4393.99], [\"2024-12-13\", 0, 0, 0, 436.23, 14.37, 0.0, 95606.01, -4393.99], [\"2024-12-16\", 0, 0, 0, 463.02, 15.34, 0.0, 95606.01, -4393.99], [\"2024-12-17\", 0, 0, 0, 479.86, 14.7, 0.0, 95606.01, -4393.99], [\"2024-12-18\", 0, 0, 0, 440.13, 13.06, 0.0, 95606.01, -4393.99], [\"2024-12-19\", 0, 0, 0, 436.17, 13.06, 0.0, 95606.01, -4393.99], [\"2024-12-20\", 0, 0, 0, 421.06, 13.83, 0.0, 95606.01, -4393.99], [\"2024-12-23\", 0, 0, 0, 430.6, 13.75, 0.0, 95606.01, -4393.99], [\"2024-12-24\", 0, 0, 0, 462.28, 14.06, 0.0, 95606.01, -4393.99], [\"2024-12-26\", 0, 0, 0, 454.13, 14.04, 0.0, 95606.01, -4393.99], [\"2024-12-27\", 0, 0, 0, 431.66, 13.65, 0.0, 95606.01, -4393.99], [\"2024-12-30\", 0, 0, 0, 417.41, 13.58, 0.0, 95606.01, -4393.99], [\"2024-12-31\", 0, 0, 0, 403.84, 13.3, 0.0, 95606.01, -4393.99], [\"2025-01-02\", 0, 0, 0, 379.28, 13.25, 0.0, 95606.01, -4393.99], [\"2025-01-03\", 0, 0, 0, 410.44, 16.49, 0.0, 95606.01, -4393.99], [\"2025-01-06\", 0, 0, 0, 411.05, 15.71, 0.0, 95606.01, -4393.99], [\"2025-01-07\", -1, -25, 20, 394.36, 14.95, 266.65, 95872.66, -4393.99], [\"2025-01-08\", -1, -25, 20, 394.94, 14.21, 237.35, 95843.36, -4393.99], [\"2025-01-10\", -1, -25, 20, 394.74, 13.85, 235.15, 95841.16, -4393.99], [\"2025-01-13\", -1, -25, 20, 403.31, 13.49, 13.7, 95619.71, -4393.99], [\"2025-01-14\", -1, -25, 20, 396.36, 13.34, 184.45, 95790.46, -4393.99], [\"2025-01-15\", -1, -25, 20, 428.22, 13.94, -600.05, 95005.96, -4393.99], [\"2025-01-16\", -1, -25, 20, 413.82, 14.44, -230.05, 95375.96, -4393.99], [\"2025-01-17\", -1, -25, 20, 426.5, 14.21, -551.65, 95054.36, -4393.99], [\"2025-01-21\", -1, -25, 20, 424.07, 13.29, -509.3, 95096.71, -4393.99], [\"2025-01-22\", -1, -25, 20, 415.11, 12.69, -297.3, 95308.71, -4393.99], [\"2025-01-23\", -1, -25, 20, 412.38, 12.49, -233.05, 95372.96, -4393.99], [\"2025-01-24\", -1, -25, 20, 406.58, 12.77, -82.45, 95523.56, -4393.99], [\"2025-01-27\", -1, -25, 20, 397.15, 12.85, 154.9, 95760.91, -4393.99], [\"2025-01-28\", 0, 0, 0, 398.09, 12.71, 162.25, 95930.51, -4231.74], [\"2025-01-29\", 0, 0, 0, 389.1, 12.42, 0.0, 95768.26, -4231.74], [\"2025-01-30\", 0, 0, 0, 400.28, 12.51, 0.0, 95768.26, -4231.74], [\"2025-01-31\", 0, 0, 0, 404.6, 12.56, 0.0, 95768.26, -4231.74], [\"2025-02-03\", 0, 0, 0, 383.68, 12.39, 0.0, 95768.26, -4231.74], [\"2025-02-04\", 0, 0, 0, 392.21, 12.87, 0.0, 95768.26, -4231.74], [\"2025-02-05\", 0, 0, 0, 378.17, 12.77, 0.0, 95768.26, -4231.74], [\"2025-02-06\", 0, 0, 0, 374.32, 12.8, 0.0, 95768.26, -4231.74], [\"2025-02-07\", 0, 0, 0, 361.62, 12.48, 0.0, 95768.26, -4231.74], [\"2025-02-10\", 0, 0, 0, 350.73, 12.99, 0.0, 95768.26, -4231.74], [\"2025-02-11\", 0, 0, 0, 328.5, 12.44, 0.0, 95768.26, -4231.74], [\"2025-02-12\", 0, 0, 0, 336.51, 12.48, 0.0, 95768.26, -4231.74], [\"2025-02-13\", 0, 0, 0, 355.94, 13.3, 0.0, 95768.26, -4231.74], [\"2025-02-14\", 0, 0, 0, 355.84, 14.03, 0.0, 95768.26, -4231.74], [\"2025-02-18\", 0, 0, 0, 354.11, 14.44, 0.0, 95768.26, -4231.74], [\"2025-02-19\", 0, 0, 0, 360.56, 13.93, 0.0, 95768.26, -4231.74], [\"2025-02-20\", 0, 0, 0, 354.4, 13.61, 0.0, 95768.26, -4231.74], [\"2025-02-21\", 0, 0, 0, 337.8, 12.97, 0.0, 95768.26, -4231.74], [\"2025-02-24\", 0, 0, 0, 330.53, 11.96, 0.0, 95768.26, -4231.74], [\"2025-02-25\", 0, 0, 0, 302.8, 11.45, 0.0, 95768.26, -4231.74], [\"2025-02-26\", 0, 0, 0, 290.8, 11.4, 0.0, 95768.26, -4231.74], [\"2025-02-27\", 0, 0, 0, 281.95, 11.6, 0.0, 95768.26, -4231.74], [\"2025-02-28\", 0, 0, 0, 292.98, 11.84, 0.0, 95768.26, -4231.74], [\"2025-03-03\", 0, 0, 0, 284.65, 11.51, 0.0, 95768.26, -4231.74], [\"2025-03-04\", 0, 0, 0, 272.04, 11.26, 0.0, 95768.26, -4231.74], [\"2025-03-05\", 0, 0, 0, 279.1, 11.42, 0.0, 95768.26, -4231.74], [\"2025-03-06\", 0, 0, 0, 263.45, 11.03, 0.0, 95768.26, -4231.74], [\"2025-03-07\", 0, 0, 0, 262.67, 11.17, 0.0, 95768.26, -4231.74], [\"2025-03-10\", 0, 0, 0, 222.15, 10.96, 0.0, 95768.26, -4231.74], [\"2025-03-11\", 0, 0, 0, 230.58, 10.79, 0.0, 95768.26, -4231.74], [\"2025-03-12\", 0, 0, 0, 248.09, 11.06, 0.0, 95768.26, -4231.74], [\"2025-03-13\", 0, 0, 0, 240.68, 10.61, 0.0, 95768.26, -4231.74], [\"2025-03-14\", 0, 0, 0, 249.98, 10.75, 0.0, 95768.26, -4231.74], [\"2025-03-17\", 0, 0, 0, 238.01, 11.02, 0.0, 95768.26, -4231.74], [\"2025-03-18\", 0, 0, 0, 225.31, 11.2, 0.0, 95768.26, -4231.74], [\"2025-03-19\", 0, 0, 0, 235.86, 11.36, 0.0, 95768.26, -4231.74], [\"2025-03-20\", 0, 0, 0, 236.26, 10.88, 0.0, 95768.26, -4231.74], [\"2025-03-21\", 0, 0, 0, 248.71, 11.6, 0.0, 95768.26, -4231.74], [\"2025-03-24\", 0, 0, 0, 278.39, 12.19, 0.0, 95768.26, -4231.74], [\"2025-03-25\", 0, 0, 0, 288.14, 12.36, 0.0, 95768.26, -4231.74], [\"2025-03-26\", 0, 0, 0, 272.06, 12.1, 0.0, 95768.26, -4231.74], [\"2025-03-27\", 0, 0, 0, 273.13, 13.02, 0.0, 95768.26, -4231.74], [\"2025-03-28\", 0, 0, 0, 263.55, 12.41, 0.0, 95768.26, -4231.74], [\"2025-03-31\", 0, 0, 0, 259.16, 12.45, 0.0, 95768.26, -4231.74], [\"2025-04-01\", 0, 0, 0, 268.46, 13.28, 0.0, 95768.26, -4231.74], [\"2025-04-02\", 0, 0, 0, 282.76, 12.49, 0.0, 95768.26, -4231.74], [\"2025-04-03\", 0, 0, 0, 267.28, 11.53, 0.0, 95768.26, -4231.74], [\"2025-04-04\", 0, 0, 0, 239.43, 11.21, 0.0, 95768.26, -4231.74], [\"2025-04-07\", 0, 0, 0, 233.29, 11.21, 0.0, 95768.26, -4231.74], [\"2025-04-08\", 0, 0, 0, 221.86, 10.8, 0.0, 95768.26, -4231.74], [\"2025-04-09\", 0, 0, 0, 272.2, 11.77, 0.0, 95768.26, -4231.74], [\"2025-04-10\", 0, 0, 0, 252.4, 11.46, 0.0, 95768.26, -4231.74], [\"2025-04-11\", 0, 0, 0, 252.31, 11.47, 0.0, 95768.26, -4231.74], [\"2025-04-14\", 0, 0, 0, 252.35, 12.03, 0.0, 95768.26, -4231.74], [\"2025-04-15\", 0, 0, 0, 254.11, 11.91, 0.0, 95768.26, -4231.74], [\"2025-04-16\", 0, 0, 0, 241.55, 11.49, 0.0, 95768.26, -4231.74], [\"2025-04-17\", 0, 0, 0, 242.88, 11.56, 0.0, 95768.26, -4231.74]];\n",
       "\n",
       "        // Define the dt_args\n",
       "        let dt_args = {\"layout\": {\"topStart\": \"pageLength\", \"topEnd\": \"search\", \"bottomStart\": \"info\", \"bottomEnd\": \"paging\"}, \"order\": [], \"warn_on_selected_rows_not_rendered\": true};\n",
       "        dt_args[\"data\"] = data;\n",
       "\n",
       "        \n",
       "        new DataTable(table, dt_args);\n",
       "    });\n",
       "</script>\n"
      ],
      "text/plain": [
       "<IPython.core.display.HTML object>"
      ]
     },
     "metadata": {},
     "output_type": "display_data"
    }
   ],
   "source": [
    "itables.show(ledger_df)"
   ]
  },
  {
   "cell_type": "code",
   "execution_count": 55,
   "id": "1e773306",
   "metadata": {},
   "outputs": [],
   "source": [
    "# Create cumulative PnL column\n",
    "df[\"cumulative_pnl\"] = df[\"pnl\"].cumsum()\n",
    "\n",
    "# Trade summary metrics\n",
    "total_trades = df[\"trade_exit\"].sum()\n",
    "total_pnl = df[\"pnl\"].sum()\n",
    "winning_trades = df[df[\"pnl\"] > 0][\"pnl\"].count()\n",
    "losing_trades = df[df[\"pnl\"] < 0][\"pnl\"].count()\n",
    "avg_return = df[\"pnl\"][df[\"pnl\"] != 0].mean()\n",
    "win_rate = winning_trades / total_trades if total_trades > 0 else np.nan\n",
    "entry_dates = df.loc[df[\"trade_entry\"], \"timestamp\"].reset_index(drop=True)\n",
    "exit_dates = df.loc[df[\"trade_exit\"], \"timestamp\"].reset_index(drop=True)\n",
    "holding_durations = [(exit_date - entry_date).days for entry_date, exit_date in zip(entry_dates, exit_dates)]\n",
    "avg_holding_period = np.mean(holding_durations) if holding_durations else np.nan\n",
    "\n",
    "\n",
    "# Summary dictionary\n",
    "summary = {\n",
    "    \"Total Trades\": total_trades,\n",
    "    \"Total PnL\": round(total_pnl, 4),\n",
    "    \"Winning Trades\": winning_trades,\n",
    "    \"Losing Trades\": losing_trades,\n",
    "    \"Win Rate (%)\": round(win_rate * 100, 2) if not np.isnan(win_rate) else \"N/A\",\n",
    "    \"Average Trade Return\": round(avg_return, 4) if not np.isnan(avg_return) else \"N/A\",\n",
    "    \"Average Holding Period (days)\": round(avg_holding_period, 2) if not np.isnan(avg_holding_period) else \"N/A\",\n",
    "}\n",
    "\n"
   ]
  },
  {
   "cell_type": "code",
   "execution_count": 61,
   "id": "c474da97",
   "metadata": {},
   "outputs": [
    {
     "data": {
      "application/vnd.plotly.v1+json": {
       "config": {
        "plotlyServerURL": "https://plot.ly"
       },
       "data": [
        {
         "mode": "lines",
         "name": "account value",
         "type": "scatter",
         "x": {
          "bdata": "AAABAAIAAwAEAAUABgAHAAgACQAKAAsADAANAA4ADwAQABEAEgATABQAFQAWABcAGAAZABoAGwAcAB0AHgAfACAAIQAiACMAJAAlACYAJwAoACkAKgArACwALQAuAC8AMAAxADIAMwA0ADUANgA3ADgAOQA6ADsAPAA9AD4APwBAAEEAQgBDAEQARQBGAEcASABJAEoASwBMAE0ATgBPAFAAUQBSAFMAVABVAFYAVwBYAFkAWgBbAFwAXQBeAF8AYABhAGIAYwBkAGUAZgBnAGgAaQBqAGsAbABtAG4AbwBwAHEAcgBzAHQAdQB2AHcAeAB5AHoAewB8AH0AfgB/AIAAgQCCAIMAhACFAIYAhwCIAIkAigCLAIwAjQCOAI8AkACRAJIAkwCUAJUAlgCXAJgAmQCaAJsAnACdAJ4AnwCgAKEAogCjAKQApQCmAKcAqACpAKoAqwCsAK0ArgCvALAAsQCyALMAtAC1ALYAtwC4ALkAugC7ALwAvQC+AL8AwADBAMIAwwDEAMUAxgDHAMgAyQDKAMsAzADNAM4AzwDQANEA0gDTANQA1QDWANcA2ADZANoA2wDcAN0A3gDfAOAA4QDiAOMA5ADlAOYA5wDoAOkA6gDrAOwA7QDuAO8A8ADxAPIA8wD0APUA9gD3APgA+QD6APsA/AD9AP4A/wAAAQEBAgEDAQQBBQEGAQcBCAEJAQoBCwEMAQ0BDgEPARABEQESARMBFAEVARYBFwEYARkBGgEbARwBHQEeAR8BIAEhASIBIwEkASUBJgEnASgBKQEqASsBLAEtAS4BLwEwATEBMgEzATQBNQE2ATcBOAE5AToBOwE8AT0BPgE/AUABQQFCAUMBRAFFAUYBRwFIAUkBSgFLAUwBTQFOAU8BUAFRAVIBUwFUAVUBVgFXAVgBWQFaAVsBXAFdAV4BXwFgAWEBYgFjAWQBZQFmAWcBaAFpAWoBawFsAW0BbgFvAXABcQFyAXMBdAF1AXYBdwF4AXkBegF7AXwBfQF+AX8BgAGBAYIBgwGEAYUBhgGHAYgBiQGKAYsBjAGNAY4BjwGQAZEBkgGTAZQBlQGWAZcBmAGZAZoBmwGcAZ0BngGfAaABoQGiAaMBpAGlAaYBpwGoAakBqgGrAawBrQGuAa8BsAGxAbIBswG0AbUBtgG3AbgBuQG6AbsBvAG9Ab4BvwHAAcEBwgHDAcQBxQHGAccByAHJAcoBywHMAc0BzgHPAdAB0QHSAdMB1AHVAdYB1wHYAdkB2gHbAdwB3QHeAd8B4AHhAeIB4wHkAeUB5gHnAegB6QHqAesB7AHtAe4B7wHwAfEB8gHzAfQB9QH2AfcB+AH5AfoB+wH8Af0B/gH/AQACAQICAgMCBAIFAgYCBwIIAgkCCgILAgwCDQIOAg8CEAIRAhICEwIUAhUCFgIXAhgCGQIaAhsCHAIdAh4CHwIgAiECIgIjAiQCJQImAicCKAIpAioCKwIsAi0CLgIvAjACMQIyAjMCNAI1AjYCNwI4AjkCOgI7AjwCPQI+Aj8CQAJBAkICQwJEAkUCRgJHAkgCSQJKAksCTAJNAk4CTwJQAlECUgJTAlQCVQJWAlcCWAJZAloCWwJcAl0CXgJfAmACYQJiAmMCZAJlAmYCZwJoAmkCagJrAmwCbQJuAm8CcAJxAnICcwJ0AnUCdgJ3AngCeQJ6AnsCfAJ9An4CfwKAAoECggKDAoQChQKGAocCiAKJAooCiwKMAo0C",
          "dtype": "i2"
         },
         "y": {
          "bdata": "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",
          "dtype": "f8"
         }
        }
       ],
       "layout": {
        "template": {
         "data": {
          "bar": [
           {
            "error_x": {
             "color": "#2a3f5f"
            },
            "error_y": {
             "color": "#2a3f5f"
            },
            "marker": {
             "line": {
              "color": "#E5ECF6",
              "width": 0.5
             },
             "pattern": {
              "fillmode": "overlay",
              "size": 10,
              "solidity": 0.2
             }
            },
            "type": "bar"
           }
          ],
          "barpolar": [
           {
            "marker": {
             "line": {
              "color": "#E5ECF6",
              "width": 0.5
             },
             "pattern": {
              "fillmode": "overlay",
              "size": 10,
              "solidity": 0.2
             }
            },
            "type": "barpolar"
           }
          ],
          "carpet": [
           {
            "aaxis": {
             "endlinecolor": "#2a3f5f",
             "gridcolor": "white",
             "linecolor": "white",
             "minorgridcolor": "white",
             "startlinecolor": "#2a3f5f"
            },
            "baxis": {
             "endlinecolor": "#2a3f5f",
             "gridcolor": "white",
             "linecolor": "white",
             "minorgridcolor": "white",
             "startlinecolor": "#2a3f5f"
            },
            "type": "carpet"
           }
          ],
          "choropleth": [
           {
            "colorbar": {
             "outlinewidth": 0,
             "ticks": ""
            },
            "type": "choropleth"
           }
          ],
          "contour": [
           {
            "colorbar": {
             "outlinewidth": 0,
             "ticks": ""
            },
            "colorscale": [
             [
              0,
              "#0d0887"
             ],
             [
              0.1111111111111111,
              "#46039f"
             ],
             [
              0.2222222222222222,
              "#7201a8"
             ],
             [
              0.3333333333333333,
              "#9c179e"
             ],
             [
              0.4444444444444444,
              "#bd3786"
             ],
             [
              0.5555555555555556,
              "#d8576b"
             ],
             [
              0.6666666666666666,
              "#ed7953"
             ],
             [
              0.7777777777777778,
              "#fb9f3a"
             ],
             [
              0.8888888888888888,
              "#fdca26"
             ],
             [
              1,
              "#f0f921"
             ]
            ],
            "type": "contour"
           }
          ],
          "contourcarpet": [
           {
            "colorbar": {
             "outlinewidth": 0,
             "ticks": ""
            },
            "type": "contourcarpet"
           }
          ],
          "heatmap": [
           {
            "colorbar": {
             "outlinewidth": 0,
             "ticks": ""
            },
            "colorscale": [
             [
              0,
              "#0d0887"
             ],
             [
              0.1111111111111111,
              "#46039f"
             ],
             [
              0.2222222222222222,
              "#7201a8"
             ],
             [
              0.3333333333333333,
              "#9c179e"
             ],
             [
              0.4444444444444444,
              "#bd3786"
             ],
             [
              0.5555555555555556,
              "#d8576b"
             ],
             [
              0.6666666666666666,
              "#ed7953"
             ],
             [
              0.7777777777777778,
              "#fb9f3a"
             ],
             [
              0.8888888888888888,
              "#fdca26"
             ],
             [
              1,
              "#f0f921"
             ]
            ],
            "type": "heatmap"
           }
          ],
          "histogram": [
           {
            "marker": {
             "pattern": {
              "fillmode": "overlay",
              "size": 10,
              "solidity": 0.2
             }
            },
            "type": "histogram"
           }
          ],
          "histogram2d": [
           {
            "colorbar": {
             "outlinewidth": 0,
             "ticks": ""
            },
            "colorscale": [
             [
              0,
              "#0d0887"
             ],
             [
              0.1111111111111111,
              "#46039f"
             ],
             [
              0.2222222222222222,
              "#7201a8"
             ],
             [
              0.3333333333333333,
              "#9c179e"
             ],
             [
              0.4444444444444444,
              "#bd3786"
             ],
             [
              0.5555555555555556,
              "#d8576b"
             ],
             [
              0.6666666666666666,
              "#ed7953"
             ],
             [
              0.7777777777777778,
              "#fb9f3a"
             ],
             [
              0.8888888888888888,
              "#fdca26"
             ],
             [
              1,
              "#f0f921"
             ]
            ],
            "type": "histogram2d"
           }
          ],
          "histogram2dcontour": [
           {
            "colorbar": {
             "outlinewidth": 0,
             "ticks": ""
            },
            "colorscale": [
             [
              0,
              "#0d0887"
             ],
             [
              0.1111111111111111,
              "#46039f"
             ],
             [
              0.2222222222222222,
              "#7201a8"
             ],
             [
              0.3333333333333333,
              "#9c179e"
             ],
             [
              0.4444444444444444,
              "#bd3786"
             ],
             [
              0.5555555555555556,
              "#d8576b"
             ],
             [
              0.6666666666666666,
              "#ed7953"
             ],
             [
              0.7777777777777778,
              "#fb9f3a"
             ],
             [
              0.8888888888888888,
              "#fdca26"
             ],
             [
              1,
              "#f0f921"
             ]
            ],
            "type": "histogram2dcontour"
           }
          ],
          "mesh3d": [
           {
            "colorbar": {
             "outlinewidth": 0,
             "ticks": ""
            },
            "type": "mesh3d"
           }
          ],
          "parcoords": [
           {
            "line": {
             "colorbar": {
              "outlinewidth": 0,
              "ticks": ""
             }
            },
            "type": "parcoords"
           }
          ],
          "pie": [
           {
            "automargin": true,
            "type": "pie"
           }
          ],
          "scatter": [
           {
            "fillpattern": {
             "fillmode": "overlay",
             "size": 10,
             "solidity": 0.2
            },
            "type": "scatter"
           }
          ],
          "scatter3d": [
           {
            "line": {
             "colorbar": {
              "outlinewidth": 0,
              "ticks": ""
             }
            },
            "marker": {
             "colorbar": {
              "outlinewidth": 0,
              "ticks": ""
             }
            },
            "type": "scatter3d"
           }
          ],
          "scattercarpet": [
           {
            "marker": {
             "colorbar": {
              "outlinewidth": 0,
              "ticks": ""
             }
            },
            "type": "scattercarpet"
           }
          ],
          "scattergeo": [
           {
            "marker": {
             "colorbar": {
              "outlinewidth": 0,
              "ticks": ""
             }
            },
            "type": "scattergeo"
           }
          ],
          "scattergl": [
           {
            "marker": {
             "colorbar": {
              "outlinewidth": 0,
              "ticks": ""
             }
            },
            "type": "scattergl"
           }
          ],
          "scattermap": [
           {
            "marker": {
             "colorbar": {
              "outlinewidth": 0,
              "ticks": ""
             }
            },
            "type": "scattermap"
           }
          ],
          "scattermapbox": [
           {
            "marker": {
             "colorbar": {
              "outlinewidth": 0,
              "ticks": ""
             }
            },
            "type": "scattermapbox"
           }
          ],
          "scatterpolar": [
           {
            "marker": {
             "colorbar": {
              "outlinewidth": 0,
              "ticks": ""
             }
            },
            "type": "scatterpolar"
           }
          ],
          "scatterpolargl": [
           {
            "marker": {
             "colorbar": {
              "outlinewidth": 0,
              "ticks": ""
             }
            },
            "type": "scatterpolargl"
           }
          ],
          "scatterternary": [
           {
            "marker": {
             "colorbar": {
              "outlinewidth": 0,
              "ticks": ""
             }
            },
            "type": "scatterternary"
           }
          ],
          "surface": [
           {
            "colorbar": {
             "outlinewidth": 0,
             "ticks": ""
            },
            "colorscale": [
             [
              0,
              "#0d0887"
             ],
             [
              0.1111111111111111,
              "#46039f"
             ],
             [
              0.2222222222222222,
              "#7201a8"
             ],
             [
              0.3333333333333333,
              "#9c179e"
             ],
             [
              0.4444444444444444,
              "#bd3786"
             ],
             [
              0.5555555555555556,
              "#d8576b"
             ],
             [
              0.6666666666666666,
              "#ed7953"
             ],
             [
              0.7777777777777778,
              "#fb9f3a"
             ],
             [
              0.8888888888888888,
              "#fdca26"
             ],
             [
              1,
              "#f0f921"
             ]
            ],
            "type": "surface"
           }
          ],
          "table": [
           {
            "cells": {
             "fill": {
              "color": "#EBF0F8"
             },
             "line": {
              "color": "white"
             }
            },
            "header": {
             "fill": {
              "color": "#C8D4E3"
             },
             "line": {
              "color": "white"
             }
            },
            "type": "table"
           }
          ]
         },
         "layout": {
          "annotationdefaults": {
           "arrowcolor": "#2a3f5f",
           "arrowhead": 0,
           "arrowwidth": 1
          },
          "autotypenumbers": "strict",
          "coloraxis": {
           "colorbar": {
            "outlinewidth": 0,
            "ticks": ""
           }
          },
          "colorscale": {
           "diverging": [
            [
             0,
             "#8e0152"
            ],
            [
             0.1,
             "#c51b7d"
            ],
            [
             0.2,
             "#de77ae"
            ],
            [
             0.3,
             "#f1b6da"
            ],
            [
             0.4,
             "#fde0ef"
            ],
            [
             0.5,
             "#f7f7f7"
            ],
            [
             0.6,
             "#e6f5d0"
            ],
            [
             0.7,
             "#b8e186"
            ],
            [
             0.8,
             "#7fbc41"
            ],
            [
             0.9,
             "#4d9221"
            ],
            [
             1,
             "#276419"
            ]
           ],
           "sequential": [
            [
             0,
             "#0d0887"
            ],
            [
             0.1111111111111111,
             "#46039f"
            ],
            [
             0.2222222222222222,
             "#7201a8"
            ],
            [
             0.3333333333333333,
             "#9c179e"
            ],
            [
             0.4444444444444444,
             "#bd3786"
            ],
            [
             0.5555555555555556,
             "#d8576b"
            ],
            [
             0.6666666666666666,
             "#ed7953"
            ],
            [
             0.7777777777777778,
             "#fb9f3a"
            ],
            [
             0.8888888888888888,
             "#fdca26"
            ],
            [
             1,
             "#f0f921"
            ]
           ],
           "sequentialminus": [
            [
             0,
             "#0d0887"
            ],
            [
             0.1111111111111111,
             "#46039f"
            ],
            [
             0.2222222222222222,
             "#7201a8"
            ],
            [
             0.3333333333333333,
             "#9c179e"
            ],
            [
             0.4444444444444444,
             "#bd3786"
            ],
            [
             0.5555555555555556,
             "#d8576b"
            ],
            [
             0.6666666666666666,
             "#ed7953"
            ],
            [
             0.7777777777777778,
             "#fb9f3a"
            ],
            [
             0.8888888888888888,
             "#fdca26"
            ],
            [
             1,
             "#f0f921"
            ]
           ]
          },
          "colorway": [
           "#636efa",
           "#EF553B",
           "#00cc96",
           "#ab63fa",
           "#FFA15A",
           "#19d3f3",
           "#FF6692",
           "#B6E880",
           "#FF97FF",
           "#FECB52"
          ],
          "font": {
           "color": "#2a3f5f"
          },
          "geo": {
           "bgcolor": "white",
           "lakecolor": "white",
           "landcolor": "#E5ECF6",
           "showlakes": true,
           "showland": true,
           "subunitcolor": "white"
          },
          "hoverlabel": {
           "align": "left"
          },
          "hovermode": "closest",
          "mapbox": {
           "style": "light"
          },
          "paper_bgcolor": "white",
          "plot_bgcolor": "#E5ECF6",
          "polar": {
           "angularaxis": {
            "gridcolor": "white",
            "linecolor": "white",
            "ticks": ""
           },
           "bgcolor": "#E5ECF6",
           "radialaxis": {
            "gridcolor": "white",
            "linecolor": "white",
            "ticks": ""
           }
          },
          "scene": {
           "xaxis": {
            "backgroundcolor": "#E5ECF6",
            "gridcolor": "white",
            "gridwidth": 2,
            "linecolor": "white",
            "showbackground": true,
            "ticks": "",
            "zerolinecolor": "white"
           },
           "yaxis": {
            "backgroundcolor": "#E5ECF6",
            "gridcolor": "white",
            "gridwidth": 2,
            "linecolor": "white",
            "showbackground": true,
            "ticks": "",
            "zerolinecolor": "white"
           },
           "zaxis": {
            "backgroundcolor": "#E5ECF6",
            "gridcolor": "white",
            "gridwidth": 2,
            "linecolor": "white",
            "showbackground": true,
            "ticks": "",
            "zerolinecolor": "white"
           }
          },
          "shapedefaults": {
           "line": {
            "color": "#2a3f5f"
           }
          },
          "ternary": {
           "aaxis": {
            "gridcolor": "white",
            "linecolor": "white",
            "ticks": ""
           },
           "baxis": {
            "gridcolor": "white",
            "linecolor": "white",
            "ticks": ""
           },
           "bgcolor": "#E5ECF6",
           "caxis": {
            "gridcolor": "white",
            "linecolor": "white",
            "ticks": ""
           }
          },
          "title": {
           "x": 0.05
          },
          "xaxis": {
           "automargin": true,
           "gridcolor": "white",
           "linecolor": "white",
           "ticks": "",
           "title": {
            "standoff": 15
           },
           "zerolinecolor": "white",
           "zerolinewidth": 2
          },
          "yaxis": {
           "automargin": true,
           "gridcolor": "white",
           "linecolor": "white",
           "ticks": "",
           "title": {
            "standoff": 15
           },
           "zerolinecolor": "white",
           "zerolinewidth": 2
          }
         }
        },
        "title": {
         "text": "NAV Over Time"
        },
        "xaxis": {
         "title": {
          "text": "Date"
         }
        },
        "yaxis": {
         "title": {
          "text": "account value"
         }
        }
       }
      }
     },
     "metadata": {},
     "output_type": "display_data"
    }
   ],
   "source": [
    "# Plot cumulative PnL with Plotly\n",
    "fig = go.Figure()\n",
    "fig.add_trace(go.Scatter(x=ledger_df.index, y=ledger_df[\"account_value\"], mode=\"lines\", name=\"account value\"))\n",
    "fig.update_layout(title=\"NAV Over Time\", xaxis_title=\"Date\", yaxis_title=\"account value\")\n",
    "fig.show()\n",
    "fig.write_html(\"../docs/images/cumulative_pnl.html\")"
   ]
  },
  {
   "cell_type": "code",
   "execution_count": 10,
   "id": "35760a38",
   "metadata": {},
   "outputs": [
    {
     "name": "stdout",
     "output_type": "stream",
     "text": [
      "{'Average Holding Period (days)': np.float64(9.69),\n",
      " 'Average Trade Return': np.float64(0.5479),\n",
      " 'Losing Trades': np.int64(16),\n",
      " 'Total PnL': np.float64(19.1762),\n",
      " 'Total Trades': np.int64(35),\n",
      " 'Win Rate (%)': np.float64(54.29),\n",
      " 'Winning Trades': np.int64(19)}\n"
     ]
    }
   ],
   "source": [
    "import pprint\n",
    "pprint.pprint(summary)"
   ]
  }
 ],
 "metadata": {
  "kernelspec": {
   "display_name": "venv",
   "language": "python",
   "name": "python3"
  },
  "language_info": {
   "codemirror_mode": {
    "name": "ipython",
    "version": 3
   },
   "file_extension": ".py",
   "mimetype": "text/x-python",
   "name": "python",
   "nbconvert_exporter": "python",
   "pygments_lexer": "ipython3",
   "version": "3.13.1"
  }
 },
 "nbformat": 4,
 "nbformat_minor": 5
}
