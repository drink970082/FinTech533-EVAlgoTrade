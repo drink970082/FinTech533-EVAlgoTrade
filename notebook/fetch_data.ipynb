{
 "cells": [
  {
   "cell_type": "code",
   "execution_count": 3,
   "id": "5df9f6d0",
   "metadata": {},
   "outputs": [
    {
     "name": "stdout",
     "output_type": "stream",
     "text": [
      "Processing pair: TSLA & RIVN\n",
      "OLS Coefficients: {'const': 1.2918768117947566, 'log_close': 0.28832167130623293}, OLS p-value: 0.0000, OLS R-squared: 0.0341\n",
      "Test Statistic: -2.112, p-value: 0.4702 Critical Values: [-3.91108253 -3.34427805 -3.05010223]\n",
      "r-square > 0.5? No\n",
      "Is cointegrated? No\n",
      "--------------------------------------------------\n",
      "Processing pair: TSLA & LCID\n",
      "OLS Coefficients: {'const': 2.1031951858154256, 'log_close': -0.06981964193177112}, OLS p-value: 0.4775, OLS R-squared: 0.0007\n",
      "Test Statistic: -2.630, p-value: 0.2257 Critical Values: [-3.91108253 -3.34427805 -3.05010223]\n",
      "r-square > 0.5? No\n",
      "Is cointegrated? No\n",
      "--------------------------------------------------\n",
      "Processing pair: TSLA & F\n",
      "OLS Coefficients: {'const': 2.8975385680312797, 'log_close': -0.07544623023334526}, OLS p-value: 0.0000, OLS R-squared: 0.0238\n",
      "Test Statistic: -3.016, p-value: 0.1063 Critical Values: [-3.91108253 -3.34427805 -3.05010223]\n",
      "r-square > 0.5? No\n",
      "Is cointegrated? No\n",
      "--------------------------------------------------\n",
      "Processing pair: TSLA & GM\n",
      "OLS Coefficients: {'const': 2.431808529399582, 'log_close': 0.22955784244956698}, OLS p-value: 0.0000, OLS R-squared: 0.1260\n",
      "Test Statistic: -2.547, p-value: 0.2587 Critical Values: [-3.91108253 -3.34427805 -3.05010223]\n",
      "r-square > 0.5? No\n",
      "Is cointegrated? No\n",
      "--------------------------------------------------\n",
      "Processing pair: TSLA & NIO\n",
      "OLS Coefficients: {'const': 2.159266654406086, 'log_close': -0.01426351144136859}, OLS p-value: 0.8441, OLS R-squared: 0.0001\n",
      "Test Statistic: -2.610, p-value: 0.2328 Critical Values: [-3.91108253 -3.34427805 -3.05010223]\n",
      "r-square > 0.5? No\n",
      "Is cointegrated? No\n",
      "--------------------------------------------------\n",
      "Processing pair: TSLA & XPEV\n",
      "OLS Coefficients: {'const': -1.8950423680667976, 'log_close': 0.8136342249508253}, OLS p-value: 0.0000, OLS R-squared: 0.2757\n",
      "Test Statistic: -3.084, p-value: 0.0916 Critical Values: [-3.91108253 -3.34427805 -3.05010223]\n",
      "r-square > 0.5? No\n",
      "Is cointegrated? No\n",
      "--------------------------------------------------\n",
      "Processing pair: TSLA & BYDDF\n",
      "OLS Coefficients: {'const': 1.5710727730318135, 'log_close': 0.34144260350402333}, OLS p-value: 0.0000, OLS R-squared: 0.2649\n",
      "Test Statistic: -3.497, p-value: 0.0327 Critical Values: [-3.91108253 -3.34427805 -3.05010223]\n",
      "r-square > 0.5? No\n",
      "Is cointegrated? Yes\n",
      "--------------------------------------------------\n",
      "Processing pair: TSLA & LI\n",
      "OLS Coefficients: {'const': 2.513478057865457, 'log_close': 0.14248750541817587}, OLS p-value: 0.0000, OLS R-squared: 0.0223\n",
      "Test Statistic: -2.627, p-value: 0.2268 Critical Values: [-3.91108253 -3.34427805 -3.05010223]\n",
      "r-square > 0.5? No\n",
      "Is cointegrated? No\n",
      "--------------------------------------------------\n",
      "Processing pair: RIVN & LCID\n",
      "OLS Coefficients: {'const': -2.5308903068065183, 'log_close': 1.4878770705702298}, OLS p-value: 0.0000, OLS R-squared: 0.7457\n",
      "Test Statistic: -2.528, p-value: 0.2670 Critical Values: [-3.91108253 -3.34427805 -3.05010223]\n",
      "r-square > 0.5? Yes\n",
      "Is cointegrated? No\n",
      "--------------------------------------------------\n",
      "Processing pair: RIVN & F\n",
      "OLS Coefficients: {'const': 1.9717746902070592, 'log_close': 0.18030661465889714}, OLS p-value: 0.0000, OLS R-squared: 0.3323\n",
      "Test Statistic: -2.282, p-value: 0.3823 Critical Values: [-3.91108253 -3.34427805 -3.05010223]\n",
      "r-square > 0.5? No\n",
      "Is cointegrated? No\n",
      "--------------------------------------------------\n",
      "Processing pair: RIVN & GM\n",
      "OLS Coefficients: {'const': 4.249158263818742, 'log_close': -0.1990886875182262}, OLS p-value: 0.0000, OLS R-squared: 0.2312\n",
      "Test Statistic: -2.912, p-value: 0.1327 Critical Values: [-3.91108253 -3.34427805 -3.05010223]\n",
      "r-square > 0.5? No\n",
      "Is cointegrated? No\n",
      "--------------------------------------------------\n",
      "Processing pair: RIVN & NIO\n",
      "OLS Coefficients: {'const': -1.0637372177804698, 'log_close': 1.100027001021612}, OLS p-value: 0.0000, OLS R-squared: 0.7486\n",
      "Test Statistic: -2.895, p-value: 0.1373 Critical Values: [-3.91108253 -3.34427805 -3.05010223]\n",
      "r-square > 0.5? Yes\n",
      "Is cointegrated? No\n",
      "--------------------------------------------------\n",
      "Processing pair: RIVN & XPEV\n",
      "OLS Coefficients: {'const': 1.2137590611859284, 'log_close': 0.4598095336646546}, OLS p-value: 0.0000, OLS R-squared: 0.2149\n",
      "Test Statistic: -1.552, p-value: 0.7409 Critical Values: [-3.91108253 -3.34427805 -3.05010223]\n",
      "r-square > 0.5? No\n",
      "Is cointegrated? No\n",
      "--------------------------------------------------\n",
      "Processing pair: RIVN & BYDDF\n",
      "OLS Coefficients: {'const': 3.579606083693835, 'log_close': -0.05321522548605537}, OLS p-value: 0.0006, OLS R-squared: 0.0157\n",
      "Test Statistic: -2.182, p-value: 0.4338 Critical Values: [-3.91108253 -3.34427805 -3.05010223]\n",
      "r-square > 0.5? No\n",
      "Is cointegrated? No\n",
      "--------------------------------------------------\n",
      "Processing pair: RIVN & LI\n",
      "OLS Coefficients: {'const': 3.1080246251476344, 'log_close': 0.06299664564589708}, OLS p-value: 0.0047, OLS R-squared: 0.0106\n",
      "Test Statistic: -2.064, p-value: 0.4952 Critical Values: [-3.91108253 -3.34427805 -3.05010223]\n",
      "r-square > 0.5? No\n",
      "Is cointegrated? No\n",
      "--------------------------------------------------\n",
      "Processing pair: LCID & F\n",
      "OLS Coefficients: {'const': 2.2909702086376913, 'log_close': 0.11393583948634428}, OLS p-value: 0.0000, OLS R-squared: 0.3939\n",
      "Test Statistic: -2.529, p-value: 0.2666 Critical Values: [-3.91108253 -3.34427805 -3.05010223]\n",
      "r-square > 0.5? No\n",
      "Is cointegrated? No\n",
      "--------------------------------------------------\n",
      "Processing pair: LCID & GM\n",
      "OLS Coefficients: {'const': 3.903195161328545, 'log_close': -0.1295650881458251}, OLS p-value: 0.0000, OLS R-squared: 0.2907\n",
      "Test Statistic: -2.540, p-value: 0.2617 Critical Values: [-3.91108253 -3.34427805 -3.05010223]\n",
      "r-square > 0.5? No\n",
      "Is cointegrated? No\n",
      "--------------------------------------------------\n",
      "Processing pair: LCID & NIO\n",
      "OLS Coefficients: {'const': 0.8892369882514078, 'log_close': 0.691856139133973}, OLS p-value: 0.0000, OLS R-squared: 0.8791\n",
      "Test Statistic: -3.065, p-value: 0.0954 Critical Values: [-3.91108253 -3.34427805 -3.05010223]\n",
      "r-square > 0.5? Yes\n",
      "Is cointegrated? No\n",
      "--------------------------------------------------\n",
      "Processing pair: LCID & XPEV\n",
      "OLS Coefficients: {'const': 2.1399489249068124, 'log_close': 0.22546191483912376}, OLS p-value: 0.0000, OLS R-squared: 0.1534\n",
      "Test Statistic: -0.826, p-value: 0.9312 Critical Values: [-3.91108253 -3.34427805 -3.05010223]\n",
      "r-square > 0.5? No\n",
      "Is cointegrated? No\n",
      "--------------------------------------------------\n",
      "Processing pair: LCID & BYDDF\n",
      "OLS Coefficients: {'const': 3.4741700041886974, 'log_close': -0.027111548440581636}, OLS p-value: 0.0025, OLS R-squared: 0.0121\n",
      "Test Statistic: -1.702, p-value: 0.6758 Critical Values: [-3.91108253 -3.34427805 -3.05010223]\n",
      "r-square > 0.5? No\n",
      "Is cointegrated? No\n",
      "--------------------------------------------------\n",
      "Processing pair: LCID & LI\n",
      "OLS Coefficients: {'const': 3.2647382458285055, 'log_close': 0.013588546339450332}, OLS p-value: 0.2940, OLS R-squared: 0.0015\n",
      "Test Statistic: -1.597, p-value: 0.7221 Critical Values: [-3.91108253 -3.34427805 -3.05010223]\n",
      "r-square > 0.5? No\n",
      "Is cointegrated? No\n",
      "--------------------------------------------------\n",
      "Processing pair: F & GM\n",
      "OLS Coefficients: {'const': 4.420230772426994, 'log_close': -0.29764758436991656}, OLS p-value: 0.0000, OLS R-squared: 0.0506\n",
      "Test Statistic: -3.113, p-value: 0.0857 Critical Values: [-3.91108253 -3.34427805 -3.05010223]\n",
      "r-square > 0.5? No\n",
      "Is cointegrated? No\n",
      "--------------------------------------------------\n",
      "Processing pair: F & NIO\n",
      "OLS Coefficients: {'const': -4.249980447880276, 'log_close': 2.5455603278845746}, OLS p-value: 0.0000, OLS R-squared: 0.3922\n",
      "Test Statistic: -4.294, p-value: 0.0026 Critical Values: [-3.91108253 -3.34427805 -3.05010223]\n",
      "r-square > 0.5? No\n",
      "Is cointegrated? Yes\n",
      "--------------------------------------------------\n",
      "Processing pair: F & XPEV\n",
      "OLS Coefficients: {'const': 2.387452240845627, 'log_close': 0.05672793027456571}, OLS p-value: 0.6243, OLS R-squared: 0.0003\n",
      "Test Statistic: -2.601, p-value: 0.2363 Critical Values: [-3.91108253 -3.34427805 -3.05010223]\n",
      "r-square > 0.5? No\n",
      "Is cointegrated? No\n",
      "--------------------------------------------------\n",
      "Processing pair: F & BYDDF\n",
      "OLS Coefficients: {'const': 4.581468535149449, 'log_close': -0.46395885539393233}, OLS p-value: 0.0000, OLS R-squared: 0.1168\n",
      "Test Statistic: -3.281, p-value: 0.0574 Critical Values: [-3.91108253 -3.34427805 -3.05010223]\n",
      "r-square > 0.5? No\n",
      "Is cointegrated? No\n",
      "--------------------------------------------------\n",
      "Processing pair: F & LI\n",
      "OLS Coefficients: {'const': 2.948679639896439, 'log_close': 0.13648253242549999}, OLS p-value: 0.0555, OLS R-squared: 0.0049\n",
      "Test Statistic: -2.635, p-value: 0.2237 Critical Values: [-3.91108253 -3.34427805 -3.05010223]\n",
      "r-square > 0.5? No\n",
      "Is cointegrated? No\n",
      "--------------------------------------------------\n",
      "Processing pair: GM & NIO\n",
      "OLS Coefficients: {'const': 8.871310974133841, 'log_close': -1.845059616035929}, OLS p-value: 0.0000, OLS R-squared: 0.3611\n",
      "Test Statistic: -2.973, p-value: 0.1167 Critical Values: [-3.91108253 -3.34427805 -3.05010223]\n",
      "r-square > 0.5? No\n",
      "Is cointegrated? No\n",
      "--------------------------------------------------\n",
      "Processing pair: GM & XPEV\n",
      "OLS Coefficients: {'const': 4.510343024547598, 'log_close': -0.5385474857656434}, OLS p-value: 0.0000, OLS R-squared: 0.0505\n",
      "Test Statistic: -2.048, p-value: 0.5036 Critical Values: [-3.91108253 -3.34427805 -3.05010223]\n",
      "r-square > 0.5? No\n",
      "Is cointegrated? No\n",
      "--------------------------------------------------\n",
      "Processing pair: GM & BYDDF\n",
      "OLS Coefficients: {'const': 2.297483564747713, 'log_close': 0.3070637979278688}, OLS p-value: 0.0000, OLS R-squared: 0.0896\n",
      "Test Statistic: -1.946, p-value: 0.5567 Critical Values: [-3.91108253 -3.34427805 -3.05010223]\n",
      "r-square > 0.5? No\n",
      "Is cointegrated? No\n",
      "--------------------------------------------------\n",
      "Processing pair: GM & LI\n",
      "OLS Coefficients: {'const': 5.706822655710958, 'log_close': -0.6572673857840852}, OLS p-value: 0.0000, OLS R-squared: 0.1984\n",
      "Test Statistic: -2.600, p-value: 0.2370 Critical Values: [-3.91108253 -3.34427805 -3.05010223]\n",
      "r-square > 0.5? No\n",
      "Is cointegrated? No\n",
      "--------------------------------------------------\n",
      "Processing pair: NIO & XPEV\n",
      "OLS Coefficients: {'const': 1.6775611689255236, 'log_close': 0.4087936809033237}, OLS p-value: 0.0000, OLS R-squared: 0.2745\n",
      "Test Statistic: 0.642, p-value: 0.9934 Critical Values: [-3.91108253 -3.34427805 -3.05010223]\n",
      "r-square > 0.5? No\n",
      "Is cointegrated? No\n",
      "--------------------------------------------------\n",
      "Processing pair: NIO & BYDDF\n",
      "OLS Coefficients: {'const': 3.4688539632005666, 'log_close': -0.019893828868194893}, OLS p-value: 0.1027, OLS R-squared: 0.0035\n",
      "Test Statistic: -1.372, p-value: 0.8068 Critical Values: [-3.91108253 -3.34427805 -3.05010223]\n",
      "r-square > 0.5? No\n",
      "Is cointegrated? No\n",
      "--------------------------------------------------\n",
      "Processing pair: NIO & LI\n",
      "OLS Coefficients: {'const': 3.023340428298387, 'log_close': 0.12721173746915748}, OLS p-value: 0.0000, OLS R-squared: 0.0701\n",
      "Test Statistic: -1.235, p-value: 0.8484 Critical Values: [-3.91108253 -3.34427805 -3.05010223]\n",
      "r-square > 0.5? No\n",
      "Is cointegrated? No\n",
      "--------------------------------------------------\n",
      "Processing pair: XPEV & BYDDF\n",
      "OLS Coefficients: {'const': 2.743591064860679, 'log_close': 0.2704507920860405}, OLS p-value: 0.0000, OLS R-squared: 0.3990\n",
      "Test Statistic: -2.824, p-value: 0.1581 Critical Values: [-3.91108253 -3.34427805 -3.05010223]\n",
      "r-square > 0.5? No\n",
      "Is cointegrated? No\n",
      "--------------------------------------------------\n",
      "Processing pair: XPEV & LI\n",
      "OLS Coefficients: {'const': 2.4807341710856545, 'log_close': 0.31932286744841043}, OLS p-value: 0.0000, OLS R-squared: 0.2688\n",
      "Test Statistic: -2.154, p-value: 0.4482 Critical Values: [-3.91108253 -3.34427805 -3.05010223]\n",
      "r-square > 0.5? No\n",
      "Is cointegrated? No\n",
      "--------------------------------------------------\n",
      "Processing pair: BYDDF & LI\n",
      "OLS Coefficients: {'const': 2.1196096327698917, 'log_close': 0.34093947168337235}, OLS p-value: 0.0000, OLS R-squared: 0.0562\n",
      "Test Statistic: -1.101, p-value: 0.8820 Critical Values: [-3.91108253 -3.34427805 -3.05010223]\n",
      "r-square > 0.5? No\n",
      "Is cointegrated? No\n",
      "--------------------------------------------------\n"
     ]
    }
   ],
   "source": [
    "import numpy as np\n",
    "import pandas as pd\n",
    "from script.data_pipeline import shinyDataFetcher\n",
    "import plotly.graph_objects as go\n",
    "import statsmodels.api as sm\n",
    "from statsmodels.tsa.stattools import coint, adfuller\n",
    "from statsmodels.regression.rolling import RollingOLS\n",
    "import matplotlib.pyplot as plt\n",
    "import itertools\n",
    "import warnings\n",
    "\n",
    "warnings.filterwarnings(\"ignore\")\n",
    "\n",
    "EV_stocks = [\"TSLA\", \"RIVN\", \"LCID\", \"F\", \"GM\", \"NIO\", \"XPEV\", \"BYDDF\", \"LI\"]\n",
    "EV_stocks_data = {}\n",
    "for stock in EV_stocks:\n",
    "    EV_stocks_data[stock] = shinyDataFetcher(asset=stock, durationStr=\"3 Y\", barSizeSetting=\"1 day\").fetch_asset_data()\n",
    "\n",
    "log_prices = {}\n",
    "for ticker in EV_stocks:\n",
    "    df_temp = EV_stocks_data[ticker].copy()\n",
    "    df_temp[\"log_close\"] = np.log(df_temp[\"close\"])\n",
    "    log_prices[ticker] = df_temp.set_index(\"timestamp\")[\"log_close\"].dropna()\n",
    "\n",
    "# Loop over all unique pairs\n",
    "for s1, s2 in itertools.combinations(EV_stocks, 2):\n",
    "    # Align datasets by timestamp\n",
    "    print(f\"Processing pair: {s1} & {s2}\")\n",
    "    df_pair = pd.concat([log_prices[s1], log_prices[s2]], axis=1).dropna()\n",
    "    if df_pair.empty:\n",
    "        continue\n",
    "\n",
    "    X = log_prices[s1]\n",
    "    Y = log_prices[s2]\n",
    "    X_const = sm.add_constant(X)  # Adds a constant term to the predictor\n",
    "    model = sm.OLS(Y, X_const).fit()\n",
    "    print(f\"OLS Coefficients: {model.params.to_dict()}, OLS p-value: {model.pvalues[1]:.4f}, OLS R-squared: {model.rsquared:.4f}\")\n",
    "\n",
    "    # Perform cointegration test\n",
    "    result = coint(df_pair.iloc[:, 0], df_pair.iloc[:, 1])\n",
    "    test_stat, p_value, crit_values = result\n",
    "\n",
    "    print(f\"Test Statistic: {test_stat:.3f}, p-value: {p_value:.4f}\", f\"Critical Values: {crit_values}\")\n",
    "    print(f\"r-square > 0.5? {'Yes' if model.rsquared > 0.5 else 'No'}\")\n",
    "    print(f\"Is cointegrated? {'Yes' if p_value < 0.05 else 'No'}\")\n",
    "    print(\"-\" * 50)"
   ]
  },
  {
   "cell_type": "code",
   "execution_count": 10,
   "id": "bade2af4",
   "metadata": {},
   "outputs": [
    {
     "data": {
      "application/vnd.plotly.v1+json": {
       "config": {
        "plotlyServerURL": "https://plot.ly"
       },
       "data": [
        {
         "mode": "lines",
         "name": "TSLA",
         "type": "scatter",
         "x": [
          "2022-04-12",
          "2022-04-13",
          "2022-04-14",
          "2022-04-18",
          "2022-04-19",
          "2022-04-20",
          "2022-04-21",
          "2022-04-22",
          "2022-04-25",
          "2022-04-26",
          "2022-04-27",
          "2022-04-28",
          "2022-04-29",
          "2022-05-02",
          "2022-05-03",
          "2022-05-04",
          "2022-05-05",
          "2022-05-06",
          "2022-05-09",
          "2022-05-10",
          "2022-05-11",
          "2022-05-12",
          "2022-05-13",
          "2022-05-16",
          "2022-05-17",
          "2022-05-18",
          "2022-05-19",
          "2022-05-20",
          "2022-05-23",
          "2022-05-24",
          "2022-05-25",
          "2022-05-26",
          "2022-05-27",
          "2022-05-31",
          "2022-06-01",
          "2022-06-02",
          "2022-06-03",
          "2022-06-06",
          "2022-06-07",
          "2022-06-08",
          "2022-06-09",
          "2022-06-10",
          "2022-06-13",
          "2022-06-14",
          "2022-06-15",
          "2022-06-16",
          "2022-06-17",
          "2022-06-21",
          "2022-06-22",
          "2022-06-23",
          "2022-06-24",
          "2022-06-27",
          "2022-06-28",
          "2022-06-29",
          "2022-06-30",
          "2022-07-01",
          "2022-07-05",
          "2022-07-06",
          "2022-07-07",
          "2022-07-08",
          "2022-07-11",
          "2022-07-12",
          "2022-07-13",
          "2022-07-14",
          "2022-07-15",
          "2022-07-18",
          "2022-07-19",
          "2022-07-20",
          "2022-07-21",
          "2022-07-22",
          "2022-07-25",
          "2022-07-26",
          "2022-07-27",
          "2022-07-28",
          "2022-07-29",
          "2022-08-01",
          "2022-08-02",
          "2022-08-03",
          "2022-08-04",
          "2022-08-05",
          "2022-08-08",
          "2022-08-09",
          "2022-08-10",
          "2022-08-11",
          "2022-08-12",
          "2022-08-15",
          "2022-08-16",
          "2022-08-17",
          "2022-08-18",
          "2022-08-19",
          "2022-08-22",
          "2022-08-23",
          "2022-08-24",
          "2022-08-25",
          "2022-08-26",
          "2022-08-29",
          "2022-08-30",
          "2022-08-31",
          "2022-09-01",
          "2022-09-02",
          "2022-09-06",
          "2022-09-07",
          "2022-09-08",
          "2022-09-09",
          "2022-09-12",
          "2022-09-13",
          "2022-09-14",
          "2022-09-15",
          "2022-09-16",
          "2022-09-19",
          "2022-09-20",
          "2022-09-21",
          "2022-09-22",
          "2022-09-23",
          "2022-09-26",
          "2022-09-27",
          "2022-09-28",
          "2022-09-29",
          "2022-09-30",
          "2022-10-03",
          "2022-10-04",
          "2022-10-05",
          "2022-10-06",
          "2022-10-07",
          "2022-10-10",
          "2022-10-11",
          "2022-10-12",
          "2022-10-13",
          "2022-10-14",
          "2022-10-17",
          "2022-10-18",
          "2022-10-19",
          "2022-10-20",
          "2022-10-21",
          "2022-10-24",
          "2022-10-25",
          "2022-10-26",
          "2022-10-27",
          "2022-10-28",
          "2022-10-31",
          "2022-11-01",
          "2022-11-02",
          "2022-11-03",
          "2022-11-04",
          "2022-11-07",
          "2022-11-08",
          "2022-11-09",
          "2022-11-10",
          "2022-11-11",
          "2022-11-14",
          "2022-11-15",
          "2022-11-16",
          "2022-11-17",
          "2022-11-18",
          "2022-11-21",
          "2022-11-22",
          "2022-11-23",
          "2022-11-25",
          "2022-11-28",
          "2022-11-29",
          "2022-11-30",
          "2022-12-01",
          "2022-12-02",
          "2022-12-05",
          "2022-12-06",
          "2022-12-07",
          "2022-12-08",
          "2022-12-09",
          "2022-12-12",
          "2022-12-13",
          "2022-12-14",
          "2022-12-15",
          "2022-12-16",
          "2022-12-19",
          "2022-12-20",
          "2022-12-21",
          "2022-12-22",
          "2022-12-23",
          "2022-12-27",
          "2022-12-28",
          "2022-12-29",
          "2022-12-30",
          "2023-01-03",
          "2023-01-04",
          "2023-01-05",
          "2023-01-06",
          "2023-01-09",
          "2023-01-10",
          "2023-01-11",
          "2023-01-12",
          "2023-01-13",
          "2023-01-17",
          "2023-01-18",
          "2023-01-19",
          "2023-01-20",
          "2023-01-23",
          "2023-01-24",
          "2023-01-25",
          "2023-01-26",
          "2023-01-27",
          "2023-01-30",
          "2023-01-31",
          "2023-02-01",
          "2023-02-02",
          "2023-02-03",
          "2023-02-06",
          "2023-02-07",
          "2023-02-08",
          "2023-02-09",
          "2023-02-10",
          "2023-02-13",
          "2023-02-14",
          "2023-02-15",
          "2023-02-16",
          "2023-02-17",
          "2023-02-21",
          "2023-02-22",
          "2023-02-23",
          "2023-02-24",
          "2023-02-27",
          "2023-02-28",
          "2023-03-01",
          "2023-03-02",
          "2023-03-03",
          "2023-03-06",
          "2023-03-07",
          "2023-03-08",
          "2023-03-09",
          "2023-03-10",
          "2023-03-13",
          "2023-03-14",
          "2023-03-15",
          "2023-03-16",
          "2023-03-17",
          "2023-03-20",
          "2023-03-21",
          "2023-03-22",
          "2023-03-23",
          "2023-03-24",
          "2023-03-27",
          "2023-03-28",
          "2023-03-29",
          "2023-03-30",
          "2023-03-31",
          "2023-04-03",
          "2023-04-04",
          "2023-04-05",
          "2023-04-06",
          "2023-04-10",
          "2023-04-11",
          "2023-04-12",
          "2023-04-13",
          "2023-04-14",
          "2023-04-17",
          "2023-04-18",
          "2023-04-19",
          "2023-04-20",
          "2023-04-21",
          "2023-04-24",
          "2023-04-25",
          "2023-04-26",
          "2023-04-27",
          "2023-04-28",
          "2023-05-01",
          "2023-05-02",
          "2023-05-03",
          "2023-05-04",
          "2023-05-05",
          "2023-05-08",
          "2023-05-09",
          "2023-05-10",
          "2023-05-11",
          "2023-05-12",
          "2023-05-15",
          "2023-05-16",
          "2023-05-17",
          "2023-05-18",
          "2023-05-19",
          "2023-05-22",
          "2023-05-23",
          "2023-05-24",
          "2023-05-25",
          "2023-05-26",
          "2023-05-30",
          "2023-05-31",
          "2023-06-01",
          "2023-06-02",
          "2023-06-05",
          "2023-06-06",
          "2023-06-07",
          "2023-06-08",
          "2023-06-09",
          "2023-06-12",
          "2023-06-13",
          "2023-06-14",
          "2023-06-15",
          "2023-06-16",
          "2023-06-20",
          "2023-06-21",
          "2023-06-22",
          "2023-06-23",
          "2023-06-26",
          "2023-06-27",
          "2023-06-28",
          "2023-06-29",
          "2023-06-30",
          "2023-07-03",
          "2023-07-05",
          "2023-07-06",
          "2023-07-07",
          "2023-07-10",
          "2023-07-11",
          "2023-07-12",
          "2023-07-13",
          "2023-07-14",
          "2023-07-17",
          "2023-07-18",
          "2023-07-19",
          "2023-07-20",
          "2023-07-21",
          "2023-07-24",
          "2023-07-25",
          "2023-07-26",
          "2023-07-27",
          "2023-07-28",
          "2023-07-31",
          "2023-08-01",
          "2023-08-02",
          "2023-08-03",
          "2023-08-04",
          "2023-08-07",
          "2023-08-08",
          "2023-08-09",
          "2023-08-10",
          "2023-08-11",
          "2023-08-14",
          "2023-08-15",
          "2023-08-16",
          "2023-08-17",
          "2023-08-18",
          "2023-08-21",
          "2023-08-22",
          "2023-08-23",
          "2023-08-24",
          "2023-08-25",
          "2023-08-28",
          "2023-08-29",
          "2023-08-30",
          "2023-08-31",
          "2023-09-01",
          "2023-09-05",
          "2023-09-06",
          "2023-09-07",
          "2023-09-08",
          "2023-09-11",
          "2023-09-12",
          "2023-09-13",
          "2023-09-14",
          "2023-09-15",
          "2023-09-18",
          "2023-09-19",
          "2023-09-20",
          "2023-09-21",
          "2023-09-22",
          "2023-09-25",
          "2023-09-26",
          "2023-09-27",
          "2023-09-28",
          "2023-09-29",
          "2023-10-02",
          "2023-10-03",
          "2023-10-04",
          "2023-10-05",
          "2023-10-06",
          "2023-10-09",
          "2023-10-10",
          "2023-10-11",
          "2023-10-12",
          "2023-10-13",
          "2023-10-16",
          "2023-10-17",
          "2023-10-18",
          "2023-10-19",
          "2023-10-20",
          "2023-10-23",
          "2023-10-24",
          "2023-10-25",
          "2023-10-26",
          "2023-10-27",
          "2023-10-30",
          "2023-10-31",
          "2023-11-01",
          "2023-11-02",
          "2023-11-03",
          "2023-11-06",
          "2023-11-07",
          "2023-11-08",
          "2023-11-09",
          "2023-11-10",
          "2023-11-13",
          "2023-11-14",
          "2023-11-15",
          "2023-11-16",
          "2023-11-17",
          "2023-11-20",
          "2023-11-21",
          "2023-11-22",
          "2023-11-24",
          "2023-11-27",
          "2023-11-28",
          "2023-11-29",
          "2023-11-30",
          "2023-12-01",
          "2023-12-04",
          "2023-12-05",
          "2023-12-06",
          "2023-12-07",
          "2023-12-08",
          "2023-12-11",
          "2023-12-12",
          "2023-12-13",
          "2023-12-14",
          "2023-12-15",
          "2023-12-18",
          "2023-12-19",
          "2023-12-20",
          "2023-12-21",
          "2023-12-22",
          "2023-12-26",
          "2023-12-27",
          "2023-12-28",
          "2023-12-29",
          "2024-01-02",
          "2024-01-03",
          "2024-01-04",
          "2024-01-05",
          "2024-01-08",
          "2024-01-09",
          "2024-01-10",
          "2024-01-11",
          "2024-01-12",
          "2024-01-16",
          "2024-01-17",
          "2024-01-18",
          "2024-01-19",
          "2024-01-22",
          "2024-01-23",
          "2024-01-24",
          "2024-01-25",
          "2024-01-26",
          "2024-01-29",
          "2024-01-30",
          "2024-01-31",
          "2024-02-01",
          "2024-02-02",
          "2024-02-05",
          "2024-02-06",
          "2024-02-07",
          "2024-02-08",
          "2024-02-09",
          "2024-02-12",
          "2024-02-13",
          "2024-02-14",
          "2024-02-15",
          "2024-02-16",
          "2024-02-20",
          "2024-02-21",
          "2024-02-22",
          "2024-02-23",
          "2024-02-26",
          "2024-02-27",
          "2024-02-28",
          "2024-02-29",
          "2024-03-01",
          "2024-03-04",
          "2024-03-05",
          "2024-03-06",
          "2024-03-07",
          "2024-03-08",
          "2024-03-11",
          "2024-03-12",
          "2024-03-13",
          "2024-03-14",
          "2024-03-15",
          "2024-03-18",
          "2024-03-19",
          "2024-03-20",
          "2024-03-21",
          "2024-03-22",
          "2024-03-25",
          "2024-03-26",
          "2024-03-27",
          "2024-03-28",
          "2024-04-01",
          "2024-04-02",
          "2024-04-03",
          "2024-04-04",
          "2024-04-05",
          "2024-04-08",
          "2024-04-09",
          "2024-04-10",
          "2024-04-11",
          "2024-04-12",
          "2024-04-15",
          "2024-04-16",
          "2024-04-17",
          "2024-04-18",
          "2024-04-19",
          "2024-04-22",
          "2024-04-23",
          "2024-04-24",
          "2024-04-25",
          "2024-04-26",
          "2024-04-29",
          "2024-04-30",
          "2024-05-01",
          "2024-05-02",
          "2024-05-03",
          "2024-05-06",
          "2024-05-07",
          "2024-05-08",
          "2024-05-09",
          "2024-05-10",
          "2024-05-13",
          "2024-05-14",
          "2024-05-15",
          "2024-05-16",
          "2024-05-17",
          "2024-05-20",
          "2024-05-21",
          "2024-05-22",
          "2024-05-23",
          "2024-05-24",
          "2024-05-28",
          "2024-05-29",
          "2024-05-30",
          "2024-05-31",
          "2024-06-03",
          "2024-06-04",
          "2024-06-05",
          "2024-06-06",
          "2024-06-07",
          "2024-06-10",
          "2024-06-11",
          "2024-06-12",
          "2024-06-13",
          "2024-06-14",
          "2024-06-17",
          "2024-06-18",
          "2024-06-20",
          "2024-06-21",
          "2024-06-24",
          "2024-06-25",
          "2024-06-26",
          "2024-06-27",
          "2024-06-28",
          "2024-07-01",
          "2024-07-02",
          "2024-07-03",
          "2024-07-05",
          "2024-07-08",
          "2024-07-09",
          "2024-07-10",
          "2024-07-11",
          "2024-07-12",
          "2024-07-15",
          "2024-07-16",
          "2024-07-17",
          "2024-07-18",
          "2024-07-19",
          "2024-07-22",
          "2024-07-23",
          "2024-07-24",
          "2024-07-25",
          "2024-07-26",
          "2024-07-29",
          "2024-07-30",
          "2024-07-31",
          "2024-08-01",
          "2024-08-02",
          "2024-08-05",
          "2024-08-06",
          "2024-08-07",
          "2024-08-08",
          "2024-08-09",
          "2024-08-12",
          "2024-08-13",
          "2024-08-14",
          "2024-08-15",
          "2024-08-16",
          "2024-08-19",
          "2024-08-20",
          "2024-08-21",
          "2024-08-22",
          "2024-08-23",
          "2024-08-26",
          "2024-08-27",
          "2024-08-28",
          "2024-08-29",
          "2024-08-30",
          "2024-09-03",
          "2024-09-04",
          "2024-09-05",
          "2024-09-06",
          "2024-09-09",
          "2024-09-10",
          "2024-09-11",
          "2024-09-12",
          "2024-09-13",
          "2024-09-16",
          "2024-09-17",
          "2024-09-18",
          "2024-09-19",
          "2024-09-20",
          "2024-09-23",
          "2024-09-24",
          "2024-09-25",
          "2024-09-26",
          "2024-09-27",
          "2024-09-30",
          "2024-10-01",
          "2024-10-02",
          "2024-10-03",
          "2024-10-04",
          "2024-10-07",
          "2024-10-08",
          "2024-10-09",
          "2024-10-10",
          "2024-10-11",
          "2024-10-14",
          "2024-10-15",
          "2024-10-16",
          "2024-10-17",
          "2024-10-18",
          "2024-10-21",
          "2024-10-22",
          "2024-10-23",
          "2024-10-24",
          "2024-10-25",
          "2024-10-28",
          "2024-10-29",
          "2024-10-30",
          "2024-10-31",
          "2024-11-01",
          "2024-11-04",
          "2024-11-05",
          "2024-11-06",
          "2024-11-07",
          "2024-11-08",
          "2024-11-11",
          "2024-11-12",
          "2024-11-13",
          "2024-11-14",
          "2024-11-15",
          "2024-11-18",
          "2024-11-19",
          "2024-11-20",
          "2024-11-21",
          "2024-11-22",
          "2024-11-25",
          "2024-11-26",
          "2024-11-27",
          "2024-11-29",
          "2024-12-02",
          "2024-12-03",
          "2024-12-04",
          "2024-12-05",
          "2024-12-06",
          "2024-12-09",
          "2024-12-10",
          "2024-12-11",
          "2024-12-12",
          "2024-12-13",
          "2024-12-16",
          "2024-12-17",
          "2024-12-18",
          "2024-12-19",
          "2024-12-20",
          "2024-12-23",
          "2024-12-24",
          "2024-12-26",
          "2024-12-27",
          "2024-12-30",
          "2024-12-31",
          "2025-01-02",
          "2025-01-03",
          "2025-01-06",
          "2025-01-07",
          "2025-01-08",
          "2025-01-10",
          "2025-01-13",
          "2025-01-14",
          "2025-01-15",
          "2025-01-16",
          "2025-01-17",
          "2025-01-21",
          "2025-01-22",
          "2025-01-23",
          "2025-01-24",
          "2025-01-27",
          "2025-01-28",
          "2025-01-29",
          "2025-01-30",
          "2025-01-31",
          "2025-02-03",
          "2025-02-04",
          "2025-02-05",
          "2025-02-06",
          "2025-02-07",
          "2025-02-10",
          "2025-02-11",
          "2025-02-12",
          "2025-02-13",
          "2025-02-14",
          "2025-02-18",
          "2025-02-19",
          "2025-02-20",
          "2025-02-21",
          "2025-02-24",
          "2025-02-25",
          "2025-02-26",
          "2025-02-27",
          "2025-02-28",
          "2025-03-03",
          "2025-03-04",
          "2025-03-05",
          "2025-03-06",
          "2025-03-07",
          "2025-03-10",
          "2025-03-11",
          "2025-03-12",
          "2025-03-13",
          "2025-03-14",
          "2025-03-17",
          "2025-03-18",
          "2025-03-19",
          "2025-03-20",
          "2025-03-21",
          "2025-03-24",
          "2025-03-25",
          "2025-03-26",
          "2025-03-27",
          "2025-03-28",
          "2025-03-31",
          "2025-04-01",
          "2025-04-02",
          "2025-04-03",
          "2025-04-04",
          "2025-04-07",
          "2025-04-08",
          "2025-04-09",
          "2025-04-10"
         ],
         "y": {
          "bdata": "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",
          "dtype": "f8"
         }
        },
        {
         "mode": "lines",
         "name": "RIVN",
         "type": "scatter",
         "x": [
          "2022-04-12",
          "2022-04-13",
          "2022-04-14",
          "2022-04-18",
          "2022-04-19",
          "2022-04-20",
          "2022-04-21",
          "2022-04-22",
          "2022-04-25",
          "2022-04-26",
          "2022-04-27",
          "2022-04-28",
          "2022-04-29",
          "2022-05-02",
          "2022-05-03",
          "2022-05-04",
          "2022-05-05",
          "2022-05-06",
          "2022-05-09",
          "2022-05-10",
          "2022-05-11",
          "2022-05-12",
          "2022-05-13",
          "2022-05-16",
          "2022-05-17",
          "2022-05-18",
          "2022-05-19",
          "2022-05-20",
          "2022-05-23",
          "2022-05-24",
          "2022-05-25",
          "2022-05-26",
          "2022-05-27",
          "2022-05-31",
          "2022-06-01",
          "2022-06-02",
          "2022-06-03",
          "2022-06-06",
          "2022-06-07",
          "2022-06-08",
          "2022-06-09",
          "2022-06-10",
          "2022-06-13",
          "2022-06-14",
          "2022-06-15",
          "2022-06-16",
          "2022-06-17",
          "2022-06-21",
          "2022-06-22",
          "2022-06-23",
          "2022-06-24",
          "2022-06-27",
          "2022-06-28",
          "2022-06-29",
          "2022-06-30",
          "2022-07-01",
          "2022-07-05",
          "2022-07-06",
          "2022-07-07",
          "2022-07-08",
          "2022-07-11",
          "2022-07-12",
          "2022-07-13",
          "2022-07-14",
          "2022-07-15",
          "2022-07-18",
          "2022-07-19",
          "2022-07-20",
          "2022-07-21",
          "2022-07-22",
          "2022-07-25",
          "2022-07-26",
          "2022-07-27",
          "2022-07-28",
          "2022-07-29",
          "2022-08-01",
          "2022-08-02",
          "2022-08-03",
          "2022-08-04",
          "2022-08-05",
          "2022-08-08",
          "2022-08-09",
          "2022-08-10",
          "2022-08-11",
          "2022-08-12",
          "2022-08-15",
          "2022-08-16",
          "2022-08-17",
          "2022-08-18",
          "2022-08-19",
          "2022-08-22",
          "2022-08-23",
          "2022-08-24",
          "2022-08-25",
          "2022-08-26",
          "2022-08-29",
          "2022-08-30",
          "2022-08-31",
          "2022-09-01",
          "2022-09-02",
          "2022-09-06",
          "2022-09-07",
          "2022-09-08",
          "2022-09-09",
          "2022-09-12",
          "2022-09-13",
          "2022-09-14",
          "2022-09-15",
          "2022-09-16",
          "2022-09-19",
          "2022-09-20",
          "2022-09-21",
          "2022-09-22",
          "2022-09-23",
          "2022-09-26",
          "2022-09-27",
          "2022-09-28",
          "2022-09-29",
          "2022-09-30",
          "2022-10-03",
          "2022-10-04",
          "2022-10-05",
          "2022-10-06",
          "2022-10-07",
          "2022-10-10",
          "2022-10-11",
          "2022-10-12",
          "2022-10-13",
          "2022-10-14",
          "2022-10-17",
          "2022-10-18",
          "2022-10-19",
          "2022-10-20",
          "2022-10-21",
          "2022-10-24",
          "2022-10-25",
          "2022-10-26",
          "2022-10-27",
          "2022-10-28",
          "2022-10-31",
          "2022-11-01",
          "2022-11-02",
          "2022-11-03",
          "2022-11-04",
          "2022-11-07",
          "2022-11-08",
          "2022-11-09",
          "2022-11-10",
          "2022-11-11",
          "2022-11-14",
          "2022-11-15",
          "2022-11-16",
          "2022-11-17",
          "2022-11-18",
          "2022-11-21",
          "2022-11-22",
          "2022-11-23",
          "2022-11-25",
          "2022-11-28",
          "2022-11-29",
          "2022-11-30",
          "2022-12-01",
          "2022-12-02",
          "2022-12-05",
          "2022-12-06",
          "2022-12-07",
          "2022-12-08",
          "2022-12-09",
          "2022-12-12",
          "2022-12-13",
          "2022-12-14",
          "2022-12-15",
          "2022-12-16",
          "2022-12-19",
          "2022-12-20",
          "2022-12-21",
          "2022-12-22",
          "2022-12-23",
          "2022-12-27",
          "2022-12-28",
          "2022-12-29",
          "2022-12-30",
          "2023-01-03",
          "2023-01-04",
          "2023-01-05",
          "2023-01-06",
          "2023-01-09",
          "2023-01-10",
          "2023-01-11",
          "2023-01-12",
          "2023-01-13",
          "2023-01-17",
          "2023-01-18",
          "2023-01-19",
          "2023-01-20",
          "2023-01-23",
          "2023-01-24",
          "2023-01-25",
          "2023-01-26",
          "2023-01-27",
          "2023-01-30",
          "2023-01-31",
          "2023-02-01",
          "2023-02-02",
          "2023-02-03",
          "2023-02-06",
          "2023-02-07",
          "2023-02-08",
          "2023-02-09",
          "2023-02-10",
          "2023-02-13",
          "2023-02-14",
          "2023-02-15",
          "2023-02-16",
          "2023-02-17",
          "2023-02-21",
          "2023-02-22",
          "2023-02-23",
          "2023-02-24",
          "2023-02-27",
          "2023-02-28",
          "2023-03-01",
          "2023-03-02",
          "2023-03-03",
          "2023-03-06",
          "2023-03-07",
          "2023-03-08",
          "2023-03-09",
          "2023-03-10",
          "2023-03-13",
          "2023-03-14",
          "2023-03-15",
          "2023-03-16",
          "2023-03-17",
          "2023-03-20",
          "2023-03-21",
          "2023-03-22",
          "2023-03-23",
          "2023-03-24",
          "2023-03-27",
          "2023-03-28",
          "2023-03-29",
          "2023-03-30",
          "2023-03-31",
          "2023-04-03",
          "2023-04-04",
          "2023-04-05",
          "2023-04-06",
          "2023-04-10",
          "2023-04-11",
          "2023-04-12",
          "2023-04-13",
          "2023-04-14",
          "2023-04-17",
          "2023-04-18",
          "2023-04-19",
          "2023-04-20",
          "2023-04-21",
          "2023-04-24",
          "2023-04-25",
          "2023-04-26",
          "2023-04-27",
          "2023-04-28",
          "2023-05-01",
          "2023-05-02",
          "2023-05-03",
          "2023-05-04",
          "2023-05-05",
          "2023-05-08",
          "2023-05-09",
          "2023-05-10",
          "2023-05-11",
          "2023-05-12",
          "2023-05-15",
          "2023-05-16",
          "2023-05-17",
          "2023-05-18",
          "2023-05-19",
          "2023-05-22",
          "2023-05-23",
          "2023-05-24",
          "2023-05-25",
          "2023-05-26",
          "2023-05-30",
          "2023-05-31",
          "2023-06-01",
          "2023-06-02",
          "2023-06-05",
          "2023-06-06",
          "2023-06-07",
          "2023-06-08",
          "2023-06-09",
          "2023-06-12",
          "2023-06-13",
          "2023-06-14",
          "2023-06-15",
          "2023-06-16",
          "2023-06-20",
          "2023-06-21",
          "2023-06-22",
          "2023-06-23",
          "2023-06-26",
          "2023-06-27",
          "2023-06-28",
          "2023-06-29",
          "2023-06-30",
          "2023-07-03",
          "2023-07-05",
          "2023-07-06",
          "2023-07-07",
          "2023-07-10",
          "2023-07-11",
          "2023-07-12",
          "2023-07-13",
          "2023-07-14",
          "2023-07-17",
          "2023-07-18",
          "2023-07-19",
          "2023-07-20",
          "2023-07-21",
          "2023-07-24",
          "2023-07-25",
          "2023-07-26",
          "2023-07-27",
          "2023-07-28",
          "2023-07-31",
          "2023-08-01",
          "2023-08-02",
          "2023-08-03",
          "2023-08-04",
          "2023-08-07",
          "2023-08-08",
          "2023-08-09",
          "2023-08-10",
          "2023-08-11",
          "2023-08-14",
          "2023-08-15",
          "2023-08-16",
          "2023-08-17",
          "2023-08-18",
          "2023-08-21",
          "2023-08-22",
          "2023-08-23",
          "2023-08-24",
          "2023-08-25",
          "2023-08-28",
          "2023-08-29",
          "2023-08-30",
          "2023-08-31",
          "2023-09-01",
          "2023-09-05",
          "2023-09-06",
          "2023-09-07",
          "2023-09-08",
          "2023-09-11",
          "2023-09-12",
          "2023-09-13",
          "2023-09-14",
          "2023-09-15",
          "2023-09-18",
          "2023-09-19",
          "2023-09-20",
          "2023-09-21",
          "2023-09-22",
          "2023-09-25",
          "2023-09-26",
          "2023-09-27",
          "2023-09-28",
          "2023-09-29",
          "2023-10-02",
          "2023-10-03",
          "2023-10-04",
          "2023-10-05",
          "2023-10-06",
          "2023-10-09",
          "2023-10-10",
          "2023-10-11",
          "2023-10-12",
          "2023-10-13",
          "2023-10-16",
          "2023-10-17",
          "2023-10-18",
          "2023-10-19",
          "2023-10-20",
          "2023-10-23",
          "2023-10-24",
          "2023-10-25",
          "2023-10-26",
          "2023-10-27",
          "2023-10-30",
          "2023-10-31",
          "2023-11-01",
          "2023-11-02",
          "2023-11-03",
          "2023-11-06",
          "2023-11-07",
          "2023-11-08",
          "2023-11-09",
          "2023-11-10",
          "2023-11-13",
          "2023-11-14",
          "2023-11-15",
          "2023-11-16",
          "2023-11-17",
          "2023-11-20",
          "2023-11-21",
          "2023-11-22",
          "2023-11-24",
          "2023-11-27",
          "2023-11-28",
          "2023-11-29",
          "2023-11-30",
          "2023-12-01",
          "2023-12-04",
          "2023-12-05",
          "2023-12-06",
          "2023-12-07",
          "2023-12-08",
          "2023-12-11",
          "2023-12-12",
          "2023-12-13",
          "2023-12-14",
          "2023-12-15",
          "2023-12-18",
          "2023-12-19",
          "2023-12-20",
          "2023-12-21",
          "2023-12-22",
          "2023-12-26",
          "2023-12-27",
          "2023-12-28",
          "2023-12-29",
          "2024-01-02",
          "2024-01-03",
          "2024-01-04",
          "2024-01-05",
          "2024-01-08",
          "2024-01-09",
          "2024-01-10",
          "2024-01-11",
          "2024-01-12",
          "2024-01-16",
          "2024-01-17",
          "2024-01-18",
          "2024-01-19",
          "2024-01-22",
          "2024-01-23",
          "2024-01-24",
          "2024-01-25",
          "2024-01-26",
          "2024-01-29",
          "2024-01-30",
          "2024-01-31",
          "2024-02-01",
          "2024-02-02",
          "2024-02-05",
          "2024-02-06",
          "2024-02-07",
          "2024-02-08",
          "2024-02-09",
          "2024-02-12",
          "2024-02-13",
          "2024-02-14",
          "2024-02-15",
          "2024-02-16",
          "2024-02-20",
          "2024-02-21",
          "2024-02-22",
          "2024-02-23",
          "2024-02-26",
          "2024-02-27",
          "2024-02-28",
          "2024-02-29",
          "2024-03-01",
          "2024-03-04",
          "2024-03-05",
          "2024-03-06",
          "2024-03-07",
          "2024-03-08",
          "2024-03-11",
          "2024-03-12",
          "2024-03-13",
          "2024-03-14",
          "2024-03-15",
          "2024-03-18",
          "2024-03-19",
          "2024-03-20",
          "2024-03-21",
          "2024-03-22",
          "2024-03-25",
          "2024-03-26",
          "2024-03-27",
          "2024-03-28",
          "2024-04-01",
          "2024-04-02",
          "2024-04-03",
          "2024-04-04",
          "2024-04-05",
          "2024-04-08",
          "2024-04-09",
          "2024-04-10",
          "2024-04-11",
          "2024-04-12",
          "2024-04-15",
          "2024-04-16",
          "2024-04-17",
          "2024-04-18",
          "2024-04-19",
          "2024-04-22",
          "2024-04-23",
          "2024-04-24",
          "2024-04-25",
          "2024-04-26",
          "2024-04-29",
          "2024-04-30",
          "2024-05-01",
          "2024-05-02",
          "2024-05-03",
          "2024-05-06",
          "2024-05-07",
          "2024-05-08",
          "2024-05-09",
          "2024-05-10",
          "2024-05-13",
          "2024-05-14",
          "2024-05-15",
          "2024-05-16",
          "2024-05-17",
          "2024-05-20",
          "2024-05-21",
          "2024-05-22",
          "2024-05-23",
          "2024-05-24",
          "2024-05-28",
          "2024-05-29",
          "2024-05-30",
          "2024-05-31",
          "2024-06-03",
          "2024-06-04",
          "2024-06-05",
          "2024-06-06",
          "2024-06-07",
          "2024-06-10",
          "2024-06-11",
          "2024-06-12",
          "2024-06-13",
          "2024-06-14",
          "2024-06-17",
          "2024-06-18",
          "2024-06-20",
          "2024-06-21",
          "2024-06-24",
          "2024-06-25",
          "2024-06-26",
          "2024-06-27",
          "2024-06-28",
          "2024-07-01",
          "2024-07-02",
          "2024-07-03",
          "2024-07-05",
          "2024-07-08",
          "2024-07-09",
          "2024-07-10",
          "2024-07-11",
          "2024-07-12",
          "2024-07-15",
          "2024-07-16",
          "2024-07-17",
          "2024-07-18",
          "2024-07-19",
          "2024-07-22",
          "2024-07-23",
          "2024-07-24",
          "2024-07-25",
          "2024-07-26",
          "2024-07-29",
          "2024-07-30",
          "2024-07-31",
          "2024-08-01",
          "2024-08-02",
          "2024-08-05",
          "2024-08-06",
          "2024-08-07",
          "2024-08-08",
          "2024-08-09",
          "2024-08-12",
          "2024-08-13",
          "2024-08-14",
          "2024-08-15",
          "2024-08-16",
          "2024-08-19",
          "2024-08-20",
          "2024-08-21",
          "2024-08-22",
          "2024-08-23",
          "2024-08-26",
          "2024-08-27",
          "2024-08-28",
          "2024-08-29",
          "2024-08-30",
          "2024-09-03",
          "2024-09-04",
          "2024-09-05",
          "2024-09-06",
          "2024-09-09",
          "2024-09-10",
          "2024-09-11",
          "2024-09-12",
          "2024-09-13",
          "2024-09-16",
          "2024-09-17",
          "2024-09-18",
          "2024-09-19",
          "2024-09-20",
          "2024-09-23",
          "2024-09-24",
          "2024-09-25",
          "2024-09-26",
          "2024-09-27",
          "2024-09-30",
          "2024-10-01",
          "2024-10-02",
          "2024-10-03",
          "2024-10-04",
          "2024-10-07",
          "2024-10-08",
          "2024-10-09",
          "2024-10-10",
          "2024-10-11",
          "2024-10-14",
          "2024-10-15",
          "2024-10-16",
          "2024-10-17",
          "2024-10-18",
          "2024-10-21",
          "2024-10-22",
          "2024-10-23",
          "2024-10-24",
          "2024-10-25",
          "2024-10-28",
          "2024-10-29",
          "2024-10-30",
          "2024-10-31",
          "2024-11-01",
          "2024-11-04",
          "2024-11-05",
          "2024-11-06",
          "2024-11-07",
          "2024-11-08",
          "2024-11-11",
          "2024-11-12",
          "2024-11-13",
          "2024-11-14",
          "2024-11-15",
          "2024-11-18",
          "2024-11-19",
          "2024-11-20",
          "2024-11-21",
          "2024-11-22",
          "2024-11-25",
          "2024-11-26",
          "2024-11-27",
          "2024-11-29",
          "2024-12-02",
          "2024-12-03",
          "2024-12-04",
          "2024-12-05",
          "2024-12-06",
          "2024-12-09",
          "2024-12-10",
          "2024-12-11",
          "2024-12-12",
          "2024-12-13",
          "2024-12-16",
          "2024-12-17",
          "2024-12-18",
          "2024-12-19",
          "2024-12-20",
          "2024-12-23",
          "2024-12-24",
          "2024-12-26",
          "2024-12-27",
          "2024-12-30",
          "2024-12-31",
          "2025-01-02",
          "2025-01-03",
          "2025-01-06",
          "2025-01-07",
          "2025-01-08",
          "2025-01-10",
          "2025-01-13",
          "2025-01-14",
          "2025-01-15",
          "2025-01-16",
          "2025-01-17",
          "2025-01-21",
          "2025-01-22",
          "2025-01-23",
          "2025-01-24",
          "2025-01-27",
          "2025-01-28",
          "2025-01-29",
          "2025-01-30",
          "2025-01-31",
          "2025-02-03",
          "2025-02-04",
          "2025-02-05",
          "2025-02-06",
          "2025-02-07",
          "2025-02-10",
          "2025-02-11",
          "2025-02-12",
          "2025-02-13",
          "2025-02-14",
          "2025-02-18",
          "2025-02-19",
          "2025-02-20",
          "2025-02-21",
          "2025-02-24",
          "2025-02-25",
          "2025-02-26",
          "2025-02-27",
          "2025-02-28",
          "2025-03-03",
          "2025-03-04",
          "2025-03-05",
          "2025-03-06",
          "2025-03-07",
          "2025-03-10",
          "2025-03-11",
          "2025-03-12",
          "2025-03-13",
          "2025-03-14",
          "2025-03-17",
          "2025-03-18",
          "2025-03-19",
          "2025-03-20",
          "2025-03-21",
          "2025-03-24",
          "2025-03-25",
          "2025-03-26",
          "2025-03-27",
          "2025-03-28",
          "2025-03-31",
          "2025-04-01",
          "2025-04-02",
          "2025-04-03",
          "2025-04-04",
          "2025-04-07",
          "2025-04-08",
          "2025-04-09",
          "2025-04-10"
         ],
         "y": {
          "bdata": "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",
          "dtype": "f8"
         }
        }
       ],
       "layout": {
        "legend": {
         "x": 0,
         "y": 1
        },
        "template": {
         "data": {
          "bar": [
           {
            "error_x": {
             "color": "#2a3f5f"
            },
            "error_y": {
             "color": "#2a3f5f"
            },
            "marker": {
             "line": {
              "color": "#E5ECF6",
              "width": 0.5
             },
             "pattern": {
              "fillmode": "overlay",
              "size": 10,
              "solidity": 0.2
             }
            },
            "type": "bar"
           }
          ],
          "barpolar": [
           {
            "marker": {
             "line": {
              "color": "#E5ECF6",
              "width": 0.5
             },
             "pattern": {
              "fillmode": "overlay",
              "size": 10,
              "solidity": 0.2
             }
            },
            "type": "barpolar"
           }
          ],
          "carpet": [
           {
            "aaxis": {
             "endlinecolor": "#2a3f5f",
             "gridcolor": "white",
             "linecolor": "white",
             "minorgridcolor": "white",
             "startlinecolor": "#2a3f5f"
            },
            "baxis": {
             "endlinecolor": "#2a3f5f",
             "gridcolor": "white",
             "linecolor": "white",
             "minorgridcolor": "white",
             "startlinecolor": "#2a3f5f"
            },
            "type": "carpet"
           }
          ],
          "choropleth": [
           {
            "colorbar": {
             "outlinewidth": 0,
             "ticks": ""
            },
            "type": "choropleth"
           }
          ],
          "contour": [
           {
            "colorbar": {
             "outlinewidth": 0,
             "ticks": ""
            },
            "colorscale": [
             [
              0,
              "#0d0887"
             ],
             [
              0.1111111111111111,
              "#46039f"
             ],
             [
              0.2222222222222222,
              "#7201a8"
             ],
             [
              0.3333333333333333,
              "#9c179e"
             ],
             [
              0.4444444444444444,
              "#bd3786"
             ],
             [
              0.5555555555555556,
              "#d8576b"
             ],
             [
              0.6666666666666666,
              "#ed7953"
             ],
             [
              0.7777777777777778,
              "#fb9f3a"
             ],
             [
              0.8888888888888888,
              "#fdca26"
             ],
             [
              1,
              "#f0f921"
             ]
            ],
            "type": "contour"
           }
          ],
          "contourcarpet": [
           {
            "colorbar": {
             "outlinewidth": 0,
             "ticks": ""
            },
            "type": "contourcarpet"
           }
          ],
          "heatmap": [
           {
            "colorbar": {
             "outlinewidth": 0,
             "ticks": ""
            },
            "colorscale": [
             [
              0,
              "#0d0887"
             ],
             [
              0.1111111111111111,
              "#46039f"
             ],
             [
              0.2222222222222222,
              "#7201a8"
             ],
             [
              0.3333333333333333,
              "#9c179e"
             ],
             [
              0.4444444444444444,
              "#bd3786"
             ],
             [
              0.5555555555555556,
              "#d8576b"
             ],
             [
              0.6666666666666666,
              "#ed7953"
             ],
             [
              0.7777777777777778,
              "#fb9f3a"
             ],
             [
              0.8888888888888888,
              "#fdca26"
             ],
             [
              1,
              "#f0f921"
             ]
            ],
            "type": "heatmap"
           }
          ],
          "histogram": [
           {
            "marker": {
             "pattern": {
              "fillmode": "overlay",
              "size": 10,
              "solidity": 0.2
             }
            },
            "type": "histogram"
           }
          ],
          "histogram2d": [
           {
            "colorbar": {
             "outlinewidth": 0,
             "ticks": ""
            },
            "colorscale": [
             [
              0,
              "#0d0887"
             ],
             [
              0.1111111111111111,
              "#46039f"
             ],
             [
              0.2222222222222222,
              "#7201a8"
             ],
             [
              0.3333333333333333,
              "#9c179e"
             ],
             [
              0.4444444444444444,
              "#bd3786"
             ],
             [
              0.5555555555555556,
              "#d8576b"
             ],
             [
              0.6666666666666666,
              "#ed7953"
             ],
             [
              0.7777777777777778,
              "#fb9f3a"
             ],
             [
              0.8888888888888888,
              "#fdca26"
             ],
             [
              1,
              "#f0f921"
             ]
            ],
            "type": "histogram2d"
           }
          ],
          "histogram2dcontour": [
           {
            "colorbar": {
             "outlinewidth": 0,
             "ticks": ""
            },
            "colorscale": [
             [
              0,
              "#0d0887"
             ],
             [
              0.1111111111111111,
              "#46039f"
             ],
             [
              0.2222222222222222,
              "#7201a8"
             ],
             [
              0.3333333333333333,
              "#9c179e"
             ],
             [
              0.4444444444444444,
              "#bd3786"
             ],
             [
              0.5555555555555556,
              "#d8576b"
             ],
             [
              0.6666666666666666,
              "#ed7953"
             ],
             [
              0.7777777777777778,
              "#fb9f3a"
             ],
             [
              0.8888888888888888,
              "#fdca26"
             ],
             [
              1,
              "#f0f921"
             ]
            ],
            "type": "histogram2dcontour"
           }
          ],
          "mesh3d": [
           {
            "colorbar": {
             "outlinewidth": 0,
             "ticks": ""
            },
            "type": "mesh3d"
           }
          ],
          "parcoords": [
           {
            "line": {
             "colorbar": {
              "outlinewidth": 0,
              "ticks": ""
             }
            },
            "type": "parcoords"
           }
          ],
          "pie": [
           {
            "automargin": true,
            "type": "pie"
           }
          ],
          "scatter": [
           {
            "fillpattern": {
             "fillmode": "overlay",
             "size": 10,
             "solidity": 0.2
            },
            "type": "scatter"
           }
          ],
          "scatter3d": [
           {
            "line": {
             "colorbar": {
              "outlinewidth": 0,
              "ticks": ""
             }
            },
            "marker": {
             "colorbar": {
              "outlinewidth": 0,
              "ticks": ""
             }
            },
            "type": "scatter3d"
           }
          ],
          "scattercarpet": [
           {
            "marker": {
             "colorbar": {
              "outlinewidth": 0,
              "ticks": ""
             }
            },
            "type": "scattercarpet"
           }
          ],
          "scattergeo": [
           {
            "marker": {
             "colorbar": {
              "outlinewidth": 0,
              "ticks": ""
             }
            },
            "type": "scattergeo"
           }
          ],
          "scattergl": [
           {
            "marker": {
             "colorbar": {
              "outlinewidth": 0,
              "ticks": ""
             }
            },
            "type": "scattergl"
           }
          ],
          "scattermap": [
           {
            "marker": {
             "colorbar": {
              "outlinewidth": 0,
              "ticks": ""
             }
            },
            "type": "scattermap"
           }
          ],
          "scattermapbox": [
           {
            "marker": {
             "colorbar": {
              "outlinewidth": 0,
              "ticks": ""
             }
            },
            "type": "scattermapbox"
           }
          ],
          "scatterpolar": [
           {
            "marker": {
             "colorbar": {
              "outlinewidth": 0,
              "ticks": ""
             }
            },
            "type": "scatterpolar"
           }
          ],
          "scatterpolargl": [
           {
            "marker": {
             "colorbar": {
              "outlinewidth": 0,
              "ticks": ""
             }
            },
            "type": "scatterpolargl"
           }
          ],
          "scatterternary": [
           {
            "marker": {
             "colorbar": {
              "outlinewidth": 0,
              "ticks": ""
             }
            },
            "type": "scatterternary"
           }
          ],
          "surface": [
           {
            "colorbar": {
             "outlinewidth": 0,
             "ticks": ""
            },
            "colorscale": [
             [
              0,
              "#0d0887"
             ],
             [
              0.1111111111111111,
              "#46039f"
             ],
             [
              0.2222222222222222,
              "#7201a8"
             ],
             [
              0.3333333333333333,
              "#9c179e"
             ],
             [
              0.4444444444444444,
              "#bd3786"
             ],
             [
              0.5555555555555556,
              "#d8576b"
             ],
             [
              0.6666666666666666,
              "#ed7953"
             ],
             [
              0.7777777777777778,
              "#fb9f3a"
             ],
             [
              0.8888888888888888,
              "#fdca26"
             ],
             [
              1,
              "#f0f921"
             ]
            ],
            "type": "surface"
           }
          ],
          "table": [
           {
            "cells": {
             "fill": {
              "color": "#EBF0F8"
             },
             "line": {
              "color": "white"
             }
            },
            "header": {
             "fill": {
              "color": "#C8D4E3"
             },
             "line": {
              "color": "white"
             }
            },
            "type": "table"
           }
          ]
         },
         "layout": {
          "annotationdefaults": {
           "arrowcolor": "#2a3f5f",
           "arrowhead": 0,
           "arrowwidth": 1
          },
          "autotypenumbers": "strict",
          "coloraxis": {
           "colorbar": {
            "outlinewidth": 0,
            "ticks": ""
           }
          },
          "colorscale": {
           "diverging": [
            [
             0,
             "#8e0152"
            ],
            [
             0.1,
             "#c51b7d"
            ],
            [
             0.2,
             "#de77ae"
            ],
            [
             0.3,
             "#f1b6da"
            ],
            [
             0.4,
             "#fde0ef"
            ],
            [
             0.5,
             "#f7f7f7"
            ],
            [
             0.6,
             "#e6f5d0"
            ],
            [
             0.7,
             "#b8e186"
            ],
            [
             0.8,
             "#7fbc41"
            ],
            [
             0.9,
             "#4d9221"
            ],
            [
             1,
             "#276419"
            ]
           ],
           "sequential": [
            [
             0,
             "#0d0887"
            ],
            [
             0.1111111111111111,
             "#46039f"
            ],
            [
             0.2222222222222222,
             "#7201a8"
            ],
            [
             0.3333333333333333,
             "#9c179e"
            ],
            [
             0.4444444444444444,
             "#bd3786"
            ],
            [
             0.5555555555555556,
             "#d8576b"
            ],
            [
             0.6666666666666666,
             "#ed7953"
            ],
            [
             0.7777777777777778,
             "#fb9f3a"
            ],
            [
             0.8888888888888888,
             "#fdca26"
            ],
            [
             1,
             "#f0f921"
            ]
           ],
           "sequentialminus": [
            [
             0,
             "#0d0887"
            ],
            [
             0.1111111111111111,
             "#46039f"
            ],
            [
             0.2222222222222222,
             "#7201a8"
            ],
            [
             0.3333333333333333,
             "#9c179e"
            ],
            [
             0.4444444444444444,
             "#bd3786"
            ],
            [
             0.5555555555555556,
             "#d8576b"
            ],
            [
             0.6666666666666666,
             "#ed7953"
            ],
            [
             0.7777777777777778,
             "#fb9f3a"
            ],
            [
             0.8888888888888888,
             "#fdca26"
            ],
            [
             1,
             "#f0f921"
            ]
           ]
          },
          "colorway": [
           "#636efa",
           "#EF553B",
           "#00cc96",
           "#ab63fa",
           "#FFA15A",
           "#19d3f3",
           "#FF6692",
           "#B6E880",
           "#FF97FF",
           "#FECB52"
          ],
          "font": {
           "color": "#2a3f5f"
          },
          "geo": {
           "bgcolor": "white",
           "lakecolor": "white",
           "landcolor": "#E5ECF6",
           "showlakes": true,
           "showland": true,
           "subunitcolor": "white"
          },
          "hoverlabel": {
           "align": "left"
          },
          "hovermode": "closest",
          "mapbox": {
           "style": "light"
          },
          "paper_bgcolor": "white",
          "plot_bgcolor": "#E5ECF6",
          "polar": {
           "angularaxis": {
            "gridcolor": "white",
            "linecolor": "white",
            "ticks": ""
           },
           "bgcolor": "#E5ECF6",
           "radialaxis": {
            "gridcolor": "white",
            "linecolor": "white",
            "ticks": ""
           }
          },
          "scene": {
           "xaxis": {
            "backgroundcolor": "#E5ECF6",
            "gridcolor": "white",
            "gridwidth": 2,
            "linecolor": "white",
            "showbackground": true,
            "ticks": "",
            "zerolinecolor": "white"
           },
           "yaxis": {
            "backgroundcolor": "#E5ECF6",
            "gridcolor": "white",
            "gridwidth": 2,
            "linecolor": "white",
            "showbackground": true,
            "ticks": "",
            "zerolinecolor": "white"
           },
           "zaxis": {
            "backgroundcolor": "#E5ECF6",
            "gridcolor": "white",
            "gridwidth": 2,
            "linecolor": "white",
            "showbackground": true,
            "ticks": "",
            "zerolinecolor": "white"
           }
          },
          "shapedefaults": {
           "line": {
            "color": "#2a3f5f"
           }
          },
          "ternary": {
           "aaxis": {
            "gridcolor": "white",
            "linecolor": "white",
            "ticks": ""
           },
           "baxis": {
            "gridcolor": "white",
            "linecolor": "white",
            "ticks": ""
           },
           "bgcolor": "#E5ECF6",
           "caxis": {
            "gridcolor": "white",
            "linecolor": "white",
            "ticks": ""
           }
          },
          "title": {
           "x": 0.05
          },
          "xaxis": {
           "automargin": true,
           "gridcolor": "white",
           "linecolor": "white",
           "ticks": "",
           "title": {
            "standoff": 15
           },
           "zerolinecolor": "white",
           "zerolinewidth": 2
          },
          "yaxis": {
           "automargin": true,
           "gridcolor": "white",
           "linecolor": "white",
           "ticks": "",
           "title": {
            "standoff": 15
           },
           "zerolinecolor": "white",
           "zerolinewidth": 2
          }
         }
        },
        "title": {
         "text": "TSLA  vs. RIVN Stock Log Prices"
        },
        "xaxis": {
         "title": {
          "text": "timestamp"
         }
        },
        "yaxis": {
         "title": {
          "text": "Price (USD)"
         }
        }
       }
      }
     },
     "metadata": {},
     "output_type": "display_data"
    }
   ],
   "source": [
    "fig = go.Figure()\n",
    "asset_a = \"TSLA\"\n",
    "asset_b = \"RIVN\"\n",
    "fig.add_trace(go.Scatter(x=EV_stocks_data[asset_a][\"timestamp\"], y=np.log(EV_stocks_data[asset_a][\"close\"]), mode=\"lines\", name=f\"{asset_a}\"))\n",
    "fig.add_trace(go.Scatter(x=EV_stocks_data[asset_b][\"timestamp\"], y=np.log(EV_stocks_data[asset_b][\"close\"]), mode=\"lines\", name=f\"{asset_b}\"))\n",
    "fig.update_layout(title=f\"{asset_a}  vs. {asset_b} Stock Log Prices\", xaxis_title=\"timestamp\", yaxis_title=\"Price (USD)\", legend=dict(x=0, y=1))\n",
    "fig.show()\n",
    "fig.write_html(\"html_plot/log_price.html\")"
   ]
  },
  {
   "cell_type": "code",
   "execution_count": 5,
   "id": "6b50effc",
   "metadata": {},
   "outputs": [
    {
     "name": "stdout",
     "output_type": "stream",
     "text": [
      "                            OLS Regression Results                            \n",
      "==============================================================================\n",
      "Dep. Variable:                  close   R-squared:                       0.034\n",
      "Model:                            OLS   Adj. R-squared:                  0.033\n",
      "Method:                 Least Squares   F-statistic:                     26.45\n",
      "Date:                Thu, 10 Apr 2025   Prob (F-statistic):           3.45e-07\n",
      "Time:                        16:25:56   Log-Likelihood:                -375.63\n",
      "No. Observations:                 752   AIC:                             755.3\n",
      "Df Residuals:                     750   BIC:                             764.5\n",
      "Df Model:                           1                                         \n",
      "Covariance Type:            nonrobust                                         \n",
      "==============================================================================\n",
      "                 coef    std err          t      P>|t|      [0.025      0.975]\n",
      "------------------------------------------------------------------------------\n",
      "const          1.2919      0.305      4.234      0.000       0.693       1.891\n",
      "close          0.2883      0.056      5.143      0.000       0.178       0.398\n",
      "==============================================================================\n",
      "Omnibus:                      436.580   Durbin-Watson:                   0.012\n",
      "Prob(Omnibus):                  0.000   Jarque-Bera (JB):               52.785\n",
      "Skew:                           0.279   Prob(JB):                     3.45e-12\n",
      "Kurtosis:                       1.828   Cond. No.                         118.\n",
      "==============================================================================\n",
      "\n",
      "Notes:\n",
      "[1] Standard Errors assume that the covariance matrix of the errors is correctly specified.\n",
      "Cointegration test result:\n",
      "========================================\n",
      "Test Statistic: -2.1118564098567254\n",
      "p-value: 0.47017109222001646\n"
     ]
    }
   ],
   "source": [
    "X = np.log(EV_stocks_data[asset_a][\"close\"])\n",
    "Y = np.log(EV_stocks_data[asset_b][\"close\"])\n",
    "X_const = sm.add_constant(X)  # Adds a constant term to the predictor\n",
    "model = sm.OLS(Y, X_const).fit()\n",
    "print(model.summary())\n",
    "import statsmodels.tsa.stattools as ts\n",
    "\n",
    "result = ts.coint(X, Y)\n",
    "print(\"Cointegration test result:\")\n",
    "print(\"========================================\")\n",
    "print(\"Test Statistic:\", result[0])\n",
    "print(\"p-value:\", result[1])"
   ]
  },
  {
   "cell_type": "code",
   "execution_count": 6,
   "id": "9ace8d96",
   "metadata": {},
   "outputs": [],
   "source": [
    "def rolling_adf(spread_series, time_index, window=90):\n",
    "    adf_stats = []\n",
    "    p_values = []\n",
    "    dates = []\n",
    "\n",
    "    for i in range(window, len(spread_series)):\n",
    "        window_data = spread_series.iloc[i - window : i]\n",
    "        result = adfuller(window_data, maxlag=1, autolag=None)\n",
    "        adf_stats.append(result[0])  # Test statistic\n",
    "        p_values.append(result[1])  # p-value\n",
    "        dates.append(time_index.iloc[i])\n",
    "    return pd.DataFrame({\"timestamp\": dates, \"adf_stat\": adf_stats, \"p_value\": p_values})\n",
    "\n",
    "\n",
    "trade_df = pd.merge(EV_stocks_data[\"RIVN\"][[\"timestamp\", \"close\"]], EV_stocks_data[\"TSLA\"][[\"timestamp\", \"close\"]], on=\"timestamp\", suffixes=(\"_RIVN\", \"_TSLA\"))\n",
    "trade_df[\"log_close_TSLA\"] = np.log(trade_df[\"close_TSLA\"])\n",
    "trade_df[\"log_close_RIVN\"] = np.log(trade_df[\"close_RIVN\"])\n",
    "X = trade_df[\"log_close_TSLA\"].astype(float)\n",
    "Y = trade_df[\"log_close_RIVN\"].astype(float)\n",
    "X_with_const = sm.add_constant(X)\n",
    "model = RollingOLS(endog=Y, exog=X_with_const, window=20)\n",
    "rres = model.fit()\n",
    "trade_df[\"hedge_ratio\"] = rres.params[\"log_close_TSLA\"]\n",
    "trade_df[\"spread\"] = trade_df[\"log_close_RIVN\"] - trade_df[\"hedge_ratio\"] * trade_df[\"log_close_TSLA\"]\n",
    "trade_df[\"z_score\"] = (trade_df[\"spread\"] - trade_df[\"spread\"].rolling(window=20).mean()) / trade_df[\"spread\"].rolling(window=20).std()\n",
    "trade_df.dropna(inplace=True)\n",
    "rolling_adf_df = rolling_adf(trade_df[\"spread\"], trade_df[\"timestamp\"], window=60)\n",
    "trade_df = pd.merge(trade_df, rolling_adf_df, on=\"timestamp\", how=\"left\")\n",
    "trade_df.dropna(inplace=True)"
   ]
  },
  {
   "cell_type": "code",
   "execution_count": 11,
   "id": "8f86e44d",
   "metadata": {},
   "outputs": [
    {
     "data": {
      "application/vnd.plotly.v1+json": {
       "config": {
        "plotlyServerURL": "https://plot.ly"
       },
       "data": [
        {
         "mode": "lines",
         "name": "Rolling ADF p-value",
         "type": "scatter",
         "x": [
          "2022-09-01",
          "2022-09-02",
          "2022-09-06",
          "2022-09-07",
          "2022-09-08",
          "2022-09-09",
          "2022-09-12",
          "2022-09-13",
          "2022-09-14",
          "2022-09-15",
          "2022-09-16",
          "2022-09-19",
          "2022-09-20",
          "2022-09-21",
          "2022-09-22",
          "2022-09-23",
          "2022-09-26",
          "2022-09-27",
          "2022-09-28",
          "2022-09-29",
          "2022-09-30",
          "2022-10-03",
          "2022-10-04",
          "2022-10-05",
          "2022-10-06",
          "2022-10-07",
          "2022-10-10",
          "2022-10-11",
          "2022-10-12",
          "2022-10-13",
          "2022-10-14",
          "2022-10-17",
          "2022-10-18",
          "2022-10-19",
          "2022-10-20",
          "2022-10-21",
          "2022-10-24",
          "2022-10-25",
          "2022-10-26",
          "2022-10-27",
          "2022-10-28",
          "2022-10-31",
          "2022-11-01",
          "2022-11-02",
          "2022-11-03",
          "2022-11-04",
          "2022-11-07",
          "2022-11-08",
          "2022-11-09",
          "2022-11-10",
          "2022-11-11",
          "2022-11-14",
          "2022-11-15",
          "2022-11-16",
          "2022-11-17",
          "2022-11-18",
          "2022-11-21",
          "2022-11-22",
          "2022-11-23",
          "2022-11-25",
          "2022-11-28",
          "2022-11-29",
          "2022-11-30",
          "2022-12-01",
          "2022-12-02",
          "2022-12-05",
          "2022-12-06",
          "2022-12-07",
          "2022-12-08",
          "2022-12-09",
          "2022-12-12",
          "2022-12-13",
          "2022-12-14",
          "2022-12-15",
          "2022-12-16",
          "2022-12-19",
          "2022-12-20",
          "2022-12-21",
          "2022-12-22",
          "2022-12-23",
          "2022-12-27",
          "2022-12-28",
          "2022-12-29",
          "2022-12-30",
          "2023-01-03",
          "2023-01-04",
          "2023-01-05",
          "2023-01-06",
          "2023-01-09",
          "2023-01-10",
          "2023-01-11",
          "2023-01-12",
          "2023-01-13",
          "2023-01-17",
          "2023-01-18",
          "2023-01-19",
          "2023-01-20",
          "2023-01-23",
          "2023-01-24",
          "2023-01-25",
          "2023-01-26",
          "2023-01-27",
          "2023-01-30",
          "2023-01-31",
          "2023-02-01",
          "2023-02-02",
          "2023-02-03",
          "2023-02-06",
          "2023-02-07",
          "2023-02-08",
          "2023-02-09",
          "2023-02-10",
          "2023-02-13",
          "2023-02-14",
          "2023-02-15",
          "2023-02-16",
          "2023-02-17",
          "2023-02-21",
          "2023-02-22",
          "2023-02-23",
          "2023-02-24",
          "2023-02-27",
          "2023-02-28",
          "2023-03-01",
          "2023-03-02",
          "2023-03-03",
          "2023-03-06",
          "2023-03-07",
          "2023-03-08",
          "2023-03-09",
          "2023-03-10",
          "2023-03-13",
          "2023-03-14",
          "2023-03-15",
          "2023-03-16",
          "2023-03-17",
          "2023-03-20",
          "2023-03-21",
          "2023-03-22",
          "2023-03-23",
          "2023-03-24",
          "2023-03-27",
          "2023-03-28",
          "2023-03-29",
          "2023-03-30",
          "2023-03-31",
          "2023-04-03",
          "2023-04-04",
          "2023-04-05",
          "2023-04-06",
          "2023-04-10",
          "2023-04-11",
          "2023-04-12",
          "2023-04-13",
          "2023-04-14",
          "2023-04-17",
          "2023-04-18",
          "2023-04-19",
          "2023-04-20",
          "2023-04-21",
          "2023-04-24",
          "2023-04-25",
          "2023-04-26",
          "2023-04-27",
          "2023-04-28",
          "2023-05-01",
          "2023-05-02",
          "2023-05-03",
          "2023-05-04",
          "2023-05-05",
          "2023-05-08",
          "2023-05-09",
          "2023-05-10",
          "2023-05-11",
          "2023-05-12",
          "2023-05-15",
          "2023-05-16",
          "2023-05-17",
          "2023-05-18",
          "2023-05-19",
          "2023-05-22",
          "2023-05-23",
          "2023-05-24",
          "2023-05-25",
          "2023-05-26",
          "2023-05-30",
          "2023-05-31",
          "2023-06-01",
          "2023-06-02",
          "2023-06-05",
          "2023-06-06",
          "2023-06-07",
          "2023-06-08",
          "2023-06-09",
          "2023-06-12",
          "2023-06-13",
          "2023-06-14",
          "2023-06-15",
          "2023-06-16",
          "2023-06-20",
          "2023-06-21",
          "2023-06-22",
          "2023-06-23",
          "2023-06-26",
          "2023-06-27",
          "2023-06-28",
          "2023-06-29",
          "2023-06-30",
          "2023-07-03",
          "2023-07-05",
          "2023-07-06",
          "2023-07-07",
          "2023-07-10",
          "2023-07-11",
          "2023-07-12",
          "2023-07-13",
          "2023-07-14",
          "2023-07-17",
          "2023-07-18",
          "2023-07-19",
          "2023-07-20",
          "2023-07-21",
          "2023-07-24",
          "2023-07-25",
          "2023-07-26",
          "2023-07-27",
          "2023-07-28",
          "2023-07-31",
          "2023-08-01",
          "2023-08-02",
          "2023-08-03",
          "2023-08-04",
          "2023-08-07",
          "2023-08-08",
          "2023-08-09",
          "2023-08-10",
          "2023-08-11",
          "2023-08-14",
          "2023-08-15",
          "2023-08-16",
          "2023-08-17",
          "2023-08-18",
          "2023-08-21",
          "2023-08-22",
          "2023-08-23",
          "2023-08-24",
          "2023-08-25",
          "2023-08-28",
          "2023-08-29",
          "2023-08-30",
          "2023-08-31",
          "2023-09-01",
          "2023-09-05",
          "2023-09-06",
          "2023-09-07",
          "2023-09-08",
          "2023-09-11",
          "2023-09-12",
          "2023-09-13",
          "2023-09-14",
          "2023-09-15",
          "2023-09-18",
          "2023-09-19",
          "2023-09-20",
          "2023-09-21",
          "2023-09-22",
          "2023-09-25",
          "2023-09-26",
          "2023-09-27",
          "2023-09-28",
          "2023-09-29",
          "2023-10-02",
          "2023-10-03",
          "2023-10-04",
          "2023-10-05",
          "2023-10-06",
          "2023-10-09",
          "2023-10-10",
          "2023-10-11",
          "2023-10-12",
          "2023-10-13",
          "2023-10-16",
          "2023-10-17",
          "2023-10-18",
          "2023-10-19",
          "2023-10-20",
          "2023-10-23",
          "2023-10-24",
          "2023-10-25",
          "2023-10-26",
          "2023-10-27",
          "2023-10-30",
          "2023-10-31",
          "2023-11-01",
          "2023-11-02",
          "2023-11-03",
          "2023-11-06",
          "2023-11-07",
          "2023-11-08",
          "2023-11-09",
          "2023-11-10",
          "2023-11-13",
          "2023-11-14",
          "2023-11-15",
          "2023-11-16",
          "2023-11-17",
          "2023-11-20",
          "2023-11-21",
          "2023-11-22",
          "2023-11-24",
          "2023-11-27",
          "2023-11-28",
          "2023-11-29",
          "2023-11-30",
          "2023-12-01",
          "2023-12-04",
          "2023-12-05",
          "2023-12-06",
          "2023-12-07",
          "2023-12-08",
          "2023-12-11",
          "2023-12-12",
          "2023-12-13",
          "2023-12-14",
          "2023-12-15",
          "2023-12-18",
          "2023-12-19",
          "2023-12-20",
          "2023-12-21",
          "2023-12-22",
          "2023-12-26",
          "2023-12-27",
          "2023-12-28",
          "2023-12-29",
          "2024-01-02",
          "2024-01-03",
          "2024-01-04",
          "2024-01-05",
          "2024-01-08",
          "2024-01-09",
          "2024-01-10",
          "2024-01-11",
          "2024-01-12",
          "2024-01-16",
          "2024-01-17",
          "2024-01-18",
          "2024-01-19",
          "2024-01-22",
          "2024-01-23",
          "2024-01-24",
          "2024-01-25",
          "2024-01-26",
          "2024-01-29",
          "2024-01-30",
          "2024-01-31",
          "2024-02-01",
          "2024-02-02",
          "2024-02-05",
          "2024-02-06",
          "2024-02-07",
          "2024-02-08",
          "2024-02-09",
          "2024-02-12",
          "2024-02-13",
          "2024-02-14",
          "2024-02-15",
          "2024-02-16",
          "2024-02-20",
          "2024-02-21",
          "2024-02-22",
          "2024-02-23",
          "2024-02-26",
          "2024-02-27",
          "2024-02-28",
          "2024-02-29",
          "2024-03-01",
          "2024-03-04",
          "2024-03-05",
          "2024-03-06",
          "2024-03-07",
          "2024-03-08",
          "2024-03-11",
          "2024-03-12",
          "2024-03-13",
          "2024-03-14",
          "2024-03-15",
          "2024-03-18",
          "2024-03-19",
          "2024-03-20",
          "2024-03-21",
          "2024-03-22",
          "2024-03-25",
          "2024-03-26",
          "2024-03-27",
          "2024-03-28",
          "2024-04-01",
          "2024-04-02",
          "2024-04-03",
          "2024-04-04",
          "2024-04-05",
          "2024-04-08",
          "2024-04-09",
          "2024-04-10",
          "2024-04-11",
          "2024-04-12",
          "2024-04-15",
          "2024-04-16",
          "2024-04-17",
          "2024-04-18",
          "2024-04-19",
          "2024-04-22",
          "2024-04-23",
          "2024-04-24",
          "2024-04-25",
          "2024-04-26",
          "2024-04-29",
          "2024-04-30",
          "2024-05-01",
          "2024-05-02",
          "2024-05-03",
          "2024-05-06",
          "2024-05-07",
          "2024-05-08",
          "2024-05-09",
          "2024-05-10",
          "2024-05-13",
          "2024-05-14",
          "2024-05-15",
          "2024-05-16",
          "2024-05-17",
          "2024-05-20",
          "2024-05-21",
          "2024-05-22",
          "2024-05-23",
          "2024-05-24",
          "2024-05-28",
          "2024-05-29",
          "2024-05-30",
          "2024-05-31",
          "2024-06-03",
          "2024-06-04",
          "2024-06-05",
          "2024-06-06",
          "2024-06-07",
          "2024-06-10",
          "2024-06-11",
          "2024-06-12",
          "2024-06-13",
          "2024-06-14",
          "2024-06-17",
          "2024-06-18",
          "2024-06-20",
          "2024-06-21",
          "2024-06-24",
          "2024-06-25",
          "2024-06-26",
          "2024-06-27",
          "2024-06-28",
          "2024-07-01",
          "2024-07-02",
          "2024-07-03",
          "2024-07-05",
          "2024-07-08",
          "2024-07-09",
          "2024-07-10",
          "2024-07-11",
          "2024-07-12",
          "2024-07-15",
          "2024-07-16",
          "2024-07-17",
          "2024-07-18",
          "2024-07-19",
          "2024-07-22",
          "2024-07-23",
          "2024-07-24",
          "2024-07-25",
          "2024-07-26",
          "2024-07-29",
          "2024-07-30",
          "2024-07-31",
          "2024-08-01",
          "2024-08-02",
          "2024-08-05",
          "2024-08-06",
          "2024-08-07",
          "2024-08-08",
          "2024-08-09",
          "2024-08-12",
          "2024-08-13",
          "2024-08-14",
          "2024-08-15",
          "2024-08-16",
          "2024-08-19",
          "2024-08-20",
          "2024-08-21",
          "2024-08-22",
          "2024-08-23",
          "2024-08-26",
          "2024-08-27",
          "2024-08-28",
          "2024-08-29",
          "2024-08-30",
          "2024-09-03",
          "2024-09-04",
          "2024-09-05",
          "2024-09-06",
          "2024-09-09",
          "2024-09-10",
          "2024-09-11",
          "2024-09-12",
          "2024-09-13",
          "2024-09-16",
          "2024-09-17",
          "2024-09-18",
          "2024-09-19",
          "2024-09-20",
          "2024-09-23",
          "2024-09-24",
          "2024-09-25",
          "2024-09-26",
          "2024-09-27",
          "2024-09-30",
          "2024-10-01",
          "2024-10-02",
          "2024-10-03",
          "2024-10-04",
          "2024-10-07",
          "2024-10-08",
          "2024-10-09",
          "2024-10-10",
          "2024-10-11",
          "2024-10-14",
          "2024-10-15",
          "2024-10-16",
          "2024-10-17",
          "2024-10-18",
          "2024-10-21",
          "2024-10-22",
          "2024-10-23",
          "2024-10-24",
          "2024-10-25",
          "2024-10-28",
          "2024-10-29",
          "2024-10-30",
          "2024-10-31",
          "2024-11-01",
          "2024-11-04",
          "2024-11-05",
          "2024-11-06",
          "2024-11-07",
          "2024-11-08",
          "2024-11-11",
          "2024-11-12",
          "2024-11-13",
          "2024-11-14",
          "2024-11-15",
          "2024-11-18",
          "2024-11-19",
          "2024-11-20",
          "2024-11-21",
          "2024-11-22",
          "2024-11-25",
          "2024-11-26",
          "2024-11-27",
          "2024-11-29",
          "2024-12-02",
          "2024-12-03",
          "2024-12-04",
          "2024-12-05",
          "2024-12-06",
          "2024-12-09",
          "2024-12-10",
          "2024-12-11",
          "2024-12-12",
          "2024-12-13",
          "2024-12-16",
          "2024-12-17",
          "2024-12-18",
          "2024-12-19",
          "2024-12-20",
          "2024-12-23",
          "2024-12-24",
          "2024-12-26",
          "2024-12-27",
          "2024-12-30",
          "2024-12-31",
          "2025-01-02",
          "2025-01-03",
          "2025-01-06",
          "2025-01-07",
          "2025-01-08",
          "2025-01-10",
          "2025-01-13",
          "2025-01-14",
          "2025-01-15",
          "2025-01-16",
          "2025-01-17",
          "2025-01-21",
          "2025-01-22",
          "2025-01-23",
          "2025-01-24",
          "2025-01-27",
          "2025-01-28",
          "2025-01-29",
          "2025-01-30",
          "2025-01-31",
          "2025-02-03",
          "2025-02-04",
          "2025-02-05",
          "2025-02-06",
          "2025-02-07",
          "2025-02-10",
          "2025-02-11",
          "2025-02-12",
          "2025-02-13",
          "2025-02-14",
          "2025-02-18",
          "2025-02-19",
          "2025-02-20",
          "2025-02-21",
          "2025-02-24",
          "2025-02-25",
          "2025-02-26",
          "2025-02-27",
          "2025-02-28",
          "2025-03-03",
          "2025-03-04",
          "2025-03-05",
          "2025-03-06",
          "2025-03-07",
          "2025-03-10",
          "2025-03-11",
          "2025-03-12",
          "2025-03-13",
          "2025-03-14",
          "2025-03-17",
          "2025-03-18",
          "2025-03-19",
          "2025-03-20",
          "2025-03-21",
          "2025-03-24",
          "2025-03-25",
          "2025-03-26",
          "2025-03-27",
          "2025-03-28",
          "2025-03-31",
          "2025-04-01",
          "2025-04-02",
          "2025-04-03",
          "2025-04-04",
          "2025-04-07",
          "2025-04-08",
          "2025-04-09",
          "2025-04-10"
         ],
         "y": {
          "bdata": "YApb0Su5uD+TWuE9z5OsP9f/hhgq1aE/MQVSWf0xrD91tgUKrVWuP0xgqkwqxa8/zOOaO1Xftj9MxY0O3Bq1PxDjxqz6XrU/tAehq9BovD92mTIibmTEP8wuHZXnA8o/yNAIv3Qcxj8Qxl3nPT68P+jX+HPgRsY/QDiyJAxzzT98Xxg0rqfJP6j1l1zhSMc/zvSWcZW9yT/wD2dMBJHIPwzR+wFGtcg/KjvLzFnvxD/YQMwW6FjBP3ypYIfw878/IqljieFVwD/srAdVWpjBP2y9AAoM/Ko/vbNAADktlT9zbrhPhOSiP4RTPm/CF9Y/gdJb6Zgh1j+4I740DxvNP4LKpMgP99A/+Nz4aRQK1D8iNQSji33UPwqW1PzqS9M/lUohC2A81T/8l7CgW+DUP7qb77YM0dY/GPrDj1Vx1j9aFvDCnAHRP/6/zm4Fi8o/vuBYfvAAyj8qw7rRsVjKPxZ3cex08Mc/rqojCYo7xD9EZenX5i69P5iMob/JBLg/cN1faIETuD8swKEV7ju4P7a/PTOJosE/BrTTpqGXwz8WpEcY5OvBP6gy8pvGObg/xCRIoecXuj+g5ohdpQvLP5CmAIDFeMo/NMCL3k8zyj8EkiUOxY/KPxQ1HxFnqcc/kBxnI6ULyT/E6LqV7YrJPzZW0FWf1cM/XnLts0QoxT/mxuZFUsuzP7ggJxJ5/7Y/mCDLOPFguD+fEqGj7DeuPwyO4IuU+5c/ATOlH8fXhj+HLJl8TTWiP6A8Mlc7WbQ/dbgyt7x5kj9mkYmC8vBwP33FdPGb+4w/hLpV9Bk0lD8oSkLDBj+IP1Q+eqD7IoI/nr7HRLFmgz/tfmTZgH+MPxXTX4U2c6k/9tww/2gArD9XbC9EpQaxP7w59KUvxbA/Yxr4ACbssz9E7eYnzM+1P9l0e6MGNbA/EfK5luSqqz/2uFddyMSlP0RhVnvri60/ee6Mu8Mxnz95wMaUnsSbPws7kKNBYJc/ENy3bl4lmz/xWtq26IuOP3HKu5TF3Is/vdiFkgj7jD/ZOE7XPA2mP4A9CjnU9bU/G/b93OZosD+IbtY8IhqoP981eBSZw6U/IzcZ0Fb1oz+kbEmeNeu7PxiTbtjzI8o/aNRCYyA40j93tUfISwbVP8CtiwuLQs0/hjZkaxqRwD+staL8HYS+P1wozcEn58E/LqQnQ4s7wT+W92Bn80HDP9zXUB8huMM/xLVzUn06zD8ICgYptCPSP2nkn147d9A/StTe8z7N0j+CpqIKlBfQP3Hxas889tM/MlBADua0zz9yCIJKIEzaP2Wg6t0tjds/7BQA2cz/5z8bei653TXmP4o7zKF2Uc8/pJocFdWRxj+mbSd+pVTQP3Fqe8ADyN4/XDZBvtUWvj/JZXmOHJKTP6YJ/kWXWMY/4LmGE1Adzz/i5EdpoRvaPxYes2FAeNw/C2qwnlu33T+IOMSRKRDbPzrY31wVRt8//qkUoGdd0z9gocjq7K7UPyy7MSpRNtM/bo2ODFLu0z94W1n0wEzOP2wbaiGKJcY/AKD74IKAyj/MLeZ0/SbKPzbpL/uIass/vsT5kgIJzD92WQNql2TJPwxQ2AIRA8k/phMGCHcZxz9qwZKsU+bGP5b5ksXmDsc/7k5xIUqbyD9K6y2hGMvHP87+ClWEqsM/Wp7zIX17xD86c8tARhrJPyRSsJU2PMk/+gsJUxWfyj8or04qDZ3LP9A8TyF1Scg/SlXLtVuxyD8ywjqOGo/IP5BSQ8UMwsg/znTHE6vYxz845M/5GgLHP14y+nNP1MU/KLHIpDTVxD+imWs/0gzEP4oIqb8evcM/SCbnkLbCwj+OcYfPRzTCP0T829v2kME/TEmNE+bHvz9oo2PLZXm5P3CLwSRr9Lk/1KOxK9U0tD90PV9bh660PxV2EAY4ZrE/3fMH9Vo5rj9hg8envTuXP84FZYkRKZM/jEmD7WbNuz/wZTDRc8/EP6a7LA7Njck/KEMb7koKvD/K3oyWHqjHP9vCuIP3f9k/Pvvmp31Y0j9GHNNuLVXLP+QEZfe6n7c/Q8wuS4K/qz9uFH71o9yhP8ToyUiEyZ0/I34VCOutiz98IWrLmRikPyMW06GbUqQ/gNDgtdsZpT+43JWme9ugPwgu3EzjW74/WIgh8iFj4T8XoaSGnUniP0/bkNeKouM//eyIHpSb4z8Jjy1rSRniPwuBb+HvZeI/zG8FME/q4D+u+dalfyzeP9KpItUocNU/9LoMs7Ok1j/V1WfDCQ/lP3p3PeNp8uw/3vmJs/QC6z+x0pLJb67bPxJy5p5u2t0/v6n/LZ+K3D/c7ngAeMPAPzM/jxMG/4A/RMNq0zfhhz/y+hIAE07VP7TdG+GHeLA/x4J1tSQ1sz/IQV4JUqy8PyifNplqaqo/+SjMOfFUlz8VTyydLEGTP5ghZ8odOZY/SrzGOWp2kz9GC/ACXT6CP/G551XkRXQ/BuEv1mUQkD9hPtQFJGKQP6wuwPRJsJA/BDQ9L8U+lD952UUW18iOPwrD97k4nJE/ZKeLEoUvfz88Eb46Cst7P3z6j7oL23o/Rtn+HpD9ej8CPY/C2gaMPwlZgnzz740/5keezEfbkj/X0UzwgB+SP7eLN7OSKpE/ekq9XlgAkT+CZ1SacXuQP7fOZVuzQ48/rEkMUAt8jj+yw+oqn4ONPwIa/VfiSI0/0y/RAGUXiz9z9O7AhCiIP4vDLQdJH4o/hzJRCMtGhj+6UkeFy+eFPzkTTMQGyoU/aNADl4yHhD/EnH5JXC2EP7qcRcZiQoE/1WK5IkNHfj/kTqyWY1V7P0WiWuTuen4/TY/upRUpfz8hIdAC7fZ/P1yV40aUj4E/pBjAtBqmiD8/IiMlKOKPP9CB6HMbDJA/5cnzpEBhgT/vICobhkN6P8dfX6kUP38/0C+mN84Gcj8Qi1deo6hgP01KP+kVdFs/mxn++6MldT9/Ta/yOm1xP8qeXuuuOAc/nvJhJN2mRz+lcBnY1P5FPwRr0QYJJi0/qrnXejeiVz+MwBwnsnO6P5GVnrH7v64/7XxzUi26YD+pO+++BTuEPzlFV0vbOqI/3GJlTwH/rT+hFTCuLqCfP5ClcJqUL50/TUtGu91DnT8vNDgXAX6WP+PtUTHscaE/7clWa4wyoD9XwZlhH6CiP0eR6CSg1KU/rPZdLFGJpD8PZnpQgwucP/vdMYTNW60/QGMELiHSqz//SxP9/uqdPwizkSLGOJM/vm5KAl5ZkD9xeLUCszmGP6uvlvXA+Xw/fe9/P2ZUeT8/ZjhFeOeHP/3bw6LR0IU/vRD5Zkmjij+p0UK046KHP1/iVl5NFIY/olUrJrHghj9VA2QhhE2DP2Pv5DI9AoQ/i0Om1GGtgj9Rsh5Ny66AP6kZb0fpwIA/WdfrMVY/gD8tDQpDjlmBP0aLkuTIEYI/HrfMdP5ujT+jOUEhZ1WePzian5WLX5c/e/wFHev76T/HM9cKwzXoP3QOvPZOE+0/mHi+xPE37D91hpI+EmjsPy8e7y0mkus/6IXe1Km56z+Cm3BNe0HqP04QNLeat+c/UkQVUJIi6T80zCyvdJ7nP8gXbQnMx+c/5+aBfLQa5T/nma2iP+ziP2ZA69NJMuE/idywo48G3T9QdwwbCibWP9YnKc20Qcc/kso+qEpJ0z+IC2TwHB/oP5r8gAGzheY/ACodHsds5T+To7g4cz7lPw5KHM6EWeU/BOHkLIUD5T92KUuoWrrkP9WHK1O8U+Q/4kH/YURO5D8C65QgfLzjP6TXQ9y1OOQ/OQiOGhZc5D9n1WX8vHrkPwurqPhph+Q/0G2rAFrM5D9P88YkvynlP8hHWax+W+U/xkkmS2H/5D8NLpyLg/XjP1BfvjOVtuQ/Fg/jNkAZ5T/lTowHxrvlP5TGe5ByBeY/4JMUjUga5D+0TzdNwkLjP0oHN+31heM/29BOQpsr4z9eG5Cs0tHnP5p6tc/mB+k/iBg+u2bb7T+Guv5zEiLuP6n/tUUVbu4/aGGD4mCF7j+SYamghIvuP4YuPlk3nuo/8qviXhPp3z9emsOsEAzTP5n9BgZq2OA/ibLBPXQz4T/u8D3+UOvRP763E4QDvdE/EDPnuxidxz+YBTP3/FTMP/7h6psBos4//diX0cyV0D/UzHJ7Y/7KP2zv1Hnbxs8/MjibQSyV0T8sjDEKMYvDPzCllldFtsU/pGk1/veGvT98WFhmzKrEP4JbetROJcY/pNO4LDWTvD+E2w4kcLK1PwBYl2GyeLg/JEe8R2DMsz/sdgisn7y9P6CK/pb2fLo/90rZZ62JqD9m4QpApj6hP3lmBwrev5s/MwWeqIYslj+q+hpT0DjEPy8vW1qT6bM/AXUfgHQXsD8QgEmTwje0P2ULXlOPwLM/IPX5F/mbsT/ns3mX2OCyPxT97GZgB7U/YDUz8r9osz+w6a8vRMOyP1ut/15Hfq8/tTMkSqgTsT9emqgQEfuwP0MuXyhE0bE/brVUMseosj8Ubv80U/6yPxBPCpg+G7M/lN2ufR9Msz8K+J1MP1izP1S5O5HYarM/LRStjJtpsz/2+8tjza+zPyOZyNODLrI/PXDQo8josT+sLSzVVKmRP4uHYF/zFYg/z1sywUkNaT9wMrD0eUc7P2V5jlw/9uk+9ckFbIhETT+ygTUIqzWVP8wG9ArkQcQ/RfCwnp/IsT9AEQK0i7WwP9kKgcjHc6s/Iec9XdhMrj+7wlcWy8SyP8tUkOLC0bI/AOyWLLm/sT+uXLw4FtvFP9x1mTL+L8k/JIowhSCRwD/cTwP8T7fEP5mX8T6BjdQ/OtJ7345Axz88X9KCQDPSP65poG38Fsw/xDDsWsC81D856mZ079vdP3D0xAG8RdE/OIoay81Etj9Iwx4Qyi22P+AsJet/rbU/KMIvqIFrtz+oi77jUA+7P6T/B0oF4Lk/YNNhldF9uj/4h+Ixram7P5wN30CyDZs/Cqyse9kTqj+/RyTUUEeqP1gQPMyg77c/TN/F43WGtT8IcmXdHQa7P5huioxNBbo/qEbYiGzZtT/MGb4CM/i2P9wOnc89YLY/SBw9niFHuj8QYITIANS2PwggQN2VNbk/fBlJE5/auD9QCS4++EW3P+ALIoG2zLY/SJ2Uc9+xtj/0GAtS4D+1P/xLAjOsX7Q/NDPH3Co/tD+wtmOL7Mu0P8ydPJaw0LU/aOlfqXDutD+0R0VyfAm2P0Sm+o/sB7g/hP7rrg4IuT+4ArR+5Pu6P/AjBQOYlbo/TOLwY5AxuD+0FvfwPLavP9JxuxFC8LM/vBiXQm7lvD9oBc5Wb+y8P6Scr2tHRrw/KEXU5xFQvD9APIw1pFa9PxRdu+0WIcM/rJObXcTTwj90d4lUK/bAP/oukLAt+6s/SpDimRaVqT/MybBOV8m0P7w4wQXRBK0/oRg5r8g8lT+U7lPIsBm2P8Rr5uZ+hpg/Q0hN2l4jrD94hLnxKhaMP8l5XbbjT2I/E3J+MDGJpD/lURMS7DTWP4CKBkXlfM4/MsIqix4e5T+5K+uS0IPmP926zL6DgOc/Pg2YeKVr6z8vxCaLuRzsP79HpwGvGuo/Qt5+EUeP6T8BtY8JlAXtP3y2Gg237es/olZcX8sc6T9Kit0U6JntP4qEMstAUO0/ieBy3y017D918fGFgQXnP26OPihyW+I/fMJJ+QEN0T/QrSIWNzLTP7x3NeGGPtY/pBloJDAC0D9s0BKAqLjLP/nfEA1r6dI/nnYqXYwT1D+kO7/F/XbPP1rdQTnc8s0/zFKC+hXgyT8QqBiIZ8XHP6ZuANxjeMc/VlUiR09IxD/Q9lTYvZHIPxLy3KS7K8U/fMz7jVW7wD8cHGfvZgq/P/TZpm6qU7g/Xc3Ec6pfsT+nuZTR7FqxP7aeoQli/7I/CHZx+weFwT8wE06R+PXAP3BYyvbZTrs/pG7tLVVXvz8Kv/GDbZ3DP3Y9Hziq2MM/vMAllLvDyT8e8n8HFZbFP+5qI1/7V8Y/OmGXz58xxz+ocna7WfjIP8Z16aXQX8k/TuZia+BKyT8as6XVwsLJP0Q84z/o28o/5hx0obAFzD+Q8xC3VlTfP67cc6ghAdc/JuNZqrf74D8+ihmf41zmP5UeeLLd4OI/yyb2MJEy2T93sredZlDhPwr9xjDmDOA/V/hARPUq3D8KzcIZtl3SPzod38frRc8/PIQVjVxazz8UlZrUs93MP4yuKET33rQ/GBEZP0UqtT/4ZN1waeC4P/C/tFmpSns/FQpEo71nZT/4Et/cRgpWP19bHU/JUnM/FF7LFtmahj8wGjq8tFTYP9ExrshuEtw/fJusXOzr2z8eleq8PLjePwIF91duMNs/bSx+nBqy2T/Qlj4fHJHcPzSq/Kuo1uE/RO3gOovw4j9/Euncdb3eP8inehRDjNs/WrsGzkT23T9kdQWpQFrdP0L6pG/HmNs/GDONGTMM2j+0LffyH5zXPw4eURUaBtg/EGPIdFlV1z9gQ+uyNh7cP2kdsVFQ0dc/ePGo7AK51j9MJBIUH0HbP9B7xhEQjdk/rnnt0OZa2T/lHSt0DqrYP4r1ndI7Wdc/PDokuVYH2D+S3Jiw8jvbP0QOUn/jnt8/eBybdctw3z+PeHkUKPLeP/773ILm0dw/LJ3NE/Uz1z8mhgwDLrXQPy7CTJJ3mNA/Mk5cBJJq0T8NSDrpijLSP+KfeRFNhdA/yK6njY310D+6Cf/Y1v/GP2oq3mdx57A/oBIX01fdtD9mjV60b2TEP7rHNDhBfKQ/ruO54HtCoz/4RIOuHS2qP9wfTno6prk/uPyWqvHFtD9YSfJk9rm0PwgQs4Ra27Q/fGoBL8uptD/+VdQJT9axP3bIbrIIOrE/4/o/tNSUpj8dHQtYrfyjP8jEh3KsT6c//uSlfu2FrT/YHfBYW+G3PxSeN5y84r8/NEg6dit9wT/Kru3amMzDP/o5lgMWE8Q/kJs8GnTExj9qhnTKrVvFP1glC84GTsI/",
          "dtype": "f8"
         }
        }
       ],
       "layout": {
        "annotations": [
         {
          "showarrow": false,
          "text": "Significance threshold (0.05)",
          "x": 1,
          "xanchor": "right",
          "xref": "x domain",
          "y": 0.05,
          "yanchor": "top",
          "yref": "y"
         }
        ],
        "shapes": [
         {
          "line": {
           "color": "red",
           "dash": "dash"
          },
          "type": "line",
          "x0": 0,
          "x1": 1,
          "xref": "x domain",
          "y0": 0.05,
          "y1": 0.05,
          "yref": "y"
         }
        ],
        "template": {
         "data": {
          "bar": [
           {
            "error_x": {
             "color": "#2a3f5f"
            },
            "error_y": {
             "color": "#2a3f5f"
            },
            "marker": {
             "line": {
              "color": "#E5ECF6",
              "width": 0.5
             },
             "pattern": {
              "fillmode": "overlay",
              "size": 10,
              "solidity": 0.2
             }
            },
            "type": "bar"
           }
          ],
          "barpolar": [
           {
            "marker": {
             "line": {
              "color": "#E5ECF6",
              "width": 0.5
             },
             "pattern": {
              "fillmode": "overlay",
              "size": 10,
              "solidity": 0.2
             }
            },
            "type": "barpolar"
           }
          ],
          "carpet": [
           {
            "aaxis": {
             "endlinecolor": "#2a3f5f",
             "gridcolor": "white",
             "linecolor": "white",
             "minorgridcolor": "white",
             "startlinecolor": "#2a3f5f"
            },
            "baxis": {
             "endlinecolor": "#2a3f5f",
             "gridcolor": "white",
             "linecolor": "white",
             "minorgridcolor": "white",
             "startlinecolor": "#2a3f5f"
            },
            "type": "carpet"
           }
          ],
          "choropleth": [
           {
            "colorbar": {
             "outlinewidth": 0,
             "ticks": ""
            },
            "type": "choropleth"
           }
          ],
          "contour": [
           {
            "colorbar": {
             "outlinewidth": 0,
             "ticks": ""
            },
            "colorscale": [
             [
              0,
              "#0d0887"
             ],
             [
              0.1111111111111111,
              "#46039f"
             ],
             [
              0.2222222222222222,
              "#7201a8"
             ],
             [
              0.3333333333333333,
              "#9c179e"
             ],
             [
              0.4444444444444444,
              "#bd3786"
             ],
             [
              0.5555555555555556,
              "#d8576b"
             ],
             [
              0.6666666666666666,
              "#ed7953"
             ],
             [
              0.7777777777777778,
              "#fb9f3a"
             ],
             [
              0.8888888888888888,
              "#fdca26"
             ],
             [
              1,
              "#f0f921"
             ]
            ],
            "type": "contour"
           }
          ],
          "contourcarpet": [
           {
            "colorbar": {
             "outlinewidth": 0,
             "ticks": ""
            },
            "type": "contourcarpet"
           }
          ],
          "heatmap": [
           {
            "colorbar": {
             "outlinewidth": 0,
             "ticks": ""
            },
            "colorscale": [
             [
              0,
              "#0d0887"
             ],
             [
              0.1111111111111111,
              "#46039f"
             ],
             [
              0.2222222222222222,
              "#7201a8"
             ],
             [
              0.3333333333333333,
              "#9c179e"
             ],
             [
              0.4444444444444444,
              "#bd3786"
             ],
             [
              0.5555555555555556,
              "#d8576b"
             ],
             [
              0.6666666666666666,
              "#ed7953"
             ],
             [
              0.7777777777777778,
              "#fb9f3a"
             ],
             [
              0.8888888888888888,
              "#fdca26"
             ],
             [
              1,
              "#f0f921"
             ]
            ],
            "type": "heatmap"
           }
          ],
          "histogram": [
           {
            "marker": {
             "pattern": {
              "fillmode": "overlay",
              "size": 10,
              "solidity": 0.2
             }
            },
            "type": "histogram"
           }
          ],
          "histogram2d": [
           {
            "colorbar": {
             "outlinewidth": 0,
             "ticks": ""
            },
            "colorscale": [
             [
              0,
              "#0d0887"
             ],
             [
              0.1111111111111111,
              "#46039f"
             ],
             [
              0.2222222222222222,
              "#7201a8"
             ],
             [
              0.3333333333333333,
              "#9c179e"
             ],
             [
              0.4444444444444444,
              "#bd3786"
             ],
             [
              0.5555555555555556,
              "#d8576b"
             ],
             [
              0.6666666666666666,
              "#ed7953"
             ],
             [
              0.7777777777777778,
              "#fb9f3a"
             ],
             [
              0.8888888888888888,
              "#fdca26"
             ],
             [
              1,
              "#f0f921"
             ]
            ],
            "type": "histogram2d"
           }
          ],
          "histogram2dcontour": [
           {
            "colorbar": {
             "outlinewidth": 0,
             "ticks": ""
            },
            "colorscale": [
             [
              0,
              "#0d0887"
             ],
             [
              0.1111111111111111,
              "#46039f"
             ],
             [
              0.2222222222222222,
              "#7201a8"
             ],
             [
              0.3333333333333333,
              "#9c179e"
             ],
             [
              0.4444444444444444,
              "#bd3786"
             ],
             [
              0.5555555555555556,
              "#d8576b"
             ],
             [
              0.6666666666666666,
              "#ed7953"
             ],
             [
              0.7777777777777778,
              "#fb9f3a"
             ],
             [
              0.8888888888888888,
              "#fdca26"
             ],
             [
              1,
              "#f0f921"
             ]
            ],
            "type": "histogram2dcontour"
           }
          ],
          "mesh3d": [
           {
            "colorbar": {
             "outlinewidth": 0,
             "ticks": ""
            },
            "type": "mesh3d"
           }
          ],
          "parcoords": [
           {
            "line": {
             "colorbar": {
              "outlinewidth": 0,
              "ticks": ""
             }
            },
            "type": "parcoords"
           }
          ],
          "pie": [
           {
            "automargin": true,
            "type": "pie"
           }
          ],
          "scatter": [
           {
            "fillpattern": {
             "fillmode": "overlay",
             "size": 10,
             "solidity": 0.2
            },
            "type": "scatter"
           }
          ],
          "scatter3d": [
           {
            "line": {
             "colorbar": {
              "outlinewidth": 0,
              "ticks": ""
             }
            },
            "marker": {
             "colorbar": {
              "outlinewidth": 0,
              "ticks": ""
             }
            },
            "type": "scatter3d"
           }
          ],
          "scattercarpet": [
           {
            "marker": {
             "colorbar": {
              "outlinewidth": 0,
              "ticks": ""
             }
            },
            "type": "scattercarpet"
           }
          ],
          "scattergeo": [
           {
            "marker": {
             "colorbar": {
              "outlinewidth": 0,
              "ticks": ""
             }
            },
            "type": "scattergeo"
           }
          ],
          "scattergl": [
           {
            "marker": {
             "colorbar": {
              "outlinewidth": 0,
              "ticks": ""
             }
            },
            "type": "scattergl"
           }
          ],
          "scattermap": [
           {
            "marker": {
             "colorbar": {
              "outlinewidth": 0,
              "ticks": ""
             }
            },
            "type": "scattermap"
           }
          ],
          "scattermapbox": [
           {
            "marker": {
             "colorbar": {
              "outlinewidth": 0,
              "ticks": ""
             }
            },
            "type": "scattermapbox"
           }
          ],
          "scatterpolar": [
           {
            "marker": {
             "colorbar": {
              "outlinewidth": 0,
              "ticks": ""
             }
            },
            "type": "scatterpolar"
           }
          ],
          "scatterpolargl": [
           {
            "marker": {
             "colorbar": {
              "outlinewidth": 0,
              "ticks": ""
             }
            },
            "type": "scatterpolargl"
           }
          ],
          "scatterternary": [
           {
            "marker": {
             "colorbar": {
              "outlinewidth": 0,
              "ticks": ""
             }
            },
            "type": "scatterternary"
           }
          ],
          "surface": [
           {
            "colorbar": {
             "outlinewidth": 0,
             "ticks": ""
            },
            "colorscale": [
             [
              0,
              "#0d0887"
             ],
             [
              0.1111111111111111,
              "#46039f"
             ],
             [
              0.2222222222222222,
              "#7201a8"
             ],
             [
              0.3333333333333333,
              "#9c179e"
             ],
             [
              0.4444444444444444,
              "#bd3786"
             ],
             [
              0.5555555555555556,
              "#d8576b"
             ],
             [
              0.6666666666666666,
              "#ed7953"
             ],
             [
              0.7777777777777778,
              "#fb9f3a"
             ],
             [
              0.8888888888888888,
              "#fdca26"
             ],
             [
              1,
              "#f0f921"
             ]
            ],
            "type": "surface"
           }
          ],
          "table": [
           {
            "cells": {
             "fill": {
              "color": "#EBF0F8"
             },
             "line": {
              "color": "white"
             }
            },
            "header": {
             "fill": {
              "color": "#C8D4E3"
             },
             "line": {
              "color": "white"
             }
            },
            "type": "table"
           }
          ]
         },
         "layout": {
          "annotationdefaults": {
           "arrowcolor": "#2a3f5f",
           "arrowhead": 0,
           "arrowwidth": 1
          },
          "autotypenumbers": "strict",
          "coloraxis": {
           "colorbar": {
            "outlinewidth": 0,
            "ticks": ""
           }
          },
          "colorscale": {
           "diverging": [
            [
             0,
             "#8e0152"
            ],
            [
             0.1,
             "#c51b7d"
            ],
            [
             0.2,
             "#de77ae"
            ],
            [
             0.3,
             "#f1b6da"
            ],
            [
             0.4,
             "#fde0ef"
            ],
            [
             0.5,
             "#f7f7f7"
            ],
            [
             0.6,
             "#e6f5d0"
            ],
            [
             0.7,
             "#b8e186"
            ],
            [
             0.8,
             "#7fbc41"
            ],
            [
             0.9,
             "#4d9221"
            ],
            [
             1,
             "#276419"
            ]
           ],
           "sequential": [
            [
             0,
             "#0d0887"
            ],
            [
             0.1111111111111111,
             "#46039f"
            ],
            [
             0.2222222222222222,
             "#7201a8"
            ],
            [
             0.3333333333333333,
             "#9c179e"
            ],
            [
             0.4444444444444444,
             "#bd3786"
            ],
            [
             0.5555555555555556,
             "#d8576b"
            ],
            [
             0.6666666666666666,
             "#ed7953"
            ],
            [
             0.7777777777777778,
             "#fb9f3a"
            ],
            [
             0.8888888888888888,
             "#fdca26"
            ],
            [
             1,
             "#f0f921"
            ]
           ],
           "sequentialminus": [
            [
             0,
             "#0d0887"
            ],
            [
             0.1111111111111111,
             "#46039f"
            ],
            [
             0.2222222222222222,
             "#7201a8"
            ],
            [
             0.3333333333333333,
             "#9c179e"
            ],
            [
             0.4444444444444444,
             "#bd3786"
            ],
            [
             0.5555555555555556,
             "#d8576b"
            ],
            [
             0.6666666666666666,
             "#ed7953"
            ],
            [
             0.7777777777777778,
             "#fb9f3a"
            ],
            [
             0.8888888888888888,
             "#fdca26"
            ],
            [
             1,
             "#f0f921"
            ]
           ]
          },
          "colorway": [
           "#636efa",
           "#EF553B",
           "#00cc96",
           "#ab63fa",
           "#FFA15A",
           "#19d3f3",
           "#FF6692",
           "#B6E880",
           "#FF97FF",
           "#FECB52"
          ],
          "font": {
           "color": "#2a3f5f"
          },
          "geo": {
           "bgcolor": "white",
           "lakecolor": "white",
           "landcolor": "#E5ECF6",
           "showlakes": true,
           "showland": true,
           "subunitcolor": "white"
          },
          "hoverlabel": {
           "align": "left"
          },
          "hovermode": "closest",
          "mapbox": {
           "style": "light"
          },
          "paper_bgcolor": "white",
          "plot_bgcolor": "#E5ECF6",
          "polar": {
           "angularaxis": {
            "gridcolor": "white",
            "linecolor": "white",
            "ticks": ""
           },
           "bgcolor": "#E5ECF6",
           "radialaxis": {
            "gridcolor": "white",
            "linecolor": "white",
            "ticks": ""
           }
          },
          "scene": {
           "xaxis": {
            "backgroundcolor": "#E5ECF6",
            "gridcolor": "white",
            "gridwidth": 2,
            "linecolor": "white",
            "showbackground": true,
            "ticks": "",
            "zerolinecolor": "white"
           },
           "yaxis": {
            "backgroundcolor": "#E5ECF6",
            "gridcolor": "white",
            "gridwidth": 2,
            "linecolor": "white",
            "showbackground": true,
            "ticks": "",
            "zerolinecolor": "white"
           },
           "zaxis": {
            "backgroundcolor": "#E5ECF6",
            "gridcolor": "white",
            "gridwidth": 2,
            "linecolor": "white",
            "showbackground": true,
            "ticks": "",
            "zerolinecolor": "white"
           }
          },
          "shapedefaults": {
           "line": {
            "color": "#2a3f5f"
           }
          },
          "ternary": {
           "aaxis": {
            "gridcolor": "white",
            "linecolor": "white",
            "ticks": ""
           },
           "baxis": {
            "gridcolor": "white",
            "linecolor": "white",
            "ticks": ""
           },
           "bgcolor": "#E5ECF6",
           "caxis": {
            "gridcolor": "white",
            "linecolor": "white",
            "ticks": ""
           }
          },
          "title": {
           "x": 0.05
          },
          "xaxis": {
           "automargin": true,
           "gridcolor": "white",
           "linecolor": "white",
           "ticks": "",
           "title": {
            "standoff": 15
           },
           "zerolinecolor": "white",
           "zerolinewidth": 2
          },
          "yaxis": {
           "automargin": true,
           "gridcolor": "white",
           "linecolor": "white",
           "ticks": "",
           "title": {
            "standoff": 15
           },
           "zerolinecolor": "white",
           "zerolinewidth": 2
          }
         }
        },
        "title": {
         "text": "Rolling ADF Test on Spread (window=60)"
        },
        "xaxis": {
         "title": {
          "text": "timestamp"
         }
        },
        "yaxis": {
         "title": {
          "text": "p-value"
         }
        }
       }
      }
     },
     "metadata": {},
     "output_type": "display_data"
    }
   ],
   "source": [
    "fig = go.Figure()\n",
    "rolling_window = 60\n",
    "fig.add_trace(go.Scatter(x=rolling_adf_df[\"timestamp\"], y=rolling_adf_df[\"p_value\"], mode=\"lines\", name=\"Rolling ADF p-value\"))\n",
    "fig.add_hline(y=0.05, line_dash=\"dash\", line_color=\"red\", annotation_text=\"Significance threshold (0.05)\", annotation_position=\"bottom right\")\n",
    "fig.update_layout(title=f\"Rolling ADF Test on Spread (window={rolling_window})\", xaxis_title=\"timestamp\", yaxis_title=\"p-value\")\n",
    "fig.show()\n",
    "fig.write_html('html_plot/adf_test.html')"
   ]
  },
  {
   "cell_type": "code",
   "execution_count": 12,
   "id": "cec08f33",
   "metadata": {},
   "outputs": [
    {
     "data": {
      "application/vnd.plotly.v1+json": {
       "config": {
        "plotlyServerURL": "https://plot.ly"
       },
       "data": [
        {
         "mode": "lines",
         "name": "Spread",
         "type": "scatter",
         "x": {
          "bdata": "PAA9AD4APwBAAEEAQgBDAEQARQBGAEcASABJAEoASwBMAE0ATgBPAFAAUQBSAFMAVABVAFYAVwBYAFkAWgBbAFwAXQBeAF8AYABhAGIAYwBkAGUAZgBnAGgAaQBqAGsAbABtAG4AbwBwAHEAcgBzAHQAdQB2AHcAeAB5AHoAewB8AH0AfgB/AIAAgQCCAIMAhACFAIYAhwCIAIkAigCLAIwAjQCOAI8AkACRAJIAkwCUAJUAlgCXAJgAmQCaAJsAnACdAJ4AnwCgAKEAogCjAKQApQCmAKcAqACpAKoAqwCsAK0ArgCvALAAsQCyALMAtAC1ALYAtwC4ALkAugC7ALwAvQC+AL8AwADBAMIAwwDEAMUAxgDHAMgAyQDKAMsAzADNAM4AzwDQANEA0gDTANQA1QDWANcA2ADZANoA2wDcAN0A3gDfAOAA4QDiAOMA5ADlAOYA5wDoAOkA6gDrAOwA7QDuAO8A8ADxAPIA8wD0APUA9gD3APgA+QD6APsA/AD9AP4A/wAAAQEBAgEDAQQBBQEGAQcBCAEJAQoBCwEMAQ0BDgEPARABEQESARMBFAEVARYBFwEYARkBGgEbARwBHQEeAR8BIAEhASIBIwEkASUBJgEnASgBKQEqASsBLAEtAS4BLwEwATEBMgEzATQBNQE2ATcBOAE5AToBOwE8AT0BPgE/AUABQQFCAUMBRAFFAUYBRwFIAUkBSgFLAUwBTQFOAU8BUAFRAVIBUwFUAVUBVgFXAVgBWQFaAVsBXAFdAV4BXwFgAWEBYgFjAWQBZQFmAWcBaAFpAWoBawFsAW0BbgFvAXABcQFyAXMBdAF1AXYBdwF4AXkBegF7AXwBfQF+AX8BgAGBAYIBgwGEAYUBhgGHAYgBiQGKAYsBjAGNAY4BjwGQAZEBkgGTAZQBlQGWAZcBmAGZAZoBmwGcAZ0BngGfAaABoQGiAaMBpAGlAaYBpwGoAakBqgGrAawBrQGuAa8BsAGxAbIBswG0AbUBtgG3AbgBuQG6AbsBvAG9Ab4BvwHAAcEBwgHDAcQBxQHGAccByAHJAcoBywHMAc0BzgHPAdAB0QHSAdMB1AHVAdYB1wHYAdkB2gHbAdwB3QHeAd8B4AHhAeIB4wHkAeUB5gHnAegB6QHqAesB7AHtAe4B7wHwAfEB8gHzAfQB9QH2AfcB+AH5AfoB+wH8Af0B/gH/AQACAQICAgMCBAIFAgYCBwIIAgkCCgILAgwCDQIOAg8CEAIRAhICEwIUAhUCFgIXAhgCGQIaAhsCHAIdAh4CHwIgAiECIgIjAiQCJQImAicCKAIpAioCKwIsAi0CLgIvAjACMQIyAjMCNAI1AjYCNwI4AjkCOgI7AjwCPQI+Aj8CQAJBAkICQwJEAkUCRgJHAkgCSQJKAksCTAJNAk4CTwJQAlECUgJTAlQCVQJWAlcCWAJZAloCWwJcAl0CXgJfAmACYQJiAmMCZAJlAmYCZwJoAmkCagJrAmwCbQJuAm8CcAJxAnICcwJ0AnUCdgJ3AngCeQJ6AnsCfAJ9An4CfwKAAoECggKDAoQChQKGAocCiAKJAooCiwKMAo0CjgKPApACkQKSApMClAKVApYClwKYApkCmgKbApwCnQKeAp8CoAKhAqICowKkAqUCpgKnAqgCqQKqAqsCrAKtAq4CrwKwArECsgKzArQCtQK2ArcCuAK5AroCuwK8Ar0CvgK/AsACwQLCAsMCxALFAsYCxwLIAskC",
          "dtype": "i2"
         },
         "y": {
          "bdata": "M/r8MTD1BMB+QxyGnlgFwBN4M+7PZQPALc4ksFRQB8DMrTTe/8MEwAk0g9tRZQrA7EWDKz/ECsCyYLVX5ogKwFYvhn/9Ug7APkHtVbWvEsBUaN8aQAgWwDS3OCSAZhbAkI8LBrOqE8AKJFVCF90TwPLPZBoNZRXA6gny19zcFMDgdAxPDogTwJyyhSIfNhPA5M3bDy4REsDIj6OYJgoRwDVQAXy7UQzA0uCk3lHH/r8IM0d0i0rbv8DMQ5yoUOQ/ZlDPV6eW9j+Egk8kDSv6P46dbmBOPvc/uiFEymt5+T8FC+2EygL9P6ruwGZ1ZABA0AsBmMv0/D++KB/LQHb/PyBXsmzpEQBAnunSl6t8/z/oUc2bwz77P8wLGFekVPo/uChI2ro5+D9+rx1+65z2P6S4WQhalfM/IFtKvxlbyz92IgE2wav7v9APbF98EAjARGBHXtASD8D/de0HPPIQwL87NYk0JA/AhmvcRQPlBsByKjm7JcP3vwA1dAZx2Zw/ELK7gn9Tyr8gTz4QvJDgP8ifZmdMLfQ/ubX71P+u+T9G0ubZCtL9Pz5yqZ5AEP4/t3N7UY5G/j/0xJrbtzH5P7g3CV0a1vA/xGvlZer+7D+kDQmMavLpPwQVziMtT+c/wCPJmzAI4T8Y0sz4lgXgPzCSDmEYKcc/LMZNAaEy4b82ydBBoGz3v5oPrsp9RwTAXQVMNaHRCsCVztkc+CkMwD9UzdZ0CQrAGjSquu/HC8CUAYcLGl8MwJaiw6metgrAz52cMLyrBsB0Gklgo/IGwFmpt834HQjAHM5MIon2CcDfZl+cPr0HwKCWLBgyOAfAwVe9oLI7BMANd3Lj4yYDwJv/3ZpUhQDAS5/u56VBAMDmA28dCPX/v91tGWmUKQDAXLo/caO8/L/K4++ODtH7vxqamBbPZ/2/+BygAlpC/r+Yatjyrbj9v4JYn7fbKP+/JPi431iW/78ClEc+GuD9v2osTVEjNvy/6rlLGSZ/9b/ga0diyULqvyBimmP2K7I/1jGeg8jl+j9tOPjJfiIGQJ36+bSsTQVAwiHLqr+gAkBEybCAA3T/P/YfAAYfGPg/hSKP8AF19z8nwS4z6p31Px3PFaj0rvE/OJBVyuQH6j/skf9APy7mP2TvyzV7AuU/8C6NuvNh5T98zGWE0XrmP2g9JY2Qsec/nA6wPz9n5j/8I3r+2dToPwxXk75L0us/sJMZ12/i7T9GTbQioZTyP6U4aplS7vc/4FjkeiBg+D9B4NrfqoX6Pzrxu/7vw/g/DPa/2f1d/T+M79D9+b/+P1PA28PWvAZAVaDpC2vUCUAo1adYOAnlPwTzucBlcfy/ejqYxie2EMCa/U4QENoewOhshXII8h/AGDIgg8j8GsDcC9FHxKEawILnvG7VrBvAZlJ9AMOZHsAOq0vVO1sgwLT6G8twpyDAxN1KSkZWIMAJZ7EozDIgwKAakLwsWBzAhX3wZRBjGcC5UuBJaZMWwGBiZLnwrRTAZk2NVjBcD8AY2vHiWMT1v7Q/Pcj6P+C/oHhjB9eev7+QMHRm2fDdPwTZXrWV3+4/GFlMyTSI5T/IuPMPTr/WP9BFy2/hx+G/bmbUIwSa9L/qufvlpqr/vx44pAPcS/O/YB0MT0R2478Apnt01Fjmv+A4YgdJFbW/cLmZFWwmzj/8mI/Rts71v3AoEaNUUf2/njxxwRFJAsDeL7TAvHYCwMsXzgTpJgXAezbPXYYFBMCQx+OznlMDwFsYWrfL2wPA7xrHDseiBMDRHOWkL6ACwNhjxuwczf6/IngWpyop+r/S1GY/jc73v/jhYSjO8/K/xJJmzLn76b8UdQqT5UDiv8gj31l6lNe/0G+R8+225r/oy1LgULLtv/DBlaPsCP2/EwB8ph1iD8CdZbg0nQsJwHiudfCt4AHA6pKDV8Cg+b+i/jzlF1Tzv0aT6hKXJ/C/LvF9aMrQ8b+s7MuwdaH0v7ikq396gu6/COvZrXT44b8wBth1QLPCv2g36cQpINQ/rj2p11u45T/8+cv60w3rP+rCSN+fHfI/8ESSIAlE9T9Zj5C4UeD5P1kzC5EhNQBA8OgFQdMaAEBWbVY36m4BQJoabsIL3gFAIJDB9xmHAkBx5Tj9Yp4CQPZcrwV0hgJAns89tOKKA0AKUGujB7UEQMj3u4RV4wRAyFD4HWVIA0A7SS9e3WYBQK6LCIGddPs/FDd9aWzu7T/81MZImijzvw82w6Dg0A7AtIOF3J0SHcCB7kiypg8owIS3JtMGOzDAPnVfpsKUMsDT/m20vFw0wEGiMQ+JrzXASmpM7M4ONsAdq/KJxNY0wJLAPXkfUzPAGNAXuU9bM8AQ3KK9rUAxwGDERHETgy7APHzKactyK8Cwmfv3T7klwOwCqjPWChbA7NKkpEVf6T8kUsd25AkWQI5BM9yB5iJAwTdUofJzIUBSz6OaGPIbQH7A1S++BhpAggNy5byIF0B+kcO+6jEUQPG2PdozNxJAoJB+nke1B0D9bAfbm4X+P2APgY6BwuU/nuNqf2Dm87/zW2e7dc4PwGlcZ5kmZRrAapKOOvn9FcDQkn1mTwMTwPptTv7pzxTAHJ8FUmRaF8D4EZdbbbsXwAQcROOBOxjAWhL6VQ2PGMBuo+9uczkXwDyN3J0GXBHA910A85IIC8DAGmqk3yoBwOzI+fZSx/i/QkOjBqle9b/6Ci5Kgqjwv65SQRw31vO/fh1B5uBB9r9oqIUXhhfzvxxv/oDFK/O/IJl0mhed8L/Eh2r/+pTyv3KJIR1s/fi/VvncsA8JA8BqUINAmXoEwEesDqzcBwLAuH1w0aYRAMBcIdvo/IL7v9RpDywFovO/WOuvevs/1r/AXVgHGZ/RPxgvpCosod0/4PPZxoR96D+I+3xdE2XjP0hoNpGwk9M/kAxQsm37zT9whgpRZqTKP7BDNtpG+dI/4O7EV0IP5z8Pn0vzHyr6P6FwN21hSwVA31OlsR+mEkCkOj201DccQOoQipyStyFA4nAOEVlVJkCfqHbSDjAjQOk5j/9hEwFAiKRUANzs3r+osEoEeLryv7q15X+7s/e/eChtxH4L/b+8PXO2h3b/v0hPKD13Y/6/Wt3AYyPP+b8E7X2fjXn2v5gR1GHvre6/Oi+t3t/D8L8uvv6UE/XxvyAZzwAW8PS/Jroz4ffZ9b+E8ZV05w75v3A79MsSfP+/0s26It+uAMBGCR9PsXf8vyAAadwj89q/YG357W2Bzj8cA3AXVx/lP0j1AUiZguo/ZMOIhvsr6j9Sb+je+AH1P8Sb+UdvGPc/9E5sRyfx+D/WnKbVcK/6P2Uxd5tQ6/s/Z/wJzb7h+D/s8g38eMb6PyhZcvKc1e4/MP0870Fk0D+w4ESNCPTYv4rGrnJfgPO/M1RFp21pAsBKvv5xO5sLwLS35jIAXRLACDh4w7JPF8BWb7MSE3AXwA4PXZo4yCnA9LAk8ks3L8AqyqlMX20ywJyPtM1SbDPAnJwOAcr3M8AXEu8ZCOEzwDyvsyAK3DPAW99pz/YsM8CH3T7qcdYxwBe1TFKcoDHAjK7Vl03RMMCO6lHm+IkwwDybis27ky7A2vX06LKuK8CwMoTmuGkqwPfX4ENA8SnA+Fs5HaRUKMC61fIo3gAnwBX34bwMeSPAvb66ZoFcIMD/xuNW/XYfwNL0tFtFkh/AzhzvTKTxH8Bo+IhgbEwgwCXyIKOTxR7APo/seDHIHcCiWPL+Oq8dwD7xlG4V3xXAQtCcX2+0EcAqiuKdAOQMwNdDEo+pbAfA4vTY40qpBMCFgGwygvcBwPgyMfh2AQDAHufXUOPc/b9YOlgR2Ir4v4DrrjSNi/S/5K112BiO5r8ANNtreEGQP1g5t5D7p+Y/AmhVCxwQ9j/Xu8gYcLT8P6jDVY4Qn/g/0qyXVO196z9ULH2EYSTlP/iu1L7V3tw/vJ06bUyBBUB1EPXIabQRQBljr9TJGiNAGe/xuJcfKUA2uki6T1otQAQN5lQmCjBAOIMM+d7MMECWG6iKoKssQP+PC/U+5CJAro0EAIuIDkCz0tpaYrIEQD2gf5ZZWQBASoUzC9mAAkCNzY2t8uX8P9TcF4qCkOg/8EmNNndEwL+e6UExclnlP0z+p7sWBvw/b6JIowpEA0BweHLB14AKQL3EyzStbQpAX6k5r0rMBUBubS2vbJQBQJEiWHpUU/8/msVDZMXU/T9glkVNfT/5P6qT/VkWhOo//G7GTbn39r9orv4/IfwFwIv5ubgbVwvAdnDylyw6CsCmLDqz50kDwDCmmtAt5eK/TA1buFOb5j/WyPAW0UDtP0DS0QLboKG/tB7nV1B7GsBE1inj+GAbwNLOorJUmRrA+GwpcRDoFMBanZgBj/MRwAG0PwFeoQvAqqj2iLRGB8BlZSMgntwIwKaVAit3PwXAjGpnBAwUAcCwim1Js57lv/B/Ls09V8G/ILVc1Vv0wz+AqBKgKQPNP0AN+x+DfKs/wCIA6UdCo78AWaQpB4ugPwAw7K61RWm/ABaKvoBKrr9gNpCTVj+8v8CYT2ewYau/gC7CX3G4yL/QZnlrsuTHv8CJl39p47y/EEXTgQqCwz/EeGZwvALePxzda3hrSu8/RYPMzKJFBEDWvdlzuLsPQMCfTW2RLxdAZyZtXkpVFEBLK3rWjPIJQCLhVHIGkwFAqga/+Yqz+T/JKxB0Web0P0BqcAcAA/A/1HQGX2fM8j+qdgtoGH/mP4A/T7Zwou0/RIzDoI+OE0DQqIBD11UcQCew0D3tChxAYHOz5mZdG0B7lH06mbIeQFZ44trEdBhA6CTyTMXeGEDKT9G3P6UUQB77q2wWChdAYlTwv7NqHUBWE/1SpqUTQPOE/8jpxgDAuP94GMKXEcC1JX50nTcTwAKmrmu4zBHA5lf5/OyeDcAIxzhMTeIFwKfw/3MjXwLAb99R/Pr1AcA9rcega1kBwIPGfVEMhwLAjeEv5V5CBcDqiCXeIIUIwD7aLcvO2QnAZ4T+oripCsAu6Fk/gScKwPAigrScWQnAn9jdzEf+BcD3W3LrZi8BwFi81AvJbPe/EMJs1xPZ3r+YIUR1y9zhvwiA4GKmKNy/mJSn5xA94T8c+TvP/N39Pxmm9QoMzwFAqZA48uLN9z/Ah3DAK/DePwB4c8nttMC/JPr2IGIv6L/GfC+5y134v6Sb2ktql/e/esfOyDpY+b8gA015d3b+v/G9zgvbzQDAm/+xU3YiA8CTVO1GMkwFwO8XAyl/bAXA4k6ccrjKA8BCVyhlkC74v/Dr3vF7Jea/WPmrtIOR2L+AMrD7lmLJP2FDOc/XKfM/QqkvIrMsAEAlMfXT21UQQAKMSF5t4BJAvualVPhVEkDc6ErAWwwRQCf8LFiU5w9ApjV3BTUTD0DsdNREiosIQNEAyLoPGgdAZZua/+3EC0DR+dBtYdsIQAt5kFH+DQtAlqfoE3xmCkAv5MxwkgQMQNOhY9ivrg1AtDr7Rp1jD0DKLwv9kGYPQIgVif+wWxVAm9lI8+L7F0AW3KPfZ7UYQOlCLQ1koBpAVoJUT30XHUDU1TYngXkdQGoJwVXxcx1AAumcstmdIECMMKvBE3ghQPRO2aQsMyFAssQgB8NXI0AChjg6t5ckQFhNemd6uiRASheIAFEEI0CFdVYnFnwgQGiSZL/nxBNAP1nlbbd0BUCuWpqUr17sP/Dk549b8dq/YKZNCFN03r+w2VhQrqXlv4hXoiK2wN+/gG7xlT3DrD+Q4IQwsizBP9hlINlzVt8/X6/dUzKz8j/NiuS6xj72P1nUFDmcmfU/8NmNvPop9z+H2QdSGML4P0S5VnZs3vk/nLtrq2Np+j9qo6ZXtDr6P71jXuy7EgFAfZ5YcDyyAkAUab8SNjIBQCbsmunJpP0/cInrvlAi/T/elRMBoLf4P26loKT6svc/3j5ywzP6+T9qv3ENgVz9Pys9ksCM5f0/QimZHHUgAEDOUH5n1t4AQNcPA3OZWgFAACXsus2k/z8pLsJLzCr8P+b//hlKUPk/8bJs1wbe9T9BiJiNqkPxP3LcOhT2b+A/jGTMq0ZK+7+iI03gfKgAwLefiaV/zQjAFkyq4xKyEsAMZNgmf28UwApF1vUO1RHAN0UCYfVBE8DSe58CQDETwIbOCegWmBHAeVg69gdnDMBxWb1LNbEHwJXD9ePI7gLAFIk9udWt/b8E8GlAus32v4h5DcrKj/O/HJ5vy1Hp778yIV3M0nryvxo86njww/O/bmQJVfgA8L8wG4WMw6jgv7wNkaA0VeI/4MHrkjJR+j/9jwNcECEEQKl48TqjpgJAKphn/Fi6AUAOJUOWeBgAQC7hBloxEPw/lMQ9OJZ//T/NLYszs58EQFKZXLeufApAYp72Ap5JB0B348cHwFMDQAC50Xw/UgJAFYA/tQ9UAEBcd/f3hHX7P+jMnzTvm/Q/0BdthXpfyb8oiVsdx7rlv8Dq5CqRteW/3Y0Qg/pxAMAgXzsjbi71v+BExFaOXt6/FK95sBhK7b8QQLbAmQbtvyA4M0X4xro/9L5eL/yd4j8yWvjSAE/nP97XnvAYEPU/oD5rfMOpAUAPR0EBhtUKQPCrNOrGDg9Aj8+NmPgxEEDEPdRJ+ykOQJw403Tl/QdA1sibjHJ7+z9YQQQYWsvsP0aVWjWpZOE/oFpHsaHQzD8Yk9gqgifRv5DL3k4fEOO/bI7L1A2X7L8qmgbsJtXxvyhGYp0d/vO/QJxeAt+c6L/Mu15SCNvlvyQEIQIE8+W/xP2vfdc86b+0E/3/rPbqvzCvPRd/GOK/AESJfiaml7+Y2e5eOGLYPzCMQrFMr+c/he2RX6Lc8z/TUw8QwOryP/q44IoKr+k/lDIfHjG14T+o7SHr+wHTPwBrTp/Vdqw/0HJuGtLnz79QOsmCZ3Tnv5RFuDknivO/IrAp1zjC9L+QGPyOd8/1v1b7J/FSbve/gsSc+A/39L+6tPi6NQvzvwyQGZC4KvC/",
          "dtype": "f8"
         }
        },
        {
         "line": {
          "color": "black",
          "dash": "dash"
         },
         "mode": "lines",
         "name": "Zero Line",
         "type": "scatter",
         "x": [
          60,
          713
         ],
         "y": [
          0,
          0
         ]
        },
        {
         "line": {
          "color": "red",
          "dash": "dash"
         },
         "mode": "lines",
         "name": "+2σ",
         "type": "scatter",
         "x": [
          60,
          713
         ],
         "y": [
          9.251282311687573,
          9.251282311687573
         ]
        },
        {
         "line": {
          "color": "red",
          "dash": "dash"
         },
         "mode": "lines",
         "name": "-2σ",
         "type": "scatter",
         "x": [
          60,
          713
         ],
         "y": [
          -10.940117335566152,
          -10.940117335566152
         ]
        },
        {
         "line": {
          "color": "green",
          "dash": "dash"
         },
         "mode": "lines",
         "name": "+0.5σ",
         "type": "scatter",
         "x": [
          60,
          713
         ],
         "y": [
          1.679507443967426,
          1.679507443967426
         ]
        },
        {
         "line": {
          "color": "green",
          "dash": "dash"
         },
         "mode": "lines",
         "name": "-0.5σ",
         "type": "scatter",
         "x": [
          60,
          713
         ],
         "y": [
          -3.368342467846005,
          -3.368342467846005
         ]
        },
        {
         "marker": {
          "color": "blue",
          "size": 10
         },
         "mode": "markers",
         "name": "Entry",
         "type": "scatter",
         "x": {
          "bdata": "UgBkAGYAfQCaAJ0AtgDMAO0ADAEOARABHgFIAVMBbAF7AYABkgGuAbAByQHRAewB7gH5AQMCFgIvAkACUAJxAnQCiAKaAg==",
          "dtype": "i2"
         },
         "y": {
          "bdata": "CDNHdItK2792IgE2wav7v0RgR17QEg/Amg+uyn1HBMDga0diyULqv204+Ml+IgZAU8Dbw9a8BkCgeGMH156/vxMAfKYdYg/A/NTGSJoo87+0g4XcnRIdwIS3JtMGOzDAJFLHduQJFkDAXVgHGZ/RP99TpbEfphJAHANwF1cf5T9Kvv5xO5sLwPSwJPJLNy/Avb66ZoFcIMB1EPXIabQRQBnv8biXHylAaK7+PyH8BcC0HudXUHsawEWDzMyiRQRAwJ9NbZEvF0DQqIBD11UcQPOE/8jpxgDAEMJs1xPZ3r8lMfXT21UQQJvZSPPi+xdArlqalK9e7D9BiJiNqkPxP6IjTeB8qADA4MHrkjJR+j/djRCD+nEAwA==",
          "dtype": "f8"
         }
        },
        {
         "marker": {
          "color": "purple",
          "size": 10
         },
         "mode": "markers",
         "name": "Exit",
         "type": "scatter",
         "x": {
          "bdata": "XABlAGsAhwCcAKUAwADTAO8ADQEPARoBKAFSAVgBdgF/AYoBnAGvAbYBzgHXAe0B8gH/AQ0CHwI5AkoCWgJzAn4CkgKfAg==",
          "dtype": "i2"
         },
         "y": {
          "bdata": "IFeybOkRAEDQD2xffBAIwAA1dAZx2Zw/HM5MIon2CcDWMZ6DyOX6PziQVcrkB+o/ZlJ9AMOZHsDqufvlpqr/v3iudfCt4AHADzbDoODQDsCB7kiypg8owDx8ymnLcivAYA+BjoHC5T+hcDdtYUsFQOk5j/9hEwFAKFly8pzV7j8OD12aOMgpwI7qUeb4iTDAKorinQDkDMAZY6/UyRojQK6NBACLiA5ATA1buFOb5j+qqPaItEYHwNa92XO4uw9Aqga/+Yqz+T/KT9G3P6UUQI3hL+VeQgXAJPr2IGIv6L8LeZBR/g0LQAKGODq3lyRAWdQUOZyZ9T+MZMyrRkr7v5XD9ePI7gLAd+PHB8BTA0AgODNF+Ma6Pw==",
          "dtype": "f8"
         }
        }
       ],
       "layout": {
        "template": {
         "data": {
          "bar": [
           {
            "error_x": {
             "color": "#2a3f5f"
            },
            "error_y": {
             "color": "#2a3f5f"
            },
            "marker": {
             "line": {
              "color": "white",
              "width": 0.5
             },
             "pattern": {
              "fillmode": "overlay",
              "size": 10,
              "solidity": 0.2
             }
            },
            "type": "bar"
           }
          ],
          "barpolar": [
           {
            "marker": {
             "line": {
              "color": "white",
              "width": 0.5
             },
             "pattern": {
              "fillmode": "overlay",
              "size": 10,
              "solidity": 0.2
             }
            },
            "type": "barpolar"
           }
          ],
          "carpet": [
           {
            "aaxis": {
             "endlinecolor": "#2a3f5f",
             "gridcolor": "#C8D4E3",
             "linecolor": "#C8D4E3",
             "minorgridcolor": "#C8D4E3",
             "startlinecolor": "#2a3f5f"
            },
            "baxis": {
             "endlinecolor": "#2a3f5f",
             "gridcolor": "#C8D4E3",
             "linecolor": "#C8D4E3",
             "minorgridcolor": "#C8D4E3",
             "startlinecolor": "#2a3f5f"
            },
            "type": "carpet"
           }
          ],
          "choropleth": [
           {
            "colorbar": {
             "outlinewidth": 0,
             "ticks": ""
            },
            "type": "choropleth"
           }
          ],
          "contour": [
           {
            "colorbar": {
             "outlinewidth": 0,
             "ticks": ""
            },
            "colorscale": [
             [
              0,
              "#0d0887"
             ],
             [
              0.1111111111111111,
              "#46039f"
             ],
             [
              0.2222222222222222,
              "#7201a8"
             ],
             [
              0.3333333333333333,
              "#9c179e"
             ],
             [
              0.4444444444444444,
              "#bd3786"
             ],
             [
              0.5555555555555556,
              "#d8576b"
             ],
             [
              0.6666666666666666,
              "#ed7953"
             ],
             [
              0.7777777777777778,
              "#fb9f3a"
             ],
             [
              0.8888888888888888,
              "#fdca26"
             ],
             [
              1,
              "#f0f921"
             ]
            ],
            "type": "contour"
           }
          ],
          "contourcarpet": [
           {
            "colorbar": {
             "outlinewidth": 0,
             "ticks": ""
            },
            "type": "contourcarpet"
           }
          ],
          "heatmap": [
           {
            "colorbar": {
             "outlinewidth": 0,
             "ticks": ""
            },
            "colorscale": [
             [
              0,
              "#0d0887"
             ],
             [
              0.1111111111111111,
              "#46039f"
             ],
             [
              0.2222222222222222,
              "#7201a8"
             ],
             [
              0.3333333333333333,
              "#9c179e"
             ],
             [
              0.4444444444444444,
              "#bd3786"
             ],
             [
              0.5555555555555556,
              "#d8576b"
             ],
             [
              0.6666666666666666,
              "#ed7953"
             ],
             [
              0.7777777777777778,
              "#fb9f3a"
             ],
             [
              0.8888888888888888,
              "#fdca26"
             ],
             [
              1,
              "#f0f921"
             ]
            ],
            "type": "heatmap"
           }
          ],
          "histogram": [
           {
            "marker": {
             "pattern": {
              "fillmode": "overlay",
              "size": 10,
              "solidity": 0.2
             }
            },
            "type": "histogram"
           }
          ],
          "histogram2d": [
           {
            "colorbar": {
             "outlinewidth": 0,
             "ticks": ""
            },
            "colorscale": [
             [
              0,
              "#0d0887"
             ],
             [
              0.1111111111111111,
              "#46039f"
             ],
             [
              0.2222222222222222,
              "#7201a8"
             ],
             [
              0.3333333333333333,
              "#9c179e"
             ],
             [
              0.4444444444444444,
              "#bd3786"
             ],
             [
              0.5555555555555556,
              "#d8576b"
             ],
             [
              0.6666666666666666,
              "#ed7953"
             ],
             [
              0.7777777777777778,
              "#fb9f3a"
             ],
             [
              0.8888888888888888,
              "#fdca26"
             ],
             [
              1,
              "#f0f921"
             ]
            ],
            "type": "histogram2d"
           }
          ],
          "histogram2dcontour": [
           {
            "colorbar": {
             "outlinewidth": 0,
             "ticks": ""
            },
            "colorscale": [
             [
              0,
              "#0d0887"
             ],
             [
              0.1111111111111111,
              "#46039f"
             ],
             [
              0.2222222222222222,
              "#7201a8"
             ],
             [
              0.3333333333333333,
              "#9c179e"
             ],
             [
              0.4444444444444444,
              "#bd3786"
             ],
             [
              0.5555555555555556,
              "#d8576b"
             ],
             [
              0.6666666666666666,
              "#ed7953"
             ],
             [
              0.7777777777777778,
              "#fb9f3a"
             ],
             [
              0.8888888888888888,
              "#fdca26"
             ],
             [
              1,
              "#f0f921"
             ]
            ],
            "type": "histogram2dcontour"
           }
          ],
          "mesh3d": [
           {
            "colorbar": {
             "outlinewidth": 0,
             "ticks": ""
            },
            "type": "mesh3d"
           }
          ],
          "parcoords": [
           {
            "line": {
             "colorbar": {
              "outlinewidth": 0,
              "ticks": ""
             }
            },
            "type": "parcoords"
           }
          ],
          "pie": [
           {
            "automargin": true,
            "type": "pie"
           }
          ],
          "scatter": [
           {
            "fillpattern": {
             "fillmode": "overlay",
             "size": 10,
             "solidity": 0.2
            },
            "type": "scatter"
           }
          ],
          "scatter3d": [
           {
            "line": {
             "colorbar": {
              "outlinewidth": 0,
              "ticks": ""
             }
            },
            "marker": {
             "colorbar": {
              "outlinewidth": 0,
              "ticks": ""
             }
            },
            "type": "scatter3d"
           }
          ],
          "scattercarpet": [
           {
            "marker": {
             "colorbar": {
              "outlinewidth": 0,
              "ticks": ""
             }
            },
            "type": "scattercarpet"
           }
          ],
          "scattergeo": [
           {
            "marker": {
             "colorbar": {
              "outlinewidth": 0,
              "ticks": ""
             }
            },
            "type": "scattergeo"
           }
          ],
          "scattergl": [
           {
            "marker": {
             "colorbar": {
              "outlinewidth": 0,
              "ticks": ""
             }
            },
            "type": "scattergl"
           }
          ],
          "scattermap": [
           {
            "marker": {
             "colorbar": {
              "outlinewidth": 0,
              "ticks": ""
             }
            },
            "type": "scattermap"
           }
          ],
          "scattermapbox": [
           {
            "marker": {
             "colorbar": {
              "outlinewidth": 0,
              "ticks": ""
             }
            },
            "type": "scattermapbox"
           }
          ],
          "scatterpolar": [
           {
            "marker": {
             "colorbar": {
              "outlinewidth": 0,
              "ticks": ""
             }
            },
            "type": "scatterpolar"
           }
          ],
          "scatterpolargl": [
           {
            "marker": {
             "colorbar": {
              "outlinewidth": 0,
              "ticks": ""
             }
            },
            "type": "scatterpolargl"
           }
          ],
          "scatterternary": [
           {
            "marker": {
             "colorbar": {
              "outlinewidth": 0,
              "ticks": ""
             }
            },
            "type": "scatterternary"
           }
          ],
          "surface": [
           {
            "colorbar": {
             "outlinewidth": 0,
             "ticks": ""
            },
            "colorscale": [
             [
              0,
              "#0d0887"
             ],
             [
              0.1111111111111111,
              "#46039f"
             ],
             [
              0.2222222222222222,
              "#7201a8"
             ],
             [
              0.3333333333333333,
              "#9c179e"
             ],
             [
              0.4444444444444444,
              "#bd3786"
             ],
             [
              0.5555555555555556,
              "#d8576b"
             ],
             [
              0.6666666666666666,
              "#ed7953"
             ],
             [
              0.7777777777777778,
              "#fb9f3a"
             ],
             [
              0.8888888888888888,
              "#fdca26"
             ],
             [
              1,
              "#f0f921"
             ]
            ],
            "type": "surface"
           }
          ],
          "table": [
           {
            "cells": {
             "fill": {
              "color": "#EBF0F8"
             },
             "line": {
              "color": "white"
             }
            },
            "header": {
             "fill": {
              "color": "#C8D4E3"
             },
             "line": {
              "color": "white"
             }
            },
            "type": "table"
           }
          ]
         },
         "layout": {
          "annotationdefaults": {
           "arrowcolor": "#2a3f5f",
           "arrowhead": 0,
           "arrowwidth": 1
          },
          "autotypenumbers": "strict",
          "coloraxis": {
           "colorbar": {
            "outlinewidth": 0,
            "ticks": ""
           }
          },
          "colorscale": {
           "diverging": [
            [
             0,
             "#8e0152"
            ],
            [
             0.1,
             "#c51b7d"
            ],
            [
             0.2,
             "#de77ae"
            ],
            [
             0.3,
             "#f1b6da"
            ],
            [
             0.4,
             "#fde0ef"
            ],
            [
             0.5,
             "#f7f7f7"
            ],
            [
             0.6,
             "#e6f5d0"
            ],
            [
             0.7,
             "#b8e186"
            ],
            [
             0.8,
             "#7fbc41"
            ],
            [
             0.9,
             "#4d9221"
            ],
            [
             1,
             "#276419"
            ]
           ],
           "sequential": [
            [
             0,
             "#0d0887"
            ],
            [
             0.1111111111111111,
             "#46039f"
            ],
            [
             0.2222222222222222,
             "#7201a8"
            ],
            [
             0.3333333333333333,
             "#9c179e"
            ],
            [
             0.4444444444444444,
             "#bd3786"
            ],
            [
             0.5555555555555556,
             "#d8576b"
            ],
            [
             0.6666666666666666,
             "#ed7953"
            ],
            [
             0.7777777777777778,
             "#fb9f3a"
            ],
            [
             0.8888888888888888,
             "#fdca26"
            ],
            [
             1,
             "#f0f921"
            ]
           ],
           "sequentialminus": [
            [
             0,
             "#0d0887"
            ],
            [
             0.1111111111111111,
             "#46039f"
            ],
            [
             0.2222222222222222,
             "#7201a8"
            ],
            [
             0.3333333333333333,
             "#9c179e"
            ],
            [
             0.4444444444444444,
             "#bd3786"
            ],
            [
             0.5555555555555556,
             "#d8576b"
            ],
            [
             0.6666666666666666,
             "#ed7953"
            ],
            [
             0.7777777777777778,
             "#fb9f3a"
            ],
            [
             0.8888888888888888,
             "#fdca26"
            ],
            [
             1,
             "#f0f921"
            ]
           ]
          },
          "colorway": [
           "#636efa",
           "#EF553B",
           "#00cc96",
           "#ab63fa",
           "#FFA15A",
           "#19d3f3",
           "#FF6692",
           "#B6E880",
           "#FF97FF",
           "#FECB52"
          ],
          "font": {
           "color": "#2a3f5f"
          },
          "geo": {
           "bgcolor": "white",
           "lakecolor": "white",
           "landcolor": "white",
           "showlakes": true,
           "showland": true,
           "subunitcolor": "#C8D4E3"
          },
          "hoverlabel": {
           "align": "left"
          },
          "hovermode": "closest",
          "mapbox": {
           "style": "light"
          },
          "paper_bgcolor": "white",
          "plot_bgcolor": "white",
          "polar": {
           "angularaxis": {
            "gridcolor": "#EBF0F8",
            "linecolor": "#EBF0F8",
            "ticks": ""
           },
           "bgcolor": "white",
           "radialaxis": {
            "gridcolor": "#EBF0F8",
            "linecolor": "#EBF0F8",
            "ticks": ""
           }
          },
          "scene": {
           "xaxis": {
            "backgroundcolor": "white",
            "gridcolor": "#DFE8F3",
            "gridwidth": 2,
            "linecolor": "#EBF0F8",
            "showbackground": true,
            "ticks": "",
            "zerolinecolor": "#EBF0F8"
           },
           "yaxis": {
            "backgroundcolor": "white",
            "gridcolor": "#DFE8F3",
            "gridwidth": 2,
            "linecolor": "#EBF0F8",
            "showbackground": true,
            "ticks": "",
            "zerolinecolor": "#EBF0F8"
           },
           "zaxis": {
            "backgroundcolor": "white",
            "gridcolor": "#DFE8F3",
            "gridwidth": 2,
            "linecolor": "#EBF0F8",
            "showbackground": true,
            "ticks": "",
            "zerolinecolor": "#EBF0F8"
           }
          },
          "shapedefaults": {
           "line": {
            "color": "#2a3f5f"
           }
          },
          "ternary": {
           "aaxis": {
            "gridcolor": "#DFE8F3",
            "linecolor": "#A2B1C6",
            "ticks": ""
           },
           "baxis": {
            "gridcolor": "#DFE8F3",
            "linecolor": "#A2B1C6",
            "ticks": ""
           },
           "bgcolor": "white",
           "caxis": {
            "gridcolor": "#DFE8F3",
            "linecolor": "#A2B1C6",
            "ticks": ""
           }
          },
          "title": {
           "x": 0.05
          },
          "xaxis": {
           "automargin": true,
           "gridcolor": "#EBF0F8",
           "linecolor": "#EBF0F8",
           "ticks": "",
           "title": {
            "standoff": 15
           },
           "zerolinecolor": "#EBF0F8",
           "zerolinewidth": 2
          },
          "yaxis": {
           "automargin": true,
           "gridcolor": "#EBF0F8",
           "linecolor": "#EBF0F8",
           "ticks": "",
           "title": {
            "standoff": 15
           },
           "zerolinecolor": "#EBF0F8",
           "zerolinewidth": 2
          }
         }
        },
        "title": {
         "text": "Spread and Trade Entry/Exit Points"
        },
        "xaxis": {
         "title": {
          "text": "Timestamp"
         }
        },
        "yaxis": {
         "title": {
          "text": "Spread"
         }
        }
       }
      }
     },
     "metadata": {},
     "output_type": "display_data"
    }
   ],
   "source": [
    "# Step-by-step trade logic\n",
    "df = trade_df.copy()\n",
    "df[\"position\"] = 0  # 1: long spread, -1: short spread\n",
    "df[\"trade_entry\"] = False\n",
    "df[\"trade_exit\"] = False\n",
    "df[\"pnl\"] = 0.0\n",
    "\n",
    "in_position = False\n",
    "position_type = 0\n",
    "entry_index = None\n",
    "entry_spread = None\n",
    "\n",
    "for i in range(len(df)):\n",
    "    z = df[\"z_score\"].iloc[i]\n",
    "    spread = df[\"spread\"].iloc[i]\n",
    "\n",
    "    if not in_position:\n",
    "        if z > 2:\n",
    "            df.at[df.index[i], \"position\"] = -1\n",
    "            df.at[df.index[i], \"trade_entry\"] = True\n",
    "            in_position = True\n",
    "            position_type = -1\n",
    "            entry_index = i\n",
    "            entry_spread = spread\n",
    "        elif z < -2:\n",
    "            df.at[df.index[i], \"position\"] = 1\n",
    "            df.at[df.index[i], \"trade_entry\"] = True\n",
    "            in_position = True\n",
    "            position_type = 1\n",
    "            entry_index = i\n",
    "            entry_spread = spread\n",
    "    else:\n",
    "        stop_loss_triggered = (z > 3 and position_type == -1) or (z < -3 and position_type == 1)\n",
    "        mean_reversion_triggered = abs(z) < 0.5\n",
    "        timeout_triggered = i - entry_index >= 10\n",
    "\n",
    "        if stop_loss_triggered or mean_reversion_triggered or timeout_triggered:\n",
    "            df.at[df.index[i], \"position\"] = 0\n",
    "            df.at[df.index[i], \"trade_exit\"] = True\n",
    "            pnl = -(spread - entry_spread)\n",
    "            df.at[df.index[i], \"pnl\"] = pnl\n",
    "            in_position = False\n",
    "            position_type = 0\n",
    "            entry_index = None\n",
    "            entry_spread = None\n",
    "        else:\n",
    "            df.at[df.index[i], \"position\"] = position_type\n",
    "\n",
    "# Assuming 'df' is your DataFrame from the previous cell containing the computed spread, trade_entry, and trade_exit columns\n",
    "spread_mean = df[\"spread\"].mean()\n",
    "spread_std = df[\"spread\"].std()\n",
    "fig = go.Figure()\n",
    "# Plot the spread line\n",
    "fig.add_trace(go.Scatter(x=df.index, y=df[\"spread\"], mode=\"lines\", name=\"Spread\"))\n",
    "# Plot horizontal lines: zero, ±2σ, and ±0.5σ\n",
    "fig.add_trace(go.Scatter(x=[df.index[0], df.index[-1]], y=[0, 0], mode=\"lines\", name=\"Zero Line\", line=dict(dash=\"dash\", color=\"black\")))\n",
    "fig.add_trace(go.Scatter(x=[df.index[0], df.index[-1]], y=[spread_mean + 2 * spread_std, spread_mean + 2 * spread_std], mode=\"lines\", name=\"+2σ\", line=dict(dash=\"dash\", color=\"red\")))\n",
    "fig.add_trace(go.Scatter(x=[df.index[0], df.index[-1]], y=[spread_mean - 2 * spread_std, spread_mean - 2 * spread_std], mode=\"lines\", name=\"-2σ\", line=dict(dash=\"dash\", color=\"red\")))\n",
    "fig.add_trace(go.Scatter(x=[df.index[0], df.index[-1]], y=[spread_mean + 0.5 * spread_std, spread_mean + 0.5 * spread_std], mode=\"lines\", name=\"+0.5σ\", line=dict(dash=\"dash\", color=\"green\")))\n",
    "fig.add_trace(go.Scatter(x=[df.index[0], df.index[-1]], y=[spread_mean - 0.5 * spread_std, spread_mean - 0.5 * spread_std], mode=\"lines\", name=\"-0.5σ\", line=dict(dash=\"dash\", color=\"green\")))\n",
    "# Scatter markers for trade entries and exits\n",
    "entries_df = df[df[\"trade_entry\"]]\n",
    "exits_df = df[df[\"trade_exit\"]]\n",
    "fig.add_trace(go.Scatter(x=entries_df.index, y=entries_df[\"spread\"], mode=\"markers\", name=\"Entry\", marker=dict(color=\"blue\", size=10)))\n",
    "fig.add_trace(go.Scatter(x=exits_df.index, y=exits_df[\"spread\"], mode=\"markers\", name=\"Exit\", marker=dict(color=\"purple\", size=10)))\n",
    "fig.update_layout(title=\"Spread and Trade Entry/Exit Points\", xaxis_title=\"Timestamp\", yaxis_title=\"Spread\", template=\"plotly_white\")\n",
    "fig.show()\n",
    "fig.write_html('html_plot/spread.html')"
   ]
  },
  {
   "cell_type": "code",
   "execution_count": 13,
   "id": "1e773306",
   "metadata": {},
   "outputs": [
    {
     "data": {
      "application/vnd.plotly.v1+json": {
       "config": {
        "plotlyServerURL": "https://plot.ly"
       },
       "data": [
        {
         "mode": "lines",
         "name": "Cumulative PnL",
         "type": "scatter",
         "x": {
          "bdata": "PAA9AD4APwBAAEEAQgBDAEQARQBGAEcASABJAEoASwBMAE0ATgBPAFAAUQBSAFMAVABVAFYAVwBYAFkAWgBbAFwAXQBeAF8AYABhAGIAYwBkAGUAZgBnAGgAaQBqAGsAbABtAG4AbwBwAHEAcgBzAHQAdQB2AHcAeAB5AHoAewB8AH0AfgB/AIAAgQCCAIMAhACFAIYAhwCIAIkAigCLAIwAjQCOAI8AkACRAJIAkwCUAJUAlgCXAJgAmQCaAJsAnACdAJ4AnwCgAKEAogCjAKQApQCmAKcAqACpAKoAqwCsAK0ArgCvALAAsQCyALMAtAC1ALYAtwC4ALkAugC7ALwAvQC+AL8AwADBAMIAwwDEAMUAxgDHAMgAyQDKAMsAzADNAM4AzwDQANEA0gDTANQA1QDWANcA2ADZANoA2wDcAN0A3gDfAOAA4QDiAOMA5ADlAOYA5wDoAOkA6gDrAOwA7QDuAO8A8ADxAPIA8wD0APUA9gD3APgA+QD6APsA/AD9AP4A/wAAAQEBAgEDAQQBBQEGAQcBCAEJAQoBCwEMAQ0BDgEPARABEQESARMBFAEVARYBFwEYARkBGgEbARwBHQEeAR8BIAEhASIBIwEkASUBJgEnASgBKQEqASsBLAEtAS4BLwEwATEBMgEzATQBNQE2ATcBOAE5AToBOwE8AT0BPgE/AUABQQFCAUMBRAFFAUYBRwFIAUkBSgFLAUwBTQFOAU8BUAFRAVIBUwFUAVUBVgFXAVgBWQFaAVsBXAFdAV4BXwFgAWEBYgFjAWQBZQFmAWcBaAFpAWoBawFsAW0BbgFvAXABcQFyAXMBdAF1AXYBdwF4AXkBegF7AXwBfQF+AX8BgAGBAYIBgwGEAYUBhgGHAYgBiQGKAYsBjAGNAY4BjwGQAZEBkgGTAZQBlQGWAZcBmAGZAZoBmwGcAZ0BngGfAaABoQGiAaMBpAGlAaYBpwGoAakBqgGrAawBrQGuAa8BsAGxAbIBswG0AbUBtgG3AbgBuQG6AbsBvAG9Ab4BvwHAAcEBwgHDAcQBxQHGAccByAHJAcoBywHMAc0BzgHPAdAB0QHSAdMB1AHVAdYB1wHYAdkB2gHbAdwB3QHeAd8B4AHhAeIB4wHkAeUB5gHnAegB6QHqAesB7AHtAe4B7wHwAfEB8gHzAfQB9QH2AfcB+AH5AfoB+wH8Af0B/gH/AQACAQICAgMCBAIFAgYCBwIIAgkCCgILAgwCDQIOAg8CEAIRAhICEwIUAhUCFgIXAhgCGQIaAhsCHAIdAh4CHwIgAiECIgIjAiQCJQImAicCKAIpAioCKwIsAi0CLgIvAjACMQIyAjMCNAI1AjYCNwI4AjkCOgI7AjwCPQI+Aj8CQAJBAkICQwJEAkUCRgJHAkgCSQJKAksCTAJNAk4CTwJQAlECUgJTAlQCVQJWAlcCWAJZAloCWwJcAl0CXgJfAmACYQJiAmMCZAJlAmYCZwJoAmkCagJrAmwCbQJuAm8CcAJxAnICcwJ0AnUCdgJ3AngCeQJ6AnsCfAJ9An4CfwKAAoECggKDAoQChQKGAocCiAKJAooCiwKMAo0CjgKPApACkQKSApMClAKVApYClwKYApkCmgKbApwCnQKeAp8CoAKhAqICowKkAqUCpgKnAqgCqQKqAqsCrAKtAq4CrwKwArECsgKzArQCtQK2ArcCuAK5AroCuwK8Ar0CvgK/AsACwQLCAsMCxALFAsYCxwLIAskC",
          "dtype": "i2"
         },
         "y": {
          "bdata": "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",
          "dtype": "f8"
         }
        }
       ],
       "layout": {
        "template": {
         "data": {
          "bar": [
           {
            "error_x": {
             "color": "#2a3f5f"
            },
            "error_y": {
             "color": "#2a3f5f"
            },
            "marker": {
             "line": {
              "color": "#E5ECF6",
              "width": 0.5
             },
             "pattern": {
              "fillmode": "overlay",
              "size": 10,
              "solidity": 0.2
             }
            },
            "type": "bar"
           }
          ],
          "barpolar": [
           {
            "marker": {
             "line": {
              "color": "#E5ECF6",
              "width": 0.5
             },
             "pattern": {
              "fillmode": "overlay",
              "size": 10,
              "solidity": 0.2
             }
            },
            "type": "barpolar"
           }
          ],
          "carpet": [
           {
            "aaxis": {
             "endlinecolor": "#2a3f5f",
             "gridcolor": "white",
             "linecolor": "white",
             "minorgridcolor": "white",
             "startlinecolor": "#2a3f5f"
            },
            "baxis": {
             "endlinecolor": "#2a3f5f",
             "gridcolor": "white",
             "linecolor": "white",
             "minorgridcolor": "white",
             "startlinecolor": "#2a3f5f"
            },
            "type": "carpet"
           }
          ],
          "choropleth": [
           {
            "colorbar": {
             "outlinewidth": 0,
             "ticks": ""
            },
            "type": "choropleth"
           }
          ],
          "contour": [
           {
            "colorbar": {
             "outlinewidth": 0,
             "ticks": ""
            },
            "colorscale": [
             [
              0,
              "#0d0887"
             ],
             [
              0.1111111111111111,
              "#46039f"
             ],
             [
              0.2222222222222222,
              "#7201a8"
             ],
             [
              0.3333333333333333,
              "#9c179e"
             ],
             [
              0.4444444444444444,
              "#bd3786"
             ],
             [
              0.5555555555555556,
              "#d8576b"
             ],
             [
              0.6666666666666666,
              "#ed7953"
             ],
             [
              0.7777777777777778,
              "#fb9f3a"
             ],
             [
              0.8888888888888888,
              "#fdca26"
             ],
             [
              1,
              "#f0f921"
             ]
            ],
            "type": "contour"
           }
          ],
          "contourcarpet": [
           {
            "colorbar": {
             "outlinewidth": 0,
             "ticks": ""
            },
            "type": "contourcarpet"
           }
          ],
          "heatmap": [
           {
            "colorbar": {
             "outlinewidth": 0,
             "ticks": ""
            },
            "colorscale": [
             [
              0,
              "#0d0887"
             ],
             [
              0.1111111111111111,
              "#46039f"
             ],
             [
              0.2222222222222222,
              "#7201a8"
             ],
             [
              0.3333333333333333,
              "#9c179e"
             ],
             [
              0.4444444444444444,
              "#bd3786"
             ],
             [
              0.5555555555555556,
              "#d8576b"
             ],
             [
              0.6666666666666666,
              "#ed7953"
             ],
             [
              0.7777777777777778,
              "#fb9f3a"
             ],
             [
              0.8888888888888888,
              "#fdca26"
             ],
             [
              1,
              "#f0f921"
             ]
            ],
            "type": "heatmap"
           }
          ],
          "histogram": [
           {
            "marker": {
             "pattern": {
              "fillmode": "overlay",
              "size": 10,
              "solidity": 0.2
             }
            },
            "type": "histogram"
           }
          ],
          "histogram2d": [
           {
            "colorbar": {
             "outlinewidth": 0,
             "ticks": ""
            },
            "colorscale": [
             [
              0,
              "#0d0887"
             ],
             [
              0.1111111111111111,
              "#46039f"
             ],
             [
              0.2222222222222222,
              "#7201a8"
             ],
             [
              0.3333333333333333,
              "#9c179e"
             ],
             [
              0.4444444444444444,
              "#bd3786"
             ],
             [
              0.5555555555555556,
              "#d8576b"
             ],
             [
              0.6666666666666666,
              "#ed7953"
             ],
             [
              0.7777777777777778,
              "#fb9f3a"
             ],
             [
              0.8888888888888888,
              "#fdca26"
             ],
             [
              1,
              "#f0f921"
             ]
            ],
            "type": "histogram2d"
           }
          ],
          "histogram2dcontour": [
           {
            "colorbar": {
             "outlinewidth": 0,
             "ticks": ""
            },
            "colorscale": [
             [
              0,
              "#0d0887"
             ],
             [
              0.1111111111111111,
              "#46039f"
             ],
             [
              0.2222222222222222,
              "#7201a8"
             ],
             [
              0.3333333333333333,
              "#9c179e"
             ],
             [
              0.4444444444444444,
              "#bd3786"
             ],
             [
              0.5555555555555556,
              "#d8576b"
             ],
             [
              0.6666666666666666,
              "#ed7953"
             ],
             [
              0.7777777777777778,
              "#fb9f3a"
             ],
             [
              0.8888888888888888,
              "#fdca26"
             ],
             [
              1,
              "#f0f921"
             ]
            ],
            "type": "histogram2dcontour"
           }
          ],
          "mesh3d": [
           {
            "colorbar": {
             "outlinewidth": 0,
             "ticks": ""
            },
            "type": "mesh3d"
           }
          ],
          "parcoords": [
           {
            "line": {
             "colorbar": {
              "outlinewidth": 0,
              "ticks": ""
             }
            },
            "type": "parcoords"
           }
          ],
          "pie": [
           {
            "automargin": true,
            "type": "pie"
           }
          ],
          "scatter": [
           {
            "fillpattern": {
             "fillmode": "overlay",
             "size": 10,
             "solidity": 0.2
            },
            "type": "scatter"
           }
          ],
          "scatter3d": [
           {
            "line": {
             "colorbar": {
              "outlinewidth": 0,
              "ticks": ""
             }
            },
            "marker": {
             "colorbar": {
              "outlinewidth": 0,
              "ticks": ""
             }
            },
            "type": "scatter3d"
           }
          ],
          "scattercarpet": [
           {
            "marker": {
             "colorbar": {
              "outlinewidth": 0,
              "ticks": ""
             }
            },
            "type": "scattercarpet"
           }
          ],
          "scattergeo": [
           {
            "marker": {
             "colorbar": {
              "outlinewidth": 0,
              "ticks": ""
             }
            },
            "type": "scattergeo"
           }
          ],
          "scattergl": [
           {
            "marker": {
             "colorbar": {
              "outlinewidth": 0,
              "ticks": ""
             }
            },
            "type": "scattergl"
           }
          ],
          "scattermap": [
           {
            "marker": {
             "colorbar": {
              "outlinewidth": 0,
              "ticks": ""
             }
            },
            "type": "scattermap"
           }
          ],
          "scattermapbox": [
           {
            "marker": {
             "colorbar": {
              "outlinewidth": 0,
              "ticks": ""
             }
            },
            "type": "scattermapbox"
           }
          ],
          "scatterpolar": [
           {
            "marker": {
             "colorbar": {
              "outlinewidth": 0,
              "ticks": ""
             }
            },
            "type": "scatterpolar"
           }
          ],
          "scatterpolargl": [
           {
            "marker": {
             "colorbar": {
              "outlinewidth": 0,
              "ticks": ""
             }
            },
            "type": "scatterpolargl"
           }
          ],
          "scatterternary": [
           {
            "marker": {
             "colorbar": {
              "outlinewidth": 0,
              "ticks": ""
             }
            },
            "type": "scatterternary"
           }
          ],
          "surface": [
           {
            "colorbar": {
             "outlinewidth": 0,
             "ticks": ""
            },
            "colorscale": [
             [
              0,
              "#0d0887"
             ],
             [
              0.1111111111111111,
              "#46039f"
             ],
             [
              0.2222222222222222,
              "#7201a8"
             ],
             [
              0.3333333333333333,
              "#9c179e"
             ],
             [
              0.4444444444444444,
              "#bd3786"
             ],
             [
              0.5555555555555556,
              "#d8576b"
             ],
             [
              0.6666666666666666,
              "#ed7953"
             ],
             [
              0.7777777777777778,
              "#fb9f3a"
             ],
             [
              0.8888888888888888,
              "#fdca26"
             ],
             [
              1,
              "#f0f921"
             ]
            ],
            "type": "surface"
           }
          ],
          "table": [
           {
            "cells": {
             "fill": {
              "color": "#EBF0F8"
             },
             "line": {
              "color": "white"
             }
            },
            "header": {
             "fill": {
              "color": "#C8D4E3"
             },
             "line": {
              "color": "white"
             }
            },
            "type": "table"
           }
          ]
         },
         "layout": {
          "annotationdefaults": {
           "arrowcolor": "#2a3f5f",
           "arrowhead": 0,
           "arrowwidth": 1
          },
          "autotypenumbers": "strict",
          "coloraxis": {
           "colorbar": {
            "outlinewidth": 0,
            "ticks": ""
           }
          },
          "colorscale": {
           "diverging": [
            [
             0,
             "#8e0152"
            ],
            [
             0.1,
             "#c51b7d"
            ],
            [
             0.2,
             "#de77ae"
            ],
            [
             0.3,
             "#f1b6da"
            ],
            [
             0.4,
             "#fde0ef"
            ],
            [
             0.5,
             "#f7f7f7"
            ],
            [
             0.6,
             "#e6f5d0"
            ],
            [
             0.7,
             "#b8e186"
            ],
            [
             0.8,
             "#7fbc41"
            ],
            [
             0.9,
             "#4d9221"
            ],
            [
             1,
             "#276419"
            ]
           ],
           "sequential": [
            [
             0,
             "#0d0887"
            ],
            [
             0.1111111111111111,
             "#46039f"
            ],
            [
             0.2222222222222222,
             "#7201a8"
            ],
            [
             0.3333333333333333,
             "#9c179e"
            ],
            [
             0.4444444444444444,
             "#bd3786"
            ],
            [
             0.5555555555555556,
             "#d8576b"
            ],
            [
             0.6666666666666666,
             "#ed7953"
            ],
            [
             0.7777777777777778,
             "#fb9f3a"
            ],
            [
             0.8888888888888888,
             "#fdca26"
            ],
            [
             1,
             "#f0f921"
            ]
           ],
           "sequentialminus": [
            [
             0,
             "#0d0887"
            ],
            [
             0.1111111111111111,
             "#46039f"
            ],
            [
             0.2222222222222222,
             "#7201a8"
            ],
            [
             0.3333333333333333,
             "#9c179e"
            ],
            [
             0.4444444444444444,
             "#bd3786"
            ],
            [
             0.5555555555555556,
             "#d8576b"
            ],
            [
             0.6666666666666666,
             "#ed7953"
            ],
            [
             0.7777777777777778,
             "#fb9f3a"
            ],
            [
             0.8888888888888888,
             "#fdca26"
            ],
            [
             1,
             "#f0f921"
            ]
           ]
          },
          "colorway": [
           "#636efa",
           "#EF553B",
           "#00cc96",
           "#ab63fa",
           "#FFA15A",
           "#19d3f3",
           "#FF6692",
           "#B6E880",
           "#FF97FF",
           "#FECB52"
          ],
          "font": {
           "color": "#2a3f5f"
          },
          "geo": {
           "bgcolor": "white",
           "lakecolor": "white",
           "landcolor": "#E5ECF6",
           "showlakes": true,
           "showland": true,
           "subunitcolor": "white"
          },
          "hoverlabel": {
           "align": "left"
          },
          "hovermode": "closest",
          "mapbox": {
           "style": "light"
          },
          "paper_bgcolor": "white",
          "plot_bgcolor": "#E5ECF6",
          "polar": {
           "angularaxis": {
            "gridcolor": "white",
            "linecolor": "white",
            "ticks": ""
           },
           "bgcolor": "#E5ECF6",
           "radialaxis": {
            "gridcolor": "white",
            "linecolor": "white",
            "ticks": ""
           }
          },
          "scene": {
           "xaxis": {
            "backgroundcolor": "#E5ECF6",
            "gridcolor": "white",
            "gridwidth": 2,
            "linecolor": "white",
            "showbackground": true,
            "ticks": "",
            "zerolinecolor": "white"
           },
           "yaxis": {
            "backgroundcolor": "#E5ECF6",
            "gridcolor": "white",
            "gridwidth": 2,
            "linecolor": "white",
            "showbackground": true,
            "ticks": "",
            "zerolinecolor": "white"
           },
           "zaxis": {
            "backgroundcolor": "#E5ECF6",
            "gridcolor": "white",
            "gridwidth": 2,
            "linecolor": "white",
            "showbackground": true,
            "ticks": "",
            "zerolinecolor": "white"
           }
          },
          "shapedefaults": {
           "line": {
            "color": "#2a3f5f"
           }
          },
          "ternary": {
           "aaxis": {
            "gridcolor": "white",
            "linecolor": "white",
            "ticks": ""
           },
           "baxis": {
            "gridcolor": "white",
            "linecolor": "white",
            "ticks": ""
           },
           "bgcolor": "#E5ECF6",
           "caxis": {
            "gridcolor": "white",
            "linecolor": "white",
            "ticks": ""
           }
          },
          "title": {
           "x": 0.05
          },
          "xaxis": {
           "automargin": true,
           "gridcolor": "white",
           "linecolor": "white",
           "ticks": "",
           "title": {
            "standoff": 15
           },
           "zerolinecolor": "white",
           "zerolinewidth": 2
          },
          "yaxis": {
           "automargin": true,
           "gridcolor": "white",
           "linecolor": "white",
           "ticks": "",
           "title": {
            "standoff": 15
           },
           "zerolinecolor": "white",
           "zerolinewidth": 2
          }
         }
        },
        "title": {
         "text": "Cumulative PnL Over Time"
        },
        "xaxis": {
         "title": {
          "text": "Date"
         }
        },
        "yaxis": {
         "title": {
          "text": "Cumulative PnL"
         }
        }
       }
      }
     },
     "metadata": {},
     "output_type": "display_data"
    }
   ],
   "source": [
    "# Create cumulative PnL column\n",
    "df[\"cumulative_pnl\"] = df[\"pnl\"].cumsum()\n",
    "\n",
    "# Trade summary metrics\n",
    "total_trades = df[\"trade_exit\"].sum()\n",
    "total_pnl = df[\"pnl\"].sum()\n",
    "winning_trades = df[df[\"pnl\"] > 0][\"pnl\"].count()\n",
    "losing_trades = df[df[\"pnl\"] < 0][\"pnl\"].count()\n",
    "avg_return = df[\"pnl\"][df[\"pnl\"] != 0].mean()\n",
    "win_rate = winning_trades / total_trades if total_trades > 0 else np.nan\n",
    "entry_dates = df.loc[df[\"trade_entry\"], \"timestamp\"].reset_index(drop=True)\n",
    "exit_dates = df.loc[df[\"trade_exit\"], \"timestamp\"].reset_index(drop=True)\n",
    "holding_durations = [(exit_date - entry_date).days for entry_date, exit_date in zip(entry_dates, exit_dates)]\n",
    "avg_holding_period = np.mean(holding_durations) if holding_durations else np.nan\n",
    "\n",
    "\n",
    "# Summary dictionary\n",
    "summary = {\n",
    "    \"Total Trades\": total_trades,\n",
    "    \"Total PnL\": round(total_pnl, 4),\n",
    "    \"Winning Trades\": winning_trades,\n",
    "    \"Losing Trades\": losing_trades,\n",
    "    \"Win Rate (%)\": round(win_rate * 100, 2) if not np.isnan(win_rate) else \"N/A\",\n",
    "    \"Average Trade Return\": round(avg_return, 4) if not np.isnan(avg_return) else \"N/A\",\n",
    "    \"Average Holding Period (days)\": round(avg_holding_period, 2) if not np.isnan(avg_holding_period) else \"N/A\",\n",
    "}\n",
    "\n",
    "# Plot cumulative PnL with Plotly\n",
    "fig = go.Figure()\n",
    "fig.add_trace(go.Scatter(x=df.index, y=df[\"cumulative_pnl\"], mode=\"lines\", name=\"Cumulative PnL\"))\n",
    "fig.update_layout(\n",
    "    title=\"Cumulative PnL Over Time\",\n",
    "    xaxis_title=\"Date\",\n",
    "    yaxis_title=\"Cumulative PnL\"\n",
    ")\n",
    "fig.show()\n",
    "fig.write_html(\"html_plot/cumulative_pnl.html\")"
   ]
  },
  {
   "cell_type": "code",
   "execution_count": null,
   "id": "35760a38",
   "metadata": {},
   "outputs": [
    {
     "name": "stdout",
     "output_type": "stream",
     "text": [
      "{'Average Holding Period (days)': np.float64(9.26),\n",
      " 'Average Trade Return': np.float64(0.5212),\n",
      " 'Losing Trades': np.int64(17),\n",
      " 'Total PnL': np.float64(19.8054),\n",
      " 'Total Trades': np.int64(38),\n",
      " 'Win Rate (%)': np.float64(55.26),\n",
      " 'Winning Trades': np.int64(21)}\n"
     ]
    }
   ],
   "source": [
    "import pprint\n",
    "pprint.pprint(summary)"
   ]
  }
 ],
 "metadata": {
  "kernelspec": {
   "display_name": "venv",
   "language": "python",
   "name": "python3"
  },
  "language_info": {
   "codemirror_mode": {
    "name": "ipython",
    "version": 3
   },
   "file_extension": ".py",
   "mimetype": "text/x-python",
   "name": "python",
   "nbconvert_exporter": "python",
   "pygments_lexer": "ipython3",
   "version": "3.13.1"
  }
 },
 "nbformat": 4,
 "nbformat_minor": 5
}
