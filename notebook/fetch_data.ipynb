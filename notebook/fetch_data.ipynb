{
 "cells": [
  {
   "cell_type": "code",
   "execution_count": 3,
   "id": "5df9f6d0",
   "metadata": {},
   "outputs": [
    {
     "name": "stdout",
     "output_type": "stream",
     "text": [
      "Processing pair: TSLA & RIVN\n",
      "OLS Coefficients: {'const': 1.2918768117947566, 'log_close': 0.28832167130623293}, OLS p-value: 0.0000, OLS R-squared: 0.0341\n",
      "Test Statistic: -2.112, p-value: 0.4702 Critical Values: [-3.91108253 -3.34427805 -3.05010223]\n",
      "r-square > 0.5? No\n",
      "Is cointegrated? No\n",
      "--------------------------------------------------\n",
      "Processing pair: TSLA & LCID\n",
      "OLS Coefficients: {'const': 2.1031951858154256, 'log_close': -0.06981964193177112}, OLS p-value: 0.4775, OLS R-squared: 0.0007\n",
      "Test Statistic: -2.630, p-value: 0.2257 Critical Values: [-3.91108253 -3.34427805 -3.05010223]\n",
      "r-square > 0.5? No\n",
      "Is cointegrated? No\n",
      "--------------------------------------------------\n",
      "Processing pair: TSLA & F\n",
      "OLS Coefficients: {'const': 2.8975385680312797, 'log_close': -0.07544623023334526}, OLS p-value: 0.0000, OLS R-squared: 0.0238\n",
      "Test Statistic: -3.016, p-value: 0.1063 Critical Values: [-3.91108253 -3.34427805 -3.05010223]\n",
      "r-square > 0.5? No\n",
      "Is cointegrated? No\n",
      "--------------------------------------------------\n",
      "Processing pair: TSLA & GM\n",
      "OLS Coefficients: {'const': 2.431808529399582, 'log_close': 0.22955784244956698}, OLS p-value: 0.0000, OLS R-squared: 0.1260\n",
      "Test Statistic: -2.547, p-value: 0.2587 Critical Values: [-3.91108253 -3.34427805 -3.05010223]\n",
      "r-square > 0.5? No\n",
      "Is cointegrated? No\n",
      "--------------------------------------------------\n",
      "Processing pair: TSLA & NIO\n",
      "OLS Coefficients: {'const': 2.159266654406086, 'log_close': -0.01426351144136859}, OLS p-value: 0.8441, OLS R-squared: 0.0001\n",
      "Test Statistic: -2.610, p-value: 0.2328 Critical Values: [-3.91108253 -3.34427805 -3.05010223]\n",
      "r-square > 0.5? No\n",
      "Is cointegrated? No\n",
      "--------------------------------------------------\n",
      "Processing pair: TSLA & XPEV\n",
      "OLS Coefficients: {'const': -1.8950423680667976, 'log_close': 0.8136342249508253}, OLS p-value: 0.0000, OLS R-squared: 0.2757\n",
      "Test Statistic: -3.084, p-value: 0.0916 Critical Values: [-3.91108253 -3.34427805 -3.05010223]\n",
      "r-square > 0.5? No\n",
      "Is cointegrated? No\n",
      "--------------------------------------------------\n",
      "Processing pair: TSLA & BYDDF\n",
      "OLS Coefficients: {'const': 1.5710727730318135, 'log_close': 0.34144260350402333}, OLS p-value: 0.0000, OLS R-squared: 0.2649\n",
      "Test Statistic: -3.497, p-value: 0.0327 Critical Values: [-3.91108253 -3.34427805 -3.05010223]\n",
      "r-square > 0.5? No\n",
      "Is cointegrated? Yes\n",
      "--------------------------------------------------\n",
      "Processing pair: TSLA & LI\n",
      "OLS Coefficients: {'const': 2.513478057865457, 'log_close': 0.14248750541817587}, OLS p-value: 0.0000, OLS R-squared: 0.0223\n",
      "Test Statistic: -2.627, p-value: 0.2268 Critical Values: [-3.91108253 -3.34427805 -3.05010223]\n",
      "r-square > 0.5? No\n",
      "Is cointegrated? No\n",
      "--------------------------------------------------\n",
      "Processing pair: RIVN & LCID\n",
      "OLS Coefficients: {'const': -2.5308903068065183, 'log_close': 1.4878770705702298}, OLS p-value: 0.0000, OLS R-squared: 0.7457\n",
      "Test Statistic: -2.528, p-value: 0.2670 Critical Values: [-3.91108253 -3.34427805 -3.05010223]\n",
      "r-square > 0.5? Yes\n",
      "Is cointegrated? No\n",
      "--------------------------------------------------\n",
      "Processing pair: RIVN & F\n",
      "OLS Coefficients: {'const': 1.9717746902070592, 'log_close': 0.18030661465889714}, OLS p-value: 0.0000, OLS R-squared: 0.3323\n",
      "Test Statistic: -2.282, p-value: 0.3823 Critical Values: [-3.91108253 -3.34427805 -3.05010223]\n",
      "r-square > 0.5? No\n",
      "Is cointegrated? No\n",
      "--------------------------------------------------\n",
      "Processing pair: RIVN & GM\n",
      "OLS Coefficients: {'const': 4.249158263818742, 'log_close': -0.1990886875182262}, OLS p-value: 0.0000, OLS R-squared: 0.2312\n",
      "Test Statistic: -2.912, p-value: 0.1327 Critical Values: [-3.91108253 -3.34427805 -3.05010223]\n",
      "r-square > 0.5? No\n",
      "Is cointegrated? No\n",
      "--------------------------------------------------\n",
      "Processing pair: RIVN & NIO\n",
      "OLS Coefficients: {'const': -1.0637372177804698, 'log_close': 1.100027001021612}, OLS p-value: 0.0000, OLS R-squared: 0.7486\n",
      "Test Statistic: -2.895, p-value: 0.1373 Critical Values: [-3.91108253 -3.34427805 -3.05010223]\n",
      "r-square > 0.5? Yes\n",
      "Is cointegrated? No\n",
      "--------------------------------------------------\n",
      "Processing pair: RIVN & XPEV\n",
      "OLS Coefficients: {'const': 1.2137590611859284, 'log_close': 0.4598095336646546}, OLS p-value: 0.0000, OLS R-squared: 0.2149\n",
      "Test Statistic: -1.552, p-value: 0.7409 Critical Values: [-3.91108253 -3.34427805 -3.05010223]\n",
      "r-square > 0.5? No\n",
      "Is cointegrated? No\n",
      "--------------------------------------------------\n",
      "Processing pair: RIVN & BYDDF\n",
      "OLS Coefficients: {'const': 3.579606083693835, 'log_close': -0.05321522548605537}, OLS p-value: 0.0006, OLS R-squared: 0.0157\n",
      "Test Statistic: -2.182, p-value: 0.4338 Critical Values: [-3.91108253 -3.34427805 -3.05010223]\n",
      "r-square > 0.5? No\n",
      "Is cointegrated? No\n",
      "--------------------------------------------------\n",
      "Processing pair: RIVN & LI\n",
      "OLS Coefficients: {'const': 3.1080246251476344, 'log_close': 0.06299664564589708}, OLS p-value: 0.0047, OLS R-squared: 0.0106\n",
      "Test Statistic: -2.064, p-value: 0.4952 Critical Values: [-3.91108253 -3.34427805 -3.05010223]\n",
      "r-square > 0.5? No\n",
      "Is cointegrated? No\n",
      "--------------------------------------------------\n",
      "Processing pair: LCID & F\n",
      "OLS Coefficients: {'const': 2.2909702086376913, 'log_close': 0.11393583948634428}, OLS p-value: 0.0000, OLS R-squared: 0.3939\n",
      "Test Statistic: -2.529, p-value: 0.2666 Critical Values: [-3.91108253 -3.34427805 -3.05010223]\n",
      "r-square > 0.5? No\n",
      "Is cointegrated? No\n",
      "--------------------------------------------------\n",
      "Processing pair: LCID & GM\n",
      "OLS Coefficients: {'const': 3.903195161328545, 'log_close': -0.1295650881458251}, OLS p-value: 0.0000, OLS R-squared: 0.2907\n",
      "Test Statistic: -2.540, p-value: 0.2617 Critical Values: [-3.91108253 -3.34427805 -3.05010223]\n",
      "r-square > 0.5? No\n",
      "Is cointegrated? No\n",
      "--------------------------------------------------\n",
      "Processing pair: LCID & NIO\n",
      "OLS Coefficients: {'const': 0.8892369882514078, 'log_close': 0.691856139133973}, OLS p-value: 0.0000, OLS R-squared: 0.8791\n",
      "Test Statistic: -3.065, p-value: 0.0954 Critical Values: [-3.91108253 -3.34427805 -3.05010223]\n",
      "r-square > 0.5? Yes\n",
      "Is cointegrated? No\n",
      "--------------------------------------------------\n",
      "Processing pair: LCID & XPEV\n",
      "OLS Coefficients: {'const': 2.1399489249068124, 'log_close': 0.22546191483912376}, OLS p-value: 0.0000, OLS R-squared: 0.1534\n",
      "Test Statistic: -0.826, p-value: 0.9312 Critical Values: [-3.91108253 -3.34427805 -3.05010223]\n",
      "r-square > 0.5? No\n",
      "Is cointegrated? No\n",
      "--------------------------------------------------\n",
      "Processing pair: LCID & BYDDF\n",
      "OLS Coefficients: {'const': 3.4741700041886974, 'log_close': -0.027111548440581636}, OLS p-value: 0.0025, OLS R-squared: 0.0121\n",
      "Test Statistic: -1.702, p-value: 0.6758 Critical Values: [-3.91108253 -3.34427805 -3.05010223]\n",
      "r-square > 0.5? No\n",
      "Is cointegrated? No\n",
      "--------------------------------------------------\n",
      "Processing pair: LCID & LI\n",
      "OLS Coefficients: {'const': 3.2647382458285055, 'log_close': 0.013588546339450332}, OLS p-value: 0.2940, OLS R-squared: 0.0015\n",
      "Test Statistic: -1.597, p-value: 0.7221 Critical Values: [-3.91108253 -3.34427805 -3.05010223]\n",
      "r-square > 0.5? No\n",
      "Is cointegrated? No\n",
      "--------------------------------------------------\n",
      "Processing pair: F & GM\n",
      "OLS Coefficients: {'const': 4.420230772426994, 'log_close': -0.29764758436991656}, OLS p-value: 0.0000, OLS R-squared: 0.0506\n",
      "Test Statistic: -3.113, p-value: 0.0857 Critical Values: [-3.91108253 -3.34427805 -3.05010223]\n",
      "r-square > 0.5? No\n",
      "Is cointegrated? No\n",
      "--------------------------------------------------\n",
      "Processing pair: F & NIO\n",
      "OLS Coefficients: {'const': -4.249980447880276, 'log_close': 2.5455603278845746}, OLS p-value: 0.0000, OLS R-squared: 0.3922\n",
      "Test Statistic: -4.294, p-value: 0.0026 Critical Values: [-3.91108253 -3.34427805 -3.05010223]\n",
      "r-square > 0.5? No\n",
      "Is cointegrated? Yes\n",
      "--------------------------------------------------\n",
      "Processing pair: F & XPEV\n",
      "OLS Coefficients: {'const': 2.387452240845627, 'log_close': 0.05672793027456571}, OLS p-value: 0.6243, OLS R-squared: 0.0003\n",
      "Test Statistic: -2.601, p-value: 0.2363 Critical Values: [-3.91108253 -3.34427805 -3.05010223]\n",
      "r-square > 0.5? No\n",
      "Is cointegrated? No\n",
      "--------------------------------------------------\n",
      "Processing pair: F & BYDDF\n",
      "OLS Coefficients: {'const': 4.581468535149449, 'log_close': -0.46395885539393233}, OLS p-value: 0.0000, OLS R-squared: 0.1168\n",
      "Test Statistic: -3.281, p-value: 0.0574 Critical Values: [-3.91108253 -3.34427805 -3.05010223]\n",
      "r-square > 0.5? No\n",
      "Is cointegrated? No\n",
      "--------------------------------------------------\n",
      "Processing pair: F & LI\n",
      "OLS Coefficients: {'const': 2.948679639896439, 'log_close': 0.13648253242549999}, OLS p-value: 0.0555, OLS R-squared: 0.0049\n",
      "Test Statistic: -2.635, p-value: 0.2237 Critical Values: [-3.91108253 -3.34427805 -3.05010223]\n",
      "r-square > 0.5? No\n",
      "Is cointegrated? No\n",
      "--------------------------------------------------\n",
      "Processing pair: GM & NIO\n",
      "OLS Coefficients: {'const': 8.871310974133841, 'log_close': -1.845059616035929}, OLS p-value: 0.0000, OLS R-squared: 0.3611\n",
      "Test Statistic: -2.973, p-value: 0.1167 Critical Values: [-3.91108253 -3.34427805 -3.05010223]\n",
      "r-square > 0.5? No\n",
      "Is cointegrated? No\n",
      "--------------------------------------------------\n",
      "Processing pair: GM & XPEV\n",
      "OLS Coefficients: {'const': 4.510343024547598, 'log_close': -0.5385474857656434}, OLS p-value: 0.0000, OLS R-squared: 0.0505\n",
      "Test Statistic: -2.048, p-value: 0.5036 Critical Values: [-3.91108253 -3.34427805 -3.05010223]\n",
      "r-square > 0.5? No\n",
      "Is cointegrated? No\n",
      "--------------------------------------------------\n",
      "Processing pair: GM & BYDDF\n",
      "OLS Coefficients: {'const': 2.297483564747713, 'log_close': 0.3070637979278688}, OLS p-value: 0.0000, OLS R-squared: 0.0896\n",
      "Test Statistic: -1.946, p-value: 0.5567 Critical Values: [-3.91108253 -3.34427805 -3.05010223]\n",
      "r-square > 0.5? No\n",
      "Is cointegrated? No\n",
      "--------------------------------------------------\n",
      "Processing pair: GM & LI\n",
      "OLS Coefficients: {'const': 5.706822655710958, 'log_close': -0.6572673857840852}, OLS p-value: 0.0000, OLS R-squared: 0.1984\n",
      "Test Statistic: -2.600, p-value: 0.2370 Critical Values: [-3.91108253 -3.34427805 -3.05010223]\n",
      "r-square > 0.5? No\n",
      "Is cointegrated? No\n",
      "--------------------------------------------------\n",
      "Processing pair: NIO & XPEV\n",
      "OLS Coefficients: {'const': 1.6775611689255236, 'log_close': 0.4087936809033237}, OLS p-value: 0.0000, OLS R-squared: 0.2745\n",
      "Test Statistic: 0.642, p-value: 0.9934 Critical Values: [-3.91108253 -3.34427805 -3.05010223]\n",
      "r-square > 0.5? No\n",
      "Is cointegrated? No\n",
      "--------------------------------------------------\n",
      "Processing pair: NIO & BYDDF\n",
      "OLS Coefficients: {'const': 3.4688539632005666, 'log_close': -0.019893828868194893}, OLS p-value: 0.1027, OLS R-squared: 0.0035\n",
      "Test Statistic: -1.372, p-value: 0.8068 Critical Values: [-3.91108253 -3.34427805 -3.05010223]\n",
      "r-square > 0.5? No\n",
      "Is cointegrated? No\n",
      "--------------------------------------------------\n",
      "Processing pair: NIO & LI\n",
      "OLS Coefficients: {'const': 3.023340428298387, 'log_close': 0.12721173746915748}, OLS p-value: 0.0000, OLS R-squared: 0.0701\n",
      "Test Statistic: -1.235, p-value: 0.8484 Critical Values: [-3.91108253 -3.34427805 -3.05010223]\n",
      "r-square > 0.5? No\n",
      "Is cointegrated? No\n",
      "--------------------------------------------------\n",
      "Processing pair: XPEV & BYDDF\n",
      "OLS Coefficients: {'const': 2.743591064860679, 'log_close': 0.2704507920860405}, OLS p-value: 0.0000, OLS R-squared: 0.3990\n",
      "Test Statistic: -2.824, p-value: 0.1581 Critical Values: [-3.91108253 -3.34427805 -3.05010223]\n",
      "r-square > 0.5? No\n",
      "Is cointegrated? No\n",
      "--------------------------------------------------\n",
      "Processing pair: XPEV & LI\n",
      "OLS Coefficients: {'const': 2.4807341710856545, 'log_close': 0.31932286744841043}, OLS p-value: 0.0000, OLS R-squared: 0.2688\n",
      "Test Statistic: -2.154, p-value: 0.4482 Critical Values: [-3.91108253 -3.34427805 -3.05010223]\n",
      "r-square > 0.5? No\n",
      "Is cointegrated? No\n",
      "--------------------------------------------------\n",
      "Processing pair: BYDDF & LI\n",
      "OLS Coefficients: {'const': 2.1196096327698917, 'log_close': 0.34093947168337235}, OLS p-value: 0.0000, OLS R-squared: 0.0562\n",
      "Test Statistic: -1.101, p-value: 0.8820 Critical Values: [-3.91108253 -3.34427805 -3.05010223]\n",
      "r-square > 0.5? No\n",
      "Is cointegrated? No\n",
      "--------------------------------------------------\n"
     ]
    }
   ],
   "source": [
    "import numpy as np\n",
    "import pandas as pd\n",
    "from script.data_pipeline import shinyDataFetcher\n",
    "import plotly.graph_objects as go\n",
    "import statsmodels.api as sm\n",
    "from statsmodels.tsa.stattools import coint, adfuller\n",
    "from statsmodels.regression.rolling import RollingOLS\n",
    "import matplotlib.pyplot as plt\n",
    "import itertools\n",
    "import warnings\n",
    "\n",
    "warnings.filterwarnings(\"ignore\")\n",
    "\n",
    "EV_stocks = [\"TSLA\", \"RIVN\", \"LCID\", \"F\", \"GM\", \"NIO\", \"XPEV\", \"BYDDF\", \"LI\"]\n",
    "EV_stocks_data = {}\n",
    "for stock in EV_stocks:\n",
    "    EV_stocks_data[stock] = shinyDataFetcher(asset=stock, durationStr=\"3 Y\", barSizeSetting=\"1 day\").fetch_asset_data()\n",
    "\n",
    "log_prices = {}\n",
    "for ticker in EV_stocks:\n",
    "    df_temp = EV_stocks_data[ticker].copy()\n",
    "    df_temp[\"log_close\"] = np.log(df_temp[\"close\"])\n",
    "    log_prices[ticker] = df_temp.set_index(\"timestamp\")[\"log_close\"].dropna()\n",
    "\n",
    "# Loop over all unique pairs\n",
    "for s1, s2 in itertools.combinations(EV_stocks, 2):\n",
    "    # Align datasets by timestamp\n",
    "    print(f\"Processing pair: {s1} & {s2}\")\n",
    "    df_pair = pd.concat([log_prices[s1], log_prices[s2]], axis=1).dropna()\n",
    "    if df_pair.empty:\n",
    "        continue\n",
    "\n",
    "    X = log_prices[s1]\n",
    "    Y = log_prices[s2]\n",
    "    X_const = sm.add_constant(X)  # Adds a constant term to the predictor\n",
    "    model = sm.OLS(Y, X_const).fit()\n",
    "    print(f\"OLS Coefficients: {model.params.to_dict()}, OLS p-value: {model.pvalues[1]:.4f}, OLS R-squared: {model.rsquared:.4f}\")\n",
    "\n",
    "    # Perform cointegration test\n",
    "    result = coint(df_pair.iloc[:, 0], df_pair.iloc[:, 1])\n",
    "    test_stat, p_value, crit_values = result\n",
    "\n",
    "    print(f\"Test Statistic: {test_stat:.3f}, p-value: {p_value:.4f}\", f\"Critical Values: {crit_values}\")\n",
    "    print(f\"r-square > 0.5? {'Yes' if model.rsquared > 0.5 else 'No'}\")\n",
    "    print(f\"Is cointegrated? {'Yes' if p_value < 0.05 else 'No'}\")\n",
    "    print(\"-\" * 50)"
   ]
  },
  {
   "cell_type": "code",
   "execution_count": 10,
   "id": "bade2af4",
   "metadata": {},
   "outputs": [
    {
     "data": {
      "application/vnd.plotly.v1+json": {
       "config": {
        "plotlyServerURL": "https://plot.ly"
       },
       "data": [
        {
         "mode": "lines",
         "name": "TSLA",
         "type": "scatter",
         "x": [
          "2022-04-12",
          "2022-04-13",
          "2022-04-14",
          "2022-04-18",
          "2022-04-19",
          "2022-04-20",
          "2022-04-21",
          "2022-04-22",
          "2022-04-25",
          "2022-04-26",
          "2022-04-27",
          "2022-04-28",
          "2022-04-29",
          "2022-05-02",
          "2022-05-03",
          "2022-05-04",
          "2022-05-05",
          "2022-05-06",
          "2022-05-09",
          "2022-05-10",
          "2022-05-11",
          "2022-05-12",
          "2022-05-13",
          "2022-05-16",
          "2022-05-17",
          "2022-05-18",
          "2022-05-19",
          "2022-05-20",
          "2022-05-23",
          "2022-05-24",
          "2022-05-25",
          "2022-05-26",
          "2022-05-27",
          "2022-05-31",
          "2022-06-01",
          "2022-06-02",
          "2022-06-03",
          "2022-06-06",
          "2022-06-07",
          "2022-06-08",
          "2022-06-09",
          "2022-06-10",
          "2022-06-13",
          "2022-06-14",
          "2022-06-15",
          "2022-06-16",
          "2022-06-17",
          "2022-06-21",
          "2022-06-22",
          "2022-06-23",
          "2022-06-24",
          "2022-06-27",
          "2022-06-28",
          "2022-06-29",
          "2022-06-30",
          "2022-07-01",
          "2022-07-05",
          "2022-07-06",
          "2022-07-07",
          "2022-07-08",
          "2022-07-11",
          "2022-07-12",
          "2022-07-13",
          "2022-07-14",
          "2022-07-15",
          "2022-07-18",
          "2022-07-19",
          "2022-07-20",
          "2022-07-21",
          "2022-07-22",
          "2022-07-25",
          "2022-07-26",
          "2022-07-27",
          "2022-07-28",
          "2022-07-29",
          "2022-08-01",
          "2022-08-02",
          "2022-08-03",
          "2022-08-04",
          "2022-08-05",
          "2022-08-08",
          "2022-08-09",
          "2022-08-10",
          "2022-08-11",
          "2022-08-12",
          "2022-08-15",
          "2022-08-16",
          "2022-08-17",
          "2022-08-18",
          "2022-08-19",
          "2022-08-22",
          "2022-08-23",
          "2022-08-24",
          "2022-08-25",
          "2022-08-26",
          "2022-08-29",
          "2022-08-30",
          "2022-08-31",
          "2022-09-01",
          "2022-09-02",
          "2022-09-06",
          "2022-09-07",
          "2022-09-08",
          "2022-09-09",
          "2022-09-12",
          "2022-09-13",
          "2022-09-14",
          "2022-09-15",
          "2022-09-16",
          "2022-09-19",
          "2022-09-20",
          "2022-09-21",
          "2022-09-22",
          "2022-09-23",
          "2022-09-26",
          "2022-09-27",
          "2022-09-28",
          "2022-09-29",
          "2022-09-30",
          "2022-10-03",
          "2022-10-04",
          "2022-10-05",
          "2022-10-06",
          "2022-10-07",
          "2022-10-10",
          "2022-10-11",
          "2022-10-12",
          "2022-10-13",
          "2022-10-14",
          "2022-10-17",
          "2022-10-18",
          "2022-10-19",
          "2022-10-20",
          "2022-10-21",
          "2022-10-24",
          "2022-10-25",
          "2022-10-26",
          "2022-10-27",
          "2022-10-28",
          "2022-10-31",
          "2022-11-01",
          "2022-11-02",
          "2022-11-03",
          "2022-11-04",
          "2022-11-07",
          "2022-11-08",
          "2022-11-09",
          "2022-11-10",
          "2022-11-11",
          "2022-11-14",
          "2022-11-15",
          "2022-11-16",
          "2022-11-17",
          "2022-11-18",
          "2022-11-21",
          "2022-11-22",
          "2022-11-23",
          "2022-11-25",
          "2022-11-28",
          "2022-11-29",
          "2022-11-30",
          "2022-12-01",
          "2022-12-02",
          "2022-12-05",
          "2022-12-06",
          "2022-12-07",
          "2022-12-08",
          "2022-12-09",
          "2022-12-12",
          "2022-12-13",
          "2022-12-14",
          "2022-12-15",
          "2022-12-16",
          "2022-12-19",
          "2022-12-20",
          "2022-12-21",
          "2022-12-22",
          "2022-12-23",
          "2022-12-27",
          "2022-12-28",
          "2022-12-29",
          "2022-12-30",
          "2023-01-03",
          "2023-01-04",
          "2023-01-05",
          "2023-01-06",
          "2023-01-09",
          "2023-01-10",
          "2023-01-11",
          "2023-01-12",
          "2023-01-13",
          "2023-01-17",
          "2023-01-18",
          "2023-01-19",
          "2023-01-20",
          "2023-01-23",
          "2023-01-24",
          "2023-01-25",
          "2023-01-26",
          "2023-01-27",
          "2023-01-30",
          "2023-01-31",
          "2023-02-01",
          "2023-02-02",
          "2023-02-03",
          "2023-02-06",
          "2023-02-07",
          "2023-02-08",
          "2023-02-09",
          "2023-02-10",
          "2023-02-13",
          "2023-02-14",
          "2023-02-15",
          "2023-02-16",
          "2023-02-17",
          "2023-02-21",
          "2023-02-22",
          "2023-02-23",
          "2023-02-24",
          "2023-02-27",
          "2023-02-28",
          "2023-03-01",
          "2023-03-02",
          "2023-03-03",
          "2023-03-06",
          "2023-03-07",
          "2023-03-08",
          "2023-03-09",
          "2023-03-10",
          "2023-03-13",
          "2023-03-14",
          "2023-03-15",
          "2023-03-16",
          "2023-03-17",
          "2023-03-20",
          "2023-03-21",
          "2023-03-22",
          "2023-03-23",
          "2023-03-24",
          "2023-03-27",
          "2023-03-28",
          "2023-03-29",
          "2023-03-30",
          "2023-03-31",
          "2023-04-03",
          "2023-04-04",
          "2023-04-05",
          "2023-04-06",
          "2023-04-10",
          "2023-04-11",
          "2023-04-12",
          "2023-04-13",
          "2023-04-14",
          "2023-04-17",
          "2023-04-18",
          "2023-04-19",
          "2023-04-20",
          "2023-04-21",
          "2023-04-24",
          "2023-04-25",
          "2023-04-26",
          "2023-04-27",
          "2023-04-28",
          "2023-05-01",
          "2023-05-02",
          "2023-05-03",
          "2023-05-04",
          "2023-05-05",
          "2023-05-08",
          "2023-05-09",
          "2023-05-10",
          "2023-05-11",
          "2023-05-12",
          "2023-05-15",
          "2023-05-16",
          "2023-05-17",
          "2023-05-18",
          "2023-05-19",
          "2023-05-22",
          "2023-05-23",
          "2023-05-24",
          "2023-05-25",
          "2023-05-26",
          "2023-05-30",
          "2023-05-31",
          "2023-06-01",
          "2023-06-02",
          "2023-06-05",
          "2023-06-06",
          "2023-06-07",
          "2023-06-08",
          "2023-06-09",
          "2023-06-12",
          "2023-06-13",
          "2023-06-14",
          "2023-06-15",
          "2023-06-16",
          "2023-06-20",
          "2023-06-21",
          "2023-06-22",
          "2023-06-23",
          "2023-06-26",
          "2023-06-27",
          "2023-06-28",
          "2023-06-29",
          "2023-06-30",
          "2023-07-03",
          "2023-07-05",
          "2023-07-06",
          "2023-07-07",
          "2023-07-10",
          "2023-07-11",
          "2023-07-12",
          "2023-07-13",
          "2023-07-14",
          "2023-07-17",
          "2023-07-18",
          "2023-07-19",
          "2023-07-20",
          "2023-07-21",
          "2023-07-24",
          "2023-07-25",
          "2023-07-26",
          "2023-07-27",
          "2023-07-28",
          "2023-07-31",
          "2023-08-01",
          "2023-08-02",
          "2023-08-03",
          "2023-08-04",
          "2023-08-07",
          "2023-08-08",
          "2023-08-09",
          "2023-08-10",
          "2023-08-11",
          "2023-08-14",
          "2023-08-15",
          "2023-08-16",
          "2023-08-17",
          "2023-08-18",
          "2023-08-21",
          "2023-08-22",
          "2023-08-23",
          "2023-08-24",
          "2023-08-25",
          "2023-08-28",
          "2023-08-29",
          "2023-08-30",
          "2023-08-31",
          "2023-09-01",
          "2023-09-05",
          "2023-09-06",
          "2023-09-07",
          "2023-09-08",
          "2023-09-11",
          "2023-09-12",
          "2023-09-13",
          "2023-09-14",
          "2023-09-15",
          "2023-09-18",
          "2023-09-19",
          "2023-09-20",
          "2023-09-21",
          "2023-09-22",
          "2023-09-25",
          "2023-09-26",
          "2023-09-27",
          "2023-09-28",
          "2023-09-29",
          "2023-10-02",
          "2023-10-03",
          "2023-10-04",
          "2023-10-05",
          "2023-10-06",
          "2023-10-09",
          "2023-10-10",
          "2023-10-11",
          "2023-10-12",
          "2023-10-13",
          "2023-10-16",
          "2023-10-17",
          "2023-10-18",
          "2023-10-19",
          "2023-10-20",
          "2023-10-23",
          "2023-10-24",
          "2023-10-25",
          "2023-10-26",
          "2023-10-27",
          "2023-10-30",
          "2023-10-31",
          "2023-11-01",
          "2023-11-02",
          "2023-11-03",
          "2023-11-06",
          "2023-11-07",
          "2023-11-08",
          "2023-11-09",
          "2023-11-10",
          "2023-11-13",
          "2023-11-14",
          "2023-11-15",
          "2023-11-16",
          "2023-11-17",
          "2023-11-20",
          "2023-11-21",
          "2023-11-22",
          "2023-11-24",
          "2023-11-27",
          "2023-11-28",
          "2023-11-29",
          "2023-11-30",
          "2023-12-01",
          "2023-12-04",
          "2023-12-05",
          "2023-12-06",
          "2023-12-07",
          "2023-12-08",
          "2023-12-11",
          "2023-12-12",
          "2023-12-13",
          "2023-12-14",
          "2023-12-15",
          "2023-12-18",
          "2023-12-19",
          "2023-12-20",
          "2023-12-21",
          "2023-12-22",
          "2023-12-26",
          "2023-12-27",
          "2023-12-28",
          "2023-12-29",
          "2024-01-02",
          "2024-01-03",
          "2024-01-04",
          "2024-01-05",
          "2024-01-08",
          "2024-01-09",
          "2024-01-10",
          "2024-01-11",
          "2024-01-12",
          "2024-01-16",
          "2024-01-17",
          "2024-01-18",
          "2024-01-19",
          "2024-01-22",
          "2024-01-23",
          "2024-01-24",
          "2024-01-25",
          "2024-01-26",
          "2024-01-29",
          "2024-01-30",
          "2024-01-31",
          "2024-02-01",
          "2024-02-02",
          "2024-02-05",
          "2024-02-06",
          "2024-02-07",
          "2024-02-08",
          "2024-02-09",
          "2024-02-12",
          "2024-02-13",
          "2024-02-14",
          "2024-02-15",
          "2024-02-16",
          "2024-02-20",
          "2024-02-21",
          "2024-02-22",
          "2024-02-23",
          "2024-02-26",
          "2024-02-27",
          "2024-02-28",
          "2024-02-29",
          "2024-03-01",
          "2024-03-04",
          "2024-03-05",
          "2024-03-06",
          "2024-03-07",
          "2024-03-08",
          "2024-03-11",
          "2024-03-12",
          "2024-03-13",
          "2024-03-14",
          "2024-03-15",
          "2024-03-18",
          "2024-03-19",
          "2024-03-20",
          "2024-03-21",
          "2024-03-22",
          "2024-03-25",
          "2024-03-26",
          "2024-03-27",
          "2024-03-28",
          "2024-04-01",
          "2024-04-02",
          "2024-04-03",
          "2024-04-04",
          "2024-04-05",
          "2024-04-08",
          "2024-04-09",
          "2024-04-10",
          "2024-04-11",
          "2024-04-12",
          "2024-04-15",
          "2024-04-16",
          "2024-04-17",
          "2024-04-18",
          "2024-04-19",
          "2024-04-22",
          "2024-04-23",
          "2024-04-24",
          "2024-04-25",
          "2024-04-26",
          "2024-04-29",
          "2024-04-30",
          "2024-05-01",
          "2024-05-02",
          "2024-05-03",
          "2024-05-06",
          "2024-05-07",
          "2024-05-08",
          "2024-05-09",
          "2024-05-10",
          "2024-05-13",
          "2024-05-14",
          "2024-05-15",
          "2024-05-16",
          "2024-05-17",
          "2024-05-20",
          "2024-05-21",
          "2024-05-22",
          "2024-05-23",
          "2024-05-24",
          "2024-05-28",
          "2024-05-29",
          "2024-05-30",
          "2024-05-31",
          "2024-06-03",
          "2024-06-04",
          "2024-06-05",
          "2024-06-06",
          "2024-06-07",
          "2024-06-10",
          "2024-06-11",
          "2024-06-12",
          "2024-06-13",
          "2024-06-14",
          "2024-06-17",
          "2024-06-18",
          "2024-06-20",
          "2024-06-21",
          "2024-06-24",
          "2024-06-25",
          "2024-06-26",
          "2024-06-27",
          "2024-06-28",
          "2024-07-01",
          "2024-07-02",
          "2024-07-03",
          "2024-07-05",
          "2024-07-08",
          "2024-07-09",
          "2024-07-10",
          "2024-07-11",
          "2024-07-12",
          "2024-07-15",
          "2024-07-16",
          "2024-07-17",
          "2024-07-18",
          "2024-07-19",
          "2024-07-22",
          "2024-07-23",
          "2024-07-24",
          "2024-07-25",
          "2024-07-26",
          "2024-07-29",
          "2024-07-30",
          "2024-07-31",
          "2024-08-01",
          "2024-08-02",
          "2024-08-05",
          "2024-08-06",
          "2024-08-07",
          "2024-08-08",
          "2024-08-09",
          "2024-08-12",
          "2024-08-13",
          "2024-08-14",
          "2024-08-15",
          "2024-08-16",
          "2024-08-19",
          "2024-08-20",
          "2024-08-21",
          "2024-08-22",
          "2024-08-23",
          "2024-08-26",
          "2024-08-27",
          "2024-08-28",
          "2024-08-29",
          "2024-08-30",
          "2024-09-03",
          "2024-09-04",
          "2024-09-05",
          "2024-09-06",
          "2024-09-09",
          "2024-09-10",
          "2024-09-11",
          "2024-09-12",
          "2024-09-13",
          "2024-09-16",
          "2024-09-17",
          "2024-09-18",
          "2024-09-19",
          "2024-09-20",
          "2024-09-23",
          "2024-09-24",
          "2024-09-25",
          "2024-09-26",
          "2024-09-27",
          "2024-09-30",
          "2024-10-01",
          "2024-10-02",
          "2024-10-03",
          "2024-10-04",
          "2024-10-07",
          "2024-10-08",
          "2024-10-09",
          "2024-10-10",
          "2024-10-11",
          "2024-10-14",
          "2024-10-15",
          "2024-10-16",
          "2024-10-17",
          "2024-10-18",
          "2024-10-21",
          "2024-10-22",
          "2024-10-23",
          "2024-10-24",
          "2024-10-25",
          "2024-10-28",
          "2024-10-29",
          "2024-10-30",
          "2024-10-31",
          "2024-11-01",
          "2024-11-04",
          "2024-11-05",
          "2024-11-06",
          "2024-11-07",
          "2024-11-08",
          "2024-11-11",
          "2024-11-12",
          "2024-11-13",
          "2024-11-14",
          "2024-11-15",
          "2024-11-18",
          "2024-11-19",
          "2024-11-20",
          "2024-11-21",
          "2024-11-22",
          "2024-11-25",
          "2024-11-26",
          "2024-11-27",
          "2024-11-29",
          "2024-12-02",
          "2024-12-03",
          "2024-12-04",
          "2024-12-05",
          "2024-12-06",
          "2024-12-09",
          "2024-12-10",
          "2024-12-11",
          "2024-12-12",
          "2024-12-13",
          "2024-12-16",
          "2024-12-17",
          "2024-12-18",
          "2024-12-19",
          "2024-12-20",
          "2024-12-23",
          "2024-12-24",
          "2024-12-26",
          "2024-12-27",
          "2024-12-30",
          "2024-12-31",
          "2025-01-02",
          "2025-01-03",
          "2025-01-06",
          "2025-01-07",
          "2025-01-08",
          "2025-01-10",
          "2025-01-13",
          "2025-01-14",
          "2025-01-15",
          "2025-01-16",
          "2025-01-17",
          "2025-01-21",
          "2025-01-22",
          "2025-01-23",
          "2025-01-24",
          "2025-01-27",
          "2025-01-28",
          "2025-01-29",
          "2025-01-30",
          "2025-01-31",
          "2025-02-03",
          "2025-02-04",
          "2025-02-05",
          "2025-02-06",
          "2025-02-07",
          "2025-02-10",
          "2025-02-11",
          "2025-02-12",
          "2025-02-13",
          "2025-02-14",
          "2025-02-18",
          "2025-02-19",
          "2025-02-20",
          "2025-02-21",
          "2025-02-24",
          "2025-02-25",
          "2025-02-26",
          "2025-02-27",
          "2025-02-28",
          "2025-03-03",
          "2025-03-04",
          "2025-03-05",
          "2025-03-06",
          "2025-03-07",
          "2025-03-10",
          "2025-03-11",
          "2025-03-12",
          "2025-03-13",
          "2025-03-14",
          "2025-03-17",
          "2025-03-18",
          "2025-03-19",
          "2025-03-20",
          "2025-03-21",
          "2025-03-24",
          "2025-03-25",
          "2025-03-26",
          "2025-03-27",
          "2025-03-28",
          "2025-03-31",
          "2025-04-01",
          "2025-04-02",
          "2025-04-03",
          "2025-04-04",
          "2025-04-07",
          "2025-04-08",
          "2025-04-09",
          "2025-04-10"
         ],
         "y": {
          "bdata": "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",
          "dtype": "f8"
         }
        },
        {
         "mode": "lines",
         "name": "RIVN",
         "type": "scatter",
         "x": [
          "2022-04-12",
          "2022-04-13",
          "2022-04-14",
          "2022-04-18",
          "2022-04-19",
          "2022-04-20",
          "2022-04-21",
          "2022-04-22",
          "2022-04-25",
          "2022-04-26",
          "2022-04-27",
          "2022-04-28",
          "2022-04-29",
          "2022-05-02",
          "2022-05-03",
          "2022-05-04",
          "2022-05-05",
          "2022-05-06",
          "2022-05-09",
          "2022-05-10",
          "2022-05-11",
          "2022-05-12",
          "2022-05-13",
          "2022-05-16",
          "2022-05-17",
          "2022-05-18",
          "2022-05-19",
          "2022-05-20",
          "2022-05-23",
          "2022-05-24",
          "2022-05-25",
          "2022-05-26",
          "2022-05-27",
          "2022-05-31",
          "2022-06-01",
          "2022-06-02",
          "2022-06-03",
          "2022-06-06",
          "2022-06-07",
          "2022-06-08",
          "2022-06-09",
          "2022-06-10",
          "2022-06-13",
          "2022-06-14",
          "2022-06-15",
          "2022-06-16",
          "2022-06-17",
          "2022-06-21",
          "2022-06-22",
          "2022-06-23",
          "2022-06-24",
          "2022-06-27",
          "2022-06-28",
          "2022-06-29",
          "2022-06-30",
          "2022-07-01",
          "2022-07-05",
          "2022-07-06",
          "2022-07-07",
          "2022-07-08",
          "2022-07-11",
          "2022-07-12",
          "2022-07-13",
          "2022-07-14",
          "2022-07-15",
          "2022-07-18",
          "2022-07-19",
          "2022-07-20",
          "2022-07-21",
          "2022-07-22",
          "2022-07-25",
          "2022-07-26",
          "2022-07-27",
          "2022-07-28",
          "2022-07-29",
          "2022-08-01",
          "2022-08-02",
          "2022-08-03",
          "2022-08-04",
          "2022-08-05",
          "2022-08-08",
          "2022-08-09",
          "2022-08-10",
          "2022-08-11",
          "2022-08-12",
          "2022-08-15",
          "2022-08-16",
          "2022-08-17",
          "2022-08-18",
          "2022-08-19",
          "2022-08-22",
          "2022-08-23",
          "2022-08-24",
          "2022-08-25",
          "2022-08-26",
          "2022-08-29",
          "2022-08-30",
          "2022-08-31",
          "2022-09-01",
          "2022-09-02",
          "2022-09-06",
          "2022-09-07",
          "2022-09-08",
          "2022-09-09",
          "2022-09-12",
          "2022-09-13",
          "2022-09-14",
          "2022-09-15",
          "2022-09-16",
          "2022-09-19",
          "2022-09-20",
          "2022-09-21",
          "2022-09-22",
          "2022-09-23",
          "2022-09-26",
          "2022-09-27",
          "2022-09-28",
          "2022-09-29",
          "2022-09-30",
          "2022-10-03",
          "2022-10-04",
          "2022-10-05",
          "2022-10-06",
          "2022-10-07",
          "2022-10-10",
          "2022-10-11",
          "2022-10-12",
          "2022-10-13",
          "2022-10-14",
          "2022-10-17",
          "2022-10-18",
          "2022-10-19",
          "2022-10-20",
          "2022-10-21",
          "2022-10-24",
          "2022-10-25",
          "2022-10-26",
          "2022-10-27",
          "2022-10-28",
          "2022-10-31",
          "2022-11-01",
          "2022-11-02",
          "2022-11-03",
          "2022-11-04",
          "2022-11-07",
          "2022-11-08",
          "2022-11-09",
          "2022-11-10",
          "2022-11-11",
          "2022-11-14",
          "2022-11-15",
          "2022-11-16",
          "2022-11-17",
          "2022-11-18",
          "2022-11-21",
          "2022-11-22",
          "2022-11-23",
          "2022-11-25",
          "2022-11-28",
          "2022-11-29",
          "2022-11-30",
          "2022-12-01",
          "2022-12-02",
          "2022-12-05",
          "2022-12-06",
          "2022-12-07",
          "2022-12-08",
          "2022-12-09",
          "2022-12-12",
          "2022-12-13",
          "2022-12-14",
          "2022-12-15",
          "2022-12-16",
          "2022-12-19",
          "2022-12-20",
          "2022-12-21",
          "2022-12-22",
          "2022-12-23",
          "2022-12-27",
          "2022-12-28",
          "2022-12-29",
          "2022-12-30",
          "2023-01-03",
          "2023-01-04",
          "2023-01-05",
          "2023-01-06",
          "2023-01-09",
          "2023-01-10",
          "2023-01-11",
          "2023-01-12",
          "2023-01-13",
          "2023-01-17",
          "2023-01-18",
          "2023-01-19",
          "2023-01-20",
          "2023-01-23",
          "2023-01-24",
          "2023-01-25",
          "2023-01-26",
          "2023-01-27",
          "2023-01-30",
          "2023-01-31",
          "2023-02-01",
          "2023-02-02",
          "2023-02-03",
          "2023-02-06",
          "2023-02-07",
          "2023-02-08",
          "2023-02-09",
          "2023-02-10",
          "2023-02-13",
          "2023-02-14",
          "2023-02-15",
          "2023-02-16",
          "2023-02-17",
          "2023-02-21",
          "2023-02-22",
          "2023-02-23",
          "2023-02-24",
          "2023-02-27",
          "2023-02-28",
          "2023-03-01",
          "2023-03-02",
          "2023-03-03",
          "2023-03-06",
          "2023-03-07",
          "2023-03-08",
          "2023-03-09",
          "2023-03-10",
          "2023-03-13",
          "2023-03-14",
          "2023-03-15",
          "2023-03-16",
          "2023-03-17",
          "2023-03-20",
          "2023-03-21",
          "2023-03-22",
          "2023-03-23",
          "2023-03-24",
          "2023-03-27",
          "2023-03-28",
          "2023-03-29",
          "2023-03-30",
          "2023-03-31",
          "2023-04-03",
          "2023-04-04",
          "2023-04-05",
          "2023-04-06",
          "2023-04-10",
          "2023-04-11",
          "2023-04-12",
          "2023-04-13",
          "2023-04-14",
          "2023-04-17",
          "2023-04-18",
          "2023-04-19",
          "2023-04-20",
          "2023-04-21",
          "2023-04-24",
          "2023-04-25",
          "2023-04-26",
          "2023-04-27",
          "2023-04-28",
          "2023-05-01",
          "2023-05-02",
          "2023-05-03",
          "2023-05-04",
          "2023-05-05",
          "2023-05-08",
          "2023-05-09",
          "2023-05-10",
          "2023-05-11",
          "2023-05-12",
          "2023-05-15",
          "2023-05-16",
          "2023-05-17",
          "2023-05-18",
          "2023-05-19",
          "2023-05-22",
          "2023-05-23",
          "2023-05-24",
          "2023-05-25",
          "2023-05-26",
          "2023-05-30",
          "2023-05-31",
          "2023-06-01",
          "2023-06-02",
          "2023-06-05",
          "2023-06-06",
          "2023-06-07",
          "2023-06-08",
          "2023-06-09",
          "2023-06-12",
          "2023-06-13",
          "2023-06-14",
          "2023-06-15",
          "2023-06-16",
          "2023-06-20",
          "2023-06-21",
          "2023-06-22",
          "2023-06-23",
          "2023-06-26",
          "2023-06-27",
          "2023-06-28",
          "2023-06-29",
          "2023-06-30",
          "2023-07-03",
          "2023-07-05",
          "2023-07-06",
          "2023-07-07",
          "2023-07-10",
          "2023-07-11",
          "2023-07-12",
          "2023-07-13",
          "2023-07-14",
          "2023-07-17",
          "2023-07-18",
          "2023-07-19",
          "2023-07-20",
          "2023-07-21",
          "2023-07-24",
          "2023-07-25",
          "2023-07-26",
          "2023-07-27",
          "2023-07-28",
          "2023-07-31",
          "2023-08-01",
          "2023-08-02",
          "2023-08-03",
          "2023-08-04",
          "2023-08-07",
          "2023-08-08",
          "2023-08-09",
          "2023-08-10",
          "2023-08-11",
          "2023-08-14",
          "2023-08-15",
          "2023-08-16",
          "2023-08-17",
          "2023-08-18",
          "2023-08-21",
          "2023-08-22",
          "2023-08-23",
          "2023-08-24",
          "2023-08-25",
          "2023-08-28",
          "2023-08-29",
          "2023-08-30",
          "2023-08-31",
          "2023-09-01",
          "2023-09-05",
          "2023-09-06",
          "2023-09-07",
          "2023-09-08",
          "2023-09-11",
          "2023-09-12",
          "2023-09-13",
          "2023-09-14",
          "2023-09-15",
          "2023-09-18",
          "2023-09-19",
          "2023-09-20",
          "2023-09-21",
          "2023-09-22",
          "2023-09-25",
          "2023-09-26",
          "2023-09-27",
          "2023-09-28",
          "2023-09-29",
          "2023-10-02",
          "2023-10-03",
          "2023-10-04",
          "2023-10-05",
          "2023-10-06",
          "2023-10-09",
          "2023-10-10",
          "2023-10-11",
          "2023-10-12",
          "2023-10-13",
          "2023-10-16",
          "2023-10-17",
          "2023-10-18",
          "2023-10-19",
          "2023-10-20",
          "2023-10-23",
          "2023-10-24",
          "2023-10-25",
          "2023-10-26",
          "2023-10-27",
          "2023-10-30",
          "2023-10-31",
          "2023-11-01",
          "2023-11-02",
          "2023-11-03",
          "2023-11-06",
          "2023-11-07",
          "2023-11-08",
          "2023-11-09",
          "2023-11-10",
          "2023-11-13",
          "2023-11-14",
          "2023-11-15",
          "2023-11-16",
          "2023-11-17",
          "2023-11-20",
          "2023-11-21",
          "2023-11-22",
          "2023-11-24",
          "2023-11-27",
          "2023-11-28",
          "2023-11-29",
          "2023-11-30",
          "2023-12-01",
          "2023-12-04",
          "2023-12-05",
          "2023-12-06",
          "2023-12-07",
          "2023-12-08",
          "2023-12-11",
          "2023-12-12",
          "2023-12-13",
          "2023-12-14",
          "2023-12-15",
          "2023-12-18",
          "2023-12-19",
          "2023-12-20",
          "2023-12-21",
          "2023-12-22",
          "2023-12-26",
          "2023-12-27",
          "2023-12-28",
          "2023-12-29",
          "2024-01-02",
          "2024-01-03",
          "2024-01-04",
          "2024-01-05",
          "2024-01-08",
          "2024-01-09",
          "2024-01-10",
          "2024-01-11",
          "2024-01-12",
          "2024-01-16",
          "2024-01-17",
          "2024-01-18",
          "2024-01-19",
          "2024-01-22",
          "2024-01-23",
          "2024-01-24",
          "2024-01-25",
          "2024-01-26",
          "2024-01-29",
          "2024-01-30",
          "2024-01-31",
          "2024-02-01",
          "2024-02-02",
          "2024-02-05",
          "2024-02-06",
          "2024-02-07",
          "2024-02-08",
          "2024-02-09",
          "2024-02-12",
          "2024-02-13",
          "2024-02-14",
          "2024-02-15",
          "2024-02-16",
          "2024-02-20",
          "2024-02-21",
          "2024-02-22",
          "2024-02-23",
          "2024-02-26",
          "2024-02-27",
          "2024-02-28",
          "2024-02-29",
          "2024-03-01",
          "2024-03-04",
          "2024-03-05",
          "2024-03-06",
          "2024-03-07",
          "2024-03-08",
          "2024-03-11",
          "2024-03-12",
          "2024-03-13",
          "2024-03-14",
          "2024-03-15",
          "2024-03-18",
          "2024-03-19",
          "2024-03-20",
          "2024-03-21",
          "2024-03-22",
          "2024-03-25",
          "2024-03-26",
          "2024-03-27",
          "2024-03-28",
          "2024-04-01",
          "2024-04-02",
          "2024-04-03",
          "2024-04-04",
          "2024-04-05",
          "2024-04-08",
          "2024-04-09",
          "2024-04-10",
          "2024-04-11",
          "2024-04-12",
          "2024-04-15",
          "2024-04-16",
          "2024-04-17",
          "2024-04-18",
          "2024-04-19",
          "2024-04-22",
          "2024-04-23",
          "2024-04-24",
          "2024-04-25",
          "2024-04-26",
          "2024-04-29",
          "2024-04-30",
          "2024-05-01",
          "2024-05-02",
          "2024-05-03",
          "2024-05-06",
          "2024-05-07",
          "2024-05-08",
          "2024-05-09",
          "2024-05-10",
          "2024-05-13",
          "2024-05-14",
          "2024-05-15",
          "2024-05-16",
          "2024-05-17",
          "2024-05-20",
          "2024-05-21",
          "2024-05-22",
          "2024-05-23",
          "2024-05-24",
          "2024-05-28",
          "2024-05-29",
          "2024-05-30",
          "2024-05-31",
          "2024-06-03",
          "2024-06-04",
          "2024-06-05",
          "2024-06-06",
          "2024-06-07",
          "2024-06-10",
          "2024-06-11",
          "2024-06-12",
          "2024-06-13",
          "2024-06-14",
          "2024-06-17",
          "2024-06-18",
          "2024-06-20",
          "2024-06-21",
          "2024-06-24",
          "2024-06-25",
          "2024-06-26",
          "2024-06-27",
          "2024-06-28",
          "2024-07-01",
          "2024-07-02",
          "2024-07-03",
          "2024-07-05",
          "2024-07-08",
          "2024-07-09",
          "2024-07-10",
          "2024-07-11",
          "2024-07-12",
          "2024-07-15",
          "2024-07-16",
          "2024-07-17",
          "2024-07-18",
          "2024-07-19",
          "2024-07-22",
          "2024-07-23",
          "2024-07-24",
          "2024-07-25",
          "2024-07-26",
          "2024-07-29",
          "2024-07-30",
          "2024-07-31",
          "2024-08-01",
          "2024-08-02",
          "2024-08-05",
          "2024-08-06",
          "2024-08-07",
          "2024-08-08",
          "2024-08-09",
          "2024-08-12",
          "2024-08-13",
          "2024-08-14",
          "2024-08-15",
          "2024-08-16",
          "2024-08-19",
          "2024-08-20",
          "2024-08-21",
          "2024-08-22",
          "2024-08-23",
          "2024-08-26",
          "2024-08-27",
          "2024-08-28",
          "2024-08-29",
          "2024-08-30",
          "2024-09-03",
          "2024-09-04",
          "2024-09-05",
          "2024-09-06",
          "2024-09-09",
          "2024-09-10",
          "2024-09-11",
          "2024-09-12",
          "2024-09-13",
          "2024-09-16",
          "2024-09-17",
          "2024-09-18",
          "2024-09-19",
          "2024-09-20",
          "2024-09-23",
          "2024-09-24",
          "2024-09-25",
          "2024-09-26",
          "2024-09-27",
          "2024-09-30",
          "2024-10-01",
          "2024-10-02",
          "2024-10-03",
          "2024-10-04",
          "2024-10-07",
          "2024-10-08",
          "2024-10-09",
          "2024-10-10",
          "2024-10-11",
          "2024-10-14",
          "2024-10-15",
          "2024-10-16",
          "2024-10-17",
          "2024-10-18",
          "2024-10-21",
          "2024-10-22",
          "2024-10-23",
          "2024-10-24",
          "2024-10-25",
          "2024-10-28",
          "2024-10-29",
          "2024-10-30",
          "2024-10-31",
          "2024-11-01",
          "2024-11-04",
          "2024-11-05",
          "2024-11-06",
          "2024-11-07",
          "2024-11-08",
          "2024-11-11",
          "2024-11-12",
          "2024-11-13",
          "2024-11-14",
          "2024-11-15",
          "2024-11-18",
          "2024-11-19",
          "2024-11-20",
          "2024-11-21",
          "2024-11-22",
          "2024-11-25",
          "2024-11-26",
          "2024-11-27",
          "2024-11-29",
          "2024-12-02",
          "2024-12-03",
          "2024-12-04",
          "2024-12-05",
          "2024-12-06",
          "2024-12-09",
          "2024-12-10",
          "2024-12-11",
          "2024-12-12",
          "2024-12-13",
          "2024-12-16",
          "2024-12-17",
          "2024-12-18",
          "2024-12-19",
          "2024-12-20",
          "2024-12-23",
          "2024-12-24",
          "2024-12-26",
          "2024-12-27",
          "2024-12-30",
          "2024-12-31",
          "2025-01-02",
          "2025-01-03",
          "2025-01-06",
          "2025-01-07",
          "2025-01-08",
          "2025-01-10",
          "2025-01-13",
          "2025-01-14",
          "2025-01-15",
          "2025-01-16",
          "2025-01-17",
          "2025-01-21",
          "2025-01-22",
          "2025-01-23",
          "2025-01-24",
          "2025-01-27",
          "2025-01-28",
          "2025-01-29",
          "2025-01-30",
          "2025-01-31",
          "2025-02-03",
          "2025-02-04",
          "2025-02-05",
          "2025-02-06",
          "2025-02-07",
          "2025-02-10",
          "2025-02-11",
          "2025-02-12",
          "2025-02-13",
          "2025-02-14",
          "2025-02-18",
          "2025-02-19",
          "2025-02-20",
          "2025-02-21",
          "2025-02-24",
          "2025-02-25",
          "2025-02-26",
          "2025-02-27",
          "2025-02-28",
          "2025-03-03",
          "2025-03-04",
          "2025-03-05",
          "2025-03-06",
          "2025-03-07",
          "2025-03-10",
          "2025-03-11",
          "2025-03-12",
          "2025-03-13",
          "2025-03-14",
          "2025-03-17",
          "2025-03-18",
          "2025-03-19",
          "2025-03-20",
          "2025-03-21",
          "2025-03-24",
          "2025-03-25",
          "2025-03-26",
          "2025-03-27",
          "2025-03-28",
          "2025-03-31",
          "2025-04-01",
          "2025-04-02",
          "2025-04-03",
          "2025-04-04",
          "2025-04-07",
          "2025-04-08",
          "2025-04-09",
          "2025-04-10"
         ],
         "y": {
          "bdata": "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",
          "dtype": "f8"
         }
        }
       ],
       "layout": {
        "legend": {
         "x": 0,
         "y": 1
        },
        "template": {
         "data": {
          "bar": [
           {
            "error_x": {
             "color": "#2a3f5f"
            },
            "error_y": {
             "color": "#2a3f5f"
            },
            "marker": {
             "line": {
              "color": "#E5ECF6",
              "width": 0.5
             },
             "pattern": {
              "fillmode": "overlay",
              "size": 10,
              "solidity": 0.2
             }
            },
            "type": "bar"
           }
          ],
          "barpolar": [
           {
            "marker": {
             "line": {
              "color": "#E5ECF6",
              "width": 0.5
             },
             "pattern": {
              "fillmode": "overlay",
              "size": 10,
              "solidity": 0.2
             }
            },
            "type": "barpolar"
           }
          ],
          "carpet": [
           {
            "aaxis": {
             "endlinecolor": "#2a3f5f",
             "gridcolor": "white",
             "linecolor": "white",
             "minorgridcolor": "white",
             "startlinecolor": "#2a3f5f"
            },
            "baxis": {
             "endlinecolor": "#2a3f5f",
             "gridcolor": "white",
             "linecolor": "white",
             "minorgridcolor": "white",
             "startlinecolor": "#2a3f5f"
            },
            "type": "carpet"
           }
          ],
          "choropleth": [
           {
            "colorbar": {
             "outlinewidth": 0,
             "ticks": ""
            },
            "type": "choropleth"
           }
          ],
          "contour": [
           {
            "colorbar": {
             "outlinewidth": 0,
             "ticks": ""
            },
            "colorscale": [
             [
              0,
              "#0d0887"
             ],
             [
              0.1111111111111111,
              "#46039f"
             ],
             [
              0.2222222222222222,
              "#7201a8"
             ],
             [
              0.3333333333333333,
              "#9c179e"
             ],
             [
              0.4444444444444444,
              "#bd3786"
             ],
             [
              0.5555555555555556,
              "#d8576b"
             ],
             [
              0.6666666666666666,
              "#ed7953"
             ],
             [
              0.7777777777777778,
              "#fb9f3a"
             ],
             [
              0.8888888888888888,
              "#fdca26"
             ],
             [
              1,
              "#f0f921"
             ]
            ],
            "type": "contour"
           }
          ],
          "contourcarpet": [
           {
            "colorbar": {
             "outlinewidth": 0,
             "ticks": ""
            },
            "type": "contourcarpet"
           }
          ],
          "heatmap": [
           {
            "colorbar": {
             "outlinewidth": 0,
             "ticks": ""
            },
            "colorscale": [
             [
              0,
              "#0d0887"
             ],
             [
              0.1111111111111111,
              "#46039f"
             ],
             [
              0.2222222222222222,
              "#7201a8"
             ],
             [
              0.3333333333333333,
              "#9c179e"
             ],
             [
              0.4444444444444444,
              "#bd3786"
             ],
             [
              0.5555555555555556,
              "#d8576b"
             ],
             [
              0.6666666666666666,
              "#ed7953"
             ],
             [
              0.7777777777777778,
              "#fb9f3a"
             ],
             [
              0.8888888888888888,
              "#fdca26"
             ],
             [
              1,
              "#f0f921"
             ]
            ],
            "type": "heatmap"
           }
          ],
          "histogram": [
           {
            "marker": {
             "pattern": {
              "fillmode": "overlay",
              "size": 10,
              "solidity": 0.2
             }
            },
            "type": "histogram"
           }
          ],
          "histogram2d": [
           {
            "colorbar": {
             "outlinewidth": 0,
             "ticks": ""
            },
            "colorscale": [
             [
              0,
              "#0d0887"
             ],
             [
              0.1111111111111111,
              "#46039f"
             ],
             [
              0.2222222222222222,
              "#7201a8"
             ],
             [
              0.3333333333333333,
              "#9c179e"
             ],
             [
              0.4444444444444444,
              "#bd3786"
             ],
             [
              0.5555555555555556,
              "#d8576b"
             ],
             [
              0.6666666666666666,
              "#ed7953"
             ],
             [
              0.7777777777777778,
              "#fb9f3a"
             ],
             [
              0.8888888888888888,
              "#fdca26"
             ],
             [
              1,
              "#f0f921"
             ]
            ],
            "type": "histogram2d"
           }
          ],
          "histogram2dcontour": [
           {
            "colorbar": {
             "outlinewidth": 0,
             "ticks": ""
            },
            "colorscale": [
             [
              0,
              "#0d0887"
             ],
             [
              0.1111111111111111,
              "#46039f"
             ],
             [
              0.2222222222222222,
              "#7201a8"
             ],
             [
              0.3333333333333333,
              "#9c179e"
             ],
             [
              0.4444444444444444,
              "#bd3786"
             ],
             [
              0.5555555555555556,
              "#d8576b"
             ],
             [
              0.6666666666666666,
              "#ed7953"
             ],
             [
              0.7777777777777778,
              "#fb9f3a"
             ],
             [
              0.8888888888888888,
              "#fdca26"
             ],
             [
              1,
              "#f0f921"
             ]
            ],
            "type": "histogram2dcontour"
           }
          ],
          "mesh3d": [
           {
            "colorbar": {
             "outlinewidth": 0,
             "ticks": ""
            },
            "type": "mesh3d"
           }
          ],
          "parcoords": [
           {
            "line": {
             "colorbar": {
              "outlinewidth": 0,
              "ticks": ""
             }
            },
            "type": "parcoords"
           }
          ],
          "pie": [
           {
            "automargin": true,
            "type": "pie"
           }
          ],
          "scatter": [
           {
            "fillpattern": {
             "fillmode": "overlay",
             "size": 10,
             "solidity": 0.2
            },
            "type": "scatter"
           }
          ],
          "scatter3d": [
           {
            "line": {
             "colorbar": {
              "outlinewidth": 0,
              "ticks": ""
             }
            },
            "marker": {
             "colorbar": {
              "outlinewidth": 0,
              "ticks": ""
             }
            },
            "type": "scatter3d"
           }
          ],
          "scattercarpet": [
           {
            "marker": {
             "colorbar": {
              "outlinewidth": 0,
              "ticks": ""
             }
            },
            "type": "scattercarpet"
           }
          ],
          "scattergeo": [
           {
            "marker": {
             "colorbar": {
              "outlinewidth": 0,
              "ticks": ""
             }
            },
            "type": "scattergeo"
           }
          ],
          "scattergl": [
           {
            "marker": {
             "colorbar": {
              "outlinewidth": 0,
              "ticks": ""
             }
            },
            "type": "scattergl"
           }
          ],
          "scattermap": [
           {
            "marker": {
             "colorbar": {
              "outlinewidth": 0,
              "ticks": ""
             }
            },
            "type": "scattermap"
           }
          ],
          "scattermapbox": [
           {
            "marker": {
             "colorbar": {
              "outlinewidth": 0,
              "ticks": ""
             }
            },
            "type": "scattermapbox"
           }
          ],
          "scatterpolar": [
           {
            "marker": {
             "colorbar": {
              "outlinewidth": 0,
              "ticks": ""
             }
            },
            "type": "scatterpolar"
           }
          ],
          "scatterpolargl": [
           {
            "marker": {
             "colorbar": {
              "outlinewidth": 0,
              "ticks": ""
             }
            },
            "type": "scatterpolargl"
           }
          ],
          "scatterternary": [
           {
            "marker": {
             "colorbar": {
              "outlinewidth": 0,
              "ticks": ""
             }
            },
            "type": "scatterternary"
           }
          ],
          "surface": [
           {
            "colorbar": {
             "outlinewidth": 0,
             "ticks": ""
            },
            "colorscale": [
             [
              0,
              "#0d0887"
             ],
             [
              0.1111111111111111,
              "#46039f"
             ],
             [
              0.2222222222222222,
              "#7201a8"
             ],
             [
              0.3333333333333333,
              "#9c179e"
             ],
             [
              0.4444444444444444,
              "#bd3786"
             ],
             [
              0.5555555555555556,
              "#d8576b"
             ],
             [
              0.6666666666666666,
              "#ed7953"
             ],
             [
              0.7777777777777778,
              "#fb9f3a"
             ],
             [
              0.8888888888888888,
              "#fdca26"
             ],
             [
              1,
              "#f0f921"
             ]
            ],
            "type": "surface"
           }
          ],
          "table": [
           {
            "cells": {
             "fill": {
              "color": "#EBF0F8"
             },
             "line": {
              "color": "white"
             }
            },
            "header": {
             "fill": {
              "color": "#C8D4E3"
             },
             "line": {
              "color": "white"
             }
            },
            "type": "table"
           }
          ]
         },
         "layout": {
          "annotationdefaults": {
           "arrowcolor": "#2a3f5f",
           "arrowhead": 0,
           "arrowwidth": 1
          },
          "autotypenumbers": "strict",
          "coloraxis": {
           "colorbar": {
            "outlinewidth": 0,
            "ticks": ""
           }
          },
          "colorscale": {
           "diverging": [
            [
             0,
             "#8e0152"
            ],
            [
             0.1,
             "#c51b7d"
            ],
            [
             0.2,
             "#de77ae"
            ],
            [
             0.3,
             "#f1b6da"
            ],
            [
             0.4,
             "#fde0ef"
            ],
            [
             0.5,
             "#f7f7f7"
            ],
            [
             0.6,
             "#e6f5d0"
            ],
            [
             0.7,
             "#b8e186"
            ],
            [
             0.8,
             "#7fbc41"
            ],
            [
             0.9,
             "#4d9221"
            ],
            [
             1,
             "#276419"
            ]
           ],
           "sequential": [
            [
             0,
             "#0d0887"
            ],
            [
             0.1111111111111111,
             "#46039f"
            ],
            [
             0.2222222222222222,
             "#7201a8"
            ],
            [
             0.3333333333333333,
             "#9c179e"
            ],
            [
             0.4444444444444444,
             "#bd3786"
            ],
            [
             0.5555555555555556,
             "#d8576b"
            ],
            [
             0.6666666666666666,
             "#ed7953"
            ],
            [
             0.7777777777777778,
             "#fb9f3a"
            ],
            [
             0.8888888888888888,
             "#fdca26"
            ],
            [
             1,
             "#f0f921"
            ]
           ],
           "sequentialminus": [
            [
             0,
             "#0d0887"
            ],
            [
             0.1111111111111111,
             "#46039f"
            ],
            [
             0.2222222222222222,
             "#7201a8"
            ],
            [
             0.3333333333333333,
             "#9c179e"
            ],
            [
             0.4444444444444444,
             "#bd3786"
            ],
            [
             0.5555555555555556,
             "#d8576b"
            ],
            [
             0.6666666666666666,
             "#ed7953"
            ],
            [
             0.7777777777777778,
             "#fb9f3a"
            ],
            [
             0.8888888888888888,
             "#fdca26"
            ],
            [
             1,
             "#f0f921"
            ]
           ]
          },
          "colorway": [
           "#636efa",
           "#EF553B",
           "#00cc96",
           "#ab63fa",
           "#FFA15A",
           "#19d3f3",
           "#FF6692",
           "#B6E880",
           "#FF97FF",
           "#FECB52"
          ],
          "font": {
           "color": "#2a3f5f"
          },
          "geo": {
           "bgcolor": "white",
           "lakecolor": "white",
           "landcolor": "#E5ECF6",
           "showlakes": true,
           "showland": true,
           "subunitcolor": "white"
          },
          "hoverlabel": {
           "align": "left"
          },
          "hovermode": "closest",
          "mapbox": {
           "style": "light"
          },
          "paper_bgcolor": "white",
          "plot_bgcolor": "#E5ECF6",
          "polar": {
           "angularaxis": {
            "gridcolor": "white",
            "linecolor": "white",
            "ticks": ""
           },
           "bgcolor": "#E5ECF6",
           "radialaxis": {
            "gridcolor": "white",
            "linecolor": "white",
            "ticks": ""
           }
          },
          "scene": {
           "xaxis": {
            "backgroundcolor": "#E5ECF6",
            "gridcolor": "white",
            "gridwidth": 2,
            "linecolor": "white",
            "showbackground": true,
            "ticks": "",
            "zerolinecolor": "white"
           },
           "yaxis": {
            "backgroundcolor": "#E5ECF6",
            "gridcolor": "white",
            "gridwidth": 2,
            "linecolor": "white",
            "showbackground": true,
            "ticks": "",
            "zerolinecolor": "white"
           },
           "zaxis": {
            "backgroundcolor": "#E5ECF6",
            "gridcolor": "white",
            "gridwidth": 2,
            "linecolor": "white",
            "showbackground": true,
            "ticks": "",
            "zerolinecolor": "white"
           }
          },
          "shapedefaults": {
           "line": {
            "color": "#2a3f5f"
           }
          },
          "ternary": {
           "aaxis": {
            "gridcolor": "white",
            "linecolor": "white",
            "ticks": ""
           },
           "baxis": {
            "gridcolor": "white",
            "linecolor": "white",
            "ticks": ""
           },
           "bgcolor": "#E5ECF6",
           "caxis": {
            "gridcolor": "white",
            "linecolor": "white",
            "ticks": ""
           }
          },
          "title": {
           "x": 0.05
          },
          "xaxis": {
           "automargin": true,
           "gridcolor": "white",
           "linecolor": "white",
           "ticks": "",
           "title": {
            "standoff": 15
           },
           "zerolinecolor": "white",
           "zerolinewidth": 2
          },
          "yaxis": {
           "automargin": true,
           "gridcolor": "white",
           "linecolor": "white",
           "ticks": "",
           "title": {
            "standoff": 15
           },
           "zerolinecolor": "white",
           "zerolinewidth": 2
          }
         }
        },
        "title": {
         "text": "TSLA  vs. RIVN Stock Log Prices"
        },
        "xaxis": {
         "title": {
          "text": "timestamp"
         }
        },
        "yaxis": {
         "title": {
          "text": "Price (USD)"
         }
        }
       }
      }
     },
     "metadata": {},
     "output_type": "display_data"
    }
   ],
   "source": [
    "fig = go.Figure()\n",
    "asset_a = \"TSLA\"\n",
    "asset_b = \"RIVN\"\n",
    "fig.add_trace(go.Scatter(x=EV_stocks_data[asset_a][\"timestamp\"], y=np.log(EV_stocks_data[asset_a][\"close\"]), mode=\"lines\", name=f\"{asset_a}\"))\n",
    "fig.add_trace(go.Scatter(x=EV_stocks_data[asset_b][\"timestamp\"], y=np.log(EV_stocks_data[asset_b][\"close\"]), mode=\"lines\", name=f\"{asset_b}\"))\n",
    "fig.update_layout(title=f\"{asset_a}  vs. {asset_b} Stock Log Prices\", xaxis_title=\"timestamp\", yaxis_title=\"Price (USD)\", legend=dict(x=0, y=1))\n",
    "fig.show()\n",
    "fig.write_html(\"html_plot/log_price.html\")"
   ]
  },
  {
   "cell_type": "code",
   "execution_count": 5,
   "id": "6b50effc",
   "metadata": {},
   "outputs": [
    {
     "name": "stdout",
     "output_type": "stream",
     "text": [
      "                            OLS Regression Results                            \n",
      "==============================================================================\n",
      "Dep. Variable:                  close   R-squared:                       0.034\n",
      "Model:                            OLS   Adj. R-squared:                  0.033\n",
      "Method:                 Least Squares   F-statistic:                     26.45\n",
      "Date:                Thu, 10 Apr 2025   Prob (F-statistic):           3.45e-07\n",
      "Time:                        16:25:56   Log-Likelihood:                -375.63\n",
      "No. Observations:                 752   AIC:                             755.3\n",
      "Df Residuals:                     750   BIC:                             764.5\n",
      "Df Model:                           1                                         \n",
      "Covariance Type:            nonrobust                                         \n",
      "==============================================================================\n",
      "                 coef    std err          t      P>|t|      [0.025      0.975]\n",
      "------------------------------------------------------------------------------\n",
      "const          1.2919      0.305      4.234      0.000       0.693       1.891\n",
      "close          0.2883      0.056      5.143      0.000       0.178       0.398\n",
      "==============================================================================\n",
      "Omnibus:                      436.580   Durbin-Watson:                   0.012\n",
      "Prob(Omnibus):                  0.000   Jarque-Bera (JB):               52.785\n",
      "Skew:                           0.279   Prob(JB):                     3.45e-12\n",
      "Kurtosis:                       1.828   Cond. No.                         118.\n",
      "==============================================================================\n",
      "\n",
      "Notes:\n",
      "[1] Standard Errors assume that the covariance matrix of the errors is correctly specified.\n",
      "Cointegration test result:\n",
      "========================================\n",
      "Test Statistic: -2.1118564098567254\n",
      "p-value: 0.47017109222001646\n"
     ]
    }
   ],
   "source": [
    "X = np.log(EV_stocks_data[asset_a][\"close\"])\n",
    "Y = np.log(EV_stocks_data[asset_b][\"close\"])\n",
    "X_const = sm.add_constant(X)  # Adds a constant term to the predictor\n",
    "model = sm.OLS(Y, X_const).fit()\n",
    "print(model.summary())\n",
    "import statsmodels.tsa.stattools as ts\n",
    "\n",
    "result = ts.coint(X, Y)\n",
    "print(\"Cointegration test result:\")\n",
    "print(\"========================================\")\n",
    "print(\"Test Statistic:\", result[0])\n",
    "print(\"p-value:\", result[1])"
   ]
  },
  {
   "cell_type": "code",
   "execution_count": 6,
   "id": "9ace8d96",
   "metadata": {},
   "outputs": [],
   "source": [
    "def rolling_adf(spread_series, time_index, window=90):\n",
    "    adf_stats = []\n",
    "    p_values = []\n",
    "    dates = []\n",
    "\n",
    "    for i in range(window, len(spread_series)):\n",
    "        window_data = spread_series.iloc[i - window : i]\n",
    "        result = adfuller(window_data, maxlag=1, autolag=None)\n",
    "        adf_stats.append(result[0])  # Test statistic\n",
    "        p_values.append(result[1])  # p-value\n",
    "        dates.append(time_index.iloc[i])\n",
    "    return pd.DataFrame({\"timestamp\": dates, \"adf_stat\": adf_stats, \"p_value\": p_values})\n",
    "\n",
    "\n",
    "trade_df = pd.merge(EV_stocks_data[\"RIVN\"][[\"timestamp\", \"close\"]], EV_stocks_data[\"TSLA\"][[\"timestamp\", \"close\"]], on=\"timestamp\", suffixes=(\"_RIVN\", \"_TSLA\"))\n",
    "trade_df[\"log_close_TSLA\"] = np.log(trade_df[\"close_TSLA\"])\n",
    "trade_df[\"log_close_RIVN\"] = np.log(trade_df[\"close_RIVN\"])\n",
    "X = trade_df[\"log_close_TSLA\"].astype(float)\n",
    "Y = trade_df[\"log_close_RIVN\"].astype(float)\n",
    "X_with_const = sm.add_constant(X)\n",
    "model = RollingOLS(endog=Y, exog=X_with_const, window=20)\n",
    "rres = model.fit()\n",
    "trade_df[\"hedge_ratio\"] = rres.params[\"log_close_TSLA\"]\n",
    "trade_df[\"spread\"] = trade_df[\"log_close_RIVN\"] - trade_df[\"hedge_ratio\"] * trade_df[\"log_close_TSLA\"]\n",
    "trade_df[\"z_score\"] = (trade_df[\"spread\"] - trade_df[\"spread\"].rolling(window=20).mean()) / trade_df[\"spread\"].rolling(window=20).std()\n",
    "trade_df.dropna(inplace=True)\n",
    "rolling_adf_df = rolling_adf(trade_df[\"spread\"], trade_df[\"timestamp\"], window=60)\n",
    "trade_df = pd.merge(trade_df, rolling_adf_df, on=\"timestamp\", how=\"left\")\n",
    "trade_df.dropna(inplace=True)"
   ]
  },
  {
   "cell_type": "code",
   "execution_count": 11,
   "id": "8f86e44d",
   "metadata": {},
   "outputs": [
    {
     "data": {
      "application/vnd.plotly.v1+json": {
       "config": {
        "plotlyServerURL": "https://plot.ly"
       },
       "data": [
        {
         "mode": "lines",
         "name": "Rolling ADF p-value",
         "type": "scatter",
         "x": [
          "2022-09-01",
          "2022-09-02",
          "2022-09-06",
          "2022-09-07",
          "2022-09-08",
          "2022-09-09",
          "2022-09-12",
          "2022-09-13",
          "2022-09-14",
          "2022-09-15",
          "2022-09-16",
          "2022-09-19",
          "2022-09-20",
          "2022-09-21",
          "2022-09-22",
          "2022-09-23",
          "2022-09-26",
          "2022-09-27",
          "2022-09-28",
          "2022-09-29",
          "2022-09-30",
          "2022-10-03",
          "2022-10-04",
          "2022-10-05",
          "2022-10-06",
          "2022-10-07",
          "2022-10-10",
          "2022-10-11",
          "2022-10-12",
          "2022-10-13",
          "2022-10-14",
          "2022-10-17",
          "2022-10-18",
          "2022-10-19",
          "2022-10-20",
          "2022-10-21",
          "2022-10-24",
          "2022-10-25",
          "2022-10-26",
          "2022-10-27",
          "2022-10-28",
          "2022-10-31",
          "2022-11-01",
          "2022-11-02",
          "2022-11-03",
          "2022-11-04",
          "2022-11-07",
          "2022-11-08",
          "2022-11-09",
          "2022-11-10",
          "2022-11-11",
          "2022-11-14",
          "2022-11-15",
          "2022-11-16",
          "2022-11-17",
          "2022-11-18",
          "2022-11-21",
          "2022-11-22",
          "2022-11-23",
          "2022-11-25",
          "2022-11-28",
          "2022-11-29",
          "2022-11-30",
          "2022-12-01",
          "2022-12-02",
          "2022-12-05",
          "2022-12-06",
          "2022-12-07",
          "2022-12-08",
          "2022-12-09",
          "2022-12-12",
          "2022-12-13",
          "2022-12-14",
          "2022-12-15",
          "2022-12-16",
          "2022-12-19",
          "2022-12-20",
          "2022-12-21",
          "2022-12-22",
          "2022-12-23",
          "2022-12-27",
          "2022-12-28",
          "2022-12-29",
          "2022-12-30",
          "2023-01-03",
          "2023-01-04",
          "2023-01-05",
          "2023-01-06",
          "2023-01-09",
          "2023-01-10",
          "2023-01-11",
          "2023-01-12",
          "2023-01-13",
          "2023-01-17",
          "2023-01-18",
          "2023-01-19",
          "2023-01-20",
          "2023-01-23",
          "2023-01-24",
          "2023-01-25",
          "2023-01-26",
          "2023-01-27",
          "2023-01-30",
          "2023-01-31",
          "2023-02-01",
          "2023-02-02",
          "2023-02-03",
          "2023-02-06",
          "2023-02-07",
          "2023-02-08",
          "2023-02-09",
          "2023-02-10",
          "2023-02-13",
          "2023-02-14",
          "2023-02-15",
          "2023-02-16",
          "2023-02-17",
          "2023-02-21",
          "2023-02-22",
          "2023-02-23",
          "2023-02-24",
          "2023-02-27",
          "2023-02-28",
          "2023-03-01",
          "2023-03-02",
          "2023-03-03",
          "2023-03-06",
          "2023-03-07",
          "2023-03-08",
          "2023-03-09",
          "2023-03-10",
          "2023-03-13",
          "2023-03-14",
          "2023-03-15",
          "2023-03-16",
          "2023-03-17",
          "2023-03-20",
          "2023-03-21",
          "2023-03-22",
          "2023-03-23",
          "2023-03-24",
          "2023-03-27",
          "2023-03-28",
          "2023-03-29",
          "2023-03-30",
          "2023-03-31",
          "2023-04-03",
          "2023-04-04",
          "2023-04-05",
          "2023-04-06",
          "2023-04-10",
          "2023-04-11",
          "2023-04-12",
          "2023-04-13",
          "2023-04-14",
          "2023-04-17",
          "2023-04-18",
          "2023-04-19",
          "2023-04-20",
          "2023-04-21",
          "2023-04-24",
          "2023-04-25",
          "2023-04-26",
          "2023-04-27",
          "2023-04-28",
          "2023-05-01",
          "2023-05-02",
          "2023-05-03",
          "2023-05-04",
          "2023-05-05",
          "2023-05-08",
          "2023-05-09",
          "2023-05-10",
          "2023-05-11",
          "2023-05-12",
          "2023-05-15",
          "2023-05-16",
          "2023-05-17",
          "2023-05-18",
          "2023-05-19",
          "2023-05-22",
          "2023-05-23",
          "2023-05-24",
          "2023-05-25",
          "2023-05-26",
          "2023-05-30",
          "2023-05-31",
          "2023-06-01",
          "2023-06-02",
          "2023-06-05",
          "2023-06-06",
          "2023-06-07",
          "2023-06-08",
          "2023-06-09",
          "2023-06-12",
          "2023-06-13",
          "2023-06-14",
          "2023-06-15",
          "2023-06-16",
          "2023-06-20",
          "2023-06-21",
          "2023-06-22",
          "2023-06-23",
          "2023-06-26",
          "2023-06-27",
          "2023-06-28",
          "2023-06-29",
          "2023-06-30",
          "2023-07-03",
          "2023-07-05",
          "2023-07-06",
          "2023-07-07",
          "2023-07-10",
          "2023-07-11",
          "2023-07-12",
          "2023-07-13",
          "2023-07-14",
          "2023-07-17",
          "2023-07-18",
          "2023-07-19",
          "2023-07-20",
          "2023-07-21",
          "2023-07-24",
          "2023-07-25",
          "2023-07-26",
          "2023-07-27",
          "2023-07-28",
          "2023-07-31",
          "2023-08-01",
          "2023-08-02",
          "2023-08-03",
          "2023-08-04",
          "2023-08-07",
          "2023-08-08",
          "2023-08-09",
          "2023-08-10",
          "2023-08-11",
          "2023-08-14",
          "2023-08-15",
          "2023-08-16",
          "2023-08-17",
          "2023-08-18",
          "2023-08-21",
          "2023-08-22",
          "2023-08-23",
          "2023-08-24",
          "2023-08-25",
          "2023-08-28",
          "2023-08-29",
          "2023-08-30",
          "2023-08-31",
          "2023-09-01",
          "2023-09-05",
          "2023-09-06",
          "2023-09-07",
          "2023-09-08",
          "2023-09-11",
          "2023-09-12",
          "2023-09-13",
          "2023-09-14",
          "2023-09-15",
          "2023-09-18",
          "2023-09-19",
          "2023-09-20",
          "2023-09-21",
          "2023-09-22",
          "2023-09-25",
          "2023-09-26",
          "2023-09-27",
          "2023-09-28",
          "2023-09-29",
          "2023-10-02",
          "2023-10-03",
          "2023-10-04",
          "2023-10-05",
          "2023-10-06",
          "2023-10-09",
          "2023-10-10",
          "2023-10-11",
          "2023-10-12",
          "2023-10-13",
          "2023-10-16",
          "2023-10-17",
          "2023-10-18",
          "2023-10-19",
          "2023-10-20",
          "2023-10-23",
          "2023-10-24",
          "2023-10-25",
          "2023-10-26",
          "2023-10-27",
          "2023-10-30",
          "2023-10-31",
          "2023-11-01",
          "2023-11-02",
          "2023-11-03",
          "2023-11-06",
          "2023-11-07",
          "2023-11-08",
          "2023-11-09",
          "2023-11-10",
          "2023-11-13",
          "2023-11-14",
          "2023-11-15",
          "2023-11-16",
          "2023-11-17",
          "2023-11-20",
          "2023-11-21",
          "2023-11-22",
          "2023-11-24",
          "2023-11-27",
          "2023-11-28",
          "2023-11-29",
          "2023-11-30",
          "2023-12-01",
          "2023-12-04",
          "2023-12-05",
          "2023-12-06",
          "2023-12-07",
          "2023-12-08",
          "2023-12-11",
          "2023-12-12",
          "2023-12-13",
          "2023-12-14",
          "2023-12-15",
          "2023-12-18",
          "2023-12-19",
          "2023-12-20",
          "2023-12-21",
          "2023-12-22",
          "2023-12-26",
          "2023-12-27",
          "2023-12-28",
          "2023-12-29",
          "2024-01-02",
          "2024-01-03",
          "2024-01-04",
          "2024-01-05",
          "2024-01-08",
          "2024-01-09",
          "2024-01-10",
          "2024-01-11",
          "2024-01-12",
          "2024-01-16",
          "2024-01-17",
          "2024-01-18",
          "2024-01-19",
          "2024-01-22",
          "2024-01-23",
          "2024-01-24",
          "2024-01-25",
          "2024-01-26",
          "2024-01-29",
          "2024-01-30",
          "2024-01-31",
          "2024-02-01",
          "2024-02-02",
          "2024-02-05",
          "2024-02-06",
          "2024-02-07",
          "2024-02-08",
          "2024-02-09",
          "2024-02-12",
          "2024-02-13",
          "2024-02-14",
          "2024-02-15",
          "2024-02-16",
          "2024-02-20",
          "2024-02-21",
          "2024-02-22",
          "2024-02-23",
          "2024-02-26",
          "2024-02-27",
          "2024-02-28",
          "2024-02-29",
          "2024-03-01",
          "2024-03-04",
          "2024-03-05",
          "2024-03-06",
          "2024-03-07",
          "2024-03-08",
          "2024-03-11",
          "2024-03-12",
          "2024-03-13",
          "2024-03-14",
          "2024-03-15",
          "2024-03-18",
          "2024-03-19",
          "2024-03-20",
          "2024-03-21",
          "2024-03-22",
          "2024-03-25",
          "2024-03-26",
          "2024-03-27",
          "2024-03-28",
          "2024-04-01",
          "2024-04-02",
          "2024-04-03",
          "2024-04-04",
          "2024-04-05",
          "2024-04-08",
          "2024-04-09",
          "2024-04-10",
          "2024-04-11",
          "2024-04-12",
          "2024-04-15",
          "2024-04-16",
          "2024-04-17",
          "2024-04-18",
          "2024-04-19",
          "2024-04-22",
          "2024-04-23",
          "2024-04-24",
          "2024-04-25",
          "2024-04-26",
          "2024-04-29",
          "2024-04-30",
          "2024-05-01",
          "2024-05-02",
          "2024-05-03",
          "2024-05-06",
          "2024-05-07",
          "2024-05-08",
          "2024-05-09",
          "2024-05-10",
          "2024-05-13",
          "2024-05-14",
          "2024-05-15",
          "2024-05-16",
          "2024-05-17",
          "2024-05-20",
          "2024-05-21",
          "2024-05-22",
          "2024-05-23",
          "2024-05-24",
          "2024-05-28",
          "2024-05-29",
          "2024-05-30",
          "2024-05-31",
          "2024-06-03",
          "2024-06-04",
          "2024-06-05",
          "2024-06-06",
          "2024-06-07",
          "2024-06-10",
          "2024-06-11",
          "2024-06-12",
          "2024-06-13",
          "2024-06-14",
          "2024-06-17",
          "2024-06-18",
          "2024-06-20",
          "2024-06-21",
          "2024-06-24",
          "2024-06-25",
          "2024-06-26",
          "2024-06-27",
          "2024-06-28",
          "2024-07-01",
          "2024-07-02",
          "2024-07-03",
          "2024-07-05",
          "2024-07-08",
          "2024-07-09",
          "2024-07-10",
          "2024-07-11",
          "2024-07-12",
          "2024-07-15",
          "2024-07-16",
          "2024-07-17",
          "2024-07-18",
          "2024-07-19",
          "2024-07-22",
          "2024-07-23",
          "2024-07-24",
          "2024-07-25",
          "2024-07-26",
          "2024-07-29",
          "2024-07-30",
          "2024-07-31",
          "2024-08-01",
          "2024-08-02",
          "2024-08-05",
          "2024-08-06",
          "2024-08-07",
          "2024-08-08",
          "2024-08-09",
          "2024-08-12",
          "2024-08-13",
          "2024-08-14",
          "2024-08-15",
          "2024-08-16",
          "2024-08-19",
          "2024-08-20",
          "2024-08-21",
          "2024-08-22",
          "2024-08-23",
          "2024-08-26",
          "2024-08-27",
          "2024-08-28",
          "2024-08-29",
          "2024-08-30",
          "2024-09-03",
          "2024-09-04",
          "2024-09-05",
          "2024-09-06",
          "2024-09-09",
          "2024-09-10",
          "2024-09-11",
          "2024-09-12",
          "2024-09-13",
          "2024-09-16",
          "2024-09-17",
          "2024-09-18",
          "2024-09-19",
          "2024-09-20",
          "2024-09-23",
          "2024-09-24",
          "2024-09-25",
          "2024-09-26",
          "2024-09-27",
          "2024-09-30",
          "2024-10-01",
          "2024-10-02",
          "2024-10-03",
          "2024-10-04",
          "2024-10-07",
          "2024-10-08",
          "2024-10-09",
          "2024-10-10",
          "2024-10-11",
          "2024-10-14",
          "2024-10-15",
          "2024-10-16",
          "2024-10-17",
          "2024-10-18",
          "2024-10-21",
          "2024-10-22",
          "2024-10-23",
          "2024-10-24",
          "2024-10-25",
          "2024-10-28",
          "2024-10-29",
          "2024-10-30",
          "2024-10-31",
          "2024-11-01",
          "2024-11-04",
          "2024-11-05",
          "2024-11-06",
          "2024-11-07",
          "2024-11-08",
          "2024-11-11",
          "2024-11-12",
          "2024-11-13",
          "2024-11-14",
          "2024-11-15",
          "2024-11-18",
          "2024-11-19",
          "2024-11-20",
          "2024-11-21",
          "2024-11-22",
          "2024-11-25",
          "2024-11-26",
          "2024-11-27",
          "2024-11-29",
          "2024-12-02",
          "2024-12-03",
          "2024-12-04",
          "2024-12-05",
          "2024-12-06",
          "2024-12-09",
          "2024-12-10",
          "2024-12-11",
          "2024-12-12",
          "2024-12-13",
          "2024-12-16",
          "2024-12-17",
          "2024-12-18",
          "2024-12-19",
          "2024-12-20",
          "2024-12-23",
          "2024-12-24",
          "2024-12-26",
          "2024-12-27",
          "2024-12-30",
          "2024-12-31",
          "2025-01-02",
          "2025-01-03",
          "2025-01-06",
          "2025-01-07",
          "2025-01-08",
          "2025-01-10",
          "2025-01-13",
          "2025-01-14",
          "2025-01-15",
          "2025-01-16",
          "2025-01-17",
          "2025-01-21",
          "2025-01-22",
          "2025-01-23",
          "2025-01-24",
          "2025-01-27",
          "2025-01-28",
          "2025-01-29",
          "2025-01-30",
          "2025-01-31",
          "2025-02-03",
          "2025-02-04",
          "2025-02-05",
          "2025-02-06",
          "2025-02-07",
          "2025-02-10",
          "2025-02-11",
          "2025-02-12",
          "2025-02-13",
          "2025-02-14",
          "2025-02-18",
          "2025-02-19",
          "2025-02-20",
          "2025-02-21",
          "2025-02-24",
          "2025-02-25",
          "2025-02-26",
          "2025-02-27",
          "2025-02-28",
          "2025-03-03",
          "2025-03-04",
          "2025-03-05",
          "2025-03-06",
          "2025-03-07",
          "2025-03-10",
          "2025-03-11",
          "2025-03-12",
          "2025-03-13",
          "2025-03-14",
          "2025-03-17",
          "2025-03-18",
          "2025-03-19",
          "2025-03-20",
          "2025-03-21",
          "2025-03-24",
          "2025-03-25",
          "2025-03-26",
          "2025-03-27",
          "2025-03-28",
          "2025-03-31",
          "2025-04-01",
          "2025-04-02",
          "2025-04-03",
          "2025-04-04",
          "2025-04-07",
          "2025-04-08",
          "2025-04-09",
          "2025-04-10"
         ],
         "y": {
          "bdata": "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",
          "dtype": "f8"
         }
        }
       ],
       "layout": {
        "annotations": [
         {
          "showarrow": false,
          "text": "Significance threshold (0.05)",
          "x": 1,
          "xanchor": "right",
          "xref": "x domain",
          "y": 0.05,
          "yanchor": "top",
          "yref": "y"
         }
        ],
        "shapes": [
         {
          "line": {
           "color": "red",
           "dash": "dash"
          },
          "type": "line",
          "x0": 0,
          "x1": 1,
          "xref": "x domain",
          "y0": 0.05,
          "y1": 0.05,
          "yref": "y"
         }
        ],
        "template": {
         "data": {
          "bar": [
           {
            "error_x": {
             "color": "#2a3f5f"
            },
            "error_y": {
             "color": "#2a3f5f"
            },
            "marker": {
             "line": {
              "color": "#E5ECF6",
              "width": 0.5
             },
             "pattern": {
              "fillmode": "overlay",
              "size": 10,
              "solidity": 0.2
             }
            },
            "type": "bar"
           }
          ],
          "barpolar": [
           {
            "marker": {
             "line": {
              "color": "#E5ECF6",
              "width": 0.5
             },
             "pattern": {
              "fillmode": "overlay",
              "size": 10,
              "solidity": 0.2
             }
            },
            "type": "barpolar"
           }
          ],
          "carpet": [
           {
            "aaxis": {
             "endlinecolor": "#2a3f5f",
             "gridcolor": "white",
             "linecolor": "white",
             "minorgridcolor": "white",
             "startlinecolor": "#2a3f5f"
            },
            "baxis": {
             "endlinecolor": "#2a3f5f",
             "gridcolor": "white",
             "linecolor": "white",
             "minorgridcolor": "white",
             "startlinecolor": "#2a3f5f"
            },
            "type": "carpet"
           }
          ],
          "choropleth": [
           {
            "colorbar": {
             "outlinewidth": 0,
             "ticks": ""
            },
            "type": "choropleth"
           }
          ],
          "contour": [
           {
            "colorbar": {
             "outlinewidth": 0,
             "ticks": ""
            },
            "colorscale": [
             [
              0,
              "#0d0887"
             ],
             [
              0.1111111111111111,
              "#46039f"
             ],
             [
              0.2222222222222222,
              "#7201a8"
             ],
             [
              0.3333333333333333,
              "#9c179e"
             ],
             [
              0.4444444444444444,
              "#bd3786"
             ],
             [
              0.5555555555555556,
              "#d8576b"
             ],
             [
              0.6666666666666666,
              "#ed7953"
             ],
             [
              0.7777777777777778,
              "#fb9f3a"
             ],
             [
              0.8888888888888888,
              "#fdca26"
             ],
             [
              1,
              "#f0f921"
             ]
            ],
            "type": "contour"
           }
          ],
          "contourcarpet": [
           {
            "colorbar": {
             "outlinewidth": 0,
             "ticks": ""
            },
            "type": "contourcarpet"
           }
          ],
          "heatmap": [
           {
            "colorbar": {
             "outlinewidth": 0,
             "ticks": ""
            },
            "colorscale": [
             [
              0,
              "#0d0887"
             ],
             [
              0.1111111111111111,
              "#46039f"
             ],
             [
              0.2222222222222222,
              "#7201a8"
             ],
             [
              0.3333333333333333,
              "#9c179e"
             ],
             [
              0.4444444444444444,
              "#bd3786"
             ],
             [
              0.5555555555555556,
              "#d8576b"
             ],
             [
              0.6666666666666666,
              "#ed7953"
             ],
             [
              0.7777777777777778,
              "#fb9f3a"
             ],
             [
              0.8888888888888888,
              "#fdca26"
             ],
             [
              1,
              "#f0f921"
             ]
            ],
            "type": "heatmap"
           }
          ],
          "histogram": [
           {
            "marker": {
             "pattern": {
              "fillmode": "overlay",
              "size": 10,
              "solidity": 0.2
             }
            },
            "type": "histogram"
           }
          ],
          "histogram2d": [
           {
            "colorbar": {
             "outlinewidth": 0,
             "ticks": ""
            },
            "colorscale": [
             [
              0,
              "#0d0887"
             ],
             [
              0.1111111111111111,
              "#46039f"
             ],
             [
              0.2222222222222222,
              "#7201a8"
             ],
             [
              0.3333333333333333,
              "#9c179e"
             ],
             [
              0.4444444444444444,
              "#bd3786"
             ],
             [
              0.5555555555555556,
              "#d8576b"
             ],
             [
              0.6666666666666666,
              "#ed7953"
             ],
             [
              0.7777777777777778,
              "#fb9f3a"
             ],
             [
              0.8888888888888888,
              "#fdca26"
             ],
             [
              1,
              "#f0f921"
             ]
            ],
            "type": "histogram2d"
           }
          ],
          "histogram2dcontour": [
           {
            "colorbar": {
             "outlinewidth": 0,
             "ticks": ""
            },
            "colorscale": [
             [
              0,
              "#0d0887"
             ],
             [
              0.1111111111111111,
              "#46039f"
             ],
             [
              0.2222222222222222,
              "#7201a8"
             ],
             [
              0.3333333333333333,
              "#9c179e"
             ],
             [
              0.4444444444444444,
              "#bd3786"
             ],
             [
              0.5555555555555556,
              "#d8576b"
             ],
             [
              0.6666666666666666,
              "#ed7953"
             ],
             [
              0.7777777777777778,
              "#fb9f3a"
             ],
             [
              0.8888888888888888,
              "#fdca26"
             ],
             [
              1,
              "#f0f921"
             ]
            ],
            "type": "histogram2dcontour"
           }
          ],
          "mesh3d": [
           {
            "colorbar": {
             "outlinewidth": 0,
             "ticks": ""
            },
            "type": "mesh3d"
           }
          ],
          "parcoords": [
           {
            "line": {
             "colorbar": {
              "outlinewidth": 0,
              "ticks": ""
             }
            },
            "type": "parcoords"
           }
          ],
          "pie": [
           {
            "automargin": true,
            "type": "pie"
           }
          ],
          "scatter": [
           {
            "fillpattern": {
             "fillmode": "overlay",
             "size": 10,
             "solidity": 0.2
            },
            "type": "scatter"
           }
          ],
          "scatter3d": [
           {
            "line": {
             "colorbar": {
              "outlinewidth": 0,
              "ticks": ""
             }
            },
            "marker": {
             "colorbar": {
              "outlinewidth": 0,
              "ticks": ""
             }
            },
            "type": "scatter3d"
           }
          ],
          "scattercarpet": [
           {
            "marker": {
             "colorbar": {
              "outlinewidth": 0,
              "ticks": ""
             }
            },
            "type": "scattercarpet"
           }
          ],
          "scattergeo": [
           {
            "marker": {
             "colorbar": {
              "outlinewidth": 0,
              "ticks": ""
             }
            },
            "type": "scattergeo"
           }
          ],
          "scattergl": [
           {
            "marker": {
             "colorbar": {
              "outlinewidth": 0,
              "ticks": ""
             }
            },
            "type": "scattergl"
           }
          ],
          "scattermap": [
           {
            "marker": {
             "colorbar": {
              "outlinewidth": 0,
              "ticks": ""
             }
            },
            "type": "scattermap"
           }
          ],
          "scattermapbox": [
           {
            "marker": {
             "colorbar": {
              "outlinewidth": 0,
              "ticks": ""
             }
            },
            "type": "scattermapbox"
           }
          ],
          "scatterpolar": [
           {
            "marker": {
             "colorbar": {
              "outlinewidth": 0,
              "ticks": ""
             }
            },
            "type": "scatterpolar"
           }
          ],
          "scatterpolargl": [
           {
            "marker": {
             "colorbar": {
              "outlinewidth": 0,
              "ticks": ""
             }
            },
            "type": "scatterpolargl"
           }
          ],
          "scatterternary": [
           {
            "marker": {
             "colorbar": {
              "outlinewidth": 0,
              "ticks": ""
             }
            },
            "type": "scatterternary"
           }
          ],
          "surface": [
           {
            "colorbar": {
             "outlinewidth": 0,
             "ticks": ""
            },
            "colorscale": [
             [
              0,
              "#0d0887"
             ],
             [
              0.1111111111111111,
              "#46039f"
             ],
             [
              0.2222222222222222,
              "#7201a8"
             ],
             [
              0.3333333333333333,
              "#9c179e"
             ],
             [
              0.4444444444444444,
              "#bd3786"
             ],
             [
              0.5555555555555556,
              "#d8576b"
             ],
             [
              0.6666666666666666,
              "#ed7953"
             ],
             [
              0.7777777777777778,
              "#fb9f3a"
             ],
             [
              0.8888888888888888,
              "#fdca26"
             ],
             [
              1,
              "#f0f921"
             ]
            ],
            "type": "surface"
           }
          ],
          "table": [
           {
            "cells": {
             "fill": {
              "color": "#EBF0F8"
             },
             "line": {
              "color": "white"
             }
            },
            "header": {
             "fill": {
              "color": "#C8D4E3"
             },
             "line": {
              "color": "white"
             }
            },
            "type": "table"
           }
          ]
         },
         "layout": {
          "annotationdefaults": {
           "arrowcolor": "#2a3f5f",
           "arrowhead": 0,
           "arrowwidth": 1
          },
          "autotypenumbers": "strict",
          "coloraxis": {
           "colorbar": {
            "outlinewidth": 0,
            "ticks": ""
           }
          },
          "colorscale": {
           "diverging": [
            [
             0,
             "#8e0152"
            ],
            [
             0.1,
             "#c51b7d"
            ],
            [
             0.2,
             "#de77ae"
            ],
            [
             0.3,
             "#f1b6da"
            ],
            [
             0.4,
             "#fde0ef"
            ],
            [
             0.5,
             "#f7f7f7"
            ],
            [
             0.6,
             "#e6f5d0"
            ],
            [
             0.7,
             "#b8e186"
            ],
            [
             0.8,
             "#7fbc41"
            ],
            [
             0.9,
             "#4d9221"
            ],
            [
             1,
             "#276419"
            ]
           ],
           "sequential": [
            [
             0,
             "#0d0887"
            ],
            [
             0.1111111111111111,
             "#46039f"
            ],
            [
             0.2222222222222222,
             "#7201a8"
            ],
            [
             0.3333333333333333,
             "#9c179e"
            ],
            [
             0.4444444444444444,
             "#bd3786"
            ],
            [
             0.5555555555555556,
             "#d8576b"
            ],
            [
             0.6666666666666666,
             "#ed7953"
            ],
            [
             0.7777777777777778,
             "#fb9f3a"
            ],
            [
             0.8888888888888888,
             "#fdca26"
            ],
            [
             1,
             "#f0f921"
            ]
           ],
           "sequentialminus": [
            [
             0,
             "#0d0887"
            ],
            [
             0.1111111111111111,
             "#46039f"
            ],
            [
             0.2222222222222222,
             "#7201a8"
            ],
            [
             0.3333333333333333,
             "#9c179e"
            ],
            [
             0.4444444444444444,
             "#bd3786"
            ],
            [
             0.5555555555555556,
             "#d8576b"
            ],
            [
             0.6666666666666666,
             "#ed7953"
            ],
            [
             0.7777777777777778,
             "#fb9f3a"
            ],
            [
             0.8888888888888888,
             "#fdca26"
            ],
            [
             1,
             "#f0f921"
            ]
           ]
          },
          "colorway": [
           "#636efa",
           "#EF553B",
           "#00cc96",
           "#ab63fa",
           "#FFA15A",
           "#19d3f3",
           "#FF6692",
           "#B6E880",
           "#FF97FF",
           "#FECB52"
          ],
          "font": {
           "color": "#2a3f5f"
          },
          "geo": {
           "bgcolor": "white",
           "lakecolor": "white",
           "landcolor": "#E5ECF6",
           "showlakes": true,
           "showland": true,
           "subunitcolor": "white"
          },
          "hoverlabel": {
           "align": "left"
          },
          "hovermode": "closest",
          "mapbox": {
           "style": "light"
          },
          "paper_bgcolor": "white",
          "plot_bgcolor": "#E5ECF6",
          "polar": {
           "angularaxis": {
            "gridcolor": "white",
            "linecolor": "white",
            "ticks": ""
           },
           "bgcolor": "#E5ECF6",
           "radialaxis": {
            "gridcolor": "white",
            "linecolor": "white",
            "ticks": ""
           }
          },
          "scene": {
           "xaxis": {
            "backgroundcolor": "#E5ECF6",
            "gridcolor": "white",
            "gridwidth": 2,
            "linecolor": "white",
            "showbackground": true,
            "ticks": "",
            "zerolinecolor": "white"
           },
           "yaxis": {
            "backgroundcolor": "#E5ECF6",
            "gridcolor": "white",
            "gridwidth": 2,
            "linecolor": "white",
            "showbackground": true,
            "ticks": "",
            "zerolinecolor": "white"
           },
           "zaxis": {
            "backgroundcolor": "#E5ECF6",
            "gridcolor": "white",
            "gridwidth": 2,
            "linecolor": "white",
            "showbackground": true,
            "ticks": "",
            "zerolinecolor": "white"
           }
          },
          "shapedefaults": {
           "line": {
            "color": "#2a3f5f"
           }
          },
          "ternary": {
           "aaxis": {
            "gridcolor": "white",
            "linecolor": "white",
            "ticks": ""
           },
           "baxis": {
            "gridcolor": "white",
            "linecolor": "white",
            "ticks": ""
           },
           "bgcolor": "#E5ECF6",
           "caxis": {
            "gridcolor": "white",
            "linecolor": "white",
            "ticks": ""
           }
          },
          "title": {
           "x": 0.05
          },
          "xaxis": {
           "automargin": true,
           "gridcolor": "white",
           "linecolor": "white",
           "ticks": "",
           "title": {
            "standoff": 15
           },
           "zerolinecolor": "white",
           "zerolinewidth": 2
          },
          "yaxis": {
           "automargin": true,
           "gridcolor": "white",
           "linecolor": "white",
           "ticks": "",
           "title": {
            "standoff": 15
           },
           "zerolinecolor": "white",
           "zerolinewidth": 2
          }
         }
        },
        "title": {
         "text": "Rolling ADF Test on Spread (window=60)"
        },
        "xaxis": {
         "title": {
          "text": "timestamp"
         }
        },
        "yaxis": {
         "title": {
          "text": "p-value"
         }
        }
       }
      }
     },
     "metadata": {},
     "output_type": "display_data"
    }
   ],
   "source": [
    "fig = go.Figure()\n",
    "rolling_window = 60\n",
    "fig.add_trace(go.Scatter(x=rolling_adf_df[\"timestamp\"], y=rolling_adf_df[\"p_value\"], mode=\"lines\", name=\"Rolling ADF p-value\"))\n",
    "fig.add_hline(y=0.05, line_dash=\"dash\", line_color=\"red\", annotation_text=\"Significance threshold (0.05)\", annotation_position=\"bottom right\")\n",
    "fig.update_layout(title=f\"Rolling ADF Test on Spread (window={rolling_window})\", xaxis_title=\"timestamp\", yaxis_title=\"p-value\")\n",
    "fig.show()\n",
    "fig.write_html('html_plot/adf_test.html')"
   ]
  },
  {
   "cell_type": "code",
   "execution_count": 12,
   "id": "cec08f33",
   "metadata": {},
   "outputs": [
    {
     "data": {
      "application/vnd.plotly.v1+json": {
       "config": {
        "plotlyServerURL": "https://plot.ly"
       },
       "data": [
        {
         "mode": "lines",
         "name": "Spread",
         "type": "scatter",
         "x": {
          "bdata": "PAA9AD4APwBAAEEAQgBDAEQARQBGAEcASABJAEoASwBMAE0ATgBPAFAAUQBSAFMAVABVAFYAVwBYAFkAWgBbAFwAXQBeAF8AYABhAGIAYwBkAGUAZgBnAGgAaQBqAGsAbABtAG4AbwBwAHEAcgBzAHQAdQB2AHcAeAB5AHoAewB8AH0AfgB/AIAAgQCCAIMAhACFAIYAhwCIAIkAigCLAIwAjQCOAI8AkACRAJIAkwCUAJUAlgCXAJgAmQCaAJsAnACdAJ4AnwCgAKEAogCjAKQApQCmAKcAqACpAKoAqwCsAK0ArgCvALAAsQCyALMAtAC1ALYAtwC4ALkAugC7ALwAvQC+AL8AwADBAMIAwwDEAMUAxgDHAMgAyQDKAMsAzADNAM4AzwDQANEA0gDTANQA1QDWANcA2ADZANoA2wDcAN0A3gDfAOAA4QDiAOMA5ADlAOYA5wDoAOkA6gDrAOwA7QDuAO8A8ADxAPIA8wD0APUA9gD3APgA+QD6APsA/AD9AP4A/wAAAQEBAgEDAQQBBQEGAQcBCAEJAQoBCwEMAQ0BDgEPARABEQESARMBFAEVARYBFwEYARkBGgEbARwBHQEeAR8BIAEhASIBIwEkASUBJgEnASgBKQEqASsBLAEtAS4BLwEwATEBMgEzATQBNQE2ATcBOAE5AToBOwE8AT0BPgE/AUABQQFCAUMBRAFFAUYBRwFIAUkBSgFLAUwBTQFOAU8BUAFRAVIBUwFUAVUBVgFXAVgBWQFaAVsBXAFdAV4BXwFgAWEBYgFjAWQBZQFmAWcBaAFpAWoBawFsAW0BbgFvAXABcQFyAXMBdAF1AXYBdwF4AXkBegF7AXwBfQF+AX8BgAGBAYIBgwGEAYUBhgGHAYgBiQGKAYsBjAGNAY4BjwGQAZEBkgGTAZQBlQGWAZcBmAGZAZoBmwGcAZ0BngGfAaABoQGiAaMBpAGlAaYBpwGoAakBqgGrAawBrQGuAa8BsAGxAbIBswG0AbUBtgG3AbgBuQG6AbsBvAG9Ab4BvwHAAcEBwgHDAcQBxQHGAccByAHJAcoBywHMAc0BzgHPAdAB0QHSAdMB1AHVAdYB1wHYAdkB2gHbAdwB3QHeAd8B4AHhAeIB4wHkAeUB5gHnAegB6QHqAesB7AHtAe4B7wHwAfEB8gHzAfQB9QH2AfcB+AH5AfoB+wH8Af0B/gH/AQACAQICAgMCBAIFAgYCBwIIAgkCCgILAgwCDQIOAg8CEAIRAhICEwIUAhUCFgIXAhgCGQIaAhsCHAIdAh4CHwIgAiECIgIjAiQCJQImAicCKAIpAioCKwIsAi0CLgIvAjACMQIyAjMCNAI1AjYCNwI4AjkCOgI7AjwCPQI+Aj8CQAJBAkICQwJEAkUCRgJHAkgCSQJKAksCTAJNAk4CTwJQAlECUgJTAlQCVQJWAlcCWAJZAloCWwJcAl0CXgJfAmACYQJiAmMCZAJlAmYCZwJoAmkCagJrAmwCbQJuAm8CcAJxAnICcwJ0AnUCdgJ3AngCeQJ6AnsCfAJ9An4CfwKAAoECggKDAoQChQKGAocCiAKJAooCiwKMAo0CjgKPApACkQKSApMClAKVApYClwKYApkCmgKbApwCnQKeAp8CoAKhAqICowKkAqUCpgKnAqgCqQKqAqsCrAKtAq4CrwKwArECsgKzArQCtQK2ArcCuAK5AroCuwK8Ar0CvgK/AsACwQLCAsMCxALFAsYCxwLIAskC",
          "dtype": "i2"
         },
         "y": {
          "bdata": "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",
          "dtype": "f8"
         }
        },
        {
         "line": {
          "color": "black",
          "dash": "dash"
         },
         "mode": "lines",
         "name": "Zero Line",
         "type": "scatter",
         "x": [
          60,
          713
         ],
         "y": [
          0,
          0
         ]
        },
        {
         "line": {
          "color": "red",
          "dash": "dash"
         },
         "mode": "lines",
         "name": "+2σ",
         "type": "scatter",
         "x": [
          60,
          713
         ],
         "y": [
          9.251282311687573,
          9.251282311687573
         ]
        },
        {
         "line": {
          "color": "red",
          "dash": "dash"
         },
         "mode": "lines",
         "name": "-2σ",
         "type": "scatter",
         "x": [
          60,
          713
         ],
         "y": [
          -10.940117335566152,
          -10.940117335566152
         ]
        },
        {
         "line": {
          "color": "green",
          "dash": "dash"
         },
         "mode": "lines",
         "name": "+0.5σ",
         "type": "scatter",
         "x": [
          60,
          713
         ],
         "y": [
          1.679507443967426,
          1.679507443967426
         ]
        },
        {
         "line": {
          "color": "green",
          "dash": "dash"
         },
         "mode": "lines",
         "name": "-0.5σ",
         "type": "scatter",
         "x": [
          60,
          713
         ],
         "y": [
          -3.368342467846005,
          -3.368342467846005
         ]
        },
        {
         "marker": {
          "color": "blue",
          "size": 10
         },
         "mode": "markers",
         "name": "Entry",
         "type": "scatter",
         "x": {
          "bdata": "UgBkAGYAfQCaAJ0AtgDMAO0ADAEOARABHgFIAVMBbAF7AYABkgGuAbAByQHRAewB7gH5AQMCFgIvAkACUAJxAnQCiAKaAg==",
          "dtype": "i2"
         },
         "y": {
          "bdata": "CDNHdItK2792IgE2wav7v0RgR17QEg/Amg+uyn1HBMDga0diyULqv204+Ml+IgZAU8Dbw9a8BkCgeGMH156/vxMAfKYdYg/A/NTGSJoo87+0g4XcnRIdwIS3JtMGOzDAJFLHduQJFkDAXVgHGZ/RP99TpbEfphJAHANwF1cf5T9Kvv5xO5sLwPSwJPJLNy/Avb66ZoFcIMB1EPXIabQRQBnv8biXHylAaK7+PyH8BcC0HudXUHsawEWDzMyiRQRAwJ9NbZEvF0DQqIBD11UcQPOE/8jpxgDAEMJs1xPZ3r8lMfXT21UQQJvZSPPi+xdArlqalK9e7D9BiJiNqkPxP6IjTeB8qADA4MHrkjJR+j/djRCD+nEAwA==",
          "dtype": "f8"
         }
        },
        {
         "marker": {
          "color": "purple",
          "size": 10
         },
         "mode": "markers",
         "name": "Exit",
         "type": "scatter",
         "x": {
          "bdata": "XABlAGsAhwCcAKUAwADTAO8ADQEPARoBKAFSAVgBdgF/AYoBnAGvAbYBzgHXAe0B8gH/AQ0CHwI5AkoCWgJzAn4CkgKfAg==",
          "dtype": "i2"
         },
         "y": {
          "bdata": "IFeybOkRAEDQD2xffBAIwAA1dAZx2Zw/HM5MIon2CcDWMZ6DyOX6PziQVcrkB+o/ZlJ9AMOZHsDqufvlpqr/v3iudfCt4AHADzbDoODQDsCB7kiypg8owDx8ymnLcivAYA+BjoHC5T+hcDdtYUsFQOk5j/9hEwFAKFly8pzV7j8OD12aOMgpwI7qUeb4iTDAKorinQDkDMAZY6/UyRojQK6NBACLiA5ATA1buFOb5j+qqPaItEYHwNa92XO4uw9Aqga/+Yqz+T/KT9G3P6UUQI3hL+VeQgXAJPr2IGIv6L8LeZBR/g0LQAKGODq3lyRAWdQUOZyZ9T+MZMyrRkr7v5XD9ePI7gLAd+PHB8BTA0AgODNF+Ma6Pw==",
          "dtype": "f8"
         }
        }
       ],
       "layout": {
        "template": {
         "data": {
          "bar": [
           {
            "error_x": {
             "color": "#2a3f5f"
            },
            "error_y": {
             "color": "#2a3f5f"
            },
            "marker": {
             "line": {
              "color": "white",
              "width": 0.5
             },
             "pattern": {
              "fillmode": "overlay",
              "size": 10,
              "solidity": 0.2
             }
            },
            "type": "bar"
           }
          ],
          "barpolar": [
           {
            "marker": {
             "line": {
              "color": "white",
              "width": 0.5
             },
             "pattern": {
              "fillmode": "overlay",
              "size": 10,
              "solidity": 0.2
             }
            },
            "type": "barpolar"
           }
          ],
          "carpet": [
           {
            "aaxis": {
             "endlinecolor": "#2a3f5f",
             "gridcolor": "#C8D4E3",
             "linecolor": "#C8D4E3",
             "minorgridcolor": "#C8D4E3",
             "startlinecolor": "#2a3f5f"
            },
            "baxis": {
             "endlinecolor": "#2a3f5f",
             "gridcolor": "#C8D4E3",
             "linecolor": "#C8D4E3",
             "minorgridcolor": "#C8D4E3",
             "startlinecolor": "#2a3f5f"
            },
            "type": "carpet"
           }
          ],
          "choropleth": [
           {
            "colorbar": {
             "outlinewidth": 0,
             "ticks": ""
            },
            "type": "choropleth"
           }
          ],
          "contour": [
           {
            "colorbar": {
             "outlinewidth": 0,
             "ticks": ""
            },
            "colorscale": [
             [
              0,
              "#0d0887"
             ],
             [
              0.1111111111111111,
              "#46039f"
             ],
             [
              0.2222222222222222,
              "#7201a8"
             ],
             [
              0.3333333333333333,
              "#9c179e"
             ],
             [
              0.4444444444444444,
              "#bd3786"
             ],
             [
              0.5555555555555556,
              "#d8576b"
             ],
             [
              0.6666666666666666,
              "#ed7953"
             ],
             [
              0.7777777777777778,
              "#fb9f3a"
             ],
             [
              0.8888888888888888,
              "#fdca26"
             ],
             [
              1,
              "#f0f921"
             ]
            ],
            "type": "contour"
           }
          ],
          "contourcarpet": [
           {
            "colorbar": {
             "outlinewidth": 0,
             "ticks": ""
            },
            "type": "contourcarpet"
           }
          ],
          "heatmap": [
           {
            "colorbar": {
             "outlinewidth": 0,
             "ticks": ""
            },
            "colorscale": [
             [
              0,
              "#0d0887"
             ],
             [
              0.1111111111111111,
              "#46039f"
             ],
             [
              0.2222222222222222,
              "#7201a8"
             ],
             [
              0.3333333333333333,
              "#9c179e"
             ],
             [
              0.4444444444444444,
              "#bd3786"
             ],
             [
              0.5555555555555556,
              "#d8576b"
             ],
             [
              0.6666666666666666,
              "#ed7953"
             ],
             [
              0.7777777777777778,
              "#fb9f3a"
             ],
             [
              0.8888888888888888,
              "#fdca26"
             ],
             [
              1,
              "#f0f921"
             ]
            ],
            "type": "heatmap"
           }
          ],
          "histogram": [
           {
            "marker": {
             "pattern": {
              "fillmode": "overlay",
              "size": 10,
              "solidity": 0.2
             }
            },
            "type": "histogram"
           }
          ],
          "histogram2d": [
           {
            "colorbar": {
             "outlinewidth": 0,
             "ticks": ""
            },
            "colorscale": [
             [
              0,
              "#0d0887"
             ],
             [
              0.1111111111111111,
              "#46039f"
             ],
             [
              0.2222222222222222,
              "#7201a8"
             ],
             [
              0.3333333333333333,
              "#9c179e"
             ],
             [
              0.4444444444444444,
              "#bd3786"
             ],
             [
              0.5555555555555556,
              "#d8576b"
             ],
             [
              0.6666666666666666,
              "#ed7953"
             ],
             [
              0.7777777777777778,
              "#fb9f3a"
             ],
             [
              0.8888888888888888,
              "#fdca26"
             ],
             [
              1,
              "#f0f921"
             ]
            ],
            "type": "histogram2d"
           }
          ],
          "histogram2dcontour": [
           {
            "colorbar": {
             "outlinewidth": 0,
             "ticks": ""
            },
            "colorscale": [
             [
              0,
              "#0d0887"
             ],
             [
              0.1111111111111111,
              "#46039f"
             ],
             [
              0.2222222222222222,
              "#7201a8"
             ],
             [
              0.3333333333333333,
              "#9c179e"
             ],
             [
              0.4444444444444444,
              "#bd3786"
             ],
             [
              0.5555555555555556,
              "#d8576b"
             ],
             [
              0.6666666666666666,
              "#ed7953"
             ],
             [
              0.7777777777777778,
              "#fb9f3a"
             ],
             [
              0.8888888888888888,
              "#fdca26"
             ],
             [
              1,
              "#f0f921"
             ]
            ],
            "type": "histogram2dcontour"
           }
          ],
          "mesh3d": [
           {
            "colorbar": {
             "outlinewidth": 0,
             "ticks": ""
            },
            "type": "mesh3d"
           }
          ],
          "parcoords": [
           {
            "line": {
             "colorbar": {
              "outlinewidth": 0,
              "ticks": ""
             }
            },
            "type": "parcoords"
           }
          ],
          "pie": [
           {
            "automargin": true,
            "type": "pie"
           }
          ],
          "scatter": [
           {
            "fillpattern": {
             "fillmode": "overlay",
             "size": 10,
             "solidity": 0.2
            },
            "type": "scatter"
           }
          ],
          "scatter3d": [
           {
            "line": {
             "colorbar": {
              "outlinewidth": 0,
              "ticks": ""
             }
            },
            "marker": {
             "colorbar": {
              "outlinewidth": 0,
              "ticks": ""
             }
            },
            "type": "scatter3d"
           }
          ],
          "scattercarpet": [
           {
            "marker": {
             "colorbar": {
              "outlinewidth": 0,
              "ticks": ""
             }
            },
            "type": "scattercarpet"
           }
          ],
          "scattergeo": [
           {
            "marker": {
             "colorbar": {
              "outlinewidth": 0,
              "ticks": ""
             }
            },
            "type": "scattergeo"
           }
          ],
          "scattergl": [
           {
            "marker": {
             "colorbar": {
              "outlinewidth": 0,
              "ticks": ""
             }
            },
            "type": "scattergl"
           }
          ],
          "scattermap": [
           {
            "marker": {
             "colorbar": {
              "outlinewidth": 0,
              "ticks": ""
             }
            },
            "type": "scattermap"
           }
          ],
          "scattermapbox": [
           {
            "marker": {
             "colorbar": {
              "outlinewidth": 0,
              "ticks": ""
             }
            },
            "type": "scattermapbox"
           }
          ],
          "scatterpolar": [
           {
            "marker": {
             "colorbar": {
              "outlinewidth": 0,
              "ticks": ""
             }
            },
            "type": "scatterpolar"
           }
          ],
          "scatterpolargl": [
           {
            "marker": {
             "colorbar": {
              "outlinewidth": 0,
              "ticks": ""
             }
            },
            "type": "scatterpolargl"
           }
          ],
          "scatterternary": [
           {
            "marker": {
             "colorbar": {
              "outlinewidth": 0,
              "ticks": ""
             }
            },
            "type": "scatterternary"
           }
          ],
          "surface": [
           {
            "colorbar": {
             "outlinewidth": 0,
             "ticks": ""
            },
            "colorscale": [
             [
              0,
              "#0d0887"
             ],
             [
              0.1111111111111111,
              "#46039f"
             ],
             [
              0.2222222222222222,
              "#7201a8"
             ],
             [
              0.3333333333333333,
              "#9c179e"
             ],
             [
              0.4444444444444444,
              "#bd3786"
             ],
             [
              0.5555555555555556,
              "#d8576b"
             ],
             [
              0.6666666666666666,
              "#ed7953"
             ],
             [
              0.7777777777777778,
              "#fb9f3a"
             ],
             [
              0.8888888888888888,
              "#fdca26"
             ],
             [
              1,
              "#f0f921"
             ]
            ],
            "type": "surface"
           }
          ],
          "table": [
           {
            "cells": {
             "fill": {
              "color": "#EBF0F8"
             },
             "line": {
              "color": "white"
             }
            },
            "header": {
             "fill": {
              "color": "#C8D4E3"
             },
             "line": {
              "color": "white"
             }
            },
            "type": "table"
           }
          ]
         },
         "layout": {
          "annotationdefaults": {
           "arrowcolor": "#2a3f5f",
           "arrowhead": 0,
           "arrowwidth": 1
          },
          "autotypenumbers": "strict",
          "coloraxis": {
           "colorbar": {
            "outlinewidth": 0,
            "ticks": ""
           }
          },
          "colorscale": {
           "diverging": [
            [
             0,
             "#8e0152"
            ],
            [
             0.1,
             "#c51b7d"
            ],
            [
             0.2,
             "#de77ae"
            ],
            [
             0.3,
             "#f1b6da"
            ],
            [
             0.4,
             "#fde0ef"
            ],
            [
             0.5,
             "#f7f7f7"
            ],
            [
             0.6,
             "#e6f5d0"
            ],
            [
             0.7,
             "#b8e186"
            ],
            [
             0.8,
             "#7fbc41"
            ],
            [
             0.9,
             "#4d9221"
            ],
            [
             1,
             "#276419"
            ]
           ],
           "sequential": [
            [
             0,
             "#0d0887"
            ],
            [
             0.1111111111111111,
             "#46039f"
            ],
            [
             0.2222222222222222,
             "#7201a8"
            ],
            [
             0.3333333333333333,
             "#9c179e"
            ],
            [
             0.4444444444444444,
             "#bd3786"
            ],
            [
             0.5555555555555556,
             "#d8576b"
            ],
            [
             0.6666666666666666,
             "#ed7953"
            ],
            [
             0.7777777777777778,
             "#fb9f3a"
            ],
            [
             0.8888888888888888,
             "#fdca26"
            ],
            [
             1,
             "#f0f921"
            ]
           ],
           "sequentialminus": [
            [
             0,
             "#0d0887"
            ],
            [
             0.1111111111111111,
             "#46039f"
            ],
            [
             0.2222222222222222,
             "#7201a8"
            ],
            [
             0.3333333333333333,
             "#9c179e"
            ],
            [
             0.4444444444444444,
             "#bd3786"
            ],
            [
             0.5555555555555556,
             "#d8576b"
            ],
            [
             0.6666666666666666,
             "#ed7953"
            ],
            [
             0.7777777777777778,
             "#fb9f3a"
            ],
            [
             0.8888888888888888,
             "#fdca26"
            ],
            [
             1,
             "#f0f921"
            ]
           ]
          },
          "colorway": [
           "#636efa",
           "#EF553B",
           "#00cc96",
           "#ab63fa",
           "#FFA15A",
           "#19d3f3",
           "#FF6692",
           "#B6E880",
           "#FF97FF",
           "#FECB52"
          ],
          "font": {
           "color": "#2a3f5f"
          },
          "geo": {
           "bgcolor": "white",
           "lakecolor": "white",
           "landcolor": "white",
           "showlakes": true,
           "showland": true,
           "subunitcolor": "#C8D4E3"
          },
          "hoverlabel": {
           "align": "left"
          },
          "hovermode": "closest",
          "mapbox": {
           "style": "light"
          },
          "paper_bgcolor": "white",
          "plot_bgcolor": "white",
          "polar": {
           "angularaxis": {
            "gridcolor": "#EBF0F8",
            "linecolor": "#EBF0F8",
            "ticks": ""
           },
           "bgcolor": "white",
           "radialaxis": {
            "gridcolor": "#EBF0F8",
            "linecolor": "#EBF0F8",
            "ticks": ""
           }
          },
          "scene": {
           "xaxis": {
            "backgroundcolor": "white",
            "gridcolor": "#DFE8F3",
            "gridwidth": 2,
            "linecolor": "#EBF0F8",
            "showbackground": true,
            "ticks": "",
            "zerolinecolor": "#EBF0F8"
           },
           "yaxis": {
            "backgroundcolor": "white",
            "gridcolor": "#DFE8F3",
            "gridwidth": 2,
            "linecolor": "#EBF0F8",
            "showbackground": true,
            "ticks": "",
            "zerolinecolor": "#EBF0F8"
           },
           "zaxis": {
            "backgroundcolor": "white",
            "gridcolor": "#DFE8F3",
            "gridwidth": 2,
            "linecolor": "#EBF0F8",
            "showbackground": true,
            "ticks": "",
            "zerolinecolor": "#EBF0F8"
           }
          },
          "shapedefaults": {
           "line": {
            "color": "#2a3f5f"
           }
          },
          "ternary": {
           "aaxis": {
            "gridcolor": "#DFE8F3",
            "linecolor": "#A2B1C6",
            "ticks": ""
           },
           "baxis": {
            "gridcolor": "#DFE8F3",
            "linecolor": "#A2B1C6",
            "ticks": ""
           },
           "bgcolor": "white",
           "caxis": {
            "gridcolor": "#DFE8F3",
            "linecolor": "#A2B1C6",
            "ticks": ""
           }
          },
          "title": {
           "x": 0.05
          },
          "xaxis": {
           "automargin": true,
           "gridcolor": "#EBF0F8",
           "linecolor": "#EBF0F8",
           "ticks": "",
           "title": {
            "standoff": 15
           },
           "zerolinecolor": "#EBF0F8",
           "zerolinewidth": 2
          },
          "yaxis": {
           "automargin": true,
           "gridcolor": "#EBF0F8",
           "linecolor": "#EBF0F8",
           "ticks": "",
           "title": {
            "standoff": 15
           },
           "zerolinecolor": "#EBF0F8",
           "zerolinewidth": 2
          }
         }
        },
        "title": {
         "text": "Spread and Trade Entry/Exit Points"
        },
        "xaxis": {
         "title": {
          "text": "Timestamp"
         }
        },
        "yaxis": {
         "title": {
          "text": "Spread"
         }
        }
       }
      }
     },
     "metadata": {},
     "output_type": "display_data"
    }
   ],
   "source": [
    "# Step-by-step trade logic\n",
    "df = trade_df.copy()\n",
    "df[\"position\"] = 0  # 1: long spread, -1: short spread\n",
    "df[\"trade_entry\"] = False\n",
    "df[\"trade_exit\"] = False\n",
    "df[\"pnl\"] = 0.0\n",
    "\n",
    "in_position = False\n",
    "position_type = 0\n",
    "entry_index = None\n",
    "entry_spread = None\n",
    "\n",
    "for i in range(len(df)):\n",
    "    z = df[\"z_score\"].iloc[i]\n",
    "    spread = df[\"spread\"].iloc[i]\n",
    "\n",
    "    if not in_position:\n",
    "        if z > 2:\n",
    "            df.at[df.index[i], \"position\"] = -1\n",
    "            df.at[df.index[i], \"trade_entry\"] = True\n",
    "            in_position = True\n",
    "            position_type = -1\n",
    "            entry_index = i\n",
    "            entry_spread = spread\n",
    "        elif z < -2:\n",
    "            df.at[df.index[i], \"position\"] = 1\n",
    "            df.at[df.index[i], \"trade_entry\"] = True\n",
    "            in_position = True\n",
    "            position_type = 1\n",
    "            entry_index = i\n",
    "            entry_spread = spread\n",
    "    else:\n",
    "        stop_loss_triggered = (z > 3 and position_type == -1) or (z < -3 and position_type == 1)\n",
    "        mean_reversion_triggered = abs(z) < 0.5\n",
    "        timeout_triggered = i - entry_index >= 10\n",
    "\n",
    "        if stop_loss_triggered or mean_reversion_triggered or timeout_triggered:\n",
    "            df.at[df.index[i], \"position\"] = 0\n",
    "            df.at[df.index[i], \"trade_exit\"] = True\n",
    "            pnl = -(spread - entry_spread)\n",
    "            df.at[df.index[i], \"pnl\"] = pnl\n",
    "            in_position = False\n",
    "            position_type = 0\n",
    "            entry_index = None\n",
    "            entry_spread = None\n",
    "        else:\n",
    "            df.at[df.index[i], \"position\"] = position_type\n",
    "\n",
    "# Assuming 'df' is your DataFrame from the previous cell containing the computed spread, trade_entry, and trade_exit columns\n",
    "spread_mean = df[\"spread\"].mean()\n",
    "spread_std = df[\"spread\"].std()\n",
    "fig = go.Figure()\n",
    "# Plot the spread line\n",
    "fig.add_trace(go.Scatter(x=df.index, y=df[\"spread\"], mode=\"lines\", name=\"Spread\"))\n",
    "# Plot horizontal lines: zero, ±2σ, and ±0.5σ\n",
    "fig.add_trace(go.Scatter(x=[df.index[0], df.index[-1]], y=[0, 0], mode=\"lines\", name=\"Zero Line\", line=dict(dash=\"dash\", color=\"black\")))\n",
    "fig.add_trace(go.Scatter(x=[df.index[0], df.index[-1]], y=[spread_mean + 2 * spread_std, spread_mean + 2 * spread_std], mode=\"lines\", name=\"+2σ\", line=dict(dash=\"dash\", color=\"red\")))\n",
    "fig.add_trace(go.Scatter(x=[df.index[0], df.index[-1]], y=[spread_mean - 2 * spread_std, spread_mean - 2 * spread_std], mode=\"lines\", name=\"-2σ\", line=dict(dash=\"dash\", color=\"red\")))\n",
    "fig.add_trace(go.Scatter(x=[df.index[0], df.index[-1]], y=[spread_mean + 0.5 * spread_std, spread_mean + 0.5 * spread_std], mode=\"lines\", name=\"+0.5σ\", line=dict(dash=\"dash\", color=\"green\")))\n",
    "fig.add_trace(go.Scatter(x=[df.index[0], df.index[-1]], y=[spread_mean - 0.5 * spread_std, spread_mean - 0.5 * spread_std], mode=\"lines\", name=\"-0.5σ\", line=dict(dash=\"dash\", color=\"green\")))\n",
    "# Scatter markers for trade entries and exits\n",
    "entries_df = df[df[\"trade_entry\"]]\n",
    "exits_df = df[df[\"trade_exit\"]]\n",
    "fig.add_trace(go.Scatter(x=entries_df.index, y=entries_df[\"spread\"], mode=\"markers\", name=\"Entry\", marker=dict(color=\"blue\", size=10)))\n",
    "fig.add_trace(go.Scatter(x=exits_df.index, y=exits_df[\"spread\"], mode=\"markers\", name=\"Exit\", marker=dict(color=\"purple\", size=10)))\n",
    "fig.update_layout(title=\"Spread and Trade Entry/Exit Points\", xaxis_title=\"Timestamp\", yaxis_title=\"Spread\", template=\"plotly_white\")\n",
    "fig.show()\n",
    "fig.write_html('html_plot/spread.html')"
   ]
  },
  {
   "cell_type": "code",
   "execution_count": 13,
   "id": "1e773306",
   "metadata": {},
   "outputs": [
    {
     "data": {
      "application/vnd.plotly.v1+json": {
       "config": {
        "plotlyServerURL": "https://plot.ly"
       },
       "data": [
        {
         "mode": "lines",
         "name": "Cumulative PnL",
         "type": "scatter",
         "x": {
          "bdata": "PAA9AD4APwBAAEEAQgBDAEQARQBGAEcASABJAEoASwBMAE0ATgBPAFAAUQBSAFMAVABVAFYAVwBYAFkAWgBbAFwAXQBeAF8AYABhAGIAYwBkAGUAZgBnAGgAaQBqAGsAbABtAG4AbwBwAHEAcgBzAHQAdQB2AHcAeAB5AHoAewB8AH0AfgB/AIAAgQCCAIMAhACFAIYAhwCIAIkAigCLAIwAjQCOAI8AkACRAJIAkwCUAJUAlgCXAJgAmQCaAJsAnACdAJ4AnwCgAKEAogCjAKQApQCmAKcAqACpAKoAqwCsAK0ArgCvALAAsQCyALMAtAC1ALYAtwC4ALkAugC7ALwAvQC+AL8AwADBAMIAwwDEAMUAxgDHAMgAyQDKAMsAzADNAM4AzwDQANEA0gDTANQA1QDWANcA2ADZANoA2wDcAN0A3gDfAOAA4QDiAOMA5ADlAOYA5wDoAOkA6gDrAOwA7QDuAO8A8ADxAPIA8wD0APUA9gD3APgA+QD6APsA/AD9AP4A/wAAAQEBAgEDAQQBBQEGAQcBCAEJAQoBCwEMAQ0BDgEPARABEQESARMBFAEVARYBFwEYARkBGgEbARwBHQEeAR8BIAEhASIBIwEkASUBJgEnASgBKQEqASsBLAEtAS4BLwEwATEBMgEzATQBNQE2ATcBOAE5AToBOwE8AT0BPgE/AUABQQFCAUMBRAFFAUYBRwFIAUkBSgFLAUwBTQFOAU8BUAFRAVIBUwFUAVUBVgFXAVgBWQFaAVsBXAFdAV4BXwFgAWEBYgFjAWQBZQFmAWcBaAFpAWoBawFsAW0BbgFvAXABcQFyAXMBdAF1AXYBdwF4AXkBegF7AXwBfQF+AX8BgAGBAYIBgwGEAYUBhgGHAYgBiQGKAYsBjAGNAY4BjwGQAZEBkgGTAZQBlQGWAZcBmAGZAZoBmwGcAZ0BngGfAaABoQGiAaMBpAGlAaYBpwGoAakBqgGrAawBrQGuAa8BsAGxAbIBswG0AbUBtgG3AbgBuQG6AbsBvAG9Ab4BvwHAAcEBwgHDAcQBxQHGAccByAHJAcoBywHMAc0BzgHPAdAB0QHSAdMB1AHVAdYB1wHYAdkB2gHbAdwB3QHeAd8B4AHhAeIB4wHkAeUB5gHnAegB6QHqAesB7AHtAe4B7wHwAfEB8gHzAfQB9QH2AfcB+AH5AfoB+wH8Af0B/gH/AQACAQICAgMCBAIFAgYCBwIIAgkCCgILAgwCDQIOAg8CEAIRAhICEwIUAhUCFgIXAhgCGQIaAhsCHAIdAh4CHwIgAiECIgIjAiQCJQImAicCKAIpAioCKwIsAi0CLgIvAjACMQIyAjMCNAI1AjYCNwI4AjkCOgI7AjwCPQI+Aj8CQAJBAkICQwJEAkUCRgJHAkgCSQJKAksCTAJNAk4CTwJQAlECUgJTAlQCVQJWAlcCWAJZAloCWwJcAl0CXgJfAmACYQJiAmMCZAJlAmYCZwJoAmkCagJrAmwCbQJuAm8CcAJxAnICcwJ0AnUCdgJ3AngCeQJ6AnsCfAJ9An4CfwKAAoECggKDAoQChQKGAocCiAKJAooCiwKMAo0CjgKPApACkQKSApMClAKVApYClwKYApkCmgKbApwCnQKeAp8CoAKhAqICowKkAqUCpgKnAqgCqQKqAqsCrAKtAq4CrwKwArECsgKzArQCtQK2ArcCuAK5AroCuwK8Ar0CvgK/AsACwQLCAsMCxALFAsYCxwLIAskC",
          "dtype": "i2"
         },
         "y": {
          "bdata": "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",
          "dtype": "f8"
         }
        }
       ],
       "layout": {
        "template": {
         "data": {
          "bar": [
           {
            "error_x": {
             "color": "#2a3f5f"
            },
            "error_y": {
             "color": "#2a3f5f"
            },
            "marker": {
             "line": {
              "color": "#E5ECF6",
              "width": 0.5
             },
             "pattern": {
              "fillmode": "overlay",
              "size": 10,
              "solidity": 0.2
             }
            },
            "type": "bar"
           }
          ],
          "barpolar": [
           {
            "marker": {
             "line": {
              "color": "#E5ECF6",
              "width": 0.5
             },
             "pattern": {
              "fillmode": "overlay",
              "size": 10,
              "solidity": 0.2
             }
            },
            "type": "barpolar"
           }
          ],
          "carpet": [
           {
            "aaxis": {
             "endlinecolor": "#2a3f5f",
             "gridcolor": "white",
             "linecolor": "white",
             "minorgridcolor": "white",
             "startlinecolor": "#2a3f5f"
            },
            "baxis": {
             "endlinecolor": "#2a3f5f",
             "gridcolor": "white",
             "linecolor": "white",
             "minorgridcolor": "white",
             "startlinecolor": "#2a3f5f"
            },
            "type": "carpet"
           }
          ],
          "choropleth": [
           {
            "colorbar": {
             "outlinewidth": 0,
             "ticks": ""
            },
            "type": "choropleth"
           }
          ],
          "contour": [
           {
            "colorbar": {
             "outlinewidth": 0,
             "ticks": ""
            },
            "colorscale": [
             [
              0,
              "#0d0887"
             ],
             [
              0.1111111111111111,
              "#46039f"
             ],
             [
              0.2222222222222222,
              "#7201a8"
             ],
             [
              0.3333333333333333,
              "#9c179e"
             ],
             [
              0.4444444444444444,
              "#bd3786"
             ],
             [
              0.5555555555555556,
              "#d8576b"
             ],
             [
              0.6666666666666666,
              "#ed7953"
             ],
             [
              0.7777777777777778,
              "#fb9f3a"
             ],
             [
              0.8888888888888888,
              "#fdca26"
             ],
             [
              1,
              "#f0f921"
             ]
            ],
            "type": "contour"
           }
          ],
          "contourcarpet": [
           {
            "colorbar": {
             "outlinewidth": 0,
             "ticks": ""
            },
            "type": "contourcarpet"
           }
          ],
          "heatmap": [
           {
            "colorbar": {
             "outlinewidth": 0,
             "ticks": ""
            },
            "colorscale": [
             [
              0,
              "#0d0887"
             ],
             [
              0.1111111111111111,
              "#46039f"
             ],
             [
              0.2222222222222222,
              "#7201a8"
             ],
             [
              0.3333333333333333,
              "#9c179e"
             ],
             [
              0.4444444444444444,
              "#bd3786"
             ],
             [
              0.5555555555555556,
              "#d8576b"
             ],
             [
              0.6666666666666666,
              "#ed7953"
             ],
             [
              0.7777777777777778,
              "#fb9f3a"
             ],
             [
              0.8888888888888888,
              "#fdca26"
             ],
             [
              1,
              "#f0f921"
             ]
            ],
            "type": "heatmap"
           }
          ],
          "histogram": [
           {
            "marker": {
             "pattern": {
              "fillmode": "overlay",
              "size": 10,
              "solidity": 0.2
             }
            },
            "type": "histogram"
           }
          ],
          "histogram2d": [
           {
            "colorbar": {
             "outlinewidth": 0,
             "ticks": ""
            },
            "colorscale": [
             [
              0,
              "#0d0887"
             ],
             [
              0.1111111111111111,
              "#46039f"
             ],
             [
              0.2222222222222222,
              "#7201a8"
             ],
             [
              0.3333333333333333,
              "#9c179e"
             ],
             [
              0.4444444444444444,
              "#bd3786"
             ],
             [
              0.5555555555555556,
              "#d8576b"
             ],
             [
              0.6666666666666666,
              "#ed7953"
             ],
             [
              0.7777777777777778,
              "#fb9f3a"
             ],
             [
              0.8888888888888888,
              "#fdca26"
             ],
             [
              1,
              "#f0f921"
             ]
            ],
            "type": "histogram2d"
           }
          ],
          "histogram2dcontour": [
           {
            "colorbar": {
             "outlinewidth": 0,
             "ticks": ""
            },
            "colorscale": [
             [
              0,
              "#0d0887"
             ],
             [
              0.1111111111111111,
              "#46039f"
             ],
             [
              0.2222222222222222,
              "#7201a8"
             ],
             [
              0.3333333333333333,
              "#9c179e"
             ],
             [
              0.4444444444444444,
              "#bd3786"
             ],
             [
              0.5555555555555556,
              "#d8576b"
             ],
             [
              0.6666666666666666,
              "#ed7953"
             ],
             [
              0.7777777777777778,
              "#fb9f3a"
             ],
             [
              0.8888888888888888,
              "#fdca26"
             ],
             [
              1,
              "#f0f921"
             ]
            ],
            "type": "histogram2dcontour"
           }
          ],
          "mesh3d": [
           {
            "colorbar": {
             "outlinewidth": 0,
             "ticks": ""
            },
            "type": "mesh3d"
           }
          ],
          "parcoords": [
           {
            "line": {
             "colorbar": {
              "outlinewidth": 0,
              "ticks": ""
             }
            },
            "type": "parcoords"
           }
          ],
          "pie": [
           {
            "automargin": true,
            "type": "pie"
           }
          ],
          "scatter": [
           {
            "fillpattern": {
             "fillmode": "overlay",
             "size": 10,
             "solidity": 0.2
            },
            "type": "scatter"
           }
          ],
          "scatter3d": [
           {
            "line": {
             "colorbar": {
              "outlinewidth": 0,
              "ticks": ""
             }
            },
            "marker": {
             "colorbar": {
              "outlinewidth": 0,
              "ticks": ""
             }
            },
            "type": "scatter3d"
           }
          ],
          "scattercarpet": [
           {
            "marker": {
             "colorbar": {
              "outlinewidth": 0,
              "ticks": ""
             }
            },
            "type": "scattercarpet"
           }
          ],
          "scattergeo": [
           {
            "marker": {
             "colorbar": {
              "outlinewidth": 0,
              "ticks": ""
             }
            },
            "type": "scattergeo"
           }
          ],
          "scattergl": [
           {
            "marker": {
             "colorbar": {
              "outlinewidth": 0,
              "ticks": ""
             }
            },
            "type": "scattergl"
           }
          ],
          "scattermap": [
           {
            "marker": {
             "colorbar": {
              "outlinewidth": 0,
              "ticks": ""
             }
            },
            "type": "scattermap"
           }
          ],
          "scattermapbox": [
           {
            "marker": {
             "colorbar": {
              "outlinewidth": 0,
              "ticks": ""
             }
            },
            "type": "scattermapbox"
           }
          ],
          "scatterpolar": [
           {
            "marker": {
             "colorbar": {
              "outlinewidth": 0,
              "ticks": ""
             }
            },
            "type": "scatterpolar"
           }
          ],
          "scatterpolargl": [
           {
            "marker": {
             "colorbar": {
              "outlinewidth": 0,
              "ticks": ""
             }
            },
            "type": "scatterpolargl"
           }
          ],
          "scatterternary": [
           {
            "marker": {
             "colorbar": {
              "outlinewidth": 0,
              "ticks": ""
             }
            },
            "type": "scatterternary"
           }
          ],
          "surface": [
           {
            "colorbar": {
             "outlinewidth": 0,
             "ticks": ""
            },
            "colorscale": [
             [
              0,
              "#0d0887"
             ],
             [
              0.1111111111111111,
              "#46039f"
             ],
             [
              0.2222222222222222,
              "#7201a8"
             ],
             [
              0.3333333333333333,
              "#9c179e"
             ],
             [
              0.4444444444444444,
              "#bd3786"
             ],
             [
              0.5555555555555556,
              "#d8576b"
             ],
             [
              0.6666666666666666,
              "#ed7953"
             ],
             [
              0.7777777777777778,
              "#fb9f3a"
             ],
             [
              0.8888888888888888,
              "#fdca26"
             ],
             [
              1,
              "#f0f921"
             ]
            ],
            "type": "surface"
           }
          ],
          "table": [
           {
            "cells": {
             "fill": {
              "color": "#EBF0F8"
             },
             "line": {
              "color": "white"
             }
            },
            "header": {
             "fill": {
              "color": "#C8D4E3"
             },
             "line": {
              "color": "white"
             }
            },
            "type": "table"
           }
          ]
         },
         "layout": {
          "annotationdefaults": {
           "arrowcolor": "#2a3f5f",
           "arrowhead": 0,
           "arrowwidth": 1
          },
          "autotypenumbers": "strict",
          "coloraxis": {
           "colorbar": {
            "outlinewidth": 0,
            "ticks": ""
           }
          },
          "colorscale": {
           "diverging": [
            [
             0,
             "#8e0152"
            ],
            [
             0.1,
             "#c51b7d"
            ],
            [
             0.2,
             "#de77ae"
            ],
            [
             0.3,
             "#f1b6da"
            ],
            [
             0.4,
             "#fde0ef"
            ],
            [
             0.5,
             "#f7f7f7"
            ],
            [
             0.6,
             "#e6f5d0"
            ],
            [
             0.7,
             "#b8e186"
            ],
            [
             0.8,
             "#7fbc41"
            ],
            [
             0.9,
             "#4d9221"
            ],
            [
             1,
             "#276419"
            ]
           ],
           "sequential": [
            [
             0,
             "#0d0887"
            ],
            [
             0.1111111111111111,
             "#46039f"
            ],
            [
             0.2222222222222222,
             "#7201a8"
            ],
            [
             0.3333333333333333,
             "#9c179e"
            ],
            [
             0.4444444444444444,
             "#bd3786"
            ],
            [
             0.5555555555555556,
             "#d8576b"
            ],
            [
             0.6666666666666666,
             "#ed7953"
            ],
            [
             0.7777777777777778,
             "#fb9f3a"
            ],
            [
             0.8888888888888888,
             "#fdca26"
            ],
            [
             1,
             "#f0f921"
            ]
           ],
           "sequentialminus": [
            [
             0,
             "#0d0887"
            ],
            [
             0.1111111111111111,
             "#46039f"
            ],
            [
             0.2222222222222222,
             "#7201a8"
            ],
            [
             0.3333333333333333,
             "#9c179e"
            ],
            [
             0.4444444444444444,
             "#bd3786"
            ],
            [
             0.5555555555555556,
             "#d8576b"
            ],
            [
             0.6666666666666666,
             "#ed7953"
            ],
            [
             0.7777777777777778,
             "#fb9f3a"
            ],
            [
             0.8888888888888888,
             "#fdca26"
            ],
            [
             1,
             "#f0f921"
            ]
           ]
          },
          "colorway": [
           "#636efa",
           "#EF553B",
           "#00cc96",
           "#ab63fa",
           "#FFA15A",
           "#19d3f3",
           "#FF6692",
           "#B6E880",
           "#FF97FF",
           "#FECB52"
          ],
          "font": {
           "color": "#2a3f5f"
          },
          "geo": {
           "bgcolor": "white",
           "lakecolor": "white",
           "landcolor": "#E5ECF6",
           "showlakes": true,
           "showland": true,
           "subunitcolor": "white"
          },
          "hoverlabel": {
           "align": "left"
          },
          "hovermode": "closest",
          "mapbox": {
           "style": "light"
          },
          "paper_bgcolor": "white",
          "plot_bgcolor": "#E5ECF6",
          "polar": {
           "angularaxis": {
            "gridcolor": "white",
            "linecolor": "white",
            "ticks": ""
           },
           "bgcolor": "#E5ECF6",
           "radialaxis": {
            "gridcolor": "white",
            "linecolor": "white",
            "ticks": ""
           }
          },
          "scene": {
           "xaxis": {
            "backgroundcolor": "#E5ECF6",
            "gridcolor": "white",
            "gridwidth": 2,
            "linecolor": "white",
            "showbackground": true,
            "ticks": "",
            "zerolinecolor": "white"
           },
           "yaxis": {
            "backgroundcolor": "#E5ECF6",
            "gridcolor": "white",
            "gridwidth": 2,
            "linecolor": "white",
            "showbackground": true,
            "ticks": "",
            "zerolinecolor": "white"
           },
           "zaxis": {
            "backgroundcolor": "#E5ECF6",
            "gridcolor": "white",
            "gridwidth": 2,
            "linecolor": "white",
            "showbackground": true,
            "ticks": "",
            "zerolinecolor": "white"
           }
          },
          "shapedefaults": {
           "line": {
            "color": "#2a3f5f"
           }
          },
          "ternary": {
           "aaxis": {
            "gridcolor": "white",
            "linecolor": "white",
            "ticks": ""
           },
           "baxis": {
            "gridcolor": "white",
            "linecolor": "white",
            "ticks": ""
           },
           "bgcolor": "#E5ECF6",
           "caxis": {
            "gridcolor": "white",
            "linecolor": "white",
            "ticks": ""
           }
          },
          "title": {
           "x": 0.05
          },
          "xaxis": {
           "automargin": true,
           "gridcolor": "white",
           "linecolor": "white",
           "ticks": "",
           "title": {
            "standoff": 15
           },
           "zerolinecolor": "white",
           "zerolinewidth": 2
          },
          "yaxis": {
           "automargin": true,
           "gridcolor": "white",
           "linecolor": "white",
           "ticks": "",
           "title": {
            "standoff": 15
           },
           "zerolinecolor": "white",
           "zerolinewidth": 2
          }
         }
        },
        "title": {
         "text": "Cumulative PnL Over Time"
        },
        "xaxis": {
         "title": {
          "text": "Date"
         }
        },
        "yaxis": {
         "title": {
          "text": "Cumulative PnL"
         }
        }
       }
      }
     },
     "metadata": {},
     "output_type": "display_data"
    }
   ],
   "source": [
    "# Create cumulative PnL column\n",
    "df[\"cumulative_pnl\"] = df[\"pnl\"].cumsum()\n",
    "\n",
    "# Trade summary metrics\n",
    "total_trades = df[\"trade_exit\"].sum()\n",
    "total_pnl = df[\"pnl\"].sum()\n",
    "winning_trades = df[df[\"pnl\"] > 0][\"pnl\"].count()\n",
    "losing_trades = df[df[\"pnl\"] < 0][\"pnl\"].count()\n",
    "avg_return = df[\"pnl\"][df[\"pnl\"] != 0].mean()\n",
    "win_rate = winning_trades / total_trades if total_trades > 0 else np.nan\n",
    "entry_dates = df.loc[df[\"trade_entry\"], \"timestamp\"].reset_index(drop=True)\n",
    "exit_dates = df.loc[df[\"trade_exit\"], \"timestamp\"].reset_index(drop=True)\n",
    "holding_durations = [(exit_date - entry_date).days for entry_date, exit_date in zip(entry_dates, exit_dates)]\n",
    "avg_holding_period = np.mean(holding_durations) if holding_durations else np.nan\n",
    "\n",
    "\n",
    "# Summary dictionary\n",
    "summary = {\n",
    "    \"Total Trades\": total_trades,\n",
    "    \"Total PnL\": round(total_pnl, 4),\n",
    "    \"Winning Trades\": winning_trades,\n",
    "    \"Losing Trades\": losing_trades,\n",
    "    \"Win Rate (%)\": round(win_rate * 100, 2) if not np.isnan(win_rate) else \"N/A\",\n",
    "    \"Average Trade Return\": round(avg_return, 4) if not np.isnan(avg_return) else \"N/A\",\n",
    "    \"Average Holding Period (days)\": round(avg_holding_period, 2) if not np.isnan(avg_holding_period) else \"N/A\",\n",
    "}\n",
    "\n",
    "# Plot cumulative PnL with Plotly\n",
    "fig = go.Figure()\n",
    "fig.add_trace(go.Scatter(x=df.index, y=df[\"cumulative_pnl\"], mode=\"lines\", name=\"Cumulative PnL\"))\n",
    "fig.update_layout(\n",
    "    title=\"Cumulative PnL Over Time\",\n",
    "    xaxis_title=\"Date\",\n",
    "    yaxis_title=\"Cumulative PnL\"\n",
    ")\n",
    "fig.show()\n",
    "fig.write_html(\"html_plot/cumulative_pnl.html\")"
   ]
  },
  {
   "cell_type": "code",
   "execution_count": null,
   "id": "35760a38",
   "metadata": {},
   "outputs": [
    {
     "name": "stdout",
     "output_type": "stream",
     "text": [
      "{'Average Holding Period (days)': np.float64(9.26),\n",
      " 'Average Trade Return': np.float64(0.5212),\n",
      " 'Losing Trades': np.int64(17),\n",
      " 'Total PnL': np.float64(19.8054),\n",
      " 'Total Trades': np.int64(38),\n",
      " 'Win Rate (%)': np.float64(55.26),\n",
      " 'Winning Trades': np.int64(21)}\n"
     ]
    }
   ],
   "source": [
    "import pprint\n",
    "pprint.pprint(summary)"
   ]
  },
  {
   "cell_type": "code",
   "execution_count": 15,
   "id": "f67f0be6",
   "metadata": {},
   "outputs": [],
   "source": [
    "trade_df.to_html('blotter.html')"
   ]
  },
  {
   "cell_type": "code",
   "execution_count": 21,
   "id": "8bd5b261",
   "metadata": {},
   "outputs": [
    {
     "data": {
      "text/plain": [
       "'<table id=\"itables_47f25ca1_8518_4a0d_b6d4_0348df35d875\" class=\"display nowrap\" data-quarto-disable-processing=\"true\" style=\"table-layout:auto;width:auto;margin:auto;caption-side:bottom\">\\n<thead>\\n    <tr style=\"text-align: right;\">\\n      <th></th>\\n      <th>timestamp</th>\\n      <th>close_RIVN</th>\\n      <th>close_TSLA</th>\\n      <th>log_close_TSLA</th>\\n      <th>log_close_RIVN</th>\\n      <th>hedge_ratio</th>\\n      <th>spread</th>\\n      <th>z_score</th>\\n      <th>adf_stat</th>\\n      <th>p_value</th>\\n    </tr>\\n  </thead><tbody><tr>\\n<td style=\"vertical-align:middle; text-align:left\">\\n\\nLoading ITables v2.3.0 from the internet...\\n(need <a href=https://mwouts.github.io/itables/troubleshooting.html>help</a>?)</td>\\n</tr></tbody>\\n</table>\\n<link href=\"https://www.unpkg.com/dt_for_itables@2.2.0/dt_bundle.css\" rel=\"stylesheet\">\\n<script type=\"module\">\\n    import {DataTable, jQuery as $} from \\'https://www.unpkg.com/dt_for_itables@2.2.0/dt_bundle.js\\';\\n\\n    document.querySelectorAll(\"#itables_47f25ca1_8518_4a0d_b6d4_0348df35d875:not(.dataTable)\").forEach(table => {\\n        if (!(table instanceof HTMLTableElement))\\n            return;\\n\\n        // Define the table data\\n        const data = [[60, \"2022-09-01\", 31.95, 277.16, 5.624595, 3.464172, 1.081659, -2.619721, -1.836406, -2.582936, 0.096575], [61, \"2022-09-02\", 32.07, 270.21, 5.599199, 3.467921, 1.095905, -2.668271, -1.634971, -2.817514, 0.055815], [62, \"2022-09-06\", 33.22, 274.42, 5.61466, 3.503152, 1.055783, -2.424713, -1.29211, -3.000696, 0.034829], [63, \"2022-09-07\", 33.25, 283.7, 5.647917, 3.504055, 1.136397, -2.914224, -1.467068, -2.822955, 0.055069], [64, \"2022-09-08\", 36.88, 289.26, 5.667326, 3.607669, 1.094585, -2.595703, -1.117577, -2.79323, 0.059247], [65, \"2022-09-09\", 37.55, 299.68, 5.702715, 3.625673, 1.214359, -3.299473, -1.426614, -2.774224, 0.062051], [66, \"2022-09-12\", 38.74, 304.42, 5.718408, 3.656873, 1.224588, -3.345824, -1.302861, -2.617943, 0.089345], [67, \"2022-09-13\", 38.76, 292.13, 5.677199, 3.657389, 1.228464, -3.316846, -1.159201, -2.653474, 0.082441], [68, \"2022-09-14\", 40.1, 302.61, 5.712445, 3.691376, 1.309754, -3.790523, -1.301619, -2.64798, 0.083481], [69, \"2022-09-15\", 39.69, 303.75, 5.716205, 3.681099, 1.46123, -4.67159, -1.603399, -2.518768, 0.110974], [70, \"2022-09-16\", 39.26, 303.35, 5.714887, 3.670206, 1.606027, -5.508057, -1.776292, -2.34025, 0.159315], [71, \"2022-09-19\", 37.94, 309.07, 5.733568, 3.636006, 1.610883, -5.600098, -1.594248, -2.208307, 0.203244], [72, \"2022-09-20\", 35.75, 308.73, 5.732467, 3.57655, 1.481604, -4.916699, -1.152601, -2.297599, 0.172743], [73, \"2022-09-21\", 35.1, 300.8, 5.706446, 3.558201, 1.493769, -4.965909, -1.061089, -2.521524, 0.110325], [74, \"2022-09-22\", 33.33, 288.59, 5.665007, 3.506458, 1.56313, -5.348683, -1.148286, -2.293607, 0.174038], [75, \"2022-09-23\", 33.56, 275.33, 5.61797, 3.513335, 1.553768, -5.215686, -1.078889, -2.136551, 0.230073], [76, \"2022-09-26\", 33.85, 276.01, 5.620437, 3.521939, 1.495401, -4.882867, -0.861087, -2.216168, 0.20043], [77, \"2022-09-27\", 33.79, 282.94, 5.645235, 3.520165, 1.474344, -4.802853, -0.756225, -2.269745, 0.181912], [78, \"2022-09-28\", 35.08, 287.81, 5.662301, 3.557631, 1.425994, -4.516777, -0.461828, -2.214295, 0.201098], [79, \"2022-09-29\", 32.31, 268.21, 5.59177, 3.475377, 1.383335, -4.259913, -0.161593, -2.240357, 0.191926], [80, \"2022-09-30\", 32.91, 265.25, 5.580673, 3.493777, 1.260365, -3.539908, 0.562877, -2.237171, 0.193032], [81, \"2022-10-03\", 31.89, 242.4, 5.490589, 3.462292, 0.980943, -1.923662, 1.948478, -2.326529, 0.163554], [82, \"2022-10-04\", 36.3, 249.44, 5.519218, 3.591818, 0.728046, -0.426425, 2.666015, -2.422356, 0.135526], [83, \"2022-10-05\", 36.13, 240.81, 5.484008, 3.587124, 0.538343, 0.634846, 2.649043, -2.462698, 0.124816], [84, \"2022-10-06\", 36.76, 238.13, 5.472817, 3.60441, 0.40064, 1.411781, 2.470632, -2.451898, 0.127621], [85, \"2022-10-07\", 33.95, 223.07, 5.407486, 3.524889, 0.349401, 1.635511, 2.129493, -2.41531, 0.137462], [86, \"2022-10-10\", 31.48, 222.96, 5.406992, 3.449352, 0.36927, 1.452711, 1.771916, -2.840601, 0.052704], [87, \"2022-10-11\", 32.33, 216.5, 5.377591, 3.475996, 0.350315, 1.592144, 1.603177, -3.18816, 0.02068], [88, \"2022-10-12\", 32.35, 217.24, 5.381003, 3.476614, 0.309131, 1.813181, 1.486376, -2.97903, 0.0369], [89, \"2022-10-13\", 32.5, 221.72, 5.401415, 3.48124, 0.265151, 2.049052, 1.391384, -1.872304, 0.3452], [90, \"2022-10-14\", 28.71, 204.99, 5.322961, 3.357245, 0.290718, 1.809764, 1.185194, -1.871049, 0.345801], [91, \"2022-10-17\", 30.7, 219.35, 5.390669, 3.424263, 0.270447, 1.96637, 1.119193, -2.143495, 0.227388], [92, \"2022-10-18\", 31.64, 220.19, 5.394491, 3.454422, 0.267991, 2.008746, 1.025749, -2.050023, 0.265079], [93, \"2022-10-19\", 31.5, 222.04, 5.402858, 3.449988, 0.274309, 1.967937, 0.918368, -1.940805, 0.313115], [94, \"2022-10-20\", 30.73, 207.28, 5.334071, 3.425239, 0.322908, 1.702823, 0.751605, -1.925498, 0.320163], [95, \"2022-10-21\", 31.92, 214.44, 5.36803, 3.463233, 0.338591, 1.645665, 0.656747, -1.966374, 0.301509], [96, \"2022-10-24\", 31.34, 211.25, 5.353042, 3.444895, 0.360692, 1.514094, 0.533789, -1.900534, 0.33181], [97, \"2022-10-25\", 34.49, 222.41, 5.404523, 3.540669, 0.393626, 1.413311, 0.415797, -1.912522, 0.326194], [98, \"2022-10-26\", 34.44, 224.64, 5.414499, 3.539219, 0.427603, 1.223963, 0.235923, -1.848815, 0.356509], [99, \"2022-10-27\", 34.5, 225.09, 5.4165, 3.540959, 0.614279, 0.213718, -0.549166, -1.860911, 0.350667], [100, \"2022-10-28\", 34.48, 228.52, 5.431624, 3.540379, 0.970209, -1.729432, -2.398444, -2.048493, 0.265723], [101, \"2022-10-31\", 34.97, 227.54, 5.427326, 3.554491, 1.209166, -3.00805, -3.025448, -2.196913, 0.207368], [102, \"2022-11-01\", 33.48, 227.82, 5.428556, 3.510948, 1.362266, -3.884186, -2.779594, -2.208559, 0.203154], [103, \"2022-11-02\", 31.52, 214.98, 5.370545, 3.450622, 1.431359, -4.236557, -2.363754, -2.201141, 0.205832], [104, \"2022-11-03\", 32.24, 215.31, 5.372079, 3.473208, 1.371143, -3.892678, -1.865336, -2.254608, 0.187026], [105, \"2022-11-04\", 31.99, 207.47, 5.334987, 3.465423, 1.185991, -2.861823, -1.266131, -2.344336, 0.158067], [106, \"2022-11-07\", 31.32, 197.08, 5.28361, 3.444257, 0.932961, -1.485143, -0.621705, -2.506101, 0.113997], [107, \"2022-11-08\", 31.85, 191.3, 5.253843, 3.461037, 0.653401, 0.028173, 0.049145, -2.596018, 0.093823], [108, \"2022-11-09\", 28.07, 177.59, 5.179478, 3.334701, 0.683539, -0.205673, -0.00768, -2.59494, 0.094048], [109, \"2022-11-10\", 32.96, 190.72, 5.250806, 3.495295, 0.56708, 0.517668, 0.347952, -2.591988, 0.094664], [110, \"2022-11-11\", 34.9, 195.97, 5.277962, 3.552487, 0.43415, 1.261059, 0.698103, -2.414185, 0.137773], [111, \"2022-11-14\", 34.38, 190.95, 5.252012, 3.537475, 0.367907, 1.605224, 0.867907, -2.360942, 0.153065], [112, \"2022-11-15\", 35.15, 194.42, 5.270021, 3.559625, 0.321791, 1.86378, 0.991858, -2.406139, 0.140011], [113, \"2022-11-16\", 33.32, 186.92, 5.230681, 3.506158, 0.311086, 1.878968, 1.002969, -2.592145, 0.094632], [114, \"2022-11-17\", 32.07, 183.17, 5.210415, 3.467921, 0.302413, 1.892226, 1.000325, -2.558293, 0.101927], [115, \"2022-11-18\", 30.34, 180.19, 5.194012, 3.412467, 0.353836, 1.574638, 0.8591, -2.186198, 0.211293], [116, \"2022-11-21\", 28.42, 167.87, 5.12319, 3.347093, 0.447928, 1.052271, 0.637385, -2.198444, 0.206811], [117, \"2022-11-22\", 28.94, 169.91, 5.135269, 3.365225, 0.478866, 0.906118, 0.587035, -2.204293, 0.204691], [118, \"2022-11-23\", 29.71, 183.2, 5.210578, 3.391484, 0.49527, 0.810842, 0.55616, -2.196516, 0.207513], [119, \"2022-11-25\", 29.53, 182.86, 5.208721, 3.385407, 0.510104, 0.728415, 0.503373, -2.260993, 0.184857], [120, \"2022-11-28\", 28.64, 182.92, 5.209049, 3.354804, 0.541856, 0.53225, 0.362996, -2.22963, 0.195668], [121, \"2022-11-29\", 28.85, 180.83, 5.197557, 3.36211, 0.550533, 0.500682, 0.279016, -2.218633, 0.199552], [122, \"2022-11-30\", 32.04, 194.7, 5.27146, 3.466985, 0.623365, 0.180942, 0.02628, -2.354618, 0.154957], [123, \"2022-12-01\", 31.48, 194.7, 5.27146, 3.449352, 0.756296, -0.53743, -0.555252, -2.320978, 0.165291], [124, \"2022-12-02\", 31.36, 194.86, 5.272281, 3.445533, 0.931201, -1.46402, -1.509421, -2.681352, 0.077321], [125, \"2022-12-05\", 29.53, 182.45, 5.206476, 3.385407, 1.137106, -2.534908, -2.456937, -2.615501, 0.089836], [126, \"2022-12-06\", 27.89, 179.82, 5.191956, 3.328268, 1.286726, -3.352358, -2.602494, -2.589299, 0.095229], [127, \"2022-12-07\", 27.94, 174.04, 5.159285, 3.330059, 1.32781, -3.520493, -2.217629, -2.7948, 0.05902], [128, \"2022-12-08\", 28.58, 173.44, 5.155832, 3.352707, 1.281524, -3.254617, -1.787379, -3.144649, 0.023421], [129, \"2022-12-09\", 27.29, 179.05, 5.187665, 3.30652, 1.306782, -3.472625, -1.658102, -3.394328, 0.011154], [130, \"2022-12-12\", 25.61, 167.82, 5.122892, 3.242983, 1.32531, -3.546436, -1.495231, -2.992899, 0.035563], [131, \"2022-12-13\", 24.96, 160.95, 5.081094, 3.217275, 1.290361, -3.33917, -1.254103, -2.66939, 0.079487], [132, \"2022-12-14\", 24.54, 156.8, 5.054971, 3.200304, 1.193708, -2.833855, -0.922689, -3.235067, 0.018043], [133, \"2022-12-15\", 23.97, 157.67, 5.060504, 3.176803, 1.1946, -2.868476, -0.85145, -3.698377, 0.004136], [134, \"2022-12-16\", 22.48, 150.23, 5.012167, 3.112626, 1.222477, -3.014635, -0.839448, -3.316618, 0.014152], [135, \"2022-12-19\", 22.03, 149.87, 5.009768, 3.092405, 1.265085, -3.245379, -0.873154, -3.204424, 0.01973], [136, \"2022-12-20\", 21.4, 137.8, 4.925803, 3.063391, 1.224327, -2.967405, -0.647237, -3.375062, 0.011839], [137, \"2022-12-21\", 21.03, 137.57, 4.924133, 3.04595, 1.208007, -2.902439, -0.535646, -3.467723, 0.008856], [138, \"2022-12-22\", 19.73, 125.35, 4.83111, 2.98214, 1.140792, -2.529149, -0.231738, -3.446467, 0.009473], [139, \"2022-12-23\", 19.14, 123.15, 4.813403, 2.95178, 1.110601, -2.393989, -0.047638, -3.322194, 0.013915], [140, \"2022-12-27\", 17.74, 109.1, 4.692265, 2.875822, 1.052994, -2.065103, 0.324765, -2.863922, 0.049707], [141, \"2022-12-28\", 17.74, 112.71, 4.724818, 2.875822, 1.038744, -2.032055, 0.553777, -2.825735, 0.054691], [142, \"2022-12-29\", 18.73, 121.82, 4.802545, 2.930127, 1.026008, -1.997322, 0.899665, -2.74539, 0.066508], [143, \"2022-12-30\", 18.43, 123.18, 4.813647, 2.91398, 1.025061, -2.020303, 1.224903, -2.751715, 0.065509], [144, \"2023-01-03\", 17.34, 108.1, 4.683057, 2.853016, 0.992743, -1.796054, 1.714448, -2.678562, 0.077822], [145, \"2023-01-04\", 17.71, 113.64, 4.733036, 2.874129, 0.974569, -1.738539, 1.621479, -2.638998, 0.085202], [146, \"2023-01-05\", 16.56, 110.34, 4.703567, 2.80699, 0.987513, -1.837844, 1.309448, -2.76592, 0.063309], [147, \"2023-01-06\", 16.4, 113.06, 4.727919, 2.797281, 0.991658, -1.891199, 1.115628, -2.830569, 0.054038], [148, \"2023-01-09\", 16.62, 119.77, 4.785573, 2.810607, 0.975472, -1.857588, 1.058289, -2.925001, 0.042517], [149, \"2023-01-10\", 16.45, 118.85, 4.777862, 2.800325, 0.993708, -1.947475, 0.832479, -2.803976, 0.057708], [150, \"2023-01-11\", 17.08, 123.22, 4.813971, 2.837908, 0.999614, -1.974206, 0.718213, -3.05022, 0.030463], [151, \"2023-01-12\", 17.58, 123.56, 4.816727, 2.866762, 0.98282, -1.867213, 0.844481, -3.092447, 0.027117], [152, \"2023-01-13\", 16.45, 122.4, 4.807294, 2.800325, 0.949295, -1.763217, 0.95336, -3.153668, 0.022828], [153, \"2023-01-17\", 16.93, 131.49, 4.878931, 2.829087, 0.855234, -1.343542, 1.599546, -3.100588, 0.02651], [154, \"2023-01-18\", 16.5, 128.78, 4.858106, 2.80336, 0.745972, -0.820653, 2.231833, -3.299177, 0.014915], [155, \"2023-01-19\", 15.79, 127.17, 4.845525, 2.759377, 0.55482, 0.070983, 2.961558, -3.329634, 0.013605], [156, \"2023-01-20\", 16.23, 133.42, 4.893502, 2.786861, 0.225965, 1.681099, 3.356314, -3.316644, 0.014151], [157, \"2023-01-23\", 18.1, 143.75, 4.968076, 2.895912, 0.02598, 2.766843, 3.043006, -2.920013, 0.04307], [158, \"2023-01-24\", 18.05, 143.89, 4.969049, 2.893146, 0.046331, 2.662927, 2.357259, -2.636002, 0.085782], [159, \"2023-01-25\", 18.69, 144.43, 4.972795, 2.927989, 0.120556, 2.328491, 1.837084, -2.760763, 0.064101], [160, \"2023-01-26\", 18.31, 160.27, 5.07686, 2.907447, 0.185474, 1.965824, 1.442233, -2.885383, 0.047074], [161, \"2023-01-27\", 19.83, 177.9, 5.181222, 2.987196, 0.285899, 1.505889, 1.074911, -2.925083, 0.042508], [162, \"2023-01-30\", 18.04, 166.66, 5.115956, 2.892592, 0.278838, 1.466066, 0.953334, -2.958254, 0.038981], [163, \"2023-01-31\", 19.4, 173.22, 5.154562, 2.965273, 0.313163, 1.351053, 0.806029, -2.526934, 0.109058], [164, \"2023-02-01\", 19.71, 181.41, 5.20076, 2.981126, 0.3607, 1.105214, 0.603484, -2.205592, 0.204222], [165, \"2023-02-02\", 20.88, 188.27, 5.237877, 3.038792, 0.424853, 0.813464, 0.383887, -2.004335, 0.284676], [166, \"2023-02-03\", 19.9, 189.98, 5.246919, 2.99072, 0.43789, 0.693145, 0.255098, -1.907568, 0.328509], [167, \"2023-02-06\", 20.22, 194.76, 5.271768, 3.006672, 0.445793, 0.656553, 0.168278, -2.140373, 0.228593], [168, \"2023-02-07\", 19.91, 196.81, 5.282239, 2.991222, 0.439779, 0.668207, 0.105115, -2.44503, 0.129428], [169, \"2023-02-08\", 20.08, 201.29, 5.304747, 2.999724, 0.433052, 0.702492, 0.046542, -2.484853, 0.119203], [170, \"2023-02-09\", 19.42, 207.32, 5.334263, 2.966303, 0.417279, 0.740425, -0.021316, -2.406655, 0.139867], [171, \"2023-02-10\", 18.85, 196.89, 5.282645, 2.936513, 0.42335, 0.700103, -0.164571, -2.425642, 0.13463], [172, \"2023-02-13\", 18.92, 194.64, 5.271152, 2.94022, 0.410581, 0.775983, -0.242452, -2.369773, 0.15045], [173, \"2023-02-14\", 19.49, 209.25, 5.34353, 2.969902, 0.393089, 0.869421, -0.308075, -2.35762, 0.154057], [174, \"2023-02-15\", 21.15, 214.24, 5.367097, 3.05164, 0.39458, 0.933891, -0.394453, -2.161445, 0.220535], [175, \"2023-02-16\", 20.68, 202.04, 5.308466, 3.029167, 0.351868, 1.161286, -0.170475, -2.007191, 0.283429], [176, \"2023-02-17\", 20.22, 208.31, 5.339027, 3.006672, 0.283008, 1.495684, 0.336248, -2.068719, 0.257277], [177, \"2023-02-21\", 19.08, 197.37, 5.28508, 2.948641, 0.26966, 1.523468, 0.545245, -1.983674, 0.293777], [178, \"2023-02-22\", 19.02, 200.86, 5.302608, 2.945491, 0.242872, 1.657634, 1.03447, -2.082917, 0.251439], [179, \"2023-02-23\", 18.18, 202.07, 5.308614, 2.900322, 0.254772, 1.547836, 1.047204, -1.943452, 0.311904], [180, \"2023-02-24\", 17.32, 196.88, 5.282594, 2.851862, 0.192408, 1.835447, 1.820568, -2.092088, 0.247708], [181, \"2023-02-27\", 18.45, 207.63, 5.335758, 2.915064, 0.186139, 1.921869, 1.840369, -1.739476, 0.410896], [182, \"2023-02-28\", 19.3, 205.71, 5.326467, 2.960105, 0.022134, 2.842207, 2.868173, -1.701205, 0.430492], [183, \"2023-03-01\", 15.76, 202.77, 5.312072, 2.757475, -0.088712, 3.22872, 2.647793, -1.008978, 0.749976], [184, \"2023-03-02\", 15.72, 190.9, 5.25175, 2.754934, 0.399402, 0.657376, -0.825504, -1.151568, 0.694075], [185, \"2023-03-03\", 16.92, 197.79, 5.287206, 2.828496, 0.871194, -1.777685, -2.899764, -2.099605, 0.244674], [186, \"2023-03-06\", 17.13, 193.81, 5.266878, 2.840831, 1.332614, -4.177886, -3.256332, -2.286602, 0.176325], [187, \"2023-03-07\", 14.64, 187.71, 5.234898, 2.683758, 1.986039, -7.712952, -3.304876, -2.073832, 0.255166], [188, \"2023-03-08\", 15.13, 182.0, 5.204007, 2.71668, 2.056692, -7.98636, -2.57688, -1.605246, 0.480958], [189, \"2023-03-09\", 14.53, 172.92, 5.152829, 2.676215, 1.828719, -6.746859, -1.855295, -2.491582, 0.117536], [190, \"2023-03-10\", 14.16, 173.44, 5.155832, 2.650421, 1.805411, -6.657975, -1.600094, -3.21537, 0.019112], [191, \"2023-03-13\", 13.73, 174.48, 5.16181, 2.619583, 1.847872, -6.918783, -1.475948, -2.291946, 0.174579], [192, \"2023-03-14\", 13.21, 183.26, 5.210906, 2.580974, 1.963408, -7.650158, -1.467538, -2.103569, 0.243082], [193, \"2023-03-15\", 13.03, 180.45, 5.195454, 2.567254, 2.06824, -8.178191, -1.413491, -1.7453, 0.407936], [194, \"2023-03-16\", 13.46, 184.13, 5.215642, 2.599722, 2.094997, -8.327032, -1.293872, -1.673453, 0.44484], [195, \"2023-03-17\", 13.01, 180.13, 5.193679, 2.565718, 2.066786, -8.168505, -1.134494, -1.636068, 0.464316], [196, \"2023-03-20\", 13.02, 183.25, 5.210851, 2.566487, 2.046825, -8.099214, -1.012444, -1.716052, 0.422861], [197, \"2023-03-21\", 13.61, 197.58, 5.286144, 2.610805, 1.834402, -7.086108, -0.715931, -1.589925, 0.488653], [198, \"2023-03-22\", 13.29, 191.15, 5.253058, 2.587012, 1.700677, -6.346742, -0.484532, -1.964003, 0.302576], [199, \"2023-03-23\", 13.71, 192.22, 5.258641, 2.618125, 1.571144, -5.643956, -0.257544, -1.919, 0.323177], [200, \"2023-03-24\", 13.62, 190.41, 5.24918, 2.611539, 1.482404, -5.169864, -0.067916, -1.969308, 0.30019], [201, \"2023-03-27\", 13.31, 191.81, 5.256505, 2.588516, 1.238186, -3.920014, 0.348636, -1.944509, 0.311421], [202, \"2023-03-28\", 12.96, 189.19, 5.242752, 2.561868, 0.748138, -1.360436, 1.239052, -2.119573, 0.236717], [203, \"2023-03-29\", 14.24, 193.88, 5.267239, 2.656055, 0.600669, -0.50781, 1.802827, -2.296743, 0.173021], [204, \"2023-03-30\", 14.4, 195.28, 5.274434, 2.667228, 0.529108, -0.123517, 2.015252, -2.197795, 0.207047], [205, \"2023-03-31\", 15.48, 207.46, 5.334939, 2.739549, 0.42582, 0.467825, 2.037672, -2.205335, 0.204315], [206, \"2023-04-03\", 15.23, 194.77, 5.271819, 2.723267, 0.333561, 0.964793, 1.90527, -2.178372, 0.214189], [207, \"2023-04-04\", 15.38, 192.58, 5.260512, 2.733068, 0.391633, 0.672877, 1.58997, -2.165445, 0.219025], [208, \"2023-04-05\", 14.63, 185.52, 5.223163, 2.683074, 0.44564, 0.355426, 1.3388, -2.221931, 0.198382], [209, \"2023-04-06\", 14.47, 185.06, 5.22068, 2.672078, 0.618258, -0.555649, 0.981397, -2.230376, 0.195406], [210, \"2023-04-10\", 14.81, 184.51, 5.217704, 2.695303, 0.763344, -1.287602, 0.705277, -2.274078, 0.180465], [211, \"2023-04-11\", 14.74, 186.79, 5.229985, 2.690565, 0.892876, -1.979163, 0.452933, -2.278778, 0.178904], [212, \"2023-04-12\", 14.19, 180.54, 5.195952, 2.652537, 0.742608, -1.20602, 0.595069, -2.275047, 0.180142], [213, \"2023-04-13\", 14.37, 185.9, 5.225209, 2.665143, 0.62645, -0.608187, 0.688494, -2.239453, 0.192239], [214, \"2023-04-14\", 13.38, 185.0, 5.220356, 2.593761, 0.630628, -0.698343, 0.586476, -2.257959, 0.185886], [215, \"2023-04-17\", 13.73, 187.04, 5.231322, 2.619583, 0.516493, -0.082356, 0.714797, -2.35901, 0.153641], [216, \"2023-04-18\", 13.43, 184.31, 5.216619, 2.597491, 0.452773, 0.235548, 0.770467, -2.337955, 0.160019], [217, \"2023-04-19\", 12.82, 180.59, 5.196229, 2.551006, 0.753233, -1.362967, 0.02077, -2.228359, 0.196114], [218, \"2023-04-20\", 12.35, 162.99, 5.093689, 2.513656, 0.853215, -1.832356, -0.356182, -2.225417, 0.19715], [219, \"2023-04-21\", 12.25, 165.08, 5.10643, 2.505526, 0.938269, -2.285678, -0.834847, -2.195234, 0.20798], [220, \"2023-04-24\", 12.36, 162.55, 5.090986, 2.514465, 0.947251, -2.307977, -1.182217, -2.174232, 0.21573], [221, \"2023-04-25\", 12.0, 160.67, 5.079353, 2.484907, 1.009756, -2.643999, -1.713386, -2.246679, 0.189742], [222, \"2023-04-26\", 12.04, 153.75, 5.035328, 2.488234, 0.991183, -2.502698, -1.447565, -2.237515, 0.192913], [223, \"2023-04-27\", 12.67, 160.19, 5.076361, 2.539237, 0.976106, -2.41583, -1.234415, -2.240525, 0.191867], [224, \"2023-04-28\", 12.82, 164.31, 5.101755, 2.551006, 0.986588, -2.482322, -1.161706, -2.236051, 0.193422], [225, \"2023-05-01\", 12.65, 161.83, 5.086546, 2.537657, 1.006014, -2.579481, -1.128254, -2.25674, 0.1863], [226, \"2023-05-02\", 12.68, 160.31, 5.077109, 2.540026, 0.958861, -2.328216, -0.847986, -2.276221, 0.179752], [227, \"2023-05-03\", 12.81, 160.61, 5.078979, 2.550226, 0.881142, -1.925076, -0.403711, -2.304435, 0.170542], [228, \"2023-05-04\", 12.95, 161.2, 5.082646, 2.561096, 0.825583, -1.63505, -0.012256, -2.329093, 0.162757], [229, \"2023-05-05\", 13.41, 170.06, 5.136151, 2.596001, 0.795134, -1.487928, 0.214521, -2.349032, 0.156641], [230, \"2023-05-08\", 13.87, 171.79, 5.146273, 2.629728, 0.741168, -1.184523, 0.562605, -2.357111, 0.154209], [231, \"2023-05-09\", 13.86, 169.15, 5.130786, 2.629007, 0.670655, -0.811978, 0.911744, -2.383086, 0.146567], [232, \"2023-05-10\", 14.11, 168.54, 5.127173, 2.646884, 0.627501, -0.570422, 1.118186, -2.398287, 0.14222], [233, \"2023-05-11\", 13.84, 172.08, 5.147959, 2.627563, 0.581978, -0.368437, 1.307668, -2.416126, 0.137236], [234, \"2023-05-12\", 12.91, 167.98, 5.123845, 2.558002, 0.63777, -0.70983, 0.935319, -2.465312, 0.124144], [235, \"2023-05-15\", 13.44, 166.35, 5.114094, 2.598235, 0.689517, -0.928017, 0.789618, -2.569305, 0.099509], [236, \"2023-05-16\", 13.08, 166.52, 5.115115, 2.571084, 0.857412, -1.814679, -0.14258, -2.560741, 0.101386], [237, \"2023-05-17\", 13.41, 173.86, 5.15825, 2.596001, 1.263783, -3.922908, -2.354236, -2.672433, 0.078931], [238, \"2023-05-18\", 13.54, 176.89, 5.175528, 2.605648, 1.108354, -3.130671, -1.318413, -2.662323, 0.080788], [239, \"2023-05-19\", 13.47, 180.14, 5.193734, 2.600465, 0.930962, -2.234707, -0.36031, -2.736292, 0.067966], [240, \"2023-05-22\", 14.23, 188.87, 5.241059, 2.655352, 0.812259, -1.601746, 0.282483, -2.794724, 0.059031], [241, \"2023-05-23\", 14.2, 185.77, 5.224509, 2.653242, 0.739069, -1.208031, 0.634809, -3.155818, 0.022689], [242, \"2023-05-24\", 14.38, 182.9, 5.20894, 2.665838, 0.705615, -1.009666, 0.769362, -3.222634, 0.018711], [243, \"2023-05-25\", 14.57, 184.47, 5.217487, 2.678965, 0.726871, -1.113474, 0.589565, -2.528888, 0.108603], [244, \"2023-05-26\", 15.14, 193.17, 5.263571, 2.71734, 0.761225, -1.289419, 0.338586, -2.329658, 0.162581], [245, \"2023-05-30\", 14.87, 201.16, 5.304101, 2.699346, 0.68867, -0.953428, 0.637663, -2.218387, 0.19964], [246, \"2023-05-31\", 14.73, 203.93, 5.317777, 2.689886, 0.611433, -0.561579, 0.981862, -2.524903, 0.109532], [247, \"2023-06-01\", 14.58, 207.52, 5.335228, 2.679651, 0.529639, -0.146095, 1.300836, -2.261108, 0.184818], [248, \"2023-06-02\", 14.48, 213.97, 5.365836, 2.672768, 0.439504, 0.314463, 1.581154, -1.764079, 0.398435], [249, \"2023-06-05\", 14.34, 217.61, 5.382704, 2.663053, 0.368643, 0.678755, 1.69264, -1.999822, 0.286651], [250, \"2023-06-06\", 14.5, 221.31, 5.399564, 2.674149, 0.338677, 0.845438, 1.621134, -2.180128, 0.213537], [251, \"2023-06-07\", 13.82, 224.57, 5.414187, 2.626117, 0.27592, 1.132233, 1.647221, -2.603476, 0.092281], [252, \"2023-06-08\", 14.05, 234.86, 5.45899, 2.642622, 0.240615, 1.32911, 1.604311, -2.829399, 0.054195], [253, \"2023-06-09\", 13.87, 244.4, 5.498806, 2.629728, 0.184124, 1.617265, 1.618225, -3.000085, 0.034886], [254, \"2023-06-12\", 14.0, 249.83, 5.520781, 2.639057, 0.111056, 2.025943, 1.661485, -3.067058, 0.029089], [255, \"2023-06-13\", 15.25, 258.71, 5.555708, 2.72458, 0.128063, 2.013098, 1.466172, -3.331804, 0.013515], [256, \"2023-06-14\", 14.74, 256.79, 5.548259, 2.690565, 0.092174, 2.179158, 1.391938, -2.955637, 0.03925], [257, \"2023-06-15\", 15.24, 255.9, 5.544787, 2.723924, 0.088462, 2.233421, 1.359251, -2.951365, 0.039693], [258, \"2023-06-16\", 14.88, 260.54, 5.562756, 2.700018, 0.06904, 2.315967, 1.333279, -2.936987, 0.041213], [259, \"2023-06-20\", 15.7, 274.45, 5.614769, 2.753661, 0.075929, 2.327337, 1.242243, -3.021615, 0.032925], [260, \"2023-06-21\", 14.62, 259.46, 5.558603, 2.68239, 0.065977, 2.315651, 1.131315, -2.487322, 0.11859], [261, \"2023-06-22\", 14.15, 264.61, 5.578257, 2.649715, 0.03709, 2.442815, 1.116958, -1.48006, 0.543351], [262, \"2023-06-23\", 13.53, 256.6, 5.547518, 2.604909, 0.002977, 2.588393, 1.119256, -1.422411, 0.571486], [263, \"2023-06-26\", 13.45, 241.05, 5.485004, 2.598979, -0.002192, 2.611003, 1.051048, -1.333755, 0.613592], [264, \"2023-06-27\", 13.94, 250.21, 5.522301, 2.634762, 0.040638, 2.410349, 0.833794, -1.33558, 0.612742], [265, \"2023-06-28\", 14.64, 256.24, 5.546115, 2.683758, 0.091691, 2.175227, 0.556982, -1.434587, 0.565587], [266, \"2023-06-29\", 16.01, 257.5, 5.55102, 2.773214, 0.190459, 1.715971, -0.050141, -1.41525, 0.574943], [267, \"2023-06-30\", 16.66, 261.77, 5.567466, 2.813011, 0.337255, 0.935354, -1.25249, -1.509912, 0.528602], [268, \"2023-07-03\", 19.56, 279.82, 5.634147, 2.973487, 0.740289, -1.197413, -3.198501, -1.62241, 0.471466], [269, \"2023-07-05\", 20.43, 282.48, 5.643608, 3.017004, 1.217128, -3.851991, -3.48153, -1.893827, 0.334971], [270, \"2023-07-06\", 21.62, 276.54, 5.622355, 3.073619, 1.839407, -7.26818, -3.354194, -1.85441, 0.353803], [271, \"2023-07-07\", 24.7, 274.43, 5.614696, 3.206803, 2.713837, -12.030569, -3.237268, -1.235626, 0.658086], [272, \"2023-07-10\", 25.51, 269.61, 5.596976, 3.239071, 3.4786, -16.230573, -2.952235, -0.432147, 0.904592], [273, \"2023-07-11\", 24.85, 269.79, 5.597644, 3.212858, 3.893415, -18.581095, -2.564142, -0.71012, 0.844111], [274, \"2023-07-12\", 25.91, 271.99, 5.605765, 3.254629, 4.212963, -20.362254, -2.268671, -1.697266, 0.432522], [275, \"2023-07-13\", 25.52, 277.9, 5.627261, 3.239462, 4.429357, -21.685685, -2.028182, -1.631975, 0.466457], [276, \"2023-07-14\", 24.82, 281.38, 5.639706, 3.21165, 4.48064, -22.057845, -1.778052, -1.671293, 0.445961], [277, \"2023-07-17\", 23.99, 290.38, 5.67119, 3.177637, 4.234838, -20.838936, -1.460786, -2.439243, 0.130965], [278, \"2023-07-18\", 24.69, 293.34, 5.681332, 3.206398, 3.965812, -19.324699, -1.179035, -3.488066, 0.008299], [279, \"2023-07-19\", 24.83, 291.26, 5.674216, 3.212053, 3.977419, -19.356685, -1.067842, -3.379995, 0.01166], [280, \"2023-07-20\", 25.81, 262.9, 5.571774, 3.250762, 3.679872, -17.252651, -0.780466, -1.898238, 0.33289], [281, \"2023-07-21\", 25.27, 260.02, 5.560759, 3.229618, 3.324299, -15.256008, -0.514426, -2.75922, 0.064339], [282, \"2023-07-24\", 25.81, 269.06, 5.594934, 3.250762, 3.033989, -13.724208, -0.291145, -2.694301, 0.07503], [283, \"2023-07-25\", 25.35, 265.28, 5.580786, 3.232779, 2.525579, -10.861938, 0.086081, -2.514423, 0.112004], [284, \"2023-07-26\", 27.15, 264.35, 5.577274, 3.301377, 1.579976, -5.510583, 0.770814, -2.849116, 0.051593], [285, \"2023-07-27\", 26.05, 255.71, 5.544044, 3.260018, 0.445007, 0.79288, 1.545931, -3.154333, 0.022785], [286, \"2023-07-28\", 26.94, 266.44, 5.585149, 3.293612, -0.396775, 5.509661, 2.001056, -3.220955, 0.018803], [287, \"2023-07-31\", 27.64, 267.43, 5.588858, 3.319264, -1.096994, 9.45021, 2.195525, -3.17138, 0.021702], [288, \"2023-08-01\", 27.3, 261.07, 5.564789, 3.306887, -0.973905, 8.72646, 1.909538, -3.217272, 0.019006], [289, \"2023-08-02\", 25.91, 254.11, 5.537767, 3.254629, -0.67388, 6.986422, 1.587343, -3.465874, 0.008908], [290, \"2023-08-03\", 26.5, 259.32, 5.558063, 3.277145, -0.581037, 6.506585, 1.4013, -3.645438, 0.004949], [291, \"2023-08-04\", 25.26, 253.86, 5.536783, 3.229222, -0.479396, 5.883533, 1.218365, -3.282319, 0.015688], [292, \"2023-08-07\", 24.28, 251.45, 5.527244, 3.189653, -0.336351, 5.048747, 1.039907, -3.275718, 0.015999], [293, \"2023-08-08\", 24.8, 249.7, 5.52026, 3.210844, -0.243297, 4.553909, 0.904721, -3.269513, 0.016297], [294, \"2023-08-09\", 22.35, 242.19, 5.489723, 3.106826, 0.026105, 2.963516, 0.69683, -3.203714, 0.019771], [295, \"2023-08-10\", 21.91, 245.34, 5.502645, 3.086943, 0.214319, 1.907619, 0.53538, -3.296592, 0.015032], [296, \"2023-08-11\", 21.57, 242.65, 5.49162, 3.071303, 0.435447, 0.679993, 0.353934, -3.251364, 0.017198], [297, \"2023-08-14\", 21.56, 239.76, 5.479638, 3.07084, 0.787385, -1.243744, 0.093148, -3.514855, 0.007614], [298, \"2023-08-15\", 20.78, 232.96, 5.450867, 3.033991, 1.285998, -3.97581, -0.279687, -3.5503, 0.006785], [299, \"2023-08-16\", 21.04, 225.6, 5.418764, 3.046425, 1.779964, -6.59878, -0.705275, -3.560784, 0.006557], [300, \"2023-08-17\", 20.95, 219.22, 5.390076, 3.042139, 1.584423, -5.498021, -0.71798, -3.559256, 0.006589], [301, \"2023-08-18\", 20.78, 215.49, 5.372915, 3.033991, 1.449348, -4.753233, -0.771212, -3.327696, 0.013685], [302, \"2023-08-21\", 21.18, 231.28, 5.443629, 3.053057, 1.516653, -5.203041, -1.014179, -3.305877, 0.014618], [303, \"2023-08-22\", 20.08, 233.19, 5.451854, 2.999724, 1.6211, -5.838273, -1.2567, -3.228101, 0.018415], [304, \"2023-08-23\", 20.32, 236.86, 5.467469, 3.011606, 1.635974, -5.933034, -1.263859, -3.241623, 0.017698], [305, \"2023-08-24\", 19.64, 230.04, 5.438253, 2.977568, 1.661504, -6.058113, -1.176386, -3.26, 0.016764], [306, \"2023-08-25\", 20.07, 238.59, 5.474747, 2.999226, 1.669287, -6.139699, -1.074959, -3.263258, 0.016603], [307, \"2023-08-28\", 20.53, 238.82, 5.47571, 3.021887, 1.612209, -5.806104, -0.934396, -3.273698, 0.016096], [308, \"2023-08-29\", 22.31, 257.18, 5.549776, 3.105035, 1.341478, -4.339869, -0.592683, -3.291432, 0.015266], [309, \"2023-08-30\", 22.88, 256.9, 5.548687, 3.130263, 1.173151, -3.379187, -0.324727, -3.299853, 0.014885], [310, \"2023-08-31\", 22.73, 258.08, 5.55327, 3.123686, 0.948922, -2.145934, 0.03487, -3.310601, 0.014411], [311, \"2023-09-01\", 23.31, 245.01, 5.501299, 3.148882, 0.853898, -1.548663, 0.294893, -3.313188, 0.014299], [312, \"2023-09-05\", 23.39, 256.49, 5.54709, 3.152309, 0.809058, -1.33561, 0.492858, -3.338862, 0.013228], [313, \"2023-09-06\", 23.26, 251.92, 5.529112, 3.146735, 0.757423, -1.04114, 0.770779, -3.376239, 0.011796], [314, \"2023-09-07\", 23.42, 251.49, 5.527403, 3.15359, 0.794838, -1.239799, 0.880095, -3.350798, 0.012755], [315, \"2023-09-08\", 23.1, 248.5, 5.515443, 3.139833, 0.821496, -1.391084, 0.99339, -3.402403, 0.010877], [316, \"2023-09-11\", 23.41, 273.58, 5.611594, 3.153163, 0.77454, -1.193243, 1.204502, -3.407794, 0.010696], [317, \"2023-09-12\", 23.58, 267.48, 5.589045, 3.160399, 0.779844, -1.198186, 1.199455, -3.4095, 0.010639], [318, \"2023-09-13\", 23.25, 271.3, 5.603225, 3.146305, 0.74683, -1.038353, 1.160202, -3.428521, 0.010024], [319, \"2023-09-14\", 24.11, 276.04, 5.620546, 3.182627, 0.772878, -1.161372, 1.006413, -3.434028, 0.009852], [320, \"2023-09-15\", 24.18, 274.39, 5.61455, 3.185526, 0.845552, -1.561871, 0.737567, -3.483266, 0.008427], [321, \"2023-09-18\", 23.71, 265.28, 5.580786, 3.165897, 0.993645, -2.379424, 0.297342, -3.52398, 0.007392], [322, \"2023-09-19\", 22.74, 266.5, 5.585374, 3.124125, 1.017656, -2.559863, 0.151464, -3.555399, 0.006673], [323, \"2023-09-20\", 22.4, 262.59, 5.570594, 3.109061, 0.962716, -2.253839, 0.228501, -3.521929, 0.007441], [324, \"2023-09-21\", 21.53, 255.7, 5.544005, 3.069447, 0.915956, -2.008619, 0.277696, -3.515105, 0.007608], [325, \"2023-09-22\", 20.59, 244.88, 5.500768, 3.024806, 0.862477, -1.719479, 0.364077, -3.50721, 0.007804], [326, \"2023-09-25\", 21.13, 246.99, 5.509348, 3.050694, 0.776453, -1.227056, 0.650458, -3.477845, 0.008575], [327, \"2023-09-26\", 22.26, 244.12, 5.49766, 3.102791, 0.627621, -0.347655, 1.544667, -3.369717, 0.012036], [328, \"2023-09-27\", 23.05, 240.5, 5.48272, 3.137666, 0.522064, 0.275336, 2.253121, -3.284879, 0.015568], [329, \"2023-09-28\", 23.08, 246.38, 5.506875, 3.138966, 0.485939, 0.462962, 2.270265, -3.282669, 0.015671], [330, \"2023-09-29\", 24.28, 250.22, 5.522341, 3.189653, 0.439004, 0.765322, 2.183219, -3.481088, 0.008486], [331, \"2023-10-02\", 23.66, 251.6, 5.527841, 3.163786, 0.462694, 0.606088, 1.72919, -3.567575, 0.006412], [332, \"2023-10-03\", 21.69, 246.53, 5.507484, 3.076851, 0.503127, 0.305889, 1.277195, -3.514252, 0.007629], [333, \"2023-10-04\", 23.69, 261.16, 5.565133, 3.165053, 0.526639, 0.234235, 1.104952, -3.680161, 0.004401], [334, \"2023-10-05\", 18.27, 260.05, 5.560874, 2.90526, 0.485017, 0.208142, 0.986296, -3.900178, 0.002034], [335, \"2023-10-06\", 18.92, 260.53, 5.562718, 2.94022, 0.475263, 0.296465, 0.970297, -3.953326, 0.001676], [336, \"2023-10-09\", 18.78, 259.67, 5.559412, 2.932792, 0.397916, 0.720613, 1.219342, -3.632869, 0.005163], [337, \"2023-10-10\", 19.64, 263.62, 5.574509, 2.977568, 0.24079, 1.635284, 1.737176, -3.690101, 0.004255], [338, \"2023-10-11\", 19.37, 262.99, 5.572116, 2.963725, 0.054184, 2.661807, 2.103325, -4.846422, 4.4e-05], [339, \"2023-10-12\", 19.33, 258.87, 5.556326, 2.961658, -0.306061, 4.66223, 2.618704, -4.176545, 0.000722], [340, \"2023-10-13\", 19.3, 251.12, 5.525931, 2.960105, -0.740946, 7.054522, 2.823768, -4.195234, 0.000671], [341, \"2023-10-16\", 19.66, 253.92, 5.537019, 2.978586, -1.061935, 8.85854, 2.692616, -4.470337, 0.000222], [342, \"2023-10-17\", 19.9, 254.85, 5.540675, 2.99072, -1.475628, 11.166695, 2.643981, -3.993958, 0.001442], [343, \"2023-10-18\", 18.09, 242.68, 5.491744, 2.895359, -1.219741, 9.593863, 1.891799, -2.552006, 0.103328], [344, \"2023-10-19\", 17.16, 220.11, 5.394127, 2.842581, 0.131276, 2.134464, -0.074951, -2.787658, 0.060058], [345, \"2023-10-20\", 16.72, 211.99, 5.356539, 2.816606, 0.616034, -0.483207, -0.797765, -3.899043, 0.002042], [346, \"2023-10-23\", 17.07, 212.08, 5.356964, 2.837323, 0.748157, -1.170525, -0.984398, -3.433188, 0.009878], [347, \"2023-10-24\", 17.43, 216.52, 5.377683, 2.858193, 0.80696, -1.48138, -1.037857, -2.992452, 0.035605], [348, \"2023-10-25\", 17.02, 212.42, 5.358565, 2.834389, 0.867713, -1.815306, -1.072922, -2.797818, 0.058586], [349, \"2023-10-26\", 16.17, 205.76, 5.32671, 2.783158, 0.891656, -1.966438, -1.053657, -3.045188, 0.030884], [350, \"2023-10-27\", 16.01, 207.3, 5.334167, 2.773214, 0.875956, -1.899284, -0.979529, -3.074461, 0.028502], [351, \"2023-10-30\", 15.72, 197.36, 5.285029, 2.754934, 0.826486, -1.613071, -0.86604, -3.073478, 0.028579], [352, \"2023-10-31\", 16.22, 200.84, 5.302509, 2.786245, 0.790366, -1.404676, -0.784526, -3.167176, 0.021965], [353, \"2023-11-01\", 16.13, 205.66, 5.326224, 2.780681, 0.702076, -0.958732, -0.658183, -3.008892, 0.034072], [354, \"2023-11-02\", 17.59, 218.51, 5.386832, 2.867331, 0.7268, -1.047821, -0.659042, -3.036359, 0.031636], [355, \"2023-11-03\", 17.71, 219.96, 5.393446, 2.874129, 0.740985, -1.122333, -0.65414, -2.984392, 0.036378], [356, \"2023-11-06\", 17.18, 219.27, 5.390304, 2.843746, 0.770339, -1.308615, -0.666541, -2.923906, 0.042638], [357, \"2023-11-07\", 17.42, 222.18, 5.403488, 2.857619, 0.781594, -1.365715, -0.637749, -2.947372, 0.04011], [358, \"2023-11-08\", 17.0, 222.11, 5.403173, 2.833213, 0.814216, -1.566139, -0.629622, -3.088873, 0.027388], [359, \"2023-11-09\", 15.33, 209.98, 5.347012, 2.729812, 0.878547, -1.967791, -0.649005, -2.806573, 0.057341], [360, \"2023-11-10\", 15.4, 214.65, 5.369009, 2.734368, 0.897699, -2.085387, -0.599767, -2.828345, 0.054338], [361, \"2023-11-13\", 16.19, 223.71, 5.410351, 2.784394, 0.843497, -1.779222, -0.451258, -3.065465, 0.029217], [362, \"2023-11-14\", 16.9, 237.41, 5.469789, 2.827314, 0.593881, -0.42109, 0.102551, -3.221539, 0.018771], [363, \"2023-11-15\", 17.24, 242.84, 5.492403, 2.847232, 0.475003, 0.238325, 1.431349, -3.276421, 0.015966], [364, \"2023-11-16\", 16.39, 233.59, 5.453567, 2.796671, 0.391779, 0.660076, 2.55794, -3.403142, 0.010852], [365, \"2023-11-17\", 16.7, 234.3, 5.456602, 2.815409, 0.36414, 0.828442, 2.324271, -3.537523, 0.007074], [366, \"2023-11-20\", 16.93, 235.6, 5.462135, 2.829087, 0.368211, 0.817869, 1.95071, -3.578579, 0.006184], [367, \"2023-11-21\", 15.72, 241.2, 5.485626, 2.754934, 0.26286, 1.312981, 2.043962, -3.379664, 0.011672], [368, \"2023-11-22\", 15.98, 234.21, 5.456218, 2.771338, 0.243369, 1.443466, 1.848097, -3.40911, 0.010652], [369, \"2023-11-24\", 16.43, 235.45, 5.461499, 2.799109, 0.227087, 1.558875, 1.696376, -3.3444, 0.013007], [370, \"2023-11-27\", 16.66, 236.08, 5.464171, 2.813011, 0.20958, 1.667832, 1.572786, -3.38331, 0.011541], [371, \"2023-11-28\", 17.42, 246.72, 5.508254, 2.857619, 0.202, 1.74495, 1.447933, -3.405258, 0.010781], [372, \"2023-11-29\", 17.32, 244.14, 5.497742, 2.851862, 0.235869, 1.555114, 1.178063, -3.393837, 0.011171], [373, \"2023-11-30\", 16.76, 240.08, 5.480972, 2.818995, 0.209003, 1.673455, 1.138128, -3.448075, 0.009425], [374, \"2023-12-01\", 18.03, 238.83, 5.475752, 2.892037, 0.352182, 0.963576, 0.576797, -3.436691, 0.00977], [375, \"2023-12-04\", 17.74, 235.58, 5.462051, 2.875822, 0.479619, 0.256119, 0.032153, -3.458477, 0.00912], [376, \"2023-12-05\", 17.41, 238.72, 5.475291, 2.857045, 0.593017, -0.389895, -0.477969, -3.493871, 0.008146], [377, \"2023-12-06\", 18.38, 239.37, 5.47801, 2.911263, 0.753942, -1.218841, -1.102844, -3.492552, 0.00818], [378, \"2023-12-07\", 19.19, 242.64, 5.491579, 2.954389, 0.957078, -2.301479, -1.798374, -3.502101, 0.007933], [379, \"2023-12-08\", 19.04, 243.84, 5.496512, 2.946542, 1.163891, -3.450797, -2.311889, -3.48163, 0.008472], [380, \"2023-12-11\", 18.95, 239.74, 5.479555, 2.941804, 1.374678, -4.590821, -2.529354, -3.468889, 0.008823], [381, \"2023-12-12\", 18.21, 237.01, 5.468102, 2.901971, 1.596496, -5.82783, -2.547612, -3.311507, 0.014372], [382, \"2023-12-13\", 19.68, 239.29, 5.477676, 2.979603, 1.61365, -5.859448, -2.115988, -3.060441, 0.029623], [383, \"2023-12-14\", 22.43, 251.05, 5.525652, 3.110399, 2.895849, -12.891057, -3.126321, -3.15371, 0.022825], [384, \"2023-12-15\", 22.83, 253.5, 5.535364, 3.128075, 3.384796, -15.608001, -2.770022, -0.823896, 0.812002], [385, \"2023-12-18\", 23.8, 252.08, 5.529746, 3.169686, 3.90559, -18.427235, -2.542139, -0.990917, 0.756563], [386, \"2023-12-19\", 24.35, 257.22, 5.549932, 3.192532, 4.074946, -19.423138, -2.196209, -0.408871, 0.908607], [387, \"2023-12-20\", 23.18, 247.14, 5.509955, 3.14329, 4.194447, -19.967926, -1.922149, -0.550263, 0.881829], [388, \"2023-12-21\", 23.58, 254.5, 5.539301, 3.160399, 4.159267, -19.87903, -1.663779, -0.521739, 0.887704], [389, \"2023-12-22\", 23.21, 252.54, 5.53157, 3.144583, 4.158695, -19.85953, -1.472075, -0.640396, 0.86159], [390, \"2023-12-26\", 23.59, 256.61, 5.547557, 3.160823, 4.02636, -19.175641, -1.252397, -0.619933, 0.866414], [391, \"2023-12-27\", 23.73, 261.44, 5.566205, 3.16674, 3.773561, -17.837676, -0.997244, -0.795318, 0.820493], [392, \"2023-12-28\", 23.54, 253.18, 5.534101, 3.158701, 3.756001, -17.627385, -0.881872, -1.032671, 0.741163], [393, \"2023-12-29\", 23.46, 248.48, 5.515362, 3.155297, 3.621319, -16.81759, -0.707804, -0.907567, 0.78547], [394, \"2024-01-02\", 21.1, 248.42, 5.515121, 3.049273, 3.551731, -16.538954, -0.597987, -1.040804, 0.738093], [395, \"2024-01-03\", 20.32, 238.45, 5.47416, 3.011606, 3.343006, -15.288542, -0.362047, -1.027402, 0.743139], [396, \"2024-01-04\", 19.5, 237.93, 5.471977, 2.970414, 3.072313, -13.841209, -0.077596, -1.232389, 0.65951], [397, \"2024-01-05\", 19.08, 237.49, 5.470126, 2.948641, 2.953338, -13.206489, 0.117857, -1.381024, 0.591339], [398, \"2024-01-08\", 19.58, 240.45, 5.482512, 2.974509, 2.908466, -12.971193, 0.27358, -1.492155, 0.537389], [399, \"2024-01-09\", 19.25, 234.96, 5.459415, 2.957511, 2.770045, -12.165315, 0.566964, -1.656744, 0.453525], [400, \"2024-01-10\", 19.07, 233.94, 5.455065, 2.948116, 2.64888, -11.501695, 0.880265, -1.870483, 0.346072], [401, \"2024-01-11\", 18.79, 227.22, 5.425919, 2.933325, 2.335042, -9.736425, 1.475929, -2.270399, 0.181693], [402, \"2024-01-12\", 18.06, 218.89, 5.388569, 2.8937, 2.05516, -8.180675, 2.057567, -1.966731, 0.301348], [403, \"2024-01-16\", 17.82, 219.91, 5.393218, 2.880321, 1.992599, -7.866201, 1.888056, -0.998536, 0.753798], [404, \"2024-01-17\", 16.76, 215.55, 5.373193, 2.818995, 1.99357, -7.892843, 1.64453, -1.127894, 0.703821], [405, \"2024-01-18\", 15.74, 211.88, 5.35602, 2.756205, 2.005628, -7.985978, 1.439013, -1.209424, 0.669529], [406, \"2024-01-19\", 15.48, 212.19, 5.357482, 2.739549, 2.03245, -8.149264, 1.263543, -1.22243, 0.663873], [407, \"2024-01-22\", 16.03, 208.8, 5.341377, 2.774462, 1.959683, -7.692946, 1.240988, -1.214845, 0.667178], [408, \"2024-01-23\", 16.04, 209.14, 5.343004, 2.775086, 1.912892, -7.445501, 1.187167, -1.238815, 0.65668], [409, \"2024-01-24\", 15.34, 207.83, 5.33672, 2.730464, 1.902215, -7.421123, 1.102956, -1.258926, 0.647748], [410, \"2024-01-25\", 15.0, 182.63, 5.207462, 2.70805, 1.570036, -5.467855, 1.454295, -1.286729, 0.635222], [411, \"2024-01-26\", 15.29, 183.25, 5.210851, 2.727199, 1.37279, -4.426206, 1.559948, -1.288198, 0.634554], [412, \"2024-01-29\", 16.12, 190.93, 5.251907, 2.780061, 1.216966, -3.611329, 1.616148, -1.326941, 0.616758], [413, \"2024-01-30\", 15.66, 191.59, 5.255358, 2.75111, 1.080643, -2.928058, 1.637867, -1.293978, 0.631923], [414, \"2024-01-31\", 15.31, 187.29, 5.232658, 2.728506, 1.015004, -2.582662, 1.602474, -1.284483, 0.636241], [415, \"2024-02-01\", 15.53, 188.86, 5.241006, 2.742774, 0.951845, -2.245854, 1.562992, -1.276215, 0.639983], [416, \"2024-02-02\", 15.6, 187.91, 5.235963, 2.747271, 0.906803, -2.000715, 1.491981, -1.272784, 0.64153], [417, \"2024-02-05\", 14.94, 181.06, 5.198828, 2.704042, 0.879135, -1.866428, 1.406743, -1.254002, 0.649945], [418, \"2024-02-06\", 15.5, 185.1, 5.220896, 2.74084, 0.818775, -1.533897, 1.39758, -1.228206, 0.661346], [419, \"2024-02-07\", 15.17, 187.58, 5.234205, 2.71932, 0.764852, -1.28407, 1.372172, -1.214289, 0.667419], [420, \"2024-02-08\", 16.11, 189.56, 5.244706, 2.77944, 0.664343, -0.704846, 1.451768, -1.23996, 0.656174], [421, \"2024-02-09\", 16.68, 193.57, 5.265639, 2.81421, 0.531433, 0.015875, 1.534289, -1.31188, 0.62372], [422, \"2024-02-12\", 16.33, 188.13, 5.237133, 2.793004, 0.398118, 0.708006, 1.568222, -1.259955, 0.647288], [423, \"2024-02-13\", 15.38, 184.02, 5.215044, 2.733068, 0.259659, 1.378933, 1.584424, -1.232793, 0.659332], [424, \"2024-02-14\", 15.54, 188.71, 5.240211, 2.743417, 0.181169, 1.794052, 1.534608, -1.186979, 0.679172], [425, \"2024-02-15\", 16.35, 200.45, 5.300565, 2.794228, 0.236842, 1.538834, 1.327094, -1.165721, 0.688165], [426, \"2024-02-16\", 16.3, 199.95, 5.298067, 2.791165, 0.364669, 0.859122, 1.030938, -1.302106, 0.628208], [427, \"2024-02-20\", 15.89, 193.76, 5.26662, 2.76569, 0.399687, 0.660691, 0.892859, -1.358719, 0.601899], [428, \"2024-02-21\", 15.39, 194.77, 5.271819, 2.733718, 0.432985, 0.451101, 0.755663, -1.341235, 0.610103], [429, \"2024-02-22\", 11.45, 197.41, 5.285283, 2.43799, -0.047328, 2.688134, 1.624161, -1.36471, 0.599073], [430, \"2024-02-23\", 10.07, 191.97, 5.257339, 2.309561, -0.402604, 4.426185, 2.146908, -1.024127, 0.744363], [431, \"2024-02-26\", 10.7, 199.4, 5.295313, 2.370244, -1.356308, 9.552321, 3.092506, -0.917322, 0.782215], [432, \"2024-02-27\", 11.14, 199.73, 5.296966, 2.410542, -1.916411, 12.561704, 2.918204, -0.244289, 0.933032], [433, \"2024-02-28\", 11.3, 202.04, 5.308466, 2.424803, -2.307934, 14.67639, 2.62016, -0.173045, 0.941659], [434, \"2024-02-29\", 11.32, 201.88, 5.307673, 2.426571, -2.564792, 16.039647, 2.324591, -0.084735, 0.950938], [435, \"2024-03-01\", 11.35, 202.64, 5.311431, 2.429218, -2.705685, 16.800277, 2.052866, -0.05455, 0.953782], [436, \"2024-03-04\", 10.91, 188.14, 5.237186, 2.38968, -2.280906, 14.335209, 1.473294, -0.046305, 0.954531], [437, \"2024-03-05\", 10.93, 180.74, 5.19706, 2.391511, -1.35736, 9.445793, 0.653499, -0.755615, 0.831814], [438, \"2024-03-06\", 11.03, 176.54, 5.173547, 2.400619, -0.27371, 3.816671, -0.266156, -1.570086, 0.498601], [439, \"2024-03-07\", 12.51, 178.65, 5.185429, 2.526528, -0.011681, 2.587102, -0.505849, -1.975067, 0.297611], [440, \"2024-03-08\", 12.78, 175.34, 5.166727, 2.547881, 0.097596, 2.043628, -0.629645, -1.514316, 0.526418], [441, \"2024-03-11\", 12.69, 177.77, 5.180491, 2.540814, 0.043992, 2.312914, -0.613691, -1.491866, 0.537531], [442, \"2024-03-12\", 12.37, 177.54, 5.179196, 2.515274, 0.13692, 1.80614, -0.714489, -2.01511, 0.279988], [443, \"2024-03-13\", 11.71, 169.48, 5.132735, 2.460443, 0.329805, 0.76764, -0.882618, -2.021651, 0.277161], [444, \"2024-03-14\", 10.69, 162.5, 5.090678, 2.369309, 0.490386, -0.127089, -1.003639, -2.262103, 0.184482], [445, \"2024-03-15\", 11.04, 163.57, 5.097241, 2.401525, 0.340254, 0.667169, -0.858018, -2.15931, 0.221344], [446, \"2024-03-18\", 11.4, 173.8, 5.157905, 2.433613, 0.132249, 1.751487, -0.688928, -2.113001, 0.239319], [447, \"2024-03-19\", 11.26, 171.32, 5.143533, 2.421257, 0.002534, 2.408223, -0.600346, -2.06422, 0.259143], [448, \"2024-03-20\", 11.36, 175.66, 5.16855, 2.430098, -0.170805, 3.312912, -0.479946, -2.187297, 0.210888], [449, \"2024-03-21\", 11.17, 172.82, 5.152251, 2.413232, -0.172802, 3.303553, -0.488341, -2.090736, 0.248256], [450, \"2024-03-22\", 10.8, 170.83, 5.140669, 2.379546, -0.067152, 2.724752, -0.569994, -2.027307, 0.27473], [451, \"2024-03-25\", 10.65, 172.63, 5.151151, 2.36556, 0.032631, 2.197473, -0.597562, -2.362218, 0.152685], [452, \"2024-03-26\", 10.52, 177.67, 5.179928, 2.353278, 0.07634, 1.957844, -0.565151, -2.307298, 0.169625], [453, \"2024-03-27\", 10.99, 179.83, 5.192012, 2.396986, 0.102569, 1.864446, -0.506617, -2.500549, 0.115341], [454, \"2024-03-28\", 10.95, 175.79, 5.16929, 2.393339, 0.157727, 1.578, -0.492222, -2.333269, 0.161462], [455, \"2024-04-01\", 11.09, 175.22, 5.166042, 2.406044, 0.305344, 0.828624, -0.653404, -2.296765, 0.173014], [456, \"2024-04-02\", 10.51, 166.63, 5.115776, 2.352327, 0.740417, -1.435479, -1.725527, -2.516036, 0.111621], [457, \"2024-04-03\", 10.54, 168.38, 5.126223, 2.355178, 0.995526, -2.74811, -2.717325, -2.641322, 0.084754], [458, \"2024-04-04\", 10.13, 171.11, 5.142307, 2.315501, 1.114876, -3.417533, -2.495544, -2.587579, 0.095592], [459, \"2024-04-05\", 10.1, 164.9, 5.105339, 2.312535, 1.095116, -3.278405, -2.020981, -2.681262, 0.077337], [460, \"2024-04-08\", 10.44, 172.98, 5.153176, 2.345645, 0.923068, -2.411086, -1.422067, -2.49719, 0.116159], [461, \"2024-04-09\", 10.63, 176.88, 5.175472, 2.36368, 0.570799, -0.590476, -0.528328, -2.551374, 0.103469], [462, \"2024-04-10\", 10.27, 171.76, 5.146098, 2.329227, 0.315339, 0.706461, 0.094431, -2.87834, 0.047925], [463, \"2024-04-11\", 9.57, 174.6, 5.162498, 2.258633, 0.26043, 0.914162, 0.187335, -3.013187, 0.033681], [464, \"2024-04-12\", 9.13, 171.05, 5.141956, 2.211566, 0.436798, -0.03443, -0.255036, -3.092687, 0.027099], [465, \"2024-04-15\", 8.4, 161.48, 5.084381, 2.128232, 1.720692, -6.620424, -2.527018, -3.172153, 0.021654], [466, \"2024-04-16\", 8.71, 157.11, 5.056946, 2.164472, 1.781544, -6.844699, -2.138516, -2.344609, 0.157984], [467, \"2024-04-17\", 8.74, 155.45, 5.046324, 2.16791, 1.747341, -6.649737, -1.787033, -2.67878, 0.077783], [468, \"2024-04-18\", 8.83, 149.93, 5.010169, 2.178155, 1.47795, -5.226625, -1.227768, -2.768883, 0.062858], [469, \"2024-04-19\", 8.63, 147.05, 4.990773, 2.155245, 1.331075, -4.48785, -0.913563, -2.672188, 0.078976], [470, \"2024-04-22\", 8.79, 142.05, 4.956179, 2.173615, 1.135433, -3.453793, -0.518415, -2.68227, 0.077157], [471, \"2024-04-23\", 9.04, 144.68, 4.974524, 2.201659, 1.027472, -2.909524, -0.271564, -2.731243, 0.068786], [472, \"2024-04-24\", 8.84, 162.13, 5.088398, 2.179287, 1.039032, -3.107723, -0.26693, -2.701707, 0.073743], [473, \"2024-04-25\", 8.52, 170.18, 5.136857, 2.142416, 0.934113, -2.655989, -0.024585, -2.655055, 0.082144], [474, \"2024-04-26\", 9.04, 168.29, 5.125689, 2.201659, 0.846022, -2.134789, 0.267372, -2.689816, 0.075817], [475, \"2024-04-29\", 9.38, 194.05, 5.268116, 2.23858, 0.553177, -0.675623, 0.943425, -2.70433, 0.073292], [476, \"2024-04-30\", 8.9, 183.28, 5.211015, 2.186051, 0.445504, -0.135475, 1.120379, -2.777835, 0.06151], [477, \"2024-05-01\", 9.21, 179.99, 5.192901, 2.22029, 0.397542, 0.155895, 1.138862, -2.744142, 0.066706], [478, \"2024-05-02\", 9.83, 180.01, 5.193012, 2.285439, 0.396452, 0.226659, 1.061742, -2.746504, 0.066331], [479, \"2024-05-03\", 10.07, 181.19, 5.199546, 2.309561, 0.43386, 0.053684, 0.908741, -2.726284, 0.069599], [480, \"2024-05-06\", 10.33, 184.76, 5.219058, 2.335052, 0.454616, -0.037615, 0.81225, -2.706689, 0.072888], [481, \"2024-05-07\", 10.25, 177.81, 5.180716, 2.327278, 0.442983, 0.032311, 0.819724, -2.699105, 0.074193], [482, \"2024-05-08\", 10.27, 174.72, 5.163185, 2.329227, 0.45172, -0.003085, 0.830893, -2.696566, 0.074634], [483, \"2024-05-09\", 10.22, 171.97, 5.14732, 2.324347, 0.463058, -0.059162, 0.844826, -2.6923, 0.07538], [484, \"2024-05-10\", 9.99, 168.47, 5.126758, 2.301585, 0.470458, -0.110341, 0.827454, -2.691246, 0.075565], [485, \"2024-05-13\", 10.9, 171.89, 5.146855, 2.388763, 0.474512, -0.05348, 0.775132, -2.689635, 0.075849], [486, \"2024-05-14\", 11.19, 177.55, 5.179252, 2.415021, 0.503576, -0.193129, 0.653205, -2.689742, 0.07583], [487, \"2024-05-15\", 10.2, 173.99, 5.158998, 2.322388, 0.486345, -0.186667, 0.604339, -2.683702, 0.076901], [488, \"2024-05-16\", 10.13, 174.84, 5.163871, 2.315501, 0.470257, -0.112845, 0.586282, -2.717717, 0.071022], [489, \"2024-05-17\", 10.5, 177.46, 5.178745, 2.351375, 0.424614, 0.152406, 0.717162, -2.72411, 0.069958], [490, \"2024-05-20\", 10.28, 174.95, 5.1645, 2.3302, 0.360399, 0.468917, 0.914183, -3.25038, 0.017248], [491, \"2024-05-21\", 10.05, 186.6, 5.228967, 2.307573, 0.254302, 0.977834, 1.300952, -3.377214, 0.011761], [492, \"2024-05-22\", 10.7, 180.11, 5.193568, 2.370244, -0.031531, 2.534002, 2.572408, -3.785603, 0.003058], [493, \"2024-05-23\", 9.95, 173.74, 5.15756, 2.297573, -0.32362, 3.96666, 3.101239, -4.316278, 0.000416], [494, \"2024-05-24\", 10.44, 179.24, 5.188726, 2.345645, -0.665059, 5.796453, 3.197191, -5.126805, 1.2e-05], [495, \"2024-05-28\", 10.42, 176.75, 5.174736, 2.343727, -0.529411, 5.083292, 2.233327, -4.121224, 0.000893], [496, \"2024-05-29\", 10.22, 176.19, 5.171563, 2.324347, -0.177719, 3.243433, 1.12289, -3.18762, 0.020713], [497, \"2024-05-30\", 10.97, 178.79, 5.186212, 2.395164, 0.03825, 2.19679, 0.521592, -2.3437, 0.158261], [498, \"2024-05-31\", 10.92, 178.08, 5.182233, 2.390596, 0.151337, 1.606334, 0.178061, -2.727085, 0.069468], [499, \"2024-06-03\", 11.4, 176.29, 5.17213, 2.433613, 0.217971, 1.306238, -0.012864, -2.753237, 0.06527], [500, \"2024-06-04\", 11.22, 174.77, 5.163471, 2.417698, 0.274421, 1.000732, -0.205817, -2.833709, 0.053618], [501, \"2024-06-05\", 11.45, 175.0, 5.164786, 2.43799, 0.244557, 1.174903, -0.14475, -2.793695, 0.05918], [502, \"2024-06-06\", 11.74, 177.94, 5.181446, 2.463002, 0.339671, 0.703015, -0.427551, -2.704194, 0.073315], [503, \"2024-06-07\", 11.52, 177.48, 5.178858, 2.444085, 0.293116, 0.926079, -0.337032, -2.703043, 0.073513], [504, \"2024-06-10\", 11.87, 173.79, 5.157848, 2.474014, -0.468258, 4.88922, 1.656336, -2.727911, 0.069332], [505, \"2024-06-11\", 11.83, 170.66, 5.139673, 2.470639, -0.897565, 7.083829, 2.281857, -2.30379, 0.170748], [506, \"2024-06-12\", 11.8, 177.29, 5.177787, 2.4681, -0.877319, 7.010671, 1.919525, -2.226475, 0.196777], [507, \"2024-06-13\", 11.11, 182.47, 5.206586, 2.407846, -0.851492, 6.841213, 1.62808, -2.445027, 0.129429], [508, \"2024-06-14\", 10.88, 178.01, 5.18184, 2.386926, -1.020388, 7.674413, 1.723789, -2.332034, 0.161844], [509, \"2024-06-17\", 10.96, 187.44, 5.233459, 2.394252, -0.710769, 6.114032, 1.014619, -1.923395, 0.321137], [510, \"2024-06-18\", 11.02, 184.86, 5.219599, 2.399712, -0.731443, 6.21755, 0.957275, -2.270504, 0.181658], [511, \"2024-06-20\", 10.33, 181.57, 5.201641, 2.335052, -0.543352, 5.161376, 0.466765, -2.005016, 0.284378], [512, \"2024-06-21\", 10.32, 183.01, 5.209541, 2.334084, -0.657595, 5.759851, 0.645839, -2.164314, 0.219451], [513, \"2024-06-24\", 11.01, 182.58, 5.207188, 2.398804, -0.951645, 7.354201, 1.182845, -1.917185, 0.32402], [514, \"2024-06-25\", 11.96, 187.35, 5.232979, 2.481568, -0.464401, 4.911767, 0.238105, -1.6318, 0.466549], [515, \"2024-06-26\", 14.74, 196.37, 5.280001, 2.690565, 0.906759, -2.097126, -2.097748, -2.038665, 0.269881], [516, \"2024-06-27\", 14.47, 197.42, 5.285333, 2.672078, 1.337717, -4.398201, -2.319007, -2.62983, 0.086987], [517, \"2024-06-28\", 13.42, 197.88, 5.287661, 2.596746, 1.399685, -4.804312, -2.053526, -2.631622, 0.086636], [518, \"2024-07-01\", 13.92, 209.86, 5.346441, 2.633327, 1.324853, -4.449922, -1.730163, -2.641714, 0.084679], [519, \"2024-07-02\", 14.89, 231.26, 5.443543, 2.70069, 1.176309, -3.7026, -1.416001, -2.607367, 0.091484], [520, \"2024-07-03\", 14.65, 246.39, 5.506916, 2.68444, 0.984206, -2.735499, -1.12261, -2.541492, 0.105702], [521, \"2024-07-05\", 14.79, 251.52, 5.527523, 2.693951, 0.902829, -2.296454, -0.966911, -2.562153, 0.101075], [522, \"2024-07-08\", 15.49, 252.94, 5.533152, 2.740195, 0.900988, -2.245108, -0.906718, -2.551316, 0.103482], [523, \"2024-07-09\", 15.71, 262.33, 5.569603, 2.754297, 0.883898, -2.168662, -0.843546, -2.531237, 0.108058], [524, \"2024-07-10\", 16.37, 263.26, 5.573142, 2.79545, 0.917147, -2.315941, -0.79391, -3.101811, 0.026419], [525, \"2024-07-11\", 16.76, 241.03, 5.484921, 2.818995, 0.998447, -2.657408, -0.777831, -2.854249, 0.050933], [526, \"2024-07-12\", 18.11, 248.23, 5.514356, 2.896464, 1.081082, -3.065004, -0.776687, -2.851191, 0.051325], [527, \"2024-07-15\", 17.5, 252.64, 5.531966, 2.862201, 1.101517, -3.231351, -0.730322, -2.597572, 0.0935], [528, \"2024-07-16\", 17.94, 256.56, 5.547363, 2.887033, 1.121236, -3.332872, -0.676738, -2.644821, 0.084083], [529, \"2024-07-17\", 17.19, 248.5, 5.515443, 2.844328, 1.108454, -3.269289, -0.586438, -2.542108, 0.105562], [530, \"2024-07-18\", 16.9, 249.23, 5.518376, 2.827314, 1.086564, -3.168756, -0.486509, -2.559575, 0.101643], [531, \"2024-07-19\", 16.75, 239.2, 5.4773, 2.818398, 1.016479, -2.74916, -0.294736, -2.638238, 0.085349], [532, \"2024-07-22\", 17.22, 251.51, 5.527483, 2.846071, 0.903525, -2.148146, -0.006635, -2.616053, 0.089725], [533, \"2024-07-23\", 17.5, 246.38, 5.506875, 2.862201, 0.785611, -1.464059, 0.562614, -2.627701, 0.087406], [534, \"2024-07-24\", 16.27, 215.99, 5.375232, 2.789323, 0.608592, -0.481999, 2.281913, -2.55505, 0.102648], [535, \"2024-07-25\", 16.25, 220.25, 5.394763, 2.788093, 0.620286, -0.558202, 1.928848, -2.618806, 0.089172], [536, \"2024-07-26\", 16.21, 219.8, 5.392718, 2.785628, 0.598142, -0.439981, 1.790667, -2.574079, 0.098474], [537, \"2024-07-29\", 16.3, 232.1, 5.447168, 2.791165, 0.41351, 0.538704, 2.259746, -2.580542, 0.097086], [538, \"2024-07-30\", 16.22, 222.62, 5.405466, 2.786245, 0.170115, 1.866696, 2.631414, -2.61018, 0.090911], [539, \"2024-07-31\", 16.41, 232.07, 5.447039, 2.797891, 0.104973, 2.226097, 2.328262, -2.619362, 0.089061], [540, \"2024-08-01\", 15.24, 216.86, 5.379252, 2.723924, 0.229801, 1.487765, 1.643637, -2.621414, 0.088652], [541, \"2024-08-02\", 14.72, 207.67, 5.33595, 2.689207, 0.413384, 0.483409, 0.987162, -2.650482, 0.083006], [542, \"2024-08-05\", 14.61, 198.88, 5.292702, 2.681706, 0.531341, -0.130522, 0.594576, -2.668853, 0.079585], [543, \"2024-08-06\", 14.8, 200.64, 5.301512, 2.694627, 0.650835, -0.755784, 0.219165, -2.671568, 0.079089], [544, \"2024-08-07\", 13.79, 191.76, 5.256245, 2.623944, 0.788936, -1.522899, -0.222279, -2.659908, 0.081237], [545, \"2024-08-08\", 14.72, 198.84, 5.2925, 2.689207, 0.786712, -1.474467, -0.232486, -2.638928, 0.085216], [546, \"2024-08-09\", 13.95, 200.0, 5.298317, 2.63548, 0.796389, -1.58404, -0.346579, -2.657085, 0.081763], [547, \"2024-08-12\", 13.39, 197.49, 5.285688, 2.594508, 0.851059, -1.903923, -0.593094, -2.63446, 0.086082], [548, \"2024-08-13\", 13.54, 207.83, 5.33672, 2.605648, 0.881846, -2.100515, -0.783028, -2.595788, 0.093871], [549, \"2024-08-14\", 13.25, 201.38, 5.305194, 2.583998, 0.937916, -2.391827, -1.032637, -2.577305, 0.097779], [550, \"2024-08-15\", 13.76, 214.14, 5.36663, 2.621766, 0.984598, -2.662205, -1.256823, -2.542794, 0.105406], [551, \"2024-08-16\", 13.21, 216.12, 5.375834, 2.580974, 0.978258, -2.677977, -1.273931, -2.5497, 0.103845], [552, \"2024-08-19\", 13.53, 222.72, 5.405915, 2.604909, 0.939507, -2.473985, -1.112669, -2.592744, 0.094506], [553, \"2024-08-20\", 13.2, 221.1, 5.398615, 2.580217, 0.757895, -1.511368, -0.470529, -2.774982, 0.061937], [554, \"2024-08-21\", 13.07, 223.27, 5.408382, 2.57032, 0.603211, -0.692076, 0.081019, -2.678213, 0.077885], [555, \"2024-08-22\", 12.81, 210.66, 5.350245, 2.550226, 0.548406, -0.383881, 0.279875, -2.51077, 0.112876], [556, \"2024-08-23\", 13.96, 220.32, 5.395081, 2.636196, 0.45187, 0.198321, 0.639172, -2.510323, 0.112983], [557, \"2024-08-26\", 14.36, 213.21, 5.362278, 2.664447, 0.273528, 1.197716, 1.244979, -2.521003, 0.110447], [558, \"2024-08-27\", 14.48, 209.21, 5.343339, 2.672768, 0.121823, 2.021826, 1.753643, -2.520369, 0.110597], [559, \"2024-08-28\", 13.83, 205.75, 5.326662, 2.62684, -0.273531, 4.083846, 2.633092, -2.50359, 0.114603], [560, \"2024-08-29\", 14.09, 206.28, 5.329234, 2.645465, -0.389118, 4.719167, 2.45992, -2.373188, 0.149447], [561, \"2024-08-30\", 14.13, 214.11, 5.36649, 2.6483, -0.360693, 4.583955, 2.030898, -2.381288, 0.147088], [562, \"2024-09-03\", 13.15, 210.6, 5.349961, 2.576422, -0.315077, 4.262069, 1.66101, -2.433467, 0.132512], [563, \"2024-09-04\", 13.28, 219.41, 5.390942, 2.586259, -0.260032, 3.988076, 1.386856, -2.82603, 0.054651], [564, \"2024-09-05\", 13.74, 230.17, 5.438818, 2.620311, -0.232416, 3.884378, 1.211624, -2.861866, 0.049966], [565, \"2024-09-06\", 13.23, 210.73, 5.350578, 2.582487, -0.090765, 3.068135, 0.83738, -2.660119, 0.081197], [566, \"2024-09-09\", 13.08, 216.27, 5.376528, 2.571084, -0.058893, 2.887725, 0.698509, -2.811302, 0.056677], [567, \"2024-09-10\", 13.23, 226.17, 5.421287, 2.582487, -0.163922, 3.471157, 0.816725, -3.187166, 0.02074], [568, \"2024-09-11\", 13.93, 228.13, 5.429916, 2.634045, -0.087124, 3.107119, 0.611966, -2.633191, 0.08633], [569, \"2024-09-12\", 13.72, 229.81, 5.437253, 2.618855, -0.140324, 3.381833, 0.63549, -3.136747, 0.023951], [570, \"2024-09-13\", 13.5, 230.29, 5.439339, 2.60269, -0.128205, 3.300041, 0.529273, -2.823773, 0.054957], [571, \"2024-09-16\", 13.2, 226.78, 5.42398, 2.580217, -0.169989, 3.502232, 0.5411, -3.326993, 0.013714], [572, \"2024-09-17\", 13.1, 227.87, 5.428775, 2.572612, -0.209566, 3.710296, 0.574274, -3.873924, 0.002235], [573, \"2024-09-18\", 12.9, 227.2, 5.425831, 2.557227, -0.251835, 3.92364, 0.630296, -2.947381, 0.040109], [574, \"2024-09-19\", 13.15, 243.92, 5.49684, 2.576422, -0.245352, 3.925081, 0.568792, -1.868587, 0.34698], [575, \"2024-09-20\", 11.71, 238.25, 5.473321, 2.460443, -0.526024, 5.339542, 1.609367, -2.115857, 0.238187], [576, \"2024-09-23\", 11.91, 250.0, 5.521461, 2.477378, -0.63726, 5.995983, 2.152005, -1.231441, 0.659927], [577, \"2024-09-24\", 11.84, 254.27, 5.538397, 2.471484, -0.669087, 6.177154, 2.167875, -1.128458, 0.703591], [578, \"2024-09-25\", 11.03, 257.02, 5.549154, 2.400619, -0.766966, 6.656632, 2.277566, -1.050409, 0.734438], [579, \"2024-09-26\", 11.17, 254.22, 5.5382, 2.413232, -0.877489, 7.272939, 2.279776, -0.659796, 0.85689], [580, \"2024-09-27\", 11.6, 260.46, 5.562449, 2.451005, -0.88408, 7.368657, 1.992527, -0.565882, 0.878506], [581, \"2024-09-30\", 11.22, 261.63, 5.566931, 2.417698, -0.888376, 7.363225, 1.728964, -0.811377, 0.815757], [582, \"2024-10-01\", 10.44, 258.02, 5.553037, 2.345645, -1.073765, 8.308302, 1.955004, -0.866703, 0.79874], [583, \"2024-10-02\", 10.64, 249.02, 5.517533, 2.36462, -1.154484, 8.734526, 1.863919, -0.418691, 0.906931], [584, \"2024-10-03\", 10.78, 240.66, 5.483385, 2.377693, -1.134747, 8.59995, 1.572484, -0.592052, 0.872768], [585, \"2024-10-04\", 10.44, 250.08, 5.521781, 2.345645, -1.326703, 9.67141, 1.802143, -0.909689, 0.784765], [586, \"2024-10-07\", 10.49, 240.83, 5.484091, 2.350422, -1.4489, 10.29632, 1.810227, -0.303288, 0.925037], [587, \"2024-10-08\", 10.47, 244.5, 5.499215, 2.348514, -1.457608, 10.364215, 1.617927, -0.363312, 0.916047], [588, \"2024-10-09\", 10.42, 241.05, 5.485004, 2.343727, -1.306235, 9.50843, 1.156882, -0.551867, 0.881492], [589, \"2024-10-10\", 10.26, 238.77, 5.475501, 2.328253, -1.080103, 8.242357, 0.565866, -1.089042, 0.719422], [590, \"2024-10-11\", 10.5, 217.8, 5.383577, 2.351375, -0.481263, 4.94229, -0.915436, -1.417905, 0.573663], [591, \"2024-10-14\", 10.35, 219.16, 5.389802, 2.336987, -0.064011, 2.68199, -1.844594, -2.046843, 0.266419], [592, \"2024-10-15\", 10.15, 219.57, 5.391671, 2.317474, 0.265394, 0.886558, -2.284984, -1.969866, 0.29994], [593, \"2024-10-16\", 10.24, 221.33, 5.399655, 2.326302, 0.508789, -0.420981, -2.339935, -1.867364, 0.347566], [594, \"2024-10-17\", 10.12, 220.89, 5.397665, 2.314514, 0.516958, -0.47585, -2.0475, -2.086117, 0.250134], [595, \"2024-10-18\", 10.04, 220.7, 5.396804, 2.306577, 0.552744, -0.676475, -1.826463, -2.171977, 0.216573], [596, \"2024-10-21\", 10.03, 218.85, 5.388387, 2.305581, 0.519955, -0.496137, -1.570227, -1.979807, 0.295497], [597, \"2024-10-22\", 10.49, 217.97, 5.384357, 2.350422, 0.426095, 0.056177, -1.290833, -1.939544, 0.313693], [598, \"2024-10-23\", 10.16, 213.65, 5.364339, 2.318458, 0.407186, 0.134177, -1.15198, -2.096761, 0.245819], [599, \"2024-10-24\", 10.43, 260.48, 5.562526, 2.344686, 0.333488, 0.489652, -0.971837, -2.126549, 0.233974], [600, \"2024-10-25\", 10.45, 269.19, 5.595417, 2.346602, 0.210503, 1.168749, -0.743325, -2.211352, 0.202151], [601, \"2024-10-28\", 10.86, 262.51, 5.570289, 2.385086, 0.178583, 1.390326, -0.626723, -2.258471, 0.185712], [602, \"2024-10-29\", 10.47, 259.52, 5.558834, 2.348514, 0.179626, 1.350003, -0.566226, -2.265425, 0.183362], [603, \"2024-10-30\", 10.39, 257.55, 5.551214, 2.340844, 0.160883, 1.447749, -0.474454, -2.343058, 0.158457], [604, \"2024-10-31\", 10.1, 249.85, 5.520861, 2.312535, 0.138592, 1.547386, -0.382145, -2.240293, 0.191948], [605, \"2024-11-01\", 10.18, 248.98, 5.517373, 2.320425, 0.127529, 1.616803, -0.287161, -2.320641, 0.165397], [606, \"2024-11-04\", 10.29, 242.84, 5.492403, 2.331173, 0.123888, 1.65073, -0.185779, -2.440174, 0.130717], [607, \"2024-11-05\", 10.59, 251.44, 5.527204, 2.35991, 0.130369, 1.639332, -0.071148, -2.476678, 0.121252], [608, \"2024-11-06\", 9.71, 288.53, 5.664799, 2.273156, 0.024539, 2.134147, 0.323961, -2.590262, 0.095027], [609, \"2024-11-07\", 10.05, 296.91, 5.693429, 2.307573, -0.005174, 2.337029, 0.871737, -2.736911, 0.067866], [610, \"2024-11-08\", 10.59, 321.22, 5.772126, 2.35991, 0.03645, 2.149517, 1.080373, -2.737359, 0.067794], [611, \"2024-11-11\", 11.04, 350.0, 5.857933, 2.401525, 0.093684, 1.852732, 0.880103, -2.699012, 0.074209], [612, \"2024-11-12\", 10.58, 328.49, 5.794506, 2.358965, 0.092862, 1.820878, 0.786448, -2.417448, 0.136872], [613, \"2024-11-13\", 12.03, 330.24, 5.79982, 2.487404, 0.162518, 1.54483, 0.435803, -2.433489, 0.132506], [614, \"2024-11-14\", 10.31, 311.18, 5.740372, 2.333114, 0.148408, 1.481196, 0.288172, -2.53725, 0.106672], [615, \"2024-11-15\", 10.06, 320.72, 5.770568, 2.308567, 0.118703, 1.623585, 0.372817, -2.47204, 0.122426], [616, \"2024-11-18\", 10.07, 338.74, 5.825233, 2.309561, 0.081452, 1.835084, 0.610821, -2.360349, 0.153242], [617, \"2024-11-19\", 10.17, 346.0, 5.846439, 2.319442, 0.077124, 1.868542, 0.609848, -2.354309, 0.15505], [618, \"2024-11-20\", 10.05, 342.03, 5.834898, 2.307573, 0.049996, 2.015848, 0.91455, -2.21377, 0.201286], [619, \"2024-11-21\", 10.02, 339.64, 5.827886, 2.304583, 0.033593, 2.108807, 1.2303, -2.310378, 0.168643], [620, \"2024-11-22\", 10.24, 352.56, 5.865221, 2.326302, 0.026779, 2.169238, 1.328133, -2.292003, 0.17456], [621, \"2024-11-25\", 11.6, 338.59, 5.82479, 2.451005, 0.081251, 1.977735, 0.600167, -2.271867, 0.181202], [622, \"2024-11-26\", 11.55, 338.23, 5.823726, 2.446685, 0.117835, 1.760449, -0.263059, -2.231309, 0.195079], [623, \"2024-11-27\", 12.22, 332.89, 5.807812, 2.503074, 0.158575, 1.582102, -1.006141, -2.222343, 0.198237], [624, \"2024-11-29\", 12.23, 345.16, 5.844008, 2.503892, 0.19459, 1.366706, -1.730274, -2.22415, 0.197598], [625, \"2024-12-02\", 11.87, 357.09, 5.877988, 2.474014, 0.237325, 1.07902, -2.31402, -2.213853, 0.201256], [626, \"2024-12-03\", 11.88, 351.42, 5.861982, 2.474856, 0.334561, 0.513667, -2.901332, -2.19016, 0.209836], [627, \"2024-12-04\", 11.96, 357.93, 5.880337, 2.481568, 0.712068, -1.705634, -3.726254, -2.165714, 0.218924], [628, \"2024-12-05\", 12.34, 369.49, 5.912124, 2.512846, 0.777236, -2.082269, -2.896342, -1.588191, 0.489523], [629, \"2024-12-06\", 13.0, 389.22, 5.964145, 2.564949, 0.949892, -3.100341, -2.742237, -1.842769, 0.359444], [630, \"2024-12-09\", 14.45, 389.79, 5.965608, 2.670694, 1.231156, -4.6739, -2.74479, -1.505624, 0.530727], [631, \"2024-12-10\", 14.06, 400.99, 5.993936, 2.643334, 1.293343, -5.108883, -2.345489, -1.14005, 0.698839], [632, \"2024-12-11\", 13.76, 424.77, 6.051548, 2.621766, 1.169921, -4.458065, -1.775838, -1.383943, 0.589949], [633, \"2024-12-12\", 14.2, 418.1, 6.035721, 2.653242, 1.237243, -4.814413, -1.662887, -1.773468, 0.393711], [634, \"2024-12-13\", 14.37, 436.23, 6.07817, 2.665143, 1.227876, -4.798096, -1.464252, -1.484703, 0.541065], [635, \"2024-12-16\", 15.34, 463.02, 6.13777, 2.730464, 1.161495, -4.398525, -1.1925, -1.564146, 0.501575], [636, \"2024-12-17\", 14.7, 479.86, 6.173494, 2.687847, 1.010474, -3.550308, -0.820838, -1.682556, 0.440122], [637, \"2024-12-18\", 13.06, 440.13, 6.08707, 2.569554, 0.908661, -2.961527, -0.552322, -1.999096, 0.28697], [638, \"2024-12-19\", 13.06, 436.17, 6.078032, 2.569554, 0.812129, -2.366594, -0.282735, -2.100481, 0.244321], [639, \"2024-12-20\", 13.83, 421.06, 6.042775, 2.62684, 0.741676, -1.85494, -0.031357, -2.09893, 0.244945], [640, \"2024-12-23\", 13.75, 430.6, 6.06518, 2.621039, 0.66713, -1.425226, 0.209754, -2.148367, 0.225516], [641, \"2024-12-24\", 14.06, 462.28, 6.136171, 2.643334, 0.630025, -1.222606, 0.379815, -2.658349, 0.081527], [642, \"2024-12-26\", 14.04, 454.13, 6.118384, 2.64191, 0.594788, -0.997231, 0.575674, -2.652226, 0.082676], [643, \"2024-12-27\", 13.65, 431.66, 6.067638, 2.61374, 0.621119, -1.154986, 0.615522, -2.580128, 0.097174], [644, \"2024-12-30\", 13.58, 417.41, 6.034069, 2.608598, 0.637039, -1.235337, 0.703955, -3.555868, 0.006663], [645, \"2024-12-31\", 13.3, 403.84, 6.001019, 2.587764, 0.597899, -1.000237, 0.97875, -3.830207, 0.002613], [646, \"2025-01-02\", 13.25, 379.28, 5.938275, 2.583998, 0.522812, -0.520601, 1.374046, -4.012745, 0.001345], [647, \"2025-01-03\", 16.49, 410.44, 6.01723, 2.802754, 0.370578, 0.572901, 1.825221, -3.659666, 0.004718], [648, \"2025-01-06\", 15.71, 411.05, 6.018715, 2.754297, 0.184337, 1.644824, 2.054069, -3.3977, 0.011038], [649, \"2025-01-07\", 14.95, 394.36, 5.977264, 2.704711, 0.031547, 2.516144, 2.066555, -1.800588, 0.38017], [650, \"2025-01-08\", 14.21, 394.94, 5.978734, 2.653946, 0.053955, 2.331366, 1.733343, -1.685448, 0.438625], [651, \"2025-01-10\", 13.85, 394.74, 5.978227, 2.628285, 0.068966, 2.21599, 1.516634, -1.689995, 0.436275], [652, \"2025-01-13\", 13.49, 403.31, 5.999705, 2.601949, 0.098338, 2.011949, 1.29462, -1.607162, 0.479995], [653, \"2025-01-14\", 13.34, 396.36, 5.982323, 2.590767, 0.139881, 1.753953, 1.091026, -1.712213, 0.424831], [654, \"2025-01-15\", 13.94, 428.22, 6.059637, 2.634762, 0.130555, 1.843649, 1.052214, -1.758016, 0.401496], [655, \"2025-01-16\", 14.44, 413.82, 6.025431, 2.670002, 0.015273, 2.577979, 1.310242, -1.67053, 0.446357], [656, \"2025-01-17\", 14.21, 426.5, 6.055612, 2.653946, -0.108484, 3.31088, 1.540511, -1.451294, 0.557453], [657, \"2025-01-21\", 13.29, 424.07, 6.049899, 2.587012, -0.053544, 2.910946, 1.233755, -1.379921, 0.591863], [658, \"2025-01-22\", 12.69, 415.11, 6.028544, 2.540814, 0.020722, 2.415894, 0.887475, -1.606528, 0.480314], [659, \"2025-01-23\", 12.49, 412.38, 6.021945, 2.524928, 0.038985, 2.29016, 0.73809, -1.701313, 0.430436], [660, \"2025-01-24\", 12.77, 406.58, 6.007781, 2.547099, 0.084233, 2.041046, 0.516056, -1.628729, 0.468156], [661, \"2025-01-27\", 12.85, 397.15, 5.984314, 2.553344, 0.139891, 1.716191, 0.236587, -1.646946, 0.458634], [662, \"2025-01-28\", 12.71, 398.09, 5.986678, 2.542389, 0.209518, 1.28807, -0.135616, -1.69983, 0.4312], [663, \"2025-01-29\", 12.42, 389.1, 5.963836, 2.519308, 0.455669, -0.198226, -1.31651, -1.747156, 0.406995], [664, \"2025-01-30\", 12.51, 400.28, 5.992164, 2.526528, 0.534962, -0.67905, -1.783028, -1.823407, 0.368904], [665, \"2025-01-31\", 12.56, 404.6, 6.002899, 2.530517, 0.534564, -0.678414, -1.843873, -1.810275, 0.375372], [666, \"2025-02-03\", 12.39, 383.68, 5.949809, 2.51689, 0.768519, -2.055654, -2.546723, -1.832225, 0.364584], [667, \"2025-02-04\", 12.87, 392.21, 5.971797, 2.554899, 0.649509, -1.323836, -1.792578, -1.684059, 0.439344], [668, \"2025-02-05\", 12.77, 378.17, 5.935344, 2.547099, 0.509089, -0.474521, -1.122626, -1.816806, 0.37215], [669, \"2025-02-06\", 12.8, 374.32, 5.925111, 2.549445, 0.584755, -0.915295, -1.257213, -1.851846, 0.355042], [670, \"2025-02-07\", 12.48, 361.62, 5.890594, 2.524127, 0.582485, -0.907056, -1.128364, -1.71023, 0.42585], [671, \"2025-02-10\", 12.99, 350.73, 5.860017, 2.56418, 0.419723, 0.104599, -0.456947, -1.762494, 0.399235], [672, \"2025-02-11\", 12.44, 328.5, 5.794537, 2.520917, 0.334648, 0.581785, -0.123012, -1.768571, 0.396173], [673, \"2025-02-12\", 12.48, 336.51, 5.818628, 2.524127, 0.308618, 0.728394, -0.000303, -1.790117, 0.385379], [674, \"2025-02-13\", 13.3, 355.94, 5.874762, 2.587764, 0.216406, 1.31643, 0.388273, -1.83174, 0.364821], [675, \"2025-02-14\", 14.03, 355.84, 5.874481, 2.641198, 0.073761, 2.207892, 0.976807, -1.810122, 0.375448], [676, \"2025-02-18\", 14.44, 354.11, 5.869608, 2.670002, -0.116576, 3.35426, 1.706007, -1.710844, 0.425534], [677, \"2025-02-19\", 13.93, 360.56, 5.887658, 2.634045, -0.211998, 3.882215, 1.908256, -1.579121, 0.494073], [678, \"2025-02-20\", 13.61, 354.4, 5.870426, 2.610805, -0.244956, 4.0488, 1.823344, -1.58473, 0.491259], [679, \"2025-02-21\", 12.97, 337.8, 5.822454, 2.562639, -0.207449, 3.770499, 1.543445, -1.600126, 0.48353], [680, \"2025-02-24\", 11.96, 330.53, 5.800697, 2.481568, -0.089197, 2.998973, 1.079504, -1.66292, 0.450311], [681, \"2025-02-25\", 11.45, 302.8, 5.713073, 2.43799, 0.126088, 1.717639, 0.408219, -1.836399, 0.362546], [682, \"2025-02-26\", 11.4, 290.8, 5.672636, 2.433613, 0.270384, 0.899823, -0.010036, -2.05962, 0.261058], [683, \"2025-02-27\", 11.6, 281.95, 5.64173, 2.451005, 0.3381, 0.543538, -0.218094, -2.063828, 0.259306], [684, \"2025-02-28\", 11.84, 292.98, 5.680104, 2.471484, 0.39548, 0.225117, -0.417087, -2.033385, 0.27213], [685, \"2025-03-03\", 11.51, 284.65, 5.65126, 2.443216, 0.479761, -0.268036, -0.699636, -2.005115, 0.284335], [686, \"2025-03-04\", 11.26, 272.04, 5.605949, 2.421257, 0.538174, -0.595718, -0.970792, -2.066646, 0.258136], [687, \"2025-03-05\", 11.42, 279.1, 5.63157, 2.435366, 0.591097, -0.893439, -1.173697, -2.050241, 0.264987], [688, \"2025-03-06\", 11.03, 263.45, 5.573864, 2.400619, 0.63065, -1.114539, -1.257059, -2.27643, 0.179683], [689, \"2025-03-07\", 11.17, 262.67, 5.570898, 2.413232, 0.657483, -1.24954, -1.308545, -2.748396, 0.066032], [690, \"2025-03-10\", 10.96, 222.15, 5.403353, 2.394252, 0.585452, -0.769149, -1.04578, -2.658481, 0.081502], [691, \"2025-03-11\", 10.79, 230.58, 5.440598, 2.37862, 0.562734, -0.682987, -0.957554, -2.340249, 0.159315], [692, \"2025-03-12\", 11.06, 248.09, 5.513792, 2.403335, 0.560277, -0.685915, -0.90429, -2.948322, 0.04001], [693, \"2025-03-13\", 10.61, 240.68, 5.483468, 2.361797, 0.57454, -0.788677, -0.898616, -2.971765, 0.037617], [694, \"2025-03-14\", 10.75, 249.98, 5.521381, 2.374906, 0.582738, -0.842612, -0.853269, -2.852746, 0.051125], [695, \"2025-03-17\", 11.02, 238.01, 5.472313, 2.399712, 0.541855, -0.56549, -0.638305, -2.56617, 0.100193], [696, \"2025-03-18\", 11.2, 225.31, 5.417477, 2.415914, 0.450211, -0.023095, -0.280124, -2.660398, 0.081145], [697, \"2025-03-19\", 11.36, 235.86, 5.463238, 2.430098, 0.375071, 0.380995, 0.047034, -2.661382, 0.080963], [698, \"2025-03-20\", 10.88, 236.26, 5.464933, 2.386926, 0.301335, 0.740149, 0.443367, -2.658644, 0.081472], [699, \"2025-03-21\", 11.6, 248.71, 5.516288, 2.451005, 0.219285, 1.241366, 1.127412, -2.662713, 0.080716], [700, \"2025-03-24\", 12.19, 278.39, 5.629023, 2.500616, 0.234198, 1.182312, 1.426001, -2.725817, 0.069676], [701, \"2025-03-25\", 12.36, 288.14, 5.663446, 2.514465, 0.302263, 0.802617, 1.148858, -2.740479, 0.067292], [702, \"2025-03-26\", 12.1, 272.06, 5.606023, 2.493205, 0.346027, 0.553368, 0.882584, -2.910819, 0.044104], [703, \"2025-03-27\", 13.02, 273.13, 5.609948, 2.566487, 0.404548, 0.296996, 0.579093, -2.957708, 0.039037], [704, \"2025-03-28\", 12.41, 263.55, 5.574243, 2.518503, 0.441837, 0.055594, 0.280457, -2.89844, 0.04553], [705, \"2025-03-31\", 12.45, 259.16, 5.557446, 2.521721, 0.498607, -0.249262, -0.114991, -2.804298, 0.057662], [706, \"2025-04-01\", 13.28, 268.46, 5.592702, 2.586259, 0.593491, -0.73296, -0.727309, -2.598622, 0.093282], [707, \"2025-04-02\", 12.49, 282.76, 5.644598, 2.524928, 0.663671, -1.221229, -1.301616, -2.463718, 0.124553], [708, \"2025-04-03\", 11.53, 267.28, 5.588297, 2.444952, 0.66968, -1.297417, -1.364838, -2.41832, 0.136632], [709, \"2025-04-04\", 11.21, 239.43, 5.478261, 2.416806, 0.689992, -1.363151, -1.424663, -2.355535, 0.154681], [710, \"2025-04-07\", 11.21, 233.29, 5.452282, 2.416806, 0.711856, -1.464435, -1.436818, -2.3484, 0.156832], [711, \"2025-04-08\", 10.8, 221.86, 5.402047, 2.379546, 0.683049, -1.310318, -1.181293, -2.281905, 0.17787], [712, \"2025-04-09\", 11.77, 272.2, 5.606537, 2.465554, 0.652059, -1.190237, -0.995133, -2.315998, 0.16686], [713, \"2025-04-10\", 11.46, 252.52, 5.53149, 2.438863, 0.623574, -1.01043, -0.777501, -2.395515, 0.143006]];\\n\\n        // Define the dt_args\\n        let dt_args = {\"layout\": {\"topStart\": \"pageLength\", \"topEnd\": \"search\", \"bottomStart\": \"info\", \"bottomEnd\": \"paging\"}, \"order\": [], \"warn_on_selected_rows_not_rendered\": true};\\n        dt_args[\"data\"] = data;\\n\\n        \\n        new DataTable(table, dt_args);\\n    });\\n</script>\\n'"
      ]
     },
     "execution_count": 21,
     "metadata": {},
     "output_type": "execute_result"
    }
   ],
   "source": [
    "from IPython.display import HTML, display\n",
    "\n",
    "import itables\n",
    "html = itables.to_html_datatable(trade_df, display_logo_when_loading=False)\n",
    "with open('../docs/dataframe/blotter.html', 'w') as f:\n",
    "    f.write(html)\n",
    "html"
   ]
  },
  {
   "cell_type": "code",
   "execution_count": 19,
   "id": "3a963998",
   "metadata": {},
   "outputs": [
    {
     "data": {
      "text/html": [
       "<table id=\"itables_4bb585d1_b757_4d65_a96c_6eaf7e6242ee\" class=\"display nowrap\" data-quarto-disable-processing=\"true\" style=\"table-layout:auto;width:auto;margin:auto;caption-side:bottom\">\n",
       "<thead>\n",
       "    <tr style=\"text-align: right;\">\n",
       "      <th></th>\n",
       "      <th>timestamp</th>\n",
       "      <th>close_RIVN</th>\n",
       "      <th>close_TSLA</th>\n",
       "      <th>log_close_TSLA</th>\n",
       "      <th>log_close_RIVN</th>\n",
       "      <th>hedge_ratio</th>\n",
       "      <th>spread</th>\n",
       "      <th>z_score</th>\n",
       "      <th>adf_stat</th>\n",
       "      <th>p_value</th>\n",
       "    </tr>\n",
       "  </thead><tbody><tr>\n",
       "<td style=\"vertical-align:middle; text-align:left\">\n",
       "\n",
       "Loading ITables v2.3.0 from the internet...\n",
       "(need <a href=https://mwouts.github.io/itables/troubleshooting.html>help</a>?)</td>\n",
       "</tr></tbody>\n",
       "</table>\n",
       "<link href=\"https://www.unpkg.com/dt_for_itables@2.2.0/dt_bundle.css\" rel=\"stylesheet\">\n",
       "<script type=\"module\">\n",
       "    import {DataTable, jQuery as $} from 'https://www.unpkg.com/dt_for_itables@2.2.0/dt_bundle.js';\n",
       "\n",
       "    document.querySelectorAll(\"#itables_4bb585d1_b757_4d65_a96c_6eaf7e6242ee:not(.dataTable)\").forEach(table => {\n",
       "        if (!(table instanceof HTMLTableElement))\n",
       "            return;\n",
       "\n",
       "        // Define the table data\n",
       "        const data = [[60, \"2022-09-01\", 31.95, 277.16, 5.624595, 3.464172, 1.081659, -2.619721, -1.836406, -2.582936, 0.096575], [61, \"2022-09-02\", 32.07, 270.21, 5.599199, 3.467921, 1.095905, -2.668271, -1.634971, -2.817514, 0.055815], [62, \"2022-09-06\", 33.22, 274.42, 5.61466, 3.503152, 1.055783, -2.424713, -1.29211, -3.000696, 0.034829], [63, \"2022-09-07\", 33.25, 283.7, 5.647917, 3.504055, 1.136397, -2.914224, -1.467068, -2.822955, 0.055069], [64, \"2022-09-08\", 36.88, 289.26, 5.667326, 3.607669, 1.094585, -2.595703, -1.117577, -2.79323, 0.059247], [65, \"2022-09-09\", 37.55, 299.68, 5.702715, 3.625673, 1.214359, -3.299473, -1.426614, -2.774224, 0.062051], [66, \"2022-09-12\", 38.74, 304.42, 5.718408, 3.656873, 1.224588, -3.345824, -1.302861, -2.617943, 0.089345], [67, \"2022-09-13\", 38.76, 292.13, 5.677199, 3.657389, 1.228464, -3.316846, -1.159201, -2.653474, 0.082441], [68, \"2022-09-14\", 40.1, 302.61, 5.712445, 3.691376, 1.309754, -3.790523, -1.301619, -2.64798, 0.083481], [69, \"2022-09-15\", 39.69, 303.75, 5.716205, 3.681099, 1.46123, -4.67159, -1.603399, -2.518768, 0.110974], [70, \"2022-09-16\", 39.26, 303.35, 5.714887, 3.670206, 1.606027, -5.508057, -1.776292, -2.34025, 0.159315], [71, \"2022-09-19\", 37.94, 309.07, 5.733568, 3.636006, 1.610883, -5.600098, -1.594248, -2.208307, 0.203244], [72, \"2022-09-20\", 35.75, 308.73, 5.732467, 3.57655, 1.481604, -4.916699, -1.152601, -2.297599, 0.172743], [73, \"2022-09-21\", 35.1, 300.8, 5.706446, 3.558201, 1.493769, -4.965909, -1.061089, -2.521524, 0.110325], [74, \"2022-09-22\", 33.33, 288.59, 5.665007, 3.506458, 1.56313, -5.348683, -1.148286, -2.293607, 0.174038], [75, \"2022-09-23\", 33.56, 275.33, 5.61797, 3.513335, 1.553768, -5.215686, -1.078889, -2.136551, 0.230073], [76, \"2022-09-26\", 33.85, 276.01, 5.620437, 3.521939, 1.495401, -4.882867, -0.861087, -2.216168, 0.20043], [77, \"2022-09-27\", 33.79, 282.94, 5.645235, 3.520165, 1.474344, -4.802853, -0.756225, -2.269745, 0.181912], [78, \"2022-09-28\", 35.08, 287.81, 5.662301, 3.557631, 1.425994, -4.516777, -0.461828, -2.214295, 0.201098], [79, \"2022-09-29\", 32.31, 268.21, 5.59177, 3.475377, 1.383335, -4.259913, -0.161593, -2.240357, 0.191926], [80, \"2022-09-30\", 32.91, 265.25, 5.580673, 3.493777, 1.260365, -3.539908, 0.562877, -2.237171, 0.193032], [81, \"2022-10-03\", 31.89, 242.4, 5.490589, 3.462292, 0.980943, -1.923662, 1.948478, -2.326529, 0.163554], [82, \"2022-10-04\", 36.3, 249.44, 5.519218, 3.591818, 0.728046, -0.426425, 2.666015, -2.422356, 0.135526], [83, \"2022-10-05\", 36.13, 240.81, 5.484008, 3.587124, 0.538343, 0.634846, 2.649043, -2.462698, 0.124816], [84, \"2022-10-06\", 36.76, 238.13, 5.472817, 3.60441, 0.40064, 1.411781, 2.470632, -2.451898, 0.127621], [85, \"2022-10-07\", 33.95, 223.07, 5.407486, 3.524889, 0.349401, 1.635511, 2.129493, -2.41531, 0.137462], [86, \"2022-10-10\", 31.48, 222.96, 5.406992, 3.449352, 0.36927, 1.452711, 1.771916, -2.840601, 0.052704], [87, \"2022-10-11\", 32.33, 216.5, 5.377591, 3.475996, 0.350315, 1.592144, 1.603177, -3.18816, 0.02068], [88, \"2022-10-12\", 32.35, 217.24, 5.381003, 3.476614, 0.309131, 1.813181, 1.486376, -2.97903, 0.0369], [89, \"2022-10-13\", 32.5, 221.72, 5.401415, 3.48124, 0.265151, 2.049052, 1.391384, -1.872304, 0.3452], [90, \"2022-10-14\", 28.71, 204.99, 5.322961, 3.357245, 0.290718, 1.809764, 1.185194, -1.871049, 0.345801], [91, \"2022-10-17\", 30.7, 219.35, 5.390669, 3.424263, 0.270447, 1.96637, 1.119193, -2.143495, 0.227388], [92, \"2022-10-18\", 31.64, 220.19, 5.394491, 3.454422, 0.267991, 2.008746, 1.025749, -2.050023, 0.265079], [93, \"2022-10-19\", 31.5, 222.04, 5.402858, 3.449988, 0.274309, 1.967937, 0.918368, -1.940805, 0.313115], [94, \"2022-10-20\", 30.73, 207.28, 5.334071, 3.425239, 0.322908, 1.702823, 0.751605, -1.925498, 0.320163], [95, \"2022-10-21\", 31.92, 214.44, 5.36803, 3.463233, 0.338591, 1.645665, 0.656747, -1.966374, 0.301509], [96, \"2022-10-24\", 31.34, 211.25, 5.353042, 3.444895, 0.360692, 1.514094, 0.533789, -1.900534, 0.33181], [97, \"2022-10-25\", 34.49, 222.41, 5.404523, 3.540669, 0.393626, 1.413311, 0.415797, -1.912522, 0.326194], [98, \"2022-10-26\", 34.44, 224.64, 5.414499, 3.539219, 0.427603, 1.223963, 0.235923, -1.848815, 0.356509], [99, \"2022-10-27\", 34.5, 225.09, 5.4165, 3.540959, 0.614279, 0.213718, -0.549166, -1.860911, 0.350667], [100, \"2022-10-28\", 34.48, 228.52, 5.431624, 3.540379, 0.970209, -1.729432, -2.398444, -2.048493, 0.265723], [101, \"2022-10-31\", 34.97, 227.54, 5.427326, 3.554491, 1.209166, -3.00805, -3.025448, -2.196913, 0.207368], [102, \"2022-11-01\", 33.48, 227.82, 5.428556, 3.510948, 1.362266, -3.884186, -2.779594, -2.208559, 0.203154], [103, \"2022-11-02\", 31.52, 214.98, 5.370545, 3.450622, 1.431359, -4.236557, -2.363754, -2.201141, 0.205832], [104, \"2022-11-03\", 32.24, 215.31, 5.372079, 3.473208, 1.371143, -3.892678, -1.865336, -2.254608, 0.187026], [105, \"2022-11-04\", 31.99, 207.47, 5.334987, 3.465423, 1.185991, -2.861823, -1.266131, -2.344336, 0.158067], [106, \"2022-11-07\", 31.32, 197.08, 5.28361, 3.444257, 0.932961, -1.485143, -0.621705, -2.506101, 0.113997], [107, \"2022-11-08\", 31.85, 191.3, 5.253843, 3.461037, 0.653401, 0.028173, 0.049145, -2.596018, 0.093823], [108, \"2022-11-09\", 28.07, 177.59, 5.179478, 3.334701, 0.683539, -0.205673, -0.00768, -2.59494, 0.094048], [109, \"2022-11-10\", 32.96, 190.72, 5.250806, 3.495295, 0.56708, 0.517668, 0.347952, -2.591988, 0.094664], [110, \"2022-11-11\", 34.9, 195.97, 5.277962, 3.552487, 0.43415, 1.261059, 0.698103, -2.414185, 0.137773], [111, \"2022-11-14\", 34.38, 190.95, 5.252012, 3.537475, 0.367907, 1.605224, 0.867907, -2.360942, 0.153065], [112, \"2022-11-15\", 35.15, 194.42, 5.270021, 3.559625, 0.321791, 1.86378, 0.991858, -2.406139, 0.140011], [113, \"2022-11-16\", 33.32, 186.92, 5.230681, 3.506158, 0.311086, 1.878968, 1.002969, -2.592145, 0.094632], [114, \"2022-11-17\", 32.07, 183.17, 5.210415, 3.467921, 0.302413, 1.892226, 1.000325, -2.558293, 0.101927], [115, \"2022-11-18\", 30.34, 180.19, 5.194012, 3.412467, 0.353836, 1.574638, 0.8591, -2.186198, 0.211293], [116, \"2022-11-21\", 28.42, 167.87, 5.12319, 3.347093, 0.447928, 1.052271, 0.637385, -2.198444, 0.206811], [117, \"2022-11-22\", 28.94, 169.91, 5.135269, 3.365225, 0.478866, 0.906118, 0.587035, -2.204293, 0.204691], [118, \"2022-11-23\", 29.71, 183.2, 5.210578, 3.391484, 0.49527, 0.810842, 0.55616, -2.196516, 0.207513], [119, \"2022-11-25\", 29.53, 182.86, 5.208721, 3.385407, 0.510104, 0.728415, 0.503373, -2.260993, 0.184857], [120, \"2022-11-28\", 28.64, 182.92, 5.209049, 3.354804, 0.541856, 0.53225, 0.362996, -2.22963, 0.195668], [121, \"2022-11-29\", 28.85, 180.83, 5.197557, 3.36211, 0.550533, 0.500682, 0.279016, -2.218633, 0.199552], [122, \"2022-11-30\", 32.04, 194.7, 5.27146, 3.466985, 0.623365, 0.180942, 0.02628, -2.354618, 0.154957], [123, \"2022-12-01\", 31.48, 194.7, 5.27146, 3.449352, 0.756296, -0.53743, -0.555252, -2.320978, 0.165291], [124, \"2022-12-02\", 31.36, 194.86, 5.272281, 3.445533, 0.931201, -1.46402, -1.509421, -2.681352, 0.077321], [125, \"2022-12-05\", 29.53, 182.45, 5.206476, 3.385407, 1.137106, -2.534908, -2.456937, -2.615501, 0.089836], [126, \"2022-12-06\", 27.89, 179.82, 5.191956, 3.328268, 1.286726, -3.352358, -2.602494, -2.589299, 0.095229], [127, \"2022-12-07\", 27.94, 174.04, 5.159285, 3.330059, 1.32781, -3.520493, -2.217629, -2.7948, 0.05902], [128, \"2022-12-08\", 28.58, 173.44, 5.155832, 3.352707, 1.281524, -3.254617, -1.787379, -3.144649, 0.023421], [129, \"2022-12-09\", 27.29, 179.05, 5.187665, 3.30652, 1.306782, -3.472625, -1.658102, -3.394328, 0.011154], [130, \"2022-12-12\", 25.61, 167.82, 5.122892, 3.242983, 1.32531, -3.546436, -1.495231, -2.992899, 0.035563], [131, \"2022-12-13\", 24.96, 160.95, 5.081094, 3.217275, 1.290361, -3.33917, -1.254103, -2.66939, 0.079487], [132, \"2022-12-14\", 24.54, 156.8, 5.054971, 3.200304, 1.193708, -2.833855, -0.922689, -3.235067, 0.018043], [133, \"2022-12-15\", 23.97, 157.67, 5.060504, 3.176803, 1.1946, -2.868476, -0.85145, -3.698377, 0.004136], [134, \"2022-12-16\", 22.48, 150.23, 5.012167, 3.112626, 1.222477, -3.014635, -0.839448, -3.316618, 0.014152], [135, \"2022-12-19\", 22.03, 149.87, 5.009768, 3.092405, 1.265085, -3.245379, -0.873154, -3.204424, 0.01973], [136, \"2022-12-20\", 21.4, 137.8, 4.925803, 3.063391, 1.224327, -2.967405, -0.647237, -3.375062, 0.011839], [137, \"2022-12-21\", 21.03, 137.57, 4.924133, 3.04595, 1.208007, -2.902439, -0.535646, -3.467723, 0.008856], [138, \"2022-12-22\", 19.73, 125.35, 4.83111, 2.98214, 1.140792, -2.529149, -0.231738, -3.446467, 0.009473], [139, \"2022-12-23\", 19.14, 123.15, 4.813403, 2.95178, 1.110601, -2.393989, -0.047638, -3.322194, 0.013915], [140, \"2022-12-27\", 17.74, 109.1, 4.692265, 2.875822, 1.052994, -2.065103, 0.324765, -2.863922, 0.049707], [141, \"2022-12-28\", 17.74, 112.71, 4.724818, 2.875822, 1.038744, -2.032055, 0.553777, -2.825735, 0.054691], [142, \"2022-12-29\", 18.73, 121.82, 4.802545, 2.930127, 1.026008, -1.997322, 0.899665, -2.74539, 0.066508], [143, \"2022-12-30\", 18.43, 123.18, 4.813647, 2.91398, 1.025061, -2.020303, 1.224903, -2.751715, 0.065509], [144, \"2023-01-03\", 17.34, 108.1, 4.683057, 2.853016, 0.992743, -1.796054, 1.714448, -2.678562, 0.077822], [145, \"2023-01-04\", 17.71, 113.64, 4.733036, 2.874129, 0.974569, -1.738539, 1.621479, -2.638998, 0.085202], [146, \"2023-01-05\", 16.56, 110.34, 4.703567, 2.80699, 0.987513, -1.837844, 1.309448, -2.76592, 0.063309], [147, \"2023-01-06\", 16.4, 113.06, 4.727919, 2.797281, 0.991658, -1.891199, 1.115628, -2.830569, 0.054038], [148, \"2023-01-09\", 16.62, 119.77, 4.785573, 2.810607, 0.975472, -1.857588, 1.058289, -2.925001, 0.042517], [149, \"2023-01-10\", 16.45, 118.85, 4.777862, 2.800325, 0.993708, -1.947475, 0.832479, -2.803976, 0.057708], [150, \"2023-01-11\", 17.08, 123.22, 4.813971, 2.837908, 0.999614, -1.974206, 0.718213, -3.05022, 0.030463], [151, \"2023-01-12\", 17.58, 123.56, 4.816727, 2.866762, 0.98282, -1.867213, 0.844481, -3.092447, 0.027117], [152, \"2023-01-13\", 16.45, 122.4, 4.807294, 2.800325, 0.949295, -1.763217, 0.95336, -3.153668, 0.022828], [153, \"2023-01-17\", 16.93, 131.49, 4.878931, 2.829087, 0.855234, -1.343542, 1.599546, -3.100588, 0.02651], [154, \"2023-01-18\", 16.5, 128.78, 4.858106, 2.80336, 0.745972, -0.820653, 2.231833, -3.299177, 0.014915], [155, \"2023-01-19\", 15.79, 127.17, 4.845525, 2.759377, 0.55482, 0.070983, 2.961558, -3.329634, 0.013605], [156, \"2023-01-20\", 16.23, 133.42, 4.893502, 2.786861, 0.225965, 1.681099, 3.356314, -3.316644, 0.014151], [157, \"2023-01-23\", 18.1, 143.75, 4.968076, 2.895912, 0.02598, 2.766843, 3.043006, -2.920013, 0.04307], [158, \"2023-01-24\", 18.05, 143.89, 4.969049, 2.893146, 0.046331, 2.662927, 2.357259, -2.636002, 0.085782], [159, \"2023-01-25\", 18.69, 144.43, 4.972795, 2.927989, 0.120556, 2.328491, 1.837084, -2.760763, 0.064101], [160, \"2023-01-26\", 18.31, 160.27, 5.07686, 2.907447, 0.185474, 1.965824, 1.442233, -2.885383, 0.047074], [161, \"2023-01-27\", 19.83, 177.9, 5.181222, 2.987196, 0.285899, 1.505889, 1.074911, -2.925083, 0.042508], [162, \"2023-01-30\", 18.04, 166.66, 5.115956, 2.892592, 0.278838, 1.466066, 0.953334, -2.958254, 0.038981], [163, \"2023-01-31\", 19.4, 173.22, 5.154562, 2.965273, 0.313163, 1.351053, 0.806029, -2.526934, 0.109058], [164, \"2023-02-01\", 19.71, 181.41, 5.20076, 2.981126, 0.3607, 1.105214, 0.603484, -2.205592, 0.204222], [165, \"2023-02-02\", 20.88, 188.27, 5.237877, 3.038792, 0.424853, 0.813464, 0.383887, -2.004335, 0.284676], [166, \"2023-02-03\", 19.9, 189.98, 5.246919, 2.99072, 0.43789, 0.693145, 0.255098, -1.907568, 0.328509], [167, \"2023-02-06\", 20.22, 194.76, 5.271768, 3.006672, 0.445793, 0.656553, 0.168278, -2.140373, 0.228593], [168, \"2023-02-07\", 19.91, 196.81, 5.282239, 2.991222, 0.439779, 0.668207, 0.105115, -2.44503, 0.129428], [169, \"2023-02-08\", 20.08, 201.29, 5.304747, 2.999724, 0.433052, 0.702492, 0.046542, -2.484853, 0.119203], [170, \"2023-02-09\", 19.42, 207.32, 5.334263, 2.966303, 0.417279, 0.740425, -0.021316, -2.406655, 0.139867], [171, \"2023-02-10\", 18.85, 196.89, 5.282645, 2.936513, 0.42335, 0.700103, -0.164571, -2.425642, 0.13463], [172, \"2023-02-13\", 18.92, 194.64, 5.271152, 2.94022, 0.410581, 0.775983, -0.242452, -2.369773, 0.15045], [173, \"2023-02-14\", 19.49, 209.25, 5.34353, 2.969902, 0.393089, 0.869421, -0.308075, -2.35762, 0.154057], [174, \"2023-02-15\", 21.15, 214.24, 5.367097, 3.05164, 0.39458, 0.933891, -0.394453, -2.161445, 0.220535], [175, \"2023-02-16\", 20.68, 202.04, 5.308466, 3.029167, 0.351868, 1.161286, -0.170475, -2.007191, 0.283429], [176, \"2023-02-17\", 20.22, 208.31, 5.339027, 3.006672, 0.283008, 1.495684, 0.336248, -2.068719, 0.257277], [177, \"2023-02-21\", 19.08, 197.37, 5.28508, 2.948641, 0.26966, 1.523468, 0.545245, -1.983674, 0.293777], [178, \"2023-02-22\", 19.02, 200.86, 5.302608, 2.945491, 0.242872, 1.657634, 1.03447, -2.082917, 0.251439], [179, \"2023-02-23\", 18.18, 202.07, 5.308614, 2.900322, 0.254772, 1.547836, 1.047204, -1.943452, 0.311904], [180, \"2023-02-24\", 17.32, 196.88, 5.282594, 2.851862, 0.192408, 1.835447, 1.820568, -2.092088, 0.247708], [181, \"2023-02-27\", 18.45, 207.63, 5.335758, 2.915064, 0.186139, 1.921869, 1.840369, -1.739476, 0.410896], [182, \"2023-02-28\", 19.3, 205.71, 5.326467, 2.960105, 0.022134, 2.842207, 2.868173, -1.701205, 0.430492], [183, \"2023-03-01\", 15.76, 202.77, 5.312072, 2.757475, -0.088712, 3.22872, 2.647793, -1.008978, 0.749976], [184, \"2023-03-02\", 15.72, 190.9, 5.25175, 2.754934, 0.399402, 0.657376, -0.825504, -1.151568, 0.694075], [185, \"2023-03-03\", 16.92, 197.79, 5.287206, 2.828496, 0.871194, -1.777685, -2.899764, -2.099605, 0.244674], [186, \"2023-03-06\", 17.13, 193.81, 5.266878, 2.840831, 1.332614, -4.177886, -3.256332, -2.286602, 0.176325], [187, \"2023-03-07\", 14.64, 187.71, 5.234898, 2.683758, 1.986039, -7.712952, -3.304876, -2.073832, 0.255166], [188, \"2023-03-08\", 15.13, 182.0, 5.204007, 2.71668, 2.056692, -7.98636, -2.57688, -1.605246, 0.480958], [189, \"2023-03-09\", 14.53, 172.92, 5.152829, 2.676215, 1.828719, -6.746859, -1.855295, -2.491582, 0.117536], [190, \"2023-03-10\", 14.16, 173.44, 5.155832, 2.650421, 1.805411, -6.657975, -1.600094, -3.21537, 0.019112], [191, \"2023-03-13\", 13.73, 174.48, 5.16181, 2.619583, 1.847872, -6.918783, -1.475948, -2.291946, 0.174579], [192, \"2023-03-14\", 13.21, 183.26, 5.210906, 2.580974, 1.963408, -7.650158, -1.467538, -2.103569, 0.243082], [193, \"2023-03-15\", 13.03, 180.45, 5.195454, 2.567254, 2.06824, -8.178191, -1.413491, -1.7453, 0.407936], [194, \"2023-03-16\", 13.46, 184.13, 5.215642, 2.599722, 2.094997, -8.327032, -1.293872, -1.673453, 0.44484], [195, \"2023-03-17\", 13.01, 180.13, 5.193679, 2.565718, 2.066786, -8.168505, -1.134494, -1.636068, 0.464316], [196, \"2023-03-20\", 13.02, 183.25, 5.210851, 2.566487, 2.046825, -8.099214, -1.012444, -1.716052, 0.422861], [197, \"2023-03-21\", 13.61, 197.58, 5.286144, 2.610805, 1.834402, -7.086108, -0.715931, -1.589925, 0.488653], [198, \"2023-03-22\", 13.29, 191.15, 5.253058, 2.587012, 1.700677, -6.346742, -0.484532, -1.964003, 0.302576], [199, \"2023-03-23\", 13.71, 192.22, 5.258641, 2.618125, 1.571144, -5.643956, -0.257544, -1.919, 0.323177], [200, \"2023-03-24\", 13.62, 190.41, 5.24918, 2.611539, 1.482404, -5.169864, -0.067916, -1.969308, 0.30019], [201, \"2023-03-27\", 13.31, 191.81, 5.256505, 2.588516, 1.238186, -3.920014, 0.348636, -1.944509, 0.311421], [202, \"2023-03-28\", 12.96, 189.19, 5.242752, 2.561868, 0.748138, -1.360436, 1.239052, -2.119573, 0.236717], [203, \"2023-03-29\", 14.24, 193.88, 5.267239, 2.656055, 0.600669, -0.50781, 1.802827, -2.296743, 0.173021], [204, \"2023-03-30\", 14.4, 195.28, 5.274434, 2.667228, 0.529108, -0.123517, 2.015252, -2.197795, 0.207047], [205, \"2023-03-31\", 15.48, 207.46, 5.334939, 2.739549, 0.42582, 0.467825, 2.037672, -2.205335, 0.204315], [206, \"2023-04-03\", 15.23, 194.77, 5.271819, 2.723267, 0.333561, 0.964793, 1.90527, -2.178372, 0.214189], [207, \"2023-04-04\", 15.38, 192.58, 5.260512, 2.733068, 0.391633, 0.672877, 1.58997, -2.165445, 0.219025], [208, \"2023-04-05\", 14.63, 185.52, 5.223163, 2.683074, 0.44564, 0.355426, 1.3388, -2.221931, 0.198382], [209, \"2023-04-06\", 14.47, 185.06, 5.22068, 2.672078, 0.618258, -0.555649, 0.981397, -2.230376, 0.195406], [210, \"2023-04-10\", 14.81, 184.51, 5.217704, 2.695303, 0.763344, -1.287602, 0.705277, -2.274078, 0.180465], [211, \"2023-04-11\", 14.74, 186.79, 5.229985, 2.690565, 0.892876, -1.979163, 0.452933, -2.278778, 0.178904], [212, \"2023-04-12\", 14.19, 180.54, 5.195952, 2.652537, 0.742608, -1.20602, 0.595069, -2.275047, 0.180142], [213, \"2023-04-13\", 14.37, 185.9, 5.225209, 2.665143, 0.62645, -0.608187, 0.688494, -2.239453, 0.192239], [214, \"2023-04-14\", 13.38, 185.0, 5.220356, 2.593761, 0.630628, -0.698343, 0.586476, -2.257959, 0.185886], [215, \"2023-04-17\", 13.73, 187.04, 5.231322, 2.619583, 0.516493, -0.082356, 0.714797, -2.35901, 0.153641], [216, \"2023-04-18\", 13.43, 184.31, 5.216619, 2.597491, 0.452773, 0.235548, 0.770467, -2.337955, 0.160019], [217, \"2023-04-19\", 12.82, 180.59, 5.196229, 2.551006, 0.753233, -1.362967, 0.02077, -2.228359, 0.196114], [218, \"2023-04-20\", 12.35, 162.99, 5.093689, 2.513656, 0.853215, -1.832356, -0.356182, -2.225417, 0.19715], [219, \"2023-04-21\", 12.25, 165.08, 5.10643, 2.505526, 0.938269, -2.285678, -0.834847, -2.195234, 0.20798], [220, \"2023-04-24\", 12.36, 162.55, 5.090986, 2.514465, 0.947251, -2.307977, -1.182217, -2.174232, 0.21573], [221, \"2023-04-25\", 12.0, 160.67, 5.079353, 2.484907, 1.009756, -2.643999, -1.713386, -2.246679, 0.189742], [222, \"2023-04-26\", 12.04, 153.75, 5.035328, 2.488234, 0.991183, -2.502698, -1.447565, -2.237515, 0.192913], [223, \"2023-04-27\", 12.67, 160.19, 5.076361, 2.539237, 0.976106, -2.41583, -1.234415, -2.240525, 0.191867], [224, \"2023-04-28\", 12.82, 164.31, 5.101755, 2.551006, 0.986588, -2.482322, -1.161706, -2.236051, 0.193422], [225, \"2023-05-01\", 12.65, 161.83, 5.086546, 2.537657, 1.006014, -2.579481, -1.128254, -2.25674, 0.1863], [226, \"2023-05-02\", 12.68, 160.31, 5.077109, 2.540026, 0.958861, -2.328216, -0.847986, -2.276221, 0.179752], [227, \"2023-05-03\", 12.81, 160.61, 5.078979, 2.550226, 0.881142, -1.925076, -0.403711, -2.304435, 0.170542], [228, \"2023-05-04\", 12.95, 161.2, 5.082646, 2.561096, 0.825583, -1.63505, -0.012256, -2.329093, 0.162757], [229, \"2023-05-05\", 13.41, 170.06, 5.136151, 2.596001, 0.795134, -1.487928, 0.214521, -2.349032, 0.156641], [230, \"2023-05-08\", 13.87, 171.79, 5.146273, 2.629728, 0.741168, -1.184523, 0.562605, -2.357111, 0.154209], [231, \"2023-05-09\", 13.86, 169.15, 5.130786, 2.629007, 0.670655, -0.811978, 0.911744, -2.383086, 0.146567], [232, \"2023-05-10\", 14.11, 168.54, 5.127173, 2.646884, 0.627501, -0.570422, 1.118186, -2.398287, 0.14222], [233, \"2023-05-11\", 13.84, 172.08, 5.147959, 2.627563, 0.581978, -0.368437, 1.307668, -2.416126, 0.137236], [234, \"2023-05-12\", 12.91, 167.98, 5.123845, 2.558002, 0.63777, -0.70983, 0.935319, -2.465312, 0.124144], [235, \"2023-05-15\", 13.44, 166.35, 5.114094, 2.598235, 0.689517, -0.928017, 0.789618, -2.569305, 0.099509], [236, \"2023-05-16\", 13.08, 166.52, 5.115115, 2.571084, 0.857412, -1.814679, -0.14258, -2.560741, 0.101386], [237, \"2023-05-17\", 13.41, 173.86, 5.15825, 2.596001, 1.263783, -3.922908, -2.354236, -2.672433, 0.078931], [238, \"2023-05-18\", 13.54, 176.89, 5.175528, 2.605648, 1.108354, -3.130671, -1.318413, -2.662323, 0.080788], [239, \"2023-05-19\", 13.47, 180.14, 5.193734, 2.600465, 0.930962, -2.234707, -0.36031, -2.736292, 0.067966], [240, \"2023-05-22\", 14.23, 188.87, 5.241059, 2.655352, 0.812259, -1.601746, 0.282483, -2.794724, 0.059031], [241, \"2023-05-23\", 14.2, 185.77, 5.224509, 2.653242, 0.739069, -1.208031, 0.634809, -3.155818, 0.022689], [242, \"2023-05-24\", 14.38, 182.9, 5.20894, 2.665838, 0.705615, -1.009666, 0.769362, -3.222634, 0.018711], [243, \"2023-05-25\", 14.57, 184.47, 5.217487, 2.678965, 0.726871, -1.113474, 0.589565, -2.528888, 0.108603], [244, \"2023-05-26\", 15.14, 193.17, 5.263571, 2.71734, 0.761225, -1.289419, 0.338586, -2.329658, 0.162581], [245, \"2023-05-30\", 14.87, 201.16, 5.304101, 2.699346, 0.68867, -0.953428, 0.637663, -2.218387, 0.19964], [246, \"2023-05-31\", 14.73, 203.93, 5.317777, 2.689886, 0.611433, -0.561579, 0.981862, -2.524903, 0.109532], [247, \"2023-06-01\", 14.58, 207.52, 5.335228, 2.679651, 0.529639, -0.146095, 1.300836, -2.261108, 0.184818], [248, \"2023-06-02\", 14.48, 213.97, 5.365836, 2.672768, 0.439504, 0.314463, 1.581154, -1.764079, 0.398435], [249, \"2023-06-05\", 14.34, 217.61, 5.382704, 2.663053, 0.368643, 0.678755, 1.69264, -1.999822, 0.286651], [250, \"2023-06-06\", 14.5, 221.31, 5.399564, 2.674149, 0.338677, 0.845438, 1.621134, -2.180128, 0.213537], [251, \"2023-06-07\", 13.82, 224.57, 5.414187, 2.626117, 0.27592, 1.132233, 1.647221, -2.603476, 0.092281], [252, \"2023-06-08\", 14.05, 234.86, 5.45899, 2.642622, 0.240615, 1.32911, 1.604311, -2.829399, 0.054195], [253, \"2023-06-09\", 13.87, 244.4, 5.498806, 2.629728, 0.184124, 1.617265, 1.618225, -3.000085, 0.034886], [254, \"2023-06-12\", 14.0, 249.83, 5.520781, 2.639057, 0.111056, 2.025943, 1.661485, -3.067058, 0.029089], [255, \"2023-06-13\", 15.25, 258.71, 5.555708, 2.72458, 0.128063, 2.013098, 1.466172, -3.331804, 0.013515], [256, \"2023-06-14\", 14.74, 256.79, 5.548259, 2.690565, 0.092174, 2.179158, 1.391938, -2.955637, 0.03925], [257, \"2023-06-15\", 15.24, 255.9, 5.544787, 2.723924, 0.088462, 2.233421, 1.359251, -2.951365, 0.039693], [258, \"2023-06-16\", 14.88, 260.54, 5.562756, 2.700018, 0.06904, 2.315967, 1.333279, -2.936987, 0.041213], [259, \"2023-06-20\", 15.7, 274.45, 5.614769, 2.753661, 0.075929, 2.327337, 1.242243, -3.021615, 0.032925], [260, \"2023-06-21\", 14.62, 259.46, 5.558603, 2.68239, 0.065977, 2.315651, 1.131315, -2.487322, 0.11859], [261, \"2023-06-22\", 14.15, 264.61, 5.578257, 2.649715, 0.03709, 2.442815, 1.116958, -1.48006, 0.543351], [262, \"2023-06-23\", 13.53, 256.6, 5.547518, 2.604909, 0.002977, 2.588393, 1.119256, -1.422411, 0.571486], [263, \"2023-06-26\", 13.45, 241.05, 5.485004, 2.598979, -0.002192, 2.611003, 1.051048, -1.333755, 0.613592], [264, \"2023-06-27\", 13.94, 250.21, 5.522301, 2.634762, 0.040638, 2.410349, 0.833794, -1.33558, 0.612742], [265, \"2023-06-28\", 14.64, 256.24, 5.546115, 2.683758, 0.091691, 2.175227, 0.556982, -1.434587, 0.565587], [266, \"2023-06-29\", 16.01, 257.5, 5.55102, 2.773214, 0.190459, 1.715971, -0.050141, -1.41525, 0.574943], [267, \"2023-06-30\", 16.66, 261.77, 5.567466, 2.813011, 0.337255, 0.935354, -1.25249, -1.509912, 0.528602], [268, \"2023-07-03\", 19.56, 279.82, 5.634147, 2.973487, 0.740289, -1.197413, -3.198501, -1.62241, 0.471466], [269, \"2023-07-05\", 20.43, 282.48, 5.643608, 3.017004, 1.217128, -3.851991, -3.48153, -1.893827, 0.334971], [270, \"2023-07-06\", 21.62, 276.54, 5.622355, 3.073619, 1.839407, -7.26818, -3.354194, -1.85441, 0.353803], [271, \"2023-07-07\", 24.7, 274.43, 5.614696, 3.206803, 2.713837, -12.030569, -3.237268, -1.235626, 0.658086], [272, \"2023-07-10\", 25.51, 269.61, 5.596976, 3.239071, 3.4786, -16.230573, -2.952235, -0.432147, 0.904592], [273, \"2023-07-11\", 24.85, 269.79, 5.597644, 3.212858, 3.893415, -18.581095, -2.564142, -0.71012, 0.844111], [274, \"2023-07-12\", 25.91, 271.99, 5.605765, 3.254629, 4.212963, -20.362254, -2.268671, -1.697266, 0.432522], [275, \"2023-07-13\", 25.52, 277.9, 5.627261, 3.239462, 4.429357, -21.685685, -2.028182, -1.631975, 0.466457], [276, \"2023-07-14\", 24.82, 281.38, 5.639706, 3.21165, 4.48064, -22.057845, -1.778052, -1.671293, 0.445961], [277, \"2023-07-17\", 23.99, 290.38, 5.67119, 3.177637, 4.234838, -20.838936, -1.460786, -2.439243, 0.130965], [278, \"2023-07-18\", 24.69, 293.34, 5.681332, 3.206398, 3.965812, -19.324699, -1.179035, -3.488066, 0.008299], [279, \"2023-07-19\", 24.83, 291.26, 5.674216, 3.212053, 3.977419, -19.356685, -1.067842, -3.379995, 0.01166], [280, \"2023-07-20\", 25.81, 262.9, 5.571774, 3.250762, 3.679872, -17.252651, -0.780466, -1.898238, 0.33289], [281, \"2023-07-21\", 25.27, 260.02, 5.560759, 3.229618, 3.324299, -15.256008, -0.514426, -2.75922, 0.064339], [282, \"2023-07-24\", 25.81, 269.06, 5.594934, 3.250762, 3.033989, -13.724208, -0.291145, -2.694301, 0.07503], [283, \"2023-07-25\", 25.35, 265.28, 5.580786, 3.232779, 2.525579, -10.861938, 0.086081, -2.514423, 0.112004], [284, \"2023-07-26\", 27.15, 264.35, 5.577274, 3.301377, 1.579976, -5.510583, 0.770814, -2.849116, 0.051593], [285, \"2023-07-27\", 26.05, 255.71, 5.544044, 3.260018, 0.445007, 0.79288, 1.545931, -3.154333, 0.022785], [286, \"2023-07-28\", 26.94, 266.44, 5.585149, 3.293612, -0.396775, 5.509661, 2.001056, -3.220955, 0.018803], [287, \"2023-07-31\", 27.64, 267.43, 5.588858, 3.319264, -1.096994, 9.45021, 2.195525, -3.17138, 0.021702], [288, \"2023-08-01\", 27.3, 261.07, 5.564789, 3.306887, -0.973905, 8.72646, 1.909538, -3.217272, 0.019006], [289, \"2023-08-02\", 25.91, 254.11, 5.537767, 3.254629, -0.67388, 6.986422, 1.587343, -3.465874, 0.008908], [290, \"2023-08-03\", 26.5, 259.32, 5.558063, 3.277145, -0.581037, 6.506585, 1.4013, -3.645438, 0.004949], [291, \"2023-08-04\", 25.26, 253.86, 5.536783, 3.229222, -0.479396, 5.883533, 1.218365, -3.282319, 0.015688], [292, \"2023-08-07\", 24.28, 251.45, 5.527244, 3.189653, -0.336351, 5.048747, 1.039907, -3.275718, 0.015999], [293, \"2023-08-08\", 24.8, 249.7, 5.52026, 3.210844, -0.243297, 4.553909, 0.904721, -3.269513, 0.016297], [294, \"2023-08-09\", 22.35, 242.19, 5.489723, 3.106826, 0.026105, 2.963516, 0.69683, -3.203714, 0.019771], [295, \"2023-08-10\", 21.91, 245.34, 5.502645, 3.086943, 0.214319, 1.907619, 0.53538, -3.296592, 0.015032], [296, \"2023-08-11\", 21.57, 242.65, 5.49162, 3.071303, 0.435447, 0.679993, 0.353934, -3.251364, 0.017198], [297, \"2023-08-14\", 21.56, 239.76, 5.479638, 3.07084, 0.787385, -1.243744, 0.093148, -3.514855, 0.007614], [298, \"2023-08-15\", 20.78, 232.96, 5.450867, 3.033991, 1.285998, -3.97581, -0.279687, -3.5503, 0.006785], [299, \"2023-08-16\", 21.04, 225.6, 5.418764, 3.046425, 1.779964, -6.59878, -0.705275, -3.560784, 0.006557], [300, \"2023-08-17\", 20.95, 219.22, 5.390076, 3.042139, 1.584423, -5.498021, -0.71798, -3.559256, 0.006589], [301, \"2023-08-18\", 20.78, 215.49, 5.372915, 3.033991, 1.449348, -4.753233, -0.771212, -3.327696, 0.013685], [302, \"2023-08-21\", 21.18, 231.28, 5.443629, 3.053057, 1.516653, -5.203041, -1.014179, -3.305877, 0.014618], [303, \"2023-08-22\", 20.08, 233.19, 5.451854, 2.999724, 1.6211, -5.838273, -1.2567, -3.228101, 0.018415], [304, \"2023-08-23\", 20.32, 236.86, 5.467469, 3.011606, 1.635974, -5.933034, -1.263859, -3.241623, 0.017698], [305, \"2023-08-24\", 19.64, 230.04, 5.438253, 2.977568, 1.661504, -6.058113, -1.176386, -3.26, 0.016764], [306, \"2023-08-25\", 20.07, 238.59, 5.474747, 2.999226, 1.669287, -6.139699, -1.074959, -3.263258, 0.016603], [307, \"2023-08-28\", 20.53, 238.82, 5.47571, 3.021887, 1.612209, -5.806104, -0.934396, -3.273698, 0.016096], [308, \"2023-08-29\", 22.31, 257.18, 5.549776, 3.105035, 1.341478, -4.339869, -0.592683, -3.291432, 0.015266], [309, \"2023-08-30\", 22.88, 256.9, 5.548687, 3.130263, 1.173151, -3.379187, -0.324727, -3.299853, 0.014885], [310, \"2023-08-31\", 22.73, 258.08, 5.55327, 3.123686, 0.948922, -2.145934, 0.03487, -3.310601, 0.014411], [311, \"2023-09-01\", 23.31, 245.01, 5.501299, 3.148882, 0.853898, -1.548663, 0.294893, -3.313188, 0.014299], [312, \"2023-09-05\", 23.39, 256.49, 5.54709, 3.152309, 0.809058, -1.33561, 0.492858, -3.338862, 0.013228], [313, \"2023-09-06\", 23.26, 251.92, 5.529112, 3.146735, 0.757423, -1.04114, 0.770779, -3.376239, 0.011796], [314, \"2023-09-07\", 23.42, 251.49, 5.527403, 3.15359, 0.794838, -1.239799, 0.880095, -3.350798, 0.012755], [315, \"2023-09-08\", 23.1, 248.5, 5.515443, 3.139833, 0.821496, -1.391084, 0.99339, -3.402403, 0.010877], [316, \"2023-09-11\", 23.41, 273.58, 5.611594, 3.153163, 0.77454, -1.193243, 1.204502, -3.407794, 0.010696], [317, \"2023-09-12\", 23.58, 267.48, 5.589045, 3.160399, 0.779844, -1.198186, 1.199455, -3.4095, 0.010639], [318, \"2023-09-13\", 23.25, 271.3, 5.603225, 3.146305, 0.74683, -1.038353, 1.160202, -3.428521, 0.010024], [319, \"2023-09-14\", 24.11, 276.04, 5.620546, 3.182627, 0.772878, -1.161372, 1.006413, -3.434028, 0.009852], [320, \"2023-09-15\", 24.18, 274.39, 5.61455, 3.185526, 0.845552, -1.561871, 0.737567, -3.483266, 0.008427], [321, \"2023-09-18\", 23.71, 265.28, 5.580786, 3.165897, 0.993645, -2.379424, 0.297342, -3.52398, 0.007392], [322, \"2023-09-19\", 22.74, 266.5, 5.585374, 3.124125, 1.017656, -2.559863, 0.151464, -3.555399, 0.006673], [323, \"2023-09-20\", 22.4, 262.59, 5.570594, 3.109061, 0.962716, -2.253839, 0.228501, -3.521929, 0.007441], [324, \"2023-09-21\", 21.53, 255.7, 5.544005, 3.069447, 0.915956, -2.008619, 0.277696, -3.515105, 0.007608], [325, \"2023-09-22\", 20.59, 244.88, 5.500768, 3.024806, 0.862477, -1.719479, 0.364077, -3.50721, 0.007804], [326, \"2023-09-25\", 21.13, 246.99, 5.509348, 3.050694, 0.776453, -1.227056, 0.650458, -3.477845, 0.008575], [327, \"2023-09-26\", 22.26, 244.12, 5.49766, 3.102791, 0.627621, -0.347655, 1.544667, -3.369717, 0.012036], [328, \"2023-09-27\", 23.05, 240.5, 5.48272, 3.137666, 0.522064, 0.275336, 2.253121, -3.284879, 0.015568], [329, \"2023-09-28\", 23.08, 246.38, 5.506875, 3.138966, 0.485939, 0.462962, 2.270265, -3.282669, 0.015671], [330, \"2023-09-29\", 24.28, 250.22, 5.522341, 3.189653, 0.439004, 0.765322, 2.183219, -3.481088, 0.008486], [331, \"2023-10-02\", 23.66, 251.6, 5.527841, 3.163786, 0.462694, 0.606088, 1.72919, -3.567575, 0.006412], [332, \"2023-10-03\", 21.69, 246.53, 5.507484, 3.076851, 0.503127, 0.305889, 1.277195, -3.514252, 0.007629], [333, \"2023-10-04\", 23.69, 261.16, 5.565133, 3.165053, 0.526639, 0.234235, 1.104952, -3.680161, 0.004401], [334, \"2023-10-05\", 18.27, 260.05, 5.560874, 2.90526, 0.485017, 0.208142, 0.986296, -3.900178, 0.002034], [335, \"2023-10-06\", 18.92, 260.53, 5.562718, 2.94022, 0.475263, 0.296465, 0.970297, -3.953326, 0.001676], [336, \"2023-10-09\", 18.78, 259.67, 5.559412, 2.932792, 0.397916, 0.720613, 1.219342, -3.632869, 0.005163], [337, \"2023-10-10\", 19.64, 263.62, 5.574509, 2.977568, 0.24079, 1.635284, 1.737176, -3.690101, 0.004255], [338, \"2023-10-11\", 19.37, 262.99, 5.572116, 2.963725, 0.054184, 2.661807, 2.103325, -4.846422, 4.4e-05], [339, \"2023-10-12\", 19.33, 258.87, 5.556326, 2.961658, -0.306061, 4.66223, 2.618704, -4.176545, 0.000722], [340, \"2023-10-13\", 19.3, 251.12, 5.525931, 2.960105, -0.740946, 7.054522, 2.823768, -4.195234, 0.000671], [341, \"2023-10-16\", 19.66, 253.92, 5.537019, 2.978586, -1.061935, 8.85854, 2.692616, -4.470337, 0.000222], [342, \"2023-10-17\", 19.9, 254.85, 5.540675, 2.99072, -1.475628, 11.166695, 2.643981, -3.993958, 0.001442], [343, \"2023-10-18\", 18.09, 242.68, 5.491744, 2.895359, -1.219741, 9.593863, 1.891799, -2.552006, 0.103328], [344, \"2023-10-19\", 17.16, 220.11, 5.394127, 2.842581, 0.131276, 2.134464, -0.074951, -2.787658, 0.060058], [345, \"2023-10-20\", 16.72, 211.99, 5.356539, 2.816606, 0.616034, -0.483207, -0.797765, -3.899043, 0.002042], [346, \"2023-10-23\", 17.07, 212.08, 5.356964, 2.837323, 0.748157, -1.170525, -0.984398, -3.433188, 0.009878], [347, \"2023-10-24\", 17.43, 216.52, 5.377683, 2.858193, 0.80696, -1.48138, -1.037857, -2.992452, 0.035605], [348, \"2023-10-25\", 17.02, 212.42, 5.358565, 2.834389, 0.867713, -1.815306, -1.072922, -2.797818, 0.058586], [349, \"2023-10-26\", 16.17, 205.76, 5.32671, 2.783158, 0.891656, -1.966438, -1.053657, -3.045188, 0.030884], [350, \"2023-10-27\", 16.01, 207.3, 5.334167, 2.773214, 0.875956, -1.899284, -0.979529, -3.074461, 0.028502], [351, \"2023-10-30\", 15.72, 197.36, 5.285029, 2.754934, 0.826486, -1.613071, -0.86604, -3.073478, 0.028579], [352, \"2023-10-31\", 16.22, 200.84, 5.302509, 2.786245, 0.790366, -1.404676, -0.784526, -3.167176, 0.021965], [353, \"2023-11-01\", 16.13, 205.66, 5.326224, 2.780681, 0.702076, -0.958732, -0.658183, -3.008892, 0.034072], [354, \"2023-11-02\", 17.59, 218.51, 5.386832, 2.867331, 0.7268, -1.047821, -0.659042, -3.036359, 0.031636], [355, \"2023-11-03\", 17.71, 219.96, 5.393446, 2.874129, 0.740985, -1.122333, -0.65414, -2.984392, 0.036378], [356, \"2023-11-06\", 17.18, 219.27, 5.390304, 2.843746, 0.770339, -1.308615, -0.666541, -2.923906, 0.042638], [357, \"2023-11-07\", 17.42, 222.18, 5.403488, 2.857619, 0.781594, -1.365715, -0.637749, -2.947372, 0.04011], [358, \"2023-11-08\", 17.0, 222.11, 5.403173, 2.833213, 0.814216, -1.566139, -0.629622, -3.088873, 0.027388], [359, \"2023-11-09\", 15.33, 209.98, 5.347012, 2.729812, 0.878547, -1.967791, -0.649005, -2.806573, 0.057341], [360, \"2023-11-10\", 15.4, 214.65, 5.369009, 2.734368, 0.897699, -2.085387, -0.599767, -2.828345, 0.054338], [361, \"2023-11-13\", 16.19, 223.71, 5.410351, 2.784394, 0.843497, -1.779222, -0.451258, -3.065465, 0.029217], [362, \"2023-11-14\", 16.9, 237.41, 5.469789, 2.827314, 0.593881, -0.42109, 0.102551, -3.221539, 0.018771], [363, \"2023-11-15\", 17.24, 242.84, 5.492403, 2.847232, 0.475003, 0.238325, 1.431349, -3.276421, 0.015966], [364, \"2023-11-16\", 16.39, 233.59, 5.453567, 2.796671, 0.391779, 0.660076, 2.55794, -3.403142, 0.010852], [365, \"2023-11-17\", 16.7, 234.3, 5.456602, 2.815409, 0.36414, 0.828442, 2.324271, -3.537523, 0.007074], [366, \"2023-11-20\", 16.93, 235.6, 5.462135, 2.829087, 0.368211, 0.817869, 1.95071, -3.578579, 0.006184], [367, \"2023-11-21\", 15.72, 241.2, 5.485626, 2.754934, 0.26286, 1.312981, 2.043962, -3.379664, 0.011672], [368, \"2023-11-22\", 15.98, 234.21, 5.456218, 2.771338, 0.243369, 1.443466, 1.848097, -3.40911, 0.010652], [369, \"2023-11-24\", 16.43, 235.45, 5.461499, 2.799109, 0.227087, 1.558875, 1.696376, -3.3444, 0.013007], [370, \"2023-11-27\", 16.66, 236.08, 5.464171, 2.813011, 0.20958, 1.667832, 1.572786, -3.38331, 0.011541], [371, \"2023-11-28\", 17.42, 246.72, 5.508254, 2.857619, 0.202, 1.74495, 1.447933, -3.405258, 0.010781], [372, \"2023-11-29\", 17.32, 244.14, 5.497742, 2.851862, 0.235869, 1.555114, 1.178063, -3.393837, 0.011171], [373, \"2023-11-30\", 16.76, 240.08, 5.480972, 2.818995, 0.209003, 1.673455, 1.138128, -3.448075, 0.009425], [374, \"2023-12-01\", 18.03, 238.83, 5.475752, 2.892037, 0.352182, 0.963576, 0.576797, -3.436691, 0.00977], [375, \"2023-12-04\", 17.74, 235.58, 5.462051, 2.875822, 0.479619, 0.256119, 0.032153, -3.458477, 0.00912], [376, \"2023-12-05\", 17.41, 238.72, 5.475291, 2.857045, 0.593017, -0.389895, -0.477969, -3.493871, 0.008146], [377, \"2023-12-06\", 18.38, 239.37, 5.47801, 2.911263, 0.753942, -1.218841, -1.102844, -3.492552, 0.00818], [378, \"2023-12-07\", 19.19, 242.64, 5.491579, 2.954389, 0.957078, -2.301479, -1.798374, -3.502101, 0.007933], [379, \"2023-12-08\", 19.04, 243.84, 5.496512, 2.946542, 1.163891, -3.450797, -2.311889, -3.48163, 0.008472], [380, \"2023-12-11\", 18.95, 239.74, 5.479555, 2.941804, 1.374678, -4.590821, -2.529354, -3.468889, 0.008823], [381, \"2023-12-12\", 18.21, 237.01, 5.468102, 2.901971, 1.596496, -5.82783, -2.547612, -3.311507, 0.014372], [382, \"2023-12-13\", 19.68, 239.29, 5.477676, 2.979603, 1.61365, -5.859448, -2.115988, -3.060441, 0.029623], [383, \"2023-12-14\", 22.43, 251.05, 5.525652, 3.110399, 2.895849, -12.891057, -3.126321, -3.15371, 0.022825], [384, \"2023-12-15\", 22.83, 253.5, 5.535364, 3.128075, 3.384796, -15.608001, -2.770022, -0.823896, 0.812002], [385, \"2023-12-18\", 23.8, 252.08, 5.529746, 3.169686, 3.90559, -18.427235, -2.542139, -0.990917, 0.756563], [386, \"2023-12-19\", 24.35, 257.22, 5.549932, 3.192532, 4.074946, -19.423138, -2.196209, -0.408871, 0.908607], [387, \"2023-12-20\", 23.18, 247.14, 5.509955, 3.14329, 4.194447, -19.967926, -1.922149, -0.550263, 0.881829], [388, \"2023-12-21\", 23.58, 254.5, 5.539301, 3.160399, 4.159267, -19.87903, -1.663779, -0.521739, 0.887704], [389, \"2023-12-22\", 23.21, 252.54, 5.53157, 3.144583, 4.158695, -19.85953, -1.472075, -0.640396, 0.86159], [390, \"2023-12-26\", 23.59, 256.61, 5.547557, 3.160823, 4.02636, -19.175641, -1.252397, -0.619933, 0.866414], [391, \"2023-12-27\", 23.73, 261.44, 5.566205, 3.16674, 3.773561, -17.837676, -0.997244, -0.795318, 0.820493], [392, \"2023-12-28\", 23.54, 253.18, 5.534101, 3.158701, 3.756001, -17.627385, -0.881872, -1.032671, 0.741163], [393, \"2023-12-29\", 23.46, 248.48, 5.515362, 3.155297, 3.621319, -16.81759, -0.707804, -0.907567, 0.78547], [394, \"2024-01-02\", 21.1, 248.42, 5.515121, 3.049273, 3.551731, -16.538954, -0.597987, -1.040804, 0.738093], [395, \"2024-01-03\", 20.32, 238.45, 5.47416, 3.011606, 3.343006, -15.288542, -0.362047, -1.027402, 0.743139], [396, \"2024-01-04\", 19.5, 237.93, 5.471977, 2.970414, 3.072313, -13.841209, -0.077596, -1.232389, 0.65951], [397, \"2024-01-05\", 19.08, 237.49, 5.470126, 2.948641, 2.953338, -13.206489, 0.117857, -1.381024, 0.591339], [398, \"2024-01-08\", 19.58, 240.45, 5.482512, 2.974509, 2.908466, -12.971193, 0.27358, -1.492155, 0.537389], [399, \"2024-01-09\", 19.25, 234.96, 5.459415, 2.957511, 2.770045, -12.165315, 0.566964, -1.656744, 0.453525], [400, \"2024-01-10\", 19.07, 233.94, 5.455065, 2.948116, 2.64888, -11.501695, 0.880265, -1.870483, 0.346072], [401, \"2024-01-11\", 18.79, 227.22, 5.425919, 2.933325, 2.335042, -9.736425, 1.475929, -2.270399, 0.181693], [402, \"2024-01-12\", 18.06, 218.89, 5.388569, 2.8937, 2.05516, -8.180675, 2.057567, -1.966731, 0.301348], [403, \"2024-01-16\", 17.82, 219.91, 5.393218, 2.880321, 1.992599, -7.866201, 1.888056, -0.998536, 0.753798], [404, \"2024-01-17\", 16.76, 215.55, 5.373193, 2.818995, 1.99357, -7.892843, 1.64453, -1.127894, 0.703821], [405, \"2024-01-18\", 15.74, 211.88, 5.35602, 2.756205, 2.005628, -7.985978, 1.439013, -1.209424, 0.669529], [406, \"2024-01-19\", 15.48, 212.19, 5.357482, 2.739549, 2.03245, -8.149264, 1.263543, -1.22243, 0.663873], [407, \"2024-01-22\", 16.03, 208.8, 5.341377, 2.774462, 1.959683, -7.692946, 1.240988, -1.214845, 0.667178], [408, \"2024-01-23\", 16.04, 209.14, 5.343004, 2.775086, 1.912892, -7.445501, 1.187167, -1.238815, 0.65668], [409, \"2024-01-24\", 15.34, 207.83, 5.33672, 2.730464, 1.902215, -7.421123, 1.102956, -1.258926, 0.647748], [410, \"2024-01-25\", 15.0, 182.63, 5.207462, 2.70805, 1.570036, -5.467855, 1.454295, -1.286729, 0.635222], [411, \"2024-01-26\", 15.29, 183.25, 5.210851, 2.727199, 1.37279, -4.426206, 1.559948, -1.288198, 0.634554], [412, \"2024-01-29\", 16.12, 190.93, 5.251907, 2.780061, 1.216966, -3.611329, 1.616148, -1.326941, 0.616758], [413, \"2024-01-30\", 15.66, 191.59, 5.255358, 2.75111, 1.080643, -2.928058, 1.637867, -1.293978, 0.631923], [414, \"2024-01-31\", 15.31, 187.29, 5.232658, 2.728506, 1.015004, -2.582662, 1.602474, -1.284483, 0.636241], [415, \"2024-02-01\", 15.53, 188.86, 5.241006, 2.742774, 0.951845, -2.245854, 1.562992, -1.276215, 0.639983], [416, \"2024-02-02\", 15.6, 187.91, 5.235963, 2.747271, 0.906803, -2.000715, 1.491981, -1.272784, 0.64153], [417, \"2024-02-05\", 14.94, 181.06, 5.198828, 2.704042, 0.879135, -1.866428, 1.406743, -1.254002, 0.649945], [418, \"2024-02-06\", 15.5, 185.1, 5.220896, 2.74084, 0.818775, -1.533897, 1.39758, -1.228206, 0.661346], [419, \"2024-02-07\", 15.17, 187.58, 5.234205, 2.71932, 0.764852, -1.28407, 1.372172, -1.214289, 0.667419], [420, \"2024-02-08\", 16.11, 189.56, 5.244706, 2.77944, 0.664343, -0.704846, 1.451768, -1.23996, 0.656174], [421, \"2024-02-09\", 16.68, 193.57, 5.265639, 2.81421, 0.531433, 0.015875, 1.534289, -1.31188, 0.62372], [422, \"2024-02-12\", 16.33, 188.13, 5.237133, 2.793004, 0.398118, 0.708006, 1.568222, -1.259955, 0.647288], [423, \"2024-02-13\", 15.38, 184.02, 5.215044, 2.733068, 0.259659, 1.378933, 1.584424, -1.232793, 0.659332], [424, \"2024-02-14\", 15.54, 188.71, 5.240211, 2.743417, 0.181169, 1.794052, 1.534608, -1.186979, 0.679172], [425, \"2024-02-15\", 16.35, 200.45, 5.300565, 2.794228, 0.236842, 1.538834, 1.327094, -1.165721, 0.688165], [426, \"2024-02-16\", 16.3, 199.95, 5.298067, 2.791165, 0.364669, 0.859122, 1.030938, -1.302106, 0.628208], [427, \"2024-02-20\", 15.89, 193.76, 5.26662, 2.76569, 0.399687, 0.660691, 0.892859, -1.358719, 0.601899], [428, \"2024-02-21\", 15.39, 194.77, 5.271819, 2.733718, 0.432985, 0.451101, 0.755663, -1.341235, 0.610103], [429, \"2024-02-22\", 11.45, 197.41, 5.285283, 2.43799, -0.047328, 2.688134, 1.624161, -1.36471, 0.599073], [430, \"2024-02-23\", 10.07, 191.97, 5.257339, 2.309561, -0.402604, 4.426185, 2.146908, -1.024127, 0.744363], [431, \"2024-02-26\", 10.7, 199.4, 5.295313, 2.370244, -1.356308, 9.552321, 3.092506, -0.917322, 0.782215], [432, \"2024-02-27\", 11.14, 199.73, 5.296966, 2.410542, -1.916411, 12.561704, 2.918204, -0.244289, 0.933032], [433, \"2024-02-28\", 11.3, 202.04, 5.308466, 2.424803, -2.307934, 14.67639, 2.62016, -0.173045, 0.941659], [434, \"2024-02-29\", 11.32, 201.88, 5.307673, 2.426571, -2.564792, 16.039647, 2.324591, -0.084735, 0.950938], [435, \"2024-03-01\", 11.35, 202.64, 5.311431, 2.429218, -2.705685, 16.800277, 2.052866, -0.05455, 0.953782], [436, \"2024-03-04\", 10.91, 188.14, 5.237186, 2.38968, -2.280906, 14.335209, 1.473294, -0.046305, 0.954531], [437, \"2024-03-05\", 10.93, 180.74, 5.19706, 2.391511, -1.35736, 9.445793, 0.653499, -0.755615, 0.831814], [438, \"2024-03-06\", 11.03, 176.54, 5.173547, 2.400619, -0.27371, 3.816671, -0.266156, -1.570086, 0.498601], [439, \"2024-03-07\", 12.51, 178.65, 5.185429, 2.526528, -0.011681, 2.587102, -0.505849, -1.975067, 0.297611], [440, \"2024-03-08\", 12.78, 175.34, 5.166727, 2.547881, 0.097596, 2.043628, -0.629645, -1.514316, 0.526418], [441, \"2024-03-11\", 12.69, 177.77, 5.180491, 2.540814, 0.043992, 2.312914, -0.613691, -1.491866, 0.537531], [442, \"2024-03-12\", 12.37, 177.54, 5.179196, 2.515274, 0.13692, 1.80614, -0.714489, -2.01511, 0.279988], [443, \"2024-03-13\", 11.71, 169.48, 5.132735, 2.460443, 0.329805, 0.76764, -0.882618, -2.021651, 0.277161], [444, \"2024-03-14\", 10.69, 162.5, 5.090678, 2.369309, 0.490386, -0.127089, -1.003639, -2.262103, 0.184482], [445, \"2024-03-15\", 11.04, 163.57, 5.097241, 2.401525, 0.340254, 0.667169, -0.858018, -2.15931, 0.221344], [446, \"2024-03-18\", 11.4, 173.8, 5.157905, 2.433613, 0.132249, 1.751487, -0.688928, -2.113001, 0.239319], [447, \"2024-03-19\", 11.26, 171.32, 5.143533, 2.421257, 0.002534, 2.408223, -0.600346, -2.06422, 0.259143], [448, \"2024-03-20\", 11.36, 175.66, 5.16855, 2.430098, -0.170805, 3.312912, -0.479946, -2.187297, 0.210888], [449, \"2024-03-21\", 11.17, 172.82, 5.152251, 2.413232, -0.172802, 3.303553, -0.488341, -2.090736, 0.248256], [450, \"2024-03-22\", 10.8, 170.83, 5.140669, 2.379546, -0.067152, 2.724752, -0.569994, -2.027307, 0.27473], [451, \"2024-03-25\", 10.65, 172.63, 5.151151, 2.36556, 0.032631, 2.197473, -0.597562, -2.362218, 0.152685], [452, \"2024-03-26\", 10.52, 177.67, 5.179928, 2.353278, 0.07634, 1.957844, -0.565151, -2.307298, 0.169625], [453, \"2024-03-27\", 10.99, 179.83, 5.192012, 2.396986, 0.102569, 1.864446, -0.506617, -2.500549, 0.115341], [454, \"2024-03-28\", 10.95, 175.79, 5.16929, 2.393339, 0.157727, 1.578, -0.492222, -2.333269, 0.161462], [455, \"2024-04-01\", 11.09, 175.22, 5.166042, 2.406044, 0.305344, 0.828624, -0.653404, -2.296765, 0.173014], [456, \"2024-04-02\", 10.51, 166.63, 5.115776, 2.352327, 0.740417, -1.435479, -1.725527, -2.516036, 0.111621], [457, \"2024-04-03\", 10.54, 168.38, 5.126223, 2.355178, 0.995526, -2.74811, -2.717325, -2.641322, 0.084754], [458, \"2024-04-04\", 10.13, 171.11, 5.142307, 2.315501, 1.114876, -3.417533, -2.495544, -2.587579, 0.095592], [459, \"2024-04-05\", 10.1, 164.9, 5.105339, 2.312535, 1.095116, -3.278405, -2.020981, -2.681262, 0.077337], [460, \"2024-04-08\", 10.44, 172.98, 5.153176, 2.345645, 0.923068, -2.411086, -1.422067, -2.49719, 0.116159], [461, \"2024-04-09\", 10.63, 176.88, 5.175472, 2.36368, 0.570799, -0.590476, -0.528328, -2.551374, 0.103469], [462, \"2024-04-10\", 10.27, 171.76, 5.146098, 2.329227, 0.315339, 0.706461, 0.094431, -2.87834, 0.047925], [463, \"2024-04-11\", 9.57, 174.6, 5.162498, 2.258633, 0.26043, 0.914162, 0.187335, -3.013187, 0.033681], [464, \"2024-04-12\", 9.13, 171.05, 5.141956, 2.211566, 0.436798, -0.03443, -0.255036, -3.092687, 0.027099], [465, \"2024-04-15\", 8.4, 161.48, 5.084381, 2.128232, 1.720692, -6.620424, -2.527018, -3.172153, 0.021654], [466, \"2024-04-16\", 8.71, 157.11, 5.056946, 2.164472, 1.781544, -6.844699, -2.138516, -2.344609, 0.157984], [467, \"2024-04-17\", 8.74, 155.45, 5.046324, 2.16791, 1.747341, -6.649737, -1.787033, -2.67878, 0.077783], [468, \"2024-04-18\", 8.83, 149.93, 5.010169, 2.178155, 1.47795, -5.226625, -1.227768, -2.768883, 0.062858], [469, \"2024-04-19\", 8.63, 147.05, 4.990773, 2.155245, 1.331075, -4.48785, -0.913563, -2.672188, 0.078976], [470, \"2024-04-22\", 8.79, 142.05, 4.956179, 2.173615, 1.135433, -3.453793, -0.518415, -2.68227, 0.077157], [471, \"2024-04-23\", 9.04, 144.68, 4.974524, 2.201659, 1.027472, -2.909524, -0.271564, -2.731243, 0.068786], [472, \"2024-04-24\", 8.84, 162.13, 5.088398, 2.179287, 1.039032, -3.107723, -0.26693, -2.701707, 0.073743], [473, \"2024-04-25\", 8.52, 170.18, 5.136857, 2.142416, 0.934113, -2.655989, -0.024585, -2.655055, 0.082144], [474, \"2024-04-26\", 9.04, 168.29, 5.125689, 2.201659, 0.846022, -2.134789, 0.267372, -2.689816, 0.075817], [475, \"2024-04-29\", 9.38, 194.05, 5.268116, 2.23858, 0.553177, -0.675623, 0.943425, -2.70433, 0.073292], [476, \"2024-04-30\", 8.9, 183.28, 5.211015, 2.186051, 0.445504, -0.135475, 1.120379, -2.777835, 0.06151], [477, \"2024-05-01\", 9.21, 179.99, 5.192901, 2.22029, 0.397542, 0.155895, 1.138862, -2.744142, 0.066706], [478, \"2024-05-02\", 9.83, 180.01, 5.193012, 2.285439, 0.396452, 0.226659, 1.061742, -2.746504, 0.066331], [479, \"2024-05-03\", 10.07, 181.19, 5.199546, 2.309561, 0.43386, 0.053684, 0.908741, -2.726284, 0.069599], [480, \"2024-05-06\", 10.33, 184.76, 5.219058, 2.335052, 0.454616, -0.037615, 0.81225, -2.706689, 0.072888], [481, \"2024-05-07\", 10.25, 177.81, 5.180716, 2.327278, 0.442983, 0.032311, 0.819724, -2.699105, 0.074193], [482, \"2024-05-08\", 10.27, 174.72, 5.163185, 2.329227, 0.45172, -0.003085, 0.830893, -2.696566, 0.074634], [483, \"2024-05-09\", 10.22, 171.97, 5.14732, 2.324347, 0.463058, -0.059162, 0.844826, -2.6923, 0.07538], [484, \"2024-05-10\", 9.99, 168.47, 5.126758, 2.301585, 0.470458, -0.110341, 0.827454, -2.691246, 0.075565], [485, \"2024-05-13\", 10.9, 171.89, 5.146855, 2.388763, 0.474512, -0.05348, 0.775132, -2.689635, 0.075849], [486, \"2024-05-14\", 11.19, 177.55, 5.179252, 2.415021, 0.503576, -0.193129, 0.653205, -2.689742, 0.07583], [487, \"2024-05-15\", 10.2, 173.99, 5.158998, 2.322388, 0.486345, -0.186667, 0.604339, -2.683702, 0.076901], [488, \"2024-05-16\", 10.13, 174.84, 5.163871, 2.315501, 0.470257, -0.112845, 0.586282, -2.717717, 0.071022], [489, \"2024-05-17\", 10.5, 177.46, 5.178745, 2.351375, 0.424614, 0.152406, 0.717162, -2.72411, 0.069958], [490, \"2024-05-20\", 10.28, 174.95, 5.1645, 2.3302, 0.360399, 0.468917, 0.914183, -3.25038, 0.017248], [491, \"2024-05-21\", 10.05, 186.6, 5.228967, 2.307573, 0.254302, 0.977834, 1.300952, -3.377214, 0.011761], [492, \"2024-05-22\", 10.7, 180.11, 5.193568, 2.370244, -0.031531, 2.534002, 2.572408, -3.785603, 0.003058], [493, \"2024-05-23\", 9.95, 173.74, 5.15756, 2.297573, -0.32362, 3.96666, 3.101239, -4.316278, 0.000416], [494, \"2024-05-24\", 10.44, 179.24, 5.188726, 2.345645, -0.665059, 5.796453, 3.197191, -5.126805, 1.2e-05], [495, \"2024-05-28\", 10.42, 176.75, 5.174736, 2.343727, -0.529411, 5.083292, 2.233327, -4.121224, 0.000893], [496, \"2024-05-29\", 10.22, 176.19, 5.171563, 2.324347, -0.177719, 3.243433, 1.12289, -3.18762, 0.020713], [497, \"2024-05-30\", 10.97, 178.79, 5.186212, 2.395164, 0.03825, 2.19679, 0.521592, -2.3437, 0.158261], [498, \"2024-05-31\", 10.92, 178.08, 5.182233, 2.390596, 0.151337, 1.606334, 0.178061, -2.727085, 0.069468], [499, \"2024-06-03\", 11.4, 176.29, 5.17213, 2.433613, 0.217971, 1.306238, -0.012864, -2.753237, 0.06527], [500, \"2024-06-04\", 11.22, 174.77, 5.163471, 2.417698, 0.274421, 1.000732, -0.205817, -2.833709, 0.053618], [501, \"2024-06-05\", 11.45, 175.0, 5.164786, 2.43799, 0.244557, 1.174903, -0.14475, -2.793695, 0.05918], [502, \"2024-06-06\", 11.74, 177.94, 5.181446, 2.463002, 0.339671, 0.703015, -0.427551, -2.704194, 0.073315], [503, \"2024-06-07\", 11.52, 177.48, 5.178858, 2.444085, 0.293116, 0.926079, -0.337032, -2.703043, 0.073513], [504, \"2024-06-10\", 11.87, 173.79, 5.157848, 2.474014, -0.468258, 4.88922, 1.656336, -2.727911, 0.069332], [505, \"2024-06-11\", 11.83, 170.66, 5.139673, 2.470639, -0.897565, 7.083829, 2.281857, -2.30379, 0.170748], [506, \"2024-06-12\", 11.8, 177.29, 5.177787, 2.4681, -0.877319, 7.010671, 1.919525, -2.226475, 0.196777], [507, \"2024-06-13\", 11.11, 182.47, 5.206586, 2.407846, -0.851492, 6.841213, 1.62808, -2.445027, 0.129429], [508, \"2024-06-14\", 10.88, 178.01, 5.18184, 2.386926, -1.020388, 7.674413, 1.723789, -2.332034, 0.161844], [509, \"2024-06-17\", 10.96, 187.44, 5.233459, 2.394252, -0.710769, 6.114032, 1.014619, -1.923395, 0.321137], [510, \"2024-06-18\", 11.02, 184.86, 5.219599, 2.399712, -0.731443, 6.21755, 0.957275, -2.270504, 0.181658], [511, \"2024-06-20\", 10.33, 181.57, 5.201641, 2.335052, -0.543352, 5.161376, 0.466765, -2.005016, 0.284378], [512, \"2024-06-21\", 10.32, 183.01, 5.209541, 2.334084, -0.657595, 5.759851, 0.645839, -2.164314, 0.219451], [513, \"2024-06-24\", 11.01, 182.58, 5.207188, 2.398804, -0.951645, 7.354201, 1.182845, -1.917185, 0.32402], [514, \"2024-06-25\", 11.96, 187.35, 5.232979, 2.481568, -0.464401, 4.911767, 0.238105, -1.6318, 0.466549], [515, \"2024-06-26\", 14.74, 196.37, 5.280001, 2.690565, 0.906759, -2.097126, -2.097748, -2.038665, 0.269881], [516, \"2024-06-27\", 14.47, 197.42, 5.285333, 2.672078, 1.337717, -4.398201, -2.319007, -2.62983, 0.086987], [517, \"2024-06-28\", 13.42, 197.88, 5.287661, 2.596746, 1.399685, -4.804312, -2.053526, -2.631622, 0.086636], [518, \"2024-07-01\", 13.92, 209.86, 5.346441, 2.633327, 1.324853, -4.449922, -1.730163, -2.641714, 0.084679], [519, \"2024-07-02\", 14.89, 231.26, 5.443543, 2.70069, 1.176309, -3.7026, -1.416001, -2.607367, 0.091484], [520, \"2024-07-03\", 14.65, 246.39, 5.506916, 2.68444, 0.984206, -2.735499, -1.12261, -2.541492, 0.105702], [521, \"2024-07-05\", 14.79, 251.52, 5.527523, 2.693951, 0.902829, -2.296454, -0.966911, -2.562153, 0.101075], [522, \"2024-07-08\", 15.49, 252.94, 5.533152, 2.740195, 0.900988, -2.245108, -0.906718, -2.551316, 0.103482], [523, \"2024-07-09\", 15.71, 262.33, 5.569603, 2.754297, 0.883898, -2.168662, -0.843546, -2.531237, 0.108058], [524, \"2024-07-10\", 16.37, 263.26, 5.573142, 2.79545, 0.917147, -2.315941, -0.79391, -3.101811, 0.026419], [525, \"2024-07-11\", 16.76, 241.03, 5.484921, 2.818995, 0.998447, -2.657408, -0.777831, -2.854249, 0.050933], [526, \"2024-07-12\", 18.11, 248.23, 5.514356, 2.896464, 1.081082, -3.065004, -0.776687, -2.851191, 0.051325], [527, \"2024-07-15\", 17.5, 252.64, 5.531966, 2.862201, 1.101517, -3.231351, -0.730322, -2.597572, 0.0935], [528, \"2024-07-16\", 17.94, 256.56, 5.547363, 2.887033, 1.121236, -3.332872, -0.676738, -2.644821, 0.084083], [529, \"2024-07-17\", 17.19, 248.5, 5.515443, 2.844328, 1.108454, -3.269289, -0.586438, -2.542108, 0.105562], [530, \"2024-07-18\", 16.9, 249.23, 5.518376, 2.827314, 1.086564, -3.168756, -0.486509, -2.559575, 0.101643], [531, \"2024-07-19\", 16.75, 239.2, 5.4773, 2.818398, 1.016479, -2.74916, -0.294736, -2.638238, 0.085349], [532, \"2024-07-22\", 17.22, 251.51, 5.527483, 2.846071, 0.903525, -2.148146, -0.006635, -2.616053, 0.089725], [533, \"2024-07-23\", 17.5, 246.38, 5.506875, 2.862201, 0.785611, -1.464059, 0.562614, -2.627701, 0.087406], [534, \"2024-07-24\", 16.27, 215.99, 5.375232, 2.789323, 0.608592, -0.481999, 2.281913, -2.55505, 0.102648], [535, \"2024-07-25\", 16.25, 220.25, 5.394763, 2.788093, 0.620286, -0.558202, 1.928848, -2.618806, 0.089172], [536, \"2024-07-26\", 16.21, 219.8, 5.392718, 2.785628, 0.598142, -0.439981, 1.790667, -2.574079, 0.098474], [537, \"2024-07-29\", 16.3, 232.1, 5.447168, 2.791165, 0.41351, 0.538704, 2.259746, -2.580542, 0.097086], [538, \"2024-07-30\", 16.22, 222.62, 5.405466, 2.786245, 0.170115, 1.866696, 2.631414, -2.61018, 0.090911], [539, \"2024-07-31\", 16.41, 232.07, 5.447039, 2.797891, 0.104973, 2.226097, 2.328262, -2.619362, 0.089061], [540, \"2024-08-01\", 15.24, 216.86, 5.379252, 2.723924, 0.229801, 1.487765, 1.643637, -2.621414, 0.088652], [541, \"2024-08-02\", 14.72, 207.67, 5.33595, 2.689207, 0.413384, 0.483409, 0.987162, -2.650482, 0.083006], [542, \"2024-08-05\", 14.61, 198.88, 5.292702, 2.681706, 0.531341, -0.130522, 0.594576, -2.668853, 0.079585], [543, \"2024-08-06\", 14.8, 200.64, 5.301512, 2.694627, 0.650835, -0.755784, 0.219165, -2.671568, 0.079089], [544, \"2024-08-07\", 13.79, 191.76, 5.256245, 2.623944, 0.788936, -1.522899, -0.222279, -2.659908, 0.081237], [545, \"2024-08-08\", 14.72, 198.84, 5.2925, 2.689207, 0.786712, -1.474467, -0.232486, -2.638928, 0.085216], [546, \"2024-08-09\", 13.95, 200.0, 5.298317, 2.63548, 0.796389, -1.58404, -0.346579, -2.657085, 0.081763], [547, \"2024-08-12\", 13.39, 197.49, 5.285688, 2.594508, 0.851059, -1.903923, -0.593094, -2.63446, 0.086082], [548, \"2024-08-13\", 13.54, 207.83, 5.33672, 2.605648, 0.881846, -2.100515, -0.783028, -2.595788, 0.093871], [549, \"2024-08-14\", 13.25, 201.38, 5.305194, 2.583998, 0.937916, -2.391827, -1.032637, -2.577305, 0.097779], [550, \"2024-08-15\", 13.76, 214.14, 5.36663, 2.621766, 0.984598, -2.662205, -1.256823, -2.542794, 0.105406], [551, \"2024-08-16\", 13.21, 216.12, 5.375834, 2.580974, 0.978258, -2.677977, -1.273931, -2.5497, 0.103845], [552, \"2024-08-19\", 13.53, 222.72, 5.405915, 2.604909, 0.939507, -2.473985, -1.112669, -2.592744, 0.094506], [553, \"2024-08-20\", 13.2, 221.1, 5.398615, 2.580217, 0.757895, -1.511368, -0.470529, -2.774982, 0.061937], [554, \"2024-08-21\", 13.07, 223.27, 5.408382, 2.57032, 0.603211, -0.692076, 0.081019, -2.678213, 0.077885], [555, \"2024-08-22\", 12.81, 210.66, 5.350245, 2.550226, 0.548406, -0.383881, 0.279875, -2.51077, 0.112876], [556, \"2024-08-23\", 13.96, 220.32, 5.395081, 2.636196, 0.45187, 0.198321, 0.639172, -2.510323, 0.112983], [557, \"2024-08-26\", 14.36, 213.21, 5.362278, 2.664447, 0.273528, 1.197716, 1.244979, -2.521003, 0.110447], [558, \"2024-08-27\", 14.48, 209.21, 5.343339, 2.672768, 0.121823, 2.021826, 1.753643, -2.520369, 0.110597], [559, \"2024-08-28\", 13.83, 205.75, 5.326662, 2.62684, -0.273531, 4.083846, 2.633092, -2.50359, 0.114603], [560, \"2024-08-29\", 14.09, 206.28, 5.329234, 2.645465, -0.389118, 4.719167, 2.45992, -2.373188, 0.149447], [561, \"2024-08-30\", 14.13, 214.11, 5.36649, 2.6483, -0.360693, 4.583955, 2.030898, -2.381288, 0.147088], [562, \"2024-09-03\", 13.15, 210.6, 5.349961, 2.576422, -0.315077, 4.262069, 1.66101, -2.433467, 0.132512], [563, \"2024-09-04\", 13.28, 219.41, 5.390942, 2.586259, -0.260032, 3.988076, 1.386856, -2.82603, 0.054651], [564, \"2024-09-05\", 13.74, 230.17, 5.438818, 2.620311, -0.232416, 3.884378, 1.211624, -2.861866, 0.049966], [565, \"2024-09-06\", 13.23, 210.73, 5.350578, 2.582487, -0.090765, 3.068135, 0.83738, -2.660119, 0.081197], [566, \"2024-09-09\", 13.08, 216.27, 5.376528, 2.571084, -0.058893, 2.887725, 0.698509, -2.811302, 0.056677], [567, \"2024-09-10\", 13.23, 226.17, 5.421287, 2.582487, -0.163922, 3.471157, 0.816725, -3.187166, 0.02074], [568, \"2024-09-11\", 13.93, 228.13, 5.429916, 2.634045, -0.087124, 3.107119, 0.611966, -2.633191, 0.08633], [569, \"2024-09-12\", 13.72, 229.81, 5.437253, 2.618855, -0.140324, 3.381833, 0.63549, -3.136747, 0.023951], [570, \"2024-09-13\", 13.5, 230.29, 5.439339, 2.60269, -0.128205, 3.300041, 0.529273, -2.823773, 0.054957], [571, \"2024-09-16\", 13.2, 226.78, 5.42398, 2.580217, -0.169989, 3.502232, 0.5411, -3.326993, 0.013714], [572, \"2024-09-17\", 13.1, 227.87, 5.428775, 2.572612, -0.209566, 3.710296, 0.574274, -3.873924, 0.002235], [573, \"2024-09-18\", 12.9, 227.2, 5.425831, 2.557227, -0.251835, 3.92364, 0.630296, -2.947381, 0.040109], [574, \"2024-09-19\", 13.15, 243.92, 5.49684, 2.576422, -0.245352, 3.925081, 0.568792, -1.868587, 0.34698], [575, \"2024-09-20\", 11.71, 238.25, 5.473321, 2.460443, -0.526024, 5.339542, 1.609367, -2.115857, 0.238187], [576, \"2024-09-23\", 11.91, 250.0, 5.521461, 2.477378, -0.63726, 5.995983, 2.152005, -1.231441, 0.659927], [577, \"2024-09-24\", 11.84, 254.27, 5.538397, 2.471484, -0.669087, 6.177154, 2.167875, -1.128458, 0.703591], [578, \"2024-09-25\", 11.03, 257.02, 5.549154, 2.400619, -0.766966, 6.656632, 2.277566, -1.050409, 0.734438], [579, \"2024-09-26\", 11.17, 254.22, 5.5382, 2.413232, -0.877489, 7.272939, 2.279776, -0.659796, 0.85689], [580, \"2024-09-27\", 11.6, 260.46, 5.562449, 2.451005, -0.88408, 7.368657, 1.992527, -0.565882, 0.878506], [581, \"2024-09-30\", 11.22, 261.63, 5.566931, 2.417698, -0.888376, 7.363225, 1.728964, -0.811377, 0.815757], [582, \"2024-10-01\", 10.44, 258.02, 5.553037, 2.345645, -1.073765, 8.308302, 1.955004, -0.866703, 0.79874], [583, \"2024-10-02\", 10.64, 249.02, 5.517533, 2.36462, -1.154484, 8.734526, 1.863919, -0.418691, 0.906931], [584, \"2024-10-03\", 10.78, 240.66, 5.483385, 2.377693, -1.134747, 8.59995, 1.572484, -0.592052, 0.872768], [585, \"2024-10-04\", 10.44, 250.08, 5.521781, 2.345645, -1.326703, 9.67141, 1.802143, -0.909689, 0.784765], [586, \"2024-10-07\", 10.49, 240.83, 5.484091, 2.350422, -1.4489, 10.29632, 1.810227, -0.303288, 0.925037], [587, \"2024-10-08\", 10.47, 244.5, 5.499215, 2.348514, -1.457608, 10.364215, 1.617927, -0.363312, 0.916047], [588, \"2024-10-09\", 10.42, 241.05, 5.485004, 2.343727, -1.306235, 9.50843, 1.156882, -0.551867, 0.881492], [589, \"2024-10-10\", 10.26, 238.77, 5.475501, 2.328253, -1.080103, 8.242357, 0.565866, -1.089042, 0.719422], [590, \"2024-10-11\", 10.5, 217.8, 5.383577, 2.351375, -0.481263, 4.94229, -0.915436, -1.417905, 0.573663], [591, \"2024-10-14\", 10.35, 219.16, 5.389802, 2.336987, -0.064011, 2.68199, -1.844594, -2.046843, 0.266419], [592, \"2024-10-15\", 10.15, 219.57, 5.391671, 2.317474, 0.265394, 0.886558, -2.284984, -1.969866, 0.29994], [593, \"2024-10-16\", 10.24, 221.33, 5.399655, 2.326302, 0.508789, -0.420981, -2.339935, -1.867364, 0.347566], [594, \"2024-10-17\", 10.12, 220.89, 5.397665, 2.314514, 0.516958, -0.47585, -2.0475, -2.086117, 0.250134], [595, \"2024-10-18\", 10.04, 220.7, 5.396804, 2.306577, 0.552744, -0.676475, -1.826463, -2.171977, 0.216573], [596, \"2024-10-21\", 10.03, 218.85, 5.388387, 2.305581, 0.519955, -0.496137, -1.570227, -1.979807, 0.295497], [597, \"2024-10-22\", 10.49, 217.97, 5.384357, 2.350422, 0.426095, 0.056177, -1.290833, -1.939544, 0.313693], [598, \"2024-10-23\", 10.16, 213.65, 5.364339, 2.318458, 0.407186, 0.134177, -1.15198, -2.096761, 0.245819], [599, \"2024-10-24\", 10.43, 260.48, 5.562526, 2.344686, 0.333488, 0.489652, -0.971837, -2.126549, 0.233974], [600, \"2024-10-25\", 10.45, 269.19, 5.595417, 2.346602, 0.210503, 1.168749, -0.743325, -2.211352, 0.202151], [601, \"2024-10-28\", 10.86, 262.51, 5.570289, 2.385086, 0.178583, 1.390326, -0.626723, -2.258471, 0.185712], [602, \"2024-10-29\", 10.47, 259.52, 5.558834, 2.348514, 0.179626, 1.350003, -0.566226, -2.265425, 0.183362], [603, \"2024-10-30\", 10.39, 257.55, 5.551214, 2.340844, 0.160883, 1.447749, -0.474454, -2.343058, 0.158457], [604, \"2024-10-31\", 10.1, 249.85, 5.520861, 2.312535, 0.138592, 1.547386, -0.382145, -2.240293, 0.191948], [605, \"2024-11-01\", 10.18, 248.98, 5.517373, 2.320425, 0.127529, 1.616803, -0.287161, -2.320641, 0.165397], [606, \"2024-11-04\", 10.29, 242.84, 5.492403, 2.331173, 0.123888, 1.65073, -0.185779, -2.440174, 0.130717], [607, \"2024-11-05\", 10.59, 251.44, 5.527204, 2.35991, 0.130369, 1.639332, -0.071148, -2.476678, 0.121252], [608, \"2024-11-06\", 9.71, 288.53, 5.664799, 2.273156, 0.024539, 2.134147, 0.323961, -2.590262, 0.095027], [609, \"2024-11-07\", 10.05, 296.91, 5.693429, 2.307573, -0.005174, 2.337029, 0.871737, -2.736911, 0.067866], [610, \"2024-11-08\", 10.59, 321.22, 5.772126, 2.35991, 0.03645, 2.149517, 1.080373, -2.737359, 0.067794], [611, \"2024-11-11\", 11.04, 350.0, 5.857933, 2.401525, 0.093684, 1.852732, 0.880103, -2.699012, 0.074209], [612, \"2024-11-12\", 10.58, 328.49, 5.794506, 2.358965, 0.092862, 1.820878, 0.786448, -2.417448, 0.136872], [613, \"2024-11-13\", 12.03, 330.24, 5.79982, 2.487404, 0.162518, 1.54483, 0.435803, -2.433489, 0.132506], [614, \"2024-11-14\", 10.31, 311.18, 5.740372, 2.333114, 0.148408, 1.481196, 0.288172, -2.53725, 0.106672], [615, \"2024-11-15\", 10.06, 320.72, 5.770568, 2.308567, 0.118703, 1.623585, 0.372817, -2.47204, 0.122426], [616, \"2024-11-18\", 10.07, 338.74, 5.825233, 2.309561, 0.081452, 1.835084, 0.610821, -2.360349, 0.153242], [617, \"2024-11-19\", 10.17, 346.0, 5.846439, 2.319442, 0.077124, 1.868542, 0.609848, -2.354309, 0.15505], [618, \"2024-11-20\", 10.05, 342.03, 5.834898, 2.307573, 0.049996, 2.015848, 0.91455, -2.21377, 0.201286], [619, \"2024-11-21\", 10.02, 339.64, 5.827886, 2.304583, 0.033593, 2.108807, 1.2303, -2.310378, 0.168643], [620, \"2024-11-22\", 10.24, 352.56, 5.865221, 2.326302, 0.026779, 2.169238, 1.328133, -2.292003, 0.17456], [621, \"2024-11-25\", 11.6, 338.59, 5.82479, 2.451005, 0.081251, 1.977735, 0.600167, -2.271867, 0.181202], [622, \"2024-11-26\", 11.55, 338.23, 5.823726, 2.446685, 0.117835, 1.760449, -0.263059, -2.231309, 0.195079], [623, \"2024-11-27\", 12.22, 332.89, 5.807812, 2.503074, 0.158575, 1.582102, -1.006141, -2.222343, 0.198237], [624, \"2024-11-29\", 12.23, 345.16, 5.844008, 2.503892, 0.19459, 1.366706, -1.730274, -2.22415, 0.197598], [625, \"2024-12-02\", 11.87, 357.09, 5.877988, 2.474014, 0.237325, 1.07902, -2.31402, -2.213853, 0.201256], [626, \"2024-12-03\", 11.88, 351.42, 5.861982, 2.474856, 0.334561, 0.513667, -2.901332, -2.19016, 0.209836], [627, \"2024-12-04\", 11.96, 357.93, 5.880337, 2.481568, 0.712068, -1.705634, -3.726254, -2.165714, 0.218924], [628, \"2024-12-05\", 12.34, 369.49, 5.912124, 2.512846, 0.777236, -2.082269, -2.896342, -1.588191, 0.489523], [629, \"2024-12-06\", 13.0, 389.22, 5.964145, 2.564949, 0.949892, -3.100341, -2.742237, -1.842769, 0.359444], [630, \"2024-12-09\", 14.45, 389.79, 5.965608, 2.670694, 1.231156, -4.6739, -2.74479, -1.505624, 0.530727], [631, \"2024-12-10\", 14.06, 400.99, 5.993936, 2.643334, 1.293343, -5.108883, -2.345489, -1.14005, 0.698839], [632, \"2024-12-11\", 13.76, 424.77, 6.051548, 2.621766, 1.169921, -4.458065, -1.775838, -1.383943, 0.589949], [633, \"2024-12-12\", 14.2, 418.1, 6.035721, 2.653242, 1.237243, -4.814413, -1.662887, -1.773468, 0.393711], [634, \"2024-12-13\", 14.37, 436.23, 6.07817, 2.665143, 1.227876, -4.798096, -1.464252, -1.484703, 0.541065], [635, \"2024-12-16\", 15.34, 463.02, 6.13777, 2.730464, 1.161495, -4.398525, -1.1925, -1.564146, 0.501575], [636, \"2024-12-17\", 14.7, 479.86, 6.173494, 2.687847, 1.010474, -3.550308, -0.820838, -1.682556, 0.440122], [637, \"2024-12-18\", 13.06, 440.13, 6.08707, 2.569554, 0.908661, -2.961527, -0.552322, -1.999096, 0.28697], [638, \"2024-12-19\", 13.06, 436.17, 6.078032, 2.569554, 0.812129, -2.366594, -0.282735, -2.100481, 0.244321], [639, \"2024-12-20\", 13.83, 421.06, 6.042775, 2.62684, 0.741676, -1.85494, -0.031357, -2.09893, 0.244945], [640, \"2024-12-23\", 13.75, 430.6, 6.06518, 2.621039, 0.66713, -1.425226, 0.209754, -2.148367, 0.225516], [641, \"2024-12-24\", 14.06, 462.28, 6.136171, 2.643334, 0.630025, -1.222606, 0.379815, -2.658349, 0.081527], [642, \"2024-12-26\", 14.04, 454.13, 6.118384, 2.64191, 0.594788, -0.997231, 0.575674, -2.652226, 0.082676], [643, \"2024-12-27\", 13.65, 431.66, 6.067638, 2.61374, 0.621119, -1.154986, 0.615522, -2.580128, 0.097174], [644, \"2024-12-30\", 13.58, 417.41, 6.034069, 2.608598, 0.637039, -1.235337, 0.703955, -3.555868, 0.006663], [645, \"2024-12-31\", 13.3, 403.84, 6.001019, 2.587764, 0.597899, -1.000237, 0.97875, -3.830207, 0.002613], [646, \"2025-01-02\", 13.25, 379.28, 5.938275, 2.583998, 0.522812, -0.520601, 1.374046, -4.012745, 0.001345], [647, \"2025-01-03\", 16.49, 410.44, 6.01723, 2.802754, 0.370578, 0.572901, 1.825221, -3.659666, 0.004718], [648, \"2025-01-06\", 15.71, 411.05, 6.018715, 2.754297, 0.184337, 1.644824, 2.054069, -3.3977, 0.011038], [649, \"2025-01-07\", 14.95, 394.36, 5.977264, 2.704711, 0.031547, 2.516144, 2.066555, -1.800588, 0.38017], [650, \"2025-01-08\", 14.21, 394.94, 5.978734, 2.653946, 0.053955, 2.331366, 1.733343, -1.685448, 0.438625], [651, \"2025-01-10\", 13.85, 394.74, 5.978227, 2.628285, 0.068966, 2.21599, 1.516634, -1.689995, 0.436275], [652, \"2025-01-13\", 13.49, 403.31, 5.999705, 2.601949, 0.098338, 2.011949, 1.29462, -1.607162, 0.479995], [653, \"2025-01-14\", 13.34, 396.36, 5.982323, 2.590767, 0.139881, 1.753953, 1.091026, -1.712213, 0.424831], [654, \"2025-01-15\", 13.94, 428.22, 6.059637, 2.634762, 0.130555, 1.843649, 1.052214, -1.758016, 0.401496], [655, \"2025-01-16\", 14.44, 413.82, 6.025431, 2.670002, 0.015273, 2.577979, 1.310242, -1.67053, 0.446357], [656, \"2025-01-17\", 14.21, 426.5, 6.055612, 2.653946, -0.108484, 3.31088, 1.540511, -1.451294, 0.557453], [657, \"2025-01-21\", 13.29, 424.07, 6.049899, 2.587012, -0.053544, 2.910946, 1.233755, -1.379921, 0.591863], [658, \"2025-01-22\", 12.69, 415.11, 6.028544, 2.540814, 0.020722, 2.415894, 0.887475, -1.606528, 0.480314], [659, \"2025-01-23\", 12.49, 412.38, 6.021945, 2.524928, 0.038985, 2.29016, 0.73809, -1.701313, 0.430436], [660, \"2025-01-24\", 12.77, 406.58, 6.007781, 2.547099, 0.084233, 2.041046, 0.516056, -1.628729, 0.468156], [661, \"2025-01-27\", 12.85, 397.15, 5.984314, 2.553344, 0.139891, 1.716191, 0.236587, -1.646946, 0.458634], [662, \"2025-01-28\", 12.71, 398.09, 5.986678, 2.542389, 0.209518, 1.28807, -0.135616, -1.69983, 0.4312], [663, \"2025-01-29\", 12.42, 389.1, 5.963836, 2.519308, 0.455669, -0.198226, -1.31651, -1.747156, 0.406995], [664, \"2025-01-30\", 12.51, 400.28, 5.992164, 2.526528, 0.534962, -0.67905, -1.783028, -1.823407, 0.368904], [665, \"2025-01-31\", 12.56, 404.6, 6.002899, 2.530517, 0.534564, -0.678414, -1.843873, -1.810275, 0.375372], [666, \"2025-02-03\", 12.39, 383.68, 5.949809, 2.51689, 0.768519, -2.055654, -2.546723, -1.832225, 0.364584], [667, \"2025-02-04\", 12.87, 392.21, 5.971797, 2.554899, 0.649509, -1.323836, -1.792578, -1.684059, 0.439344], [668, \"2025-02-05\", 12.77, 378.17, 5.935344, 2.547099, 0.509089, -0.474521, -1.122626, -1.816806, 0.37215], [669, \"2025-02-06\", 12.8, 374.32, 5.925111, 2.549445, 0.584755, -0.915295, -1.257213, -1.851846, 0.355042], [670, \"2025-02-07\", 12.48, 361.62, 5.890594, 2.524127, 0.582485, -0.907056, -1.128364, -1.71023, 0.42585], [671, \"2025-02-10\", 12.99, 350.73, 5.860017, 2.56418, 0.419723, 0.104599, -0.456947, -1.762494, 0.399235], [672, \"2025-02-11\", 12.44, 328.5, 5.794537, 2.520917, 0.334648, 0.581785, -0.123012, -1.768571, 0.396173], [673, \"2025-02-12\", 12.48, 336.51, 5.818628, 2.524127, 0.308618, 0.728394, -0.000303, -1.790117, 0.385379], [674, \"2025-02-13\", 13.3, 355.94, 5.874762, 2.587764, 0.216406, 1.31643, 0.388273, -1.83174, 0.364821], [675, \"2025-02-14\", 14.03, 355.84, 5.874481, 2.641198, 0.073761, 2.207892, 0.976807, -1.810122, 0.375448], [676, \"2025-02-18\", 14.44, 354.11, 5.869608, 2.670002, -0.116576, 3.35426, 1.706007, -1.710844, 0.425534], [677, \"2025-02-19\", 13.93, 360.56, 5.887658, 2.634045, -0.211998, 3.882215, 1.908256, -1.579121, 0.494073], [678, \"2025-02-20\", 13.61, 354.4, 5.870426, 2.610805, -0.244956, 4.0488, 1.823344, -1.58473, 0.491259], [679, \"2025-02-21\", 12.97, 337.8, 5.822454, 2.562639, -0.207449, 3.770499, 1.543445, -1.600126, 0.48353], [680, \"2025-02-24\", 11.96, 330.53, 5.800697, 2.481568, -0.089197, 2.998973, 1.079504, -1.66292, 0.450311], [681, \"2025-02-25\", 11.45, 302.8, 5.713073, 2.43799, 0.126088, 1.717639, 0.408219, -1.836399, 0.362546], [682, \"2025-02-26\", 11.4, 290.8, 5.672636, 2.433613, 0.270384, 0.899823, -0.010036, -2.05962, 0.261058], [683, \"2025-02-27\", 11.6, 281.95, 5.64173, 2.451005, 0.3381, 0.543538, -0.218094, -2.063828, 0.259306], [684, \"2025-02-28\", 11.84, 292.98, 5.680104, 2.471484, 0.39548, 0.225117, -0.417087, -2.033385, 0.27213], [685, \"2025-03-03\", 11.51, 284.65, 5.65126, 2.443216, 0.479761, -0.268036, -0.699636, -2.005115, 0.284335], [686, \"2025-03-04\", 11.26, 272.04, 5.605949, 2.421257, 0.538174, -0.595718, -0.970792, -2.066646, 0.258136], [687, \"2025-03-05\", 11.42, 279.1, 5.63157, 2.435366, 0.591097, -0.893439, -1.173697, -2.050241, 0.264987], [688, \"2025-03-06\", 11.03, 263.45, 5.573864, 2.400619, 0.63065, -1.114539, -1.257059, -2.27643, 0.179683], [689, \"2025-03-07\", 11.17, 262.67, 5.570898, 2.413232, 0.657483, -1.24954, -1.308545, -2.748396, 0.066032], [690, \"2025-03-10\", 10.96, 222.15, 5.403353, 2.394252, 0.585452, -0.769149, -1.04578, -2.658481, 0.081502], [691, \"2025-03-11\", 10.79, 230.58, 5.440598, 2.37862, 0.562734, -0.682987, -0.957554, -2.340249, 0.159315], [692, \"2025-03-12\", 11.06, 248.09, 5.513792, 2.403335, 0.560277, -0.685915, -0.90429, -2.948322, 0.04001], [693, \"2025-03-13\", 10.61, 240.68, 5.483468, 2.361797, 0.57454, -0.788677, -0.898616, -2.971765, 0.037617], [694, \"2025-03-14\", 10.75, 249.98, 5.521381, 2.374906, 0.582738, -0.842612, -0.853269, -2.852746, 0.051125], [695, \"2025-03-17\", 11.02, 238.01, 5.472313, 2.399712, 0.541855, -0.56549, -0.638305, -2.56617, 0.100193], [696, \"2025-03-18\", 11.2, 225.31, 5.417477, 2.415914, 0.450211, -0.023095, -0.280124, -2.660398, 0.081145], [697, \"2025-03-19\", 11.36, 235.86, 5.463238, 2.430098, 0.375071, 0.380995, 0.047034, -2.661382, 0.080963], [698, \"2025-03-20\", 10.88, 236.26, 5.464933, 2.386926, 0.301335, 0.740149, 0.443367, -2.658644, 0.081472], [699, \"2025-03-21\", 11.6, 248.71, 5.516288, 2.451005, 0.219285, 1.241366, 1.127412, -2.662713, 0.080716], [700, \"2025-03-24\", 12.19, 278.39, 5.629023, 2.500616, 0.234198, 1.182312, 1.426001, -2.725817, 0.069676], [701, \"2025-03-25\", 12.36, 288.14, 5.663446, 2.514465, 0.302263, 0.802617, 1.148858, -2.740479, 0.067292], [702, \"2025-03-26\", 12.1, 272.06, 5.606023, 2.493205, 0.346027, 0.553368, 0.882584, -2.910819, 0.044104], [703, \"2025-03-27\", 13.02, 273.13, 5.609948, 2.566487, 0.404548, 0.296996, 0.579093, -2.957708, 0.039037], [704, \"2025-03-28\", 12.41, 263.55, 5.574243, 2.518503, 0.441837, 0.055594, 0.280457, -2.89844, 0.04553], [705, \"2025-03-31\", 12.45, 259.16, 5.557446, 2.521721, 0.498607, -0.249262, -0.114991, -2.804298, 0.057662], [706, \"2025-04-01\", 13.28, 268.46, 5.592702, 2.586259, 0.593491, -0.73296, -0.727309, -2.598622, 0.093282], [707, \"2025-04-02\", 12.49, 282.76, 5.644598, 2.524928, 0.663671, -1.221229, -1.301616, -2.463718, 0.124553], [708, \"2025-04-03\", 11.53, 267.28, 5.588297, 2.444952, 0.66968, -1.297417, -1.364838, -2.41832, 0.136632], [709, \"2025-04-04\", 11.21, 239.43, 5.478261, 2.416806, 0.689992, -1.363151, -1.424663, -2.355535, 0.154681], [710, \"2025-04-07\", 11.21, 233.29, 5.452282, 2.416806, 0.711856, -1.464435, -1.436818, -2.3484, 0.156832], [711, \"2025-04-08\", 10.8, 221.86, 5.402047, 2.379546, 0.683049, -1.310318, -1.181293, -2.281905, 0.17787], [712, \"2025-04-09\", 11.77, 272.2, 5.606537, 2.465554, 0.652059, -1.190237, -0.995133, -2.315998, 0.16686], [713, \"2025-04-10\", 11.46, 252.52, 5.53149, 2.438863, 0.623574, -1.01043, -0.777501, -2.395515, 0.143006]];\n",
       "\n",
       "        // Define the dt_args\n",
       "        let dt_args = {\"layout\": {\"topStart\": \"pageLength\", \"topEnd\": \"search\", \"bottomStart\": \"info\", \"bottomEnd\": \"paging\"}, \"order\": [], \"warn_on_selected_rows_not_rendered\": true};\n",
       "        dt_args[\"data\"] = data;\n",
       "\n",
       "        \n",
       "        new DataTable(table, dt_args);\n",
       "    });\n",
       "</script>\n"
      ],
      "text/plain": [
       "<IPython.core.display.HTML object>"
      ]
     },
     "metadata": {},
     "output_type": "display_data"
    }
   ],
   "source": [
    "display(HTML(html))"
   ]
  }
 ],
 "metadata": {
  "kernelspec": {
   "display_name": "venv",
   "language": "python",
   "name": "python3"
  },
  "language_info": {
   "codemirror_mode": {
    "name": "ipython",
    "version": 3
   },
   "file_extension": ".py",
   "mimetype": "text/x-python",
   "name": "python",
   "nbconvert_exporter": "python",
   "pygments_lexer": "ipython3",
   "version": "3.13.1"
  }
 },
 "nbformat": 4,
 "nbformat_minor": 5
}
