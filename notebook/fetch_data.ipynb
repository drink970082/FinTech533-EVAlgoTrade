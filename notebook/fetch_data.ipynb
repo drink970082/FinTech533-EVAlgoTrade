{
 "cells": [
  {
   "cell_type": "code",
   "execution_count": null,
   "id": "5df9f6d0",
   "metadata": {},
   "outputs": [
    {
     "name": "stdout",
     "output_type": "stream",
     "text": [
      "Processing pair: TSLA & RIVN\n",
      "OLS Coefficients: {'const': 1.2571776665748795, 'log_close': 0.2952130846949657}, OLS p-value: 0.0000, OLS R-squared: 0.0357\n",
      "Test Statistic: -2.079, p-value: 0.4875 Critical Values: [-3.91112179 -3.34429984 -3.05011733]\n",
      "r-square > 0.5? No\n",
      "Is cointegrated? No\n",
      "--------------------------------------------------\n",
      "Processing pair: TSLA & LCID\n",
      "OLS Coefficients: {'const': 2.038210342954358, 'log_close': -0.056926868044363615}, OLS p-value: 0.5626, OLS R-squared: 0.0004\n",
      "Test Statistic: -2.675, p-value: 0.2087 Critical Values: [-3.91112179 -3.34429984 -3.05011733]\n",
      "r-square > 0.5? No\n",
      "Is cointegrated? No\n",
      "--------------------------------------------------\n",
      "Processing pair: TSLA & F\n",
      "OLS Coefficients: {'const': 2.883557504363676, 'log_close': -0.07260837866851659}, OLS p-value: 0.0000, OLS R-squared: 0.0225\n",
      "Test Statistic: -3.026, p-value: 0.1041 Critical Values: [-3.91112179 -3.34429984 -3.05011733]\n",
      "r-square > 0.5? No\n",
      "Is cointegrated? No\n",
      "--------------------------------------------------\n",
      "Processing pair: TSLA & GM\n",
      "OLS Coefficients: {'const': 2.436088367114387, 'log_close': 0.22869205224768313}, OLS p-value: 0.0000, OLS R-squared: 0.1254\n",
      "Test Statistic: -2.568, p-value: 0.2500 Critical Values: [-3.91112179 -3.34429984 -3.05011733]\n",
      "r-square > 0.5? No\n",
      "Is cointegrated? No\n",
      "--------------------------------------------------\n",
      "Processing pair: TSLA & NIO\n",
      "OLS Coefficients: {'const': 2.108930922800319, 'log_close': -0.004118562432248299}, OLS p-value: 0.9546, OLS R-squared: 0.0000\n",
      "Test Statistic: -2.659, p-value: 0.2148 Critical Values: [-3.91112179 -3.34429984 -3.05011733]\n",
      "r-square > 0.5? No\n",
      "Is cointegrated? No\n",
      "--------------------------------------------------\n",
      "Processing pair: TSLA & XPEV\n",
      "OLS Coefficients: {'const': -1.9076822124041628, 'log_close': 0.8158845299186978}, OLS p-value: 0.0000, OLS R-squared: 0.2771\n",
      "Test Statistic: -3.088, p-value: 0.0907 Critical Values: [-3.91112179 -3.34429984 -3.05011733]\n",
      "r-square > 0.5? No\n",
      "Is cointegrated? No\n",
      "--------------------------------------------------\n",
      "Processing pair: TSLA & BYDDF\n",
      "OLS Coefficients: {'const': 1.5848812694566605, 'log_close': 0.33861387726114794}, OLS p-value: 0.0000, OLS R-squared: 0.2654\n",
      "Test Statistic: -3.710, p-value: 0.0178 Critical Values: [-3.91112179 -3.34429984 -3.05011733]\n",
      "r-square > 0.5? No\n",
      "Is cointegrated? Yes\n",
      "--------------------------------------------------\n",
      "Processing pair: TSLA & LI\n",
      "OLS Coefficients: {'const': 2.5127623782846444, 'log_close': 0.14277832834396273}, OLS p-value: 0.0000, OLS R-squared: 0.0225\n",
      "Test Statistic: -2.696, p-value: 0.2012 Critical Values: [-3.91112179 -3.34429984 -3.05011733]\n",
      "r-square > 0.5? No\n",
      "Is cointegrated? No\n",
      "--------------------------------------------------\n",
      "Processing pair: RIVN & LCID\n",
      "OLS Coefficients: {'const': -2.5271209155515884, 'log_close': 1.4868793950452976}, OLS p-value: 0.0000, OLS R-squared: 0.7458\n",
      "Test Statistic: -2.535, p-value: 0.2636 Critical Values: [-3.91112179 -3.34429984 -3.05011733]\n",
      "r-square > 0.5? Yes\n",
      "Is cointegrated? No\n",
      "--------------------------------------------------\n",
      "Processing pair: RIVN & F\n",
      "OLS Coefficients: {'const': 1.9771158335493544, 'log_close': 0.17876507083974993}, OLS p-value: 0.0000, OLS R-squared: 0.3319\n",
      "Test Statistic: -2.315, p-value: 0.3660 Critical Values: [-3.91112179 -3.34429984 -3.05011733]\n",
      "r-square > 0.5? No\n",
      "Is cointegrated? No\n",
      "--------------------------------------------------\n",
      "Processing pair: RIVN & GM\n",
      "OLS Coefficients: {'const': 4.245502920514711, 'log_close': -0.19775248670466397}, OLS p-value: 0.0000, OLS R-squared: 0.2287\n",
      "Test Statistic: -2.925, p-value: 0.1291 Critical Values: [-3.91112179 -3.34429984 -3.05011733]\n",
      "r-square > 0.5? No\n",
      "Is cointegrated? No\n",
      "--------------------------------------------------\n",
      "Processing pair: RIVN & NIO\n",
      "OLS Coefficients: {'const': -1.0490950617094916, 'log_close': 1.095513553007514}, OLS p-value: 0.0000, OLS R-squared: 0.7493\n",
      "Test Statistic: -2.938, p-value: 0.1257 Critical Values: [-3.91112179 -3.34429984 -3.05011733]\n",
      "r-square > 0.5? Yes\n",
      "Is cointegrated? No\n",
      "--------------------------------------------------\n",
      "Processing pair: RIVN & XPEV\n",
      "OLS Coefficients: {'const': 1.189534709894302, 'log_close': 0.46772410818784954}, OLS p-value: 0.0000, OLS R-squared: 0.2220\n",
      "Test Statistic: -1.538, p-value: 0.7465 Critical Values: [-3.91112179 -3.34429984 -3.05011733]\n",
      "r-square > 0.5? No\n",
      "Is cointegrated? No\n",
      "--------------------------------------------------\n",
      "Processing pair: RIVN & BYDDF\n",
      "OLS Coefficients: {'const': 3.5690262359480953, 'log_close': -0.04999668583167051}, OLS p-value: 0.0011, OLS R-squared: 0.0141\n",
      "Test Statistic: -2.180, p-value: 0.4349 Critical Values: [-3.91112179 -3.34429984 -3.05011733]\n",
      "r-square > 0.5? No\n",
      "Is cointegrated? No\n",
      "--------------------------------------------------\n",
      "Processing pair: RIVN & LI\n",
      "OLS Coefficients: {'const': 3.117359905917674, 'log_close': 0.05998342167320451}, OLS p-value: 0.0070, OLS R-squared: 0.0097\n",
      "Test Statistic: -2.089, p-value: 0.4823 Critical Values: [-3.91112179 -3.34429984 -3.05011733]\n",
      "r-square > 0.5? No\n",
      "Is cointegrated? No\n",
      "--------------------------------------------------\n",
      "Processing pair: LCID & F\n",
      "OLS Coefficients: {'const': 2.2934755978050774, 'log_close': 0.11298119882881616}, OLS p-value: 0.0000, OLS R-squared: 0.3930\n",
      "Test Statistic: -2.736, p-value: 0.1870 Critical Values: [-3.91112179 -3.34429984 -3.05011733]\n",
      "r-square > 0.5? No\n",
      "Is cointegrated? No\n",
      "--------------------------------------------------\n",
      "Processing pair: LCID & GM\n",
      "OLS Coefficients: {'const': 3.9022991022405016, 'log_close': -0.12889065917460055}, OLS p-value: 0.0000, OLS R-squared: 0.2879\n",
      "Test Statistic: -2.531, p-value: 0.2656 Critical Values: [-3.91112179 -3.34429984 -3.05011733]\n",
      "r-square > 0.5? No\n",
      "Is cointegrated? No\n",
      "--------------------------------------------------\n",
      "Processing pair: LCID & NIO\n",
      "OLS Coefficients: {'const': 0.8946879223004889, 'log_close': 0.6894492496058484}, OLS p-value: 0.0000, OLS R-squared: 0.8798\n",
      "Test Statistic: -3.119, p-value: 0.0845 Critical Values: [-3.91112179 -3.34429984 -3.05011733]\n",
      "r-square > 0.5? Yes\n",
      "Is cointegrated? No\n",
      "--------------------------------------------------\n",
      "Processing pair: LCID & XPEV\n",
      "OLS Coefficients: {'const': 2.129773406183744, 'log_close': 0.23052275372509917}, OLS p-value: 0.0000, OLS R-squared: 0.1599\n",
      "Test Statistic: -0.785, p-value: 0.9367 Critical Values: [-3.91112179 -3.34429984 -3.05011733]\n",
      "r-square > 0.5? No\n",
      "Is cointegrated? No\n",
      "--------------------------------------------------\n",
      "Processing pair: LCID & BYDDF\n",
      "OLS Coefficients: {'const': 3.4691979374516704, 'log_close': -0.025033100814994852}, OLS p-value: 0.0050, OLS R-squared: 0.0105\n",
      "Test Statistic: -1.660, p-value: 0.6950 Critical Values: [-3.91112179 -3.34429984 -3.05011733]\n",
      "r-square > 0.5? No\n",
      "Is cointegrated? No\n",
      "--------------------------------------------------\n",
      "Processing pair: LCID & LI\n",
      "OLS Coefficients: {'const': 3.268773807909427, 'log_close': 0.011727679695088995}, OLS p-value: 0.3650, OLS R-squared: 0.0011\n",
      "Test Statistic: -1.588, p-value: 0.7260 Critical Values: [-3.91112179 -3.34429984 -3.05011733]\n",
      "r-square > 0.5? No\n",
      "Is cointegrated? No\n",
      "--------------------------------------------------\n",
      "Processing pair: F & GM\n",
      "OLS Coefficients: {'const': 4.4132271200697915, 'log_close': -0.29481890781369113}, OLS p-value: 0.0000, OLS R-squared: 0.0489\n",
      "Test Statistic: -3.090, p-value: 0.0904 Critical Values: [-3.91112179 -3.34429984 -3.05011733]\n",
      "r-square > 0.5? No\n",
      "Is cointegrated? No\n",
      "--------------------------------------------------\n",
      "Processing pair: F & NIO\n",
      "OLS Coefficients: {'const': -4.230679521018132, 'log_close': 2.5382726995863356}, OLS p-value: 0.0000, OLS R-squared: 0.3873\n",
      "Test Statistic: -4.368, p-value: 0.0020 Critical Values: [-3.91112179 -3.34429984 -3.05011733]\n",
      "r-square > 0.5? No\n",
      "Is cointegrated? Yes\n",
      "--------------------------------------------------\n",
      "Processing pair: F & XPEV\n",
      "OLS Coefficients: {'const': 2.2919676463126173, 'log_close': 0.09495001160931768}, OLS p-value: 0.4170, OLS R-squared: 0.0009\n",
      "Test Statistic: -2.580, p-value: 0.2450 Critical Values: [-3.91112179 -3.34429984 -3.05011733]\n",
      "r-square > 0.5? No\n",
      "Is cointegrated? No\n",
      "--------------------------------------------------\n",
      "Processing pair: F & BYDDF\n",
      "OLS Coefficients: {'const': 4.540621198347853, 'log_close': -0.4478882128488174}, OLS p-value: 0.0000, OLS R-squared: 0.1090\n",
      "Test Statistic: -3.176, p-value: 0.0739 Critical Values: [-3.91112179 -3.34429984 -3.05011733]\n",
      "r-square > 0.5? No\n",
      "Is cointegrated? No\n",
      "--------------------------------------------------\n",
      "Processing pair: F & LI\n",
      "OLS Coefficients: {'const': 2.990276100376557, 'log_close': 0.12004701298237816}, OLS p-value: 0.0945, OLS R-squared: 0.0037\n",
      "Test Statistic: -2.630, p-value: 0.2259 Critical Values: [-3.91112179 -3.34429984 -3.05011733]\n",
      "r-square > 0.5? No\n",
      "Is cointegrated? No\n",
      "--------------------------------------------------\n",
      "Processing pair: GM & NIO\n",
      "OLS Coefficients: {'const': 8.835093013638286, 'log_close': -1.8341026019329192}, OLS p-value: 0.0000, OLS R-squared: 0.3592\n",
      "Test Statistic: -2.959, p-value: 0.1202 Critical Values: [-3.91112179 -3.34429984 -3.05011733]\n",
      "r-square > 0.5? No\n",
      "Is cointegrated? No\n",
      "--------------------------------------------------\n",
      "Processing pair: GM & XPEV\n",
      "OLS Coefficients: {'const': 4.52846309608443, 'log_close': -0.5436045210465984}, OLS p-value: 0.0000, OLS R-squared: 0.0513\n",
      "Test Statistic: -2.042, p-value: 0.5064 Critical Values: [-3.91112179 -3.34429984 -3.05011733]\n",
      "r-square > 0.5? No\n",
      "Is cointegrated? No\n",
      "--------------------------------------------------\n",
      "Processing pair: GM & BYDDF\n",
      "OLS Coefficients: {'const': 2.3138998814750824, 'log_close': 0.3022224785110099}, OLS p-value: 0.0000, OLS R-squared: 0.0882\n",
      "Test Statistic: -1.926, p-value: 0.5666 Critical Values: [-3.91112179 -3.34429984 -3.05011733]\n",
      "r-square > 0.5? No\n",
      "Is cointegrated? No\n",
      "--------------------------------------------------\n",
      "Processing pair: GM & LI\n",
      "OLS Coefficients: {'const': 5.6988574982688815, 'log_close': -0.6549311815937437}, OLS p-value: 0.0000, OLS R-squared: 0.1974\n",
      "Test Statistic: -2.574, p-value: 0.2476 Critical Values: [-3.91112179 -3.34429984 -3.05011733]\n",
      "r-square > 0.5? No\n",
      "Is cointegrated? No\n",
      "--------------------------------------------------\n",
      "Processing pair: NIO & XPEV\n",
      "OLS Coefficients: {'const': 1.651898413850288, 'log_close': 0.4200160114269748}, OLS p-value: 0.0000, OLS R-squared: 0.2868\n",
      "Test Statistic: 0.493, p-value: 0.9926 Critical Values: [-3.91112179 -3.34429984 -3.05011733]\n",
      "r-square > 0.5? No\n",
      "Is cointegrated? No\n",
      "--------------------------------------------------\n",
      "Processing pair: NIO & BYDDF\n",
      "OLS Coefficients: {'const': 3.4583943001864146, 'log_close': -0.015562170560173207}, OLS p-value: 0.2006, OLS R-squared: 0.0022\n",
      "Test Statistic: -1.354, p-value: 0.8128 Critical Values: [-3.91112179 -3.34429984 -3.05011733]\n",
      "r-square > 0.5? No\n",
      "Is cointegrated? No\n",
      "--------------------------------------------------\n",
      "Processing pair: NIO & LI\n",
      "OLS Coefficients: {'const': 3.0289101474693503, 'log_close': 0.12467410210408512}, OLS p-value: 0.0000, OLS R-squared: 0.0670\n",
      "Test Statistic: -1.294, p-value: 0.8314 Critical Values: [-3.91112179 -3.34429984 -3.05011733]\n",
      "r-square > 0.5? No\n",
      "Is cointegrated? No\n",
      "--------------------------------------------------\n",
      "Processing pair: XPEV & BYDDF\n",
      "OLS Coefficients: {'const': 2.7519343358146973, 'log_close': 0.2665802263210637}, OLS p-value: 0.0000, OLS R-squared: 0.3952\n",
      "Test Statistic: -2.917, p-value: 0.1313 Critical Values: [-3.91112179 -3.34429984 -3.05011733]\n",
      "r-square > 0.5? No\n",
      "Is cointegrated? No\n",
      "--------------------------------------------------\n",
      "Processing pair: XPEV & LI\n",
      "OLS Coefficients: {'const': 2.479620504693174, 'log_close': 0.3201495092710305}, OLS p-value: 0.0000, OLS R-squared: 0.2718\n",
      "Test Statistic: -2.053, p-value: 0.5007 Critical Values: [-3.91112179 -3.34429984 -3.05011733]\n",
      "r-square > 0.5? No\n",
      "Is cointegrated? No\n",
      "--------------------------------------------------\n",
      "Processing pair: BYDDF & LI\n",
      "OLS Coefficients: {'const': 2.0611460771949726, 'log_close': 0.35841473305880933}, OLS p-value: 0.0000, OLS R-squared: 0.0613\n",
      "Test Statistic: -1.517, p-value: 0.7547 Critical Values: [-3.91112179 -3.34429984 -3.05011733]\n",
      "r-square > 0.5? No\n",
      "Is cointegrated? No\n",
      "--------------------------------------------------\n"
     ]
    }
   ],
   "source": [
    "import numpy as np\n",
    "import pandas as pd\n",
    "from script.data_pipeline import shinyDataFetcher\n",
    "import plotly.graph_objects as go\n",
    "import statsmodels.api as sm\n",
    "from statsmodels.tsa.stattools import coint, adfuller\n",
    "from statsmodels.regression.rolling import RollingOLS\n",
    "import matplotlib.pyplot as plt\n",
    "import itertools\n",
    "import warnings\n",
    "\n",
    "warnings.filterwarnings(\"ignore\")\n",
    "\n",
    "EV_stocks = [\"TSLA\", \"RIVN\", \"LCID\", \"F\", \"GM\", \"NIO\", \"XPEV\", \"BYDDF\", \"LI\"]\n",
    "EV_stocks_data = {}\n",
    "for stock in EV_stocks:\n",
    "    EV_stocks_data[stock] = shinyDataFetcher(asset=stock, durationStr=\"3 Y\", barSizeSetting=\"1 day\").fetch_asset_data()\n",
    "\n",
    "log_prices = {}\n",
    "for ticker in EV_stocks:\n",
    "    df_temp = EV_stocks_data[ticker].copy()\n",
    "    df_temp[\"log_close\"] = np.log(df_temp[\"close\"])\n",
    "    log_prices[ticker] = df_temp.set_index(\"timestamp\")[\"log_close\"].dropna()\n",
    "\n",
    "# Loop over all unique pairs\n",
    "for s1, s2 in itertools.combinations(EV_stocks, 2):\n",
    "    # Align datasets by timestamp\n",
    "    print(f\"Processing pair: {s1} & {s2}\")\n",
    "    df_pair = pd.concat([log_prices[s1], log_prices[s2]], axis=1).dropna()\n",
    "    if df_pair.empty:\n",
    "        continue\n",
    "\n",
    "    X = log_prices[s1]\n",
    "    Y = log_prices[s2]\n",
    "    X_const = sm.add_constant(X)  # Adds a constant term to the predictor\n",
    "    model = sm.OLS(Y, X_const).fit()\n",
    "    print(f\"OLS Coefficients: {model.params.to_dict()}, OLS p-value: {model.pvalues[1]:.4f}, OLS R-squared: {model.rsquared:.4f}\")\n",
    "\n",
    "    # Perform cointegration test\n",
    "    result = coint(df_pair.iloc[:, 0], df_pair.iloc[:, 1])\n",
    "    test_stat, p_value, crit_values = result\n",
    "\n",
    "    print(f\"Test Statistic: {test_stat:.3f}, p-value: {p_value:.4f}\", f\"Critical Values: {crit_values}\")\n",
    "    print(f\"r-square > 0.5? {'Yes' if model.rsquared > 0.5 else 'No'}\")\n",
    "    print(f\"Is cointegrated? {'Yes' if p_value < 0.05 else 'No'}\")\n",
    "    print(\"-\" * 50)"
   ]
  },
  {
   "cell_type": "code",
   "execution_count": 5,
   "id": "bade2af4",
   "metadata": {},
   "outputs": [
    {
     "data": {
      "application/vnd.plotly.v1+json": {
       "config": {
        "plotlyServerURL": "https://plot.ly"
       },
       "data": [
        {
         "mode": "lines",
         "name": "TSLA",
         "type": "scatter",
         "x": [
          "2022-04-11",
          "2022-04-12",
          "2022-04-13",
          "2022-04-14",
          "2022-04-18",
          "2022-04-19",
          "2022-04-20",
          "2022-04-21",
          "2022-04-22",
          "2022-04-25",
          "2022-04-26",
          "2022-04-27",
          "2022-04-28",
          "2022-04-29",
          "2022-05-02",
          "2022-05-03",
          "2022-05-04",
          "2022-05-05",
          "2022-05-06",
          "2022-05-09",
          "2022-05-10",
          "2022-05-11",
          "2022-05-12",
          "2022-05-13",
          "2022-05-16",
          "2022-05-17",
          "2022-05-18",
          "2022-05-19",
          "2022-05-20",
          "2022-05-23",
          "2022-05-24",
          "2022-05-25",
          "2022-05-26",
          "2022-05-27",
          "2022-05-31",
          "2022-06-01",
          "2022-06-02",
          "2022-06-03",
          "2022-06-06",
          "2022-06-07",
          "2022-06-08",
          "2022-06-09",
          "2022-06-10",
          "2022-06-13",
          "2022-06-14",
          "2022-06-15",
          "2022-06-16",
          "2022-06-17",
          "2022-06-21",
          "2022-06-22",
          "2022-06-23",
          "2022-06-24",
          "2022-06-27",
          "2022-06-28",
          "2022-06-29",
          "2022-06-30",
          "2022-07-01",
          "2022-07-05",
          "2022-07-06",
          "2022-07-07",
          "2022-07-08",
          "2022-07-11",
          "2022-07-12",
          "2022-07-13",
          "2022-07-14",
          "2022-07-15",
          "2022-07-18",
          "2022-07-19",
          "2022-07-20",
          "2022-07-21",
          "2022-07-22",
          "2022-07-25",
          "2022-07-26",
          "2022-07-27",
          "2022-07-28",
          "2022-07-29",
          "2022-08-01",
          "2022-08-02",
          "2022-08-03",
          "2022-08-04",
          "2022-08-05",
          "2022-08-08",
          "2022-08-09",
          "2022-08-10",
          "2022-08-11",
          "2022-08-12",
          "2022-08-15",
          "2022-08-16",
          "2022-08-17",
          "2022-08-18",
          "2022-08-19",
          "2022-08-22",
          "2022-08-23",
          "2022-08-24",
          "2022-08-25",
          "2022-08-26",
          "2022-08-29",
          "2022-08-30",
          "2022-08-31",
          "2022-09-01",
          "2022-09-02",
          "2022-09-06",
          "2022-09-07",
          "2022-09-08",
          "2022-09-09",
          "2022-09-12",
          "2022-09-13",
          "2022-09-14",
          "2022-09-15",
          "2022-09-16",
          "2022-09-19",
          "2022-09-20",
          "2022-09-21",
          "2022-09-22",
          "2022-09-23",
          "2022-09-26",
          "2022-09-27",
          "2022-09-28",
          "2022-09-29",
          "2022-09-30",
          "2022-10-03",
          "2022-10-04",
          "2022-10-05",
          "2022-10-06",
          "2022-10-07",
          "2022-10-10",
          "2022-10-11",
          "2022-10-12",
          "2022-10-13",
          "2022-10-14",
          "2022-10-17",
          "2022-10-18",
          "2022-10-19",
          "2022-10-20",
          "2022-10-21",
          "2022-10-24",
          "2022-10-25",
          "2022-10-26",
          "2022-10-27",
          "2022-10-28",
          "2022-10-31",
          "2022-11-01",
          "2022-11-02",
          "2022-11-03",
          "2022-11-04",
          "2022-11-07",
          "2022-11-08",
          "2022-11-09",
          "2022-11-10",
          "2022-11-11",
          "2022-11-14",
          "2022-11-15",
          "2022-11-16",
          "2022-11-17",
          "2022-11-18",
          "2022-11-21",
          "2022-11-22",
          "2022-11-23",
          "2022-11-25",
          "2022-11-28",
          "2022-11-29",
          "2022-11-30",
          "2022-12-01",
          "2022-12-02",
          "2022-12-05",
          "2022-12-06",
          "2022-12-07",
          "2022-12-08",
          "2022-12-09",
          "2022-12-12",
          "2022-12-13",
          "2022-12-14",
          "2022-12-15",
          "2022-12-16",
          "2022-12-19",
          "2022-12-20",
          "2022-12-21",
          "2022-12-22",
          "2022-12-23",
          "2022-12-27",
          "2022-12-28",
          "2022-12-29",
          "2022-12-30",
          "2023-01-03",
          "2023-01-04",
          "2023-01-05",
          "2023-01-06",
          "2023-01-09",
          "2023-01-10",
          "2023-01-11",
          "2023-01-12",
          "2023-01-13",
          "2023-01-17",
          "2023-01-18",
          "2023-01-19",
          "2023-01-20",
          "2023-01-23",
          "2023-01-24",
          "2023-01-25",
          "2023-01-26",
          "2023-01-27",
          "2023-01-30",
          "2023-01-31",
          "2023-02-01",
          "2023-02-02",
          "2023-02-03",
          "2023-02-06",
          "2023-02-07",
          "2023-02-08",
          "2023-02-09",
          "2023-02-10",
          "2023-02-13",
          "2023-02-14",
          "2023-02-15",
          "2023-02-16",
          "2023-02-17",
          "2023-02-21",
          "2023-02-22",
          "2023-02-23",
          "2023-02-24",
          "2023-02-27",
          "2023-02-28",
          "2023-03-01",
          "2023-03-02",
          "2023-03-03",
          "2023-03-06",
          "2023-03-07",
          "2023-03-08",
          "2023-03-09",
          "2023-03-10",
          "2023-03-13",
          "2023-03-14",
          "2023-03-15",
          "2023-03-16",
          "2023-03-17",
          "2023-03-20",
          "2023-03-21",
          "2023-03-22",
          "2023-03-23",
          "2023-03-24",
          "2023-03-27",
          "2023-03-28",
          "2023-03-29",
          "2023-03-30",
          "2023-03-31",
          "2023-04-03",
          "2023-04-04",
          "2023-04-05",
          "2023-04-06",
          "2023-04-10",
          "2023-04-11",
          "2023-04-12",
          "2023-04-13",
          "2023-04-14",
          "2023-04-17",
          "2023-04-18",
          "2023-04-19",
          "2023-04-20",
          "2023-04-21",
          "2023-04-24",
          "2023-04-25",
          "2023-04-26",
          "2023-04-27",
          "2023-04-28",
          "2023-05-01",
          "2023-05-02",
          "2023-05-03",
          "2023-05-04",
          "2023-05-05",
          "2023-05-08",
          "2023-05-09",
          "2023-05-10",
          "2023-05-11",
          "2023-05-12",
          "2023-05-15",
          "2023-05-16",
          "2023-05-17",
          "2023-05-18",
          "2023-05-19",
          "2023-05-22",
          "2023-05-23",
          "2023-05-24",
          "2023-05-25",
          "2023-05-26",
          "2023-05-30",
          "2023-05-31",
          "2023-06-01",
          "2023-06-02",
          "2023-06-05",
          "2023-06-06",
          "2023-06-07",
          "2023-06-08",
          "2023-06-09",
          "2023-06-12",
          "2023-06-13",
          "2023-06-14",
          "2023-06-15",
          "2023-06-16",
          "2023-06-20",
          "2023-06-21",
          "2023-06-22",
          "2023-06-23",
          "2023-06-26",
          "2023-06-27",
          "2023-06-28",
          "2023-06-29",
          "2023-06-30",
          "2023-07-03",
          "2023-07-05",
          "2023-07-06",
          "2023-07-07",
          "2023-07-10",
          "2023-07-11",
          "2023-07-12",
          "2023-07-13",
          "2023-07-14",
          "2023-07-17",
          "2023-07-18",
          "2023-07-19",
          "2023-07-20",
          "2023-07-21",
          "2023-07-24",
          "2023-07-25",
          "2023-07-26",
          "2023-07-27",
          "2023-07-28",
          "2023-07-31",
          "2023-08-01",
          "2023-08-02",
          "2023-08-03",
          "2023-08-04",
          "2023-08-07",
          "2023-08-08",
          "2023-08-09",
          "2023-08-10",
          "2023-08-11",
          "2023-08-14",
          "2023-08-15",
          "2023-08-16",
          "2023-08-17",
          "2023-08-18",
          "2023-08-21",
          "2023-08-22",
          "2023-08-23",
          "2023-08-24",
          "2023-08-25",
          "2023-08-28",
          "2023-08-29",
          "2023-08-30",
          "2023-08-31",
          "2023-09-01",
          "2023-09-05",
          "2023-09-06",
          "2023-09-07",
          "2023-09-08",
          "2023-09-11",
          "2023-09-12",
          "2023-09-13",
          "2023-09-14",
          "2023-09-15",
          "2023-09-18",
          "2023-09-19",
          "2023-09-20",
          "2023-09-21",
          "2023-09-22",
          "2023-09-25",
          "2023-09-26",
          "2023-09-27",
          "2023-09-28",
          "2023-09-29",
          "2023-10-02",
          "2023-10-03",
          "2023-10-04",
          "2023-10-05",
          "2023-10-06",
          "2023-10-09",
          "2023-10-10",
          "2023-10-11",
          "2023-10-12",
          "2023-10-13",
          "2023-10-16",
          "2023-10-17",
          "2023-10-18",
          "2023-10-19",
          "2023-10-20",
          "2023-10-23",
          "2023-10-24",
          "2023-10-25",
          "2023-10-26",
          "2023-10-27",
          "2023-10-30",
          "2023-10-31",
          "2023-11-01",
          "2023-11-02",
          "2023-11-03",
          "2023-11-06",
          "2023-11-07",
          "2023-11-08",
          "2023-11-09",
          "2023-11-10",
          "2023-11-13",
          "2023-11-14",
          "2023-11-15",
          "2023-11-16",
          "2023-11-17",
          "2023-11-20",
          "2023-11-21",
          "2023-11-22",
          "2023-11-24",
          "2023-11-27",
          "2023-11-28",
          "2023-11-29",
          "2023-11-30",
          "2023-12-01",
          "2023-12-04",
          "2023-12-05",
          "2023-12-06",
          "2023-12-07",
          "2023-12-08",
          "2023-12-11",
          "2023-12-12",
          "2023-12-13",
          "2023-12-14",
          "2023-12-15",
          "2023-12-18",
          "2023-12-19",
          "2023-12-20",
          "2023-12-21",
          "2023-12-22",
          "2023-12-26",
          "2023-12-27",
          "2023-12-28",
          "2023-12-29",
          "2024-01-02",
          "2024-01-03",
          "2024-01-04",
          "2024-01-05",
          "2024-01-08",
          "2024-01-09",
          "2024-01-10",
          "2024-01-11",
          "2024-01-12",
          "2024-01-16",
          "2024-01-17",
          "2024-01-18",
          "2024-01-19",
          "2024-01-22",
          "2024-01-23",
          "2024-01-24",
          "2024-01-25",
          "2024-01-26",
          "2024-01-29",
          "2024-01-30",
          "2024-01-31",
          "2024-02-01",
          "2024-02-02",
          "2024-02-05",
          "2024-02-06",
          "2024-02-07",
          "2024-02-08",
          "2024-02-09",
          "2024-02-12",
          "2024-02-13",
          "2024-02-14",
          "2024-02-15",
          "2024-02-16",
          "2024-02-20",
          "2024-02-21",
          "2024-02-22",
          "2024-02-23",
          "2024-02-26",
          "2024-02-27",
          "2024-02-28",
          "2024-02-29",
          "2024-03-01",
          "2024-03-04",
          "2024-03-05",
          "2024-03-06",
          "2024-03-07",
          "2024-03-08",
          "2024-03-11",
          "2024-03-12",
          "2024-03-13",
          "2024-03-14",
          "2024-03-15",
          "2024-03-18",
          "2024-03-19",
          "2024-03-20",
          "2024-03-21",
          "2024-03-22",
          "2024-03-25",
          "2024-03-26",
          "2024-03-27",
          "2024-03-28",
          "2024-04-01",
          "2024-04-02",
          "2024-04-03",
          "2024-04-04",
          "2024-04-05",
          "2024-04-08",
          "2024-04-09",
          "2024-04-10",
          "2024-04-11",
          "2024-04-12",
          "2024-04-15",
          "2024-04-16",
          "2024-04-17",
          "2024-04-18",
          "2024-04-19",
          "2024-04-22",
          "2024-04-23",
          "2024-04-24",
          "2024-04-25",
          "2024-04-26",
          "2024-04-29",
          "2024-04-30",
          "2024-05-01",
          "2024-05-02",
          "2024-05-03",
          "2024-05-06",
          "2024-05-07",
          "2024-05-08",
          "2024-05-09",
          "2024-05-10",
          "2024-05-13",
          "2024-05-14",
          "2024-05-15",
          "2024-05-16",
          "2024-05-17",
          "2024-05-20",
          "2024-05-21",
          "2024-05-22",
          "2024-05-23",
          "2024-05-24",
          "2024-05-28",
          "2024-05-29",
          "2024-05-30",
          "2024-05-31",
          "2024-06-03",
          "2024-06-04",
          "2024-06-05",
          "2024-06-06",
          "2024-06-07",
          "2024-06-10",
          "2024-06-11",
          "2024-06-12",
          "2024-06-13",
          "2024-06-14",
          "2024-06-17",
          "2024-06-18",
          "2024-06-20",
          "2024-06-21",
          "2024-06-24",
          "2024-06-25",
          "2024-06-26",
          "2024-06-27",
          "2024-06-28",
          "2024-07-01",
          "2024-07-02",
          "2024-07-03",
          "2024-07-05",
          "2024-07-08",
          "2024-07-09",
          "2024-07-10",
          "2024-07-11",
          "2024-07-12",
          "2024-07-15",
          "2024-07-16",
          "2024-07-17",
          "2024-07-18",
          "2024-07-19",
          "2024-07-22",
          "2024-07-23",
          "2024-07-24",
          "2024-07-25",
          "2024-07-26",
          "2024-07-29",
          "2024-07-30",
          "2024-07-31",
          "2024-08-01",
          "2024-08-02",
          "2024-08-05",
          "2024-08-06",
          "2024-08-07",
          "2024-08-08",
          "2024-08-09",
          "2024-08-12",
          "2024-08-13",
          "2024-08-14",
          "2024-08-15",
          "2024-08-16",
          "2024-08-19",
          "2024-08-20",
          "2024-08-21",
          "2024-08-22",
          "2024-08-23",
          "2024-08-26",
          "2024-08-27",
          "2024-08-28",
          "2024-08-29",
          "2024-08-30",
          "2024-09-03",
          "2024-09-04",
          "2024-09-05",
          "2024-09-06",
          "2024-09-09",
          "2024-09-10",
          "2024-09-11",
          "2024-09-12",
          "2024-09-13",
          "2024-09-16",
          "2024-09-17",
          "2024-09-18",
          "2024-09-19",
          "2024-09-20",
          "2024-09-23",
          "2024-09-24",
          "2024-09-25",
          "2024-09-26",
          "2024-09-27",
          "2024-09-30",
          "2024-10-01",
          "2024-10-02",
          "2024-10-03",
          "2024-10-04",
          "2024-10-07",
          "2024-10-08",
          "2024-10-09",
          "2024-10-10",
          "2024-10-11",
          "2024-10-14",
          "2024-10-15",
          "2024-10-16",
          "2024-10-17",
          "2024-10-18",
          "2024-10-21",
          "2024-10-22",
          "2024-10-23",
          "2024-10-24",
          "2024-10-25",
          "2024-10-28",
          "2024-10-29",
          "2024-10-30",
          "2024-10-31",
          "2024-11-01",
          "2024-11-04",
          "2024-11-05",
          "2024-11-06",
          "2024-11-07",
          "2024-11-08",
          "2024-11-11",
          "2024-11-12",
          "2024-11-13",
          "2024-11-14",
          "2024-11-15",
          "2024-11-18",
          "2024-11-19",
          "2024-11-20",
          "2024-11-21",
          "2024-11-22",
          "2024-11-25",
          "2024-11-26",
          "2024-11-27",
          "2024-11-29",
          "2024-12-02",
          "2024-12-03",
          "2024-12-04",
          "2024-12-05",
          "2024-12-06",
          "2024-12-09",
          "2024-12-10",
          "2024-12-11",
          "2024-12-12",
          "2024-12-13",
          "2024-12-16",
          "2024-12-17",
          "2024-12-18",
          "2024-12-19",
          "2024-12-20",
          "2024-12-23",
          "2024-12-24",
          "2024-12-26",
          "2024-12-27",
          "2024-12-30",
          "2024-12-31",
          "2025-01-02",
          "2025-01-03",
          "2025-01-06",
          "2025-01-07",
          "2025-01-08",
          "2025-01-10",
          "2025-01-13",
          "2025-01-14",
          "2025-01-15",
          "2025-01-16",
          "2025-01-17",
          "2025-01-21",
          "2025-01-22",
          "2025-01-23",
          "2025-01-24",
          "2025-01-27",
          "2025-01-28",
          "2025-01-29",
          "2025-01-30",
          "2025-01-31",
          "2025-02-03",
          "2025-02-04",
          "2025-02-05",
          "2025-02-06",
          "2025-02-07",
          "2025-02-10",
          "2025-02-11",
          "2025-02-12",
          "2025-02-13",
          "2025-02-14",
          "2025-02-18",
          "2025-02-19",
          "2025-02-20",
          "2025-02-21",
          "2025-02-24",
          "2025-02-25",
          "2025-02-26",
          "2025-02-27",
          "2025-02-28",
          "2025-03-03",
          "2025-03-04",
          "2025-03-05",
          "2025-03-06",
          "2025-03-07",
          "2025-03-10",
          "2025-03-11",
          "2025-03-12",
          "2025-03-13",
          "2025-03-14",
          "2025-03-17",
          "2025-03-18",
          "2025-03-19",
          "2025-03-20",
          "2025-03-21",
          "2025-03-24",
          "2025-03-25",
          "2025-03-26",
          "2025-03-27",
          "2025-03-28",
          "2025-03-31",
          "2025-04-01",
          "2025-04-02",
          "2025-04-03",
          "2025-04-04",
          "2025-04-07"
         ],
         "y": {
          "bdata": "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",
          "dtype": "f8"
         }
        },
        {
         "mode": "lines",
         "name": "RIVN",
         "type": "scatter",
         "x": [
          "2022-04-11",
          "2022-04-12",
          "2022-04-13",
          "2022-04-14",
          "2022-04-18",
          "2022-04-19",
          "2022-04-20",
          "2022-04-21",
          "2022-04-22",
          "2022-04-25",
          "2022-04-26",
          "2022-04-27",
          "2022-04-28",
          "2022-04-29",
          "2022-05-02",
          "2022-05-03",
          "2022-05-04",
          "2022-05-05",
          "2022-05-06",
          "2022-05-09",
          "2022-05-10",
          "2022-05-11",
          "2022-05-12",
          "2022-05-13",
          "2022-05-16",
          "2022-05-17",
          "2022-05-18",
          "2022-05-19",
          "2022-05-20",
          "2022-05-23",
          "2022-05-24",
          "2022-05-25",
          "2022-05-26",
          "2022-05-27",
          "2022-05-31",
          "2022-06-01",
          "2022-06-02",
          "2022-06-03",
          "2022-06-06",
          "2022-06-07",
          "2022-06-08",
          "2022-06-09",
          "2022-06-10",
          "2022-06-13",
          "2022-06-14",
          "2022-06-15",
          "2022-06-16",
          "2022-06-17",
          "2022-06-21",
          "2022-06-22",
          "2022-06-23",
          "2022-06-24",
          "2022-06-27",
          "2022-06-28",
          "2022-06-29",
          "2022-06-30",
          "2022-07-01",
          "2022-07-05",
          "2022-07-06",
          "2022-07-07",
          "2022-07-08",
          "2022-07-11",
          "2022-07-12",
          "2022-07-13",
          "2022-07-14",
          "2022-07-15",
          "2022-07-18",
          "2022-07-19",
          "2022-07-20",
          "2022-07-21",
          "2022-07-22",
          "2022-07-25",
          "2022-07-26",
          "2022-07-27",
          "2022-07-28",
          "2022-07-29",
          "2022-08-01",
          "2022-08-02",
          "2022-08-03",
          "2022-08-04",
          "2022-08-05",
          "2022-08-08",
          "2022-08-09",
          "2022-08-10",
          "2022-08-11",
          "2022-08-12",
          "2022-08-15",
          "2022-08-16",
          "2022-08-17",
          "2022-08-18",
          "2022-08-19",
          "2022-08-22",
          "2022-08-23",
          "2022-08-24",
          "2022-08-25",
          "2022-08-26",
          "2022-08-29",
          "2022-08-30",
          "2022-08-31",
          "2022-09-01",
          "2022-09-02",
          "2022-09-06",
          "2022-09-07",
          "2022-09-08",
          "2022-09-09",
          "2022-09-12",
          "2022-09-13",
          "2022-09-14",
          "2022-09-15",
          "2022-09-16",
          "2022-09-19",
          "2022-09-20",
          "2022-09-21",
          "2022-09-22",
          "2022-09-23",
          "2022-09-26",
          "2022-09-27",
          "2022-09-28",
          "2022-09-29",
          "2022-09-30",
          "2022-10-03",
          "2022-10-04",
          "2022-10-05",
          "2022-10-06",
          "2022-10-07",
          "2022-10-10",
          "2022-10-11",
          "2022-10-12",
          "2022-10-13",
          "2022-10-14",
          "2022-10-17",
          "2022-10-18",
          "2022-10-19",
          "2022-10-20",
          "2022-10-21",
          "2022-10-24",
          "2022-10-25",
          "2022-10-26",
          "2022-10-27",
          "2022-10-28",
          "2022-10-31",
          "2022-11-01",
          "2022-11-02",
          "2022-11-03",
          "2022-11-04",
          "2022-11-07",
          "2022-11-08",
          "2022-11-09",
          "2022-11-10",
          "2022-11-11",
          "2022-11-14",
          "2022-11-15",
          "2022-11-16",
          "2022-11-17",
          "2022-11-18",
          "2022-11-21",
          "2022-11-22",
          "2022-11-23",
          "2022-11-25",
          "2022-11-28",
          "2022-11-29",
          "2022-11-30",
          "2022-12-01",
          "2022-12-02",
          "2022-12-05",
          "2022-12-06",
          "2022-12-07",
          "2022-12-08",
          "2022-12-09",
          "2022-12-12",
          "2022-12-13",
          "2022-12-14",
          "2022-12-15",
          "2022-12-16",
          "2022-12-19",
          "2022-12-20",
          "2022-12-21",
          "2022-12-22",
          "2022-12-23",
          "2022-12-27",
          "2022-12-28",
          "2022-12-29",
          "2022-12-30",
          "2023-01-03",
          "2023-01-04",
          "2023-01-05",
          "2023-01-06",
          "2023-01-09",
          "2023-01-10",
          "2023-01-11",
          "2023-01-12",
          "2023-01-13",
          "2023-01-17",
          "2023-01-18",
          "2023-01-19",
          "2023-01-20",
          "2023-01-23",
          "2023-01-24",
          "2023-01-25",
          "2023-01-26",
          "2023-01-27",
          "2023-01-30",
          "2023-01-31",
          "2023-02-01",
          "2023-02-02",
          "2023-02-03",
          "2023-02-06",
          "2023-02-07",
          "2023-02-08",
          "2023-02-09",
          "2023-02-10",
          "2023-02-13",
          "2023-02-14",
          "2023-02-15",
          "2023-02-16",
          "2023-02-17",
          "2023-02-21",
          "2023-02-22",
          "2023-02-23",
          "2023-02-24",
          "2023-02-27",
          "2023-02-28",
          "2023-03-01",
          "2023-03-02",
          "2023-03-03",
          "2023-03-06",
          "2023-03-07",
          "2023-03-08",
          "2023-03-09",
          "2023-03-10",
          "2023-03-13",
          "2023-03-14",
          "2023-03-15",
          "2023-03-16",
          "2023-03-17",
          "2023-03-20",
          "2023-03-21",
          "2023-03-22",
          "2023-03-23",
          "2023-03-24",
          "2023-03-27",
          "2023-03-28",
          "2023-03-29",
          "2023-03-30",
          "2023-03-31",
          "2023-04-03",
          "2023-04-04",
          "2023-04-05",
          "2023-04-06",
          "2023-04-10",
          "2023-04-11",
          "2023-04-12",
          "2023-04-13",
          "2023-04-14",
          "2023-04-17",
          "2023-04-18",
          "2023-04-19",
          "2023-04-20",
          "2023-04-21",
          "2023-04-24",
          "2023-04-25",
          "2023-04-26",
          "2023-04-27",
          "2023-04-28",
          "2023-05-01",
          "2023-05-02",
          "2023-05-03",
          "2023-05-04",
          "2023-05-05",
          "2023-05-08",
          "2023-05-09",
          "2023-05-10",
          "2023-05-11",
          "2023-05-12",
          "2023-05-15",
          "2023-05-16",
          "2023-05-17",
          "2023-05-18",
          "2023-05-19",
          "2023-05-22",
          "2023-05-23",
          "2023-05-24",
          "2023-05-25",
          "2023-05-26",
          "2023-05-30",
          "2023-05-31",
          "2023-06-01",
          "2023-06-02",
          "2023-06-05",
          "2023-06-06",
          "2023-06-07",
          "2023-06-08",
          "2023-06-09",
          "2023-06-12",
          "2023-06-13",
          "2023-06-14",
          "2023-06-15",
          "2023-06-16",
          "2023-06-20",
          "2023-06-21",
          "2023-06-22",
          "2023-06-23",
          "2023-06-26",
          "2023-06-27",
          "2023-06-28",
          "2023-06-29",
          "2023-06-30",
          "2023-07-03",
          "2023-07-05",
          "2023-07-06",
          "2023-07-07",
          "2023-07-10",
          "2023-07-11",
          "2023-07-12",
          "2023-07-13",
          "2023-07-14",
          "2023-07-17",
          "2023-07-18",
          "2023-07-19",
          "2023-07-20",
          "2023-07-21",
          "2023-07-24",
          "2023-07-25",
          "2023-07-26",
          "2023-07-27",
          "2023-07-28",
          "2023-07-31",
          "2023-08-01",
          "2023-08-02",
          "2023-08-03",
          "2023-08-04",
          "2023-08-07",
          "2023-08-08",
          "2023-08-09",
          "2023-08-10",
          "2023-08-11",
          "2023-08-14",
          "2023-08-15",
          "2023-08-16",
          "2023-08-17",
          "2023-08-18",
          "2023-08-21",
          "2023-08-22",
          "2023-08-23",
          "2023-08-24",
          "2023-08-25",
          "2023-08-28",
          "2023-08-29",
          "2023-08-30",
          "2023-08-31",
          "2023-09-01",
          "2023-09-05",
          "2023-09-06",
          "2023-09-07",
          "2023-09-08",
          "2023-09-11",
          "2023-09-12",
          "2023-09-13",
          "2023-09-14",
          "2023-09-15",
          "2023-09-18",
          "2023-09-19",
          "2023-09-20",
          "2023-09-21",
          "2023-09-22",
          "2023-09-25",
          "2023-09-26",
          "2023-09-27",
          "2023-09-28",
          "2023-09-29",
          "2023-10-02",
          "2023-10-03",
          "2023-10-04",
          "2023-10-05",
          "2023-10-06",
          "2023-10-09",
          "2023-10-10",
          "2023-10-11",
          "2023-10-12",
          "2023-10-13",
          "2023-10-16",
          "2023-10-17",
          "2023-10-18",
          "2023-10-19",
          "2023-10-20",
          "2023-10-23",
          "2023-10-24",
          "2023-10-25",
          "2023-10-26",
          "2023-10-27",
          "2023-10-30",
          "2023-10-31",
          "2023-11-01",
          "2023-11-02",
          "2023-11-03",
          "2023-11-06",
          "2023-11-07",
          "2023-11-08",
          "2023-11-09",
          "2023-11-10",
          "2023-11-13",
          "2023-11-14",
          "2023-11-15",
          "2023-11-16",
          "2023-11-17",
          "2023-11-20",
          "2023-11-21",
          "2023-11-22",
          "2023-11-24",
          "2023-11-27",
          "2023-11-28",
          "2023-11-29",
          "2023-11-30",
          "2023-12-01",
          "2023-12-04",
          "2023-12-05",
          "2023-12-06",
          "2023-12-07",
          "2023-12-08",
          "2023-12-11",
          "2023-12-12",
          "2023-12-13",
          "2023-12-14",
          "2023-12-15",
          "2023-12-18",
          "2023-12-19",
          "2023-12-20",
          "2023-12-21",
          "2023-12-22",
          "2023-12-26",
          "2023-12-27",
          "2023-12-28",
          "2023-12-29",
          "2024-01-02",
          "2024-01-03",
          "2024-01-04",
          "2024-01-05",
          "2024-01-08",
          "2024-01-09",
          "2024-01-10",
          "2024-01-11",
          "2024-01-12",
          "2024-01-16",
          "2024-01-17",
          "2024-01-18",
          "2024-01-19",
          "2024-01-22",
          "2024-01-23",
          "2024-01-24",
          "2024-01-25",
          "2024-01-26",
          "2024-01-29",
          "2024-01-30",
          "2024-01-31",
          "2024-02-01",
          "2024-02-02",
          "2024-02-05",
          "2024-02-06",
          "2024-02-07",
          "2024-02-08",
          "2024-02-09",
          "2024-02-12",
          "2024-02-13",
          "2024-02-14",
          "2024-02-15",
          "2024-02-16",
          "2024-02-20",
          "2024-02-21",
          "2024-02-22",
          "2024-02-23",
          "2024-02-26",
          "2024-02-27",
          "2024-02-28",
          "2024-02-29",
          "2024-03-01",
          "2024-03-04",
          "2024-03-05",
          "2024-03-06",
          "2024-03-07",
          "2024-03-08",
          "2024-03-11",
          "2024-03-12",
          "2024-03-13",
          "2024-03-14",
          "2024-03-15",
          "2024-03-18",
          "2024-03-19",
          "2024-03-20",
          "2024-03-21",
          "2024-03-22",
          "2024-03-25",
          "2024-03-26",
          "2024-03-27",
          "2024-03-28",
          "2024-04-01",
          "2024-04-02",
          "2024-04-03",
          "2024-04-04",
          "2024-04-05",
          "2024-04-08",
          "2024-04-09",
          "2024-04-10",
          "2024-04-11",
          "2024-04-12",
          "2024-04-15",
          "2024-04-16",
          "2024-04-17",
          "2024-04-18",
          "2024-04-19",
          "2024-04-22",
          "2024-04-23",
          "2024-04-24",
          "2024-04-25",
          "2024-04-26",
          "2024-04-29",
          "2024-04-30",
          "2024-05-01",
          "2024-05-02",
          "2024-05-03",
          "2024-05-06",
          "2024-05-07",
          "2024-05-08",
          "2024-05-09",
          "2024-05-10",
          "2024-05-13",
          "2024-05-14",
          "2024-05-15",
          "2024-05-16",
          "2024-05-17",
          "2024-05-20",
          "2024-05-21",
          "2024-05-22",
          "2024-05-23",
          "2024-05-24",
          "2024-05-28",
          "2024-05-29",
          "2024-05-30",
          "2024-05-31",
          "2024-06-03",
          "2024-06-04",
          "2024-06-05",
          "2024-06-06",
          "2024-06-07",
          "2024-06-10",
          "2024-06-11",
          "2024-06-12",
          "2024-06-13",
          "2024-06-14",
          "2024-06-17",
          "2024-06-18",
          "2024-06-20",
          "2024-06-21",
          "2024-06-24",
          "2024-06-25",
          "2024-06-26",
          "2024-06-27",
          "2024-06-28",
          "2024-07-01",
          "2024-07-02",
          "2024-07-03",
          "2024-07-05",
          "2024-07-08",
          "2024-07-09",
          "2024-07-10",
          "2024-07-11",
          "2024-07-12",
          "2024-07-15",
          "2024-07-16",
          "2024-07-17",
          "2024-07-18",
          "2024-07-19",
          "2024-07-22",
          "2024-07-23",
          "2024-07-24",
          "2024-07-25",
          "2024-07-26",
          "2024-07-29",
          "2024-07-30",
          "2024-07-31",
          "2024-08-01",
          "2024-08-02",
          "2024-08-05",
          "2024-08-06",
          "2024-08-07",
          "2024-08-08",
          "2024-08-09",
          "2024-08-12",
          "2024-08-13",
          "2024-08-14",
          "2024-08-15",
          "2024-08-16",
          "2024-08-19",
          "2024-08-20",
          "2024-08-21",
          "2024-08-22",
          "2024-08-23",
          "2024-08-26",
          "2024-08-27",
          "2024-08-28",
          "2024-08-29",
          "2024-08-30",
          "2024-09-03",
          "2024-09-04",
          "2024-09-05",
          "2024-09-06",
          "2024-09-09",
          "2024-09-10",
          "2024-09-11",
          "2024-09-12",
          "2024-09-13",
          "2024-09-16",
          "2024-09-17",
          "2024-09-18",
          "2024-09-19",
          "2024-09-20",
          "2024-09-23",
          "2024-09-24",
          "2024-09-25",
          "2024-09-26",
          "2024-09-27",
          "2024-09-30",
          "2024-10-01",
          "2024-10-02",
          "2024-10-03",
          "2024-10-04",
          "2024-10-07",
          "2024-10-08",
          "2024-10-09",
          "2024-10-10",
          "2024-10-11",
          "2024-10-14",
          "2024-10-15",
          "2024-10-16",
          "2024-10-17",
          "2024-10-18",
          "2024-10-21",
          "2024-10-22",
          "2024-10-23",
          "2024-10-24",
          "2024-10-25",
          "2024-10-28",
          "2024-10-29",
          "2024-10-30",
          "2024-10-31",
          "2024-11-01",
          "2024-11-04",
          "2024-11-05",
          "2024-11-06",
          "2024-11-07",
          "2024-11-08",
          "2024-11-11",
          "2024-11-12",
          "2024-11-13",
          "2024-11-14",
          "2024-11-15",
          "2024-11-18",
          "2024-11-19",
          "2024-11-20",
          "2024-11-21",
          "2024-11-22",
          "2024-11-25",
          "2024-11-26",
          "2024-11-27",
          "2024-11-29",
          "2024-12-02",
          "2024-12-03",
          "2024-12-04",
          "2024-12-05",
          "2024-12-06",
          "2024-12-09",
          "2024-12-10",
          "2024-12-11",
          "2024-12-12",
          "2024-12-13",
          "2024-12-16",
          "2024-12-17",
          "2024-12-18",
          "2024-12-19",
          "2024-12-20",
          "2024-12-23",
          "2024-12-24",
          "2024-12-26",
          "2024-12-27",
          "2024-12-30",
          "2024-12-31",
          "2025-01-02",
          "2025-01-03",
          "2025-01-06",
          "2025-01-07",
          "2025-01-08",
          "2025-01-10",
          "2025-01-13",
          "2025-01-14",
          "2025-01-15",
          "2025-01-16",
          "2025-01-17",
          "2025-01-21",
          "2025-01-22",
          "2025-01-23",
          "2025-01-24",
          "2025-01-27",
          "2025-01-28",
          "2025-01-29",
          "2025-01-30",
          "2025-01-31",
          "2025-02-03",
          "2025-02-04",
          "2025-02-05",
          "2025-02-06",
          "2025-02-07",
          "2025-02-10",
          "2025-02-11",
          "2025-02-12",
          "2025-02-13",
          "2025-02-14",
          "2025-02-18",
          "2025-02-19",
          "2025-02-20",
          "2025-02-21",
          "2025-02-24",
          "2025-02-25",
          "2025-02-26",
          "2025-02-27",
          "2025-02-28",
          "2025-03-03",
          "2025-03-04",
          "2025-03-05",
          "2025-03-06",
          "2025-03-07",
          "2025-03-10",
          "2025-03-11",
          "2025-03-12",
          "2025-03-13",
          "2025-03-14",
          "2025-03-17",
          "2025-03-18",
          "2025-03-19",
          "2025-03-20",
          "2025-03-21",
          "2025-03-24",
          "2025-03-25",
          "2025-03-26",
          "2025-03-27",
          "2025-03-28",
          "2025-03-31",
          "2025-04-01",
          "2025-04-02",
          "2025-04-03",
          "2025-04-04",
          "2025-04-07"
         ],
         "y": {
          "bdata": "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",
          "dtype": "f8"
         }
        }
       ],
       "layout": {
        "legend": {
         "x": 0,
         "y": 1
        },
        "template": {
         "data": {
          "bar": [
           {
            "error_x": {
             "color": "#2a3f5f"
            },
            "error_y": {
             "color": "#2a3f5f"
            },
            "marker": {
             "line": {
              "color": "#E5ECF6",
              "width": 0.5
             },
             "pattern": {
              "fillmode": "overlay",
              "size": 10,
              "solidity": 0.2
             }
            },
            "type": "bar"
           }
          ],
          "barpolar": [
           {
            "marker": {
             "line": {
              "color": "#E5ECF6",
              "width": 0.5
             },
             "pattern": {
              "fillmode": "overlay",
              "size": 10,
              "solidity": 0.2
             }
            },
            "type": "barpolar"
           }
          ],
          "carpet": [
           {
            "aaxis": {
             "endlinecolor": "#2a3f5f",
             "gridcolor": "white",
             "linecolor": "white",
             "minorgridcolor": "white",
             "startlinecolor": "#2a3f5f"
            },
            "baxis": {
             "endlinecolor": "#2a3f5f",
             "gridcolor": "white",
             "linecolor": "white",
             "minorgridcolor": "white",
             "startlinecolor": "#2a3f5f"
            },
            "type": "carpet"
           }
          ],
          "choropleth": [
           {
            "colorbar": {
             "outlinewidth": 0,
             "ticks": ""
            },
            "type": "choropleth"
           }
          ],
          "contour": [
           {
            "colorbar": {
             "outlinewidth": 0,
             "ticks": ""
            },
            "colorscale": [
             [
              0,
              "#0d0887"
             ],
             [
              0.1111111111111111,
              "#46039f"
             ],
             [
              0.2222222222222222,
              "#7201a8"
             ],
             [
              0.3333333333333333,
              "#9c179e"
             ],
             [
              0.4444444444444444,
              "#bd3786"
             ],
             [
              0.5555555555555556,
              "#d8576b"
             ],
             [
              0.6666666666666666,
              "#ed7953"
             ],
             [
              0.7777777777777778,
              "#fb9f3a"
             ],
             [
              0.8888888888888888,
              "#fdca26"
             ],
             [
              1,
              "#f0f921"
             ]
            ],
            "type": "contour"
           }
          ],
          "contourcarpet": [
           {
            "colorbar": {
             "outlinewidth": 0,
             "ticks": ""
            },
            "type": "contourcarpet"
           }
          ],
          "heatmap": [
           {
            "colorbar": {
             "outlinewidth": 0,
             "ticks": ""
            },
            "colorscale": [
             [
              0,
              "#0d0887"
             ],
             [
              0.1111111111111111,
              "#46039f"
             ],
             [
              0.2222222222222222,
              "#7201a8"
             ],
             [
              0.3333333333333333,
              "#9c179e"
             ],
             [
              0.4444444444444444,
              "#bd3786"
             ],
             [
              0.5555555555555556,
              "#d8576b"
             ],
             [
              0.6666666666666666,
              "#ed7953"
             ],
             [
              0.7777777777777778,
              "#fb9f3a"
             ],
             [
              0.8888888888888888,
              "#fdca26"
             ],
             [
              1,
              "#f0f921"
             ]
            ],
            "type": "heatmap"
           }
          ],
          "histogram": [
           {
            "marker": {
             "pattern": {
              "fillmode": "overlay",
              "size": 10,
              "solidity": 0.2
             }
            },
            "type": "histogram"
           }
          ],
          "histogram2d": [
           {
            "colorbar": {
             "outlinewidth": 0,
             "ticks": ""
            },
            "colorscale": [
             [
              0,
              "#0d0887"
             ],
             [
              0.1111111111111111,
              "#46039f"
             ],
             [
              0.2222222222222222,
              "#7201a8"
             ],
             [
              0.3333333333333333,
              "#9c179e"
             ],
             [
              0.4444444444444444,
              "#bd3786"
             ],
             [
              0.5555555555555556,
              "#d8576b"
             ],
             [
              0.6666666666666666,
              "#ed7953"
             ],
             [
              0.7777777777777778,
              "#fb9f3a"
             ],
             [
              0.8888888888888888,
              "#fdca26"
             ],
             [
              1,
              "#f0f921"
             ]
            ],
            "type": "histogram2d"
           }
          ],
          "histogram2dcontour": [
           {
            "colorbar": {
             "outlinewidth": 0,
             "ticks": ""
            },
            "colorscale": [
             [
              0,
              "#0d0887"
             ],
             [
              0.1111111111111111,
              "#46039f"
             ],
             [
              0.2222222222222222,
              "#7201a8"
             ],
             [
              0.3333333333333333,
              "#9c179e"
             ],
             [
              0.4444444444444444,
              "#bd3786"
             ],
             [
              0.5555555555555556,
              "#d8576b"
             ],
             [
              0.6666666666666666,
              "#ed7953"
             ],
             [
              0.7777777777777778,
              "#fb9f3a"
             ],
             [
              0.8888888888888888,
              "#fdca26"
             ],
             [
              1,
              "#f0f921"
             ]
            ],
            "type": "histogram2dcontour"
           }
          ],
          "mesh3d": [
           {
            "colorbar": {
             "outlinewidth": 0,
             "ticks": ""
            },
            "type": "mesh3d"
           }
          ],
          "parcoords": [
           {
            "line": {
             "colorbar": {
              "outlinewidth": 0,
              "ticks": ""
             }
            },
            "type": "parcoords"
           }
          ],
          "pie": [
           {
            "automargin": true,
            "type": "pie"
           }
          ],
          "scatter": [
           {
            "fillpattern": {
             "fillmode": "overlay",
             "size": 10,
             "solidity": 0.2
            },
            "type": "scatter"
           }
          ],
          "scatter3d": [
           {
            "line": {
             "colorbar": {
              "outlinewidth": 0,
              "ticks": ""
             }
            },
            "marker": {
             "colorbar": {
              "outlinewidth": 0,
              "ticks": ""
             }
            },
            "type": "scatter3d"
           }
          ],
          "scattercarpet": [
           {
            "marker": {
             "colorbar": {
              "outlinewidth": 0,
              "ticks": ""
             }
            },
            "type": "scattercarpet"
           }
          ],
          "scattergeo": [
           {
            "marker": {
             "colorbar": {
              "outlinewidth": 0,
              "ticks": ""
             }
            },
            "type": "scattergeo"
           }
          ],
          "scattergl": [
           {
            "marker": {
             "colorbar": {
              "outlinewidth": 0,
              "ticks": ""
             }
            },
            "type": "scattergl"
           }
          ],
          "scattermap": [
           {
            "marker": {
             "colorbar": {
              "outlinewidth": 0,
              "ticks": ""
             }
            },
            "type": "scattermap"
           }
          ],
          "scattermapbox": [
           {
            "marker": {
             "colorbar": {
              "outlinewidth": 0,
              "ticks": ""
             }
            },
            "type": "scattermapbox"
           }
          ],
          "scatterpolar": [
           {
            "marker": {
             "colorbar": {
              "outlinewidth": 0,
              "ticks": ""
             }
            },
            "type": "scatterpolar"
           }
          ],
          "scatterpolargl": [
           {
            "marker": {
             "colorbar": {
              "outlinewidth": 0,
              "ticks": ""
             }
            },
            "type": "scatterpolargl"
           }
          ],
          "scatterternary": [
           {
            "marker": {
             "colorbar": {
              "outlinewidth": 0,
              "ticks": ""
             }
            },
            "type": "scatterternary"
           }
          ],
          "surface": [
           {
            "colorbar": {
             "outlinewidth": 0,
             "ticks": ""
            },
            "colorscale": [
             [
              0,
              "#0d0887"
             ],
             [
              0.1111111111111111,
              "#46039f"
             ],
             [
              0.2222222222222222,
              "#7201a8"
             ],
             [
              0.3333333333333333,
              "#9c179e"
             ],
             [
              0.4444444444444444,
              "#bd3786"
             ],
             [
              0.5555555555555556,
              "#d8576b"
             ],
             [
              0.6666666666666666,
              "#ed7953"
             ],
             [
              0.7777777777777778,
              "#fb9f3a"
             ],
             [
              0.8888888888888888,
              "#fdca26"
             ],
             [
              1,
              "#f0f921"
             ]
            ],
            "type": "surface"
           }
          ],
          "table": [
           {
            "cells": {
             "fill": {
              "color": "#EBF0F8"
             },
             "line": {
              "color": "white"
             }
            },
            "header": {
             "fill": {
              "color": "#C8D4E3"
             },
             "line": {
              "color": "white"
             }
            },
            "type": "table"
           }
          ]
         },
         "layout": {
          "annotationdefaults": {
           "arrowcolor": "#2a3f5f",
           "arrowhead": 0,
           "arrowwidth": 1
          },
          "autotypenumbers": "strict",
          "coloraxis": {
           "colorbar": {
            "outlinewidth": 0,
            "ticks": ""
           }
          },
          "colorscale": {
           "diverging": [
            [
             0,
             "#8e0152"
            ],
            [
             0.1,
             "#c51b7d"
            ],
            [
             0.2,
             "#de77ae"
            ],
            [
             0.3,
             "#f1b6da"
            ],
            [
             0.4,
             "#fde0ef"
            ],
            [
             0.5,
             "#f7f7f7"
            ],
            [
             0.6,
             "#e6f5d0"
            ],
            [
             0.7,
             "#b8e186"
            ],
            [
             0.8,
             "#7fbc41"
            ],
            [
             0.9,
             "#4d9221"
            ],
            [
             1,
             "#276419"
            ]
           ],
           "sequential": [
            [
             0,
             "#0d0887"
            ],
            [
             0.1111111111111111,
             "#46039f"
            ],
            [
             0.2222222222222222,
             "#7201a8"
            ],
            [
             0.3333333333333333,
             "#9c179e"
            ],
            [
             0.4444444444444444,
             "#bd3786"
            ],
            [
             0.5555555555555556,
             "#d8576b"
            ],
            [
             0.6666666666666666,
             "#ed7953"
            ],
            [
             0.7777777777777778,
             "#fb9f3a"
            ],
            [
             0.8888888888888888,
             "#fdca26"
            ],
            [
             1,
             "#f0f921"
            ]
           ],
           "sequentialminus": [
            [
             0,
             "#0d0887"
            ],
            [
             0.1111111111111111,
             "#46039f"
            ],
            [
             0.2222222222222222,
             "#7201a8"
            ],
            [
             0.3333333333333333,
             "#9c179e"
            ],
            [
             0.4444444444444444,
             "#bd3786"
            ],
            [
             0.5555555555555556,
             "#d8576b"
            ],
            [
             0.6666666666666666,
             "#ed7953"
            ],
            [
             0.7777777777777778,
             "#fb9f3a"
            ],
            [
             0.8888888888888888,
             "#fdca26"
            ],
            [
             1,
             "#f0f921"
            ]
           ]
          },
          "colorway": [
           "#636efa",
           "#EF553B",
           "#00cc96",
           "#ab63fa",
           "#FFA15A",
           "#19d3f3",
           "#FF6692",
           "#B6E880",
           "#FF97FF",
           "#FECB52"
          ],
          "font": {
           "color": "#2a3f5f"
          },
          "geo": {
           "bgcolor": "white",
           "lakecolor": "white",
           "landcolor": "#E5ECF6",
           "showlakes": true,
           "showland": true,
           "subunitcolor": "white"
          },
          "hoverlabel": {
           "align": "left"
          },
          "hovermode": "closest",
          "mapbox": {
           "style": "light"
          },
          "paper_bgcolor": "white",
          "plot_bgcolor": "#E5ECF6",
          "polar": {
           "angularaxis": {
            "gridcolor": "white",
            "linecolor": "white",
            "ticks": ""
           },
           "bgcolor": "#E5ECF6",
           "radialaxis": {
            "gridcolor": "white",
            "linecolor": "white",
            "ticks": ""
           }
          },
          "scene": {
           "xaxis": {
            "backgroundcolor": "#E5ECF6",
            "gridcolor": "white",
            "gridwidth": 2,
            "linecolor": "white",
            "showbackground": true,
            "ticks": "",
            "zerolinecolor": "white"
           },
           "yaxis": {
            "backgroundcolor": "#E5ECF6",
            "gridcolor": "white",
            "gridwidth": 2,
            "linecolor": "white",
            "showbackground": true,
            "ticks": "",
            "zerolinecolor": "white"
           },
           "zaxis": {
            "backgroundcolor": "#E5ECF6",
            "gridcolor": "white",
            "gridwidth": 2,
            "linecolor": "white",
            "showbackground": true,
            "ticks": "",
            "zerolinecolor": "white"
           }
          },
          "shapedefaults": {
           "line": {
            "color": "#2a3f5f"
           }
          },
          "ternary": {
           "aaxis": {
            "gridcolor": "white",
            "linecolor": "white",
            "ticks": ""
           },
           "baxis": {
            "gridcolor": "white",
            "linecolor": "white",
            "ticks": ""
           },
           "bgcolor": "#E5ECF6",
           "caxis": {
            "gridcolor": "white",
            "linecolor": "white",
            "ticks": ""
           }
          },
          "title": {
           "x": 0.05
          },
          "xaxis": {
           "automargin": true,
           "gridcolor": "white",
           "linecolor": "white",
           "ticks": "",
           "title": {
            "standoff": 15
           },
           "zerolinecolor": "white",
           "zerolinewidth": 2
          },
          "yaxis": {
           "automargin": true,
           "gridcolor": "white",
           "linecolor": "white",
           "ticks": "",
           "title": {
            "standoff": 15
           },
           "zerolinecolor": "white",
           "zerolinewidth": 2
          }
         }
        },
        "title": {
         "text": "TSLA  vs. RIVN Stock Log Prices"
        },
        "xaxis": {
         "title": {
          "text": "timestamp"
         }
        },
        "yaxis": {
         "title": {
          "text": "Price (USD)"
         }
        }
       }
      }
     },
     "metadata": {},
     "output_type": "display_data"
    }
   ],
   "source": [
    "fig = go.Figure()\n",
    "asset_a = \"TSLA\"\n",
    "asset_b = \"RIVN\"\n",
    "fig.add_trace(go.Scatter(x=EV_stocks_data[asset_a][\"timestamp\"], y=np.log(EV_stocks_data[asset_a][\"close\"]), mode=\"lines\", name=f\"{asset_a}\"))\n",
    "fig.add_trace(go.Scatter(x=EV_stocks_data[asset_b][\"timestamp\"], y=np.log(EV_stocks_data[asset_b][\"close\"]), mode=\"lines\", name=f\"{asset_b}\"))\n",
    "fig.update_layout(title=f\"{asset_a}  vs. {asset_b} Stock Log Prices\", xaxis_title=\"timestamp\", yaxis_title=\"Price (USD)\", legend=dict(x=0, y=1))\n",
    "fig.show()"
   ]
  },
  {
   "cell_type": "code",
   "execution_count": 7,
   "id": "6b50effc",
   "metadata": {},
   "outputs": [
    {
     "name": "stdout",
     "output_type": "stream",
     "text": [
      "                            OLS Regression Results                            \n",
      "==============================================================================\n",
      "Dep. Variable:                  close   R-squared:                       0.036\n",
      "Model:                            OLS   Adj. R-squared:                  0.034\n",
      "Method:                 Least Squares   F-statistic:                     27.73\n",
      "Date:                Mon, 07 Apr 2025   Prob (F-statistic):           1.82e-07\n",
      "Time:                        22:14:32   Log-Likelihood:                -375.27\n",
      "No. Observations:                 750   AIC:                             754.5\n",
      "Df Residuals:                     748   BIC:                             763.8\n",
      "Df Model:                           1                                         \n",
      "Covariance Type:            nonrobust                                         \n",
      "==============================================================================\n",
      "                 coef    std err          t      P>|t|      [0.025      0.975]\n",
      "------------------------------------------------------------------------------\n",
      "const          1.2572      0.305      4.120      0.000       0.658       1.856\n",
      "close          0.2952      0.056      5.266      0.000       0.185       0.405\n",
      "==============================================================================\n",
      "Omnibus:                      445.065   Durbin-Watson:                   0.012\n",
      "Prob(Omnibus):                  0.000   Jarque-Bera (JB):               52.161\n",
      "Skew:                           0.268   Prob(JB):                     4.71e-12\n",
      "Kurtosis:                       1.825   Cond. No.                         118.\n",
      "==============================================================================\n",
      "\n",
      "Notes:\n",
      "[1] Standard Errors assume that the covariance matrix of the errors is correctly specified.\n",
      "Cointegration test result:\n",
      "========================================\n",
      "Test Statistic: -2.078670694734936\n",
      "p-value: 0.48751994862493203\n"
     ]
    }
   ],
   "source": [
    "X = np.log(EV_stocks_data[asset_a][\"close\"])\n",
    "Y = np.log(EV_stocks_data[asset_b][\"close\"])\n",
    "X_const = sm.add_constant(X)  # Adds a constant term to the predictor\n",
    "model = sm.OLS(Y, X_const).fit()\n",
    "print(model.summary())\n",
    "import statsmodels.tsa.stattools as ts\n",
    "\n",
    "result = ts.coint(X, Y)\n",
    "print(\"Cointegration test result:\")\n",
    "print(\"========================================\")\n",
    "print(\"Test Statistic:\", result[0])\n",
    "print(\"p-value:\", result[1])"
   ]
  },
  {
   "cell_type": "code",
   "execution_count": 11,
   "id": "9ace8d96",
   "metadata": {},
   "outputs": [],
   "source": [
    "def rolling_adf(spread_series, time_index, window=90):\n",
    "    adf_stats = []\n",
    "    p_values = []\n",
    "    dates = []\n",
    "\n",
    "    for i in range(window, len(spread_series)):\n",
    "        window_data = spread_series.iloc[i - window : i]\n",
    "        result = adfuller(window_data, maxlag=1, autolag=None)\n",
    "        adf_stats.append(result[0])  # Test statistic\n",
    "        p_values.append(result[1])  # p-value\n",
    "        dates.append(time_index.iloc[i])\n",
    "    return pd.DataFrame({\"timestamp\": dates, \"adf_stat\": adf_stats, \"p_value\": p_values})\n",
    "\n",
    "\n",
    "trade_df = pd.merge(EV_stocks_data[\"RIVN\"][[\"timestamp\", \"close\"]], EV_stocks_data[\"TSLA\"][[\"timestamp\", \"close\"]], on=\"timestamp\", suffixes=(\"_RIVN\", \"_TSLA\"))\n",
    "trade_df[\"log_close_TSLA\"] = np.log(trade_df[\"close_TSLA\"])\n",
    "trade_df[\"log_close_RIVN\"] = np.log(trade_df[\"close_RIVN\"])\n",
    "X = trade_df[\"log_close_TSLA\"].astype(float)\n",
    "Y = trade_df[\"log_close_RIVN\"].astype(float)\n",
    "X_with_const = sm.add_constant(X)\n",
    "model = RollingOLS(endog=Y, exog=X_with_const, window=20)\n",
    "rres = model.fit()\n",
    "trade_df[\"hedge_ratio\"] = rres.params[\"log_close_TSLA\"]\n",
    "trade_df[\"spread\"] = trade_df[\"log_close_RIVN\"] - trade_df[\"hedge_ratio\"] * trade_df[\"log_close_TSLA\"]\n",
    "trade_df[\"z_score\"] = (trade_df[\"spread\"] - trade_df[\"spread\"].rolling(window=20).mean()) / trade_df[\"spread\"].rolling(window=20).std()\n",
    "trade_df.dropna(inplace=True)\n",
    "rolling_adf_df = rolling_adf(trade_df[\"spread\"], trade_df[\"timestamp\"], window=60)\n",
    "trade_df = pd.merge(trade_df, rolling_adf_df, on=\"timestamp\", how=\"left\")\n",
    "trade_df.dropna(inplace=True)"
   ]
  },
  {
   "cell_type": "code",
   "execution_count": 13,
   "id": "8f86e44d",
   "metadata": {},
   "outputs": [
    {
     "data": {
      "application/vnd.plotly.v1+json": {
       "config": {
        "plotlyServerURL": "https://plot.ly"
       },
       "data": [
        {
         "mode": "lines",
         "name": "Rolling ADF p-value",
         "type": "scatter",
         "x": [
          "2022-08-31",
          "2022-09-01",
          "2022-09-02",
          "2022-09-06",
          "2022-09-07",
          "2022-09-08",
          "2022-09-09",
          "2022-09-12",
          "2022-09-13",
          "2022-09-14",
          "2022-09-15",
          "2022-09-16",
          "2022-09-19",
          "2022-09-20",
          "2022-09-21",
          "2022-09-22",
          "2022-09-23",
          "2022-09-26",
          "2022-09-27",
          "2022-09-28",
          "2022-09-29",
          "2022-09-30",
          "2022-10-03",
          "2022-10-04",
          "2022-10-05",
          "2022-10-06",
          "2022-10-07",
          "2022-10-10",
          "2022-10-11",
          "2022-10-12",
          "2022-10-13",
          "2022-10-14",
          "2022-10-17",
          "2022-10-18",
          "2022-10-19",
          "2022-10-20",
          "2022-10-21",
          "2022-10-24",
          "2022-10-25",
          "2022-10-26",
          "2022-10-27",
          "2022-10-28",
          "2022-10-31",
          "2022-11-01",
          "2022-11-02",
          "2022-11-03",
          "2022-11-04",
          "2022-11-07",
          "2022-11-08",
          "2022-11-09",
          "2022-11-10",
          "2022-11-11",
          "2022-11-14",
          "2022-11-15",
          "2022-11-16",
          "2022-11-17",
          "2022-11-18",
          "2022-11-21",
          "2022-11-22",
          "2022-11-23",
          "2022-11-25",
          "2022-11-28",
          "2022-11-29",
          "2022-11-30",
          "2022-12-01",
          "2022-12-02",
          "2022-12-05",
          "2022-12-06",
          "2022-12-07",
          "2022-12-08",
          "2022-12-09",
          "2022-12-12",
          "2022-12-13",
          "2022-12-14",
          "2022-12-15",
          "2022-12-16",
          "2022-12-19",
          "2022-12-20",
          "2022-12-21",
          "2022-12-22",
          "2022-12-23",
          "2022-12-27",
          "2022-12-28",
          "2022-12-29",
          "2022-12-30",
          "2023-01-03",
          "2023-01-04",
          "2023-01-05",
          "2023-01-06",
          "2023-01-09",
          "2023-01-10",
          "2023-01-11",
          "2023-01-12",
          "2023-01-13",
          "2023-01-17",
          "2023-01-18",
          "2023-01-19",
          "2023-01-20",
          "2023-01-23",
          "2023-01-24",
          "2023-01-25",
          "2023-01-26",
          "2023-01-27",
          "2023-01-30",
          "2023-01-31",
          "2023-02-01",
          "2023-02-02",
          "2023-02-03",
          "2023-02-06",
          "2023-02-07",
          "2023-02-08",
          "2023-02-09",
          "2023-02-10",
          "2023-02-13",
          "2023-02-14",
          "2023-02-15",
          "2023-02-16",
          "2023-02-17",
          "2023-02-21",
          "2023-02-22",
          "2023-02-23",
          "2023-02-24",
          "2023-02-27",
          "2023-02-28",
          "2023-03-01",
          "2023-03-02",
          "2023-03-03",
          "2023-03-06",
          "2023-03-07",
          "2023-03-08",
          "2023-03-09",
          "2023-03-10",
          "2023-03-13",
          "2023-03-14",
          "2023-03-15",
          "2023-03-16",
          "2023-03-17",
          "2023-03-20",
          "2023-03-21",
          "2023-03-22",
          "2023-03-23",
          "2023-03-24",
          "2023-03-27",
          "2023-03-28",
          "2023-03-29",
          "2023-03-30",
          "2023-03-31",
          "2023-04-03",
          "2023-04-04",
          "2023-04-05",
          "2023-04-06",
          "2023-04-10",
          "2023-04-11",
          "2023-04-12",
          "2023-04-13",
          "2023-04-14",
          "2023-04-17",
          "2023-04-18",
          "2023-04-19",
          "2023-04-20",
          "2023-04-21",
          "2023-04-24",
          "2023-04-25",
          "2023-04-26",
          "2023-04-27",
          "2023-04-28",
          "2023-05-01",
          "2023-05-02",
          "2023-05-03",
          "2023-05-04",
          "2023-05-05",
          "2023-05-08",
          "2023-05-09",
          "2023-05-10",
          "2023-05-11",
          "2023-05-12",
          "2023-05-15",
          "2023-05-16",
          "2023-05-17",
          "2023-05-18",
          "2023-05-19",
          "2023-05-22",
          "2023-05-23",
          "2023-05-24",
          "2023-05-25",
          "2023-05-26",
          "2023-05-30",
          "2023-05-31",
          "2023-06-01",
          "2023-06-02",
          "2023-06-05",
          "2023-06-06",
          "2023-06-07",
          "2023-06-08",
          "2023-06-09",
          "2023-06-12",
          "2023-06-13",
          "2023-06-14",
          "2023-06-15",
          "2023-06-16",
          "2023-06-20",
          "2023-06-21",
          "2023-06-22",
          "2023-06-23",
          "2023-06-26",
          "2023-06-27",
          "2023-06-28",
          "2023-06-29",
          "2023-06-30",
          "2023-07-03",
          "2023-07-05",
          "2023-07-06",
          "2023-07-07",
          "2023-07-10",
          "2023-07-11",
          "2023-07-12",
          "2023-07-13",
          "2023-07-14",
          "2023-07-17",
          "2023-07-18",
          "2023-07-19",
          "2023-07-20",
          "2023-07-21",
          "2023-07-24",
          "2023-07-25",
          "2023-07-26",
          "2023-07-27",
          "2023-07-28",
          "2023-07-31",
          "2023-08-01",
          "2023-08-02",
          "2023-08-03",
          "2023-08-04",
          "2023-08-07",
          "2023-08-08",
          "2023-08-09",
          "2023-08-10",
          "2023-08-11",
          "2023-08-14",
          "2023-08-15",
          "2023-08-16",
          "2023-08-17",
          "2023-08-18",
          "2023-08-21",
          "2023-08-22",
          "2023-08-23",
          "2023-08-24",
          "2023-08-25",
          "2023-08-28",
          "2023-08-29",
          "2023-08-30",
          "2023-08-31",
          "2023-09-01",
          "2023-09-05",
          "2023-09-06",
          "2023-09-07",
          "2023-09-08",
          "2023-09-11",
          "2023-09-12",
          "2023-09-13",
          "2023-09-14",
          "2023-09-15",
          "2023-09-18",
          "2023-09-19",
          "2023-09-20",
          "2023-09-21",
          "2023-09-22",
          "2023-09-25",
          "2023-09-26",
          "2023-09-27",
          "2023-09-28",
          "2023-09-29",
          "2023-10-02",
          "2023-10-03",
          "2023-10-04",
          "2023-10-05",
          "2023-10-06",
          "2023-10-09",
          "2023-10-10",
          "2023-10-11",
          "2023-10-12",
          "2023-10-13",
          "2023-10-16",
          "2023-10-17",
          "2023-10-18",
          "2023-10-19",
          "2023-10-20",
          "2023-10-23",
          "2023-10-24",
          "2023-10-25",
          "2023-10-26",
          "2023-10-27",
          "2023-10-30",
          "2023-10-31",
          "2023-11-01",
          "2023-11-02",
          "2023-11-03",
          "2023-11-06",
          "2023-11-07",
          "2023-11-08",
          "2023-11-09",
          "2023-11-10",
          "2023-11-13",
          "2023-11-14",
          "2023-11-15",
          "2023-11-16",
          "2023-11-17",
          "2023-11-20",
          "2023-11-21",
          "2023-11-22",
          "2023-11-24",
          "2023-11-27",
          "2023-11-28",
          "2023-11-29",
          "2023-11-30",
          "2023-12-01",
          "2023-12-04",
          "2023-12-05",
          "2023-12-06",
          "2023-12-07",
          "2023-12-08",
          "2023-12-11",
          "2023-12-12",
          "2023-12-13",
          "2023-12-14",
          "2023-12-15",
          "2023-12-18",
          "2023-12-19",
          "2023-12-20",
          "2023-12-21",
          "2023-12-22",
          "2023-12-26",
          "2023-12-27",
          "2023-12-28",
          "2023-12-29",
          "2024-01-02",
          "2024-01-03",
          "2024-01-04",
          "2024-01-05",
          "2024-01-08",
          "2024-01-09",
          "2024-01-10",
          "2024-01-11",
          "2024-01-12",
          "2024-01-16",
          "2024-01-17",
          "2024-01-18",
          "2024-01-19",
          "2024-01-22",
          "2024-01-23",
          "2024-01-24",
          "2024-01-25",
          "2024-01-26",
          "2024-01-29",
          "2024-01-30",
          "2024-01-31",
          "2024-02-01",
          "2024-02-02",
          "2024-02-05",
          "2024-02-06",
          "2024-02-07",
          "2024-02-08",
          "2024-02-09",
          "2024-02-12",
          "2024-02-13",
          "2024-02-14",
          "2024-02-15",
          "2024-02-16",
          "2024-02-20",
          "2024-02-21",
          "2024-02-22",
          "2024-02-23",
          "2024-02-26",
          "2024-02-27",
          "2024-02-28",
          "2024-02-29",
          "2024-03-01",
          "2024-03-04",
          "2024-03-05",
          "2024-03-06",
          "2024-03-07",
          "2024-03-08",
          "2024-03-11",
          "2024-03-12",
          "2024-03-13",
          "2024-03-14",
          "2024-03-15",
          "2024-03-18",
          "2024-03-19",
          "2024-03-20",
          "2024-03-21",
          "2024-03-22",
          "2024-03-25",
          "2024-03-26",
          "2024-03-27",
          "2024-03-28",
          "2024-04-01",
          "2024-04-02",
          "2024-04-03",
          "2024-04-04",
          "2024-04-05",
          "2024-04-08",
          "2024-04-09",
          "2024-04-10",
          "2024-04-11",
          "2024-04-12",
          "2024-04-15",
          "2024-04-16",
          "2024-04-17",
          "2024-04-18",
          "2024-04-19",
          "2024-04-22",
          "2024-04-23",
          "2024-04-24",
          "2024-04-25",
          "2024-04-26",
          "2024-04-29",
          "2024-04-30",
          "2024-05-01",
          "2024-05-02",
          "2024-05-03",
          "2024-05-06",
          "2024-05-07",
          "2024-05-08",
          "2024-05-09",
          "2024-05-10",
          "2024-05-13",
          "2024-05-14",
          "2024-05-15",
          "2024-05-16",
          "2024-05-17",
          "2024-05-20",
          "2024-05-21",
          "2024-05-22",
          "2024-05-23",
          "2024-05-24",
          "2024-05-28",
          "2024-05-29",
          "2024-05-30",
          "2024-05-31",
          "2024-06-03",
          "2024-06-04",
          "2024-06-05",
          "2024-06-06",
          "2024-06-07",
          "2024-06-10",
          "2024-06-11",
          "2024-06-12",
          "2024-06-13",
          "2024-06-14",
          "2024-06-17",
          "2024-06-18",
          "2024-06-20",
          "2024-06-21",
          "2024-06-24",
          "2024-06-25",
          "2024-06-26",
          "2024-06-27",
          "2024-06-28",
          "2024-07-01",
          "2024-07-02",
          "2024-07-03",
          "2024-07-05",
          "2024-07-08",
          "2024-07-09",
          "2024-07-10",
          "2024-07-11",
          "2024-07-12",
          "2024-07-15",
          "2024-07-16",
          "2024-07-17",
          "2024-07-18",
          "2024-07-19",
          "2024-07-22",
          "2024-07-23",
          "2024-07-24",
          "2024-07-25",
          "2024-07-26",
          "2024-07-29",
          "2024-07-30",
          "2024-07-31",
          "2024-08-01",
          "2024-08-02",
          "2024-08-05",
          "2024-08-06",
          "2024-08-07",
          "2024-08-08",
          "2024-08-09",
          "2024-08-12",
          "2024-08-13",
          "2024-08-14",
          "2024-08-15",
          "2024-08-16",
          "2024-08-19",
          "2024-08-20",
          "2024-08-21",
          "2024-08-22",
          "2024-08-23",
          "2024-08-26",
          "2024-08-27",
          "2024-08-28",
          "2024-08-29",
          "2024-08-30",
          "2024-09-03",
          "2024-09-04",
          "2024-09-05",
          "2024-09-06",
          "2024-09-09",
          "2024-09-10",
          "2024-09-11",
          "2024-09-12",
          "2024-09-13",
          "2024-09-16",
          "2024-09-17",
          "2024-09-18",
          "2024-09-19",
          "2024-09-20",
          "2024-09-23",
          "2024-09-24",
          "2024-09-25",
          "2024-09-26",
          "2024-09-27",
          "2024-09-30",
          "2024-10-01",
          "2024-10-02",
          "2024-10-03",
          "2024-10-04",
          "2024-10-07",
          "2024-10-08",
          "2024-10-09",
          "2024-10-10",
          "2024-10-11",
          "2024-10-14",
          "2024-10-15",
          "2024-10-16",
          "2024-10-17",
          "2024-10-18",
          "2024-10-21",
          "2024-10-22",
          "2024-10-23",
          "2024-10-24",
          "2024-10-25",
          "2024-10-28",
          "2024-10-29",
          "2024-10-30",
          "2024-10-31",
          "2024-11-01",
          "2024-11-04",
          "2024-11-05",
          "2024-11-06",
          "2024-11-07",
          "2024-11-08",
          "2024-11-11",
          "2024-11-12",
          "2024-11-13",
          "2024-11-14",
          "2024-11-15",
          "2024-11-18",
          "2024-11-19",
          "2024-11-20",
          "2024-11-21",
          "2024-11-22",
          "2024-11-25",
          "2024-11-26",
          "2024-11-27",
          "2024-11-29",
          "2024-12-02",
          "2024-12-03",
          "2024-12-04",
          "2024-12-05",
          "2024-12-06",
          "2024-12-09",
          "2024-12-10",
          "2024-12-11",
          "2024-12-12",
          "2024-12-13",
          "2024-12-16",
          "2024-12-17",
          "2024-12-18",
          "2024-12-19",
          "2024-12-20",
          "2024-12-23",
          "2024-12-24",
          "2024-12-26",
          "2024-12-27",
          "2024-12-30",
          "2024-12-31",
          "2025-01-02",
          "2025-01-03",
          "2025-01-06",
          "2025-01-07",
          "2025-01-08",
          "2025-01-10",
          "2025-01-13",
          "2025-01-14",
          "2025-01-15",
          "2025-01-16",
          "2025-01-17",
          "2025-01-21",
          "2025-01-22",
          "2025-01-23",
          "2025-01-24",
          "2025-01-27",
          "2025-01-28",
          "2025-01-29",
          "2025-01-30",
          "2025-01-31",
          "2025-02-03",
          "2025-02-04",
          "2025-02-05",
          "2025-02-06",
          "2025-02-07",
          "2025-02-10",
          "2025-02-11",
          "2025-02-12",
          "2025-02-13",
          "2025-02-14",
          "2025-02-18",
          "2025-02-19",
          "2025-02-20",
          "2025-02-21",
          "2025-02-24",
          "2025-02-25",
          "2025-02-26",
          "2025-02-27",
          "2025-02-28",
          "2025-03-03",
          "2025-03-04",
          "2025-03-05",
          "2025-03-06",
          "2025-03-07",
          "2025-03-10",
          "2025-03-11",
          "2025-03-12",
          "2025-03-13",
          "2025-03-14",
          "2025-03-17",
          "2025-03-18",
          "2025-03-19",
          "2025-03-20",
          "2025-03-21",
          "2025-03-24",
          "2025-03-25",
          "2025-03-26",
          "2025-03-27",
          "2025-03-28",
          "2025-03-31",
          "2025-04-01",
          "2025-04-02",
          "2025-04-03",
          "2025-04-04",
          "2025-04-07"
         ],
         "y": {
          "bdata": "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",
          "dtype": "f8"
         }
        }
       ],
       "layout": {
        "annotations": [
         {
          "showarrow": false,
          "text": "Significance threshold (0.05)",
          "x": 1,
          "xanchor": "right",
          "xref": "x domain",
          "y": 0.05,
          "yanchor": "top",
          "yref": "y"
         }
        ],
        "shapes": [
         {
          "line": {
           "color": "red",
           "dash": "dash"
          },
          "type": "line",
          "x0": 0,
          "x1": 1,
          "xref": "x domain",
          "y0": 0.05,
          "y1": 0.05,
          "yref": "y"
         }
        ],
        "template": {
         "data": {
          "bar": [
           {
            "error_x": {
             "color": "#2a3f5f"
            },
            "error_y": {
             "color": "#2a3f5f"
            },
            "marker": {
             "line": {
              "color": "#E5ECF6",
              "width": 0.5
             },
             "pattern": {
              "fillmode": "overlay",
              "size": 10,
              "solidity": 0.2
             }
            },
            "type": "bar"
           }
          ],
          "barpolar": [
           {
            "marker": {
             "line": {
              "color": "#E5ECF6",
              "width": 0.5
             },
             "pattern": {
              "fillmode": "overlay",
              "size": 10,
              "solidity": 0.2
             }
            },
            "type": "barpolar"
           }
          ],
          "carpet": [
           {
            "aaxis": {
             "endlinecolor": "#2a3f5f",
             "gridcolor": "white",
             "linecolor": "white",
             "minorgridcolor": "white",
             "startlinecolor": "#2a3f5f"
            },
            "baxis": {
             "endlinecolor": "#2a3f5f",
             "gridcolor": "white",
             "linecolor": "white",
             "minorgridcolor": "white",
             "startlinecolor": "#2a3f5f"
            },
            "type": "carpet"
           }
          ],
          "choropleth": [
           {
            "colorbar": {
             "outlinewidth": 0,
             "ticks": ""
            },
            "type": "choropleth"
           }
          ],
          "contour": [
           {
            "colorbar": {
             "outlinewidth": 0,
             "ticks": ""
            },
            "colorscale": [
             [
              0,
              "#0d0887"
             ],
             [
              0.1111111111111111,
              "#46039f"
             ],
             [
              0.2222222222222222,
              "#7201a8"
             ],
             [
              0.3333333333333333,
              "#9c179e"
             ],
             [
              0.4444444444444444,
              "#bd3786"
             ],
             [
              0.5555555555555556,
              "#d8576b"
             ],
             [
              0.6666666666666666,
              "#ed7953"
             ],
             [
              0.7777777777777778,
              "#fb9f3a"
             ],
             [
              0.8888888888888888,
              "#fdca26"
             ],
             [
              1,
              "#f0f921"
             ]
            ],
            "type": "contour"
           }
          ],
          "contourcarpet": [
           {
            "colorbar": {
             "outlinewidth": 0,
             "ticks": ""
            },
            "type": "contourcarpet"
           }
          ],
          "heatmap": [
           {
            "colorbar": {
             "outlinewidth": 0,
             "ticks": ""
            },
            "colorscale": [
             [
              0,
              "#0d0887"
             ],
             [
              0.1111111111111111,
              "#46039f"
             ],
             [
              0.2222222222222222,
              "#7201a8"
             ],
             [
              0.3333333333333333,
              "#9c179e"
             ],
             [
              0.4444444444444444,
              "#bd3786"
             ],
             [
              0.5555555555555556,
              "#d8576b"
             ],
             [
              0.6666666666666666,
              "#ed7953"
             ],
             [
              0.7777777777777778,
              "#fb9f3a"
             ],
             [
              0.8888888888888888,
              "#fdca26"
             ],
             [
              1,
              "#f0f921"
             ]
            ],
            "type": "heatmap"
           }
          ],
          "histogram": [
           {
            "marker": {
             "pattern": {
              "fillmode": "overlay",
              "size": 10,
              "solidity": 0.2
             }
            },
            "type": "histogram"
           }
          ],
          "histogram2d": [
           {
            "colorbar": {
             "outlinewidth": 0,
             "ticks": ""
            },
            "colorscale": [
             [
              0,
              "#0d0887"
             ],
             [
              0.1111111111111111,
              "#46039f"
             ],
             [
              0.2222222222222222,
              "#7201a8"
             ],
             [
              0.3333333333333333,
              "#9c179e"
             ],
             [
              0.4444444444444444,
              "#bd3786"
             ],
             [
              0.5555555555555556,
              "#d8576b"
             ],
             [
              0.6666666666666666,
              "#ed7953"
             ],
             [
              0.7777777777777778,
              "#fb9f3a"
             ],
             [
              0.8888888888888888,
              "#fdca26"
             ],
             [
              1,
              "#f0f921"
             ]
            ],
            "type": "histogram2d"
           }
          ],
          "histogram2dcontour": [
           {
            "colorbar": {
             "outlinewidth": 0,
             "ticks": ""
            },
            "colorscale": [
             [
              0,
              "#0d0887"
             ],
             [
              0.1111111111111111,
              "#46039f"
             ],
             [
              0.2222222222222222,
              "#7201a8"
             ],
             [
              0.3333333333333333,
              "#9c179e"
             ],
             [
              0.4444444444444444,
              "#bd3786"
             ],
             [
              0.5555555555555556,
              "#d8576b"
             ],
             [
              0.6666666666666666,
              "#ed7953"
             ],
             [
              0.7777777777777778,
              "#fb9f3a"
             ],
             [
              0.8888888888888888,
              "#fdca26"
             ],
             [
              1,
              "#f0f921"
             ]
            ],
            "type": "histogram2dcontour"
           }
          ],
          "mesh3d": [
           {
            "colorbar": {
             "outlinewidth": 0,
             "ticks": ""
            },
            "type": "mesh3d"
           }
          ],
          "parcoords": [
           {
            "line": {
             "colorbar": {
              "outlinewidth": 0,
              "ticks": ""
             }
            },
            "type": "parcoords"
           }
          ],
          "pie": [
           {
            "automargin": true,
            "type": "pie"
           }
          ],
          "scatter": [
           {
            "fillpattern": {
             "fillmode": "overlay",
             "size": 10,
             "solidity": 0.2
            },
            "type": "scatter"
           }
          ],
          "scatter3d": [
           {
            "line": {
             "colorbar": {
              "outlinewidth": 0,
              "ticks": ""
             }
            },
            "marker": {
             "colorbar": {
              "outlinewidth": 0,
              "ticks": ""
             }
            },
            "type": "scatter3d"
           }
          ],
          "scattercarpet": [
           {
            "marker": {
             "colorbar": {
              "outlinewidth": 0,
              "ticks": ""
             }
            },
            "type": "scattercarpet"
           }
          ],
          "scattergeo": [
           {
            "marker": {
             "colorbar": {
              "outlinewidth": 0,
              "ticks": ""
             }
            },
            "type": "scattergeo"
           }
          ],
          "scattergl": [
           {
            "marker": {
             "colorbar": {
              "outlinewidth": 0,
              "ticks": ""
             }
            },
            "type": "scattergl"
           }
          ],
          "scattermap": [
           {
            "marker": {
             "colorbar": {
              "outlinewidth": 0,
              "ticks": ""
             }
            },
            "type": "scattermap"
           }
          ],
          "scattermapbox": [
           {
            "marker": {
             "colorbar": {
              "outlinewidth": 0,
              "ticks": ""
             }
            },
            "type": "scattermapbox"
           }
          ],
          "scatterpolar": [
           {
            "marker": {
             "colorbar": {
              "outlinewidth": 0,
              "ticks": ""
             }
            },
            "type": "scatterpolar"
           }
          ],
          "scatterpolargl": [
           {
            "marker": {
             "colorbar": {
              "outlinewidth": 0,
              "ticks": ""
             }
            },
            "type": "scatterpolargl"
           }
          ],
          "scatterternary": [
           {
            "marker": {
             "colorbar": {
              "outlinewidth": 0,
              "ticks": ""
             }
            },
            "type": "scatterternary"
           }
          ],
          "surface": [
           {
            "colorbar": {
             "outlinewidth": 0,
             "ticks": ""
            },
            "colorscale": [
             [
              0,
              "#0d0887"
             ],
             [
              0.1111111111111111,
              "#46039f"
             ],
             [
              0.2222222222222222,
              "#7201a8"
             ],
             [
              0.3333333333333333,
              "#9c179e"
             ],
             [
              0.4444444444444444,
              "#bd3786"
             ],
             [
              0.5555555555555556,
              "#d8576b"
             ],
             [
              0.6666666666666666,
              "#ed7953"
             ],
             [
              0.7777777777777778,
              "#fb9f3a"
             ],
             [
              0.8888888888888888,
              "#fdca26"
             ],
             [
              1,
              "#f0f921"
             ]
            ],
            "type": "surface"
           }
          ],
          "table": [
           {
            "cells": {
             "fill": {
              "color": "#EBF0F8"
             },
             "line": {
              "color": "white"
             }
            },
            "header": {
             "fill": {
              "color": "#C8D4E3"
             },
             "line": {
              "color": "white"
             }
            },
            "type": "table"
           }
          ]
         },
         "layout": {
          "annotationdefaults": {
           "arrowcolor": "#2a3f5f",
           "arrowhead": 0,
           "arrowwidth": 1
          },
          "autotypenumbers": "strict",
          "coloraxis": {
           "colorbar": {
            "outlinewidth": 0,
            "ticks": ""
           }
          },
          "colorscale": {
           "diverging": [
            [
             0,
             "#8e0152"
            ],
            [
             0.1,
             "#c51b7d"
            ],
            [
             0.2,
             "#de77ae"
            ],
            [
             0.3,
             "#f1b6da"
            ],
            [
             0.4,
             "#fde0ef"
            ],
            [
             0.5,
             "#f7f7f7"
            ],
            [
             0.6,
             "#e6f5d0"
            ],
            [
             0.7,
             "#b8e186"
            ],
            [
             0.8,
             "#7fbc41"
            ],
            [
             0.9,
             "#4d9221"
            ],
            [
             1,
             "#276419"
            ]
           ],
           "sequential": [
            [
             0,
             "#0d0887"
            ],
            [
             0.1111111111111111,
             "#46039f"
            ],
            [
             0.2222222222222222,
             "#7201a8"
            ],
            [
             0.3333333333333333,
             "#9c179e"
            ],
            [
             0.4444444444444444,
             "#bd3786"
            ],
            [
             0.5555555555555556,
             "#d8576b"
            ],
            [
             0.6666666666666666,
             "#ed7953"
            ],
            [
             0.7777777777777778,
             "#fb9f3a"
            ],
            [
             0.8888888888888888,
             "#fdca26"
            ],
            [
             1,
             "#f0f921"
            ]
           ],
           "sequentialminus": [
            [
             0,
             "#0d0887"
            ],
            [
             0.1111111111111111,
             "#46039f"
            ],
            [
             0.2222222222222222,
             "#7201a8"
            ],
            [
             0.3333333333333333,
             "#9c179e"
            ],
            [
             0.4444444444444444,
             "#bd3786"
            ],
            [
             0.5555555555555556,
             "#d8576b"
            ],
            [
             0.6666666666666666,
             "#ed7953"
            ],
            [
             0.7777777777777778,
             "#fb9f3a"
            ],
            [
             0.8888888888888888,
             "#fdca26"
            ],
            [
             1,
             "#f0f921"
            ]
           ]
          },
          "colorway": [
           "#636efa",
           "#EF553B",
           "#00cc96",
           "#ab63fa",
           "#FFA15A",
           "#19d3f3",
           "#FF6692",
           "#B6E880",
           "#FF97FF",
           "#FECB52"
          ],
          "font": {
           "color": "#2a3f5f"
          },
          "geo": {
           "bgcolor": "white",
           "lakecolor": "white",
           "landcolor": "#E5ECF6",
           "showlakes": true,
           "showland": true,
           "subunitcolor": "white"
          },
          "hoverlabel": {
           "align": "left"
          },
          "hovermode": "closest",
          "mapbox": {
           "style": "light"
          },
          "paper_bgcolor": "white",
          "plot_bgcolor": "#E5ECF6",
          "polar": {
           "angularaxis": {
            "gridcolor": "white",
            "linecolor": "white",
            "ticks": ""
           },
           "bgcolor": "#E5ECF6",
           "radialaxis": {
            "gridcolor": "white",
            "linecolor": "white",
            "ticks": ""
           }
          },
          "scene": {
           "xaxis": {
            "backgroundcolor": "#E5ECF6",
            "gridcolor": "white",
            "gridwidth": 2,
            "linecolor": "white",
            "showbackground": true,
            "ticks": "",
            "zerolinecolor": "white"
           },
           "yaxis": {
            "backgroundcolor": "#E5ECF6",
            "gridcolor": "white",
            "gridwidth": 2,
            "linecolor": "white",
            "showbackground": true,
            "ticks": "",
            "zerolinecolor": "white"
           },
           "zaxis": {
            "backgroundcolor": "#E5ECF6",
            "gridcolor": "white",
            "gridwidth": 2,
            "linecolor": "white",
            "showbackground": true,
            "ticks": "",
            "zerolinecolor": "white"
           }
          },
          "shapedefaults": {
           "line": {
            "color": "#2a3f5f"
           }
          },
          "ternary": {
           "aaxis": {
            "gridcolor": "white",
            "linecolor": "white",
            "ticks": ""
           },
           "baxis": {
            "gridcolor": "white",
            "linecolor": "white",
            "ticks": ""
           },
           "bgcolor": "#E5ECF6",
           "caxis": {
            "gridcolor": "white",
            "linecolor": "white",
            "ticks": ""
           }
          },
          "title": {
           "x": 0.05
          },
          "xaxis": {
           "automargin": true,
           "gridcolor": "white",
           "linecolor": "white",
           "ticks": "",
           "title": {
            "standoff": 15
           },
           "zerolinecolor": "white",
           "zerolinewidth": 2
          },
          "yaxis": {
           "automargin": true,
           "gridcolor": "white",
           "linecolor": "white",
           "ticks": "",
           "title": {
            "standoff": 15
           },
           "zerolinecolor": "white",
           "zerolinewidth": 2
          }
         }
        },
        "title": {
         "text": "Rolling ADF Test on Spread (window=60)"
        },
        "xaxis": {
         "title": {
          "text": "timestamp"
         }
        },
        "yaxis": {
         "title": {
          "text": "p-value"
         }
        }
       }
      }
     },
     "metadata": {},
     "output_type": "display_data"
    }
   ],
   "source": [
    "fig = go.Figure()\n",
    "rolling_window = 60\n",
    "fig.add_trace(go.Scatter(x=rolling_adf_df[\"timestamp\"], y=rolling_adf_df[\"p_value\"], mode=\"lines\", name=\"Rolling ADF p-value\"))\n",
    "fig.add_hline(y=0.05, line_dash=\"dash\", line_color=\"red\", annotation_text=\"Significance threshold (0.05)\", annotation_position=\"bottom right\")\n",
    "fig.update_layout(title=f\"Rolling ADF Test on Spread (window={rolling_window})\", xaxis_title=\"timestamp\", yaxis_title=\"p-value\")\n",
    "fig.show()"
   ]
  },
  {
   "cell_type": "code",
   "execution_count": null,
   "id": "cec08f33",
   "metadata": {},
   "outputs": [
    {
     "data": {
      "application/vnd.plotly.v1+json": {
       "config": {
        "plotlyServerURL": "https://plot.ly"
       },
       "data": [
        {
         "mode": "lines",
         "name": "Spread",
         "type": "scatter",
         "x": {
          "bdata": "PAA9AD4APwBAAEEAQgBDAEQARQBGAEcASABJAEoASwBMAE0ATgBPAFAAUQBSAFMAVABVAFYAVwBYAFkAWgBbAFwAXQBeAF8AYABhAGIAYwBkAGUAZgBnAGgAaQBqAGsAbABtAG4AbwBwAHEAcgBzAHQAdQB2AHcAeAB5AHoAewB8AH0AfgB/AIAAgQCCAIMAhACFAIYAhwCIAIkAigCLAIwAjQCOAI8AkACRAJIAkwCUAJUAlgCXAJgAmQCaAJsAnACdAJ4AnwCgAKEAogCjAKQApQCmAKcAqACpAKoAqwCsAK0ArgCvALAAsQCyALMAtAC1ALYAtwC4ALkAugC7ALwAvQC+AL8AwADBAMIAwwDEAMUAxgDHAMgAyQDKAMsAzADNAM4AzwDQANEA0gDTANQA1QDWANcA2ADZANoA2wDcAN0A3gDfAOAA4QDiAOMA5ADlAOYA5wDoAOkA6gDrAOwA7QDuAO8A8ADxAPIA8wD0APUA9gD3APgA+QD6APsA/AD9AP4A/wAAAQEBAgEDAQQBBQEGAQcBCAEJAQoBCwEMAQ0BDgEPARABEQESARMBFAEVARYBFwEYARkBGgEbARwBHQEeAR8BIAEhASIBIwEkASUBJgEnASgBKQEqASsBLAEtAS4BLwEwATEBMgEzATQBNQE2ATcBOAE5AToBOwE8AT0BPgE/AUABQQFCAUMBRAFFAUYBRwFIAUkBSgFLAUwBTQFOAU8BUAFRAVIBUwFUAVUBVgFXAVgBWQFaAVsBXAFdAV4BXwFgAWEBYgFjAWQBZQFmAWcBaAFpAWoBawFsAW0BbgFvAXABcQFyAXMBdAF1AXYBdwF4AXkBegF7AXwBfQF+AX8BgAGBAYIBgwGEAYUBhgGHAYgBiQGKAYsBjAGNAY4BjwGQAZEBkgGTAZQBlQGWAZcBmAGZAZoBmwGcAZ0BngGfAaABoQGiAaMBpAGlAaYBpwGoAakBqgGrAawBrQGuAa8BsAGxAbIBswG0AbUBtgG3AbgBuQG6AbsBvAG9Ab4BvwHAAcEBwgHDAcQBxQHGAccByAHJAcoBywHMAc0BzgHPAdAB0QHSAdMB1AHVAdYB1wHYAdkB2gHbAdwB3QHeAd8B4AHhAeIB4wHkAeUB5gHnAegB6QHqAesB7AHtAe4B7wHwAfEB8gHzAfQB9QH2AfcB+AH5AfoB+wH8Af0B/gH/AQACAQICAgMCBAIFAgYCBwIIAgkCCgILAgwCDQIOAg8CEAIRAhICEwIUAhUCFgIXAhgCGQIaAhsCHAIdAh4CHwIgAiECIgIjAiQCJQImAicCKAIpAioCKwIsAi0CLgIvAjACMQIyAjMCNAI1AjYCNwI4AjkCOgI7AjwCPQI+Aj8CQAJBAkICQwJEAkUCRgJHAkgCSQJKAksCTAJNAk4CTwJQAlECUgJTAlQCVQJWAlcCWAJZAloCWwJcAl0CXgJfAmACYQJiAmMCZAJlAmYCZwJoAmkCagJrAmwCbQJuAm8CcAJxAnICcwJ0AnUCdgJ3AngCeQJ6AnsCfAJ9An4CfwKAAoECggKDAoQChQKGAocCiAKJAooCiwKMAo0CjgKPApACkQKSApMClAKVApYClwKYApkCmgKbApwCnQKeAp8CoAKhAqICowKkAqUCpgKnAqgCqQKqAqsCrAKtAq4CrwKwArECsgKzArQCtQK2ArcCuAK5AroCuwK8Ar0CvgK/AsACwQLCAsMCxALFAsYCxwLIAskCygLLAswCzQLOAs8C0ALRAtIC0wLUAtUC1gLXAtgC2QLaAtsC3ALdAt4C3wLgAuEC4gLjAuQC5QLmAucC6ALpAuoC6wLsAu0C",
          "dtype": "i2"
         },
         "y": {
          "bdata": "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",
          "dtype": "f8"
         }
        },
        {
         "line": {
          "color": "black",
          "dash": "dash"
         },
         "mode": "lines",
         "name": "Zero Line",
         "type": "scatter",
         "x": [
          60,
          749
         ],
         "y": [
          0,
          0
         ]
        },
        {
         "line": {
          "color": "red",
          "dash": "dash"
         },
         "mode": "lines",
         "name": "+2σ",
         "type": "scatter",
         "x": [
          60,
          749
         ],
         "y": [
          9.005274781456976,
          9.005274781456976
         ]
        },
        {
         "line": {
          "color": "red",
          "dash": "dash"
         },
         "mode": "lines",
         "name": "-2σ",
         "type": "scatter",
         "x": [
          60,
          749
         ],
         "y": [
          -10.777848117507578,
          -10.777848117507578
         ]
        },
        {
         "line": {
          "color": "green",
          "dash": "dash"
         },
         "mode": "lines",
         "name": "+0.5σ",
         "type": "scatter",
         "x": [
          60,
          749
         ],
         "y": [
          1.586603694345269,
          1.586603694345269
         ]
        },
        {
         "line": {
          "color": "green",
          "dash": "dash"
         },
         "mode": "lines",
         "name": "-0.5σ",
         "type": "scatter",
         "x": [
          60,
          749
         ],
         "y": [
          -3.3591770303958692,
          -3.3591770303958692
         ]
        },
        {
         "marker": {
          "color": "blue",
          "size": 10
         },
         "mode": "markers",
         "name": "Entry",
         "type": "scatter",
         "x": {
          "bdata": "PwBDAF0AeQCLAI0ApADBAMQA3QDzABQBMwE1ATcBRQFvAXoBkwGiAacBuQHVAdcB8AH4ARMCFQIgAioCPQJWAmcCdwKYApsCrwLBAg==",
          "dtype": "i2"
         },
         "y": {
          "bdata": "xBSNPY8VC8Aqi59BGWEcwBoSc/xs8fc/GL5JdItK27+qaQI2wav7v9S9SV7QEg/AHuGuyn1HBMDw7UdiyULqv29c+Ml+IgZAuQjcw9a8BkCA+28H156/v+GFfqYdYg/AQEbHSJoo879GLobcnRIdwHA2J9MGOzDAemLIduQJFkCgZlQHGZ/RPzAjprEfphJAREdvF1cf5T+c6wByO5sLwDSTKPJLNy/AjlK7ZoFcIMCmtfXIabQRQGMx9LiXHylAgL8AQCH8BcDWdelXUHsawBsdzcyiRQRA6MFObZEvF0AaT4VD11UcQB1pAcnpxgDA2AFu1xPZ3r/GkfXT21UQQKBbSfPi+xdAejaalK9e7D/OgZiNqkPxPyK6TeB8qADAypzrkjJR+j9l5xGD+nEAwA==",
          "dtype": "f8"
         }
        },
        {
         "marker": {
          "color": "purple",
          "size": 10
         },
         "mode": "markers",
         "name": "Exit",
         "type": "scatter",
         "x": {
          "bdata": "QgBGAGAAgwCMAJIArgDDAMwA5wD6ABYBNAE2AUEBTwF5AX8BnQGmAbEBwwHWAd0B9QH+ARQCGQImAjQCRgJgAnECgQKaAqUCuQLGAg==",
          "dtype": "i2"
         },
         "y": {
          "bdata": "tffTzEKMFsAmkh37ipYNwOjZ/3btxNG/r2WybOkRAEBGBG1ffBAIwIC+QAZx2Zw/XBJNIon2CcAgXp6DyOX6P1CLVcrkB+o/brp9AMOZHsAOzv3lpqr/v97ldvCt4AHAQ+3DoODQDsDks0mypg8owFhKy2nLcivA4I+AjoHC5T/r9DdtYUsFQH+kj/9hEwFAHhFx8pzV7j96S2SaOMgpwCueU+b4iTDAAODinQDkDMBD17DUyRojQMyOBQCLiA5AUMJXuFOb5j8GFPeItEYHwBY623O4uw9AaGnA+Yqz+T/eXdS3P6UUQGn1L+VeQgXAAI73IGIv6L8oNpFR/g0LQBIXOTq3lyRALuQUOZyZ9T8QYM2rRkr7v4X/9ePI7gLAqlTIB8BTA0DAkSdF+Ma6Pw==",
          "dtype": "f8"
         }
        }
       ],
       "layout": {
        "template": {
         "data": {
          "bar": [
           {
            "error_x": {
             "color": "#2a3f5f"
            },
            "error_y": {
             "color": "#2a3f5f"
            },
            "marker": {
             "line": {
              "color": "white",
              "width": 0.5
             },
             "pattern": {
              "fillmode": "overlay",
              "size": 10,
              "solidity": 0.2
             }
            },
            "type": "bar"
           }
          ],
          "barpolar": [
           {
            "marker": {
             "line": {
              "color": "white",
              "width": 0.5
             },
             "pattern": {
              "fillmode": "overlay",
              "size": 10,
              "solidity": 0.2
             }
            },
            "type": "barpolar"
           }
          ],
          "carpet": [
           {
            "aaxis": {
             "endlinecolor": "#2a3f5f",
             "gridcolor": "#C8D4E3",
             "linecolor": "#C8D4E3",
             "minorgridcolor": "#C8D4E3",
             "startlinecolor": "#2a3f5f"
            },
            "baxis": {
             "endlinecolor": "#2a3f5f",
             "gridcolor": "#C8D4E3",
             "linecolor": "#C8D4E3",
             "minorgridcolor": "#C8D4E3",
             "startlinecolor": "#2a3f5f"
            },
            "type": "carpet"
           }
          ],
          "choropleth": [
           {
            "colorbar": {
             "outlinewidth": 0,
             "ticks": ""
            },
            "type": "choropleth"
           }
          ],
          "contour": [
           {
            "colorbar": {
             "outlinewidth": 0,
             "ticks": ""
            },
            "colorscale": [
             [
              0,
              "#0d0887"
             ],
             [
              0.1111111111111111,
              "#46039f"
             ],
             [
              0.2222222222222222,
              "#7201a8"
             ],
             [
              0.3333333333333333,
              "#9c179e"
             ],
             [
              0.4444444444444444,
              "#bd3786"
             ],
             [
              0.5555555555555556,
              "#d8576b"
             ],
             [
              0.6666666666666666,
              "#ed7953"
             ],
             [
              0.7777777777777778,
              "#fb9f3a"
             ],
             [
              0.8888888888888888,
              "#fdca26"
             ],
             [
              1,
              "#f0f921"
             ]
            ],
            "type": "contour"
           }
          ],
          "contourcarpet": [
           {
            "colorbar": {
             "outlinewidth": 0,
             "ticks": ""
            },
            "type": "contourcarpet"
           }
          ],
          "heatmap": [
           {
            "colorbar": {
             "outlinewidth": 0,
             "ticks": ""
            },
            "colorscale": [
             [
              0,
              "#0d0887"
             ],
             [
              0.1111111111111111,
              "#46039f"
             ],
             [
              0.2222222222222222,
              "#7201a8"
             ],
             [
              0.3333333333333333,
              "#9c179e"
             ],
             [
              0.4444444444444444,
              "#bd3786"
             ],
             [
              0.5555555555555556,
              "#d8576b"
             ],
             [
              0.6666666666666666,
              "#ed7953"
             ],
             [
              0.7777777777777778,
              "#fb9f3a"
             ],
             [
              0.8888888888888888,
              "#fdca26"
             ],
             [
              1,
              "#f0f921"
             ]
            ],
            "type": "heatmap"
           }
          ],
          "histogram": [
           {
            "marker": {
             "pattern": {
              "fillmode": "overlay",
              "size": 10,
              "solidity": 0.2
             }
            },
            "type": "histogram"
           }
          ],
          "histogram2d": [
           {
            "colorbar": {
             "outlinewidth": 0,
             "ticks": ""
            },
            "colorscale": [
             [
              0,
              "#0d0887"
             ],
             [
              0.1111111111111111,
              "#46039f"
             ],
             [
              0.2222222222222222,
              "#7201a8"
             ],
             [
              0.3333333333333333,
              "#9c179e"
             ],
             [
              0.4444444444444444,
              "#bd3786"
             ],
             [
              0.5555555555555556,
              "#d8576b"
             ],
             [
              0.6666666666666666,
              "#ed7953"
             ],
             [
              0.7777777777777778,
              "#fb9f3a"
             ],
             [
              0.8888888888888888,
              "#fdca26"
             ],
             [
              1,
              "#f0f921"
             ]
            ],
            "type": "histogram2d"
           }
          ],
          "histogram2dcontour": [
           {
            "colorbar": {
             "outlinewidth": 0,
             "ticks": ""
            },
            "colorscale": [
             [
              0,
              "#0d0887"
             ],
             [
              0.1111111111111111,
              "#46039f"
             ],
             [
              0.2222222222222222,
              "#7201a8"
             ],
             [
              0.3333333333333333,
              "#9c179e"
             ],
             [
              0.4444444444444444,
              "#bd3786"
             ],
             [
              0.5555555555555556,
              "#d8576b"
             ],
             [
              0.6666666666666666,
              "#ed7953"
             ],
             [
              0.7777777777777778,
              "#fb9f3a"
             ],
             [
              0.8888888888888888,
              "#fdca26"
             ],
             [
              1,
              "#f0f921"
             ]
            ],
            "type": "histogram2dcontour"
           }
          ],
          "mesh3d": [
           {
            "colorbar": {
             "outlinewidth": 0,
             "ticks": ""
            },
            "type": "mesh3d"
           }
          ],
          "parcoords": [
           {
            "line": {
             "colorbar": {
              "outlinewidth": 0,
              "ticks": ""
             }
            },
            "type": "parcoords"
           }
          ],
          "pie": [
           {
            "automargin": true,
            "type": "pie"
           }
          ],
          "scatter": [
           {
            "fillpattern": {
             "fillmode": "overlay",
             "size": 10,
             "solidity": 0.2
            },
            "type": "scatter"
           }
          ],
          "scatter3d": [
           {
            "line": {
             "colorbar": {
              "outlinewidth": 0,
              "ticks": ""
             }
            },
            "marker": {
             "colorbar": {
              "outlinewidth": 0,
              "ticks": ""
             }
            },
            "type": "scatter3d"
           }
          ],
          "scattercarpet": [
           {
            "marker": {
             "colorbar": {
              "outlinewidth": 0,
              "ticks": ""
             }
            },
            "type": "scattercarpet"
           }
          ],
          "scattergeo": [
           {
            "marker": {
             "colorbar": {
              "outlinewidth": 0,
              "ticks": ""
             }
            },
            "type": "scattergeo"
           }
          ],
          "scattergl": [
           {
            "marker": {
             "colorbar": {
              "outlinewidth": 0,
              "ticks": ""
             }
            },
            "type": "scattergl"
           }
          ],
          "scattermap": [
           {
            "marker": {
             "colorbar": {
              "outlinewidth": 0,
              "ticks": ""
             }
            },
            "type": "scattermap"
           }
          ],
          "scattermapbox": [
           {
            "marker": {
             "colorbar": {
              "outlinewidth": 0,
              "ticks": ""
             }
            },
            "type": "scattermapbox"
           }
          ],
          "scatterpolar": [
           {
            "marker": {
             "colorbar": {
              "outlinewidth": 0,
              "ticks": ""
             }
            },
            "type": "scatterpolar"
           }
          ],
          "scatterpolargl": [
           {
            "marker": {
             "colorbar": {
              "outlinewidth": 0,
              "ticks": ""
             }
            },
            "type": "scatterpolargl"
           }
          ],
          "scatterternary": [
           {
            "marker": {
             "colorbar": {
              "outlinewidth": 0,
              "ticks": ""
             }
            },
            "type": "scatterternary"
           }
          ],
          "surface": [
           {
            "colorbar": {
             "outlinewidth": 0,
             "ticks": ""
            },
            "colorscale": [
             [
              0,
              "#0d0887"
             ],
             [
              0.1111111111111111,
              "#46039f"
             ],
             [
              0.2222222222222222,
              "#7201a8"
             ],
             [
              0.3333333333333333,
              "#9c179e"
             ],
             [
              0.4444444444444444,
              "#bd3786"
             ],
             [
              0.5555555555555556,
              "#d8576b"
             ],
             [
              0.6666666666666666,
              "#ed7953"
             ],
             [
              0.7777777777777778,
              "#fb9f3a"
             ],
             [
              0.8888888888888888,
              "#fdca26"
             ],
             [
              1,
              "#f0f921"
             ]
            ],
            "type": "surface"
           }
          ],
          "table": [
           {
            "cells": {
             "fill": {
              "color": "#EBF0F8"
             },
             "line": {
              "color": "white"
             }
            },
            "header": {
             "fill": {
              "color": "#C8D4E3"
             },
             "line": {
              "color": "white"
             }
            },
            "type": "table"
           }
          ]
         },
         "layout": {
          "annotationdefaults": {
           "arrowcolor": "#2a3f5f",
           "arrowhead": 0,
           "arrowwidth": 1
          },
          "autotypenumbers": "strict",
          "coloraxis": {
           "colorbar": {
            "outlinewidth": 0,
            "ticks": ""
           }
          },
          "colorscale": {
           "diverging": [
            [
             0,
             "#8e0152"
            ],
            [
             0.1,
             "#c51b7d"
            ],
            [
             0.2,
             "#de77ae"
            ],
            [
             0.3,
             "#f1b6da"
            ],
            [
             0.4,
             "#fde0ef"
            ],
            [
             0.5,
             "#f7f7f7"
            ],
            [
             0.6,
             "#e6f5d0"
            ],
            [
             0.7,
             "#b8e186"
            ],
            [
             0.8,
             "#7fbc41"
            ],
            [
             0.9,
             "#4d9221"
            ],
            [
             1,
             "#276419"
            ]
           ],
           "sequential": [
            [
             0,
             "#0d0887"
            ],
            [
             0.1111111111111111,
             "#46039f"
            ],
            [
             0.2222222222222222,
             "#7201a8"
            ],
            [
             0.3333333333333333,
             "#9c179e"
            ],
            [
             0.4444444444444444,
             "#bd3786"
            ],
            [
             0.5555555555555556,
             "#d8576b"
            ],
            [
             0.6666666666666666,
             "#ed7953"
            ],
            [
             0.7777777777777778,
             "#fb9f3a"
            ],
            [
             0.8888888888888888,
             "#fdca26"
            ],
            [
             1,
             "#f0f921"
            ]
           ],
           "sequentialminus": [
            [
             0,
             "#0d0887"
            ],
            [
             0.1111111111111111,
             "#46039f"
            ],
            [
             0.2222222222222222,
             "#7201a8"
            ],
            [
             0.3333333333333333,
             "#9c179e"
            ],
            [
             0.4444444444444444,
             "#bd3786"
            ],
            [
             0.5555555555555556,
             "#d8576b"
            ],
            [
             0.6666666666666666,
             "#ed7953"
            ],
            [
             0.7777777777777778,
             "#fb9f3a"
            ],
            [
             0.8888888888888888,
             "#fdca26"
            ],
            [
             1,
             "#f0f921"
            ]
           ]
          },
          "colorway": [
           "#636efa",
           "#EF553B",
           "#00cc96",
           "#ab63fa",
           "#FFA15A",
           "#19d3f3",
           "#FF6692",
           "#B6E880",
           "#FF97FF",
           "#FECB52"
          ],
          "font": {
           "color": "#2a3f5f"
          },
          "geo": {
           "bgcolor": "white",
           "lakecolor": "white",
           "landcolor": "white",
           "showlakes": true,
           "showland": true,
           "subunitcolor": "#C8D4E3"
          },
          "hoverlabel": {
           "align": "left"
          },
          "hovermode": "closest",
          "mapbox": {
           "style": "light"
          },
          "paper_bgcolor": "white",
          "plot_bgcolor": "white",
          "polar": {
           "angularaxis": {
            "gridcolor": "#EBF0F8",
            "linecolor": "#EBF0F8",
            "ticks": ""
           },
           "bgcolor": "white",
           "radialaxis": {
            "gridcolor": "#EBF0F8",
            "linecolor": "#EBF0F8",
            "ticks": ""
           }
          },
          "scene": {
           "xaxis": {
            "backgroundcolor": "white",
            "gridcolor": "#DFE8F3",
            "gridwidth": 2,
            "linecolor": "#EBF0F8",
            "showbackground": true,
            "ticks": "",
            "zerolinecolor": "#EBF0F8"
           },
           "yaxis": {
            "backgroundcolor": "white",
            "gridcolor": "#DFE8F3",
            "gridwidth": 2,
            "linecolor": "#EBF0F8",
            "showbackground": true,
            "ticks": "",
            "zerolinecolor": "#EBF0F8"
           },
           "zaxis": {
            "backgroundcolor": "white",
            "gridcolor": "#DFE8F3",
            "gridwidth": 2,
            "linecolor": "#EBF0F8",
            "showbackground": true,
            "ticks": "",
            "zerolinecolor": "#EBF0F8"
           }
          },
          "shapedefaults": {
           "line": {
            "color": "#2a3f5f"
           }
          },
          "ternary": {
           "aaxis": {
            "gridcolor": "#DFE8F3",
            "linecolor": "#A2B1C6",
            "ticks": ""
           },
           "baxis": {
            "gridcolor": "#DFE8F3",
            "linecolor": "#A2B1C6",
            "ticks": ""
           },
           "bgcolor": "white",
           "caxis": {
            "gridcolor": "#DFE8F3",
            "linecolor": "#A2B1C6",
            "ticks": ""
           }
          },
          "title": {
           "x": 0.05
          },
          "xaxis": {
           "automargin": true,
           "gridcolor": "#EBF0F8",
           "linecolor": "#EBF0F8",
           "ticks": "",
           "title": {
            "standoff": 15
           },
           "zerolinecolor": "#EBF0F8",
           "zerolinewidth": 2
          },
          "yaxis": {
           "automargin": true,
           "gridcolor": "#EBF0F8",
           "linecolor": "#EBF0F8",
           "ticks": "",
           "title": {
            "standoff": 15
           },
           "zerolinecolor": "#EBF0F8",
           "zerolinewidth": 2
          }
         }
        },
        "title": {
         "text": "Spread and Trade Entry/Exit Points"
        },
        "xaxis": {
         "title": {
          "text": "Timestamp"
         }
        },
        "yaxis": {
         "title": {
          "text": "Spread"
         }
        }
       }
      }
     },
     "metadata": {},
     "output_type": "display_data"
    }
   ],
   "source": [
    "# Step-by-step trade logic\n",
    "df = trade_df.copy()\n",
    "df[\"position\"] = 0  # 1: long spread, -1: short spread\n",
    "df[\"trade_entry\"] = False\n",
    "df[\"trade_exit\"] = False\n",
    "df[\"pnl\"] = 0.0\n",
    "\n",
    "in_position = False\n",
    "position_type = 0\n",
    "entry_index = None\n",
    "entry_spread = None\n",
    "\n",
    "for i in range(len(df)):\n",
    "    z = df[\"z_score\"].iloc[i]\n",
    "    spread = df[\"spread\"].iloc[i]\n",
    "\n",
    "    if not in_position:\n",
    "        if z > 2:\n",
    "            df.at[df.index[i], \"position\"] = -1\n",
    "            df.at[df.index[i], \"trade_entry\"] = True\n",
    "            in_position = True\n",
    "            position_type = -1\n",
    "            entry_index = i\n",
    "            entry_spread = spread\n",
    "        elif z < -2:\n",
    "            df.at[df.index[i], \"position\"] = 1\n",
    "            df.at[df.index[i], \"trade_entry\"] = True\n",
    "            in_position = True\n",
    "            position_type = 1\n",
    "            entry_index = i\n",
    "            entry_spread = spread\n",
    "    else:\n",
    "        stop_loss_triggered = (z > 3 and position_type == -1) or (z < -3 and position_type == 1)\n",
    "        mean_reversion_triggered = abs(z) < 0.5\n",
    "        timeout_triggered = i - entry_index >= 10\n",
    "\n",
    "        if stop_loss_triggered or mean_reversion_triggered or timeout_triggered:\n",
    "            df.at[df.index[i], \"position\"] = 0\n",
    "            df.at[df.index[i], \"trade_exit\"] = True\n",
    "            pnl = -(spread - entry_spread)\n",
    "            df.at[df.index[i], \"pnl\"] = pnl\n",
    "            in_position = False\n",
    "            position_type = 0\n",
    "            entry_index = None\n",
    "            entry_spread = None\n",
    "        else:\n",
    "            df.at[df.index[i], \"position\"] = position_type\n",
    "\n",
    "# Assuming 'df' is your DataFrame from the previous cell containing the computed spread, trade_entry, and trade_exit columns\n",
    "spread_mean = df[\"spread\"].mean()\n",
    "spread_std = df[\"spread\"].std()\n",
    "fig = go.Figure()\n",
    "# Plot the spread line\n",
    "fig.add_trace(go.Scatter(x=df.index, y=df[\"spread\"], mode=\"lines\", name=\"Spread\"))\n",
    "# Plot horizontal lines: zero, ±2σ, and ±0.5σ\n",
    "fig.add_trace(go.Scatter(x=[df.index[0], df.index[-1]], y=[0, 0], mode=\"lines\", name=\"Zero Line\", line=dict(dash=\"dash\", color=\"black\")))\n",
    "fig.add_trace(go.Scatter(x=[df.index[0], df.index[-1]], y=[spread_mean + 2 * spread_std, spread_mean + 2 * spread_std], mode=\"lines\", name=\"+2σ\", line=dict(dash=\"dash\", color=\"red\")))\n",
    "fig.add_trace(go.Scatter(x=[df.index[0], df.index[-1]], y=[spread_mean - 2 * spread_std, spread_mean - 2 * spread_std], mode=\"lines\", name=\"-2σ\", line=dict(dash=\"dash\", color=\"red\")))\n",
    "fig.add_trace(go.Scatter(x=[df.index[0], df.index[-1]], y=[spread_mean + 0.5 * spread_std, spread_mean + 0.5 * spread_std], mode=\"lines\", name=\"+0.5σ\", line=dict(dash=\"dash\", color=\"green\")))\n",
    "fig.add_trace(go.Scatter(x=[df.index[0], df.index[-1]], y=[spread_mean - 0.5 * spread_std, spread_mean - 0.5 * spread_std], mode=\"lines\", name=\"-0.5σ\", line=dict(dash=\"dash\", color=\"green\")))\n",
    "# Scatter markers for trade entries and exits\n",
    "entries_df = df[df[\"trade_entry\"]]\n",
    "exits_df = df[df[\"trade_exit\"]]\n",
    "fig.add_trace(go.Scatter(x=entries_df.index, y=entries_df[\"spread\"], mode=\"markers\", name=\"Entry\", marker=dict(color=\"blue\", size=10)))\n",
    "fig.add_trace(go.Scatter(x=exits_df.index, y=exits_df[\"spread\"], mode=\"markers\", name=\"Exit\", marker=dict(color=\"purple\", size=10)))\n",
    "fig.update_layout(title=\"Spread and Trade Entry/Exit Points\", xaxis_title=\"Timestamp\", yaxis_title=\"Spread\", template=\"plotly_white\")\n",
    "fig.show()"
   ]
  },
  {
   "cell_type": "code",
   "execution_count": null,
   "id": "63ffb0b4",
   "metadata": {},
   "outputs": [
    {
     "data": {
      "text/html": [
       "<div>\n",
       "<style scoped>\n",
       "    .dataframe tbody tr th:only-of-type {\n",
       "        vertical-align: middle;\n",
       "    }\n",
       "\n",
       "    .dataframe tbody tr th {\n",
       "        vertical-align: top;\n",
       "    }\n",
       "\n",
       "    .dataframe thead th {\n",
       "        text-align: right;\n",
       "    }\n",
       "</style>\n",
       "<table border=\"1\" class=\"dataframe\">\n",
       "  <thead>\n",
       "    <tr style=\"text-align: right;\">\n",
       "      <th></th>\n",
       "      <th>timestamp</th>\n",
       "      <th>close_RIVN</th>\n",
       "      <th>close_TSLA</th>\n",
       "      <th>log_close_TSLA</th>\n",
       "      <th>log_close_RIVN</th>\n",
       "      <th>hedge_ratio</th>\n",
       "      <th>spread</th>\n",
       "      <th>z_score</th>\n",
       "      <th>adf_stat</th>\n",
       "      <th>p_value</th>\n",
       "      <th>position</th>\n",
       "      <th>trade_entry</th>\n",
       "      <th>trade_exit</th>\n",
       "      <th>pnl</th>\n",
       "      <th>cumulative_pnl</th>\n",
       "    </tr>\n",
       "  </thead>\n",
       "  <tbody>\n",
       "    <tr>\n",
       "      <th>60</th>\n",
       "      <td>2022-07-08</td>\n",
       "      <td>31.99</td>\n",
       "      <td>250.76</td>\n",
       "      <td>5.524496</td>\n",
       "      <td>3.465423</td>\n",
       "      <td>1.108226</td>\n",
       "      <td>-2.656969</td>\n",
       "      <td>-1.225487</td>\n",
       "      <td>-1.551199</td>\n",
       "      <td>0.508049</td>\n",
       "      <td>0</td>\n",
       "      <td>False</td>\n",
       "      <td>False</td>\n",
       "      <td>0.0</td>\n",
       "      <td>0.000000</td>\n",
       "    </tr>\n",
       "    <tr>\n",
       "      <th>61</th>\n",
       "      <td>2022-07-11</td>\n",
       "      <td>29.93</td>\n",
       "      <td>234.34</td>\n",
       "      <td>5.456773</td>\n",
       "      <td>3.398861</td>\n",
       "      <td>1.132528</td>\n",
       "      <td>-2.781088</td>\n",
       "      <td>-1.369341</td>\n",
       "      <td>-1.838264</td>\n",
       "      <td>0.361637</td>\n",
       "      <td>0</td>\n",
       "      <td>False</td>\n",
       "      <td>False</td>\n",
       "      <td>0.0</td>\n",
       "      <td>0.000000</td>\n",
       "    </tr>\n",
       "    <tr>\n",
       "      <th>62</th>\n",
       "      <td>2022-07-12</td>\n",
       "      <td>30.15</td>\n",
       "      <td>233.07</td>\n",
       "      <td>5.451339</td>\n",
       "      <td>3.406185</td>\n",
       "      <td>1.141880</td>\n",
       "      <td>-2.818590</td>\n",
       "      <td>-1.551397</td>\n",
       "      <td>-1.676010</td>\n",
       "      <td>0.443513</td>\n",
       "      <td>0</td>\n",
       "      <td>False</td>\n",
       "      <td>False</td>\n",
       "      <td>0.0</td>\n",
       "      <td>0.000000</td>\n",
       "    </tr>\n",
       "    <tr>\n",
       "      <th>63</th>\n",
       "      <td>2022-07-13</td>\n",
       "      <td>30.76</td>\n",
       "      <td>237.04</td>\n",
       "      <td>5.468229</td>\n",
       "      <td>3.426215</td>\n",
       "      <td>1.245694</td>\n",
       "      <td>-3.385527</td>\n",
       "      <td>-2.298003</td>\n",
       "      <td>-1.857733</td>\n",
       "      <td>0.352199</td>\n",
       "      <td>1</td>\n",
       "      <td>True</td>\n",
       "      <td>False</td>\n",
       "      <td>0.0</td>\n",
       "      <td>0.000000</td>\n",
       "    </tr>\n",
       "    <tr>\n",
       "      <th>64</th>\n",
       "      <td>2022-07-14</td>\n",
       "      <td>30.83</td>\n",
       "      <td>238.31</td>\n",
       "      <td>5.473572</td>\n",
       "      <td>3.428488</td>\n",
       "      <td>1.327210</td>\n",
       "      <td>-3.836090</td>\n",
       "      <td>-2.618729</td>\n",
       "      <td>-2.188877</td>\n",
       "      <td>0.210307</td>\n",
       "      <td>1</td>\n",
       "      <td>False</td>\n",
       "      <td>False</td>\n",
       "      <td>0.0</td>\n",
       "      <td>0.000000</td>\n",
       "    </tr>\n",
       "    <tr>\n",
       "      <th>...</th>\n",
       "      <td>...</td>\n",
       "      <td>...</td>\n",
       "      <td>...</td>\n",
       "      <td>...</td>\n",
       "      <td>...</td>\n",
       "      <td>...</td>\n",
       "      <td>...</td>\n",
       "      <td>...</td>\n",
       "      <td>...</td>\n",
       "      <td>...</td>\n",
       "      <td>...</td>\n",
       "      <td>...</td>\n",
       "      <td>...</td>\n",
       "      <td>...</td>\n",
       "      <td>...</td>\n",
       "    </tr>\n",
       "    <tr>\n",
       "      <th>745</th>\n",
       "      <td>2025-04-01</td>\n",
       "      <td>13.28</td>\n",
       "      <td>268.46</td>\n",
       "      <td>5.592702</td>\n",
       "      <td>2.586259</td>\n",
       "      <td>0.593491</td>\n",
       "      <td>-0.732960</td>\n",
       "      <td>-0.727309</td>\n",
       "      <td>-0.680060</td>\n",
       "      <td>0.851847</td>\n",
       "      <td>0</td>\n",
       "      <td>False</td>\n",
       "      <td>False</td>\n",
       "      <td>0.0</td>\n",
       "      <td>19.805438</td>\n",
       "    </tr>\n",
       "    <tr>\n",
       "      <th>746</th>\n",
       "      <td>2025-04-02</td>\n",
       "      <td>12.49</td>\n",
       "      <td>282.76</td>\n",
       "      <td>5.644598</td>\n",
       "      <td>2.524928</td>\n",
       "      <td>0.663671</td>\n",
       "      <td>-1.221229</td>\n",
       "      <td>-1.301616</td>\n",
       "      <td>-0.833207</td>\n",
       "      <td>0.809173</td>\n",
       "      <td>0</td>\n",
       "      <td>False</td>\n",
       "      <td>False</td>\n",
       "      <td>0.0</td>\n",
       "      <td>19.805438</td>\n",
       "    </tr>\n",
       "    <tr>\n",
       "      <th>747</th>\n",
       "      <td>2025-04-03</td>\n",
       "      <td>11.53</td>\n",
       "      <td>267.28</td>\n",
       "      <td>5.588297</td>\n",
       "      <td>2.444952</td>\n",
       "      <td>0.669680</td>\n",
       "      <td>-1.297417</td>\n",
       "      <td>-1.364838</td>\n",
       "      <td>-0.942913</td>\n",
       "      <td>0.773513</td>\n",
       "      <td>0</td>\n",
       "      <td>False</td>\n",
       "      <td>False</td>\n",
       "      <td>0.0</td>\n",
       "      <td>19.805438</td>\n",
       "    </tr>\n",
       "    <tr>\n",
       "      <th>748</th>\n",
       "      <td>2025-04-04</td>\n",
       "      <td>11.21</td>\n",
       "      <td>239.43</td>\n",
       "      <td>5.478261</td>\n",
       "      <td>2.416806</td>\n",
       "      <td>0.689992</td>\n",
       "      <td>-1.363151</td>\n",
       "      <td>-1.424663</td>\n",
       "      <td>-0.883840</td>\n",
       "      <td>0.793247</td>\n",
       "      <td>0</td>\n",
       "      <td>False</td>\n",
       "      <td>False</td>\n",
       "      <td>0.0</td>\n",
       "      <td>19.805438</td>\n",
       "    </tr>\n",
       "    <tr>\n",
       "      <th>749</th>\n",
       "      <td>2025-04-07</td>\n",
       "      <td>11.21</td>\n",
       "      <td>233.29</td>\n",
       "      <td>5.452282</td>\n",
       "      <td>2.416806</td>\n",
       "      <td>0.711856</td>\n",
       "      <td>-1.464435</td>\n",
       "      <td>-1.436818</td>\n",
       "      <td>-0.656144</td>\n",
       "      <td>0.857785</td>\n",
       "      <td>0</td>\n",
       "      <td>False</td>\n",
       "      <td>False</td>\n",
       "      <td>0.0</td>\n",
       "      <td>19.805438</td>\n",
       "    </tr>\n",
       "  </tbody>\n",
       "</table>\n",
       "<p>690 rows × 15 columns</p>\n",
       "</div>"
      ],
      "text/plain": [
       "      timestamp  close_RIVN  close_TSLA  log_close_TSLA  log_close_RIVN  \\\n",
       "60   2022-07-08       31.99      250.76        5.524496        3.465423   \n",
       "61   2022-07-11       29.93      234.34        5.456773        3.398861   \n",
       "62   2022-07-12       30.15      233.07        5.451339        3.406185   \n",
       "63   2022-07-13       30.76      237.04        5.468229        3.426215   \n",
       "64   2022-07-14       30.83      238.31        5.473572        3.428488   \n",
       "..          ...         ...         ...             ...             ...   \n",
       "745  2025-04-01       13.28      268.46        5.592702        2.586259   \n",
       "746  2025-04-02       12.49      282.76        5.644598        2.524928   \n",
       "747  2025-04-03       11.53      267.28        5.588297        2.444952   \n",
       "748  2025-04-04       11.21      239.43        5.478261        2.416806   \n",
       "749  2025-04-07       11.21      233.29        5.452282        2.416806   \n",
       "\n",
       "     hedge_ratio    spread   z_score  adf_stat   p_value  position  \\\n",
       "60      1.108226 -2.656969 -1.225487 -1.551199  0.508049         0   \n",
       "61      1.132528 -2.781088 -1.369341 -1.838264  0.361637         0   \n",
       "62      1.141880 -2.818590 -1.551397 -1.676010  0.443513         0   \n",
       "63      1.245694 -3.385527 -2.298003 -1.857733  0.352199         1   \n",
       "64      1.327210 -3.836090 -2.618729 -2.188877  0.210307         1   \n",
       "..           ...       ...       ...       ...       ...       ...   \n",
       "745     0.593491 -0.732960 -0.727309 -0.680060  0.851847         0   \n",
       "746     0.663671 -1.221229 -1.301616 -0.833207  0.809173         0   \n",
       "747     0.669680 -1.297417 -1.364838 -0.942913  0.773513         0   \n",
       "748     0.689992 -1.363151 -1.424663 -0.883840  0.793247         0   \n",
       "749     0.711856 -1.464435 -1.436818 -0.656144  0.857785         0   \n",
       "\n",
       "     trade_entry  trade_exit  pnl  cumulative_pnl  \n",
       "60         False       False  0.0        0.000000  \n",
       "61         False       False  0.0        0.000000  \n",
       "62         False       False  0.0        0.000000  \n",
       "63          True       False  0.0        0.000000  \n",
       "64         False       False  0.0        0.000000  \n",
       "..           ...         ...  ...             ...  \n",
       "745        False       False  0.0       19.805438  \n",
       "746        False       False  0.0       19.805438  \n",
       "747        False       False  0.0       19.805438  \n",
       "748        False       False  0.0       19.805438  \n",
       "749        False       False  0.0       19.805438  \n",
       "\n",
       "[690 rows x 15 columns]"
      ]
     },
     "execution_count": 52,
     "metadata": {},
     "output_type": "execute_result"
    }
   ],
   "source": [
    "dd"
   ]
  },
  {
   "cell_type": "code",
   "execution_count": null,
   "id": "1e773306",
   "metadata": {},
   "outputs": [
    {
     "data": {
      "image/png": "[encoded data removed]",
      "text/plain": [
       "<Figure size 1000x400 with 1 Axes>"
      ]
     },
     "metadata": {},
     "output_type": "display_data"
    }
   ],
   "source": [
    "# Create cumulative PnL column\n",
    "df[\"cumulative_pnl\"] = df[\"pnl\"].cumsum()\n",
    "\n",
    "# Trade summary metrics\n",
    "total_trades = df[\"trade_exit\"].sum()\n",
    "total_pnl = df[\"pnl\"].sum()\n",
    "winning_trades = df[df[\"pnl\"] > 0][\"pnl\"].count()\n",
    "losing_trades = df[df[\"pnl\"] < 0][\"pnl\"].count()\n",
    "avg_return = df[\"pnl\"][df[\"pnl\"] != 0].mean()\n",
    "win_rate = winning_trades / total_trades if total_trades > 0 else np.nan\n",
    "entry_dates = df.loc[df[\"trade_entry\"], \"timestamp\"].reset_index(drop=True)\n",
    "exit_dates = df.loc[df[\"trade_exit\"], \"timestamp\"].reset_index(drop=True)\n",
    "holding_durations = [(exit_date - entry_date).days for entry_date, exit_date in zip(entry_dates, exit_dates)]\n",
    "avg_holding_period = np.mean(holding_durations) if holding_durations else np.nan\n",
    "\n",
    "\n",
    "# Summary dictionary\n",
    "summary = {\n",
    "    \"Total Trades\": total_trades,\n",
    "    \"Total PnL\": round(total_pnl, 4),\n",
    "    \"Winning Trades\": winning_trades,\n",
    "    \"Losing Trades\": losing_trades,\n",
    "    \"Win Rate (%)\": round(win_rate * 100, 2) if not np.isnan(win_rate) else \"N/A\",\n",
    "    \"Average Trade Return\": round(avg_return, 4) if not np.isnan(avg_return) else \"N/A\",\n",
    "    \"Average Holding Period (days)\": round(avg_holding_period, 2) if not np.isnan(avg_holding_period) else \"N/A\",\n",
    "}\n",
    "\n",
    "# Plot cumulative PnL\n",
    "plt.figure(figsize=(10, 4))\n",
    "df[\"cumulative_pnl\"].plot(title=\"Cumulative PnL Over Time\", grid=True)\n",
    "plt.xlabel(\"Date\")\n",
    "plt.ylabel(\"Cumulative PnL\")\n",
    "plt.tight_layout()"
   ]
  },
  {
   "cell_type": "code",
   "execution_count": null,
   "id": "35760a38",
   "metadata": {},
   "outputs": [
    {
     "name": "stdout",
     "output_type": "stream",
     "text": [
      "{'Average Holding Period (days)': np.float64(9.26),\n",
      " 'Average Trade Return': np.float64(0.5212),\n",
      " 'Losing Trades': np.int64(17),\n",
      " 'Total PnL': np.float64(19.8054),\n",
      " 'Total Trades': np.int64(38),\n",
      " 'Win Rate (%)': np.float64(55.26),\n",
      " 'Winning Trades': np.int64(21)}\n"
     ]
    }
   ],
   "source": [
    "import pprint\n",
    "pprint.pprint(summary)"
   ]
  }
 ],
 "metadata": {
  "kernelspec": {
   "display_name": "venv",
   "language": "python",
   "name": "python3"
  },
  "language_info": {
   "codemirror_mode": {
    "name": "ipython",
    "version": 3
   },
   "file_extension": ".py",
   "mimetype": "text/x-python",
   "name": "python",
   "nbconvert_exporter": "python",
   "pygments_lexer": "ipython3",
   "version": "3.13.1"
  }
 },
 "nbformat": 4,
 "nbformat_minor": 5
}
