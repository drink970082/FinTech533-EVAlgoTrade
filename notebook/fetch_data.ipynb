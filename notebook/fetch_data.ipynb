{
 "cells": [
  {
   "cell_type": "code",
   "execution_count": 44,
   "id": "5df9f6d0",
   "metadata": {},
   "outputs": [],
   "source": [
    "import numpy as np\n",
    "import pandas as pd\n",
    "from script.data_pipeline import shinyDataFetcher\n",
    "import plotly.graph_objects as go\n",
    "import statsmodels.api as sm\n",
    "from statsmodels.tsa.stattools import coint, adfuller\n",
    "from statsmodels.regression.rolling import RollingOLS\n",
    "import matplotlib.pyplot as plt\n",
    "import itertools\n",
    "import warnings\n",
    "import statsmodels.tsa.stattools as ts\n",
    "from IPython.display import HTML, display\n",
    "import itables\n",
    "\n",
    "warnings.filterwarnings(\"ignore\")\n",
    "\n",
    "def write_table(df, filename):\n",
    "    html = itables.to_html_datatable(df, display_logo_when_loading=True)\n",
    "    with open(f'../docs/dataframe/{filename}.html', 'w') as f:\n",
    "        f.write(html)\n",
    "\n",
    "EV_stocks = [\"TSLA\", \"RIVN\", \"LCID\", \"F\", \"GM\", \"NIO\", \"XPEV\", \"BYDDF\", \"LI\"]\n",
    "EV_stocks_data = {}\n",
    "for stock in EV_stocks:\n",
    "    EV_stocks_data[stock] = shinyDataFetcher(asset=stock, durationStr=\"3 Y\", barSizeSetting=\"1 day\").fetch_asset_data()\n",
    "\n",
    "log_prices = {}\n",
    "for ticker in EV_stocks:\n",
    "    df_temp = EV_stocks_data[ticker].copy()\n",
    "    df_temp[\"log_close\"] = np.log(df_temp[\"close\"])\n",
    "    log_prices[ticker] = df_temp.set_index(\"timestamp\")[\"log_close\"].dropna()\n",
    "\n",
    "# # Loop over all unique pairs\n",
    "# for s1, s2 in itertools.combinations(EV_stocks, 2):\n",
    "#     # Align datasets by timestamp\n",
    "#     print(f\"Processing pair: {s1} & {s2}\")\n",
    "#     df_pair = pd.concat([log_prices[s1], log_prices[s2]], axis=1).dropna()\n",
    "#     if df_pair.empty:\n",
    "#         continue\n",
    "\n",
    "#     X = log_prices[s1]\n",
    "#     Y = log_prices[s2]\n",
    "#     X_const = sm.add_constant(X)  # Adds a constant term to the predictor\n",
    "#     model = sm.OLS(Y, X_const).fit()\n",
    "#     print(f\"OLS Coefficients: {model.params.to_dict()}, OLS p-value: {model.pvalues[1]:.4f}, OLS R-squared: {model.rsquared:.4f}\")\n",
    "\n",
    "#     # Perform cointegration test\n",
    "#     result = coint(df_pair.iloc[:, 0], df_pair.iloc[:, 1])\n",
    "#     test_stat, p_value, crit_values = result\n",
    "\n",
    "#     print(f\"Test Statistic: {test_stat:.3f}, p-value: {p_value:.4f}\", f\"Critical Values: {crit_values}\")\n",
    "#     print(f\"r-square > 0.5? {'Yes' if model.rsquared > 0.5 else 'No'}\")\n",
    "#     print(f\"Is cointegrated? {'Yes' if p_value < 0.05 else 'No'}\")\n",
    "#     print(\"-\" * 50)"
   ]
  },
  {
   "cell_type": "code",
   "execution_count": 4,
   "id": "bade2af4",
   "metadata": {},
   "outputs": [
    {
     "data": {
      "application/vnd.plotly.v1+json": {
       "config": {
        "plotlyServerURL": "https://plot.ly"
       },
       "data": [
        {
         "mode": "lines",
         "name": "TSLA",
         "type": "scatter",
         "x": [
          "2022-04-18",
          "2022-04-19",
          "2022-04-20",
          "2022-04-21",
          "2022-04-22",
          "2022-04-25",
          "2022-04-26",
          "2022-04-27",
          "2022-04-28",
          "2022-04-29",
          "2022-05-02",
          "2022-05-03",
          "2022-05-04",
          "2022-05-05",
          "2022-05-06",
          "2022-05-09",
          "2022-05-10",
          "2022-05-11",
          "2022-05-12",
          "2022-05-13",
          "2022-05-16",
          "2022-05-17",
          "2022-05-18",
          "2022-05-19",
          "2022-05-20",
          "2022-05-23",
          "2022-05-24",
          "2022-05-25",
          "2022-05-26",
          "2022-05-27",
          "2022-05-31",
          "2022-06-01",
          "2022-06-02",
          "2022-06-03",
          "2022-06-06",
          "2022-06-07",
          "2022-06-08",
          "2022-06-09",
          "2022-06-10",
          "2022-06-13",
          "2022-06-14",
          "2022-06-15",
          "2022-06-16",
          "2022-06-17",
          "2022-06-21",
          "2022-06-22",
          "2022-06-23",
          "2022-06-24",
          "2022-06-27",
          "2022-06-28",
          "2022-06-29",
          "2022-06-30",
          "2022-07-01",
          "2022-07-05",
          "2022-07-06",
          "2022-07-07",
          "2022-07-08",
          "2022-07-11",
          "2022-07-12",
          "2022-07-13",
          "2022-07-14",
          "2022-07-15",
          "2022-07-18",
          "2022-07-19",
          "2022-07-20",
          "2022-07-21",
          "2022-07-22",
          "2022-07-25",
          "2022-07-26",
          "2022-07-27",
          "2022-07-28",
          "2022-07-29",
          "2022-08-01",
          "2022-08-02",
          "2022-08-03",
          "2022-08-04",
          "2022-08-05",
          "2022-08-08",
          "2022-08-09",
          "2022-08-10",
          "2022-08-11",
          "2022-08-12",
          "2022-08-15",
          "2022-08-16",
          "2022-08-17",
          "2022-08-18",
          "2022-08-19",
          "2022-08-22",
          "2022-08-23",
          "2022-08-24",
          "2022-08-25",
          "2022-08-26",
          "2022-08-29",
          "2022-08-30",
          "2022-08-31",
          "2022-09-01",
          "2022-09-02",
          "2022-09-06",
          "2022-09-07",
          "2022-09-08",
          "2022-09-09",
          "2022-09-12",
          "2022-09-13",
          "2022-09-14",
          "2022-09-15",
          "2022-09-16",
          "2022-09-19",
          "2022-09-20",
          "2022-09-21",
          "2022-09-22",
          "2022-09-23",
          "2022-09-26",
          "2022-09-27",
          "2022-09-28",
          "2022-09-29",
          "2022-09-30",
          "2022-10-03",
          "2022-10-04",
          "2022-10-05",
          "2022-10-06",
          "2022-10-07",
          "2022-10-10",
          "2022-10-11",
          "2022-10-12",
          "2022-10-13",
          "2022-10-14",
          "2022-10-17",
          "2022-10-18",
          "2022-10-19",
          "2022-10-20",
          "2022-10-21",
          "2022-10-24",
          "2022-10-25",
          "2022-10-26",
          "2022-10-27",
          "2022-10-28",
          "2022-10-31",
          "2022-11-01",
          "2022-11-02",
          "2022-11-03",
          "2022-11-04",
          "2022-11-07",
          "2022-11-08",
          "2022-11-09",
          "2022-11-10",
          "2022-11-11",
          "2022-11-14",
          "2022-11-15",
          "2022-11-16",
          "2022-11-17",
          "2022-11-18",
          "2022-11-21",
          "2022-11-22",
          "2022-11-23",
          "2022-11-25",
          "2022-11-28",
          "2022-11-29",
          "2022-11-30",
          "2022-12-01",
          "2022-12-02",
          "2022-12-05",
          "2022-12-06",
          "2022-12-07",
          "2022-12-08",
          "2022-12-09",
          "2022-12-12",
          "2022-12-13",
          "2022-12-14",
          "2022-12-15",
          "2022-12-16",
          "2022-12-19",
          "2022-12-20",
          "2022-12-21",
          "2022-12-22",
          "2022-12-23",
          "2022-12-27",
          "2022-12-28",
          "2022-12-29",
          "2022-12-30",
          "2023-01-03",
          "2023-01-04",
          "2023-01-05",
          "2023-01-06",
          "2023-01-09",
          "2023-01-10",
          "2023-01-11",
          "2023-01-12",
          "2023-01-13",
          "2023-01-17",
          "2023-01-18",
          "2023-01-19",
          "2023-01-20",
          "2023-01-23",
          "2023-01-24",
          "2023-01-25",
          "2023-01-26",
          "2023-01-27",
          "2023-01-30",
          "2023-01-31",
          "2023-02-01",
          "2023-02-02",
          "2023-02-03",
          "2023-02-06",
          "2023-02-07",
          "2023-02-08",
          "2023-02-09",
          "2023-02-10",
          "2023-02-13",
          "2023-02-14",
          "2023-02-15",
          "2023-02-16",
          "2023-02-17",
          "2023-02-21",
          "2023-02-22",
          "2023-02-23",
          "2023-02-24",
          "2023-02-27",
          "2023-02-28",
          "2023-03-01",
          "2023-03-02",
          "2023-03-03",
          "2023-03-06",
          "2023-03-07",
          "2023-03-08",
          "2023-03-09",
          "2023-03-10",
          "2023-03-13",
          "2023-03-14",
          "2023-03-15",
          "2023-03-16",
          "2023-03-17",
          "2023-03-20",
          "2023-03-21",
          "2023-03-22",
          "2023-03-23",
          "2023-03-24",
          "2023-03-27",
          "2023-03-28",
          "2023-03-29",
          "2023-03-30",
          "2023-03-31",
          "2023-04-03",
          "2023-04-04",
          "2023-04-05",
          "2023-04-06",
          "2023-04-10",
          "2023-04-11",
          "2023-04-12",
          "2023-04-13",
          "2023-04-14",
          "2023-04-17",
          "2023-04-18",
          "2023-04-19",
          "2023-04-20",
          "2023-04-21",
          "2023-04-24",
          "2023-04-25",
          "2023-04-26",
          "2023-04-27",
          "2023-04-28",
          "2023-05-01",
          "2023-05-02",
          "2023-05-03",
          "2023-05-04",
          "2023-05-05",
          "2023-05-08",
          "2023-05-09",
          "2023-05-10",
          "2023-05-11",
          "2023-05-12",
          "2023-05-15",
          "2023-05-16",
          "2023-05-17",
          "2023-05-18",
          "2023-05-19",
          "2023-05-22",
          "2023-05-23",
          "2023-05-24",
          "2023-05-25",
          "2023-05-26",
          "2023-05-30",
          "2023-05-31",
          "2023-06-01",
          "2023-06-02",
          "2023-06-05",
          "2023-06-06",
          "2023-06-07",
          "2023-06-08",
          "2023-06-09",
          "2023-06-12",
          "2023-06-13",
          "2023-06-14",
          "2023-06-15",
          "2023-06-16",
          "2023-06-20",
          "2023-06-21",
          "2023-06-22",
          "2023-06-23",
          "2023-06-26",
          "2023-06-27",
          "2023-06-28",
          "2023-06-29",
          "2023-06-30",
          "2023-07-03",
          "2023-07-05",
          "2023-07-06",
          "2023-07-07",
          "2023-07-10",
          "2023-07-11",
          "2023-07-12",
          "2023-07-13",
          "2023-07-14",
          "2023-07-17",
          "2023-07-18",
          "2023-07-19",
          "2023-07-20",
          "2023-07-21",
          "2023-07-24",
          "2023-07-25",
          "2023-07-26",
          "2023-07-27",
          "2023-07-28",
          "2023-07-31",
          "2023-08-01",
          "2023-08-02",
          "2023-08-03",
          "2023-08-04",
          "2023-08-07",
          "2023-08-08",
          "2023-08-09",
          "2023-08-10",
          "2023-08-11",
          "2023-08-14",
          "2023-08-15",
          "2023-08-16",
          "2023-08-17",
          "2023-08-18",
          "2023-08-21",
          "2023-08-22",
          "2023-08-23",
          "2023-08-24",
          "2023-08-25",
          "2023-08-28",
          "2023-08-29",
          "2023-08-30",
          "2023-08-31",
          "2023-09-01",
          "2023-09-05",
          "2023-09-06",
          "2023-09-07",
          "2023-09-08",
          "2023-09-11",
          "2023-09-12",
          "2023-09-13",
          "2023-09-14",
          "2023-09-15",
          "2023-09-18",
          "2023-09-19",
          "2023-09-20",
          "2023-09-21",
          "2023-09-22",
          "2023-09-25",
          "2023-09-26",
          "2023-09-27",
          "2023-09-28",
          "2023-09-29",
          "2023-10-02",
          "2023-10-03",
          "2023-10-04",
          "2023-10-05",
          "2023-10-06",
          "2023-10-09",
          "2023-10-10",
          "2023-10-11",
          "2023-10-12",
          "2023-10-13",
          "2023-10-16",
          "2023-10-17",
          "2023-10-18",
          "2023-10-19",
          "2023-10-20",
          "2023-10-23",
          "2023-10-24",
          "2023-10-25",
          "2023-10-26",
          "2023-10-27",
          "2023-10-30",
          "2023-10-31",
          "2023-11-01",
          "2023-11-02",
          "2023-11-03",
          "2023-11-06",
          "2023-11-07",
          "2023-11-08",
          "2023-11-09",
          "2023-11-10",
          "2023-11-13",
          "2023-11-14",
          "2023-11-15",
          "2023-11-16",
          "2023-11-17",
          "2023-11-20",
          "2023-11-21",
          "2023-11-22",
          "2023-11-24",
          "2023-11-27",
          "2023-11-28",
          "2023-11-29",
          "2023-11-30",
          "2023-12-01",
          "2023-12-04",
          "2023-12-05",
          "2023-12-06",
          "2023-12-07",
          "2023-12-08",
          "2023-12-11",
          "2023-12-12",
          "2023-12-13",
          "2023-12-14",
          "2023-12-15",
          "2023-12-18",
          "2023-12-19",
          "2023-12-20",
          "2023-12-21",
          "2023-12-22",
          "2023-12-26",
          "2023-12-27",
          "2023-12-28",
          "2023-12-29",
          "2024-01-02",
          "2024-01-03",
          "2024-01-04",
          "2024-01-05",
          "2024-01-08",
          "2024-01-09",
          "2024-01-10",
          "2024-01-11",
          "2024-01-12",
          "2024-01-16",
          "2024-01-17",
          "2024-01-18",
          "2024-01-19",
          "2024-01-22",
          "2024-01-23",
          "2024-01-24",
          "2024-01-25",
          "2024-01-26",
          "2024-01-29",
          "2024-01-30",
          "2024-01-31",
          "2024-02-01",
          "2024-02-02",
          "2024-02-05",
          "2024-02-06",
          "2024-02-07",
          "2024-02-08",
          "2024-02-09",
          "2024-02-12",
          "2024-02-13",
          "2024-02-14",
          "2024-02-15",
          "2024-02-16",
          "2024-02-20",
          "2024-02-21",
          "2024-02-22",
          "2024-02-23",
          "2024-02-26",
          "2024-02-27",
          "2024-02-28",
          "2024-02-29",
          "2024-03-01",
          "2024-03-04",
          "2024-03-05",
          "2024-03-06",
          "2024-03-07",
          "2024-03-08",
          "2024-03-11",
          "2024-03-12",
          "2024-03-13",
          "2024-03-14",
          "2024-03-15",
          "2024-03-18",
          "2024-03-19",
          "2024-03-20",
          "2024-03-21",
          "2024-03-22",
          "2024-03-25",
          "2024-03-26",
          "2024-03-27",
          "2024-03-28",
          "2024-04-01",
          "2024-04-02",
          "2024-04-03",
          "2024-04-04",
          "2024-04-05",
          "2024-04-08",
          "2024-04-09",
          "2024-04-10",
          "2024-04-11",
          "2024-04-12",
          "2024-04-15",
          "2024-04-16",
          "2024-04-17",
          "2024-04-18",
          "2024-04-19",
          "2024-04-22",
          "2024-04-23",
          "2024-04-24",
          "2024-04-25",
          "2024-04-26",
          "2024-04-29",
          "2024-04-30",
          "2024-05-01",
          "2024-05-02",
          "2024-05-03",
          "2024-05-06",
          "2024-05-07",
          "2024-05-08",
          "2024-05-09",
          "2024-05-10",
          "2024-05-13",
          "2024-05-14",
          "2024-05-15",
          "2024-05-16",
          "2024-05-17",
          "2024-05-20",
          "2024-05-21",
          "2024-05-22",
          "2024-05-23",
          "2024-05-24",
          "2024-05-28",
          "2024-05-29",
          "2024-05-30",
          "2024-05-31",
          "2024-06-03",
          "2024-06-04",
          "2024-06-05",
          "2024-06-06",
          "2024-06-07",
          "2024-06-10",
          "2024-06-11",
          "2024-06-12",
          "2024-06-13",
          "2024-06-14",
          "2024-06-17",
          "2024-06-18",
          "2024-06-20",
          "2024-06-21",
          "2024-06-24",
          "2024-06-25",
          "2024-06-26",
          "2024-06-27",
          "2024-06-28",
          "2024-07-01",
          "2024-07-02",
          "2024-07-03",
          "2024-07-05",
          "2024-07-08",
          "2024-07-09",
          "2024-07-10",
          "2024-07-11",
          "2024-07-12",
          "2024-07-15",
          "2024-07-16",
          "2024-07-17",
          "2024-07-18",
          "2024-07-19",
          "2024-07-22",
          "2024-07-23",
          "2024-07-24",
          "2024-07-25",
          "2024-07-26",
          "2024-07-29",
          "2024-07-30",
          "2024-07-31",
          "2024-08-01",
          "2024-08-02",
          "2024-08-05",
          "2024-08-06",
          "2024-08-07",
          "2024-08-08",
          "2024-08-09",
          "2024-08-12",
          "2024-08-13",
          "2024-08-14",
          "2024-08-15",
          "2024-08-16",
          "2024-08-19",
          "2024-08-20",
          "2024-08-21",
          "2024-08-22",
          "2024-08-23",
          "2024-08-26",
          "2024-08-27",
          "2024-08-28",
          "2024-08-29",
          "2024-08-30",
          "2024-09-03",
          "2024-09-04",
          "2024-09-05",
          "2024-09-06",
          "2024-09-09",
          "2024-09-10",
          "2024-09-11",
          "2024-09-12",
          "2024-09-13",
          "2024-09-16",
          "2024-09-17",
          "2024-09-18",
          "2024-09-19",
          "2024-09-20",
          "2024-09-23",
          "2024-09-24",
          "2024-09-25",
          "2024-09-26",
          "2024-09-27",
          "2024-09-30",
          "2024-10-01",
          "2024-10-02",
          "2024-10-03",
          "2024-10-04",
          "2024-10-07",
          "2024-10-08",
          "2024-10-09",
          "2024-10-10",
          "2024-10-11",
          "2024-10-14",
          "2024-10-15",
          "2024-10-16",
          "2024-10-17",
          "2024-10-18",
          "2024-10-21",
          "2024-10-22",
          "2024-10-23",
          "2024-10-24",
          "2024-10-25",
          "2024-10-28",
          "2024-10-29",
          "2024-10-30",
          "2024-10-31",
          "2024-11-01",
          "2024-11-04",
          "2024-11-05",
          "2024-11-06",
          "2024-11-07",
          "2024-11-08",
          "2024-11-11",
          "2024-11-12",
          "2024-11-13",
          "2024-11-14",
          "2024-11-15",
          "2024-11-18",
          "2024-11-19",
          "2024-11-20",
          "2024-11-21",
          "2024-11-22",
          "2024-11-25",
          "2024-11-26",
          "2024-11-27",
          "2024-11-29",
          "2024-12-02",
          "2024-12-03",
          "2024-12-04",
          "2024-12-05",
          "2024-12-06",
          "2024-12-09",
          "2024-12-10",
          "2024-12-11",
          "2024-12-12",
          "2024-12-13",
          "2024-12-16",
          "2024-12-17",
          "2024-12-18",
          "2024-12-19",
          "2024-12-20",
          "2024-12-23",
          "2024-12-24",
          "2024-12-26",
          "2024-12-27",
          "2024-12-30",
          "2024-12-31",
          "2025-01-02",
          "2025-01-03",
          "2025-01-06",
          "2025-01-07",
          "2025-01-08",
          "2025-01-10",
          "2025-01-13",
          "2025-01-14",
          "2025-01-15",
          "2025-01-16",
          "2025-01-17",
          "2025-01-21",
          "2025-01-22",
          "2025-01-23",
          "2025-01-24",
          "2025-01-27",
          "2025-01-28",
          "2025-01-29",
          "2025-01-30",
          "2025-01-31",
          "2025-02-03",
          "2025-02-04",
          "2025-02-05",
          "2025-02-06",
          "2025-02-07",
          "2025-02-10",
          "2025-02-11",
          "2025-02-12",
          "2025-02-13",
          "2025-02-14",
          "2025-02-18",
          "2025-02-19",
          "2025-02-20",
          "2025-02-21",
          "2025-02-24",
          "2025-02-25",
          "2025-02-26",
          "2025-02-27",
          "2025-02-28",
          "2025-03-03",
          "2025-03-04",
          "2025-03-05",
          "2025-03-06",
          "2025-03-07",
          "2025-03-10",
          "2025-03-11",
          "2025-03-12",
          "2025-03-13",
          "2025-03-14",
          "2025-03-17",
          "2025-03-18",
          "2025-03-19",
          "2025-03-20",
          "2025-03-21",
          "2025-03-24",
          "2025-03-25",
          "2025-03-26",
          "2025-03-27",
          "2025-03-28",
          "2025-03-31",
          "2025-04-01",
          "2025-04-02",
          "2025-04-03",
          "2025-04-04",
          "2025-04-07",
          "2025-04-08",
          "2025-04-09",
          "2025-04-10",
          "2025-04-11",
          "2025-04-14",
          "2025-04-15",
          "2025-04-16"
         ],
         "y": {
          "bdata": "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",
          "dtype": "f8"
         }
        },
        {
         "mode": "lines",
         "name": "RIVN",
         "type": "scatter",
         "x": [
          "2022-04-18",
          "2022-04-19",
          "2022-04-20",
          "2022-04-21",
          "2022-04-22",
          "2022-04-25",
          "2022-04-26",
          "2022-04-27",
          "2022-04-28",
          "2022-04-29",
          "2022-05-02",
          "2022-05-03",
          "2022-05-04",
          "2022-05-05",
          "2022-05-06",
          "2022-05-09",
          "2022-05-10",
          "2022-05-11",
          "2022-05-12",
          "2022-05-13",
          "2022-05-16",
          "2022-05-17",
          "2022-05-18",
          "2022-05-19",
          "2022-05-20",
          "2022-05-23",
          "2022-05-24",
          "2022-05-25",
          "2022-05-26",
          "2022-05-27",
          "2022-05-31",
          "2022-06-01",
          "2022-06-02",
          "2022-06-03",
          "2022-06-06",
          "2022-06-07",
          "2022-06-08",
          "2022-06-09",
          "2022-06-10",
          "2022-06-13",
          "2022-06-14",
          "2022-06-15",
          "2022-06-16",
          "2022-06-17",
          "2022-06-21",
          "2022-06-22",
          "2022-06-23",
          "2022-06-24",
          "2022-06-27",
          "2022-06-28",
          "2022-06-29",
          "2022-06-30",
          "2022-07-01",
          "2022-07-05",
          "2022-07-06",
          "2022-07-07",
          "2022-07-08",
          "2022-07-11",
          "2022-07-12",
          "2022-07-13",
          "2022-07-14",
          "2022-07-15",
          "2022-07-18",
          "2022-07-19",
          "2022-07-20",
          "2022-07-21",
          "2022-07-22",
          "2022-07-25",
          "2022-07-26",
          "2022-07-27",
          "2022-07-28",
          "2022-07-29",
          "2022-08-01",
          "2022-08-02",
          "2022-08-03",
          "2022-08-04",
          "2022-08-05",
          "2022-08-08",
          "2022-08-09",
          "2022-08-10",
          "2022-08-11",
          "2022-08-12",
          "2022-08-15",
          "2022-08-16",
          "2022-08-17",
          "2022-08-18",
          "2022-08-19",
          "2022-08-22",
          "2022-08-23",
          "2022-08-24",
          "2022-08-25",
          "2022-08-26",
          "2022-08-29",
          "2022-08-30",
          "2022-08-31",
          "2022-09-01",
          "2022-09-02",
          "2022-09-06",
          "2022-09-07",
          "2022-09-08",
          "2022-09-09",
          "2022-09-12",
          "2022-09-13",
          "2022-09-14",
          "2022-09-15",
          "2022-09-16",
          "2022-09-19",
          "2022-09-20",
          "2022-09-21",
          "2022-09-22",
          "2022-09-23",
          "2022-09-26",
          "2022-09-27",
          "2022-09-28",
          "2022-09-29",
          "2022-09-30",
          "2022-10-03",
          "2022-10-04",
          "2022-10-05",
          "2022-10-06",
          "2022-10-07",
          "2022-10-10",
          "2022-10-11",
          "2022-10-12",
          "2022-10-13",
          "2022-10-14",
          "2022-10-17",
          "2022-10-18",
          "2022-10-19",
          "2022-10-20",
          "2022-10-21",
          "2022-10-24",
          "2022-10-25",
          "2022-10-26",
          "2022-10-27",
          "2022-10-28",
          "2022-10-31",
          "2022-11-01",
          "2022-11-02",
          "2022-11-03",
          "2022-11-04",
          "2022-11-07",
          "2022-11-08",
          "2022-11-09",
          "2022-11-10",
          "2022-11-11",
          "2022-11-14",
          "2022-11-15",
          "2022-11-16",
          "2022-11-17",
          "2022-11-18",
          "2022-11-21",
          "2022-11-22",
          "2022-11-23",
          "2022-11-25",
          "2022-11-28",
          "2022-11-29",
          "2022-11-30",
          "2022-12-01",
          "2022-12-02",
          "2022-12-05",
          "2022-12-06",
          "2022-12-07",
          "2022-12-08",
          "2022-12-09",
          "2022-12-12",
          "2022-12-13",
          "2022-12-14",
          "2022-12-15",
          "2022-12-16",
          "2022-12-19",
          "2022-12-20",
          "2022-12-21",
          "2022-12-22",
          "2022-12-23",
          "2022-12-27",
          "2022-12-28",
          "2022-12-29",
          "2022-12-30",
          "2023-01-03",
          "2023-01-04",
          "2023-01-05",
          "2023-01-06",
          "2023-01-09",
          "2023-01-10",
          "2023-01-11",
          "2023-01-12",
          "2023-01-13",
          "2023-01-17",
          "2023-01-18",
          "2023-01-19",
          "2023-01-20",
          "2023-01-23",
          "2023-01-24",
          "2023-01-25",
          "2023-01-26",
          "2023-01-27",
          "2023-01-30",
          "2023-01-31",
          "2023-02-01",
          "2023-02-02",
          "2023-02-03",
          "2023-02-06",
          "2023-02-07",
          "2023-02-08",
          "2023-02-09",
          "2023-02-10",
          "2023-02-13",
          "2023-02-14",
          "2023-02-15",
          "2023-02-16",
          "2023-02-17",
          "2023-02-21",
          "2023-02-22",
          "2023-02-23",
          "2023-02-24",
          "2023-02-27",
          "2023-02-28",
          "2023-03-01",
          "2023-03-02",
          "2023-03-03",
          "2023-03-06",
          "2023-03-07",
          "2023-03-08",
          "2023-03-09",
          "2023-03-10",
          "2023-03-13",
          "2023-03-14",
          "2023-03-15",
          "2023-03-16",
          "2023-03-17",
          "2023-03-20",
          "2023-03-21",
          "2023-03-22",
          "2023-03-23",
          "2023-03-24",
          "2023-03-27",
          "2023-03-28",
          "2023-03-29",
          "2023-03-30",
          "2023-03-31",
          "2023-04-03",
          "2023-04-04",
          "2023-04-05",
          "2023-04-06",
          "2023-04-10",
          "2023-04-11",
          "2023-04-12",
          "2023-04-13",
          "2023-04-14",
          "2023-04-17",
          "2023-04-18",
          "2023-04-19",
          "2023-04-20",
          "2023-04-21",
          "2023-04-24",
          "2023-04-25",
          "2023-04-26",
          "2023-04-27",
          "2023-04-28",
          "2023-05-01",
          "2023-05-02",
          "2023-05-03",
          "2023-05-04",
          "2023-05-05",
          "2023-05-08",
          "2023-05-09",
          "2023-05-10",
          "2023-05-11",
          "2023-05-12",
          "2023-05-15",
          "2023-05-16",
          "2023-05-17",
          "2023-05-18",
          "2023-05-19",
          "2023-05-22",
          "2023-05-23",
          "2023-05-24",
          "2023-05-25",
          "2023-05-26",
          "2023-05-30",
          "2023-05-31",
          "2023-06-01",
          "2023-06-02",
          "2023-06-05",
          "2023-06-06",
          "2023-06-07",
          "2023-06-08",
          "2023-06-09",
          "2023-06-12",
          "2023-06-13",
          "2023-06-14",
          "2023-06-15",
          "2023-06-16",
          "2023-06-20",
          "2023-06-21",
          "2023-06-22",
          "2023-06-23",
          "2023-06-26",
          "2023-06-27",
          "2023-06-28",
          "2023-06-29",
          "2023-06-30",
          "2023-07-03",
          "2023-07-05",
          "2023-07-06",
          "2023-07-07",
          "2023-07-10",
          "2023-07-11",
          "2023-07-12",
          "2023-07-13",
          "2023-07-14",
          "2023-07-17",
          "2023-07-18",
          "2023-07-19",
          "2023-07-20",
          "2023-07-21",
          "2023-07-24",
          "2023-07-25",
          "2023-07-26",
          "2023-07-27",
          "2023-07-28",
          "2023-07-31",
          "2023-08-01",
          "2023-08-02",
          "2023-08-03",
          "2023-08-04",
          "2023-08-07",
          "2023-08-08",
          "2023-08-09",
          "2023-08-10",
          "2023-08-11",
          "2023-08-14",
          "2023-08-15",
          "2023-08-16",
          "2023-08-17",
          "2023-08-18",
          "2023-08-21",
          "2023-08-22",
          "2023-08-23",
          "2023-08-24",
          "2023-08-25",
          "2023-08-28",
          "2023-08-29",
          "2023-08-30",
          "2023-08-31",
          "2023-09-01",
          "2023-09-05",
          "2023-09-06",
          "2023-09-07",
          "2023-09-08",
          "2023-09-11",
          "2023-09-12",
          "2023-09-13",
          "2023-09-14",
          "2023-09-15",
          "2023-09-18",
          "2023-09-19",
          "2023-09-20",
          "2023-09-21",
          "2023-09-22",
          "2023-09-25",
          "2023-09-26",
          "2023-09-27",
          "2023-09-28",
          "2023-09-29",
          "2023-10-02",
          "2023-10-03",
          "2023-10-04",
          "2023-10-05",
          "2023-10-06",
          "2023-10-09",
          "2023-10-10",
          "2023-10-11",
          "2023-10-12",
          "2023-10-13",
          "2023-10-16",
          "2023-10-17",
          "2023-10-18",
          "2023-10-19",
          "2023-10-20",
          "2023-10-23",
          "2023-10-24",
          "2023-10-25",
          "2023-10-26",
          "2023-10-27",
          "2023-10-30",
          "2023-10-31",
          "2023-11-01",
          "2023-11-02",
          "2023-11-03",
          "2023-11-06",
          "2023-11-07",
          "2023-11-08",
          "2023-11-09",
          "2023-11-10",
          "2023-11-13",
          "2023-11-14",
          "2023-11-15",
          "2023-11-16",
          "2023-11-17",
          "2023-11-20",
          "2023-11-21",
          "2023-11-22",
          "2023-11-24",
          "2023-11-27",
          "2023-11-28",
          "2023-11-29",
          "2023-11-30",
          "2023-12-01",
          "2023-12-04",
          "2023-12-05",
          "2023-12-06",
          "2023-12-07",
          "2023-12-08",
          "2023-12-11",
          "2023-12-12",
          "2023-12-13",
          "2023-12-14",
          "2023-12-15",
          "2023-12-18",
          "2023-12-19",
          "2023-12-20",
          "2023-12-21",
          "2023-12-22",
          "2023-12-26",
          "2023-12-27",
          "2023-12-28",
          "2023-12-29",
          "2024-01-02",
          "2024-01-03",
          "2024-01-04",
          "2024-01-05",
          "2024-01-08",
          "2024-01-09",
          "2024-01-10",
          "2024-01-11",
          "2024-01-12",
          "2024-01-16",
          "2024-01-17",
          "2024-01-18",
          "2024-01-19",
          "2024-01-22",
          "2024-01-23",
          "2024-01-24",
          "2024-01-25",
          "2024-01-26",
          "2024-01-29",
          "2024-01-30",
          "2024-01-31",
          "2024-02-01",
          "2024-02-02",
          "2024-02-05",
          "2024-02-06",
          "2024-02-07",
          "2024-02-08",
          "2024-02-09",
          "2024-02-12",
          "2024-02-13",
          "2024-02-14",
          "2024-02-15",
          "2024-02-16",
          "2024-02-20",
          "2024-02-21",
          "2024-02-22",
          "2024-02-23",
          "2024-02-26",
          "2024-02-27",
          "2024-02-28",
          "2024-02-29",
          "2024-03-01",
          "2024-03-04",
          "2024-03-05",
          "2024-03-06",
          "2024-03-07",
          "2024-03-08",
          "2024-03-11",
          "2024-03-12",
          "2024-03-13",
          "2024-03-14",
          "2024-03-15",
          "2024-03-18",
          "2024-03-19",
          "2024-03-20",
          "2024-03-21",
          "2024-03-22",
          "2024-03-25",
          "2024-03-26",
          "2024-03-27",
          "2024-03-28",
          "2024-04-01",
          "2024-04-02",
          "2024-04-03",
          "2024-04-04",
          "2024-04-05",
          "2024-04-08",
          "2024-04-09",
          "2024-04-10",
          "2024-04-11",
          "2024-04-12",
          "2024-04-15",
          "2024-04-16",
          "2024-04-17",
          "2024-04-18",
          "2024-04-19",
          "2024-04-22",
          "2024-04-23",
          "2024-04-24",
          "2024-04-25",
          "2024-04-26",
          "2024-04-29",
          "2024-04-30",
          "2024-05-01",
          "2024-05-02",
          "2024-05-03",
          "2024-05-06",
          "2024-05-07",
          "2024-05-08",
          "2024-05-09",
          "2024-05-10",
          "2024-05-13",
          "2024-05-14",
          "2024-05-15",
          "2024-05-16",
          "2024-05-17",
          "2024-05-20",
          "2024-05-21",
          "2024-05-22",
          "2024-05-23",
          "2024-05-24",
          "2024-05-28",
          "2024-05-29",
          "2024-05-30",
          "2024-05-31",
          "2024-06-03",
          "2024-06-04",
          "2024-06-05",
          "2024-06-06",
          "2024-06-07",
          "2024-06-10",
          "2024-06-11",
          "2024-06-12",
          "2024-06-13",
          "2024-06-14",
          "2024-06-17",
          "2024-06-18",
          "2024-06-20",
          "2024-06-21",
          "2024-06-24",
          "2024-06-25",
          "2024-06-26",
          "2024-06-27",
          "2024-06-28",
          "2024-07-01",
          "2024-07-02",
          "2024-07-03",
          "2024-07-05",
          "2024-07-08",
          "2024-07-09",
          "2024-07-10",
          "2024-07-11",
          "2024-07-12",
          "2024-07-15",
          "2024-07-16",
          "2024-07-17",
          "2024-07-18",
          "2024-07-19",
          "2024-07-22",
          "2024-07-23",
          "2024-07-24",
          "2024-07-25",
          "2024-07-26",
          "2024-07-29",
          "2024-07-30",
          "2024-07-31",
          "2024-08-01",
          "2024-08-02",
          "2024-08-05",
          "2024-08-06",
          "2024-08-07",
          "2024-08-08",
          "2024-08-09",
          "2024-08-12",
          "2024-08-13",
          "2024-08-14",
          "2024-08-15",
          "2024-08-16",
          "2024-08-19",
          "2024-08-20",
          "2024-08-21",
          "2024-08-22",
          "2024-08-23",
          "2024-08-26",
          "2024-08-27",
          "2024-08-28",
          "2024-08-29",
          "2024-08-30",
          "2024-09-03",
          "2024-09-04",
          "2024-09-05",
          "2024-09-06",
          "2024-09-09",
          "2024-09-10",
          "2024-09-11",
          "2024-09-12",
          "2024-09-13",
          "2024-09-16",
          "2024-09-17",
          "2024-09-18",
          "2024-09-19",
          "2024-09-20",
          "2024-09-23",
          "2024-09-24",
          "2024-09-25",
          "2024-09-26",
          "2024-09-27",
          "2024-09-30",
          "2024-10-01",
          "2024-10-02",
          "2024-10-03",
          "2024-10-04",
          "2024-10-07",
          "2024-10-08",
          "2024-10-09",
          "2024-10-10",
          "2024-10-11",
          "2024-10-14",
          "2024-10-15",
          "2024-10-16",
          "2024-10-17",
          "2024-10-18",
          "2024-10-21",
          "2024-10-22",
          "2024-10-23",
          "2024-10-24",
          "2024-10-25",
          "2024-10-28",
          "2024-10-29",
          "2024-10-30",
          "2024-10-31",
          "2024-11-01",
          "2024-11-04",
          "2024-11-05",
          "2024-11-06",
          "2024-11-07",
          "2024-11-08",
          "2024-11-11",
          "2024-11-12",
          "2024-11-13",
          "2024-11-14",
          "2024-11-15",
          "2024-11-18",
          "2024-11-19",
          "2024-11-20",
          "2024-11-21",
          "2024-11-22",
          "2024-11-25",
          "2024-11-26",
          "2024-11-27",
          "2024-11-29",
          "2024-12-02",
          "2024-12-03",
          "2024-12-04",
          "2024-12-05",
          "2024-12-06",
          "2024-12-09",
          "2024-12-10",
          "2024-12-11",
          "2024-12-12",
          "2024-12-13",
          "2024-12-16",
          "2024-12-17",
          "2024-12-18",
          "2024-12-19",
          "2024-12-20",
          "2024-12-23",
          "2024-12-24",
          "2024-12-26",
          "2024-12-27",
          "2024-12-30",
          "2024-12-31",
          "2025-01-02",
          "2025-01-03",
          "2025-01-06",
          "2025-01-07",
          "2025-01-08",
          "2025-01-10",
          "2025-01-13",
          "2025-01-14",
          "2025-01-15",
          "2025-01-16",
          "2025-01-17",
          "2025-01-21",
          "2025-01-22",
          "2025-01-23",
          "2025-01-24",
          "2025-01-27",
          "2025-01-28",
          "2025-01-29",
          "2025-01-30",
          "2025-01-31",
          "2025-02-03",
          "2025-02-04",
          "2025-02-05",
          "2025-02-06",
          "2025-02-07",
          "2025-02-10",
          "2025-02-11",
          "2025-02-12",
          "2025-02-13",
          "2025-02-14",
          "2025-02-18",
          "2025-02-19",
          "2025-02-20",
          "2025-02-21",
          "2025-02-24",
          "2025-02-25",
          "2025-02-26",
          "2025-02-27",
          "2025-02-28",
          "2025-03-03",
          "2025-03-04",
          "2025-03-05",
          "2025-03-06",
          "2025-03-07",
          "2025-03-10",
          "2025-03-11",
          "2025-03-12",
          "2025-03-13",
          "2025-03-14",
          "2025-03-17",
          "2025-03-18",
          "2025-03-19",
          "2025-03-20",
          "2025-03-21",
          "2025-03-24",
          "2025-03-25",
          "2025-03-26",
          "2025-03-27",
          "2025-03-28",
          "2025-03-31",
          "2025-04-01",
          "2025-04-02",
          "2025-04-03",
          "2025-04-04",
          "2025-04-07",
          "2025-04-08",
          "2025-04-09",
          "2025-04-10",
          "2025-04-11",
          "2025-04-14",
          "2025-04-15",
          "2025-04-16"
         ],
         "y": {
          "bdata": "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",
          "dtype": "f8"
         }
        }
       ],
       "layout": {
        "legend": {
         "x": 0,
         "y": 1
        },
        "template": {
         "data": {
          "bar": [
           {
            "error_x": {
             "color": "#2a3f5f"
            },
            "error_y": {
             "color": "#2a3f5f"
            },
            "marker": {
             "line": {
              "color": "#E5ECF6",
              "width": 0.5
             },
             "pattern": {
              "fillmode": "overlay",
              "size": 10,
              "solidity": 0.2
             }
            },
            "type": "bar"
           }
          ],
          "barpolar": [
           {
            "marker": {
             "line": {
              "color": "#E5ECF6",
              "width": 0.5
             },
             "pattern": {
              "fillmode": "overlay",
              "size": 10,
              "solidity": 0.2
             }
            },
            "type": "barpolar"
           }
          ],
          "carpet": [
           {
            "aaxis": {
             "endlinecolor": "#2a3f5f",
             "gridcolor": "white",
             "linecolor": "white",
             "minorgridcolor": "white",
             "startlinecolor": "#2a3f5f"
            },
            "baxis": {
             "endlinecolor": "#2a3f5f",
             "gridcolor": "white",
             "linecolor": "white",
             "minorgridcolor": "white",
             "startlinecolor": "#2a3f5f"
            },
            "type": "carpet"
           }
          ],
          "choropleth": [
           {
            "colorbar": {
             "outlinewidth": 0,
             "ticks": ""
            },
            "type": "choropleth"
           }
          ],
          "contour": [
           {
            "colorbar": {
             "outlinewidth": 0,
             "ticks": ""
            },
            "colorscale": [
             [
              0,
              "#0d0887"
             ],
             [
              0.1111111111111111,
              "#46039f"
             ],
             [
              0.2222222222222222,
              "#7201a8"
             ],
             [
              0.3333333333333333,
              "#9c179e"
             ],
             [
              0.4444444444444444,
              "#bd3786"
             ],
             [
              0.5555555555555556,
              "#d8576b"
             ],
             [
              0.6666666666666666,
              "#ed7953"
             ],
             [
              0.7777777777777778,
              "#fb9f3a"
             ],
             [
              0.8888888888888888,
              "#fdca26"
             ],
             [
              1,
              "#f0f921"
             ]
            ],
            "type": "contour"
           }
          ],
          "contourcarpet": [
           {
            "colorbar": {
             "outlinewidth": 0,
             "ticks": ""
            },
            "type": "contourcarpet"
           }
          ],
          "heatmap": [
           {
            "colorbar": {
             "outlinewidth": 0,
             "ticks": ""
            },
            "colorscale": [
             [
              0,
              "#0d0887"
             ],
             [
              0.1111111111111111,
              "#46039f"
             ],
             [
              0.2222222222222222,
              "#7201a8"
             ],
             [
              0.3333333333333333,
              "#9c179e"
             ],
             [
              0.4444444444444444,
              "#bd3786"
             ],
             [
              0.5555555555555556,
              "#d8576b"
             ],
             [
              0.6666666666666666,
              "#ed7953"
             ],
             [
              0.7777777777777778,
              "#fb9f3a"
             ],
             [
              0.8888888888888888,
              "#fdca26"
             ],
             [
              1,
              "#f0f921"
             ]
            ],
            "type": "heatmap"
           }
          ],
          "histogram": [
           {
            "marker": {
             "pattern": {
              "fillmode": "overlay",
              "size": 10,
              "solidity": 0.2
             }
            },
            "type": "histogram"
           }
          ],
          "histogram2d": [
           {
            "colorbar": {
             "outlinewidth": 0,
             "ticks": ""
            },
            "colorscale": [
             [
              0,
              "#0d0887"
             ],
             [
              0.1111111111111111,
              "#46039f"
             ],
             [
              0.2222222222222222,
              "#7201a8"
             ],
             [
              0.3333333333333333,
              "#9c179e"
             ],
             [
              0.4444444444444444,
              "#bd3786"
             ],
             [
              0.5555555555555556,
              "#d8576b"
             ],
             [
              0.6666666666666666,
              "#ed7953"
             ],
             [
              0.7777777777777778,
              "#fb9f3a"
             ],
             [
              0.8888888888888888,
              "#fdca26"
             ],
             [
              1,
              "#f0f921"
             ]
            ],
            "type": "histogram2d"
           }
          ],
          "histogram2dcontour": [
           {
            "colorbar": {
             "outlinewidth": 0,
             "ticks": ""
            },
            "colorscale": [
             [
              0,
              "#0d0887"
             ],
             [
              0.1111111111111111,
              "#46039f"
             ],
             [
              0.2222222222222222,
              "#7201a8"
             ],
             [
              0.3333333333333333,
              "#9c179e"
             ],
             [
              0.4444444444444444,
              "#bd3786"
             ],
             [
              0.5555555555555556,
              "#d8576b"
             ],
             [
              0.6666666666666666,
              "#ed7953"
             ],
             [
              0.7777777777777778,
              "#fb9f3a"
             ],
             [
              0.8888888888888888,
              "#fdca26"
             ],
             [
              1,
              "#f0f921"
             ]
            ],
            "type": "histogram2dcontour"
           }
          ],
          "mesh3d": [
           {
            "colorbar": {
             "outlinewidth": 0,
             "ticks": ""
            },
            "type": "mesh3d"
           }
          ],
          "parcoords": [
           {
            "line": {
             "colorbar": {
              "outlinewidth": 0,
              "ticks": ""
             }
            },
            "type": "parcoords"
           }
          ],
          "pie": [
           {
            "automargin": true,
            "type": "pie"
           }
          ],
          "scatter": [
           {
            "fillpattern": {
             "fillmode": "overlay",
             "size": 10,
             "solidity": 0.2
            },
            "type": "scatter"
           }
          ],
          "scatter3d": [
           {
            "line": {
             "colorbar": {
              "outlinewidth": 0,
              "ticks": ""
             }
            },
            "marker": {
             "colorbar": {
              "outlinewidth": 0,
              "ticks": ""
             }
            },
            "type": "scatter3d"
           }
          ],
          "scattercarpet": [
           {
            "marker": {
             "colorbar": {
              "outlinewidth": 0,
              "ticks": ""
             }
            },
            "type": "scattercarpet"
           }
          ],
          "scattergeo": [
           {
            "marker": {
             "colorbar": {
              "outlinewidth": 0,
              "ticks": ""
             }
            },
            "type": "scattergeo"
           }
          ],
          "scattergl": [
           {
            "marker": {
             "colorbar": {
              "outlinewidth": 0,
              "ticks": ""
             }
            },
            "type": "scattergl"
           }
          ],
          "scattermap": [
           {
            "marker": {
             "colorbar": {
              "outlinewidth": 0,
              "ticks": ""
             }
            },
            "type": "scattermap"
           }
          ],
          "scattermapbox": [
           {
            "marker": {
             "colorbar": {
              "outlinewidth": 0,
              "ticks": ""
             }
            },
            "type": "scattermapbox"
           }
          ],
          "scatterpolar": [
           {
            "marker": {
             "colorbar": {
              "outlinewidth": 0,
              "ticks": ""
             }
            },
            "type": "scatterpolar"
           }
          ],
          "scatterpolargl": [
           {
            "marker": {
             "colorbar": {
              "outlinewidth": 0,
              "ticks": ""
             }
            },
            "type": "scatterpolargl"
           }
          ],
          "scatterternary": [
           {
            "marker": {
             "colorbar": {
              "outlinewidth": 0,
              "ticks": ""
             }
            },
            "type": "scatterternary"
           }
          ],
          "surface": [
           {
            "colorbar": {
             "outlinewidth": 0,
             "ticks": ""
            },
            "colorscale": [
             [
              0,
              "#0d0887"
             ],
             [
              0.1111111111111111,
              "#46039f"
             ],
             [
              0.2222222222222222,
              "#7201a8"
             ],
             [
              0.3333333333333333,
              "#9c179e"
             ],
             [
              0.4444444444444444,
              "#bd3786"
             ],
             [
              0.5555555555555556,
              "#d8576b"
             ],
             [
              0.6666666666666666,
              "#ed7953"
             ],
             [
              0.7777777777777778,
              "#fb9f3a"
             ],
             [
              0.8888888888888888,
              "#fdca26"
             ],
             [
              1,
              "#f0f921"
             ]
            ],
            "type": "surface"
           }
          ],
          "table": [
           {
            "cells": {
             "fill": {
              "color": "#EBF0F8"
             },
             "line": {
              "color": "white"
             }
            },
            "header": {
             "fill": {
              "color": "#C8D4E3"
             },
             "line": {
              "color": "white"
             }
            },
            "type": "table"
           }
          ]
         },
         "layout": {
          "annotationdefaults": {
           "arrowcolor": "#2a3f5f",
           "arrowhead": 0,
           "arrowwidth": 1
          },
          "autotypenumbers": "strict",
          "coloraxis": {
           "colorbar": {
            "outlinewidth": 0,
            "ticks": ""
           }
          },
          "colorscale": {
           "diverging": [
            [
             0,
             "#8e0152"
            ],
            [
             0.1,
             "#c51b7d"
            ],
            [
             0.2,
             "#de77ae"
            ],
            [
             0.3,
             "#f1b6da"
            ],
            [
             0.4,
             "#fde0ef"
            ],
            [
             0.5,
             "#f7f7f7"
            ],
            [
             0.6,
             "#e6f5d0"
            ],
            [
             0.7,
             "#b8e186"
            ],
            [
             0.8,
             "#7fbc41"
            ],
            [
             0.9,
             "#4d9221"
            ],
            [
             1,
             "#276419"
            ]
           ],
           "sequential": [
            [
             0,
             "#0d0887"
            ],
            [
             0.1111111111111111,
             "#46039f"
            ],
            [
             0.2222222222222222,
             "#7201a8"
            ],
            [
             0.3333333333333333,
             "#9c179e"
            ],
            [
             0.4444444444444444,
             "#bd3786"
            ],
            [
             0.5555555555555556,
             "#d8576b"
            ],
            [
             0.6666666666666666,
             "#ed7953"
            ],
            [
             0.7777777777777778,
             "#fb9f3a"
            ],
            [
             0.8888888888888888,
             "#fdca26"
            ],
            [
             1,
             "#f0f921"
            ]
           ],
           "sequentialminus": [
            [
             0,
             "#0d0887"
            ],
            [
             0.1111111111111111,
             "#46039f"
            ],
            [
             0.2222222222222222,
             "#7201a8"
            ],
            [
             0.3333333333333333,
             "#9c179e"
            ],
            [
             0.4444444444444444,
             "#bd3786"
            ],
            [
             0.5555555555555556,
             "#d8576b"
            ],
            [
             0.6666666666666666,
             "#ed7953"
            ],
            [
             0.7777777777777778,
             "#fb9f3a"
            ],
            [
             0.8888888888888888,
             "#fdca26"
            ],
            [
             1,
             "#f0f921"
            ]
           ]
          },
          "colorway": [
           "#636efa",
           "#EF553B",
           "#00cc96",
           "#ab63fa",
           "#FFA15A",
           "#19d3f3",
           "#FF6692",
           "#B6E880",
           "#FF97FF",
           "#FECB52"
          ],
          "font": {
           "color": "#2a3f5f"
          },
          "geo": {
           "bgcolor": "white",
           "lakecolor": "white",
           "landcolor": "#E5ECF6",
           "showlakes": true,
           "showland": true,
           "subunitcolor": "white"
          },
          "hoverlabel": {
           "align": "left"
          },
          "hovermode": "closest",
          "mapbox": {
           "style": "light"
          },
          "paper_bgcolor": "white",
          "plot_bgcolor": "#E5ECF6",
          "polar": {
           "angularaxis": {
            "gridcolor": "white",
            "linecolor": "white",
            "ticks": ""
           },
           "bgcolor": "#E5ECF6",
           "radialaxis": {
            "gridcolor": "white",
            "linecolor": "white",
            "ticks": ""
           }
          },
          "scene": {
           "xaxis": {
            "backgroundcolor": "#E5ECF6",
            "gridcolor": "white",
            "gridwidth": 2,
            "linecolor": "white",
            "showbackground": true,
            "ticks": "",
            "zerolinecolor": "white"
           },
           "yaxis": {
            "backgroundcolor": "#E5ECF6",
            "gridcolor": "white",
            "gridwidth": 2,
            "linecolor": "white",
            "showbackground": true,
            "ticks": "",
            "zerolinecolor": "white"
           },
           "zaxis": {
            "backgroundcolor": "#E5ECF6",
            "gridcolor": "white",
            "gridwidth": 2,
            "linecolor": "white",
            "showbackground": true,
            "ticks": "",
            "zerolinecolor": "white"
           }
          },
          "shapedefaults": {
           "line": {
            "color": "#2a3f5f"
           }
          },
          "ternary": {
           "aaxis": {
            "gridcolor": "white",
            "linecolor": "white",
            "ticks": ""
           },
           "baxis": {
            "gridcolor": "white",
            "linecolor": "white",
            "ticks": ""
           },
           "bgcolor": "#E5ECF6",
           "caxis": {
            "gridcolor": "white",
            "linecolor": "white",
            "ticks": ""
           }
          },
          "title": {
           "x": 0.05
          },
          "xaxis": {
           "automargin": true,
           "gridcolor": "white",
           "linecolor": "white",
           "ticks": "",
           "title": {
            "standoff": 15
           },
           "zerolinecolor": "white",
           "zerolinewidth": 2
          },
          "yaxis": {
           "automargin": true,
           "gridcolor": "white",
           "linecolor": "white",
           "ticks": "",
           "title": {
            "standoff": 15
           },
           "zerolinecolor": "white",
           "zerolinewidth": 2
          }
         }
        },
        "title": {
         "text": "TSLA  vs. RIVN Stock Log Prices"
        },
        "xaxis": {
         "title": {
          "text": "timestamp"
         }
        },
        "yaxis": {
         "title": {
          "text": "Price (USD)"
         }
        }
       }
      }
     },
     "metadata": {},
     "output_type": "display_data"
    }
   ],
   "source": [
    "fig = go.Figure()\n",
    "asset_a = \"TSLA\"\n",
    "asset_b = \"RIVN\"\n",
    "fig.add_trace(go.Scatter(x=EV_stocks_data[asset_a][\"timestamp\"], y=np.log(EV_stocks_data[asset_a][\"close\"]), mode=\"lines\", name=f\"{asset_a}\"))\n",
    "fig.add_trace(go.Scatter(x=EV_stocks_data[asset_b][\"timestamp\"], y=np.log(EV_stocks_data[asset_b][\"close\"]), mode=\"lines\", name=f\"{asset_b}\"))\n",
    "fig.update_layout(title=f\"{asset_a}  vs. {asset_b} Stock Log Prices\", xaxis_title=\"timestamp\", yaxis_title=\"Price (USD)\", legend=dict(x=0, y=1))\n",
    "fig.show()\n",
    "fig.write_html(\"html_plot/log_price.html\")"
   ]
  },
  {
   "cell_type": "code",
   "execution_count": null,
   "id": "6b50effc",
   "metadata": {},
   "outputs": [
    {
     "name": "stdout",
     "output_type": "stream",
     "text": [
      "                            OLS Regression Results                            \n",
      "==============================================================================\n",
      "Dep. Variable:                  close   R-squared:                       0.030\n",
      "Model:                            OLS   Adj. R-squared:                  0.029\n",
      "Method:                 Least Squares   F-statistic:                     23.15\n",
      "Date:                Wed, 16 Apr 2025   Prob (F-statistic):           1.81e-06\n",
      "Time:                        14:18:53   Log-Likelihood:                -372.81\n",
      "No. Observations:                 753   AIC:                             749.6\n",
      "Df Residuals:                     751   BIC:                             758.9\n",
      "Df Model:                           1                                         \n",
      "Covariance Type:            nonrobust                                         \n",
      "==============================================================================\n",
      "                 coef    std err          t      P>|t|      [0.025      0.975]\n",
      "------------------------------------------------------------------------------\n",
      "const          1.3888      0.305      4.555      0.000       0.790       1.987\n",
      "close          0.2696      0.056      4.812      0.000       0.160       0.380\n",
      "==============================================================================\n",
      "Omnibus:                      408.990   Durbin-Watson:                   0.012\n",
      "Prob(Omnibus):                  0.000   Jarque-Bera (JB):               53.593\n",
      "Skew:                           0.300   Prob(JB):                     2.30e-12\n",
      "Kurtosis:                       1.839   Cond. No.                         118.\n",
      "==============================================================================\n",
      "\n",
      "Notes:\n",
      "[1] Standard Errors assume that the covariance matrix of the errors is correctly specified.\n",
      "Cointegration test result:\n",
      "========================================\n",
      "Test Statistic: -2.433595972620086\n",
      "p-value: 0.3091126787088866\n"
     ]
    }
   ],
   "source": [
    "X = np.log(EV_stocks_data[asset_a][\"close\"])\n",
    "Y = np.log(EV_stocks_data[asset_b][\"close\"])\n",
    "X_const = sm.add_constant(X)  # Adds a constant term to the predictor\n",
    "model = sm.OLS(Y, X_const).fit()\n",
    "print(model.summary())\n",
    "\n",
    "\n",
    "result = ts.coint(X, Y)\n",
    "print(\"Cointegration test result:\")\n",
    "print(\"========================================\")\n",
    "print(\"Test Statistic:\", result[0])\n",
    "print(\"p-value:\", result[1])"
   ]
  },
  {
   "cell_type": "code",
   "execution_count": 6,
   "id": "9ace8d96",
   "metadata": {},
   "outputs": [],
   "source": [
    "def rolling_adf(spread_series, time_index, window=90):\n",
    "    adf_stats = []\n",
    "    p_values = []\n",
    "    dates = []\n",
    "\n",
    "    for i in range(window, len(spread_series)):\n",
    "        window_data = spread_series.iloc[i - window : i]\n",
    "        result = adfuller(window_data, maxlag=1, autolag=None)\n",
    "        adf_stats.append(result[0])  # Test statistic\n",
    "        p_values.append(result[1])  # p-value\n",
    "        dates.append(time_index.iloc[i])\n",
    "    return pd.DataFrame({\"timestamp\": dates, \"adf_stat\": adf_stats, \"p_value\": p_values})\n",
    "\n",
    "\n",
    "trade_df = pd.merge(EV_stocks_data[\"RIVN\"][[\"timestamp\", \"close\"]], EV_stocks_data[\"TSLA\"][[\"timestamp\", \"close\"]], on=\"timestamp\", suffixes=(\"_RIVN\", \"_TSLA\"))\n",
    "trade_df[\"log_close_TSLA\"] = np.log(trade_df[\"close_TSLA\"])\n",
    "trade_df[\"log_close_RIVN\"] = np.log(trade_df[\"close_RIVN\"])\n",
    "X = trade_df[\"log_close_TSLA\"].astype(float)\n",
    "Y = trade_df[\"log_close_RIVN\"].astype(float)\n",
    "X_with_const = sm.add_constant(X)\n",
    "model = RollingOLS(endog=Y, exog=X_with_const, window=20)\n",
    "rres = model.fit()\n",
    "trade_df[\"hedge_ratio\"] = rres.params[\"log_close_TSLA\"]\n",
    "trade_df[\"spread\"] = trade_df[\"log_close_RIVN\"] - trade_df[\"hedge_ratio\"] * trade_df[\"log_close_TSLA\"]\n",
    "trade_df[\"z_score\"] = (trade_df[\"spread\"] - trade_df[\"spread\"].rolling(window=20).mean()) / trade_df[\"spread\"].rolling(window=20).std()\n",
    "trade_df.dropna(inplace=True)\n",
    "rolling_adf_df = rolling_adf(trade_df[\"spread\"], trade_df[\"timestamp\"], window=60)\n",
    "trade_df = pd.merge(trade_df, rolling_adf_df, on=\"timestamp\", how=\"left\")\n",
    "trade_df.dropna(inplace=True)"
   ]
  },
  {
   "cell_type": "code",
   "execution_count": 43,
   "id": "73e523eb",
   "metadata": {},
   "outputs": [
    {
     "data": {
      "application/vnd.plotly.v1+json": {
       "config": {
        "plotlyServerURL": "https://plot.ly"
       },
       "data": [
        {
         "mode": "lines",
         "name": "spread",
         "type": "scatter",
         "x": [
          "2022-09-07",
          "2022-09-08",
          "2022-09-09",
          "2022-09-12",
          "2022-09-13",
          "2022-09-14",
          "2022-09-15",
          "2022-09-16",
          "2022-09-19",
          "2022-09-20",
          "2022-09-21",
          "2022-09-22",
          "2022-09-23",
          "2022-09-26",
          "2022-09-27",
          "2022-09-28",
          "2022-09-29",
          "2022-09-30",
          "2022-10-03",
          "2022-10-04",
          "2022-10-05",
          "2022-10-06",
          "2022-10-07",
          "2022-10-10",
          "2022-10-11",
          "2022-10-12",
          "2022-10-13",
          "2022-10-14",
          "2022-10-17",
          "2022-10-18",
          "2022-10-19",
          "2022-10-20",
          "2022-10-21",
          "2022-10-24",
          "2022-10-25",
          "2022-10-26",
          "2022-10-27",
          "2022-10-28",
          "2022-10-31",
          "2022-11-01",
          "2022-11-02",
          "2022-11-03",
          "2022-11-04",
          "2022-11-07",
          "2022-11-08",
          "2022-11-09",
          "2022-11-10",
          "2022-11-11",
          "2022-11-14",
          "2022-11-15",
          "2022-11-16",
          "2022-11-17",
          "2022-11-18",
          "2022-11-21",
          "2022-11-22",
          "2022-11-23",
          "2022-11-25",
          "2022-11-28",
          "2022-11-29",
          "2022-11-30",
          "2022-12-01",
          "2022-12-02",
          "2022-12-05",
          "2022-12-06",
          "2022-12-07",
          "2022-12-08",
          "2022-12-09",
          "2022-12-12",
          "2022-12-13",
          "2022-12-14",
          "2022-12-15",
          "2022-12-16",
          "2022-12-19",
          "2022-12-20",
          "2022-12-21",
          "2022-12-22",
          "2022-12-23",
          "2022-12-27",
          "2022-12-28",
          "2022-12-29",
          "2022-12-30",
          "2023-01-03",
          "2023-01-04",
          "2023-01-05",
          "2023-01-06",
          "2023-01-09",
          "2023-01-10",
          "2023-01-11",
          "2023-01-12",
          "2023-01-13",
          "2023-01-17",
          "2023-01-18",
          "2023-01-19",
          "2023-01-20",
          "2023-01-23",
          "2023-01-24",
          "2023-01-25",
          "2023-01-26",
          "2023-01-27",
          "2023-01-30",
          "2023-01-31",
          "2023-02-01",
          "2023-02-02",
          "2023-02-03",
          "2023-02-06",
          "2023-02-07",
          "2023-02-08",
          "2023-02-09",
          "2023-02-10",
          "2023-02-13",
          "2023-02-14",
          "2023-02-15",
          "2023-02-16",
          "2023-02-17",
          "2023-02-21",
          "2023-02-22",
          "2023-02-23",
          "2023-02-24",
          "2023-02-27",
          "2023-02-28",
          "2023-03-01",
          "2023-03-02",
          "2023-03-03",
          "2023-03-06",
          "2023-03-07",
          "2023-03-08",
          "2023-03-09",
          "2023-03-10",
          "2023-03-13",
          "2023-03-14",
          "2023-03-15",
          "2023-03-16",
          "2023-03-17",
          "2023-03-20",
          "2023-03-21",
          "2023-03-22",
          "2023-03-23",
          "2023-03-24",
          "2023-03-27",
          "2023-03-28",
          "2023-03-29",
          "2023-03-30",
          "2023-03-31",
          "2023-04-03",
          "2023-04-04",
          "2023-04-05",
          "2023-04-06",
          "2023-04-10",
          "2023-04-11",
          "2023-04-12",
          "2023-04-13",
          "2023-04-14",
          "2023-04-17",
          "2023-04-18",
          "2023-04-19",
          "2023-04-20",
          "2023-04-21",
          "2023-04-24",
          "2023-04-25",
          "2023-04-26",
          "2023-04-27",
          "2023-04-28",
          "2023-05-01",
          "2023-05-02",
          "2023-05-03",
          "2023-05-04",
          "2023-05-05",
          "2023-05-08",
          "2023-05-09",
          "2023-05-10",
          "2023-05-11",
          "2023-05-12",
          "2023-05-15",
          "2023-05-16",
          "2023-05-17",
          "2023-05-18",
          "2023-05-19",
          "2023-05-22",
          "2023-05-23",
          "2023-05-24",
          "2023-05-25",
          "2023-05-26",
          "2023-05-30",
          "2023-05-31",
          "2023-06-01",
          "2023-06-02",
          "2023-06-05",
          "2023-06-06",
          "2023-06-07",
          "2023-06-08",
          "2023-06-09",
          "2023-06-12",
          "2023-06-13",
          "2023-06-14",
          "2023-06-15",
          "2023-06-16",
          "2023-06-20",
          "2023-06-21",
          "2023-06-22",
          "2023-06-23",
          "2023-06-26",
          "2023-06-27",
          "2023-06-28",
          "2023-06-29",
          "2023-06-30",
          "2023-07-03",
          "2023-07-05",
          "2023-07-06",
          "2023-07-07",
          "2023-07-10",
          "2023-07-11",
          "2023-07-12",
          "2023-07-13",
          "2023-07-14",
          "2023-07-17",
          "2023-07-18",
          "2023-07-19",
          "2023-07-20",
          "2023-07-21",
          "2023-07-24",
          "2023-07-25",
          "2023-07-26",
          "2023-07-27",
          "2023-07-28",
          "2023-07-31",
          "2023-08-01",
          "2023-08-02",
          "2023-08-03",
          "2023-08-04",
          "2023-08-07",
          "2023-08-08",
          "2023-08-09",
          "2023-08-10",
          "2023-08-11",
          "2023-08-14",
          "2023-08-15",
          "2023-08-16",
          "2023-08-17",
          "2023-08-18",
          "2023-08-21",
          "2023-08-22",
          "2023-08-23",
          "2023-08-24",
          "2023-08-25",
          "2023-08-28",
          "2023-08-29",
          "2023-08-30",
          "2023-08-31",
          "2023-09-01",
          "2023-09-05",
          "2023-09-06",
          "2023-09-07",
          "2023-09-08",
          "2023-09-11",
          "2023-09-12",
          "2023-09-13",
          "2023-09-14",
          "2023-09-15",
          "2023-09-18",
          "2023-09-19",
          "2023-09-20",
          "2023-09-21",
          "2023-09-22",
          "2023-09-25",
          "2023-09-26",
          "2023-09-27",
          "2023-09-28",
          "2023-09-29",
          "2023-10-02",
          "2023-10-03",
          "2023-10-04",
          "2023-10-05",
          "2023-10-06",
          "2023-10-09",
          "2023-10-10",
          "2023-10-11",
          "2023-10-12",
          "2023-10-13",
          "2023-10-16",
          "2023-10-17",
          "2023-10-18",
          "2023-10-19",
          "2023-10-20",
          "2023-10-23",
          "2023-10-24",
          "2023-10-25",
          "2023-10-26",
          "2023-10-27",
          "2023-10-30",
          "2023-10-31",
          "2023-11-01",
          "2023-11-02",
          "2023-11-03",
          "2023-11-06",
          "2023-11-07",
          "2023-11-08",
          "2023-11-09",
          "2023-11-10",
          "2023-11-13",
          "2023-11-14",
          "2023-11-15",
          "2023-11-16",
          "2023-11-17",
          "2023-11-20",
          "2023-11-21",
          "2023-11-22",
          "2023-11-24",
          "2023-11-27",
          "2023-11-28",
          "2023-11-29",
          "2023-11-30",
          "2023-12-01",
          "2023-12-04",
          "2023-12-05",
          "2023-12-06",
          "2023-12-07",
          "2023-12-08",
          "2023-12-11",
          "2023-12-12",
          "2023-12-13",
          "2023-12-14",
          "2023-12-15",
          "2023-12-18",
          "2023-12-19",
          "2023-12-20",
          "2023-12-21",
          "2023-12-22",
          "2023-12-26",
          "2023-12-27",
          "2023-12-28",
          "2023-12-29",
          "2024-01-02",
          "2024-01-03",
          "2024-01-04",
          "2024-01-05",
          "2024-01-08",
          "2024-01-09",
          "2024-01-10",
          "2024-01-11",
          "2024-01-12",
          "2024-01-16",
          "2024-01-17",
          "2024-01-18",
          "2024-01-19",
          "2024-01-22",
          "2024-01-23",
          "2024-01-24",
          "2024-01-25",
          "2024-01-26",
          "2024-01-29",
          "2024-01-30",
          "2024-01-31",
          "2024-02-01",
          "2024-02-02",
          "2024-02-05",
          "2024-02-06",
          "2024-02-07",
          "2024-02-08",
          "2024-02-09",
          "2024-02-12",
          "2024-02-13",
          "2024-02-14",
          "2024-02-15",
          "2024-02-16",
          "2024-02-20",
          "2024-02-21",
          "2024-02-22",
          "2024-02-23",
          "2024-02-26",
          "2024-02-27",
          "2024-02-28",
          "2024-02-29",
          "2024-03-01",
          "2024-03-04",
          "2024-03-05",
          "2024-03-06",
          "2024-03-07",
          "2024-03-08",
          "2024-03-11",
          "2024-03-12",
          "2024-03-13",
          "2024-03-14",
          "2024-03-15",
          "2024-03-18",
          "2024-03-19",
          "2024-03-20",
          "2024-03-21",
          "2024-03-22",
          "2024-03-25",
          "2024-03-26",
          "2024-03-27",
          "2024-03-28",
          "2024-04-01",
          "2024-04-02",
          "2024-04-03",
          "2024-04-04",
          "2024-04-05",
          "2024-04-08",
          "2024-04-09",
          "2024-04-10",
          "2024-04-11",
          "2024-04-12",
          "2024-04-15",
          "2024-04-16",
          "2024-04-17",
          "2024-04-18",
          "2024-04-19",
          "2024-04-22",
          "2024-04-23",
          "2024-04-24",
          "2024-04-25",
          "2024-04-26",
          "2024-04-29",
          "2024-04-30",
          "2024-05-01",
          "2024-05-02",
          "2024-05-03",
          "2024-05-06",
          "2024-05-07",
          "2024-05-08",
          "2024-05-09",
          "2024-05-10",
          "2024-05-13",
          "2024-05-14",
          "2024-05-15",
          "2024-05-16",
          "2024-05-17",
          "2024-05-20",
          "2024-05-21",
          "2024-05-22",
          "2024-05-23",
          "2024-05-24",
          "2024-05-28",
          "2024-05-29",
          "2024-05-30",
          "2024-05-31",
          "2024-06-03",
          "2024-06-04",
          "2024-06-05",
          "2024-06-06",
          "2024-06-07",
          "2024-06-10",
          "2024-06-11",
          "2024-06-12",
          "2024-06-13",
          "2024-06-14",
          "2024-06-17",
          "2024-06-18",
          "2024-06-20",
          "2024-06-21",
          "2024-06-24",
          "2024-06-25",
          "2024-06-26",
          "2024-06-27",
          "2024-06-28",
          "2024-07-01",
          "2024-07-02",
          "2024-07-03",
          "2024-07-05",
          "2024-07-08",
          "2024-07-09",
          "2024-07-10",
          "2024-07-11",
          "2024-07-12",
          "2024-07-15",
          "2024-07-16",
          "2024-07-17",
          "2024-07-18",
          "2024-07-19",
          "2024-07-22",
          "2024-07-23",
          "2024-07-24",
          "2024-07-25",
          "2024-07-26",
          "2024-07-29",
          "2024-07-30",
          "2024-07-31",
          "2024-08-01",
          "2024-08-02",
          "2024-08-05",
          "2024-08-06",
          "2024-08-07",
          "2024-08-08",
          "2024-08-09",
          "2024-08-12",
          "2024-08-13",
          "2024-08-14",
          "2024-08-15",
          "2024-08-16",
          "2024-08-19",
          "2024-08-20",
          "2024-08-21",
          "2024-08-22",
          "2024-08-23",
          "2024-08-26",
          "2024-08-27",
          "2024-08-28",
          "2024-08-29",
          "2024-08-30",
          "2024-09-03",
          "2024-09-04",
          "2024-09-05",
          "2024-09-06",
          "2024-09-09",
          "2024-09-10",
          "2024-09-11",
          "2024-09-12",
          "2024-09-13",
          "2024-09-16",
          "2024-09-17",
          "2024-09-18",
          "2024-09-19",
          "2024-09-20",
          "2024-09-23",
          "2024-09-24",
          "2024-09-25",
          "2024-09-26",
          "2024-09-27",
          "2024-09-30",
          "2024-10-01",
          "2024-10-02",
          "2024-10-03",
          "2024-10-04",
          "2024-10-07",
          "2024-10-08",
          "2024-10-09",
          "2024-10-10",
          "2024-10-11",
          "2024-10-14",
          "2024-10-15",
          "2024-10-16",
          "2024-10-17",
          "2024-10-18",
          "2024-10-21",
          "2024-10-22",
          "2024-10-23",
          "2024-10-24",
          "2024-10-25",
          "2024-10-28",
          "2024-10-29",
          "2024-10-30",
          "2024-10-31",
          "2024-11-01",
          "2024-11-04",
          "2024-11-05",
          "2024-11-06",
          "2024-11-07",
          "2024-11-08",
          "2024-11-11",
          "2024-11-12",
          "2024-11-13",
          "2024-11-14",
          "2024-11-15",
          "2024-11-18",
          "2024-11-19",
          "2024-11-20",
          "2024-11-21",
          "2024-11-22",
          "2024-11-25",
          "2024-11-26",
          "2024-11-27",
          "2024-11-29",
          "2024-12-02",
          "2024-12-03",
          "2024-12-04",
          "2024-12-05",
          "2024-12-06",
          "2024-12-09",
          "2024-12-10",
          "2024-12-11",
          "2024-12-12",
          "2024-12-13",
          "2024-12-16",
          "2024-12-17",
          "2024-12-18",
          "2024-12-19",
          "2024-12-20",
          "2024-12-23",
          "2024-12-24",
          "2024-12-26",
          "2024-12-27",
          "2024-12-30",
          "2024-12-31",
          "2025-01-02",
          "2025-01-03",
          "2025-01-06",
          "2025-01-07",
          "2025-01-08",
          "2025-01-10",
          "2025-01-13",
          "2025-01-14",
          "2025-01-15",
          "2025-01-16",
          "2025-01-17",
          "2025-01-21",
          "2025-01-22",
          "2025-01-23",
          "2025-01-24",
          "2025-01-27",
          "2025-01-28",
          "2025-01-29",
          "2025-01-30",
          "2025-01-31",
          "2025-02-03",
          "2025-02-04",
          "2025-02-05",
          "2025-02-06",
          "2025-02-07",
          "2025-02-10",
          "2025-02-11",
          "2025-02-12",
          "2025-02-13",
          "2025-02-14",
          "2025-02-18",
          "2025-02-19",
          "2025-02-20",
          "2025-02-21",
          "2025-02-24",
          "2025-02-25",
          "2025-02-26",
          "2025-02-27",
          "2025-02-28",
          "2025-03-03",
          "2025-03-04",
          "2025-03-05",
          "2025-03-06",
          "2025-03-07",
          "2025-03-10",
          "2025-03-11",
          "2025-03-12",
          "2025-03-13",
          "2025-03-14",
          "2025-03-17",
          "2025-03-18",
          "2025-03-19",
          "2025-03-20",
          "2025-03-21",
          "2025-03-24",
          "2025-03-25",
          "2025-03-26",
          "2025-03-27",
          "2025-03-28",
          "2025-03-31",
          "2025-04-01",
          "2025-04-02",
          "2025-04-03",
          "2025-04-04",
          "2025-04-07",
          "2025-04-08",
          "2025-04-09",
          "2025-04-10",
          "2025-04-11",
          "2025-04-14",
          "2025-04-15",
          "2025-04-16"
         ],
         "y": {
          "bdata": "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",
          "dtype": "f8"
         }
        },
        {
         "mode": "lines",
         "name": "z-score",
         "opacity": 0.4,
         "type": "scatter",
         "x": [
          "2022-09-07",
          "2022-09-08",
          "2022-09-09",
          "2022-09-12",
          "2022-09-13",
          "2022-09-14",
          "2022-09-15",
          "2022-09-16",
          "2022-09-19",
          "2022-09-20",
          "2022-09-21",
          "2022-09-22",
          "2022-09-23",
          "2022-09-26",
          "2022-09-27",
          "2022-09-28",
          "2022-09-29",
          "2022-09-30",
          "2022-10-03",
          "2022-10-04",
          "2022-10-05",
          "2022-10-06",
          "2022-10-07",
          "2022-10-10",
          "2022-10-11",
          "2022-10-12",
          "2022-10-13",
          "2022-10-14",
          "2022-10-17",
          "2022-10-18",
          "2022-10-19",
          "2022-10-20",
          "2022-10-21",
          "2022-10-24",
          "2022-10-25",
          "2022-10-26",
          "2022-10-27",
          "2022-10-28",
          "2022-10-31",
          "2022-11-01",
          "2022-11-02",
          "2022-11-03",
          "2022-11-04",
          "2022-11-07",
          "2022-11-08",
          "2022-11-09",
          "2022-11-10",
          "2022-11-11",
          "2022-11-14",
          "2022-11-15",
          "2022-11-16",
          "2022-11-17",
          "2022-11-18",
          "2022-11-21",
          "2022-11-22",
          "2022-11-23",
          "2022-11-25",
          "2022-11-28",
          "2022-11-29",
          "2022-11-30",
          "2022-12-01",
          "2022-12-02",
          "2022-12-05",
          "2022-12-06",
          "2022-12-07",
          "2022-12-08",
          "2022-12-09",
          "2022-12-12",
          "2022-12-13",
          "2022-12-14",
          "2022-12-15",
          "2022-12-16",
          "2022-12-19",
          "2022-12-20",
          "2022-12-21",
          "2022-12-22",
          "2022-12-23",
          "2022-12-27",
          "2022-12-28",
          "2022-12-29",
          "2022-12-30",
          "2023-01-03",
          "2023-01-04",
          "2023-01-05",
          "2023-01-06",
          "2023-01-09",
          "2023-01-10",
          "2023-01-11",
          "2023-01-12",
          "2023-01-13",
          "2023-01-17",
          "2023-01-18",
          "2023-01-19",
          "2023-01-20",
          "2023-01-23",
          "2023-01-24",
          "2023-01-25",
          "2023-01-26",
          "2023-01-27",
          "2023-01-30",
          "2023-01-31",
          "2023-02-01",
          "2023-02-02",
          "2023-02-03",
          "2023-02-06",
          "2023-02-07",
          "2023-02-08",
          "2023-02-09",
          "2023-02-10",
          "2023-02-13",
          "2023-02-14",
          "2023-02-15",
          "2023-02-16",
          "2023-02-17",
          "2023-02-21",
          "2023-02-22",
          "2023-02-23",
          "2023-02-24",
          "2023-02-27",
          "2023-02-28",
          "2023-03-01",
          "2023-03-02",
          "2023-03-03",
          "2023-03-06",
          "2023-03-07",
          "2023-03-08",
          "2023-03-09",
          "2023-03-10",
          "2023-03-13",
          "2023-03-14",
          "2023-03-15",
          "2023-03-16",
          "2023-03-17",
          "2023-03-20",
          "2023-03-21",
          "2023-03-22",
          "2023-03-23",
          "2023-03-24",
          "2023-03-27",
          "2023-03-28",
          "2023-03-29",
          "2023-03-30",
          "2023-03-31",
          "2023-04-03",
          "2023-04-04",
          "2023-04-05",
          "2023-04-06",
          "2023-04-10",
          "2023-04-11",
          "2023-04-12",
          "2023-04-13",
          "2023-04-14",
          "2023-04-17",
          "2023-04-18",
          "2023-04-19",
          "2023-04-20",
          "2023-04-21",
          "2023-04-24",
          "2023-04-25",
          "2023-04-26",
          "2023-04-27",
          "2023-04-28",
          "2023-05-01",
          "2023-05-02",
          "2023-05-03",
          "2023-05-04",
          "2023-05-05",
          "2023-05-08",
          "2023-05-09",
          "2023-05-10",
          "2023-05-11",
          "2023-05-12",
          "2023-05-15",
          "2023-05-16",
          "2023-05-17",
          "2023-05-18",
          "2023-05-19",
          "2023-05-22",
          "2023-05-23",
          "2023-05-24",
          "2023-05-25",
          "2023-05-26",
          "2023-05-30",
          "2023-05-31",
          "2023-06-01",
          "2023-06-02",
          "2023-06-05",
          "2023-06-06",
          "2023-06-07",
          "2023-06-08",
          "2023-06-09",
          "2023-06-12",
          "2023-06-13",
          "2023-06-14",
          "2023-06-15",
          "2023-06-16",
          "2023-06-20",
          "2023-06-21",
          "2023-06-22",
          "2023-06-23",
          "2023-06-26",
          "2023-06-27",
          "2023-06-28",
          "2023-06-29",
          "2023-06-30",
          "2023-07-03",
          "2023-07-05",
          "2023-07-06",
          "2023-07-07",
          "2023-07-10",
          "2023-07-11",
          "2023-07-12",
          "2023-07-13",
          "2023-07-14",
          "2023-07-17",
          "2023-07-18",
          "2023-07-19",
          "2023-07-20",
          "2023-07-21",
          "2023-07-24",
          "2023-07-25",
          "2023-07-26",
          "2023-07-27",
          "2023-07-28",
          "2023-07-31",
          "2023-08-01",
          "2023-08-02",
          "2023-08-03",
          "2023-08-04",
          "2023-08-07",
          "2023-08-08",
          "2023-08-09",
          "2023-08-10",
          "2023-08-11",
          "2023-08-14",
          "2023-08-15",
          "2023-08-16",
          "2023-08-17",
          "2023-08-18",
          "2023-08-21",
          "2023-08-22",
          "2023-08-23",
          "2023-08-24",
          "2023-08-25",
          "2023-08-28",
          "2023-08-29",
          "2023-08-30",
          "2023-08-31",
          "2023-09-01",
          "2023-09-05",
          "2023-09-06",
          "2023-09-07",
          "2023-09-08",
          "2023-09-11",
          "2023-09-12",
          "2023-09-13",
          "2023-09-14",
          "2023-09-15",
          "2023-09-18",
          "2023-09-19",
          "2023-09-20",
          "2023-09-21",
          "2023-09-22",
          "2023-09-25",
          "2023-09-26",
          "2023-09-27",
          "2023-09-28",
          "2023-09-29",
          "2023-10-02",
          "2023-10-03",
          "2023-10-04",
          "2023-10-05",
          "2023-10-06",
          "2023-10-09",
          "2023-10-10",
          "2023-10-11",
          "2023-10-12",
          "2023-10-13",
          "2023-10-16",
          "2023-10-17",
          "2023-10-18",
          "2023-10-19",
          "2023-10-20",
          "2023-10-23",
          "2023-10-24",
          "2023-10-25",
          "2023-10-26",
          "2023-10-27",
          "2023-10-30",
          "2023-10-31",
          "2023-11-01",
          "2023-11-02",
          "2023-11-03",
          "2023-11-06",
          "2023-11-07",
          "2023-11-08",
          "2023-11-09",
          "2023-11-10",
          "2023-11-13",
          "2023-11-14",
          "2023-11-15",
          "2023-11-16",
          "2023-11-17",
          "2023-11-20",
          "2023-11-21",
          "2023-11-22",
          "2023-11-24",
          "2023-11-27",
          "2023-11-28",
          "2023-11-29",
          "2023-11-30",
          "2023-12-01",
          "2023-12-04",
          "2023-12-05",
          "2023-12-06",
          "2023-12-07",
          "2023-12-08",
          "2023-12-11",
          "2023-12-12",
          "2023-12-13",
          "2023-12-14",
          "2023-12-15",
          "2023-12-18",
          "2023-12-19",
          "2023-12-20",
          "2023-12-21",
          "2023-12-22",
          "2023-12-26",
          "2023-12-27",
          "2023-12-28",
          "2023-12-29",
          "2024-01-02",
          "2024-01-03",
          "2024-01-04",
          "2024-01-05",
          "2024-01-08",
          "2024-01-09",
          "2024-01-10",
          "2024-01-11",
          "2024-01-12",
          "2024-01-16",
          "2024-01-17",
          "2024-01-18",
          "2024-01-19",
          "2024-01-22",
          "2024-01-23",
          "2024-01-24",
          "2024-01-25",
          "2024-01-26",
          "2024-01-29",
          "2024-01-30",
          "2024-01-31",
          "2024-02-01",
          "2024-02-02",
          "2024-02-05",
          "2024-02-06",
          "2024-02-07",
          "2024-02-08",
          "2024-02-09",
          "2024-02-12",
          "2024-02-13",
          "2024-02-14",
          "2024-02-15",
          "2024-02-16",
          "2024-02-20",
          "2024-02-21",
          "2024-02-22",
          "2024-02-23",
          "2024-02-26",
          "2024-02-27",
          "2024-02-28",
          "2024-02-29",
          "2024-03-01",
          "2024-03-04",
          "2024-03-05",
          "2024-03-06",
          "2024-03-07",
          "2024-03-08",
          "2024-03-11",
          "2024-03-12",
          "2024-03-13",
          "2024-03-14",
          "2024-03-15",
          "2024-03-18",
          "2024-03-19",
          "2024-03-20",
          "2024-03-21",
          "2024-03-22",
          "2024-03-25",
          "2024-03-26",
          "2024-03-27",
          "2024-03-28",
          "2024-04-01",
          "2024-04-02",
          "2024-04-03",
          "2024-04-04",
          "2024-04-05",
          "2024-04-08",
          "2024-04-09",
          "2024-04-10",
          "2024-04-11",
          "2024-04-12",
          "2024-04-15",
          "2024-04-16",
          "2024-04-17",
          "2024-04-18",
          "2024-04-19",
          "2024-04-22",
          "2024-04-23",
          "2024-04-24",
          "2024-04-25",
          "2024-04-26",
          "2024-04-29",
          "2024-04-30",
          "2024-05-01",
          "2024-05-02",
          "2024-05-03",
          "2024-05-06",
          "2024-05-07",
          "2024-05-08",
          "2024-05-09",
          "2024-05-10",
          "2024-05-13",
          "2024-05-14",
          "2024-05-15",
          "2024-05-16",
          "2024-05-17",
          "2024-05-20",
          "2024-05-21",
          "2024-05-22",
          "2024-05-23",
          "2024-05-24",
          "2024-05-28",
          "2024-05-29",
          "2024-05-30",
          "2024-05-31",
          "2024-06-03",
          "2024-06-04",
          "2024-06-05",
          "2024-06-06",
          "2024-06-07",
          "2024-06-10",
          "2024-06-11",
          "2024-06-12",
          "2024-06-13",
          "2024-06-14",
          "2024-06-17",
          "2024-06-18",
          "2024-06-20",
          "2024-06-21",
          "2024-06-24",
          "2024-06-25",
          "2024-06-26",
          "2024-06-27",
          "2024-06-28",
          "2024-07-01",
          "2024-07-02",
          "2024-07-03",
          "2024-07-05",
          "2024-07-08",
          "2024-07-09",
          "2024-07-10",
          "2024-07-11",
          "2024-07-12",
          "2024-07-15",
          "2024-07-16",
          "2024-07-17",
          "2024-07-18",
          "2024-07-19",
          "2024-07-22",
          "2024-07-23",
          "2024-07-24",
          "2024-07-25",
          "2024-07-26",
          "2024-07-29",
          "2024-07-30",
          "2024-07-31",
          "2024-08-01",
          "2024-08-02",
          "2024-08-05",
          "2024-08-06",
          "2024-08-07",
          "2024-08-08",
          "2024-08-09",
          "2024-08-12",
          "2024-08-13",
          "2024-08-14",
          "2024-08-15",
          "2024-08-16",
          "2024-08-19",
          "2024-08-20",
          "2024-08-21",
          "2024-08-22",
          "2024-08-23",
          "2024-08-26",
          "2024-08-27",
          "2024-08-28",
          "2024-08-29",
          "2024-08-30",
          "2024-09-03",
          "2024-09-04",
          "2024-09-05",
          "2024-09-06",
          "2024-09-09",
          "2024-09-10",
          "2024-09-11",
          "2024-09-12",
          "2024-09-13",
          "2024-09-16",
          "2024-09-17",
          "2024-09-18",
          "2024-09-19",
          "2024-09-20",
          "2024-09-23",
          "2024-09-24",
          "2024-09-25",
          "2024-09-26",
          "2024-09-27",
          "2024-09-30",
          "2024-10-01",
          "2024-10-02",
          "2024-10-03",
          "2024-10-04",
          "2024-10-07",
          "2024-10-08",
          "2024-10-09",
          "2024-10-10",
          "2024-10-11",
          "2024-10-14",
          "2024-10-15",
          "2024-10-16",
          "2024-10-17",
          "2024-10-18",
          "2024-10-21",
          "2024-10-22",
          "2024-10-23",
          "2024-10-24",
          "2024-10-25",
          "2024-10-28",
          "2024-10-29",
          "2024-10-30",
          "2024-10-31",
          "2024-11-01",
          "2024-11-04",
          "2024-11-05",
          "2024-11-06",
          "2024-11-07",
          "2024-11-08",
          "2024-11-11",
          "2024-11-12",
          "2024-11-13",
          "2024-11-14",
          "2024-11-15",
          "2024-11-18",
          "2024-11-19",
          "2024-11-20",
          "2024-11-21",
          "2024-11-22",
          "2024-11-25",
          "2024-11-26",
          "2024-11-27",
          "2024-11-29",
          "2024-12-02",
          "2024-12-03",
          "2024-12-04",
          "2024-12-05",
          "2024-12-06",
          "2024-12-09",
          "2024-12-10",
          "2024-12-11",
          "2024-12-12",
          "2024-12-13",
          "2024-12-16",
          "2024-12-17",
          "2024-12-18",
          "2024-12-19",
          "2024-12-20",
          "2024-12-23",
          "2024-12-24",
          "2024-12-26",
          "2024-12-27",
          "2024-12-30",
          "2024-12-31",
          "2025-01-02",
          "2025-01-03",
          "2025-01-06",
          "2025-01-07",
          "2025-01-08",
          "2025-01-10",
          "2025-01-13",
          "2025-01-14",
          "2025-01-15",
          "2025-01-16",
          "2025-01-17",
          "2025-01-21",
          "2025-01-22",
          "2025-01-23",
          "2025-01-24",
          "2025-01-27",
          "2025-01-28",
          "2025-01-29",
          "2025-01-30",
          "2025-01-31",
          "2025-02-03",
          "2025-02-04",
          "2025-02-05",
          "2025-02-06",
          "2025-02-07",
          "2025-02-10",
          "2025-02-11",
          "2025-02-12",
          "2025-02-13",
          "2025-02-14",
          "2025-02-18",
          "2025-02-19",
          "2025-02-20",
          "2025-02-21",
          "2025-02-24",
          "2025-02-25",
          "2025-02-26",
          "2025-02-27",
          "2025-02-28",
          "2025-03-03",
          "2025-03-04",
          "2025-03-05",
          "2025-03-06",
          "2025-03-07",
          "2025-03-10",
          "2025-03-11",
          "2025-03-12",
          "2025-03-13",
          "2025-03-14",
          "2025-03-17",
          "2025-03-18",
          "2025-03-19",
          "2025-03-20",
          "2025-03-21",
          "2025-03-24",
          "2025-03-25",
          "2025-03-26",
          "2025-03-27",
          "2025-03-28",
          "2025-03-31",
          "2025-04-01",
          "2025-04-02",
          "2025-04-03",
          "2025-04-04",
          "2025-04-07",
          "2025-04-08",
          "2025-04-09",
          "2025-04-10",
          "2025-04-11",
          "2025-04-14",
          "2025-04-15",
          "2025-04-16"
         ],
         "y": {
          "bdata": "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",
          "dtype": "f8"
         }
        }
       ],
       "layout": {
        "annotations": [
         {
          "showarrow": false,
          "text": "z-score upper threshold",
          "x": 1,
          "xanchor": "right",
          "xref": "x domain",
          "y": 2,
          "yanchor": "bottom",
          "yref": "y"
         },
         {
          "showarrow": false,
          "text": "z-score lower threshold",
          "x": 1,
          "xanchor": "right",
          "xref": "x domain",
          "y": -2,
          "yanchor": "top",
          "yref": "y"
         }
        ],
        "shapes": [
         {
          "line": {
           "color": "red",
           "dash": "dash"
          },
          "opacity": 0.4,
          "type": "line",
          "x0": 0,
          "x1": 1,
          "xref": "x domain",
          "y0": 2,
          "y1": 2,
          "yref": "y"
         },
         {
          "line": {
           "color": "red",
           "dash": "dash"
          },
          "opacity": 0.4,
          "type": "line",
          "x0": 0,
          "x1": 1,
          "xref": "x domain",
          "y0": -2,
          "y1": -2,
          "yref": "y"
         }
        ],
        "template": {
         "data": {
          "bar": [
           {
            "error_x": {
             "color": "#2a3f5f"
            },
            "error_y": {
             "color": "#2a3f5f"
            },
            "marker": {
             "line": {
              "color": "#E5ECF6",
              "width": 0.5
             },
             "pattern": {
              "fillmode": "overlay",
              "size": 10,
              "solidity": 0.2
             }
            },
            "type": "bar"
           }
          ],
          "barpolar": [
           {
            "marker": {
             "line": {
              "color": "#E5ECF6",
              "width": 0.5
             },
             "pattern": {
              "fillmode": "overlay",
              "size": 10,
              "solidity": 0.2
             }
            },
            "type": "barpolar"
           }
          ],
          "carpet": [
           {
            "aaxis": {
             "endlinecolor": "#2a3f5f",
             "gridcolor": "white",
             "linecolor": "white",
             "minorgridcolor": "white",
             "startlinecolor": "#2a3f5f"
            },
            "baxis": {
             "endlinecolor": "#2a3f5f",
             "gridcolor": "white",
             "linecolor": "white",
             "minorgridcolor": "white",
             "startlinecolor": "#2a3f5f"
            },
            "type": "carpet"
           }
          ],
          "choropleth": [
           {
            "colorbar": {
             "outlinewidth": 0,
             "ticks": ""
            },
            "type": "choropleth"
           }
          ],
          "contour": [
           {
            "colorbar": {
             "outlinewidth": 0,
             "ticks": ""
            },
            "colorscale": [
             [
              0,
              "#0d0887"
             ],
             [
              0.1111111111111111,
              "#46039f"
             ],
             [
              0.2222222222222222,
              "#7201a8"
             ],
             [
              0.3333333333333333,
              "#9c179e"
             ],
             [
              0.4444444444444444,
              "#bd3786"
             ],
             [
              0.5555555555555556,
              "#d8576b"
             ],
             [
              0.6666666666666666,
              "#ed7953"
             ],
             [
              0.7777777777777778,
              "#fb9f3a"
             ],
             [
              0.8888888888888888,
              "#fdca26"
             ],
             [
              1,
              "#f0f921"
             ]
            ],
            "type": "contour"
           }
          ],
          "contourcarpet": [
           {
            "colorbar": {
             "outlinewidth": 0,
             "ticks": ""
            },
            "type": "contourcarpet"
           }
          ],
          "heatmap": [
           {
            "colorbar": {
             "outlinewidth": 0,
             "ticks": ""
            },
            "colorscale": [
             [
              0,
              "#0d0887"
             ],
             [
              0.1111111111111111,
              "#46039f"
             ],
             [
              0.2222222222222222,
              "#7201a8"
             ],
             [
              0.3333333333333333,
              "#9c179e"
             ],
             [
              0.4444444444444444,
              "#bd3786"
             ],
             [
              0.5555555555555556,
              "#d8576b"
             ],
             [
              0.6666666666666666,
              "#ed7953"
             ],
             [
              0.7777777777777778,
              "#fb9f3a"
             ],
             [
              0.8888888888888888,
              "#fdca26"
             ],
             [
              1,
              "#f0f921"
             ]
            ],
            "type": "heatmap"
           }
          ],
          "histogram": [
           {
            "marker": {
             "pattern": {
              "fillmode": "overlay",
              "size": 10,
              "solidity": 0.2
             }
            },
            "type": "histogram"
           }
          ],
          "histogram2d": [
           {
            "colorbar": {
             "outlinewidth": 0,
             "ticks": ""
            },
            "colorscale": [
             [
              0,
              "#0d0887"
             ],
             [
              0.1111111111111111,
              "#46039f"
             ],
             [
              0.2222222222222222,
              "#7201a8"
             ],
             [
              0.3333333333333333,
              "#9c179e"
             ],
             [
              0.4444444444444444,
              "#bd3786"
             ],
             [
              0.5555555555555556,
              "#d8576b"
             ],
             [
              0.6666666666666666,
              "#ed7953"
             ],
             [
              0.7777777777777778,
              "#fb9f3a"
             ],
             [
              0.8888888888888888,
              "#fdca26"
             ],
             [
              1,
              "#f0f921"
             ]
            ],
            "type": "histogram2d"
           }
          ],
          "histogram2dcontour": [
           {
            "colorbar": {
             "outlinewidth": 0,
             "ticks": ""
            },
            "colorscale": [
             [
              0,
              "#0d0887"
             ],
             [
              0.1111111111111111,
              "#46039f"
             ],
             [
              0.2222222222222222,
              "#7201a8"
             ],
             [
              0.3333333333333333,
              "#9c179e"
             ],
             [
              0.4444444444444444,
              "#bd3786"
             ],
             [
              0.5555555555555556,
              "#d8576b"
             ],
             [
              0.6666666666666666,
              "#ed7953"
             ],
             [
              0.7777777777777778,
              "#fb9f3a"
             ],
             [
              0.8888888888888888,
              "#fdca26"
             ],
             [
              1,
              "#f0f921"
             ]
            ],
            "type": "histogram2dcontour"
           }
          ],
          "mesh3d": [
           {
            "colorbar": {
             "outlinewidth": 0,
             "ticks": ""
            },
            "type": "mesh3d"
           }
          ],
          "parcoords": [
           {
            "line": {
             "colorbar": {
              "outlinewidth": 0,
              "ticks": ""
             }
            },
            "type": "parcoords"
           }
          ],
          "pie": [
           {
            "automargin": true,
            "type": "pie"
           }
          ],
          "scatter": [
           {
            "fillpattern": {
             "fillmode": "overlay",
             "size": 10,
             "solidity": 0.2
            },
            "type": "scatter"
           }
          ],
          "scatter3d": [
           {
            "line": {
             "colorbar": {
              "outlinewidth": 0,
              "ticks": ""
             }
            },
            "marker": {
             "colorbar": {
              "outlinewidth": 0,
              "ticks": ""
             }
            },
            "type": "scatter3d"
           }
          ],
          "scattercarpet": [
           {
            "marker": {
             "colorbar": {
              "outlinewidth": 0,
              "ticks": ""
             }
            },
            "type": "scattercarpet"
           }
          ],
          "scattergeo": [
           {
            "marker": {
             "colorbar": {
              "outlinewidth": 0,
              "ticks": ""
             }
            },
            "type": "scattergeo"
           }
          ],
          "scattergl": [
           {
            "marker": {
             "colorbar": {
              "outlinewidth": 0,
              "ticks": ""
             }
            },
            "type": "scattergl"
           }
          ],
          "scattermap": [
           {
            "marker": {
             "colorbar": {
              "outlinewidth": 0,
              "ticks": ""
             }
            },
            "type": "scattermap"
           }
          ],
          "scattermapbox": [
           {
            "marker": {
             "colorbar": {
              "outlinewidth": 0,
              "ticks": ""
             }
            },
            "type": "scattermapbox"
           }
          ],
          "scatterpolar": [
           {
            "marker": {
             "colorbar": {
              "outlinewidth": 0,
              "ticks": ""
             }
            },
            "type": "scatterpolar"
           }
          ],
          "scatterpolargl": [
           {
            "marker": {
             "colorbar": {
              "outlinewidth": 0,
              "ticks": ""
             }
            },
            "type": "scatterpolargl"
           }
          ],
          "scatterternary": [
           {
            "marker": {
             "colorbar": {
              "outlinewidth": 0,
              "ticks": ""
             }
            },
            "type": "scatterternary"
           }
          ],
          "surface": [
           {
            "colorbar": {
             "outlinewidth": 0,
             "ticks": ""
            },
            "colorscale": [
             [
              0,
              "#0d0887"
             ],
             [
              0.1111111111111111,
              "#46039f"
             ],
             [
              0.2222222222222222,
              "#7201a8"
             ],
             [
              0.3333333333333333,
              "#9c179e"
             ],
             [
              0.4444444444444444,
              "#bd3786"
             ],
             [
              0.5555555555555556,
              "#d8576b"
             ],
             [
              0.6666666666666666,
              "#ed7953"
             ],
             [
              0.7777777777777778,
              "#fb9f3a"
             ],
             [
              0.8888888888888888,
              "#fdca26"
             ],
             [
              1,
              "#f0f921"
             ]
            ],
            "type": "surface"
           }
          ],
          "table": [
           {
            "cells": {
             "fill": {
              "color": "#EBF0F8"
             },
             "line": {
              "color": "white"
             }
            },
            "header": {
             "fill": {
              "color": "#C8D4E3"
             },
             "line": {
              "color": "white"
             }
            },
            "type": "table"
           }
          ]
         },
         "layout": {
          "annotationdefaults": {
           "arrowcolor": "#2a3f5f",
           "arrowhead": 0,
           "arrowwidth": 1
          },
          "autotypenumbers": "strict",
          "coloraxis": {
           "colorbar": {
            "outlinewidth": 0,
            "ticks": ""
           }
          },
          "colorscale": {
           "diverging": [
            [
             0,
             "#8e0152"
            ],
            [
             0.1,
             "#c51b7d"
            ],
            [
             0.2,
             "#de77ae"
            ],
            [
             0.3,
             "#f1b6da"
            ],
            [
             0.4,
             "#fde0ef"
            ],
            [
             0.5,
             "#f7f7f7"
            ],
            [
             0.6,
             "#e6f5d0"
            ],
            [
             0.7,
             "#b8e186"
            ],
            [
             0.8,
             "#7fbc41"
            ],
            [
             0.9,
             "#4d9221"
            ],
            [
             1,
             "#276419"
            ]
           ],
           "sequential": [
            [
             0,
             "#0d0887"
            ],
            [
             0.1111111111111111,
             "#46039f"
            ],
            [
             0.2222222222222222,
             "#7201a8"
            ],
            [
             0.3333333333333333,
             "#9c179e"
            ],
            [
             0.4444444444444444,
             "#bd3786"
            ],
            [
             0.5555555555555556,
             "#d8576b"
            ],
            [
             0.6666666666666666,
             "#ed7953"
            ],
            [
             0.7777777777777778,
             "#fb9f3a"
            ],
            [
             0.8888888888888888,
             "#fdca26"
            ],
            [
             1,
             "#f0f921"
            ]
           ],
           "sequentialminus": [
            [
             0,
             "#0d0887"
            ],
            [
             0.1111111111111111,
             "#46039f"
            ],
            [
             0.2222222222222222,
             "#7201a8"
            ],
            [
             0.3333333333333333,
             "#9c179e"
            ],
            [
             0.4444444444444444,
             "#bd3786"
            ],
            [
             0.5555555555555556,
             "#d8576b"
            ],
            [
             0.6666666666666666,
             "#ed7953"
            ],
            [
             0.7777777777777778,
             "#fb9f3a"
            ],
            [
             0.8888888888888888,
             "#fdca26"
            ],
            [
             1,
             "#f0f921"
            ]
           ]
          },
          "colorway": [
           "#636efa",
           "#EF553B",
           "#00cc96",
           "#ab63fa",
           "#FFA15A",
           "#19d3f3",
           "#FF6692",
           "#B6E880",
           "#FF97FF",
           "#FECB52"
          ],
          "font": {
           "color": "#2a3f5f"
          },
          "geo": {
           "bgcolor": "white",
           "lakecolor": "white",
           "landcolor": "#E5ECF6",
           "showlakes": true,
           "showland": true,
           "subunitcolor": "white"
          },
          "hoverlabel": {
           "align": "left"
          },
          "hovermode": "closest",
          "mapbox": {
           "style": "light"
          },
          "paper_bgcolor": "white",
          "plot_bgcolor": "#E5ECF6",
          "polar": {
           "angularaxis": {
            "gridcolor": "white",
            "linecolor": "white",
            "ticks": ""
           },
           "bgcolor": "#E5ECF6",
           "radialaxis": {
            "gridcolor": "white",
            "linecolor": "white",
            "ticks": ""
           }
          },
          "scene": {
           "xaxis": {
            "backgroundcolor": "#E5ECF6",
            "gridcolor": "white",
            "gridwidth": 2,
            "linecolor": "white",
            "showbackground": true,
            "ticks": "",
            "zerolinecolor": "white"
           },
           "yaxis": {
            "backgroundcolor": "#E5ECF6",
            "gridcolor": "white",
            "gridwidth": 2,
            "linecolor": "white",
            "showbackground": true,
            "ticks": "",
            "zerolinecolor": "white"
           },
           "zaxis": {
            "backgroundcolor": "#E5ECF6",
            "gridcolor": "white",
            "gridwidth": 2,
            "linecolor": "white",
            "showbackground": true,
            "ticks": "",
            "zerolinecolor": "white"
           }
          },
          "shapedefaults": {
           "line": {
            "color": "#2a3f5f"
           }
          },
          "ternary": {
           "aaxis": {
            "gridcolor": "white",
            "linecolor": "white",
            "ticks": ""
           },
           "baxis": {
            "gridcolor": "white",
            "linecolor": "white",
            "ticks": ""
           },
           "bgcolor": "#E5ECF6",
           "caxis": {
            "gridcolor": "white",
            "linecolor": "white",
            "ticks": ""
           }
          },
          "title": {
           "x": 0.05
          },
          "xaxis": {
           "automargin": true,
           "gridcolor": "white",
           "linecolor": "white",
           "ticks": "",
           "title": {
            "standoff": 15
           },
           "zerolinecolor": "white",
           "zerolinewidth": 2
          },
          "yaxis": {
           "automargin": true,
           "gridcolor": "white",
           "linecolor": "white",
           "ticks": "",
           "title": {
            "standoff": 15
           },
           "zerolinecolor": "white",
           "zerolinewidth": 2
          }
         }
        },
        "title": {
         "text": "spread through time"
        }
       }
      }
     },
     "metadata": {},
     "output_type": "display_data"
    }
   ],
   "source": [
    "from plotly.subplots import make_subplots\n",
    "import plotly.graph_objects as go\n",
    "\n",
    "fig = go.Figure()\n",
    "fig.add_trace(go.Scatter(x=trade_df[\"timestamp\"], y=trade_df[\"spread\"], mode=\"lines\", name=f\"spread\"))\n",
    "fig.add_trace(go.Scatter(x=trade_df[\"timestamp\"], y=trade_df[\"z_score\"], mode=\"lines\", name=f\"z-score\", opacity=0.4))\n",
    "fig.add_hline(y=2, line_dash=\"dash\", line_color=\"red\", annotation_text=\"z-score upper threshold\", annotation_position=\"top right\", opacity=0.4)\n",
    "fig.add_hline(y=-2, line_dash=\"dash\", line_color=\"red\", annotation_text=\"z-score lower threshold\", annotation_position=\"bottom right\", opacity=0.4)\n",
    "fig.update_layout(title=\"spread through time\")\n",
    "fig.show()\n",
    "# fig.write_html(\"html_plot/log_price.html\")"
   ]
  },
  {
   "cell_type": "code",
   "execution_count": 7,
   "id": "8f86e44d",
   "metadata": {},
   "outputs": [
    {
     "data": {
      "application/vnd.plotly.v1+json": {
       "config": {
        "plotlyServerURL": "https://plot.ly"
       },
       "data": [
        {
         "mode": "lines",
         "name": "Rolling ADF p-value",
         "type": "scatter",
         "x": [
          "2022-09-07",
          "2022-09-08",
          "2022-09-09",
          "2022-09-12",
          "2022-09-13",
          "2022-09-14",
          "2022-09-15",
          "2022-09-16",
          "2022-09-19",
          "2022-09-20",
          "2022-09-21",
          "2022-09-22",
          "2022-09-23",
          "2022-09-26",
          "2022-09-27",
          "2022-09-28",
          "2022-09-29",
          "2022-09-30",
          "2022-10-03",
          "2022-10-04",
          "2022-10-05",
          "2022-10-06",
          "2022-10-07",
          "2022-10-10",
          "2022-10-11",
          "2022-10-12",
          "2022-10-13",
          "2022-10-14",
          "2022-10-17",
          "2022-10-18",
          "2022-10-19",
          "2022-10-20",
          "2022-10-21",
          "2022-10-24",
          "2022-10-25",
          "2022-10-26",
          "2022-10-27",
          "2022-10-28",
          "2022-10-31",
          "2022-11-01",
          "2022-11-02",
          "2022-11-03",
          "2022-11-04",
          "2022-11-07",
          "2022-11-08",
          "2022-11-09",
          "2022-11-10",
          "2022-11-11",
          "2022-11-14",
          "2022-11-15",
          "2022-11-16",
          "2022-11-17",
          "2022-11-18",
          "2022-11-21",
          "2022-11-22",
          "2022-11-23",
          "2022-11-25",
          "2022-11-28",
          "2022-11-29",
          "2022-11-30",
          "2022-12-01",
          "2022-12-02",
          "2022-12-05",
          "2022-12-06",
          "2022-12-07",
          "2022-12-08",
          "2022-12-09",
          "2022-12-12",
          "2022-12-13",
          "2022-12-14",
          "2022-12-15",
          "2022-12-16",
          "2022-12-19",
          "2022-12-20",
          "2022-12-21",
          "2022-12-22",
          "2022-12-23",
          "2022-12-27",
          "2022-12-28",
          "2022-12-29",
          "2022-12-30",
          "2023-01-03",
          "2023-01-04",
          "2023-01-05",
          "2023-01-06",
          "2023-01-09",
          "2023-01-10",
          "2023-01-11",
          "2023-01-12",
          "2023-01-13",
          "2023-01-17",
          "2023-01-18",
          "2023-01-19",
          "2023-01-20",
          "2023-01-23",
          "2023-01-24",
          "2023-01-25",
          "2023-01-26",
          "2023-01-27",
          "2023-01-30",
          "2023-01-31",
          "2023-02-01",
          "2023-02-02",
          "2023-02-03",
          "2023-02-06",
          "2023-02-07",
          "2023-02-08",
          "2023-02-09",
          "2023-02-10",
          "2023-02-13",
          "2023-02-14",
          "2023-02-15",
          "2023-02-16",
          "2023-02-17",
          "2023-02-21",
          "2023-02-22",
          "2023-02-23",
          "2023-02-24",
          "2023-02-27",
          "2023-02-28",
          "2023-03-01",
          "2023-03-02",
          "2023-03-03",
          "2023-03-06",
          "2023-03-07",
          "2023-03-08",
          "2023-03-09",
          "2023-03-10",
          "2023-03-13",
          "2023-03-14",
          "2023-03-15",
          "2023-03-16",
          "2023-03-17",
          "2023-03-20",
          "2023-03-21",
          "2023-03-22",
          "2023-03-23",
          "2023-03-24",
          "2023-03-27",
          "2023-03-28",
          "2023-03-29",
          "2023-03-30",
          "2023-03-31",
          "2023-04-03",
          "2023-04-04",
          "2023-04-05",
          "2023-04-06",
          "2023-04-10",
          "2023-04-11",
          "2023-04-12",
          "2023-04-13",
          "2023-04-14",
          "2023-04-17",
          "2023-04-18",
          "2023-04-19",
          "2023-04-20",
          "2023-04-21",
          "2023-04-24",
          "2023-04-25",
          "2023-04-26",
          "2023-04-27",
          "2023-04-28",
          "2023-05-01",
          "2023-05-02",
          "2023-05-03",
          "2023-05-04",
          "2023-05-05",
          "2023-05-08",
          "2023-05-09",
          "2023-05-10",
          "2023-05-11",
          "2023-05-12",
          "2023-05-15",
          "2023-05-16",
          "2023-05-17",
          "2023-05-18",
          "2023-05-19",
          "2023-05-22",
          "2023-05-23",
          "2023-05-24",
          "2023-05-25",
          "2023-05-26",
          "2023-05-30",
          "2023-05-31",
          "2023-06-01",
          "2023-06-02",
          "2023-06-05",
          "2023-06-06",
          "2023-06-07",
          "2023-06-08",
          "2023-06-09",
          "2023-06-12",
          "2023-06-13",
          "2023-06-14",
          "2023-06-15",
          "2023-06-16",
          "2023-06-20",
          "2023-06-21",
          "2023-06-22",
          "2023-06-23",
          "2023-06-26",
          "2023-06-27",
          "2023-06-28",
          "2023-06-29",
          "2023-06-30",
          "2023-07-03",
          "2023-07-05",
          "2023-07-06",
          "2023-07-07",
          "2023-07-10",
          "2023-07-11",
          "2023-07-12",
          "2023-07-13",
          "2023-07-14",
          "2023-07-17",
          "2023-07-18",
          "2023-07-19",
          "2023-07-20",
          "2023-07-21",
          "2023-07-24",
          "2023-07-25",
          "2023-07-26",
          "2023-07-27",
          "2023-07-28",
          "2023-07-31",
          "2023-08-01",
          "2023-08-02",
          "2023-08-03",
          "2023-08-04",
          "2023-08-07",
          "2023-08-08",
          "2023-08-09",
          "2023-08-10",
          "2023-08-11",
          "2023-08-14",
          "2023-08-15",
          "2023-08-16",
          "2023-08-17",
          "2023-08-18",
          "2023-08-21",
          "2023-08-22",
          "2023-08-23",
          "2023-08-24",
          "2023-08-25",
          "2023-08-28",
          "2023-08-29",
          "2023-08-30",
          "2023-08-31",
          "2023-09-01",
          "2023-09-05",
          "2023-09-06",
          "2023-09-07",
          "2023-09-08",
          "2023-09-11",
          "2023-09-12",
          "2023-09-13",
          "2023-09-14",
          "2023-09-15",
          "2023-09-18",
          "2023-09-19",
          "2023-09-20",
          "2023-09-21",
          "2023-09-22",
          "2023-09-25",
          "2023-09-26",
          "2023-09-27",
          "2023-09-28",
          "2023-09-29",
          "2023-10-02",
          "2023-10-03",
          "2023-10-04",
          "2023-10-05",
          "2023-10-06",
          "2023-10-09",
          "2023-10-10",
          "2023-10-11",
          "2023-10-12",
          "2023-10-13",
          "2023-10-16",
          "2023-10-17",
          "2023-10-18",
          "2023-10-19",
          "2023-10-20",
          "2023-10-23",
          "2023-10-24",
          "2023-10-25",
          "2023-10-26",
          "2023-10-27",
          "2023-10-30",
          "2023-10-31",
          "2023-11-01",
          "2023-11-02",
          "2023-11-03",
          "2023-11-06",
          "2023-11-07",
          "2023-11-08",
          "2023-11-09",
          "2023-11-10",
          "2023-11-13",
          "2023-11-14",
          "2023-11-15",
          "2023-11-16",
          "2023-11-17",
          "2023-11-20",
          "2023-11-21",
          "2023-11-22",
          "2023-11-24",
          "2023-11-27",
          "2023-11-28",
          "2023-11-29",
          "2023-11-30",
          "2023-12-01",
          "2023-12-04",
          "2023-12-05",
          "2023-12-06",
          "2023-12-07",
          "2023-12-08",
          "2023-12-11",
          "2023-12-12",
          "2023-12-13",
          "2023-12-14",
          "2023-12-15",
          "2023-12-18",
          "2023-12-19",
          "2023-12-20",
          "2023-12-21",
          "2023-12-22",
          "2023-12-26",
          "2023-12-27",
          "2023-12-28",
          "2023-12-29",
          "2024-01-02",
          "2024-01-03",
          "2024-01-04",
          "2024-01-05",
          "2024-01-08",
          "2024-01-09",
          "2024-01-10",
          "2024-01-11",
          "2024-01-12",
          "2024-01-16",
          "2024-01-17",
          "2024-01-18",
          "2024-01-19",
          "2024-01-22",
          "2024-01-23",
          "2024-01-24",
          "2024-01-25",
          "2024-01-26",
          "2024-01-29",
          "2024-01-30",
          "2024-01-31",
          "2024-02-01",
          "2024-02-02",
          "2024-02-05",
          "2024-02-06",
          "2024-02-07",
          "2024-02-08",
          "2024-02-09",
          "2024-02-12",
          "2024-02-13",
          "2024-02-14",
          "2024-02-15",
          "2024-02-16",
          "2024-02-20",
          "2024-02-21",
          "2024-02-22",
          "2024-02-23",
          "2024-02-26",
          "2024-02-27",
          "2024-02-28",
          "2024-02-29",
          "2024-03-01",
          "2024-03-04",
          "2024-03-05",
          "2024-03-06",
          "2024-03-07",
          "2024-03-08",
          "2024-03-11",
          "2024-03-12",
          "2024-03-13",
          "2024-03-14",
          "2024-03-15",
          "2024-03-18",
          "2024-03-19",
          "2024-03-20",
          "2024-03-21",
          "2024-03-22",
          "2024-03-25",
          "2024-03-26",
          "2024-03-27",
          "2024-03-28",
          "2024-04-01",
          "2024-04-02",
          "2024-04-03",
          "2024-04-04",
          "2024-04-05",
          "2024-04-08",
          "2024-04-09",
          "2024-04-10",
          "2024-04-11",
          "2024-04-12",
          "2024-04-15",
          "2024-04-16",
          "2024-04-17",
          "2024-04-18",
          "2024-04-19",
          "2024-04-22",
          "2024-04-23",
          "2024-04-24",
          "2024-04-25",
          "2024-04-26",
          "2024-04-29",
          "2024-04-30",
          "2024-05-01",
          "2024-05-02",
          "2024-05-03",
          "2024-05-06",
          "2024-05-07",
          "2024-05-08",
          "2024-05-09",
          "2024-05-10",
          "2024-05-13",
          "2024-05-14",
          "2024-05-15",
          "2024-05-16",
          "2024-05-17",
          "2024-05-20",
          "2024-05-21",
          "2024-05-22",
          "2024-05-23",
          "2024-05-24",
          "2024-05-28",
          "2024-05-29",
          "2024-05-30",
          "2024-05-31",
          "2024-06-03",
          "2024-06-04",
          "2024-06-05",
          "2024-06-06",
          "2024-06-07",
          "2024-06-10",
          "2024-06-11",
          "2024-06-12",
          "2024-06-13",
          "2024-06-14",
          "2024-06-17",
          "2024-06-18",
          "2024-06-20",
          "2024-06-21",
          "2024-06-24",
          "2024-06-25",
          "2024-06-26",
          "2024-06-27",
          "2024-06-28",
          "2024-07-01",
          "2024-07-02",
          "2024-07-03",
          "2024-07-05",
          "2024-07-08",
          "2024-07-09",
          "2024-07-10",
          "2024-07-11",
          "2024-07-12",
          "2024-07-15",
          "2024-07-16",
          "2024-07-17",
          "2024-07-18",
          "2024-07-19",
          "2024-07-22",
          "2024-07-23",
          "2024-07-24",
          "2024-07-25",
          "2024-07-26",
          "2024-07-29",
          "2024-07-30",
          "2024-07-31",
          "2024-08-01",
          "2024-08-02",
          "2024-08-05",
          "2024-08-06",
          "2024-08-07",
          "2024-08-08",
          "2024-08-09",
          "2024-08-12",
          "2024-08-13",
          "2024-08-14",
          "2024-08-15",
          "2024-08-16",
          "2024-08-19",
          "2024-08-20",
          "2024-08-21",
          "2024-08-22",
          "2024-08-23",
          "2024-08-26",
          "2024-08-27",
          "2024-08-28",
          "2024-08-29",
          "2024-08-30",
          "2024-09-03",
          "2024-09-04",
          "2024-09-05",
          "2024-09-06",
          "2024-09-09",
          "2024-09-10",
          "2024-09-11",
          "2024-09-12",
          "2024-09-13",
          "2024-09-16",
          "2024-09-17",
          "2024-09-18",
          "2024-09-19",
          "2024-09-20",
          "2024-09-23",
          "2024-09-24",
          "2024-09-25",
          "2024-09-26",
          "2024-09-27",
          "2024-09-30",
          "2024-10-01",
          "2024-10-02",
          "2024-10-03",
          "2024-10-04",
          "2024-10-07",
          "2024-10-08",
          "2024-10-09",
          "2024-10-10",
          "2024-10-11",
          "2024-10-14",
          "2024-10-15",
          "2024-10-16",
          "2024-10-17",
          "2024-10-18",
          "2024-10-21",
          "2024-10-22",
          "2024-10-23",
          "2024-10-24",
          "2024-10-25",
          "2024-10-28",
          "2024-10-29",
          "2024-10-30",
          "2024-10-31",
          "2024-11-01",
          "2024-11-04",
          "2024-11-05",
          "2024-11-06",
          "2024-11-07",
          "2024-11-08",
          "2024-11-11",
          "2024-11-12",
          "2024-11-13",
          "2024-11-14",
          "2024-11-15",
          "2024-11-18",
          "2024-11-19",
          "2024-11-20",
          "2024-11-21",
          "2024-11-22",
          "2024-11-25",
          "2024-11-26",
          "2024-11-27",
          "2024-11-29",
          "2024-12-02",
          "2024-12-03",
          "2024-12-04",
          "2024-12-05",
          "2024-12-06",
          "2024-12-09",
          "2024-12-10",
          "2024-12-11",
          "2024-12-12",
          "2024-12-13",
          "2024-12-16",
          "2024-12-17",
          "2024-12-18",
          "2024-12-19",
          "2024-12-20",
          "2024-12-23",
          "2024-12-24",
          "2024-12-26",
          "2024-12-27",
          "2024-12-30",
          "2024-12-31",
          "2025-01-02",
          "2025-01-03",
          "2025-01-06",
          "2025-01-07",
          "2025-01-08",
          "2025-01-10",
          "2025-01-13",
          "2025-01-14",
          "2025-01-15",
          "2025-01-16",
          "2025-01-17",
          "2025-01-21",
          "2025-01-22",
          "2025-01-23",
          "2025-01-24",
          "2025-01-27",
          "2025-01-28",
          "2025-01-29",
          "2025-01-30",
          "2025-01-31",
          "2025-02-03",
          "2025-02-04",
          "2025-02-05",
          "2025-02-06",
          "2025-02-07",
          "2025-02-10",
          "2025-02-11",
          "2025-02-12",
          "2025-02-13",
          "2025-02-14",
          "2025-02-18",
          "2025-02-19",
          "2025-02-20",
          "2025-02-21",
          "2025-02-24",
          "2025-02-25",
          "2025-02-26",
          "2025-02-27",
          "2025-02-28",
          "2025-03-03",
          "2025-03-04",
          "2025-03-05",
          "2025-03-06",
          "2025-03-07",
          "2025-03-10",
          "2025-03-11",
          "2025-03-12",
          "2025-03-13",
          "2025-03-14",
          "2025-03-17",
          "2025-03-18",
          "2025-03-19",
          "2025-03-20",
          "2025-03-21",
          "2025-03-24",
          "2025-03-25",
          "2025-03-26",
          "2025-03-27",
          "2025-03-28",
          "2025-03-31",
          "2025-04-01",
          "2025-04-02",
          "2025-04-03",
          "2025-04-04",
          "2025-04-07",
          "2025-04-08",
          "2025-04-09",
          "2025-04-10",
          "2025-04-11",
          "2025-04-14",
          "2025-04-15",
          "2025-04-16"
         ],
         "y": {
          "bdata": "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",
          "dtype": "f8"
         }
        }
       ],
       "layout": {
        "annotations": [
         {
          "showarrow": false,
          "text": "Significance threshold (0.05)",
          "x": 1,
          "xanchor": "right",
          "xref": "x domain",
          "y": 0.05,
          "yanchor": "top",
          "yref": "y"
         }
        ],
        "shapes": [
         {
          "line": {
           "color": "red",
           "dash": "dash"
          },
          "type": "line",
          "x0": 0,
          "x1": 1,
          "xref": "x domain",
          "y0": 0.05,
          "y1": 0.05,
          "yref": "y"
         }
        ],
        "template": {
         "data": {
          "bar": [
           {
            "error_x": {
             "color": "#2a3f5f"
            },
            "error_y": {
             "color": "#2a3f5f"
            },
            "marker": {
             "line": {
              "color": "#E5ECF6",
              "width": 0.5
             },
             "pattern": {
              "fillmode": "overlay",
              "size": 10,
              "solidity": 0.2
             }
            },
            "type": "bar"
           }
          ],
          "barpolar": [
           {
            "marker": {
             "line": {
              "color": "#E5ECF6",
              "width": 0.5
             },
             "pattern": {
              "fillmode": "overlay",
              "size": 10,
              "solidity": 0.2
             }
            },
            "type": "barpolar"
           }
          ],
          "carpet": [
           {
            "aaxis": {
             "endlinecolor": "#2a3f5f",
             "gridcolor": "white",
             "linecolor": "white",
             "minorgridcolor": "white",
             "startlinecolor": "#2a3f5f"
            },
            "baxis": {
             "endlinecolor": "#2a3f5f",
             "gridcolor": "white",
             "linecolor": "white",
             "minorgridcolor": "white",
             "startlinecolor": "#2a3f5f"
            },
            "type": "carpet"
           }
          ],
          "choropleth": [
           {
            "colorbar": {
             "outlinewidth": 0,
             "ticks": ""
            },
            "type": "choropleth"
           }
          ],
          "contour": [
           {
            "colorbar": {
             "outlinewidth": 0,
             "ticks": ""
            },
            "colorscale": [
             [
              0,
              "#0d0887"
             ],
             [
              0.1111111111111111,
              "#46039f"
             ],
             [
              0.2222222222222222,
              "#7201a8"
             ],
             [
              0.3333333333333333,
              "#9c179e"
             ],
             [
              0.4444444444444444,
              "#bd3786"
             ],
             [
              0.5555555555555556,
              "#d8576b"
             ],
             [
              0.6666666666666666,
              "#ed7953"
             ],
             [
              0.7777777777777778,
              "#fb9f3a"
             ],
             [
              0.8888888888888888,
              "#fdca26"
             ],
             [
              1,
              "#f0f921"
             ]
            ],
            "type": "contour"
           }
          ],
          "contourcarpet": [
           {
            "colorbar": {
             "outlinewidth": 0,
             "ticks": ""
            },
            "type": "contourcarpet"
           }
          ],
          "heatmap": [
           {
            "colorbar": {
             "outlinewidth": 0,
             "ticks": ""
            },
            "colorscale": [
             [
              0,
              "#0d0887"
             ],
             [
              0.1111111111111111,
              "#46039f"
             ],
             [
              0.2222222222222222,
              "#7201a8"
             ],
             [
              0.3333333333333333,
              "#9c179e"
             ],
             [
              0.4444444444444444,
              "#bd3786"
             ],
             [
              0.5555555555555556,
              "#d8576b"
             ],
             [
              0.6666666666666666,
              "#ed7953"
             ],
             [
              0.7777777777777778,
              "#fb9f3a"
             ],
             [
              0.8888888888888888,
              "#fdca26"
             ],
             [
              1,
              "#f0f921"
             ]
            ],
            "type": "heatmap"
           }
          ],
          "histogram": [
           {
            "marker": {
             "pattern": {
              "fillmode": "overlay",
              "size": 10,
              "solidity": 0.2
             }
            },
            "type": "histogram"
           }
          ],
          "histogram2d": [
           {
            "colorbar": {
             "outlinewidth": 0,
             "ticks": ""
            },
            "colorscale": [
             [
              0,
              "#0d0887"
             ],
             [
              0.1111111111111111,
              "#46039f"
             ],
             [
              0.2222222222222222,
              "#7201a8"
             ],
             [
              0.3333333333333333,
              "#9c179e"
             ],
             [
              0.4444444444444444,
              "#bd3786"
             ],
             [
              0.5555555555555556,
              "#d8576b"
             ],
             [
              0.6666666666666666,
              "#ed7953"
             ],
             [
              0.7777777777777778,
              "#fb9f3a"
             ],
             [
              0.8888888888888888,
              "#fdca26"
             ],
             [
              1,
              "#f0f921"
             ]
            ],
            "type": "histogram2d"
           }
          ],
          "histogram2dcontour": [
           {
            "colorbar": {
             "outlinewidth": 0,
             "ticks": ""
            },
            "colorscale": [
             [
              0,
              "#0d0887"
             ],
             [
              0.1111111111111111,
              "#46039f"
             ],
             [
              0.2222222222222222,
              "#7201a8"
             ],
             [
              0.3333333333333333,
              "#9c179e"
             ],
             [
              0.4444444444444444,
              "#bd3786"
             ],
             [
              0.5555555555555556,
              "#d8576b"
             ],
             [
              0.6666666666666666,
              "#ed7953"
             ],
             [
              0.7777777777777778,
              "#fb9f3a"
             ],
             [
              0.8888888888888888,
              "#fdca26"
             ],
             [
              1,
              "#f0f921"
             ]
            ],
            "type": "histogram2dcontour"
           }
          ],
          "mesh3d": [
           {
            "colorbar": {
             "outlinewidth": 0,
             "ticks": ""
            },
            "type": "mesh3d"
           }
          ],
          "parcoords": [
           {
            "line": {
             "colorbar": {
              "outlinewidth": 0,
              "ticks": ""
             }
            },
            "type": "parcoords"
           }
          ],
          "pie": [
           {
            "automargin": true,
            "type": "pie"
           }
          ],
          "scatter": [
           {
            "fillpattern": {
             "fillmode": "overlay",
             "size": 10,
             "solidity": 0.2
            },
            "type": "scatter"
           }
          ],
          "scatter3d": [
           {
            "line": {
             "colorbar": {
              "outlinewidth": 0,
              "ticks": ""
             }
            },
            "marker": {
             "colorbar": {
              "outlinewidth": 0,
              "ticks": ""
             }
            },
            "type": "scatter3d"
           }
          ],
          "scattercarpet": [
           {
            "marker": {
             "colorbar": {
              "outlinewidth": 0,
              "ticks": ""
             }
            },
            "type": "scattercarpet"
           }
          ],
          "scattergeo": [
           {
            "marker": {
             "colorbar": {
              "outlinewidth": 0,
              "ticks": ""
             }
            },
            "type": "scattergeo"
           }
          ],
          "scattergl": [
           {
            "marker": {
             "colorbar": {
              "outlinewidth": 0,
              "ticks": ""
             }
            },
            "type": "scattergl"
           }
          ],
          "scattermap": [
           {
            "marker": {
             "colorbar": {
              "outlinewidth": 0,
              "ticks": ""
             }
            },
            "type": "scattermap"
           }
          ],
          "scattermapbox": [
           {
            "marker": {
             "colorbar": {
              "outlinewidth": 0,
              "ticks": ""
             }
            },
            "type": "scattermapbox"
           }
          ],
          "scatterpolar": [
           {
            "marker": {
             "colorbar": {
              "outlinewidth": 0,
              "ticks": ""
             }
            },
            "type": "scatterpolar"
           }
          ],
          "scatterpolargl": [
           {
            "marker": {
             "colorbar": {
              "outlinewidth": 0,
              "ticks": ""
             }
            },
            "type": "scatterpolargl"
           }
          ],
          "scatterternary": [
           {
            "marker": {
             "colorbar": {
              "outlinewidth": 0,
              "ticks": ""
             }
            },
            "type": "scatterternary"
           }
          ],
          "surface": [
           {
            "colorbar": {
             "outlinewidth": 0,
             "ticks": ""
            },
            "colorscale": [
             [
              0,
              "#0d0887"
             ],
             [
              0.1111111111111111,
              "#46039f"
             ],
             [
              0.2222222222222222,
              "#7201a8"
             ],
             [
              0.3333333333333333,
              "#9c179e"
             ],
             [
              0.4444444444444444,
              "#bd3786"
             ],
             [
              0.5555555555555556,
              "#d8576b"
             ],
             [
              0.6666666666666666,
              "#ed7953"
             ],
             [
              0.7777777777777778,
              "#fb9f3a"
             ],
             [
              0.8888888888888888,
              "#fdca26"
             ],
             [
              1,
              "#f0f921"
             ]
            ],
            "type": "surface"
           }
          ],
          "table": [
           {
            "cells": {
             "fill": {
              "color": "#EBF0F8"
             },
             "line": {
              "color": "white"
             }
            },
            "header": {
             "fill": {
              "color": "#C8D4E3"
             },
             "line": {
              "color": "white"
             }
            },
            "type": "table"
           }
          ]
         },
         "layout": {
          "annotationdefaults": {
           "arrowcolor": "#2a3f5f",
           "arrowhead": 0,
           "arrowwidth": 1
          },
          "autotypenumbers": "strict",
          "coloraxis": {
           "colorbar": {
            "outlinewidth": 0,
            "ticks": ""
           }
          },
          "colorscale": {
           "diverging": [
            [
             0,
             "#8e0152"
            ],
            [
             0.1,
             "#c51b7d"
            ],
            [
             0.2,
             "#de77ae"
            ],
            [
             0.3,
             "#f1b6da"
            ],
            [
             0.4,
             "#fde0ef"
            ],
            [
             0.5,
             "#f7f7f7"
            ],
            [
             0.6,
             "#e6f5d0"
            ],
            [
             0.7,
             "#b8e186"
            ],
            [
             0.8,
             "#7fbc41"
            ],
            [
             0.9,
             "#4d9221"
            ],
            [
             1,
             "#276419"
            ]
           ],
           "sequential": [
            [
             0,
             "#0d0887"
            ],
            [
             0.1111111111111111,
             "#46039f"
            ],
            [
             0.2222222222222222,
             "#7201a8"
            ],
            [
             0.3333333333333333,
             "#9c179e"
            ],
            [
             0.4444444444444444,
             "#bd3786"
            ],
            [
             0.5555555555555556,
             "#d8576b"
            ],
            [
             0.6666666666666666,
             "#ed7953"
            ],
            [
             0.7777777777777778,
             "#fb9f3a"
            ],
            [
             0.8888888888888888,
             "#fdca26"
            ],
            [
             1,
             "#f0f921"
            ]
           ],
           "sequentialminus": [
            [
             0,
             "#0d0887"
            ],
            [
             0.1111111111111111,
             "#46039f"
            ],
            [
             0.2222222222222222,
             "#7201a8"
            ],
            [
             0.3333333333333333,
             "#9c179e"
            ],
            [
             0.4444444444444444,
             "#bd3786"
            ],
            [
             0.5555555555555556,
             "#d8576b"
            ],
            [
             0.6666666666666666,
             "#ed7953"
            ],
            [
             0.7777777777777778,
             "#fb9f3a"
            ],
            [
             0.8888888888888888,
             "#fdca26"
            ],
            [
             1,
             "#f0f921"
            ]
           ]
          },
          "colorway": [
           "#636efa",
           "#EF553B",
           "#00cc96",
           "#ab63fa",
           "#FFA15A",
           "#19d3f3",
           "#FF6692",
           "#B6E880",
           "#FF97FF",
           "#FECB52"
          ],
          "font": {
           "color": "#2a3f5f"
          },
          "geo": {
           "bgcolor": "white",
           "lakecolor": "white",
           "landcolor": "#E5ECF6",
           "showlakes": true,
           "showland": true,
           "subunitcolor": "white"
          },
          "hoverlabel": {
           "align": "left"
          },
          "hovermode": "closest",
          "mapbox": {
           "style": "light"
          },
          "paper_bgcolor": "white",
          "plot_bgcolor": "#E5ECF6",
          "polar": {
           "angularaxis": {
            "gridcolor": "white",
            "linecolor": "white",
            "ticks": ""
           },
           "bgcolor": "#E5ECF6",
           "radialaxis": {
            "gridcolor": "white",
            "linecolor": "white",
            "ticks": ""
           }
          },
          "scene": {
           "xaxis": {
            "backgroundcolor": "#E5ECF6",
            "gridcolor": "white",
            "gridwidth": 2,
            "linecolor": "white",
            "showbackground": true,
            "ticks": "",
            "zerolinecolor": "white"
           },
           "yaxis": {
            "backgroundcolor": "#E5ECF6",
            "gridcolor": "white",
            "gridwidth": 2,
            "linecolor": "white",
            "showbackground": true,
            "ticks": "",
            "zerolinecolor": "white"
           },
           "zaxis": {
            "backgroundcolor": "#E5ECF6",
            "gridcolor": "white",
            "gridwidth": 2,
            "linecolor": "white",
            "showbackground": true,
            "ticks": "",
            "zerolinecolor": "white"
           }
          },
          "shapedefaults": {
           "line": {
            "color": "#2a3f5f"
           }
          },
          "ternary": {
           "aaxis": {
            "gridcolor": "white",
            "linecolor": "white",
            "ticks": ""
           },
           "baxis": {
            "gridcolor": "white",
            "linecolor": "white",
            "ticks": ""
           },
           "bgcolor": "#E5ECF6",
           "caxis": {
            "gridcolor": "white",
            "linecolor": "white",
            "ticks": ""
           }
          },
          "title": {
           "x": 0.05
          },
          "xaxis": {
           "automargin": true,
           "gridcolor": "white",
           "linecolor": "white",
           "ticks": "",
           "title": {
            "standoff": 15
           },
           "zerolinecolor": "white",
           "zerolinewidth": 2
          },
          "yaxis": {
           "automargin": true,
           "gridcolor": "white",
           "linecolor": "white",
           "ticks": "",
           "title": {
            "standoff": 15
           },
           "zerolinecolor": "white",
           "zerolinewidth": 2
          }
         }
        },
        "title": {
         "text": "Rolling ADF Test on Spread (window=60)"
        },
        "xaxis": {
         "title": {
          "text": "timestamp"
         }
        },
        "yaxis": {
         "title": {
          "text": "p-value"
         }
        }
       }
      }
     },
     "metadata": {},
     "output_type": "display_data"
    }
   ],
   "source": [
    "fig = go.Figure()\n",
    "rolling_window = 60\n",
    "fig.add_trace(go.Scatter(x=rolling_adf_df[\"timestamp\"], y=rolling_adf_df[\"p_value\"], mode=\"lines\", name=\"Rolling ADF p-value\"))\n",
    "fig.add_hline(y=0.05, line_dash=\"dash\", line_color=\"red\", annotation_text=\"Significance threshold (0.05)\", annotation_position=\"bottom right\")\n",
    "fig.update_layout(title=f\"Rolling ADF Test on Spread (window={rolling_window})\", xaxis_title=\"timestamp\", yaxis_title=\"p-value\")\n",
    "fig.show()\n",
    "fig.write_html('html_plot/adf_test.html')"
   ]
  },
  {
   "cell_type": "code",
   "execution_count": 31,
   "id": "f052d6e4",
   "metadata": {},
   "outputs": [],
   "source": [
    "df = trade_df.copy()\n",
    "df[\"position\"] = 0\n",
    "df[\"trade_entry\"] = False\n",
    "df[\"trade_exit\"] = False\n",
    "df[\"pnl\"] = 0.0\n",
    "\n",
    "in_position = False\n",
    "position_type = 0\n",
    "entry_index = None\n",
    "entry_spread = None\n",
    "entry_tsla_price = None\n",
    "entry_rivn_price = None\n",
    "\n",
    "blotter = []\n",
    "ledger = []\n",
    "notional = 10000\n",
    "account_value = 100000\n",
    "cumulative_pnl = 0.0\n",
    "for i in range(len(df)):\n",
    "    z = df[\"z_score\"].iloc[i]\n",
    "    spread = df[\"spread\"].iloc[i]\n",
    "    tsla_price = df[\"close_TSLA\"].iloc[i]\n",
    "    rivn_price = df[\"close_RIVN\"].iloc[i]\n",
    "    timestamp = df[\"timestamp\"].iloc[i]\n",
    "    beta = df[\"hedge_ratio\"].iloc[i]\n",
    "    adf_p_value = df[\"p_value\"].iloc[i]\n",
    "\n",
    "    if not in_position:\n",
    "\n",
    "        if adf_p_value < 0.05 and z > 2:\n",
    "            # short spread: short TSLA, long RIVN\n",
    "            tsla_qty = -round(notional / tsla_price)\n",
    "            rivn_qty = round((beta * notional) / rivn_price)\n",
    "            df.at[df.index[i], \"position\"] = -1\n",
    "            df.at[df.index[i], \"trade_entry\"] = True\n",
    "            in_position = True\n",
    "            position_type = -1\n",
    "            entry_index = i\n",
    "            entry_spread = spread\n",
    "            entry_tsla_price = tsla_price\n",
    "            entry_rivn_price = rivn_price\n",
    "            blotter.append(\n",
    "                {\n",
    "                    \"entry_time\": timestamp,\n",
    "                    \"entry_tsla\": tsla_price,\n",
    "                    \"entry_rivn\": rivn_price,\n",
    "                    \"direction\": \"short TSLA, long RIVN\",\n",
    "                    \"entry_spread\": spread,\n",
    "                    \"hedge_ratio\": beta,\n",
    "                    \"TSLA_qty\": tsla_qty,\n",
    "                    \"RIVN_qty\": rivn_qty,\n",
    "                }\n",
    "            )\n",
    "        elif adf_p_value < 0.05 and z < -2:\n",
    "            # long spread: long TSLA, short RIVN\n",
    "            tsla_qty = round(notional / tsla_price)\n",
    "            rivn_qty = -round((beta * notional) / rivn_price)\n",
    "            df.at[df.index[i], \"position\"] = 1\n",
    "            df.at[df.index[i], \"trade_entry\"] = True\n",
    "            in_position = True\n",
    "            position_type = 1\n",
    "            entry_index = i\n",
    "            entry_spread = spread\n",
    "            entry_tsla_price = tsla_price\n",
    "            entry_rivn_price = rivn_price\n",
    "            entry_beta = beta\n",
    "            blotter.append(\n",
    "                {\n",
    "                    \"entry_time\": timestamp,\n",
    "                    \"entry_tsla\": tsla_price,\n",
    "                    \"entry_rivn\": rivn_price,\n",
    "                    \"direction\": \"long TSLA, short RIVN\",\n",
    "                    \"entry_spread\": spread,\n",
    "                    \"hedge_ratio\": beta,\n",
    "                    \"TSLA_qty\": tsla_qty,\n",
    "                    \"RIVN_qty\": rivn_qty,\n",
    "                }\n",
    "            )\n",
    "    else:\n",
    "        stop_loss_triggered = (z > 3 and position_type == -1) or (z < -3 and position_type == 1)\n",
    "        mean_reversion_triggered = abs(z) < 0.5\n",
    "        timeout_triggered = i - entry_index >= 10\n",
    "\n",
    "        if stop_loss_triggered or mean_reversion_triggered or timeout_triggered:\n",
    "            reason = \"stop_loss\" if stop_loss_triggered else \"mean_reversion\" if mean_reversion_triggered else \"timeout\"\n",
    "            df.at[df.index[i], \"position\"] = 0\n",
    "            df.at[df.index[i], \"trade_exit\"] = True\n",
    "\n",
    "            # Get previous quantities\n",
    "            tsla_qty = blotter[-1][\"TSLA_qty\"]\n",
    "            rivn_qty = blotter[-1][\"RIVN_qty\"]\n",
    "\n",
    "            pnl_tsla = (tsla_price - entry_tsla_price) * tsla_qty\n",
    "            pnl_rivn = (rivn_price - entry_rivn_price) * rivn_qty\n",
    "            pnl = pnl_tsla + pnl_rivn\n",
    "            df.at[df.index[i], \"pnl\"] = pnl\n",
    "            cumulative_pnl += pnl\n",
    "            account_value += pnl\n",
    "\n",
    "            blotter[-1].update({\"exit_time\": timestamp, \"exit_tsla\": tsla_price, \"exit_rivn\": rivn_price, \"exit_spread\": spread, \"pnl\": pnl, \"reason\": reason})\n",
    "\n",
    "            in_position = False\n",
    "            position_type = 0\n",
    "            entry_index = None\n",
    "            entry_spread = None\n",
    "            entry_tsla_price = None\n",
    "            entry_rivn_price = None\n",
    "        else:\n",
    "            df.at[df.index[i], \"position\"] = position_type\n",
    "\n",
    "    ledger.append({\"timestamp\": timestamp, \"account_value\": account_value, \"position\": position_type, \"daily_pnl\": df.at[df.index[i], \"pnl\"], \"cumulative_pnl\": cumulative_pnl})\n",
    "\n",
    "blotter_df = pd.DataFrame(blotter)\n",
    "ledger_df = pd.DataFrame(ledger)"
   ]
  },
  {
   "cell_type": "code",
   "execution_count": 45,
   "id": "a3814803",
   "metadata": {},
   "outputs": [],
   "source": [
    "blotter_df\n",
    "write_table(blotter_df, 'blotter')"
   ]
  },
  {
   "cell_type": "code",
   "execution_count": 46,
   "id": "3b26be01",
   "metadata": {},
   "outputs": [],
   "source": [
    "ledger_df\n",
    "write_table(ledger_df, 'ledger')"
   ]
  },
  {
   "cell_type": "code",
   "execution_count": null,
   "id": "cec08f33",
   "metadata": {},
   "outputs": [
    {
     "data": {
      "application/vnd.plotly.v1+json": {
       "config": {
        "plotlyServerURL": "https://plot.ly"
       },
       "data": [
        {
         "mode": "lines",
         "name": "Spread",
         "type": "scatter",
         "x": {
          "bdata": "PAA9AD4APwBAAEEAQgBDAEQARQBGAEcASABJAEoASwBMAE0ATgBPAFAAUQBSAFMAVABVAFYAVwBYAFkAWgBbAFwAXQBeAF8AYABhAGIAYwBkAGUAZgBnAGgAaQBqAGsAbABtAG4AbwBwAHEAcgBzAHQAdQB2AHcAeAB5AHoAewB8AH0AfgB/AIAAgQCCAIMAhACFAIYAhwCIAIkAigCLAIwAjQCOAI8AkACRAJIAkwCUAJUAlgCXAJgAmQCaAJsAnACdAJ4AnwCgAKEAogCjAKQApQCmAKcAqACpAKoAqwCsAK0ArgCvALAAsQCyALMAtAC1ALYAtwC4ALkAugC7ALwAvQC+AL8AwADBAMIAwwDEAMUAxgDHAMgAyQDKAMsAzADNAM4AzwDQANEA0gDTANQA1QDWANcA2ADZANoA2wDcAN0A3gDfAOAA4QDiAOMA5ADlAOYA5wDoAOkA6gDrAOwA7QDuAO8A8ADxAPIA8wD0APUA9gD3APgA+QD6APsA/AD9AP4A/wAAAQEBAgEDAQQBBQEGAQcBCAEJAQoBCwEMAQ0BDgEPARABEQESARMBFAEVARYBFwEYARkBGgEbARwBHQEeAR8BIAEhASIBIwEkASUBJgEnASgBKQEqASsBLAEtAS4BLwEwATEBMgEzATQBNQE2ATcBOAE5AToBOwE8AT0BPgE/AUABQQFCAUMBRAFFAUYBRwFIAUkBSgFLAUwBTQFOAU8BUAFRAVIBUwFUAVUBVgFXAVgBWQFaAVsBXAFdAV4BXwFgAWEBYgFjAWQBZQFmAWcBaAFpAWoBawFsAW0BbgFvAXABcQFyAXMBdAF1AXYBdwF4AXkBegF7AXwBfQF+AX8BgAGBAYIBgwGEAYUBhgGHAYgBiQGKAYsBjAGNAY4BjwGQAZEBkgGTAZQBlQGWAZcBmAGZAZoBmwGcAZ0BngGfAaABoQGiAaMBpAGlAaYBpwGoAakBqgGrAawBrQGuAa8BsAGxAbIBswG0AbUBtgG3AbgBuQG6AbsBvAG9Ab4BvwHAAcEBwgHDAcQBxQHGAccByAHJAcoBywHMAc0BzgHPAdAB0QHSAdMB1AHVAdYB1wHYAdkB2gHbAdwB3QHeAd8B4AHhAeIB4wHkAeUB5gHnAegB6QHqAesB7AHtAe4B7wHwAfEB8gHzAfQB9QH2AfcB+AH5AfoB+wH8Af0B/gH/AQACAQICAgMCBAIFAgYCBwIIAgkCCgILAgwCDQIOAg8CEAIRAhICEwIUAhUCFgIXAhgCGQIaAhsCHAIdAh4CHwIgAiECIgIjAiQCJQImAicCKAIpAioCKwIsAi0CLgIvAjACMQIyAjMCNAI1AjYCNwI4AjkCOgI7AjwCPQI+Aj8CQAJBAkICQwJEAkUCRgJHAkgCSQJKAksCTAJNAk4CTwJQAlECUgJTAlQCVQJWAlcCWAJZAloCWwJcAl0CXgJfAmACYQJiAmMCZAJlAmYCZwJoAmkCagJrAmwCbQJuAm8CcAJxAnICcwJ0AnUCdgJ3AngCeQJ6AnsCfAJ9An4CfwKAAoECggKDAoQChQKGAocCiAKJAooCiwKMAo0CjgKPApACkQKSApMClAKVApYClwKYApkCmgKbApwCnQKeAp8CoAKhAqICowKkAqUCpgKnAqgCqQKqAqsCrAKtAq4CrwKwArECsgKzArQCtQK2ArcCuAK5AroCuwK8Ar0CvgK/AsACwQLCAsMCxALFAsYCxwLIAskC",
          "dtype": "i2"
         },
         "y": {
          "bdata": "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",
          "dtype": "f8"
         }
        },
        {
         "line": {
          "color": "black",
          "dash": "dash"
         },
         "mode": "lines",
         "name": "Zero Line",
         "type": "scatter",
         "x": [
          60,
          713
         ],
         "y": [
          0,
          0
         ]
        },
        {
         "line": {
          "color": "red",
          "dash": "dash"
         },
         "mode": "lines",
         "name": "+2σ",
         "type": "scatter",
         "x": [
          60,
          713
         ],
         "y": [
          9.256198457507837,
          9.256198457507837
         ]
        },
        {
         "line": {
          "color": "red",
          "dash": "dash"
         },
         "mode": "lines",
         "name": "-2σ",
         "type": "scatter",
         "x": [
          60,
          713
         ],
         "y": [
          -10.92974796976734,
          -10.92974796976734
         ]
        },
        {
         "line": {
          "color": "green",
          "dash": "dash"
         },
         "mode": "lines",
         "name": "+0.5σ",
         "type": "scatter",
         "x": [
          60,
          713
         ],
         "y": [
          1.6864685472796457,
          1.6864685472796457
         ]
        },
        {
         "line": {
          "color": "green",
          "dash": "dash"
         },
         "mode": "lines",
         "name": "-0.5σ",
         "type": "scatter",
         "x": [
          60,
          713
         ],
         "y": [
          -3.3600180595391484,
          -3.3600180595391484
         ]
        },
        {
         "marker": {
          "color": "blue",
          "size": 10
         },
         "mode": "markers",
         "name": "Entry",
         "type": "scatter",
         "x": {
          "bdata": "TwBhAGMAegCXAJoAswDJAOoACQELAQ0BGwFFAVABaQF4AX0BjwGrAa0BxgHOAekB6wH2AQACEwIsAj0CTQJuAnEChQKXAg==",
          "dtype": "i2"
         },
         "y": {
          "bdata": "GL5JdItK27+qaQI2wav7v9S9SV7QEg/AHuGuyn1HBMDw7UdiyULqv29c+Ml+IgZAuQjcw9a8BkCA+28H156/v+GFfqYdYg/AQEbHSJoo879GLobcnRIdwHA2J9MGOzDAemLIduQJFkCgZlQHGZ/RPzAjprEfphJAREdvF1cf5T+c6wByO5sLwDSTKPJLNy/AjlK7ZoFcIMCmtfXIabQRQGMx9LiXHylAgL8AQCH8BcDWdelXUHsawBsdzcyiRQRA6MFObZEvF0AaT4VD11UcQB1pAcnpxgDA2AFu1xPZ3r/GkfXT21UQQKBbSfPi+xdAejaalK9e7D/OgZiNqkPxPyK6TeB8qADAypzrkjJR+j9l5xGD+nEAwA==",
          "dtype": "f8"
         }
        },
        {
         "marker": {
          "color": "purple",
          "size": 10
         },
         "mode": "markers",
         "name": "Exit",
         "type": "scatter",
         "x": {
          "bdata": "WQBiAGgAhACZAKIAvQDQAOwACgEMARcBJQFPAVUBcwF8AYcBmQGsAbMBywHUAeoB7wH8AQoCHAI2AkcCVwJwAnsCjwKcAg==",
          "dtype": "i2"
         },
         "y": {
          "bdata": "r2WybOkRAEBGBG1ffBAIwIC+QAZx2Zw/XBJNIon2CcAgXp6DyOX6P1CLVcrkB+o/brp9AMOZHsAOzv3lpqr/v97ldvCt4AHAQ+3DoODQDsDks0mypg8owFhKy2nLcivA4I+AjoHC5T/r9DdtYUsFQH+kj/9hEwFAHhFx8pzV7j96S2SaOMgpwCueU+b4iTDAAODinQDkDMBD17DUyRojQMyOBQCLiA5AUMJXuFOb5j8GFPeItEYHwBY623O4uw9AaGnA+Yqz+T/eXdS3P6UUQGn1L+VeQgXAAI73IGIv6L8oNpFR/g0LQBIXOTq3lyRALuQUOZyZ9T8QYM2rRkr7v4X/9ePI7gLAqlTIB8BTA0DAkSdF+Ma6Pw==",
          "dtype": "f8"
         }
        }
       ],
       "layout": {
        "template": {
         "data": {
          "bar": [
           {
            "error_x": {
             "color": "#2a3f5f"
            },
            "error_y": {
             "color": "#2a3f5f"
            },
            "marker": {
             "line": {
              "color": "white",
              "width": 0.5
             },
             "pattern": {
              "fillmode": "overlay",
              "size": 10,
              "solidity": 0.2
             }
            },
            "type": "bar"
           }
          ],
          "barpolar": [
           {
            "marker": {
             "line": {
              "color": "white",
              "width": 0.5
             },
             "pattern": {
              "fillmode": "overlay",
              "size": 10,
              "solidity": 0.2
             }
            },
            "type": "barpolar"
           }
          ],
          "carpet": [
           {
            "aaxis": {
             "endlinecolor": "#2a3f5f",
             "gridcolor": "#C8D4E3",
             "linecolor": "#C8D4E3",
             "minorgridcolor": "#C8D4E3",
             "startlinecolor": "#2a3f5f"
            },
            "baxis": {
             "endlinecolor": "#2a3f5f",
             "gridcolor": "#C8D4E3",
             "linecolor": "#C8D4E3",
             "minorgridcolor": "#C8D4E3",
             "startlinecolor": "#2a3f5f"
            },
            "type": "carpet"
           }
          ],
          "choropleth": [
           {
            "colorbar": {
             "outlinewidth": 0,
             "ticks": ""
            },
            "type": "choropleth"
           }
          ],
          "contour": [
           {
            "colorbar": {
             "outlinewidth": 0,
             "ticks": ""
            },
            "colorscale": [
             [
              0,
              "#0d0887"
             ],
             [
              0.1111111111111111,
              "#46039f"
             ],
             [
              0.2222222222222222,
              "#7201a8"
             ],
             [
              0.3333333333333333,
              "#9c179e"
             ],
             [
              0.4444444444444444,
              "#bd3786"
             ],
             [
              0.5555555555555556,
              "#d8576b"
             ],
             [
              0.6666666666666666,
              "#ed7953"
             ],
             [
              0.7777777777777778,
              "#fb9f3a"
             ],
             [
              0.8888888888888888,
              "#fdca26"
             ],
             [
              1,
              "#f0f921"
             ]
            ],
            "type": "contour"
           }
          ],
          "contourcarpet": [
           {
            "colorbar": {
             "outlinewidth": 0,
             "ticks": ""
            },
            "type": "contourcarpet"
           }
          ],
          "heatmap": [
           {
            "colorbar": {
             "outlinewidth": 0,
             "ticks": ""
            },
            "colorscale": [
             [
              0,
              "#0d0887"
             ],
             [
              0.1111111111111111,
              "#46039f"
             ],
             [
              0.2222222222222222,
              "#7201a8"
             ],
             [
              0.3333333333333333,
              "#9c179e"
             ],
             [
              0.4444444444444444,
              "#bd3786"
             ],
             [
              0.5555555555555556,
              "#d8576b"
             ],
             [
              0.6666666666666666,
              "#ed7953"
             ],
             [
              0.7777777777777778,
              "#fb9f3a"
             ],
             [
              0.8888888888888888,
              "#fdca26"
             ],
             [
              1,
              "#f0f921"
             ]
            ],
            "type": "heatmap"
           }
          ],
          "histogram": [
           {
            "marker": {
             "pattern": {
              "fillmode": "overlay",
              "size": 10,
              "solidity": 0.2
             }
            },
            "type": "histogram"
           }
          ],
          "histogram2d": [
           {
            "colorbar": {
             "outlinewidth": 0,
             "ticks": ""
            },
            "colorscale": [
             [
              0,
              "#0d0887"
             ],
             [
              0.1111111111111111,
              "#46039f"
             ],
             [
              0.2222222222222222,
              "#7201a8"
             ],
             [
              0.3333333333333333,
              "#9c179e"
             ],
             [
              0.4444444444444444,
              "#bd3786"
             ],
             [
              0.5555555555555556,
              "#d8576b"
             ],
             [
              0.6666666666666666,
              "#ed7953"
             ],
             [
              0.7777777777777778,
              "#fb9f3a"
             ],
             [
              0.8888888888888888,
              "#fdca26"
             ],
             [
              1,
              "#f0f921"
             ]
            ],
            "type": "histogram2d"
           }
          ],
          "histogram2dcontour": [
           {
            "colorbar": {
             "outlinewidth": 0,
             "ticks": ""
            },
            "colorscale": [
             [
              0,
              "#0d0887"
             ],
             [
              0.1111111111111111,
              "#46039f"
             ],
             [
              0.2222222222222222,
              "#7201a8"
             ],
             [
              0.3333333333333333,
              "#9c179e"
             ],
             [
              0.4444444444444444,
              "#bd3786"
             ],
             [
              0.5555555555555556,
              "#d8576b"
             ],
             [
              0.6666666666666666,
              "#ed7953"
             ],
             [
              0.7777777777777778,
              "#fb9f3a"
             ],
             [
              0.8888888888888888,
              "#fdca26"
             ],
             [
              1,
              "#f0f921"
             ]
            ],
            "type": "histogram2dcontour"
           }
          ],
          "mesh3d": [
           {
            "colorbar": {
             "outlinewidth": 0,
             "ticks": ""
            },
            "type": "mesh3d"
           }
          ],
          "parcoords": [
           {
            "line": {
             "colorbar": {
              "outlinewidth": 0,
              "ticks": ""
             }
            },
            "type": "parcoords"
           }
          ],
          "pie": [
           {
            "automargin": true,
            "type": "pie"
           }
          ],
          "scatter": [
           {
            "fillpattern": {
             "fillmode": "overlay",
             "size": 10,
             "solidity": 0.2
            },
            "type": "scatter"
           }
          ],
          "scatter3d": [
           {
            "line": {
             "colorbar": {
              "outlinewidth": 0,
              "ticks": ""
             }
            },
            "marker": {
             "colorbar": {
              "outlinewidth": 0,
              "ticks": ""
             }
            },
            "type": "scatter3d"
           }
          ],
          "scattercarpet": [
           {
            "marker": {
             "colorbar": {
              "outlinewidth": 0,
              "ticks": ""
             }
            },
            "type": "scattercarpet"
           }
          ],
          "scattergeo": [
           {
            "marker": {
             "colorbar": {
              "outlinewidth": 0,
              "ticks": ""
             }
            },
            "type": "scattergeo"
           }
          ],
          "scattergl": [
           {
            "marker": {
             "colorbar": {
              "outlinewidth": 0,
              "ticks": ""
             }
            },
            "type": "scattergl"
           }
          ],
          "scattermap": [
           {
            "marker": {
             "colorbar": {
              "outlinewidth": 0,
              "ticks": ""
             }
            },
            "type": "scattermap"
           }
          ],
          "scattermapbox": [
           {
            "marker": {
             "colorbar": {
              "outlinewidth": 0,
              "ticks": ""
             }
            },
            "type": "scattermapbox"
           }
          ],
          "scatterpolar": [
           {
            "marker": {
             "colorbar": {
              "outlinewidth": 0,
              "ticks": ""
             }
            },
            "type": "scatterpolar"
           }
          ],
          "scatterpolargl": [
           {
            "marker": {
             "colorbar": {
              "outlinewidth": 0,
              "ticks": ""
             }
            },
            "type": "scatterpolargl"
           }
          ],
          "scatterternary": [
           {
            "marker": {
             "colorbar": {
              "outlinewidth": 0,
              "ticks": ""
             }
            },
            "type": "scatterternary"
           }
          ],
          "surface": [
           {
            "colorbar": {
             "outlinewidth": 0,
             "ticks": ""
            },
            "colorscale": [
             [
              0,
              "#0d0887"
             ],
             [
              0.1111111111111111,
              "#46039f"
             ],
             [
              0.2222222222222222,
              "#7201a8"
             ],
             [
              0.3333333333333333,
              "#9c179e"
             ],
             [
              0.4444444444444444,
              "#bd3786"
             ],
             [
              0.5555555555555556,
              "#d8576b"
             ],
             [
              0.6666666666666666,
              "#ed7953"
             ],
             [
              0.7777777777777778,
              "#fb9f3a"
             ],
             [
              0.8888888888888888,
              "#fdca26"
             ],
             [
              1,
              "#f0f921"
             ]
            ],
            "type": "surface"
           }
          ],
          "table": [
           {
            "cells": {
             "fill": {
              "color": "#EBF0F8"
             },
             "line": {
              "color": "white"
             }
            },
            "header": {
             "fill": {
              "color": "#C8D4E3"
             },
             "line": {
              "color": "white"
             }
            },
            "type": "table"
           }
          ]
         },
         "layout": {
          "annotationdefaults": {
           "arrowcolor": "#2a3f5f",
           "arrowhead": 0,
           "arrowwidth": 1
          },
          "autotypenumbers": "strict",
          "coloraxis": {
           "colorbar": {
            "outlinewidth": 0,
            "ticks": ""
           }
          },
          "colorscale": {
           "diverging": [
            [
             0,
             "#8e0152"
            ],
            [
             0.1,
             "#c51b7d"
            ],
            [
             0.2,
             "#de77ae"
            ],
            [
             0.3,
             "#f1b6da"
            ],
            [
             0.4,
             "#fde0ef"
            ],
            [
             0.5,
             "#f7f7f7"
            ],
            [
             0.6,
             "#e6f5d0"
            ],
            [
             0.7,
             "#b8e186"
            ],
            [
             0.8,
             "#7fbc41"
            ],
            [
             0.9,
             "#4d9221"
            ],
            [
             1,
             "#276419"
            ]
           ],
           "sequential": [
            [
             0,
             "#0d0887"
            ],
            [
             0.1111111111111111,
             "#46039f"
            ],
            [
             0.2222222222222222,
             "#7201a8"
            ],
            [
             0.3333333333333333,
             "#9c179e"
            ],
            [
             0.4444444444444444,
             "#bd3786"
            ],
            [
             0.5555555555555556,
             "#d8576b"
            ],
            [
             0.6666666666666666,
             "#ed7953"
            ],
            [
             0.7777777777777778,
             "#fb9f3a"
            ],
            [
             0.8888888888888888,
             "#fdca26"
            ],
            [
             1,
             "#f0f921"
            ]
           ],
           "sequentialminus": [
            [
             0,
             "#0d0887"
            ],
            [
             0.1111111111111111,
             "#46039f"
            ],
            [
             0.2222222222222222,
             "#7201a8"
            ],
            [
             0.3333333333333333,
             "#9c179e"
            ],
            [
             0.4444444444444444,
             "#bd3786"
            ],
            [
             0.5555555555555556,
             "#d8576b"
            ],
            [
             0.6666666666666666,
             "#ed7953"
            ],
            [
             0.7777777777777778,
             "#fb9f3a"
            ],
            [
             0.8888888888888888,
             "#fdca26"
            ],
            [
             1,
             "#f0f921"
            ]
           ]
          },
          "colorway": [
           "#636efa",
           "#EF553B",
           "#00cc96",
           "#ab63fa",
           "#FFA15A",
           "#19d3f3",
           "#FF6692",
           "#B6E880",
           "#FF97FF",
           "#FECB52"
          ],
          "font": {
           "color": "#2a3f5f"
          },
          "geo": {
           "bgcolor": "white",
           "lakecolor": "white",
           "landcolor": "white",
           "showlakes": true,
           "showland": true,
           "subunitcolor": "#C8D4E3"
          },
          "hoverlabel": {
           "align": "left"
          },
          "hovermode": "closest",
          "mapbox": {
           "style": "light"
          },
          "paper_bgcolor": "white",
          "plot_bgcolor": "white",
          "polar": {
           "angularaxis": {
            "gridcolor": "#EBF0F8",
            "linecolor": "#EBF0F8",
            "ticks": ""
           },
           "bgcolor": "white",
           "radialaxis": {
            "gridcolor": "#EBF0F8",
            "linecolor": "#EBF0F8",
            "ticks": ""
           }
          },
          "scene": {
           "xaxis": {
            "backgroundcolor": "white",
            "gridcolor": "#DFE8F3",
            "gridwidth": 2,
            "linecolor": "#EBF0F8",
            "showbackground": true,
            "ticks": "",
            "zerolinecolor": "#EBF0F8"
           },
           "yaxis": {
            "backgroundcolor": "white",
            "gridcolor": "#DFE8F3",
            "gridwidth": 2,
            "linecolor": "#EBF0F8",
            "showbackground": true,
            "ticks": "",
            "zerolinecolor": "#EBF0F8"
           },
           "zaxis": {
            "backgroundcolor": "white",
            "gridcolor": "#DFE8F3",
            "gridwidth": 2,
            "linecolor": "#EBF0F8",
            "showbackground": true,
            "ticks": "",
            "zerolinecolor": "#EBF0F8"
           }
          },
          "shapedefaults": {
           "line": {
            "color": "#2a3f5f"
           }
          },
          "ternary": {
           "aaxis": {
            "gridcolor": "#DFE8F3",
            "linecolor": "#A2B1C6",
            "ticks": ""
           },
           "baxis": {
            "gridcolor": "#DFE8F3",
            "linecolor": "#A2B1C6",
            "ticks": ""
           },
           "bgcolor": "white",
           "caxis": {
            "gridcolor": "#DFE8F3",
            "linecolor": "#A2B1C6",
            "ticks": ""
           }
          },
          "title": {
           "x": 0.05
          },
          "xaxis": {
           "automargin": true,
           "gridcolor": "#EBF0F8",
           "linecolor": "#EBF0F8",
           "ticks": "",
           "title": {
            "standoff": 15
           },
           "zerolinecolor": "#EBF0F8",
           "zerolinewidth": 2
          },
          "yaxis": {
           "automargin": true,
           "gridcolor": "#EBF0F8",
           "linecolor": "#EBF0F8",
           "ticks": "",
           "title": {
            "standoff": 15
           },
           "zerolinecolor": "#EBF0F8",
           "zerolinewidth": 2
          }
         }
        },
        "title": {
         "text": "Spread and Trade Entry/Exit Points"
        },
        "xaxis": {
         "title": {
          "text": "Timestamp"
         }
        },
        "yaxis": {
         "title": {
          "text": "Spread"
         }
        }
       }
      }
     },
     "metadata": {},
     "output_type": "display_data"
    }
   ],
   "source": [
    "# Step-by-step trade logic\n",
    "df = trade_df.copy()\n",
    "df[\"position\"] = 0  # 1: long spread, -1: short spread\n",
    "df[\"trade_entry\"] = False\n",
    "df[\"trade_exit\"] = False\n",
    "df[\"pnl\"] = 0.0\n",
    "\n",
    "in_position = False\n",
    "position_type = 0\n",
    "entry_index = None\n",
    "entry_spread = None\n",
    "\n",
    "for i in range(len(df)):\n",
    "    z = df[\"z_score\"].iloc[i]\n",
    "    spread = df[\"spread\"].iloc[i]\n",
    "\n",
    "    if not in_position:\n",
    "        if z > 2:\n",
    "            df.at[df.index[i], \"position\"] = -1\n",
    "            df.at[df.index[i], \"trade_entry\"] = True\n",
    "            in_position = True\n",
    "            position_type = -1\n",
    "            entry_index = i\n",
    "            entry_spread = spread\n",
    "        elif z < -2:\n",
    "            df.at[df.index[i], \"position\"] = 1\n",
    "            df.at[df.index[i], \"trade_entry\"] = True\n",
    "            in_position = True\n",
    "            position_type = 1\n",
    "            entry_index = i\n",
    "            entry_spread = spread\n",
    "    else:\n",
    "        stop_loss_triggered = (z > 3 and position_type == -1) or (z < -3 and position_type == 1)\n",
    "        mean_reversion_triggered = abs(z) < 0.5\n",
    "        timeout_triggered = i - entry_index >= 10\n",
    "\n",
    "        if stop_loss_triggered or mean_reversion_triggered or timeout_triggered:\n",
    "            df.at[df.index[i], \"position\"] = 0\n",
    "            df.at[df.index[i], \"trade_exit\"] = True\n",
    "            pnl = -(spread - entry_spread)\n",
    "            df.at[df.index[i], \"pnl\"] = pnl\n",
    "            in_position = False\n",
    "            position_type = 0\n",
    "            entry_index = None\n",
    "            entry_spread = None\n",
    "        else:\n",
    "            df.at[df.index[i], \"position\"] = position_type\n",
    "spread_mean = df[\"spread\"].mean()\n",
    "spread_std = df[\"spread\"].std()\n",
    "fig = go.Figure()\n",
    "fig.add_trace(go.Scatter(x=df.index, y=df[\"spread\"], mode=\"lines\", name=\"Spread\"))\n",
    "fig.add_trace(go.Scatter(x=[df.index[0], df.index[-1]], y=[0, 0], mode=\"lines\", name=\"Zero Line\", line=dict(dash=\"dash\", color=\"black\")))\n",
    "fig.add_trace(go.Scatter(x=[df.index[0], df.index[-1]], y=[spread_mean + 2 * spread_std, spread_mean + 2 * spread_std], mode=\"lines\", name=\"+2σ\", line=dict(dash=\"dash\", color=\"red\")))\n",
    "fig.add_trace(go.Scatter(x=[df.index[0], df.index[-1]], y=[spread_mean - 2 * spread_std, spread_mean - 2 * spread_std], mode=\"lines\", name=\"-2σ\", line=dict(dash=\"dash\", color=\"red\")))\n",
    "fig.add_trace(go.Scatter(x=[df.index[0], df.index[-1]], y=[spread_mean + 0.5 * spread_std, spread_mean + 0.5 * spread_std], mode=\"lines\", name=\"+0.5σ\", line=dict(dash=\"dash\", color=\"green\")))\n",
    "fig.add_trace(go.Scatter(x=[df.index[0], df.index[-1]], y=[spread_mean - 0.5 * spread_std, spread_mean - 0.5 * spread_std], mode=\"lines\", name=\"-0.5σ\", line=dict(dash=\"dash\", color=\"green\")))\n",
    "entries_df = df[df[\"trade_entry\"]]\n",
    "exits_df = df[df[\"trade_exit\"]]\n",
    "fig.add_trace(go.Scatter(x=entries_df.index, y=entries_df[\"spread\"], mode=\"markers\", name=\"Entry\", marker=dict(color=\"blue\", size=10)))\n",
    "fig.add_trace(go.Scatter(x=exits_df.index, y=exits_df[\"spread\"], mode=\"markers\", name=\"Exit\", marker=dict(color=\"purple\", size=10)))\n",
    "fig.update_layout(title=\"Spread and Trade Entry/Exit Points\", xaxis_title=\"Timestamp\", yaxis_title=\"Spread\", template=\"plotly_white\")\n",
    "fig.show()\n",
    "fig.write_html('html_plot/spread.html')"
   ]
  },
  {
   "cell_type": "code",
   "execution_count": 48,
   "id": "1e773306",
   "metadata": {},
   "outputs": [
    {
     "data": {
      "application/vnd.plotly.v1+json": {
       "config": {
        "plotlyServerURL": "https://plot.ly"
       },
       "data": [
        {
         "mode": "lines",
         "name": "Cumulative PnL",
         "type": "scatter",
         "x": {
          "bdata": "AAABAAIAAwAEAAUABgAHAAgACQAKAAsADAANAA4ADwAQABEAEgATABQAFQAWABcAGAAZABoAGwAcAB0AHgAfACAAIQAiACMAJAAlACYAJwAoACkAKgArACwALQAuAC8AMAAxADIAMwA0ADUANgA3ADgAOQA6ADsAPAA9AD4APwBAAEEAQgBDAEQARQBGAEcASABJAEoASwBMAE0ATgBPAFAAUQBSAFMAVABVAFYAVwBYAFkAWgBbAFwAXQBeAF8AYABhAGIAYwBkAGUAZgBnAGgAaQBqAGsAbABtAG4AbwBwAHEAcgBzAHQAdQB2AHcAeAB5AHoAewB8AH0AfgB/AIAAgQCCAIMAhACFAIYAhwCIAIkAigCLAIwAjQCOAI8AkACRAJIAkwCUAJUAlgCXAJgAmQCaAJsAnACdAJ4AnwCgAKEAogCjAKQApQCmAKcAqACpAKoAqwCsAK0ArgCvALAAsQCyALMAtAC1ALYAtwC4ALkAugC7ALwAvQC+AL8AwADBAMIAwwDEAMUAxgDHAMgAyQDKAMsAzADNAM4AzwDQANEA0gDTANQA1QDWANcA2ADZANoA2wDcAN0A3gDfAOAA4QDiAOMA5ADlAOYA5wDoAOkA6gDrAOwA7QDuAO8A8ADxAPIA8wD0APUA9gD3APgA+QD6APsA/AD9AP4A/wAAAQEBAgEDAQQBBQEGAQcBCAEJAQoBCwEMAQ0BDgEPARABEQESARMBFAEVARYBFwEYARkBGgEbARwBHQEeAR8BIAEhASIBIwEkASUBJgEnASgBKQEqASsBLAEtAS4BLwEwATEBMgEzATQBNQE2ATcBOAE5AToBOwE8AT0BPgE/AUABQQFCAUMBRAFFAUYBRwFIAUkBSgFLAUwBTQFOAU8BUAFRAVIBUwFUAVUBVgFXAVgBWQFaAVsBXAFdAV4BXwFgAWEBYgFjAWQBZQFmAWcBaAFpAWoBawFsAW0BbgFvAXABcQFyAXMBdAF1AXYBdwF4AXkBegF7AXwBfQF+AX8BgAGBAYIBgwGEAYUBhgGHAYgBiQGKAYsBjAGNAY4BjwGQAZEBkgGTAZQBlQGWAZcBmAGZAZoBmwGcAZ0BngGfAaABoQGiAaMBpAGlAaYBpwGoAakBqgGrAawBrQGuAa8BsAGxAbIBswG0AbUBtgG3AbgBuQG6AbsBvAG9Ab4BvwHAAcEBwgHDAcQBxQHGAccByAHJAcoBywHMAc0BzgHPAdAB0QHSAdMB1AHVAdYB1wHYAdkB2gHbAdwB3QHeAd8B4AHhAeIB4wHkAeUB5gHnAegB6QHqAesB7AHtAe4B7wHwAfEB8gHzAfQB9QH2AfcB+AH5AfoB+wH8Af0B/gH/AQACAQICAgMCBAIFAgYCBwIIAgkCCgILAgwCDQIOAg8CEAIRAhICEwIUAhUCFgIXAhgCGQIaAhsCHAIdAh4CHwIgAiECIgIjAiQCJQImAicCKAIpAioCKwIsAi0CLgIvAjACMQIyAjMCNAI1AjYCNwI4AjkCOgI7AjwCPQI+Aj8CQAJBAkICQwJEAkUCRgJHAkgCSQJKAksCTAJNAk4CTwJQAlECUgJTAlQCVQJWAlcCWAJZAloCWwJcAl0CXgJfAmACYQJiAmMCZAJlAmYCZwJoAmkCagJrAmwCbQJuAm8CcAJxAnICcwJ0AnUCdgJ3AngCeQJ6AnsCfAJ9An4CfwKAAoECggKDAoQChQKGAocCiAKJAooCiwKMAo0CjgI=",
          "dtype": "i2"
         },
         "y": {
          "bdata": "AAAAAAAAAAAAAAAAAAAAAAAAAAAAAAAAAAAAAAAAAAAAAAAAAAAAAAAAAAAAAAAAAAAAAAAAAAAAAAAAAAAAAAAAAAAAAAAAAAAAAAAAAAAAAAAAAAAAAAAAAAAAAAAAAAAAAAAAAAAAAAAAAAAAAAAAAAAAAAAAAAAAAAAAAAAAAAAAAAAAAAAAAAAAAAAAAAAAAAAAAAAAAAAAAAAAAAAAAAAAAAAAAAAAAAAAAAAAAAAAAAAAAAAAAAAAAAAAAAAAAAAAAAAAAAAAAAAAAAAAAAAAAAAAAAAAAAAAAAAAAAAAAAAAAAAAAAAAAAAAAAAAAAAAAAAAAAAAAAAAAAAAAAAAAAAAAAAAAAAAAAAAAAAAAAAAAAAAAAAAAAAAAAAAAAAAAAAAAAAAAAAAAAAAAAAAAAAAAAAAAAAAAAAAAAAAAAAAAAAAAAAAAAAAAAAAAAAAAAAAAAAAAAAAAAAAAAAAAAAAAAAAAAAAAAAAAAAAAAAAAAAAAAAAAAAAAAAAAAAAAAAAAAAAAAAAAAAAAAAAAAAAAAAAAAAAAAAAAAAAAAAAAAAAAAAAAAAAAAAAAAAAAAAAAAAAAAAAAAAAAAAAAAAAAAAAAAAAAAAAAAAAAAAAAAAAAAAAAAAAAAAAAAAAAAAAAAAAAAAAAAAAAAAAAAAAAAAAAAAAAAAAAAAAAAAAAAAAAAAAAAAAAAAAAAAAAAAAAAAAAAAAAAAAAAAAAAAAAAAAAAAAAAAAAAAAAAAAAAAAAAAAAAAAAAAAAAAAAAAAAAAAAAAAAAAAAAAAAAAAAAAAAAAAAAAAAAAAAAAAAAAAAAAAAAAAAAAAAAAAAAAAAAAAAAAAAAAAAAAAAAAAAAAAAAAAAAAAAAAAAAAAAAAAAAAAAAAAAAAAAAAAAAAAAAAAAAAAAAAAAAAAAAAAAAAAAAAAAAAAAAAAAAAAAAAAAAAAAAAAAAAAAAAAAAAAAAAAAAAAAAAAAAAAAAAAecL1KFw/fsB5wvUoXD9+wHnC9ShcP37AecL1KFw/fsB5wvUoXD9+wHnC9ShcP37AecL1KFw/fsB5wvUoXD9+wHnC9ShcP37AeRSuR+HSq8B5FK5H4dKrwHkUrkfh0qvAeRSuR+HSq8B5FK5H4dKrwHkUrkfh0qvAeRSuR+HSq8B5FK5H4dKrwHkUrkfh0qvAeRSuR+HSq8B5FK5H4dKrwHkUrkfh0qvAeRSuR+HSq8B5FK5H4dKrwHkUrkfh0qvAeRSuR+HSq8B5FK5H4dKrwHkUrkfh0qvAeRSuR+HSq8B5FK5H4dKrwHkUrkfh0qvAeRSuR+HSq8B5FK5H4dKrwHkUrkfh0qvAeRSuR+HSq8B5FK5H4dKrwHkUrkfh0qvAeRSuR+HSq8B5FK5H4dKrwHkUrkfh0qvAeRSuR+HSq8B5FK5H4dKrwHkUrkfh0qvAeRSuR+HSq8B5FK5H4dKrwHkUrkfh0qvAeRSuR+HSq8B5FK5H4dKrwHkUrkfh0qvAeRSuR+HSq8B5FK5H4dKrwHkUrkfh0qvAeRSuR+HSq8B5FK5H4dKrwHkUrkfh0qvAeRSuR+HSq8B5FK5H4dKrwHkUrkfh0qvAeRSuR+HSq8B5FK5H4dKrwHkUrkfh0qvAeRSuR+HSq8B5FK5H4dKrwHkUrkfh0qvAeRSuR+HSq8B5FK5H4dKrwHkUrkfh0qvAeRSuR+HSq8B5FK5H4dKrwHkUrkfh0qvAeRSuR+HSq8B5FK5H4dKrwHkUrkfh0qvAeRSuR+HSq8B5FK5H4dKrwHkUrkfh0qvAeRSuR+HSq8B5FK5H4dKrwHkUrkfh0qvAeRSuR+HSq8B5FK5H4dKrwHkUrkfh0qvAeRSuR+HSq8B5FK5H4dKrwHkUrkfh0qvAeRSuR+HSq8B5FK5H4dKrwHkUrkfh0qvAeRSuR+HSq8B5FK5H4dKrwHkUrkfh0qvAeRSuR+HSq8B5FK5H4dKrwHkUrkfh0qvAeRSuR+HSq8B5FK5H4dKrwHkUrkfh0qvAeRSuR+HSq8B5FK5H4dKrwHkUrkfh0qvAeRSuR+HSq8B5FK5H4dKrwHkUrkfh0qvAeRSuR+HSq8B5FK5H4dKrwHkUrkfh0qvAeRSuR+HSq8B5FK5H4dKrwHkUrkfh0qvAeRSuR+HSq8B5FK5H4dKrwHkUrkfh0qvAeRSuR+HSq8B5FK5H4dKrwHkUrkfh0qvAeRSuR+HSq8B5FK5H4dKrwHkUrkfh0qvAeRSuR+HSq8B5FK5H4dKrwHkUrkfh0qvAeRSuR+HSq8B5FK5H4dKrwHkUrkfh0qvAeRSuR+HSq8B5FK5H4dKrwHkUrkfh0qvAeRSuR+HSq8B5FK5H4dKrwHkUrkfh0qvAeRSuR+HSq8B5FK5H4dKrwHkUrkfh0qvAeRSuR+HSq8B5FK5H4dKrwHkUrkfh0qvAeRSuR+HSq8B5FK5H4dKrwHkUrkfh0qvAeRSuR+HSq8B5FK5H4dKrwILrUbgeMJ3AgutRuB4wncCC61G4HjCdwILrUbgeMJ3AgutRuB4wncCC61G4HjCdwILrUbgeMJ3AgutRuB4wncCC61G4HjCdwILrUbgeMJ3AgutRuB4wncCC61G4HjCdwILrUbgeMJ3AgutRuB4wncCC61G4HjCdwILrUbgeMJ3AgutRuB4wncCC61G4HjCdwILrUbgeMJ3AgutRuB4wncCC61G4HjCdwILrUbgeMJ3AgutRuB4wncCC61G4HjCdwILrUbgeMJ3AgutRuB4wncCC61G4HjCdwILrUbgeMJ3AgutRuB4wncCC61G4HjCdwILrUbgeMJ3AgutRuB4wncCC61G4HjCdwILrUbgeMJ3AgutRuB4wncCC61G4HjCdwILrUbgeMJ3AgutRuB4wncCC61G4HjCdwILrUbgeMJ3AgutRuB4wncCC61G4HjCdwK1H4XqUeKzArUfhepR4rMCtR+F6lHiswK1H4XqUeKzArUfhepR4rMCtR+F6lHiswF2PwvUo95vAXY/C9Sj3m8Bdj8L1KPebwF2PwvUo95vAXY/C9Sj3m8Bdj8L1KPebwF2PwvUo95vAXY/C9Sj3m8Bdj8L1KPebwF2PwvUo95vAXY/C9Sj3m8Bdj8L1KPebwF2PwvUo95vAXY/C9Sj3m8Bdj8L1KPebwF2PwvUo95vAXY/C9Sj3m8Bdj8L1KPebwF2PwvUo95vAXY/C9Sj3m8Bdj8L1KPebwF2PwvUo95vAXY/C9Sj3m8Bdj8L1KPebwF2PwvUo95vAXY/C9Sj3m8Bdj8L1KPebwF2PwvUo95vAXY/C9Sj3m8Bdj8L1KPebwJyZmZmZXJnAnJmZmZlcmcCcmZmZmVyZwJyZmZmZXJnAnJmZmZlcmcCcmZmZmVyZwJyZmZmZXJnAnJmZmZlcmcCcmZmZmVyZwF6PwvWojarAXo/C9aiNqsBej8L1qI2qwF6PwvWojarAXo/C9aiNqsBej8L1qI2qwF6PwvWojarAXo/C9aiNqsBej8L1qI2qwF6PwvWojarAXo/C9aiNqsBej8L1qI2qwF6PwvWojarAXo/C9aiNqsBej8L1qI2qwF6PwvWojarAXo/C9aiNqsBej8L1qI2qwF6PwvWojarAXo/C9aiNqsBej8L1qI2qwF6PwvWojarAXo/C9aiNqsBej8L1qI2qwF6PwvWojarAXo/C9aiNqsBej8L1qI2qwF6PwvWojarAXo/C9aiNqsBej8L1qI2qwF6PwvWojarAXo/C9aiNqsBej8L1qI2qwF6PwvWojarAXo/C9aiNqsBej8L1qI2qwF6PwvWojarAXo/C9aiNqsBej8L1qI2qwF6PwvWojarAXo/C9aiNqsBej8L1qI2qwF6PwvWojarAXo/C9aiNqsBej8L1qI2qwF6PwvWojarAXo/C9aiNqsBej8L1qI2qwF6PwvWojarAXo/C9aiNqsBej8L1qI2qwF6PwvWojarAXo/C9aiNqsBej8L1qI2qwF6PwvWojarAXo/C9aiNqsBej8L1qI2qwF6PwvWojarAXo/C9aiNqsBej8L1qI2qwF6PwvWojarAXo/C9aiNqsBej8L1qI2qwF6PwvWojarAXo/C9aiNqsBej8L1qI2qwF6PwvWojarAXo/C9aiNqsBej8L1qI2qwF6PwvWojarAXo/C9aiNqsBej8L1qI2qwF6PwvWojarAXo/C9aiNqsBej8L1qI2qwF6PwvWojarAXo/C9aiNqsBej8L1qI2qwF6PwvWojarAXo/C9aiNqsBej8L1qI2qwF6PwvWojarAXo/C9aiNqsBej8L1qI2qwF6PwvWojarAXo/C9aiNqsBej8L1qI2qwF6PwvWojarAZGZmZiZ3tsBkZmZmJne2wGRmZmYmd7bAZGZmZiZ3tsBkZmZmJne2wGRmZmYmd7bAZGZmZiZ3tsBkZmZmJne2wGRmZmYmd7bAZGZmZiZ3tsBkZmZmJne2wGRmZmYmd7bAZGZmZiZ3tsBkZmZmJne2wGRmZmYmd7bAZGZmZiZ3tsBkZmZmJne2wGRmZmYmd7bAZGZmZiZ3tsBkZmZmJne2wGRmZmYmd7bAZGZmZiZ3tsBF4XoUrvy0wEXhehSu/LTAReF6FK78tMBF4XoUrvy0wEXhehSu/LTAEq5H4XrttcASrkfheu21wBKuR+F67bXAEq5H4XrttcASrkfheu21wBKuR+F67bXAEq5H4XrttcASrkfheu21wBKuR+F67bXAEq5H4XrttcASrkfheu21wBKuR+F67bXAEq5H4XrttcASrkfheu21wBKuR+F67bXAEq5H4XrttcASrkfheu21wBKuR+F67bXAEq5H4XrttcASrkfheu21wBKuR+F67bXAEq5H4XrttcASrkfheu21wBKuR+F67bXAEq5H4XrttcASrkfheu21wBKuR+F67bXAEq5H4XrttcASrkfheu21wBKuR+F67bXAEq5H4XrttcASrkfheu21wBKuR+F67bXAEq5H4XrttcASrkfheu21wBKuR+F67bXAEq5H4XrttcASrkfheu21wBKuR+F67bXAEq5H4XrttcASrkfheu21wBKuR+F67bXAEq5H4XrttcASrkfheu21wBKuR+F67bXAEq5H4XrttcASrkfheu21wBKuR+F67bXAEq5H4XrttcASrkfheu21wBKuR+F67bXAEq5H4XrttcASrkfheu21wBKuR+F67bXAEq5H4XrttcASrkfheu21wBKuR+F67bXAEq5H4XrttcASrkfheu21wBKuR+F67bXAEq5H4XrttcASrkfheu21wBKuR+F67bXAEq5H4XrttcASrkfheu21wBKuR+F67bXAEq5H4XrttcASrkfheu21wBKuR+F67bXAEq5H4XrttcASrkfheu21wBKuR+F67bXAEq5H4XrttcASrkfheu21wBKuR+F67bXAEq5H4XrttcASrkfheu21wBKuR+F67bXAEq5H4XrttcASrkfheu21wBKuR+F67bXAEq5H4XrttcASrkfheu21wBKuR+F67bXAEq5H4XrttcASrkfheu21wBKuR+F67bXAEq5H4XrttcASrkfheu21wBKuR+F67bXAEq5H4XrttcASrkfheu21wBKuR+F67bXAEq5H4XrttcASrkfheu21wBKuR+F67bXAEq5H4XrttcASrkfheu21wBKuR+F67bXAEq5H4XrttcASrkfheu21wBKuR+F67bXAEq5H4XrttcASrkfheu21wBKuR+F67bXAEq5H4XrttcASrkfheu21wBKuR+F67bXAEq5H4XrttcASrkfheu21wBKuR+F67bXAEq5H4XrttcASrkfheu21wBKuR+F67bXAEq5H4XrttcASrkfheu21wBKuR+F67bXAEq5H4XrttcASrkfheu21wBKuR+F67bXAEq5H4XrttcASrkfheu21wBKuR+F67bXAEq5H4XrttcASrkfheu21wBKuR+F67bXAEq5H4XrttcASrkfheu21wBKuR+F67bXAEq5H4XrttcASrkfheu21wBKuR+F67bXAEq5H4XrttcASrkfheu21wBKuR+F67bXAEq5H4XrttcASrkfheu21wBKuR+F67bXAEq5H4XrttcASrkfheu21wBKuR+F67bXAEq5H4XrttcASrkfheu21wBKuR+F67bXAEq5H4XrttcASrkfheu21wBKuR+F67bXAEq5H4XrttcASrkfheu21wBKuR+F67bXAEq5H4XrttcASrkfheu21wBKuR+F67bXAEq5H4XrttcASrkfheu21wBKuR+F67bXAEq5H4XrttcASrkfheu21wBKuR+F67bXAEq5H4XrttcD0KFyPQrC3wPQoXI9CsLfA9Chcj0Kwt8D0KFyPQrC3wPQoXI9CsLfA9Chcj0Kwt8D0KFyPQrC3wPQoXI9CsLfA9Chcj0Kwt8D0KFyPQrC3wPQoXI9CsLfA9Chcj0Kwt8D0KFyPQrC3wPQoXI9CsLfA9Chcj0Kwt8D0KFyPQrC3wPQoXI9CsLfA9Chcj0Kwt8D0KFyPQrC3wPQoXI9CsLfA9Chcj0Kwt8D0KFyPQrC3wPQoXI9CsLfA9Chcj0Kwt8D0KFyPQrC3wPQoXI9CsLfA9Chcj0Kwt8D0KFyPQrC3wPQoXI9CsLfA9Chcj0Kwt8D0KFyPQrC3wPQoXI9CsLfA9Chcj0Kwt8D0KFyPQrC3wPQoXI9CsLfA9Chcj0Kwt8D0KFyPQrC3wPQoXI9CsLfA9Chcj0Kwt8D0KFyPQrC3wPQoXI9CsLfA9Chcj0Kwt8D0KFyPQrC3wPQoXI9CsLfA9Chcj0Kwt8D0KFyPQrC3wPQoXI9CsLfA9Chcj0Kwt8D0KFyPQrC3wPQoXI9CsLfA9Chcj0Kwt8D0KFyPQrC3wPQoXI9CsLfA9Chcj0Kwt8D0KFyPQrC3wPQoXI9CsLfA9Chcj0Kwt8D0KFyPQrC3wPQoXI9CsLfA9Chcj0Kwt8A=",
          "dtype": "f8"
         }
        }
       ],
       "layout": {
        "template": {
         "data": {
          "bar": [
           {
            "error_x": {
             "color": "#2a3f5f"
            },
            "error_y": {
             "color": "#2a3f5f"
            },
            "marker": {
             "line": {
              "color": "#E5ECF6",
              "width": 0.5
             },
             "pattern": {
              "fillmode": "overlay",
              "size": 10,
              "solidity": 0.2
             }
            },
            "type": "bar"
           }
          ],
          "barpolar": [
           {
            "marker": {
             "line": {
              "color": "#E5ECF6",
              "width": 0.5
             },
             "pattern": {
              "fillmode": "overlay",
              "size": 10,
              "solidity": 0.2
             }
            },
            "type": "barpolar"
           }
          ],
          "carpet": [
           {
            "aaxis": {
             "endlinecolor": "#2a3f5f",
             "gridcolor": "white",
             "linecolor": "white",
             "minorgridcolor": "white",
             "startlinecolor": "#2a3f5f"
            },
            "baxis": {
             "endlinecolor": "#2a3f5f",
             "gridcolor": "white",
             "linecolor": "white",
             "minorgridcolor": "white",
             "startlinecolor": "#2a3f5f"
            },
            "type": "carpet"
           }
          ],
          "choropleth": [
           {
            "colorbar": {
             "outlinewidth": 0,
             "ticks": ""
            },
            "type": "choropleth"
           }
          ],
          "contour": [
           {
            "colorbar": {
             "outlinewidth": 0,
             "ticks": ""
            },
            "colorscale": [
             [
              0,
              "#0d0887"
             ],
             [
              0.1111111111111111,
              "#46039f"
             ],
             [
              0.2222222222222222,
              "#7201a8"
             ],
             [
              0.3333333333333333,
              "#9c179e"
             ],
             [
              0.4444444444444444,
              "#bd3786"
             ],
             [
              0.5555555555555556,
              "#d8576b"
             ],
             [
              0.6666666666666666,
              "#ed7953"
             ],
             [
              0.7777777777777778,
              "#fb9f3a"
             ],
             [
              0.8888888888888888,
              "#fdca26"
             ],
             [
              1,
              "#f0f921"
             ]
            ],
            "type": "contour"
           }
          ],
          "contourcarpet": [
           {
            "colorbar": {
             "outlinewidth": 0,
             "ticks": ""
            },
            "type": "contourcarpet"
           }
          ],
          "heatmap": [
           {
            "colorbar": {
             "outlinewidth": 0,
             "ticks": ""
            },
            "colorscale": [
             [
              0,
              "#0d0887"
             ],
             [
              0.1111111111111111,
              "#46039f"
             ],
             [
              0.2222222222222222,
              "#7201a8"
             ],
             [
              0.3333333333333333,
              "#9c179e"
             ],
             [
              0.4444444444444444,
              "#bd3786"
             ],
             [
              0.5555555555555556,
              "#d8576b"
             ],
             [
              0.6666666666666666,
              "#ed7953"
             ],
             [
              0.7777777777777778,
              "#fb9f3a"
             ],
             [
              0.8888888888888888,
              "#fdca26"
             ],
             [
              1,
              "#f0f921"
             ]
            ],
            "type": "heatmap"
           }
          ],
          "histogram": [
           {
            "marker": {
             "pattern": {
              "fillmode": "overlay",
              "size": 10,
              "solidity": 0.2
             }
            },
            "type": "histogram"
           }
          ],
          "histogram2d": [
           {
            "colorbar": {
             "outlinewidth": 0,
             "ticks": ""
            },
            "colorscale": [
             [
              0,
              "#0d0887"
             ],
             [
              0.1111111111111111,
              "#46039f"
             ],
             [
              0.2222222222222222,
              "#7201a8"
             ],
             [
              0.3333333333333333,
              "#9c179e"
             ],
             [
              0.4444444444444444,
              "#bd3786"
             ],
             [
              0.5555555555555556,
              "#d8576b"
             ],
             [
              0.6666666666666666,
              "#ed7953"
             ],
             [
              0.7777777777777778,
              "#fb9f3a"
             ],
             [
              0.8888888888888888,
              "#fdca26"
             ],
             [
              1,
              "#f0f921"
             ]
            ],
            "type": "histogram2d"
           }
          ],
          "histogram2dcontour": [
           {
            "colorbar": {
             "outlinewidth": 0,
             "ticks": ""
            },
            "colorscale": [
             [
              0,
              "#0d0887"
             ],
             [
              0.1111111111111111,
              "#46039f"
             ],
             [
              0.2222222222222222,
              "#7201a8"
             ],
             [
              0.3333333333333333,
              "#9c179e"
             ],
             [
              0.4444444444444444,
              "#bd3786"
             ],
             [
              0.5555555555555556,
              "#d8576b"
             ],
             [
              0.6666666666666666,
              "#ed7953"
             ],
             [
              0.7777777777777778,
              "#fb9f3a"
             ],
             [
              0.8888888888888888,
              "#fdca26"
             ],
             [
              1,
              "#f0f921"
             ]
            ],
            "type": "histogram2dcontour"
           }
          ],
          "mesh3d": [
           {
            "colorbar": {
             "outlinewidth": 0,
             "ticks": ""
            },
            "type": "mesh3d"
           }
          ],
          "parcoords": [
           {
            "line": {
             "colorbar": {
              "outlinewidth": 0,
              "ticks": ""
             }
            },
            "type": "parcoords"
           }
          ],
          "pie": [
           {
            "automargin": true,
            "type": "pie"
           }
          ],
          "scatter": [
           {
            "fillpattern": {
             "fillmode": "overlay",
             "size": 10,
             "solidity": 0.2
            },
            "type": "scatter"
           }
          ],
          "scatter3d": [
           {
            "line": {
             "colorbar": {
              "outlinewidth": 0,
              "ticks": ""
             }
            },
            "marker": {
             "colorbar": {
              "outlinewidth": 0,
              "ticks": ""
             }
            },
            "type": "scatter3d"
           }
          ],
          "scattercarpet": [
           {
            "marker": {
             "colorbar": {
              "outlinewidth": 0,
              "ticks": ""
             }
            },
            "type": "scattercarpet"
           }
          ],
          "scattergeo": [
           {
            "marker": {
             "colorbar": {
              "outlinewidth": 0,
              "ticks": ""
             }
            },
            "type": "scattergeo"
           }
          ],
          "scattergl": [
           {
            "marker": {
             "colorbar": {
              "outlinewidth": 0,
              "ticks": ""
             }
            },
            "type": "scattergl"
           }
          ],
          "scattermap": [
           {
            "marker": {
             "colorbar": {
              "outlinewidth": 0,
              "ticks": ""
             }
            },
            "type": "scattermap"
           }
          ],
          "scattermapbox": [
           {
            "marker": {
             "colorbar": {
              "outlinewidth": 0,
              "ticks": ""
             }
            },
            "type": "scattermapbox"
           }
          ],
          "scatterpolar": [
           {
            "marker": {
             "colorbar": {
              "outlinewidth": 0,
              "ticks": ""
             }
            },
            "type": "scatterpolar"
           }
          ],
          "scatterpolargl": [
           {
            "marker": {
             "colorbar": {
              "outlinewidth": 0,
              "ticks": ""
             }
            },
            "type": "scatterpolargl"
           }
          ],
          "scatterternary": [
           {
            "marker": {
             "colorbar": {
              "outlinewidth": 0,
              "ticks": ""
             }
            },
            "type": "scatterternary"
           }
          ],
          "surface": [
           {
            "colorbar": {
             "outlinewidth": 0,
             "ticks": ""
            },
            "colorscale": [
             [
              0,
              "#0d0887"
             ],
             [
              0.1111111111111111,
              "#46039f"
             ],
             [
              0.2222222222222222,
              "#7201a8"
             ],
             [
              0.3333333333333333,
              "#9c179e"
             ],
             [
              0.4444444444444444,
              "#bd3786"
             ],
             [
              0.5555555555555556,
              "#d8576b"
             ],
             [
              0.6666666666666666,
              "#ed7953"
             ],
             [
              0.7777777777777778,
              "#fb9f3a"
             ],
             [
              0.8888888888888888,
              "#fdca26"
             ],
             [
              1,
              "#f0f921"
             ]
            ],
            "type": "surface"
           }
          ],
          "table": [
           {
            "cells": {
             "fill": {
              "color": "#EBF0F8"
             },
             "line": {
              "color": "white"
             }
            },
            "header": {
             "fill": {
              "color": "#C8D4E3"
             },
             "line": {
              "color": "white"
             }
            },
            "type": "table"
           }
          ]
         },
         "layout": {
          "annotationdefaults": {
           "arrowcolor": "#2a3f5f",
           "arrowhead": 0,
           "arrowwidth": 1
          },
          "autotypenumbers": "strict",
          "coloraxis": {
           "colorbar": {
            "outlinewidth": 0,
            "ticks": ""
           }
          },
          "colorscale": {
           "diverging": [
            [
             0,
             "#8e0152"
            ],
            [
             0.1,
             "#c51b7d"
            ],
            [
             0.2,
             "#de77ae"
            ],
            [
             0.3,
             "#f1b6da"
            ],
            [
             0.4,
             "#fde0ef"
            ],
            [
             0.5,
             "#f7f7f7"
            ],
            [
             0.6,
             "#e6f5d0"
            ],
            [
             0.7,
             "#b8e186"
            ],
            [
             0.8,
             "#7fbc41"
            ],
            [
             0.9,
             "#4d9221"
            ],
            [
             1,
             "#276419"
            ]
           ],
           "sequential": [
            [
             0,
             "#0d0887"
            ],
            [
             0.1111111111111111,
             "#46039f"
            ],
            [
             0.2222222222222222,
             "#7201a8"
            ],
            [
             0.3333333333333333,
             "#9c179e"
            ],
            [
             0.4444444444444444,
             "#bd3786"
            ],
            [
             0.5555555555555556,
             "#d8576b"
            ],
            [
             0.6666666666666666,
             "#ed7953"
            ],
            [
             0.7777777777777778,
             "#fb9f3a"
            ],
            [
             0.8888888888888888,
             "#fdca26"
            ],
            [
             1,
             "#f0f921"
            ]
           ],
           "sequentialminus": [
            [
             0,
             "#0d0887"
            ],
            [
             0.1111111111111111,
             "#46039f"
            ],
            [
             0.2222222222222222,
             "#7201a8"
            ],
            [
             0.3333333333333333,
             "#9c179e"
            ],
            [
             0.4444444444444444,
             "#bd3786"
            ],
            [
             0.5555555555555556,
             "#d8576b"
            ],
            [
             0.6666666666666666,
             "#ed7953"
            ],
            [
             0.7777777777777778,
             "#fb9f3a"
            ],
            [
             0.8888888888888888,
             "#fdca26"
            ],
            [
             1,
             "#f0f921"
            ]
           ]
          },
          "colorway": [
           "#636efa",
           "#EF553B",
           "#00cc96",
           "#ab63fa",
           "#FFA15A",
           "#19d3f3",
           "#FF6692",
           "#B6E880",
           "#FF97FF",
           "#FECB52"
          ],
          "font": {
           "color": "#2a3f5f"
          },
          "geo": {
           "bgcolor": "white",
           "lakecolor": "white",
           "landcolor": "#E5ECF6",
           "showlakes": true,
           "showland": true,
           "subunitcolor": "white"
          },
          "hoverlabel": {
           "align": "left"
          },
          "hovermode": "closest",
          "mapbox": {
           "style": "light"
          },
          "paper_bgcolor": "white",
          "plot_bgcolor": "#E5ECF6",
          "polar": {
           "angularaxis": {
            "gridcolor": "white",
            "linecolor": "white",
            "ticks": ""
           },
           "bgcolor": "#E5ECF6",
           "radialaxis": {
            "gridcolor": "white",
            "linecolor": "white",
            "ticks": ""
           }
          },
          "scene": {
           "xaxis": {
            "backgroundcolor": "#E5ECF6",
            "gridcolor": "white",
            "gridwidth": 2,
            "linecolor": "white",
            "showbackground": true,
            "ticks": "",
            "zerolinecolor": "white"
           },
           "yaxis": {
            "backgroundcolor": "#E5ECF6",
            "gridcolor": "white",
            "gridwidth": 2,
            "linecolor": "white",
            "showbackground": true,
            "ticks": "",
            "zerolinecolor": "white"
           },
           "zaxis": {
            "backgroundcolor": "#E5ECF6",
            "gridcolor": "white",
            "gridwidth": 2,
            "linecolor": "white",
            "showbackground": true,
            "ticks": "",
            "zerolinecolor": "white"
           }
          },
          "shapedefaults": {
           "line": {
            "color": "#2a3f5f"
           }
          },
          "ternary": {
           "aaxis": {
            "gridcolor": "white",
            "linecolor": "white",
            "ticks": ""
           },
           "baxis": {
            "gridcolor": "white",
            "linecolor": "white",
            "ticks": ""
           },
           "bgcolor": "#E5ECF6",
           "caxis": {
            "gridcolor": "white",
            "linecolor": "white",
            "ticks": ""
           }
          },
          "title": {
           "x": 0.05
          },
          "xaxis": {
           "automargin": true,
           "gridcolor": "white",
           "linecolor": "white",
           "ticks": "",
           "title": {
            "standoff": 15
           },
           "zerolinecolor": "white",
           "zerolinewidth": 2
          },
          "yaxis": {
           "automargin": true,
           "gridcolor": "white",
           "linecolor": "white",
           "ticks": "",
           "title": {
            "standoff": 15
           },
           "zerolinecolor": "white",
           "zerolinewidth": 2
          }
         }
        },
        "title": {
         "text": "Cumulative PnL Over Time"
        },
        "xaxis": {
         "title": {
          "text": "Date"
         }
        },
        "yaxis": {
         "title": {
          "text": "Cumulative PnL"
         }
        }
       }
      }
     },
     "metadata": {},
     "output_type": "display_data"
    }
   ],
   "source": [
    "# Create cumulative PnL column\n",
    "df[\"cumulative_pnl\"] = df[\"pnl\"].cumsum()\n",
    "\n",
    "# Trade summary metrics\n",
    "total_trades = df[\"trade_exit\"].sum()\n",
    "total_pnl = df[\"pnl\"].sum()\n",
    "winning_trades = df[df[\"pnl\"] > 0][\"pnl\"].count()\n",
    "losing_trades = df[df[\"pnl\"] < 0][\"pnl\"].count()\n",
    "avg_return = df[\"pnl\"][df[\"pnl\"] != 0].mean()\n",
    "win_rate = winning_trades / total_trades if total_trades > 0 else np.nan\n",
    "entry_dates = df.loc[df[\"trade_entry\"], \"timestamp\"].reset_index(drop=True)\n",
    "exit_dates = df.loc[df[\"trade_exit\"], \"timestamp\"].reset_index(drop=True)\n",
    "holding_durations = [(exit_date - entry_date).days for entry_date, exit_date in zip(entry_dates, exit_dates)]\n",
    "avg_holding_period = np.mean(holding_durations) if holding_durations else np.nan\n",
    "\n",
    "\n",
    "# Summary dictionary\n",
    "summary = {\n",
    "    \"Total Trades\": total_trades,\n",
    "    \"Total PnL\": round(total_pnl, 4),\n",
    "    \"Winning Trades\": winning_trades,\n",
    "    \"Losing Trades\": losing_trades,\n",
    "    \"Win Rate (%)\": round(win_rate * 100, 2) if not np.isnan(win_rate) else \"N/A\",\n",
    "    \"Average Trade Return\": round(avg_return, 4) if not np.isnan(avg_return) else \"N/A\",\n",
    "    \"Average Holding Period (days)\": round(avg_holding_period, 2) if not np.isnan(avg_holding_period) else \"N/A\",\n",
    "}\n",
    "\n",
    "# Plot cumulative PnL with Plotly\n",
    "fig = go.Figure()\n",
    "fig.add_trace(go.Scatter(x=ledger_df.index, y=ledger_df[\"cumulative_pnl\"], mode=\"lines\", name=\"Cumulative PnL\"))\n",
    "fig.update_layout(title=\"Cumulative PnL Over Time\", xaxis_title=\"Date\", yaxis_title=\"Cumulative PnL\")\n",
    "fig.show()\n",
    "fig.write_html(\"html_plot/cumulative_pnl.html\")"
   ]
  },
  {
   "cell_type": "code",
   "execution_count": 14,
   "id": "5cf31955",
   "metadata": {},
   "outputs": [
    {
     "data": {
      "text/html": [
       "<div>\n",
       "<style scoped>\n",
       "    .dataframe tbody tr th:only-of-type {\n",
       "        vertical-align: middle;\n",
       "    }\n",
       "\n",
       "    .dataframe tbody tr th {\n",
       "        vertical-align: top;\n",
       "    }\n",
       "\n",
       "    .dataframe thead th {\n",
       "        text-align: right;\n",
       "    }\n",
       "</style>\n",
       "<table border=\"1\" class=\"dataframe\">\n",
       "  <thead>\n",
       "    <tr style=\"text-align: right;\">\n",
       "      <th></th>\n",
       "      <th>timestamp</th>\n",
       "      <th>close_RIVN</th>\n",
       "      <th>close_TSLA</th>\n",
       "      <th>log_close_TSLA</th>\n",
       "      <th>log_close_RIVN</th>\n",
       "      <th>hedge_ratio</th>\n",
       "      <th>spread</th>\n",
       "      <th>z_score</th>\n",
       "      <th>adf_stat</th>\n",
       "      <th>p_value</th>\n",
       "      <th>position</th>\n",
       "      <th>trade_entry</th>\n",
       "      <th>trade_exit</th>\n",
       "      <th>pnl</th>\n",
       "      <th>cumulative_pnl</th>\n",
       "    </tr>\n",
       "  </thead>\n",
       "  <tbody>\n",
       "    <tr>\n",
       "      <th>60</th>\n",
       "      <td>2022-09-07</td>\n",
       "      <td>33.25</td>\n",
       "      <td>283.70</td>\n",
       "      <td>5.647917</td>\n",
       "      <td>3.504055</td>\n",
       "      <td>1.136397</td>\n",
       "      <td>-2.914224</td>\n",
       "      <td>-1.467068</td>\n",
       "      <td>-2.822955</td>\n",
       "      <td>0.055069</td>\n",
       "      <td>0</td>\n",
       "      <td>False</td>\n",
       "      <td>False</td>\n",
       "      <td>0.0</td>\n",
       "      <td>0.000000</td>\n",
       "    </tr>\n",
       "    <tr>\n",
       "      <th>61</th>\n",
       "      <td>2022-09-08</td>\n",
       "      <td>36.88</td>\n",
       "      <td>289.26</td>\n",
       "      <td>5.667326</td>\n",
       "      <td>3.607669</td>\n",
       "      <td>1.094585</td>\n",
       "      <td>-2.595703</td>\n",
       "      <td>-1.117577</td>\n",
       "      <td>-2.793230</td>\n",
       "      <td>0.059247</td>\n",
       "      <td>0</td>\n",
       "      <td>False</td>\n",
       "      <td>False</td>\n",
       "      <td>0.0</td>\n",
       "      <td>0.000000</td>\n",
       "    </tr>\n",
       "    <tr>\n",
       "      <th>62</th>\n",
       "      <td>2022-09-09</td>\n",
       "      <td>37.55</td>\n",
       "      <td>299.68</td>\n",
       "      <td>5.702715</td>\n",
       "      <td>3.625673</td>\n",
       "      <td>1.214359</td>\n",
       "      <td>-3.299473</td>\n",
       "      <td>-1.426614</td>\n",
       "      <td>-2.774224</td>\n",
       "      <td>0.062051</td>\n",
       "      <td>0</td>\n",
       "      <td>False</td>\n",
       "      <td>False</td>\n",
       "      <td>0.0</td>\n",
       "      <td>0.000000</td>\n",
       "    </tr>\n",
       "    <tr>\n",
       "      <th>63</th>\n",
       "      <td>2022-09-12</td>\n",
       "      <td>38.74</td>\n",
       "      <td>304.42</td>\n",
       "      <td>5.718408</td>\n",
       "      <td>3.656873</td>\n",
       "      <td>1.224588</td>\n",
       "      <td>-3.345824</td>\n",
       "      <td>-1.302861</td>\n",
       "      <td>-2.617943</td>\n",
       "      <td>0.089345</td>\n",
       "      <td>0</td>\n",
       "      <td>False</td>\n",
       "      <td>False</td>\n",
       "      <td>0.0</td>\n",
       "      <td>0.000000</td>\n",
       "    </tr>\n",
       "    <tr>\n",
       "      <th>64</th>\n",
       "      <td>2022-09-13</td>\n",
       "      <td>38.76</td>\n",
       "      <td>292.13</td>\n",
       "      <td>5.677199</td>\n",
       "      <td>3.657389</td>\n",
       "      <td>1.228464</td>\n",
       "      <td>-3.316846</td>\n",
       "      <td>-1.159201</td>\n",
       "      <td>-2.653474</td>\n",
       "      <td>0.082441</td>\n",
       "      <td>0</td>\n",
       "      <td>False</td>\n",
       "      <td>False</td>\n",
       "      <td>0.0</td>\n",
       "      <td>0.000000</td>\n",
       "    </tr>\n",
       "    <tr>\n",
       "      <th>...</th>\n",
       "      <td>...</td>\n",
       "      <td>...</td>\n",
       "      <td>...</td>\n",
       "      <td>...</td>\n",
       "      <td>...</td>\n",
       "      <td>...</td>\n",
       "      <td>...</td>\n",
       "      <td>...</td>\n",
       "      <td>...</td>\n",
       "      <td>...</td>\n",
       "      <td>...</td>\n",
       "      <td>...</td>\n",
       "      <td>...</td>\n",
       "      <td>...</td>\n",
       "      <td>...</td>\n",
       "    </tr>\n",
       "    <tr>\n",
       "      <th>709</th>\n",
       "      <td>2025-04-09</td>\n",
       "      <td>11.77</td>\n",
       "      <td>272.20</td>\n",
       "      <td>5.606537</td>\n",
       "      <td>2.465554</td>\n",
       "      <td>0.652059</td>\n",
       "      <td>-1.190237</td>\n",
       "      <td>-0.995133</td>\n",
       "      <td>-2.315998</td>\n",
       "      <td>0.166860</td>\n",
       "      <td>0</td>\n",
       "      <td>False</td>\n",
       "      <td>False</td>\n",
       "      <td>0.0</td>\n",
       "      <td>19.176221</td>\n",
       "    </tr>\n",
       "    <tr>\n",
       "      <th>710</th>\n",
       "      <td>2025-04-10</td>\n",
       "      <td>11.46</td>\n",
       "      <td>252.40</td>\n",
       "      <td>5.531015</td>\n",
       "      <td>2.438863</td>\n",
       "      <td>0.623627</td>\n",
       "      <td>-1.010428</td>\n",
       "      <td>-0.777499</td>\n",
       "      <td>-2.395515</td>\n",
       "      <td>0.143006</td>\n",
       "      <td>0</td>\n",
       "      <td>False</td>\n",
       "      <td>False</td>\n",
       "      <td>0.0</td>\n",
       "      <td>19.176221</td>\n",
       "    </tr>\n",
       "    <tr>\n",
       "      <th>711</th>\n",
       "      <td>2025-04-11</td>\n",
       "      <td>11.47</td>\n",
       "      <td>252.31</td>\n",
       "      <td>5.530658</td>\n",
       "      <td>2.439735</td>\n",
       "      <td>0.612836</td>\n",
       "      <td>-0.949651</td>\n",
       "      <td>-0.702230</td>\n",
       "      <td>-2.686553</td>\n",
       "      <td>0.076394</td>\n",
       "      <td>0</td>\n",
       "      <td>False</td>\n",
       "      <td>False</td>\n",
       "      <td>0.0</td>\n",
       "      <td>19.176221</td>\n",
       "    </tr>\n",
       "    <tr>\n",
       "      <th>712</th>\n",
       "      <td>2025-04-14</td>\n",
       "      <td>12.03</td>\n",
       "      <td>252.35</td>\n",
       "      <td>5.530817</td>\n",
       "      <td>2.487404</td>\n",
       "      <td>0.594488</td>\n",
       "      <td>-0.800603</td>\n",
       "      <td>-0.523876</td>\n",
       "      <td>-2.885937</td>\n",
       "      <td>0.047008</td>\n",
       "      <td>0</td>\n",
       "      <td>False</td>\n",
       "      <td>False</td>\n",
       "      <td>0.0</td>\n",
       "      <td>19.176221</td>\n",
       "    </tr>\n",
       "    <tr>\n",
       "      <th>713</th>\n",
       "      <td>2025-04-15</td>\n",
       "      <td>11.95</td>\n",
       "      <td>254.89</td>\n",
       "      <td>5.540832</td>\n",
       "      <td>2.480731</td>\n",
       "      <td>0.621716</td>\n",
       "      <td>-0.964091</td>\n",
       "      <td>-0.644570</td>\n",
       "      <td>-2.626468</td>\n",
       "      <td>0.087649</td>\n",
       "      <td>0</td>\n",
       "      <td>False</td>\n",
       "      <td>False</td>\n",
       "      <td>0.0</td>\n",
       "      <td>19.176221</td>\n",
       "    </tr>\n",
       "  </tbody>\n",
       "</table>\n",
       "<p>654 rows × 15 columns</p>\n",
       "</div>"
      ],
      "text/plain": [
       "      timestamp  close_RIVN  close_TSLA  log_close_TSLA  log_close_RIVN  \\\n",
       "60   2022-09-07       33.25      283.70        5.647917        3.504055   \n",
       "61   2022-09-08       36.88      289.26        5.667326        3.607669   \n",
       "62   2022-09-09       37.55      299.68        5.702715        3.625673   \n",
       "63   2022-09-12       38.74      304.42        5.718408        3.656873   \n",
       "64   2022-09-13       38.76      292.13        5.677199        3.657389   \n",
       "..          ...         ...         ...             ...             ...   \n",
       "709  2025-04-09       11.77      272.20        5.606537        2.465554   \n",
       "710  2025-04-10       11.46      252.40        5.531015        2.438863   \n",
       "711  2025-04-11       11.47      252.31        5.530658        2.439735   \n",
       "712  2025-04-14       12.03      252.35        5.530817        2.487404   \n",
       "713  2025-04-15       11.95      254.89        5.540832        2.480731   \n",
       "\n",
       "     hedge_ratio    spread   z_score  adf_stat   p_value  position  \\\n",
       "60      1.136397 -2.914224 -1.467068 -2.822955  0.055069         0   \n",
       "61      1.094585 -2.595703 -1.117577 -2.793230  0.059247         0   \n",
       "62      1.214359 -3.299473 -1.426614 -2.774224  0.062051         0   \n",
       "63      1.224588 -3.345824 -1.302861 -2.617943  0.089345         0   \n",
       "64      1.228464 -3.316846 -1.159201 -2.653474  0.082441         0   \n",
       "..           ...       ...       ...       ...       ...       ...   \n",
       "709     0.652059 -1.190237 -0.995133 -2.315998  0.166860         0   \n",
       "710     0.623627 -1.010428 -0.777499 -2.395515  0.143006         0   \n",
       "711     0.612836 -0.949651 -0.702230 -2.686553  0.076394         0   \n",
       "712     0.594488 -0.800603 -0.523876 -2.885937  0.047008         0   \n",
       "713     0.621716 -0.964091 -0.644570 -2.626468  0.087649         0   \n",
       "\n",
       "     trade_entry  trade_exit  pnl  cumulative_pnl  \n",
       "60         False       False  0.0        0.000000  \n",
       "61         False       False  0.0        0.000000  \n",
       "62         False       False  0.0        0.000000  \n",
       "63         False       False  0.0        0.000000  \n",
       "64         False       False  0.0        0.000000  \n",
       "..           ...         ...  ...             ...  \n",
       "709        False       False  0.0       19.176221  \n",
       "710        False       False  0.0       19.176221  \n",
       "711        False       False  0.0       19.176221  \n",
       "712        False       False  0.0       19.176221  \n",
       "713        False       False  0.0       19.176221  \n",
       "\n",
       "[654 rows x 15 columns]"
      ]
     },
     "execution_count": 14,
     "metadata": {},
     "output_type": "execute_result"
    }
   ],
   "source": [
    "df"
   ]
  },
  {
   "cell_type": "code",
   "execution_count": 10,
   "id": "35760a38",
   "metadata": {},
   "outputs": [
    {
     "name": "stdout",
     "output_type": "stream",
     "text": [
      "{'Average Holding Period (days)': np.float64(9.69),\n",
      " 'Average Trade Return': np.float64(0.5479),\n",
      " 'Losing Trades': np.int64(16),\n",
      " 'Total PnL': np.float64(19.1762),\n",
      " 'Total Trades': np.int64(35),\n",
      " 'Win Rate (%)': np.float64(54.29),\n",
      " 'Winning Trades': np.int64(19)}\n"
     ]
    }
   ],
   "source": [
    "import pprint\n",
    "pprint.pprint(summary)"
   ]
  },
  {
   "cell_type": "code",
   "execution_count": 11,
   "id": "f67f0be6",
   "metadata": {},
   "outputs": [],
   "source": [
    "trade_df.to_html('blotter.html')"
   ]
  },
  {
   "cell_type": "code",
   "execution_count": null,
   "id": "8bd5b261",
   "metadata": {},
   "outputs": [
    {
     "data": {
      "text/plain": [
       "'<table id=\"itables_817ad8db_4e43_4548_b32c_756cf7ab14c5\" class=\"display nowrap\" data-quarto-disable-processing=\"true\" style=\"table-layout:auto;width:auto;margin:auto;caption-side:bottom\">\\n<thead>\\n    <tr style=\"text-align: right;\">\\n      <th></th>\\n      <th>timestamp</th>\\n      <th>close_RIVN</th>\\n      <th>close_TSLA</th>\\n      <th>log_close_TSLA</th>\\n      <th>log_close_RIVN</th>\\n      <th>hedge_ratio</th>\\n      <th>spread</th>\\n      <th>z_score</th>\\n      <th>adf_stat</th>\\n      <th>p_value</th>\\n      <th>position</th>\\n      <th>trade_entry</th>\\n      <th>trade_exit</th>\\n      <th>pnl</th>\\n      <th>cumulative_pnl</th>\\n    </tr>\\n  </thead><tbody><tr>\\n<td style=\"vertical-align:middle; text-align:left\">\\n\\nLoading ITables v2.3.0 from the internet...\\n(need <a href=https://mwouts.github.io/itables/troubleshooting.html>help</a>?)</td>\\n</tr></tbody>\\n</table>\\n<link href=\"https://www.unpkg.com/dt_for_itables@2.2.0/dt_bundle.css\" rel=\"stylesheet\">\\n<script type=\"module\">\\n    import {DataTable, jQuery as $} from \\'https://www.unpkg.com/dt_for_itables@2.2.0/dt_bundle.js\\';\\n\\n    document.querySelectorAll(\"#itables_817ad8db_4e43_4548_b32c_756cf7ab14c5:not(.dataTable)\").forEach(table => {\\n        if (!(table instanceof HTMLTableElement))\\n            return;\\n\\n        // Define the table data\\n        const data = [[60, \"2022-09-07\", 33.25, 283.7, 5.647917, 3.504055, 1.136397, -2.914224, -1.467068, -2.822955, 0.055069, 0, false, false, 0.0, 0.0], [61, \"2022-09-08\", 36.88, 289.26, 5.667326, 3.607669, 1.094585, -2.595703, -1.117577, -2.79323, 0.059247, 0, false, false, 0.0, 0.0], [62, \"2022-09-09\", 37.55, 299.68, 5.702715, 3.625673, 1.214359, -3.299473, -1.426614, -2.774224, 0.062051, 0, false, false, 0.0, 0.0], [63, \"2022-09-12\", 38.74, 304.42, 5.718408, 3.656873, 1.224588, -3.345824, -1.302861, -2.617943, 0.089345, 0, false, false, 0.0, 0.0], [64, \"2022-09-13\", 38.76, 292.13, 5.677199, 3.657389, 1.228464, -3.316846, -1.159201, -2.653474, 0.082441, 0, false, false, 0.0, 0.0], [65, \"2022-09-14\", 40.1, 302.61, 5.712445, 3.691376, 1.309754, -3.790523, -1.301619, -2.64798, 0.083481, 0, false, false, 0.0, 0.0], [66, \"2022-09-15\", 39.69, 303.75, 5.716205, 3.681099, 1.46123, -4.67159, -1.603399, -2.518768, 0.110974, 0, false, false, 0.0, 0.0], [67, \"2022-09-16\", 39.26, 303.35, 5.714887, 3.670206, 1.606027, -5.508057, -1.776292, -2.34025, 0.159315, 0, false, false, 0.0, 0.0], [68, \"2022-09-19\", 37.94, 309.07, 5.733568, 3.636006, 1.610883, -5.600098, -1.594248, -2.208307, 0.203244, 0, false, false, 0.0, 0.0], [69, \"2022-09-20\", 35.75, 308.73, 5.732467, 3.57655, 1.481604, -4.916699, -1.152601, -2.297599, 0.172743, 0, false, false, 0.0, 0.0], [70, \"2022-09-21\", 35.1, 300.8, 5.706446, 3.558201, 1.493769, -4.965909, -1.061089, -2.521524, 0.110325, 0, false, false, 0.0, 0.0], [71, \"2022-09-22\", 33.33, 288.59, 5.665007, 3.506458, 1.56313, -5.348683, -1.148286, -2.293607, 0.174038, 0, false, false, 0.0, 0.0], [72, \"2022-09-23\", 33.56, 275.33, 5.61797, 3.513335, 1.553768, -5.215686, -1.078889, -2.136551, 0.230073, 0, false, false, 0.0, 0.0], [73, \"2022-09-26\", 33.85, 276.01, 5.620437, 3.521939, 1.495401, -4.882867, -0.861087, -2.216168, 0.20043, 0, false, false, 0.0, 0.0], [74, \"2022-09-27\", 33.79, 282.94, 5.645235, 3.520165, 1.474344, -4.802853, -0.756225, -2.269745, 0.181912, 0, false, false, 0.0, 0.0], [75, \"2022-09-28\", 35.08, 287.81, 5.662301, 3.557631, 1.425994, -4.516777, -0.461828, -2.214295, 0.201098, 0, false, false, 0.0, 0.0], [76, \"2022-09-29\", 32.31, 268.21, 5.59177, 3.475377, 1.383335, -4.259913, -0.161593, -2.240357, 0.191926, 0, false, false, 0.0, 0.0], [77, \"2022-09-30\", 32.91, 265.25, 5.580673, 3.493777, 1.260365, -3.539908, 0.562877, -2.237171, 0.193032, 0, false, false, 0.0, 0.0], [78, \"2022-10-03\", 31.89, 242.4, 5.490589, 3.462292, 0.980943, -1.923662, 1.948478, -2.326529, 0.163554, 0, false, false, 0.0, 0.0], [79, \"2022-10-04\", 36.3, 249.44, 5.519218, 3.591818, 0.728046, -0.426425, 2.666015, -2.422356, 0.135526, -1, true, false, 0.0, 0.0], [80, \"2022-10-05\", 36.13, 240.81, 5.484008, 3.587124, 0.538343, 0.634846, 2.649043, -2.462698, 0.124816, -1, false, false, 0.0, 0.0], [81, \"2022-10-06\", 36.76, 238.13, 5.472817, 3.60441, 0.40064, 1.411781, 2.470632, -2.451898, 0.127621, -1, false, false, 0.0, 0.0], [82, \"2022-10-07\", 33.95, 223.07, 5.407486, 3.524889, 0.349401, 1.635511, 2.129493, -2.41531, 0.137462, -1, false, false, 0.0, 0.0], [83, \"2022-10-10\", 31.48, 222.96, 5.406992, 3.449352, 0.36927, 1.452711, 1.771916, -2.840601, 0.052704, -1, false, false, 0.0, 0.0], [84, \"2022-10-11\", 32.33, 216.5, 5.377591, 3.475996, 0.350315, 1.592144, 1.603177, -3.18816, 0.02068, -1, false, false, 0.0, 0.0], [85, \"2022-10-12\", 32.35, 217.24, 5.381003, 3.476614, 0.309131, 1.813181, 1.486376, -2.97903, 0.0369, -1, false, false, 0.0, 0.0], [86, \"2022-10-13\", 32.5, 221.72, 5.401415, 3.48124, 0.265151, 2.049052, 1.391384, -1.872304, 0.3452, -1, false, false, 0.0, 0.0], [87, \"2022-10-14\", 28.71, 204.99, 5.322961, 3.357245, 0.290718, 1.809764, 1.185194, -1.871049, 0.345801, -1, false, false, 0.0, 0.0], [88, \"2022-10-17\", 30.7, 219.35, 5.390669, 3.424263, 0.270447, 1.96637, 1.119193, -2.143495, 0.227388, -1, false, false, 0.0, 0.0], [89, \"2022-10-18\", 31.64, 220.19, 5.394491, 3.454422, 0.267991, 2.008746, 1.025749, -2.050023, 0.265079, 0, false, true, -2.435171, -2.435171], [90, \"2022-10-19\", 31.5, 222.04, 5.402858, 3.449988, 0.274309, 1.967937, 0.918368, -1.940805, 0.313115, 0, false, false, 0.0, -2.435171], [91, \"2022-10-20\", 30.73, 207.28, 5.334071, 3.425239, 0.322908, 1.702823, 0.751605, -1.925498, 0.320163, 0, false, false, 0.0, -2.435171], [92, \"2022-10-21\", 31.92, 214.44, 5.36803, 3.463233, 0.338591, 1.645665, 0.656747, -1.966374, 0.301509, 0, false, false, 0.0, -2.435171], [93, \"2022-10-24\", 31.34, 211.25, 5.353042, 3.444895, 0.360692, 1.514094, 0.533789, -1.900534, 0.33181, 0, false, false, 0.0, -2.435171], [94, \"2022-10-25\", 34.49, 222.41, 5.404523, 3.540669, 0.393626, 1.413311, 0.415797, -1.912522, 0.326194, 0, false, false, 0.0, -2.435171], [95, \"2022-10-26\", 34.44, 224.64, 5.414499, 3.539219, 0.427603, 1.223963, 0.235923, -1.848815, 0.356509, 0, false, false, 0.0, -2.435171], [96, \"2022-10-27\", 34.5, 225.09, 5.4165, 3.540959, 0.614279, 0.213718, -0.549166, -1.860911, 0.350667, 0, false, false, 0.0, -2.435171], [97, \"2022-10-28\", 34.48, 228.52, 5.431624, 3.540379, 0.970209, -1.729432, -2.398444, -2.048493, 0.265723, 1, true, false, 0.0, -2.435171], [98, \"2022-10-31\", 34.97, 227.54, 5.427326, 3.554491, 1.209166, -3.00805, -3.025448, -2.196913, 0.207368, 0, false, true, 1.278617, -1.156553], [99, \"2022-11-01\", 33.48, 227.82, 5.428556, 3.510948, 1.362266, -3.884186, -2.779594, -2.208559, 0.203154, 1, true, false, 0.0, -1.156553], [100, \"2022-11-02\", 31.52, 214.98, 5.370545, 3.450622, 1.431359, -4.236557, -2.363754, -2.201141, 0.205832, 1, false, false, 0.0, -1.156553], [101, \"2022-11-03\", 32.24, 215.31, 5.372079, 3.473208, 1.371143, -3.892678, -1.865336, -2.254608, 0.187026, 1, false, false, 0.0, -1.156553], [102, \"2022-11-04\", 31.99, 207.47, 5.334987, 3.465423, 1.185991, -2.861823, -1.266131, -2.344336, 0.158067, 1, false, false, 0.0, -1.156553], [103, \"2022-11-07\", 31.32, 197.08, 5.28361, 3.444257, 0.932961, -1.485143, -0.621705, -2.506101, 0.113997, 1, false, false, 0.0, -1.156553], [104, \"2022-11-08\", 31.85, 191.3, 5.253843, 3.461037, 0.653401, 0.028173, 0.049145, -2.596018, 0.093823, 0, false, true, -3.91236, -5.068913], [105, \"2022-11-09\", 28.07, 177.59, 5.179478, 3.334701, 0.683539, -0.205673, -0.00768, -2.59494, 0.094048, 0, false, false, 0.0, -5.068913], [106, \"2022-11-10\", 32.96, 190.72, 5.250806, 3.495295, 0.56708, 0.517668, 0.347952, -2.591988, 0.094664, 0, false, false, 0.0, -5.068913], [107, \"2022-11-11\", 34.9, 195.97, 5.277962, 3.552487, 0.43415, 1.261059, 0.698103, -2.414185, 0.137773, 0, false, false, 0.0, -5.068913], [108, \"2022-11-14\", 34.38, 190.95, 5.252012, 3.537475, 0.367907, 1.605224, 0.867907, -2.360942, 0.153065, 0, false, false, 0.0, -5.068913], [109, \"2022-11-15\", 35.15, 194.42, 5.270021, 3.559625, 0.321791, 1.86378, 0.991858, -2.406139, 0.140011, 0, false, false, 0.0, -5.068913], [110, \"2022-11-16\", 33.32, 186.92, 5.230681, 3.506158, 0.311086, 1.878968, 1.002969, -2.592145, 0.094632, 0, false, false, 0.0, -5.068913], [111, \"2022-11-17\", 32.07, 183.17, 5.210415, 3.467921, 0.302413, 1.892226, 1.000325, -2.558293, 0.101927, 0, false, false, 0.0, -5.068913], [112, \"2022-11-18\", 30.34, 180.19, 5.194012, 3.412467, 0.353836, 1.574638, 0.8591, -2.186198, 0.211293, 0, false, false, 0.0, -5.068913], [113, \"2022-11-21\", 28.42, 167.87, 5.12319, 3.347093, 0.447928, 1.052271, 0.637385, -2.198444, 0.206811, 0, false, false, 0.0, -5.068913], [114, \"2022-11-22\", 28.94, 169.91, 5.135269, 3.365225, 0.478866, 0.906118, 0.587035, -2.204293, 0.204691, 0, false, false, 0.0, -5.068913], [115, \"2022-11-23\", 29.71, 183.2, 5.210578, 3.391484, 0.49527, 0.810842, 0.55616, -2.196516, 0.207513, 0, false, false, 0.0, -5.068913], [116, \"2022-11-25\", 29.53, 182.86, 5.208721, 3.385407, 0.510104, 0.728415, 0.503373, -2.260993, 0.184857, 0, false, false, 0.0, -5.068913], [117, \"2022-11-28\", 28.64, 182.92, 5.209049, 3.354804, 0.541856, 0.53225, 0.362996, -2.22963, 0.195668, 0, false, false, 0.0, -5.068913], [118, \"2022-11-29\", 28.85, 180.83, 5.197557, 3.36211, 0.550533, 0.500682, 0.279016, -2.218633, 0.199552, 0, false, false, 0.0, -5.068913], [119, \"2022-11-30\", 32.04, 194.7, 5.27146, 3.466985, 0.623365, 0.180942, 0.02628, -2.354618, 0.154957, 0, false, false, 0.0, -5.068913], [120, \"2022-12-01\", 31.48, 194.7, 5.27146, 3.449352, 0.756296, -0.53743, -0.555252, -2.320978, 0.165291, 0, false, false, 0.0, -5.068913], [121, \"2022-12-02\", 31.36, 194.86, 5.272281, 3.445533, 0.931201, -1.46402, -1.509421, -2.681352, 0.077321, 0, false, false, 0.0, -5.068913], [122, \"2022-12-05\", 29.53, 182.45, 5.206476, 3.385407, 1.137106, -2.534908, -2.456937, -2.615501, 0.089836, 1, true, false, 0.0, -5.068913], [123, \"2022-12-06\", 27.89, 179.82, 5.191956, 3.328268, 1.286726, -3.352358, -2.602494, -2.589299, 0.095229, 1, false, false, 0.0, -5.068913], [124, \"2022-12-07\", 27.94, 174.04, 5.159285, 3.330059, 1.32781, -3.520493, -2.217629, -2.7948, 0.05902, 1, false, false, 0.0, -5.068913], [125, \"2022-12-08\", 28.58, 173.44, 5.155832, 3.352707, 1.281524, -3.254617, -1.787379, -3.144649, 0.023421, 1, false, false, 0.0, -5.068913], [126, \"2022-12-09\", 27.29, 179.05, 5.187665, 3.30652, 1.306782, -3.472625, -1.658102, -3.394328, 0.011154, 1, false, false, 0.0, -5.068913], [127, \"2022-12-12\", 25.61, 167.82, 5.122892, 3.242983, 1.32531, -3.546436, -1.495231, -2.992899, 0.035563, 1, false, false, 0.0, -5.068913], [128, \"2022-12-13\", 24.96, 160.95, 5.081094, 3.217275, 1.290361, -3.33917, -1.254103, -2.66939, 0.079487, 1, false, false, 0.0, -5.068913], [129, \"2022-12-14\", 24.54, 156.8, 5.054971, 3.200304, 1.193708, -2.833855, -0.922689, -3.235067, 0.018043, 1, false, false, 0.0, -5.068913], [130, \"2022-12-15\", 23.97, 157.67, 5.060504, 3.176803, 1.1946, -2.868476, -0.85145, -3.698377, 0.004136, 1, false, false, 0.0, -5.068913], [131, \"2022-12-16\", 22.48, 150.23, 5.012167, 3.112626, 1.222477, -3.014635, -0.839448, -3.316618, 0.014152, 1, false, false, 0.0, -5.068913], [132, \"2022-12-19\", 22.03, 149.87, 5.009768, 3.092405, 1.265085, -3.245379, -0.873154, -3.204424, 0.01973, 0, false, true, 0.710471, -4.358442], [133, \"2022-12-20\", 21.4, 137.8, 4.925803, 3.063391, 1.224327, -2.967405, -0.647237, -3.375062, 0.011839, 0, false, false, 0.0, -4.358442], [134, \"2022-12-21\", 21.03, 137.57, 4.924133, 3.04595, 1.208007, -2.902439, -0.535646, -3.467723, 0.008856, 0, false, false, 0.0, -4.358442], [135, \"2022-12-22\", 19.73, 125.35, 4.83111, 2.98214, 1.140792, -2.529149, -0.231738, -3.446467, 0.009473, 0, false, false, 0.0, -4.358442], [136, \"2022-12-23\", 19.14, 123.15, 4.813403, 2.95178, 1.110601, -2.393989, -0.047638, -3.322194, 0.013915, 0, false, false, 0.0, -4.358442], [137, \"2022-12-27\", 17.74, 109.1, 4.692265, 2.875822, 1.052994, -2.065103, 0.324765, -2.863922, 0.049707, 0, false, false, 0.0, -4.358442], [138, \"2022-12-28\", 17.74, 112.71, 4.724818, 2.875822, 1.038744, -2.032055, 0.553777, -2.825735, 0.054691, 0, false, false, 0.0, -4.358442], [139, \"2022-12-29\", 18.73, 121.82, 4.802545, 2.930127, 1.026008, -1.997322, 0.899665, -2.74539, 0.066508, 0, false, false, 0.0, -4.358442], [140, \"2022-12-30\", 18.43, 123.18, 4.813647, 2.91398, 1.025061, -2.020303, 1.224903, -2.751715, 0.065509, 0, false, false, 0.0, -4.358442], [141, \"2023-01-03\", 17.34, 108.1, 4.683057, 2.853016, 0.992743, -1.796054, 1.714448, -2.678562, 0.077822, 0, false, false, 0.0, -4.358442], [142, \"2023-01-04\", 17.71, 113.64, 4.733036, 2.874129, 0.974569, -1.738539, 1.621479, -2.638998, 0.085202, 0, false, false, 0.0, -4.358442], [143, \"2023-01-05\", 16.56, 110.34, 4.703567, 2.80699, 0.987513, -1.837844, 1.309448, -2.76592, 0.063309, 0, false, false, 0.0, -4.358442], [144, \"2023-01-06\", 16.4, 113.06, 4.727919, 2.797281, 0.991658, -1.891199, 1.115628, -2.830569, 0.054038, 0, false, false, 0.0, -4.358442], [145, \"2023-01-09\", 16.62, 119.77, 4.785573, 2.810607, 0.975472, -1.857588, 1.058289, -2.925001, 0.042517, 0, false, false, 0.0, -4.358442], [146, \"2023-01-10\", 16.45, 118.85, 4.777862, 2.800325, 0.993708, -1.947475, 0.832479, -2.803976, 0.057708, 0, false, false, 0.0, -4.358442], [147, \"2023-01-11\", 17.08, 123.22, 4.813971, 2.837908, 0.999614, -1.974206, 0.718213, -3.05022, 0.030463, 0, false, false, 0.0, -4.358442], [148, \"2023-01-12\", 17.58, 123.56, 4.816727, 2.866762, 0.98282, -1.867213, 0.844481, -3.092447, 0.027117, 0, false, false, 0.0, -4.358442], [149, \"2023-01-13\", 16.45, 122.4, 4.807294, 2.800325, 0.949295, -1.763217, 0.95336, -3.153668, 0.022828, 0, false, false, 0.0, -4.358442], [150, \"2023-01-17\", 16.93, 131.49, 4.878931, 2.829087, 0.855234, -1.343542, 1.599546, -3.100588, 0.02651, 0, false, false, 0.0, -4.358442], [151, \"2023-01-18\", 16.5, 128.78, 4.858106, 2.80336, 0.745972, -0.820653, 2.231833, -3.299177, 0.014915, -1, true, false, 0.0, -4.358442], [152, \"2023-01-19\", 15.79, 127.17, 4.845525, 2.759377, 0.55482, 0.070983, 2.961558, -3.329634, 0.013605, -1, false, false, 0.0, -4.358442], [153, \"2023-01-20\", 16.23, 133.42, 4.893502, 2.786861, 0.225965, 1.681099, 3.356314, -3.316644, 0.014151, 0, false, true, -2.501752, -6.860194], [154, \"2023-01-23\", 18.1, 143.75, 4.968076, 2.895912, 0.02598, 2.766843, 3.043006, -2.920013, 0.04307, -1, true, false, 0.0, -6.860194], [155, \"2023-01-24\", 18.05, 143.89, 4.969049, 2.893146, 0.046331, 2.662927, 2.357259, -2.636002, 0.085782, -1, false, false, 0.0, -6.860194], [156, \"2023-01-25\", 18.69, 144.43, 4.972795, 2.927989, 0.120556, 2.328491, 1.837084, -2.760763, 0.064101, -1, false, false, 0.0, -6.860194], [157, \"2023-01-26\", 18.31, 160.27, 5.07686, 2.907447, 0.185474, 1.965824, 1.442233, -2.885383, 0.047074, -1, false, false, 0.0, -6.860194], [158, \"2023-01-27\", 19.83, 177.9, 5.181222, 2.987196, 0.285899, 1.505889, 1.074911, -2.925083, 0.042508, -1, false, false, 0.0, -6.860194], [159, \"2023-01-30\", 18.04, 166.66, 5.115956, 2.892592, 0.278838, 1.466066, 0.953334, -2.958254, 0.038981, -1, false, false, 0.0, -6.860194], [160, \"2023-01-31\", 19.4, 173.22, 5.154562, 2.965273, 0.313163, 1.351053, 0.806029, -2.526934, 0.109058, -1, false, false, 0.0, -6.860194], [161, \"2023-02-01\", 19.71, 181.41, 5.20076, 2.981126, 0.3607, 1.105214, 0.603484, -2.205592, 0.204222, -1, false, false, 0.0, -6.860194], [162, \"2023-02-02\", 20.88, 188.27, 5.237877, 3.038792, 0.424853, 0.813464, 0.383887, -2.004335, 0.284676, 0, false, true, 1.95338, -4.906815], [163, \"2023-02-03\", 19.9, 189.98, 5.246919, 2.99072, 0.43789, 0.693145, 0.255098, -1.907568, 0.328509, 0, false, false, 0.0, -4.906815], [164, \"2023-02-06\", 20.22, 194.76, 5.271768, 3.006672, 0.445793, 0.656553, 0.168278, -2.140373, 0.228593, 0, false, false, 0.0, -4.906815], [165, \"2023-02-07\", 19.91, 196.81, 5.282239, 2.991222, 0.439779, 0.668207, 0.105115, -2.44503, 0.129428, 0, false, false, 0.0, -4.906815], [166, \"2023-02-08\", 20.08, 201.29, 5.304747, 2.999724, 0.433052, 0.702492, 0.046542, -2.484853, 0.119203, 0, false, false, 0.0, -4.906815], [167, \"2023-02-09\", 19.42, 207.32, 5.334263, 2.966303, 0.417279, 0.740425, -0.021316, -2.406655, 0.139867, 0, false, false, 0.0, -4.906815], [168, \"2023-02-10\", 18.85, 196.89, 5.282645, 2.936513, 0.42335, 0.700103, -0.164571, -2.425642, 0.13463, 0, false, false, 0.0, -4.906815], [169, \"2023-02-13\", 18.92, 194.64, 5.271152, 2.94022, 0.410581, 0.775983, -0.242452, -2.369773, 0.15045, 0, false, false, 0.0, -4.906815], [170, \"2023-02-14\", 19.49, 209.25, 5.34353, 2.969902, 0.393089, 0.869421, -0.308075, -2.35762, 0.154057, 0, false, false, 0.0, -4.906815], [171, \"2023-02-15\", 21.15, 214.24, 5.367097, 3.05164, 0.39458, 0.933891, -0.394453, -2.161445, 0.220535, 0, false, false, 0.0, -4.906815], [172, \"2023-02-16\", 20.68, 202.04, 5.308466, 3.029167, 0.351868, 1.161286, -0.170475, -2.007191, 0.283429, 0, false, false, 0.0, -4.906815], [173, \"2023-02-17\", 20.22, 208.31, 5.339027, 3.006672, 0.283008, 1.495684, 0.336248, -2.068719, 0.257277, 0, false, false, 0.0, -4.906815], [174, \"2023-02-21\", 19.08, 197.37, 5.28508, 2.948641, 0.26966, 1.523468, 0.545245, -1.983674, 0.293777, 0, false, false, 0.0, -4.906815], [175, \"2023-02-22\", 19.02, 200.86, 5.302608, 2.945491, 0.242872, 1.657634, 1.03447, -2.082917, 0.251439, 0, false, false, 0.0, -4.906815], [176, \"2023-02-23\", 18.18, 202.07, 5.308614, 2.900322, 0.254772, 1.547836, 1.047204, -1.943452, 0.311904, 0, false, false, 0.0, -4.906815], [177, \"2023-02-24\", 17.32, 196.88, 5.282594, 2.851862, 0.192408, 1.835447, 1.820568, -2.092088, 0.247708, 0, false, false, 0.0, -4.906815], [178, \"2023-02-27\", 18.45, 207.63, 5.335758, 2.915064, 0.186139, 1.921869, 1.840369, -1.739476, 0.410896, 0, false, false, 0.0, -4.906815], [179, \"2023-02-28\", 19.3, 205.71, 5.326467, 2.960105, 0.022134, 2.842207, 2.868173, -1.701205, 0.430492, -1, true, false, 0.0, -4.906815], [180, \"2023-03-01\", 15.76, 202.77, 5.312072, 2.757475, -0.088712, 3.22872, 2.647793, -1.008978, 0.749976, -1, false, false, 0.0, -4.906815], [181, \"2023-03-02\", 15.72, 190.9, 5.25175, 2.754934, 0.399402, 0.657376, -0.825504, -1.151568, 0.694075, -1, false, false, 0.0, -4.906815], [182, \"2023-03-03\", 16.92, 197.79, 5.287206, 2.828496, 0.871194, -1.777685, -2.899764, -2.099605, 0.244674, -1, false, false, 0.0, -4.906815], [183, \"2023-03-06\", 17.13, 193.81, 5.266878, 2.840831, 1.332614, -4.177886, -3.256332, -2.286602, 0.176325, -1, false, false, 0.0, -4.906815], [184, \"2023-03-07\", 14.64, 187.71, 5.234898, 2.683758, 1.986039, -7.712952, -3.304876, -2.073832, 0.255166, -1, false, false, 0.0, -4.906815], [185, \"2023-03-08\", 15.13, 182.0, 5.204007, 2.71668, 2.056692, -7.98636, -2.57688, -1.605246, 0.480958, -1, false, false, 0.0, -4.906815], [186, \"2023-03-09\", 14.53, 172.92, 5.152829, 2.676215, 1.828719, -6.746859, -1.855295, -2.491582, 0.117536, -1, false, false, 0.0, -4.906815], [187, \"2023-03-10\", 14.16, 173.44, 5.155832, 2.650421, 1.805411, -6.657975, -1.600094, -3.21537, 0.019112, -1, false, false, 0.0, -4.906815], [188, \"2023-03-13\", 13.73, 174.48, 5.16181, 2.619583, 1.847872, -6.918783, -1.475948, -2.291946, 0.174579, -1, false, false, 0.0, -4.906815], [189, \"2023-03-14\", 13.21, 183.26, 5.210906, 2.580974, 1.963408, -7.650158, -1.467538, -2.103569, 0.243082, 0, false, true, 10.492364, 5.58555], [190, \"2023-03-15\", 13.03, 180.45, 5.195454, 2.567254, 2.06824, -8.178191, -1.413491, -1.7453, 0.407936, 0, false, false, 0.0, 5.58555], [191, \"2023-03-16\", 13.46, 184.13, 5.215642, 2.599722, 2.094997, -8.327032, -1.293872, -1.673453, 0.44484, 0, false, false, 0.0, 5.58555], [192, \"2023-03-17\", 13.01, 180.13, 5.193679, 2.565718, 2.066786, -8.168505, -1.134494, -1.636068, 0.464316, 0, false, false, 0.0, 5.58555], [193, \"2023-03-20\", 13.02, 183.25, 5.210851, 2.566487, 2.046825, -8.099214, -1.012444, -1.716052, 0.422861, 0, false, false, 0.0, 5.58555], [194, \"2023-03-21\", 13.61, 197.58, 5.286144, 2.610805, 1.834402, -7.086108, -0.715931, -1.589925, 0.488653, 0, false, false, 0.0, 5.58555], [195, \"2023-03-22\", 13.29, 191.15, 5.253058, 2.587012, 1.700677, -6.346742, -0.484532, -1.964003, 0.302576, 0, false, false, 0.0, 5.58555], [196, \"2023-03-23\", 13.71, 192.22, 5.258641, 2.618125, 1.571144, -5.643956, -0.257544, -1.919, 0.323177, 0, false, false, 0.0, 5.58555], [197, \"2023-03-24\", 13.62, 190.41, 5.24918, 2.611539, 1.482404, -5.169864, -0.067916, -1.969308, 0.30019, 0, false, false, 0.0, 5.58555], [198, \"2023-03-27\", 13.31, 191.81, 5.256505, 2.588516, 1.238186, -3.920014, 0.348636, -1.944509, 0.311421, 0, false, false, 0.0, 5.58555], [199, \"2023-03-28\", 12.96, 189.19, 5.242752, 2.561868, 0.748138, -1.360436, 1.239052, -2.119573, 0.236717, 0, false, false, 0.0, 5.58555], [200, \"2023-03-29\", 14.24, 193.88, 5.267239, 2.656055, 0.600669, -0.50781, 1.802827, -2.296743, 0.173021, 0, false, false, 0.0, 5.58555], [201, \"2023-03-30\", 14.4, 195.28, 5.274434, 2.667228, 0.529108, -0.123517, 2.015252, -2.197795, 0.207047, -1, true, false, 0.0, 5.58555], [202, \"2023-03-31\", 15.48, 207.46, 5.334939, 2.739549, 0.42582, 0.467825, 2.037672, -2.205335, 0.204315, -1, false, false, 0.0, 5.58555], [203, \"2023-04-03\", 15.23, 194.77, 5.271819, 2.723267, 0.333561, 0.964793, 1.90527, -2.178372, 0.214189, -1, false, false, 0.0, 5.58555], [204, \"2023-04-04\", 15.38, 192.58, 5.260512, 2.733068, 0.391633, 0.672877, 1.58997, -2.165445, 0.219025, -1, false, false, 0.0, 5.58555], [205, \"2023-04-05\", 14.63, 185.52, 5.223163, 2.683074, 0.44564, 0.355426, 1.3388, -2.221931, 0.198382, -1, false, false, 0.0, 5.58555], [206, \"2023-04-06\", 14.47, 185.06, 5.22068, 2.672078, 0.618258, -0.555649, 0.981397, -2.230376, 0.195406, -1, false, false, 0.0, 5.58555], [207, \"2023-04-10\", 14.81, 184.51, 5.217704, 2.695303, 0.763344, -1.287602, 0.705277, -2.274078, 0.180465, -1, false, false, 0.0, 5.58555], [208, \"2023-04-11\", 14.74, 186.79, 5.229985, 2.690565, 0.892876, -1.979163, 0.452933, -2.278778, 0.178904, 0, false, true, 1.855646, 7.441195], [209, \"2023-04-12\", 14.19, 180.54, 5.195952, 2.652537, 0.742608, -1.20602, 0.595069, -2.275047, 0.180142, 0, false, false, 0.0, 7.441195], [210, \"2023-04-13\", 14.37, 185.9, 5.225209, 2.665143, 0.62645, -0.608187, 0.688494, -2.239453, 0.192239, 0, false, false, 0.0, 7.441195], [211, \"2023-04-14\", 13.38, 185.0, 5.220356, 2.593761, 0.630628, -0.698343, 0.586476, -2.257959, 0.185886, 0, false, false, 0.0, 7.441195], [212, \"2023-04-17\", 13.73, 187.04, 5.231322, 2.619583, 0.516493, -0.082356, 0.714797, -2.35901, 0.153641, 0, false, false, 0.0, 7.441195], [213, \"2023-04-18\", 13.43, 184.31, 5.216619, 2.597491, 0.452773, 0.235548, 0.770467, -2.337955, 0.160019, 0, false, false, 0.0, 7.441195], [214, \"2023-04-19\", 12.82, 180.59, 5.196229, 2.551006, 0.753233, -1.362967, 0.02077, -2.228359, 0.196114, 0, false, false, 0.0, 7.441195], [215, \"2023-04-20\", 12.35, 162.99, 5.093689, 2.513656, 0.853215, -1.832356, -0.356182, -2.225417, 0.19715, 0, false, false, 0.0, 7.441195], [216, \"2023-04-21\", 12.25, 165.08, 5.10643, 2.505526, 0.938269, -2.285678, -0.834847, -2.195234, 0.20798, 0, false, false, 0.0, 7.441195], [217, \"2023-04-24\", 12.36, 162.55, 5.090986, 2.514465, 0.947251, -2.307977, -1.182217, -2.174232, 0.21573, 0, false, false, 0.0, 7.441195], [218, \"2023-04-25\", 12.0, 160.67, 5.079353, 2.484907, 1.009756, -2.643999, -1.713386, -2.246679, 0.189742, 0, false, false, 0.0, 7.441195], [219, \"2023-04-26\", 12.04, 153.75, 5.035328, 2.488234, 0.991183, -2.502698, -1.447565, -2.237515, 0.192913, 0, false, false, 0.0, 7.441195], [220, \"2023-04-27\", 12.67, 160.19, 5.076361, 2.539237, 0.976106, -2.41583, -1.234415, -2.240525, 0.191867, 0, false, false, 0.0, 7.441195], [221, \"2023-04-28\", 12.82, 164.31, 5.101755, 2.551006, 0.986588, -2.482322, -1.161706, -2.236051, 0.193422, 0, false, false, 0.0, 7.441195], [222, \"2023-05-01\", 12.65, 161.83, 5.086546, 2.537657, 1.006014, -2.579481, -1.128254, -2.25674, 0.1863, 0, false, false, 0.0, 7.441195], [223, \"2023-05-02\", 12.68, 160.31, 5.077109, 2.540026, 0.958861, -2.328216, -0.847986, -2.276221, 0.179752, 0, false, false, 0.0, 7.441195], [224, \"2023-05-03\", 12.81, 160.61, 5.078979, 2.550226, 0.881142, -1.925076, -0.403711, -2.304435, 0.170542, 0, false, false, 0.0, 7.441195], [225, \"2023-05-04\", 12.95, 161.2, 5.082646, 2.561096, 0.825583, -1.63505, -0.012256, -2.329093, 0.162757, 0, false, false, 0.0, 7.441195], [226, \"2023-05-05\", 13.41, 170.06, 5.136151, 2.596001, 0.795134, -1.487928, 0.214521, -2.349032, 0.156641, 0, false, false, 0.0, 7.441195], [227, \"2023-05-08\", 13.87, 171.79, 5.146273, 2.629728, 0.741168, -1.184523, 0.562605, -2.357111, 0.154209, 0, false, false, 0.0, 7.441195], [228, \"2023-05-09\", 13.86, 169.15, 5.130786, 2.629007, 0.670655, -0.811978, 0.911744, -2.383086, 0.146567, 0, false, false, 0.0, 7.441195], [229, \"2023-05-10\", 14.11, 168.54, 5.127173, 2.646884, 0.627501, -0.570422, 1.118186, -2.398287, 0.14222, 0, false, false, 0.0, 7.441195], [230, \"2023-05-11\", 13.84, 172.08, 5.147959, 2.627563, 0.581978, -0.368437, 1.307668, -2.416126, 0.137236, 0, false, false, 0.0, 7.441195], [231, \"2023-05-12\", 12.91, 167.98, 5.123845, 2.558002, 0.63777, -0.70983, 0.935319, -2.465312, 0.124144, 0, false, false, 0.0, 7.441195], [232, \"2023-05-15\", 13.44, 166.35, 5.114094, 2.598235, 0.689517, -0.928017, 0.789618, -2.569305, 0.099509, 0, false, false, 0.0, 7.441195], [233, \"2023-05-16\", 13.08, 166.52, 5.115115, 2.571084, 0.857412, -1.814679, -0.14258, -2.560741, 0.101386, 0, false, false, 0.0, 7.441195], [234, \"2023-05-17\", 13.41, 173.86, 5.15825, 2.596001, 1.263783, -3.922908, -2.354236, -2.672433, 0.078931, 1, true, false, 0.0, 7.441195], [235, \"2023-05-18\", 13.54, 176.89, 5.175528, 2.605648, 1.108354, -3.130671, -1.318413, -2.662323, 0.080788, 1, false, false, 0.0, 7.441195], [236, \"2023-05-19\", 13.47, 180.14, 5.193734, 2.600465, 0.930962, -2.234707, -0.36031, -2.736292, 0.067966, 0, false, true, -1.688201, 5.752994], [237, \"2023-05-22\", 14.23, 188.87, 5.241059, 2.655352, 0.812259, -1.601746, 0.282483, -2.794724, 0.059031, 0, false, false, 0.0, 5.752994], [238, \"2023-05-23\", 14.2, 185.77, 5.224509, 2.653242, 0.739069, -1.208031, 0.634809, -3.155818, 0.022689, 0, false, false, 0.0, 5.752994], [239, \"2023-05-24\", 14.38, 182.9, 5.20894, 2.665838, 0.705615, -1.009666, 0.769362, -3.222634, 0.018711, 0, false, false, 0.0, 5.752994], [240, \"2023-05-25\", 14.57, 184.47, 5.217487, 2.678965, 0.726871, -1.113474, 0.589565, -2.528888, 0.108603, 0, false, false, 0.0, 5.752994], [241, \"2023-05-26\", 15.14, 193.17, 5.263571, 2.71734, 0.761225, -1.289419, 0.338586, -2.329658, 0.162581, 0, false, false, 0.0, 5.752994], [242, \"2023-05-30\", 14.87, 201.16, 5.304101, 2.699346, 0.68867, -0.953428, 0.637663, -2.218387, 0.19964, 0, false, false, 0.0, 5.752994], [243, \"2023-05-31\", 14.73, 203.93, 5.317777, 2.689886, 0.611433, -0.561579, 0.981862, -2.524903, 0.109532, 0, false, false, 0.0, 5.752994], [244, \"2023-06-01\", 14.58, 207.52, 5.335228, 2.679651, 0.529639, -0.146095, 1.300836, -2.261108, 0.184818, 0, false, false, 0.0, 5.752994], [245, \"2023-06-02\", 14.48, 213.97, 5.365836, 2.672768, 0.439504, 0.314463, 1.581154, -1.764079, 0.398435, 0, false, false, 0.0, 5.752994], [246, \"2023-06-05\", 14.34, 217.61, 5.382704, 2.663053, 0.368643, 0.678755, 1.69264, -1.999822, 0.286651, 0, false, false, 0.0, 5.752994], [247, \"2023-06-06\", 14.5, 221.31, 5.399564, 2.674149, 0.338677, 0.845438, 1.621134, -2.180128, 0.213537, 0, false, false, 0.0, 5.752994], [248, \"2023-06-07\", 13.82, 224.57, 5.414187, 2.626117, 0.27592, 1.132233, 1.647221, -2.603476, 0.092281, 0, false, false, 0.0, 5.752994], [249, \"2023-06-08\", 14.05, 234.86, 5.45899, 2.642622, 0.240615, 1.32911, 1.604311, -2.829399, 0.054195, 0, false, false, 0.0, 5.752994], [250, \"2023-06-09\", 13.87, 244.4, 5.498806, 2.629728, 0.184124, 1.617265, 1.618225, -3.000085, 0.034886, 0, false, false, 0.0, 5.752994], [251, \"2023-06-12\", 14.0, 249.83, 5.520781, 2.639057, 0.111056, 2.025943, 1.661485, -3.067058, 0.029089, 0, false, false, 0.0, 5.752994], [252, \"2023-06-13\", 15.25, 258.71, 5.555708, 2.72458, 0.128063, 2.013098, 1.466172, -3.331804, 0.013515, 0, false, false, 0.0, 5.752994], [253, \"2023-06-14\", 14.74, 256.79, 5.548259, 2.690565, 0.092174, 2.179158, 1.391938, -2.955637, 0.03925, 0, false, false, 0.0, 5.752994], [254, \"2023-06-15\", 15.24, 255.9, 5.544787, 2.723924, 0.088462, 2.233421, 1.359251, -2.951365, 0.039693, 0, false, false, 0.0, 5.752994], [255, \"2023-06-16\", 14.88, 260.54, 5.562756, 2.700018, 0.06904, 2.315967, 1.333279, -2.936987, 0.041213, 0, false, false, 0.0, 5.752994], [256, \"2023-06-20\", 15.7, 274.45, 5.614769, 2.753661, 0.075929, 2.327337, 1.242243, -3.021615, 0.032925, 0, false, false, 0.0, 5.752994], [257, \"2023-06-21\", 14.62, 259.46, 5.558603, 2.68239, 0.065977, 2.315651, 1.131315, -2.487322, 0.11859, 0, false, false, 0.0, 5.752994], [258, \"2023-06-22\", 14.15, 264.61, 5.578257, 2.649715, 0.03709, 2.442815, 1.116958, -1.48006, 0.543351, 0, false, false, 0.0, 5.752994], [259, \"2023-06-23\", 13.53, 256.6, 5.547518, 2.604909, 0.002977, 2.588393, 1.119256, -1.422411, 0.571486, 0, false, false, 0.0, 5.752994], [260, \"2023-06-26\", 13.45, 241.05, 5.485004, 2.598979, -0.002192, 2.611003, 1.051048, -1.333755, 0.613592, 0, false, false, 0.0, 5.752994], [261, \"2023-06-27\", 13.94, 250.21, 5.522301, 2.634762, 0.040638, 2.410349, 0.833794, -1.33558, 0.612742, 0, false, false, 0.0, 5.752994], [262, \"2023-06-28\", 14.64, 256.24, 5.546115, 2.683758, 0.091691, 2.175227, 0.556982, -1.434587, 0.565587, 0, false, false, 0.0, 5.752994], [263, \"2023-06-29\", 16.01, 257.5, 5.55102, 2.773214, 0.190459, 1.715971, -0.050141, -1.41525, 0.574943, 0, false, false, 0.0, 5.752994], [264, \"2023-06-30\", 16.66, 261.77, 5.567466, 2.813011, 0.337255, 0.935354, -1.25249, -1.509912, 0.528602, 0, false, false, 0.0, 5.752994], [265, \"2023-07-03\", 19.56, 279.82, 5.634147, 2.973487, 0.740289, -1.197413, -3.198501, -1.62241, 0.471466, 1, true, false, 0.0, 5.752994], [266, \"2023-07-05\", 20.43, 282.48, 5.643608, 3.017004, 1.217128, -3.851991, -3.48153, -1.893827, 0.334971, 0, false, true, 2.654578, 8.407572], [267, \"2023-07-06\", 21.62, 276.54, 5.622355, 3.073619, 1.839407, -7.26818, -3.354194, -1.85441, 0.353803, 1, true, false, 0.0, 8.407572], [268, \"2023-07-07\", 24.7, 274.43, 5.614696, 3.206803, 2.713837, -12.030569, -3.237268, -1.235626, 0.658086, 0, false, true, 4.762388, 13.169961], [269, \"2023-07-10\", 25.51, 269.61, 5.596976, 3.239071, 3.4786, -16.230573, -2.952235, -0.432147, 0.904592, 1, true, false, 0.0, 13.169961], [270, \"2023-07-11\", 24.85, 269.79, 5.597644, 3.212858, 3.893415, -18.581095, -2.564142, -0.71012, 0.844111, 1, false, false, 0.0, 13.169961], [271, \"2023-07-12\", 25.91, 271.99, 5.605765, 3.254629, 4.212963, -20.362254, -2.268671, -1.697266, 0.432522, 1, false, false, 0.0, 13.169961], [272, \"2023-07-13\", 25.52, 277.9, 5.627261, 3.239462, 4.429357, -21.685685, -2.028182, -1.631975, 0.466457, 1, false, false, 0.0, 13.169961], [273, \"2023-07-14\", 24.82, 281.38, 5.639706, 3.21165, 4.48064, -22.057845, -1.778052, -1.671293, 0.445961, 1, false, false, 0.0, 13.169961], [274, \"2023-07-17\", 23.99, 290.38, 5.67119, 3.177637, 4.234838, -20.838936, -1.460786, -2.439243, 0.130965, 1, false, false, 0.0, 13.169961], [275, \"2023-07-18\", 24.69, 293.34, 5.681332, 3.206398, 3.965812, -19.324699, -1.179035, -3.488066, 0.008299, 1, false, false, 0.0, 13.169961], [276, \"2023-07-19\", 24.83, 291.26, 5.674216, 3.212053, 3.977419, -19.356685, -1.067842, -3.379995, 0.01166, 1, false, false, 0.0, 13.169961], [277, \"2023-07-20\", 25.81, 262.9, 5.571774, 3.250762, 3.679872, -17.252651, -0.780466, -1.898238, 0.33289, 1, false, false, 0.0, 13.169961], [278, \"2023-07-21\", 25.27, 260.02, 5.560759, 3.229618, 3.324299, -15.256008, -0.514426, -2.75922, 0.064339, 1, false, false, 0.0, 13.169961], [279, \"2023-07-24\", 25.81, 269.06, 5.594934, 3.250762, 3.033989, -13.724208, -0.291145, -2.694301, 0.07503, 0, false, true, -2.506365, 10.663596], [280, \"2023-07-25\", 25.35, 265.28, 5.580786, 3.232779, 2.525579, -10.861938, 0.086081, -2.514423, 0.112004, 0, false, false, 0.0, 10.663596], [281, \"2023-07-26\", 27.15, 264.35, 5.577274, 3.301377, 1.579976, -5.510583, 0.770814, -2.849116, 0.051593, 0, false, false, 0.0, 10.663596], [282, \"2023-07-27\", 26.05, 255.71, 5.544044, 3.260018, 0.445007, 0.79288, 1.545931, -3.154333, 0.022785, 0, false, false, 0.0, 10.663596], [283, \"2023-07-28\", 26.94, 266.44, 5.585149, 3.293612, -0.396775, 5.509661, 2.001056, -3.220955, 0.018803, -1, true, false, 0.0, 10.663596], [284, \"2023-07-31\", 27.64, 267.43, 5.588858, 3.319264, -1.096994, 9.45021, 2.195525, -3.17138, 0.021702, -1, false, false, 0.0, 10.663596], [285, \"2023-08-01\", 27.3, 261.07, 5.564789, 3.306887, -0.973905, 8.72646, 1.909538, -3.217272, 0.019006, -1, false, false, 0.0, 10.663596], [286, \"2023-08-02\", 25.91, 254.11, 5.537767, 3.254629, -0.67388, 6.986422, 1.587343, -3.465874, 0.008908, -1, false, false, 0.0, 10.663596], [287, \"2023-08-03\", 26.5, 259.32, 5.558063, 3.277145, -0.581037, 6.506585, 1.4013, -3.645438, 0.004949, -1, false, false, 0.0, 10.663596], [288, \"2023-08-04\", 25.26, 253.86, 5.536783, 3.229222, -0.479396, 5.883533, 1.218365, -3.282319, 0.015688, -1, false, false, 0.0, 10.663596], [289, \"2023-08-07\", 24.28, 251.45, 5.527244, 3.189653, -0.336351, 5.048747, 1.039907, -3.275718, 0.015999, -1, false, false, 0.0, 10.663596], [290, \"2023-08-08\", 24.8, 249.7, 5.52026, 3.210844, -0.243297, 4.553909, 0.904721, -3.269513, 0.016297, -1, false, false, 0.0, 10.663596], [291, \"2023-08-09\", 22.35, 242.19, 5.489723, 3.106826, 0.026105, 2.963516, 0.69683, -3.203714, 0.019771, -1, false, false, 0.0, 10.663596], [292, \"2023-08-10\", 21.91, 245.34, 5.502645, 3.086943, 0.214319, 1.907619, 0.53538, -3.296592, 0.015032, -1, false, false, 0.0, 10.663596], [293, \"2023-08-11\", 21.57, 242.65, 5.49162, 3.071303, 0.435447, 0.679993, 0.353934, -3.251364, 0.017198, 0, false, true, 4.829667, 15.493263], [294, \"2023-08-14\", 21.56, 239.76, 5.479638, 3.07084, 0.787385, -1.243744, 0.093148, -3.514855, 0.007614, 0, false, false, 0.0, 15.493263], [295, \"2023-08-15\", 20.78, 232.96, 5.450867, 3.033991, 1.285998, -3.97581, -0.279687, -3.5503, 0.006785, 0, false, false, 0.0, 15.493263], [296, \"2023-08-16\", 21.04, 225.6, 5.418764, 3.046425, 1.779964, -6.59878, -0.705275, -3.560784, 0.006557, 0, false, false, 0.0, 15.493263], [297, \"2023-08-17\", 20.95, 219.22, 5.390076, 3.042139, 1.584423, -5.498021, -0.71798, -3.559256, 0.006589, 0, false, false, 0.0, 15.493263], [298, \"2023-08-18\", 20.78, 215.49, 5.372915, 3.033991, 1.449348, -4.753233, -0.771212, -3.327696, 0.013685, 0, false, false, 0.0, 15.493263], [299, \"2023-08-21\", 21.18, 231.28, 5.443629, 3.053057, 1.516653, -5.203041, -1.014179, -3.305877, 0.014618, 0, false, false, 0.0, 15.493263], [300, \"2023-08-22\", 20.08, 233.19, 5.451854, 2.999724, 1.6211, -5.838273, -1.2567, -3.228101, 0.018415, 0, false, false, 0.0, 15.493263], [301, \"2023-08-23\", 20.32, 236.86, 5.467469, 3.011606, 1.635974, -5.933034, -1.263859, -3.241623, 0.017698, 0, false, false, 0.0, 15.493263], [302, \"2023-08-24\", 19.64, 230.04, 5.438253, 2.977568, 1.661504, -6.058113, -1.176386, -3.26, 0.016764, 0, false, false, 0.0, 15.493263], [303, \"2023-08-25\", 20.07, 238.59, 5.474747, 2.999226, 1.669287, -6.139699, -1.074959, -3.263258, 0.016603, 0, false, false, 0.0, 15.493263], [304, \"2023-08-28\", 20.53, 238.82, 5.47571, 3.021887, 1.612209, -5.806104, -0.934396, -3.273698, 0.016096, 0, false, false, 0.0, 15.493263], [305, \"2023-08-29\", 22.31, 257.18, 5.549776, 3.105035, 1.341478, -4.339869, -0.592683, -3.291432, 0.015266, 0, false, false, 0.0, 15.493263], [306, \"2023-08-30\", 22.88, 256.9, 5.548687, 3.130263, 1.173151, -3.379187, -0.324727, -3.299853, 0.014885, 0, false, false, 0.0, 15.493263], [307, \"2023-08-31\", 22.73, 258.08, 5.55327, 3.123686, 0.948922, -2.145934, 0.03487, -3.310601, 0.014411, 0, false, false, 0.0, 15.493263], [308, \"2023-09-01\", 23.31, 245.01, 5.501299, 3.148882, 0.853898, -1.548663, 0.294893, -3.313188, 0.014299, 0, false, false, 0.0, 15.493263], [309, \"2023-09-05\", 23.39, 256.49, 5.54709, 3.152309, 0.809058, -1.33561, 0.492858, -3.338862, 0.013228, 0, false, false, 0.0, 15.493263], [310, \"2023-09-06\", 23.26, 251.92, 5.529112, 3.146735, 0.757423, -1.04114, 0.770779, -3.376239, 0.011796, 0, false, false, 0.0, 15.493263], [311, \"2023-09-07\", 23.42, 251.49, 5.527403, 3.15359, 0.794838, -1.239799, 0.880095, -3.350798, 0.012755, 0, false, false, 0.0, 15.493263], [312, \"2023-09-08\", 23.1, 248.5, 5.515443, 3.139833, 0.821496, -1.391084, 0.99339, -3.402403, 0.010877, 0, false, false, 0.0, 15.493263], [313, \"2023-09-11\", 23.41, 273.58, 5.611594, 3.153163, 0.77454, -1.193243, 1.204502, -3.407794, 0.010696, 0, false, false, 0.0, 15.493263], [314, \"2023-09-12\", 23.58, 267.48, 5.589045, 3.160399, 0.779844, -1.198186, 1.199455, -3.4095, 0.010639, 0, false, false, 0.0, 15.493263], [315, \"2023-09-13\", 23.25, 271.3, 5.603225, 3.146305, 0.74683, -1.038353, 1.160202, -3.428521, 0.010024, 0, false, false, 0.0, 15.493263], [316, \"2023-09-14\", 24.11, 276.04, 5.620546, 3.182627, 0.772878, -1.161372, 1.006413, -3.434028, 0.009852, 0, false, false, 0.0, 15.493263], [317, \"2023-09-15\", 24.18, 274.39, 5.61455, 3.185526, 0.845552, -1.561871, 0.737567, -3.483266, 0.008427, 0, false, false, 0.0, 15.493263], [318, \"2023-09-18\", 23.71, 265.28, 5.580786, 3.165897, 0.993645, -2.379424, 0.297342, -3.52398, 0.007392, 0, false, false, 0.0, 15.493263], [319, \"2023-09-19\", 22.74, 266.5, 5.585374, 3.124125, 1.017656, -2.559863, 0.151464, -3.555399, 0.006673, 0, false, false, 0.0, 15.493263], [320, \"2023-09-20\", 22.4, 262.59, 5.570594, 3.109061, 0.962716, -2.253839, 0.228501, -3.521929, 0.007441, 0, false, false, 0.0, 15.493263], [321, \"2023-09-21\", 21.53, 255.7, 5.544005, 3.069447, 0.915956, -2.008619, 0.277696, -3.515105, 0.007608, 0, false, false, 0.0, 15.493263], [322, \"2023-09-22\", 20.59, 244.88, 5.500768, 3.024806, 0.862477, -1.719479, 0.364077, -3.50721, 0.007804, 0, false, false, 0.0, 15.493263], [323, \"2023-09-25\", 21.13, 246.99, 5.509348, 3.050694, 0.776453, -1.227056, 0.650458, -3.477845, 0.008575, 0, false, false, 0.0, 15.493263], [324, \"2023-09-26\", 22.26, 244.12, 5.49766, 3.102791, 0.627621, -0.347655, 1.544667, -3.369717, 0.012036, 0, false, false, 0.0, 15.493263], [325, \"2023-09-27\", 23.05, 240.5, 5.48272, 3.137666, 0.522064, 0.275336, 2.253121, -3.284879, 0.015568, -1, true, false, 0.0, 15.493263], [326, \"2023-09-28\", 23.08, 246.38, 5.506875, 3.138966, 0.485939, 0.462962, 2.270265, -3.282669, 0.015671, -1, false, false, 0.0, 15.493263], [327, \"2023-09-29\", 24.28, 250.22, 5.522341, 3.189653, 0.439004, 0.765322, 2.183219, -3.481088, 0.008486, -1, false, false, 0.0, 15.493263], [328, \"2023-10-02\", 23.66, 251.6, 5.527841, 3.163786, 0.462694, 0.606088, 1.72919, -3.567575, 0.006412, -1, false, false, 0.0, 15.493263], [329, \"2023-10-03\", 21.69, 246.53, 5.507484, 3.076851, 0.503127, 0.305889, 1.277195, -3.514252, 0.007629, -1, false, false, 0.0, 15.493263], [330, \"2023-10-04\", 23.69, 261.16, 5.565133, 3.165053, 0.526639, 0.234235, 1.104952, -3.680161, 0.004401, -1, false, false, 0.0, 15.493263], [331, \"2023-10-05\", 18.27, 260.05, 5.560874, 2.90526, 0.485017, 0.208142, 0.986296, -3.900178, 0.002034, -1, false, false, 0.0, 15.493263], [332, \"2023-10-06\", 18.92, 260.53, 5.562718, 2.94022, 0.475263, 0.296465, 0.970297, -3.953326, 0.001676, -1, false, false, 0.0, 15.493263], [333, \"2023-10-09\", 18.78, 259.67, 5.559412, 2.932792, 0.397916, 0.720613, 1.219342, -3.632869, 0.005163, -1, false, false, 0.0, 15.493263], [334, \"2023-10-10\", 19.64, 263.62, 5.574509, 2.977568, 0.24079, 1.635284, 1.737176, -3.690101, 0.004255, -1, false, false, 0.0, 15.493263], [335, \"2023-10-11\", 19.37, 262.99, 5.572116, 2.963725, 0.054184, 2.661807, 2.103325, -4.846422, 4.4e-05, 0, false, true, -2.386471, 13.106792], [336, \"2023-10-12\", 19.33, 258.87, 5.556326, 2.961658, -0.306061, 4.66223, 2.618704, -4.176545, 0.000722, -1, true, false, 0.0, 13.106792], [337, \"2023-10-13\", 19.3, 251.12, 5.525931, 2.960105, -0.740946, 7.054522, 2.823768, -4.195234, 0.000671, -1, false, false, 0.0, 13.106792], [338, \"2023-10-16\", 19.66, 253.92, 5.537019, 2.978586, -1.061935, 8.85854, 2.692616, -4.470337, 0.000222, -1, false, false, 0.0, 13.106792], [339, \"2023-10-17\", 19.9, 254.85, 5.540675, 2.99072, -1.475628, 11.166695, 2.643981, -3.993958, 0.001442, -1, false, false, 0.0, 13.106792], [340, \"2023-10-18\", 18.09, 242.68, 5.491744, 2.895359, -1.219741, 9.593863, 1.891799, -2.552006, 0.103328, -1, false, false, 0.0, 13.106792], [341, \"2023-10-19\", 17.16, 220.11, 5.394127, 2.842581, 0.131276, 2.134464, -0.074951, -2.787658, 0.060058, 0, false, true, 2.527766, 15.634558], [342, \"2023-10-20\", 16.72, 211.99, 5.356539, 2.816606, 0.616034, -0.483207, -0.797765, -3.899043, 0.002042, 0, false, false, 0.0, 15.634558], [343, \"2023-10-23\", 17.07, 212.08, 5.356964, 2.837323, 0.748157, -1.170525, -0.984398, -3.433188, 0.009878, 0, false, false, 0.0, 15.634558], [344, \"2023-10-24\", 17.43, 216.52, 5.377683, 2.858193, 0.80696, -1.48138, -1.037857, -2.992452, 0.035605, 0, false, false, 0.0, 15.634558], [345, \"2023-10-25\", 17.02, 212.42, 5.358565, 2.834389, 0.867713, -1.815306, -1.072922, -2.797818, 0.058586, 0, false, false, 0.0, 15.634558], [346, \"2023-10-26\", 16.17, 205.76, 5.32671, 2.783158, 0.891656, -1.966438, -1.053657, -3.045188, 0.030884, 0, false, false, 0.0, 15.634558], [347, \"2023-10-27\", 16.01, 207.3, 5.334167, 2.773214, 0.875956, -1.899284, -0.979529, -3.074461, 0.028502, 0, false, false, 0.0, 15.634558], [348, \"2023-10-30\", 15.72, 197.36, 5.285029, 2.754934, 0.826486, -1.613071, -0.86604, -3.073478, 0.028579, 0, false, false, 0.0, 15.634558], [349, \"2023-10-31\", 16.22, 200.84, 5.302509, 2.786245, 0.790366, -1.404676, -0.784526, -3.167176, 0.021965, 0, false, false, 0.0, 15.634558], [350, \"2023-11-01\", 16.13, 205.66, 5.326224, 2.780681, 0.702076, -0.958732, -0.658183, -3.008892, 0.034072, 0, false, false, 0.0, 15.634558], [351, \"2023-11-02\", 17.59, 218.51, 5.386832, 2.867331, 0.7268, -1.047821, -0.659042, -3.036359, 0.031636, 0, false, false, 0.0, 15.634558], [352, \"2023-11-03\", 17.71, 219.96, 5.393446, 2.874129, 0.740985, -1.122333, -0.65414, -2.984392, 0.036378, 0, false, false, 0.0, 15.634558], [353, \"2023-11-06\", 17.18, 219.27, 5.390304, 2.843746, 0.770339, -1.308615, -0.666541, -2.923906, 0.042638, 0, false, false, 0.0, 15.634558], [354, \"2023-11-07\", 17.42, 222.18, 5.403488, 2.857619, 0.781594, -1.365715, -0.637749, -2.947372, 0.04011, 0, false, false, 0.0, 15.634558], [355, \"2023-11-08\", 17.0, 222.11, 5.403173, 2.833213, 0.814216, -1.566139, -0.629622, -3.088873, 0.027388, 0, false, false, 0.0, 15.634558], [356, \"2023-11-09\", 15.33, 209.98, 5.347012, 2.729812, 0.878547, -1.967791, -0.649005, -2.806573, 0.057341, 0, false, false, 0.0, 15.634558], [357, \"2023-11-10\", 15.4, 214.65, 5.369009, 2.734368, 0.897699, -2.085387, -0.599767, -2.828345, 0.054338, 0, false, false, 0.0, 15.634558], [358, \"2023-11-13\", 16.19, 223.71, 5.410351, 2.784394, 0.843497, -1.779222, -0.451258, -3.065465, 0.029217, 0, false, false, 0.0, 15.634558], [359, \"2023-11-14\", 16.9, 237.41, 5.469789, 2.827314, 0.593881, -0.42109, 0.102551, -3.221539, 0.018771, 0, false, false, 0.0, 15.634558], [360, \"2023-11-15\", 17.24, 242.84, 5.492403, 2.847232, 0.475003, 0.238325, 1.431349, -3.276421, 0.015966, 0, false, false, 0.0, 15.634558], [361, \"2023-11-16\", 16.39, 233.59, 5.453567, 2.796671, 0.391779, 0.660076, 2.55794, -3.403142, 0.010852, -1, true, false, 0.0, 15.634558], [362, \"2023-11-17\", 16.7, 234.3, 5.456602, 2.815409, 0.36414, 0.828442, 2.324271, -3.537523, 0.007074, -1, false, false, 0.0, 15.634558], [363, \"2023-11-20\", 16.93, 235.6, 5.462135, 2.829087, 0.368211, 0.817869, 1.95071, -3.578579, 0.006184, -1, false, false, 0.0, 15.634558], [364, \"2023-11-21\", 15.72, 241.2, 5.485626, 2.754934, 0.26286, 1.312981, 2.043962, -3.379664, 0.011672, -1, false, false, 0.0, 15.634558], [365, \"2023-11-22\", 15.98, 234.21, 5.456218, 2.771338, 0.243369, 1.443466, 1.848097, -3.40911, 0.010652, -1, false, false, 0.0, 15.634558], [366, \"2023-11-24\", 16.43, 235.45, 5.461499, 2.799109, 0.227087, 1.558875, 1.696376, -3.3444, 0.013007, -1, false, false, 0.0, 15.634558], [367, \"2023-11-27\", 16.66, 236.08, 5.464171, 2.813011, 0.20958, 1.667832, 1.572786, -3.38331, 0.011541, -1, false, false, 0.0, 15.634558], [368, \"2023-11-28\", 17.42, 246.72, 5.508254, 2.857619, 0.202, 1.74495, 1.447933, -3.405258, 0.010781, -1, false, false, 0.0, 15.634558], [405, \"2024-01-23\", 16.04, 209.14, 5.343004, 2.775086, 1.912892, -7.445501, 1.187167, -1.238815, 0.65668, -1, false, false, 0.0, 25.70227], [406, \"2024-01-24\", 15.34, 207.83, 5.33672, 2.730464, 1.902215, -7.421123, 1.102956, -1.258926, 0.647748, -1, false, false, 0.0, 25.70227], [407, \"2024-01-25\", 15.0, 182.63, 5.207462, 2.70805, 1.570036, -5.467855, 1.454295, -1.286729, 0.635222, -1, false, false, 0.0, 25.70227], [408, \"2024-01-26\", 15.29, 183.25, 5.210851, 2.727199, 1.37279, -4.426206, 1.559948, -1.288198, 0.634554, -1, false, false, 0.0, 25.70227], [409, \"2024-01-29\", 16.12, 190.93, 5.251907, 2.780061, 1.216966, -3.611329, 1.616148, -1.326941, 0.616758, 0, false, true, -4.569345, 21.132925], [410, \"2024-01-30\", 15.66, 191.59, 5.255358, 2.75111, 1.080643, -2.928058, 1.637867, -1.293978, 0.631923, 0, false, false, 0.0, 21.132925], [411, \"2024-01-31\", 15.31, 187.29, 5.232658, 2.728506, 1.015004, -2.582662, 1.602474, -1.284483, 0.636241, 0, false, false, 0.0, 21.132925], [412, \"2024-02-01\", 15.53, 188.86, 5.241006, 2.742774, 0.951845, -2.245854, 1.562992, -1.276215, 0.639983, 0, false, false, 0.0, 21.132925], [413, \"2024-02-02\", 15.6, 187.91, 5.235963, 2.747271, 0.906803, -2.000715, 1.491981, -1.272784, 0.64153, 0, false, false, 0.0, 21.132925], [414, \"2024-02-05\", 14.94, 181.06, 5.198828, 2.704042, 0.879135, -1.866428, 1.406743, -1.254002, 0.649945, 0, false, false, 0.0, 21.132925], [415, \"2024-02-06\", 15.5, 185.1, 5.220896, 2.74084, 0.818775, -1.533897, 1.39758, -1.228206, 0.661346, 0, false, false, 0.0, 21.132925], [416, \"2024-02-07\", 15.17, 187.58, 5.234205, 2.71932, 0.764852, -1.28407, 1.372172, -1.214289, 0.667419, 0, false, false, 0.0, 21.132925], [417, \"2024-02-08\", 16.11, 189.56, 5.244706, 2.77944, 0.664343, -0.704846, 1.451768, -1.23996, 0.656174, 0, false, false, 0.0, 21.132925], [418, \"2024-02-09\", 16.68, 193.57, 5.265639, 2.81421, 0.531433, 0.015875, 1.534289, -1.31188, 0.62372, 0, false, false, 0.0, 21.132925], [419, \"2024-02-12\", 16.33, 188.13, 5.237133, 2.793004, 0.398118, 0.708006, 1.568222, -1.259955, 0.647288, 0, false, false, 0.0, 21.132925], [420, \"2024-02-13\", 15.38, 184.02, 5.215044, 2.733068, 0.259659, 1.378933, 1.584424, -1.232793, 0.659332, 0, false, false, 0.0, 21.132925], [421, \"2024-02-14\", 15.54, 188.71, 5.240211, 2.743417, 0.181169, 1.794052, 1.534608, -1.186979, 0.679172, 0, false, false, 0.0, 21.132925], [422, \"2024-02-15\", 16.35, 200.45, 5.300565, 2.794228, 0.236842, 1.538834, 1.327094, -1.165721, 0.688165, 0, false, false, 0.0, 21.132925], [423, \"2024-02-16\", 16.3, 199.95, 5.298067, 2.791165, 0.364669, 0.859122, 1.030938, -1.302106, 0.628208, 0, false, false, 0.0, 21.132925], [424, \"2024-02-20\", 15.89, 193.76, 5.26662, 2.76569, 0.399687, 0.660691, 0.892859, -1.358719, 0.601899, 0, false, false, 0.0, 21.132925], [425, \"2024-02-21\", 15.39, 194.77, 5.271819, 2.733718, 0.432985, 0.451101, 0.755663, -1.341235, 0.610103, 0, false, false, 0.0, 21.132925], [426, \"2024-02-22\", 11.45, 197.41, 5.285283, 2.43799, -0.047328, 2.688134, 1.624161, -1.36471, 0.599073, 0, false, false, 0.0, 21.132925], [427, \"2024-02-23\", 10.07, 191.97, 5.257339, 2.309561, -0.402604, 4.426185, 2.146908, -1.024127, 0.744363, -1, true, false, 0.0, 21.132925], [428, \"2024-02-26\", 10.7, 199.4, 5.295313, 2.370244, -1.356308, 9.552321, 3.092506, -0.917322, 0.782215, 0, false, true, -5.126136, 16.006789], [429, \"2024-02-27\", 11.14, 199.73, 5.296966, 2.410542, -1.916411, 12.561704, 2.918204, -0.244289, 0.933032, -1, true, false, 0.0, 16.006789], [430, \"2024-02-28\", 11.3, 202.04, 5.308466, 2.424803, -2.307934, 14.67639, 2.62016, -0.173045, 0.941659, -1, false, false, 0.0, 16.006789], [431, \"2024-02-29\", 11.32, 201.88, 5.307673, 2.426571, -2.564792, 16.039647, 2.324591, -0.084735, 0.950938, -1, false, false, 0.0, 16.006789], [432, \"2024-03-01\", 11.35, 202.64, 5.311431, 2.429218, -2.705685, 16.800277, 2.052866, -0.05455, 0.953782, -1, false, false, 0.0, 16.006789], [433, \"2024-03-04\", 10.91, 188.14, 5.237186, 2.38968, -2.280906, 14.335209, 1.473294, -0.046305, 0.954531, -1, false, false, 0.0, 16.006789], [434, \"2024-03-05\", 10.93, 180.74, 5.19706, 2.391511, -1.35736, 9.445793, 0.653499, -0.755615, 0.831814, -1, false, false, 0.0, 16.006789], [435, \"2024-03-06\", 11.03, 176.54, 5.173547, 2.400619, -0.27371, 3.816671, -0.266156, -1.570086, 0.498601, 0, false, true, 8.745033, 24.751822], [436, \"2024-03-07\", 12.51, 178.65, 5.185429, 2.526528, -0.011681, 2.587102, -0.505849, -1.975067, 0.297611, 0, false, false, 0.0, 24.751822], [437, \"2024-03-08\", 12.78, 175.34, 5.166727, 2.547881, 0.097596, 2.043628, -0.629645, -1.514316, 0.526418, 0, false, false, 0.0, 24.751822], [438, \"2024-03-11\", 12.69, 177.77, 5.180491, 2.540814, 0.043992, 2.312914, -0.613691, -1.491866, 0.537531, 0, false, false, 0.0, 24.751822], [439, \"2024-03-12\", 12.37, 177.54, 5.179196, 2.515274, 0.13692, 1.80614, -0.714489, -2.01511, 0.279988, 0, false, false, 0.0, 24.751822], [440, \"2024-03-13\", 11.71, 169.48, 5.132735, 2.460443, 0.329805, 0.76764, -0.882618, -2.021651, 0.277161, 0, false, false, 0.0, 24.751822], [441, \"2024-03-14\", 10.69, 162.5, 5.090678, 2.369309, 0.490386, -0.127089, -1.003639, -2.262103, 0.184482, 0, false, false, 0.0, 24.751822], [442, \"2024-03-15\", 11.04, 163.57, 5.097241, 2.401525, 0.340254, 0.667169, -0.858018, -2.15931, 0.221344, 0, false, false, 0.0, 24.751822], [443, \"2024-03-18\", 11.4, 173.8, 5.157905, 2.433613, 0.132249, 1.751487, -0.688928, -2.113001, 0.239319, 0, false, false, 0.0, 24.751822], [444, \"2024-03-19\", 11.26, 171.32, 5.143533, 2.421257, 0.002534, 2.408223, -0.600346, -2.06422, 0.259143, 0, false, false, 0.0, 24.751822], [445, \"2024-03-20\", 11.36, 175.66, 5.16855, 2.430098, -0.170805, 3.312912, -0.479946, -2.187297, 0.210888, 0, false, false, 0.0, 24.751822], [446, \"2024-03-21\", 11.17, 172.82, 5.152251, 2.413232, -0.172802, 3.303553, -0.488341, -2.090736, 0.248256, 0, false, false, 0.0, 24.751822], [447, \"2024-03-22\", 10.8, 170.83, 5.140669, 2.379546, -0.067152, 2.724752, -0.569994, -2.027307, 0.27473, 0, false, false, 0.0, 24.751822], [448, \"2024-03-25\", 10.65, 172.63, 5.151151, 2.36556, 0.032631, 2.197473, -0.597562, -2.362218, 0.152685, 0, false, false, 0.0, 24.751822], [449, \"2024-03-26\", 10.52, 177.67, 5.179928, 2.353278, 0.07634, 1.957844, -0.565151, -2.307298, 0.169625, 0, false, false, 0.0, 24.751822], [450, \"2024-03-27\", 10.99, 179.83, 5.192012, 2.396986, 0.102569, 1.864446, -0.506617, -2.500549, 0.115341, 0, false, false, 0.0, 24.751822], [451, \"2024-03-28\", 10.95, 175.79, 5.16929, 2.393339, 0.157727, 1.578, -0.492222, -2.333269, 0.161462, 0, false, false, 0.0, 24.751822], [452, \"2024-04-01\", 11.09, 175.22, 5.166042, 2.406044, 0.305344, 0.828624, -0.653404, -2.296765, 0.173014, 0, false, false, 0.0, 24.751822], [453, \"2024-04-02\", 10.51, 166.63, 5.115776, 2.352327, 0.740417, -1.435479, -1.725527, -2.516036, 0.111621, 0, false, false, 0.0, 24.751822], [454, \"2024-04-03\", 10.54, 168.38, 5.126223, 2.355178, 0.995526, -2.74811, -2.717325, -2.641322, 0.084754, 1, true, false, 0.0, 24.751822], [455, \"2024-04-04\", 10.13, 171.11, 5.142307, 2.315501, 1.114876, -3.417533, -2.495544, -2.587579, 0.095592, 1, false, false, 0.0, 24.751822], [456, \"2024-04-05\", 10.1, 164.9, 5.105339, 2.312535, 1.095116, -3.278405, -2.020981, -2.681262, 0.077337, 1, false, false, 0.0, 24.751822], [457, \"2024-04-08\", 10.44, 172.98, 5.153176, 2.345645, 0.923068, -2.411086, -1.422067, -2.49719, 0.116159, 1, false, false, 0.0, 24.751822], [458, \"2024-04-09\", 10.63, 176.88, 5.175472, 2.36368, 0.570799, -0.590476, -0.528328, -2.551374, 0.103469, 1, false, false, 0.0, 24.751822], [459, \"2024-04-10\", 10.27, 171.76, 5.146098, 2.329227, 0.315339, 0.706461, 0.094431, -2.87834, 0.047925, 0, false, true, -3.454571, 21.297251], [460, \"2024-04-11\", 9.57, 174.6, 5.162498, 2.258633, 0.26043, 0.914162, 0.187335, -3.013187, 0.033681, 0, false, false, 0.0, 21.297251], [461, \"2024-04-12\", 9.13, 171.05, 5.141956, 2.211566, 0.436798, -0.03443, -0.255036, -3.092687, 0.027099, 0, false, false, 0.0, 21.297251], [462, \"2024-04-15\", 8.4, 161.48, 5.084381, 2.128232, 1.720692, -6.620424, -2.527018, -3.172153, 0.021654, 1, true, false, 0.0, 21.297251], [463, \"2024-04-16\", 8.71, 157.11, 5.056946, 2.164472, 1.781544, -6.844699, -2.138516, -2.344609, 0.157984, 1, false, false, 0.0, 21.297251], [464, \"2024-04-17\", 8.74, 155.45, 5.046324, 2.16791, 1.747341, -6.649737, -1.787033, -2.67878, 0.077783, 1, false, false, 0.0, 21.297251], [465, \"2024-04-18\", 8.83, 149.93, 5.010169, 2.178155, 1.47795, -5.226625, -1.227768, -2.768883, 0.062858, 1, false, false, 0.0, 21.297251], [466, \"2024-04-19\", 8.63, 147.05, 4.990773, 2.155245, 1.331075, -4.48785, -0.913563, -2.672188, 0.078976, 1, false, false, 0.0, 21.297251], [467, \"2024-04-22\", 8.79, 142.05, 4.956179, 2.173615, 1.135433, -3.453793, -0.518415, -2.68227, 0.077157, 1, false, false, 0.0, 21.297251], [468, \"2024-04-23\", 9.04, 144.68, 4.974524, 2.201659, 1.027472, -2.909524, -0.271564, -2.731243, 0.068786, 0, false, true, -3.7109, 17.586351], [469, \"2024-04-24\", 8.84, 162.13, 5.088398, 2.179287, 1.039032, -3.107723, -0.26693, -2.701707, 0.073743, 0, false, false, 0.0, 17.586351], [470, \"2024-04-25\", 8.52, 170.18, 5.136857, 2.142416, 0.934113, -2.655989, -0.024585, -2.655055, 0.082144, 0, false, false, 0.0, 17.586351], [471, \"2024-04-26\", 9.04, 168.29, 5.125689, 2.201659, 0.846022, -2.134789, 0.267372, -2.689816, 0.075817, 0, false, false, 0.0, 17.586351], [472, \"2024-04-29\", 9.38, 194.05, 5.268116, 2.23858, 0.553177, -0.675623, 0.943425, -2.70433, 0.073292, 0, false, false, 0.0, 17.586351], [473, \"2024-04-30\", 8.9, 183.28, 5.211015, 2.186051, 0.445504, -0.135475, 1.120379, -2.777835, 0.06151, 0, false, false, 0.0, 17.586351], [474, \"2024-05-01\", 9.21, 179.99, 5.192901, 2.22029, 0.397542, 0.155895, 1.138862, -2.744142, 0.066706, 0, false, false, 0.0, 17.586351], [475, \"2024-05-02\", 9.83, 180.01, 5.193012, 2.285439, 0.396452, 0.226659, 1.061742, -2.746504, 0.066331, 0, false, false, 0.0, 17.586351], [476, \"2024-05-03\", 10.07, 181.19, 5.199546, 2.309561, 0.43386, 0.053684, 0.908741, -2.726284, 0.069599, 0, false, false, 0.0, 17.586351], [477, \"2024-05-06\", 10.33, 184.76, 5.219058, 2.335052, 0.454616, -0.037615, 0.81225, -2.706689, 0.072888, 0, false, false, 0.0, 17.586351], [478, \"2024-05-07\", 10.25, 177.81, 5.180716, 2.327278, 0.442983, 0.032311, 0.819724, -2.699105, 0.074193, 0, false, false, 0.0, 17.586351], [479, \"2024-05-08\", 10.27, 174.72, 5.163185, 2.329227, 0.45172, -0.003085, 0.830893, -2.696566, 0.074634, 0, false, false, 0.0, 17.586351], [480, \"2024-05-09\", 10.22, 171.97, 5.14732, 2.324347, 0.463058, -0.059162, 0.844826, -2.6923, 0.07538, 0, false, false, 0.0, 17.586351], [481, \"2024-05-10\", 9.99, 168.47, 5.126758, 2.301585, 0.470458, -0.110341, 0.827454, -2.691246, 0.075565, 0, false, false, 0.0, 17.586351], [482, \"2024-05-13\", 10.9, 171.89, 5.146855, 2.388763, 0.474512, -0.05348, 0.775132, -2.689635, 0.075849, 0, false, false, 0.0, 17.586351], [483, \"2024-05-14\", 11.19, 177.55, 5.179252, 2.415021, 0.503576, -0.193129, 0.653205, -2.689742, 0.07583, 0, false, false, 0.0, 17.586351], [484, \"2024-05-15\", 10.2, 173.99, 5.158998, 2.322388, 0.486345, -0.186667, 0.604339, -2.683702, 0.076901, 0, false, false, 0.0, 17.586351], [485, \"2024-05-16\", 10.13, 174.84, 5.163871, 2.315501, 0.470257, -0.112845, 0.586282, -2.717717, 0.071022, 0, false, false, 0.0, 17.586351], [486, \"2024-05-17\", 10.5, 177.46, 5.178745, 2.351375, 0.424614, 0.152406, 0.717162, -2.72411, 0.069958, 0, false, false, 0.0, 17.586351], [487, \"2024-05-20\", 10.28, 174.95, 5.1645, 2.3302, 0.360399, 0.468917, 0.914183, -3.25038, 0.017248, 0, false, false, 0.0, 17.586351], [488, \"2024-05-21\", 10.05, 186.6, 5.228967, 2.307573, 0.254302, 0.977834, 1.300952, -3.377214, 0.011761, 0, false, false, 0.0, 17.586351], [489, \"2024-05-22\", 10.7, 180.11, 5.193568, 2.370244, -0.031531, 2.534002, 2.572408, -3.785603, 0.003058, -1, true, false, 0.0, 17.586351], [490, \"2024-05-23\", 9.95, 173.74, 5.15756, 2.297573, -0.32362, 3.96666, 3.101239, -4.316278, 0.000416, 0, false, true, -1.432658, 16.153692], [491, \"2024-05-24\", 10.44, 179.24, 5.188726, 2.345645, -0.665059, 5.796453, 3.197191, -5.126805, 1.2e-05, -1, true, false, 0.0, 16.153692], [492, \"2024-05-28\", 10.42, 176.75, 5.174736, 2.343727, -0.529411, 5.083292, 2.233327, -4.121224, 0.000893, -1, false, false, 0.0, 16.153692], [493, \"2024-05-29\", 10.22, 176.19, 5.171563, 2.324347, -0.177719, 3.243433, 1.12289, -3.18762, 0.020713, -1, false, false, 0.0, 16.153692], [494, \"2024-05-30\", 10.97, 178.79, 5.186212, 2.395164, 0.03825, 2.19679, 0.521592, -2.3437, 0.158261, -1, false, false, 0.0, 16.153692], [495, \"2024-05-31\", 10.92, 178.08, 5.182233, 2.390596, 0.151337, 1.606334, 0.178061, -2.727085, 0.069468, 0, false, true, 4.190119, 20.343812], [496, \"2024-06-03\", 11.4, 176.29, 5.17213, 2.433613, 0.217971, 1.306238, -0.012864, -2.753237, 0.06527, 0, false, false, 0.0, 20.343812], [497, \"2024-06-04\", 11.22, 174.77, 5.163471, 2.417698, 0.274421, 1.000732, -0.205817, -2.833709, 0.053618, 0, false, false, 0.0, 20.343812], [498, \"2024-06-05\", 11.45, 175.0, 5.164786, 2.43799, 0.244557, 1.174903, -0.14475, -2.793695, 0.05918, 0, false, false, 0.0, 20.343812], [499, \"2024-06-06\", 11.74, 177.94, 5.181446, 2.463002, 0.339671, 0.703015, -0.427551, -2.704194, 0.073315, 0, false, false, 0.0, 20.343812], [500, \"2024-06-07\", 11.52, 177.48, 5.178858, 2.444085, 0.293116, 0.926079, -0.337032, -2.703043, 0.073513, 0, false, false, 0.0, 20.343812], [501, \"2024-06-10\", 11.87, 173.79, 5.157848, 2.474014, -0.468258, 4.88922, 1.656336, -2.727911, 0.069332, 0, false, false, 0.0, 20.343812], [502, \"2024-06-11\", 11.83, 170.66, 5.139673, 2.470639, -0.897565, 7.083829, 2.281857, -2.30379, 0.170748, -1, true, false, 0.0, 20.343812], [503, \"2024-06-12\", 11.8, 177.29, 5.177787, 2.4681, -0.877319, 7.010671, 1.919525, -2.226475, 0.196777, -1, false, false, 0.0, 20.343812], [504, \"2024-06-13\", 11.11, 182.47, 5.206586, 2.407846, -0.851492, 6.841213, 1.62808, -2.445027, 0.129429, -1, false, false, 0.0, 20.343812], [505, \"2024-06-14\", 10.88, 178.01, 5.18184, 2.386926, -1.020388, 7.674413, 1.723789, -2.332034, 0.161844, -1, false, false, 0.0, 20.343812], [506, \"2024-06-17\", 10.96, 187.44, 5.233459, 2.394252, -0.710769, 6.114032, 1.014619, -1.923395, 0.321137, -1, false, false, 0.0, 20.343812], [507, \"2024-06-18\", 11.02, 184.86, 5.219599, 2.399712, -0.731443, 6.21755, 0.957275, -2.270504, 0.181658, -1, false, false, 0.0, 20.343812], [508, \"2024-06-20\", 10.33, 181.57, 5.201641, 2.335052, -0.543352, 5.161376, 0.466765, -2.005016, 0.284378, 0, false, true, 1.922453, 22.266265], [509, \"2024-06-21\", 10.32, 183.01, 5.209541, 2.334084, -0.657595, 5.759851, 0.645839, -2.164314, 0.219451, 0, false, false, 0.0, 22.266265], [510, \"2024-06-24\", 11.01, 182.58, 5.207188, 2.398804, -0.951645, 7.354201, 1.182845, -1.917185, 0.32402, 0, false, false, 0.0, 22.266265], [511, \"2024-06-25\", 11.96, 187.35, 5.232979, 2.481568, -0.464401, 4.911767, 0.238105, -1.6318, 0.466549, 0, false, false, 0.0, 22.266265], [512, \"2024-06-26\", 14.74, 196.37, 5.280001, 2.690565, 0.906759, -2.097126, -2.097748, -2.038665, 0.269881, 1, true, false, 0.0, 22.266265], [513, \"2024-06-27\", 14.47, 197.42, 5.285333, 2.672078, 1.337717, -4.398201, -2.319007, -2.62983, 0.086987, 1, false, false, 0.0, 22.266265], [514, \"2024-06-28\", 13.42, 197.88, 5.287661, 2.596746, 1.399685, -4.804312, -2.053526, -2.631622, 0.086636, 1, false, false, 0.0, 22.266265], [515, \"2024-07-01\", 13.92, 209.86, 5.346441, 2.633327, 1.324853, -4.449922, -1.730163, -2.641714, 0.084679, 1, false, false, 0.0, 22.266265], [516, \"2024-07-02\", 14.89, 231.26, 5.443543, 2.70069, 1.176309, -3.7026, -1.416001, -2.607367, 0.091484, 1, false, false, 0.0, 22.266265], [517, \"2024-07-03\", 14.65, 246.39, 5.506916, 2.68444, 0.984206, -2.735499, -1.12261, -2.541492, 0.105702, 1, false, false, 0.0, 22.266265], [518, \"2024-07-05\", 14.79, 251.52, 5.527523, 2.693951, 0.902829, -2.296454, -0.966911, -2.562153, 0.101075, 1, false, false, 0.0, 22.266265], [519, \"2024-07-08\", 15.49, 252.94, 5.533152, 2.740195, 0.900988, -2.245108, -0.906718, -2.551316, 0.103482, 1, false, false, 0.0, 22.266265], [520, \"2024-07-09\", 15.71, 262.33, 5.569603, 2.754297, 0.883898, -2.168662, -0.843546, -2.531237, 0.108058, 1, false, false, 0.0, 22.266265], [521, \"2024-07-10\", 16.37, 263.26, 5.573142, 2.79545, 0.917147, -2.315941, -0.79391, -3.101811, 0.026419, 1, false, false, 0.0, 22.266265], [522, \"2024-07-11\", 16.76, 241.03, 5.484921, 2.818995, 0.998447, -2.657408, -0.777831, -2.854249, 0.050933, 0, false, true, 0.560282, 22.826547], [523, \"2024-07-12\", 18.11, 248.23, 5.514356, 2.896464, 1.081082, -3.065004, -0.776687, -2.851191, 0.051325, 0, false, false, 0.0, 22.826547], [524, \"2024-07-15\", 17.5, 252.64, 5.531966, 2.862201, 1.101517, -3.231351, -0.730322, -2.597572, 0.0935, 0, false, false, 0.0, 22.826547], [525, \"2024-07-16\", 17.94, 256.56, 5.547363, 2.887033, 1.121236, -3.332872, -0.676738, -2.644821, 0.084083, 0, false, false, 0.0, 22.826547], [526, \"2024-07-17\", 17.19, 248.5, 5.515443, 2.844328, 1.108454, -3.269289, -0.586438, -2.542108, 0.105562, 0, false, false, 0.0, 22.826547], [527, \"2024-07-18\", 16.9, 249.23, 5.518376, 2.827314, 1.086564, -3.168756, -0.486509, -2.559575, 0.101643, 0, false, false, 0.0, 22.826547], [528, \"2024-07-19\", 16.75, 239.2, 5.4773, 2.818398, 1.016479, -2.74916, -0.294736, -2.638238, 0.085349, 0, false, false, 0.0, 22.826547], [529, \"2024-07-22\", 17.22, 251.51, 5.527483, 2.846071, 0.903525, -2.148146, -0.006635, -2.616053, 0.089725, 0, false, false, 0.0, 22.826547], [530, \"2024-07-23\", 17.5, 246.38, 5.506875, 2.862201, 0.785611, -1.464059, 0.562614, -2.627701, 0.087406, 0, false, false, 0.0, 22.826547], [531, \"2024-07-24\", 16.27, 215.99, 5.375232, 2.789323, 0.608592, -0.481999, 2.281913, -2.55505, 0.102648, -1, true, false, 0.0, 22.826547], [532, \"2024-07-25\", 16.25, 220.25, 5.394763, 2.788093, 0.620286, -0.558202, 1.928848, -2.618806, 0.089172, -1, false, false, 0.0, 22.826547], [533, \"2024-07-26\", 16.21, 219.8, 5.392718, 2.785628, 0.598142, -0.439981, 1.790667, -2.574079, 0.098474, -1, false, false, 0.0, 22.826547], [534, \"2024-07-29\", 16.3, 232.1, 5.447168, 2.791165, 0.41351, 0.538704, 2.259746, -2.580542, 0.097086, -1, false, false, 0.0, 22.826547], [535, \"2024-07-30\", 16.22, 222.62, 5.405466, 2.786245, 0.170115, 1.866696, 2.631414, -2.61018, 0.090911, -1, false, false, 0.0, 22.826547], [536, \"2024-07-31\", 16.41, 232.07, 5.447039, 2.797891, 0.104973, 2.226097, 2.328262, -2.619362, 0.089061, -1, false, false, 0.0, 22.826547], [537, \"2024-08-01\", 15.24, 216.86, 5.379252, 2.723924, 0.229801, 1.487765, 1.643637, -2.621414, 0.088652, -1, false, false, 0.0, 22.826547], [538, \"2024-08-02\", 14.72, 207.67, 5.33595, 2.689207, 0.413384, 0.483409, 0.987162, -2.650482, 0.083006, -1, false, false, 0.0, 22.826547], [539, \"2024-08-05\", 14.61, 198.88, 5.292702, 2.681706, 0.531341, -0.130522, 0.594576, -2.668853, 0.079585, -1, false, false, 0.0, 22.826547], [540, \"2024-08-06\", 14.8, 200.64, 5.301512, 2.694627, 0.650835, -0.755784, 0.219165, -2.671568, 0.079089, 0, false, true, 0.273785, 23.100332], [541, \"2024-08-07\", 13.79, 191.76, 5.256245, 2.623944, 0.788936, -1.522899, -0.222279, -2.659908, 0.081237, 0, false, false, 0.0, 23.100332], [542, \"2024-08-08\", 14.72, 198.84, 5.2925, 2.689207, 0.786712, -1.474467, -0.232486, -2.638928, 0.085216, 0, false, false, 0.0, 23.100332], [543, \"2024-08-09\", 13.95, 200.0, 5.298317, 2.63548, 0.796389, -1.58404, -0.346579, -2.657085, 0.081763, 0, false, false, 0.0, 23.100332], [544, \"2024-08-12\", 13.39, 197.49, 5.285688, 2.594508, 0.851059, -1.903923, -0.593094, -2.63446, 0.086082, 0, false, false, 0.0, 23.100332], [545, \"2024-08-13\", 13.54, 207.83, 5.33672, 2.605648, 0.881846, -2.100515, -0.783028, -2.595788, 0.093871, 0, false, false, 0.0, 23.100332], [546, \"2024-08-14\", 13.25, 201.38, 5.305194, 2.583998, 0.937916, -2.391827, -1.032637, -2.577305, 0.097779, 0, false, false, 0.0, 23.100332], [547, \"2024-08-15\", 13.76, 214.14, 5.36663, 2.621766, 0.984598, -2.662205, -1.256823, -2.542794, 0.105406, 0, false, false, 0.0, 23.100332], [548, \"2024-08-16\", 13.21, 216.12, 5.375834, 2.580974, 0.978258, -2.677977, -1.273931, -2.5497, 0.103845, 0, false, false, 0.0, 23.100332], [549, \"2024-08-19\", 13.53, 222.72, 5.405915, 2.604909, 0.939507, -2.473985, -1.112669, -2.592744, 0.094506, 0, false, false, 0.0, 23.100332], [550, \"2024-08-20\", 13.2, 221.1, 5.398615, 2.580217, 0.757895, -1.511368, -0.470529, -2.774982, 0.061937, 0, false, false, 0.0, 23.100332], [551, \"2024-08-21\", 13.07, 223.27, 5.408382, 2.57032, 0.603211, -0.692076, 0.081019, -2.678213, 0.077885, 0, false, false, 0.0, 23.100332], [552, \"2024-08-22\", 12.81, 210.66, 5.350245, 2.550226, 0.548406, -0.383881, 0.279875, -2.51077, 0.112876, 0, false, false, 0.0, 23.100332], [553, \"2024-08-23\", 13.96, 220.32, 5.395081, 2.636196, 0.45187, 0.198321, 0.639172, -2.510323, 0.112983, 0, false, false, 0.0, 23.100332], [554, \"2024-08-26\", 14.36, 213.21, 5.362278, 2.664447, 0.273528, 1.197716, 1.244979, -2.521003, 0.110447, 0, false, false, 0.0, 23.100332], [555, \"2024-08-27\", 14.48, 209.21, 5.343339, 2.672768, 0.121823, 2.021826, 1.753643, -2.520369, 0.110597, 0, false, false, 0.0, 23.100332], [556, \"2024-08-28\", 13.83, 205.75, 5.326662, 2.62684, -0.273531, 4.083846, 2.633092, -2.50359, 0.114603, -1, true, false, 0.0, 23.100332], [557, \"2024-08-29\", 14.09, 206.28, 5.329234, 2.645465, -0.389118, 4.719167, 2.45992, -2.373188, 0.149447, -1, false, false, 0.0, 23.100332], [558, \"2024-08-30\", 14.13, 214.11, 5.36649, 2.6483, -0.360693, 4.583955, 2.030898, -2.381288, 0.147088, -1, false, false, 0.0, 23.100332], [559, \"2024-09-03\", 13.15, 210.6, 5.349961, 2.576422, -0.315077, 4.262069, 1.66101, -2.433467, 0.132512, -1, false, false, 0.0, 23.100332], [560, \"2024-09-04\", 13.28, 219.41, 5.390942, 2.586259, -0.260032, 3.988076, 1.386856, -2.82603, 0.054651, -1, false, false, 0.0, 23.100332], [561, \"2024-09-05\", 13.74, 230.17, 5.438818, 2.620311, -0.232416, 3.884378, 1.211624, -2.861866, 0.049966, -1, false, false, 0.0, 23.100332], [562, \"2024-09-06\", 13.23, 210.73, 5.350578, 2.582487, -0.090765, 3.068135, 0.83738, -2.660119, 0.081197, -1, false, false, 0.0, 23.100332], [563, \"2024-09-09\", 13.08, 216.27, 5.376528, 2.571084, -0.058893, 2.887725, 0.698509, -2.811302, 0.056677, -1, false, false, 0.0, 23.100332], [564, \"2024-09-10\", 13.23, 226.17, 5.421287, 2.582487, -0.163922, 3.471157, 0.816725, -3.187166, 0.02074, -1, false, false, 0.0, 23.100332], [565, \"2024-09-11\", 13.93, 228.13, 5.429916, 2.634045, -0.087124, 3.107119, 0.611966, -2.633191, 0.08633, -1, false, false, 0.0, 23.100332], [566, \"2024-09-12\", 13.72, 229.81, 5.437253, 2.618855, -0.140324, 3.381833, 0.63549, -3.136747, 0.023951, 0, false, true, 0.702014, 23.802345], [567, \"2024-09-13\", 13.5, 230.29, 5.439339, 2.60269, -0.128205, 3.300041, 0.529273, -2.823773, 0.054957, 0, false, false, 0.0, 23.802345], [568, \"2024-09-16\", 13.2, 226.78, 5.42398, 2.580217, -0.169989, 3.502232, 0.5411, -3.326993, 0.013714, 0, false, false, 0.0, 23.802345], [569, \"2024-09-17\", 13.1, 227.87, 5.428775, 2.572612, -0.209566, 3.710296, 0.574274, -3.873924, 0.002235, 0, false, false, 0.0, 23.802345], [570, \"2024-09-18\", 12.9, 227.2, 5.425831, 2.557227, -0.251835, 3.92364, 0.630296, -2.947381, 0.040109, 0, false, false, 0.0, 23.802345], [571, \"2024-09-19\", 13.15, 243.92, 5.49684, 2.576422, -0.245352, 3.925081, 0.568792, -1.868587, 0.34698, 0, false, false, 0.0, 23.802345], [572, \"2024-09-20\", 11.71, 238.25, 5.473321, 2.460443, -0.526024, 5.339542, 1.609367, -2.115857, 0.238187, 0, false, false, 0.0, 23.802345], [573, \"2024-09-23\", 11.91, 250.0, 5.521461, 2.477378, -0.63726, 5.995983, 2.152005, -1.231441, 0.659927, -1, true, false, 0.0, 23.802345], [574, \"2024-09-24\", 11.84, 254.27, 5.538397, 2.471484, -0.669087, 6.177154, 2.167875, -1.128458, 0.703591, -1, false, false, 0.0, 23.802345], [575, \"2024-09-25\", 11.03, 257.02, 5.549154, 2.400619, -0.766966, 6.656632, 2.277566, -1.050409, 0.734438, -1, false, false, 0.0, 23.802345], [576, \"2024-09-26\", 11.17, 254.22, 5.5382, 2.413232, -0.877489, 7.272939, 2.279776, -0.659796, 0.85689, -1, false, false, 0.0, 23.802345], [577, \"2024-09-27\", 11.6, 260.46, 5.562449, 2.451005, -0.88408, 7.368657, 1.992527, -0.565882, 0.878506, -1, false, false, 0.0, 23.802345], [578, \"2024-09-30\", 11.22, 261.63, 5.566931, 2.417698, -0.888376, 7.363225, 1.728964, -0.811377, 0.815757, -1, false, false, 0.0, 23.802345], [579, \"2024-10-01\", 10.44, 258.02, 5.553037, 2.345645, -1.073765, 8.308302, 1.955004, -0.866703, 0.79874, -1, false, false, 0.0, 23.802345], [580, \"2024-10-02\", 10.64, 249.02, 5.517533, 2.36462, -1.154484, 8.734526, 1.863919, -0.418691, 0.906931, -1, false, false, 0.0, 23.802345], [581, \"2024-10-03\", 10.78, 240.66, 5.483385, 2.377693, -1.134747, 8.59995, 1.572484, -0.592052, 0.872768, -1, false, false, 0.0, 23.802345], [582, \"2024-10-04\", 10.44, 250.08, 5.521781, 2.345645, -1.326703, 9.67141, 1.802143, -0.909689, 0.784765, -1, false, false, 0.0, 23.802345], [583, \"2024-10-07\", 10.49, 240.83, 5.484091, 2.350422, -1.4489, 10.29632, 1.810227, -0.303288, 0.925037, 0, false, true, -4.300337, 19.502009], [584, \"2024-10-08\", 10.47, 244.5, 5.499215, 2.348514, -1.457608, 10.364215, 1.617927, -0.363312, 0.916047, 0, false, false, 0.0, 19.502009], [585, \"2024-10-09\", 10.42, 241.05, 5.485004, 2.343727, -1.306235, 9.50843, 1.156882, -0.551867, 0.881492, 0, false, false, 0.0, 19.502009], [586, \"2024-10-10\", 10.26, 238.77, 5.475501, 2.328253, -1.080103, 8.242357, 0.565866, -1.089042, 0.719422, 0, false, false, 0.0, 19.502009], [587, \"2024-10-11\", 10.5, 217.8, 5.383577, 2.351375, -0.481263, 4.94229, -0.915436, -1.417905, 0.573663, 0, false, false, 0.0, 19.502009], [588, \"2024-10-14\", 10.35, 219.16, 5.389802, 2.336987, -0.064011, 2.68199, -1.844594, -2.046843, 0.266419, 0, false, false, 0.0, 19.502009], [589, \"2024-10-15\", 10.15, 219.57, 5.391671, 2.317474, 0.265394, 0.886558, -2.284984, -1.969866, 0.29994, 1, true, false, 0.0, 19.502009], [590, \"2024-10-16\", 10.24, 221.33, 5.399655, 2.326302, 0.508789, -0.420981, -2.339935, -1.867364, 0.347566, 1, false, false, 0.0, 19.502009], [591, \"2024-10-17\", 10.12, 220.89, 5.397665, 2.314514, 0.516958, -0.47585, -2.0475, -2.086117, 0.250134, 1, false, false, 0.0, 19.502009], [592, \"2024-10-18\", 10.04, 220.7, 5.396804, 2.306577, 0.552744, -0.676475, -1.826463, -2.171977, 0.216573, 1, false, false, 0.0, 19.502009], [593, \"2024-10-21\", 10.03, 218.85, 5.388387, 2.305581, 0.519955, -0.496137, -1.570227, -1.979807, 0.295497, 1, false, false, 0.0, 19.502009], [594, \"2024-10-22\", 10.49, 217.97, 5.384357, 2.350422, 0.426095, 0.056177, -1.290833, -1.939544, 0.313693, 1, false, false, 0.0, 19.502009], [595, \"2024-10-23\", 10.16, 213.65, 5.364339, 2.318458, 0.407186, 0.134177, -1.15198, -2.096761, 0.245819, 1, false, false, 0.0, 19.502009], [596, \"2024-10-24\", 10.43, 260.48, 5.562526, 2.344686, 0.333488, 0.489652, -0.971837, -2.126549, 0.233974, 1, false, false, 0.0, 19.502009], [597, \"2024-10-25\", 10.45, 269.19, 5.595417, 2.346602, 0.210503, 1.168749, -0.743325, -2.211352, 0.202151, 1, false, false, 0.0, 19.502009], [598, \"2024-10-28\", 10.86, 262.51, 5.570289, 2.385086, 0.178583, 1.390326, -0.626723, -2.258471, 0.185712, 1, false, false, 0.0, 19.502009], [599, \"2024-10-29\", 10.47, 259.52, 5.558834, 2.348514, 0.179626, 1.350003, -0.566226, -2.265425, 0.183362, 0, false, true, -0.463444, 19.038564], [600, \"2024-10-30\", 10.39, 257.55, 5.551214, 2.340844, 0.160883, 1.447749, -0.474454, -2.343058, 0.158457, 0, false, false, 0.0, 19.038564], [601, \"2024-10-31\", 10.1, 249.85, 5.520861, 2.312535, 0.138592, 1.547386, -0.382145, -2.240293, 0.191948, 0, false, false, 0.0, 19.038564], [602, \"2024-11-01\", 10.18, 248.98, 5.517373, 2.320425, 0.127529, 1.616803, -0.287161, -2.320641, 0.165397, 0, false, false, 0.0, 19.038564], [603, \"2024-11-04\", 10.29, 242.84, 5.492403, 2.331173, 0.123888, 1.65073, -0.185779, -2.440174, 0.130717, 0, false, false, 0.0, 19.038564], [604, \"2024-11-05\", 10.59, 251.44, 5.527204, 2.35991, 0.130369, 1.639332, -0.071148, -2.476678, 0.121252, 0, false, false, 0.0, 19.038564], [605, \"2024-11-06\", 9.71, 288.53, 5.664799, 2.273156, 0.024539, 2.134147, 0.323961, -2.590262, 0.095027, 0, false, false, 0.0, 19.038564], [606, \"2024-11-07\", 10.05, 296.91, 5.693429, 2.307573, -0.005174, 2.337029, 0.871737, -2.736911, 0.067866, 0, false, false, 0.0, 19.038564], [607, \"2024-11-08\", 10.59, 321.22, 5.772126, 2.35991, 0.03645, 2.149517, 1.080373, -2.737359, 0.067794, 0, false, false, 0.0, 19.038564], [608, \"2024-11-11\", 11.04, 350.0, 5.857933, 2.401525, 0.093684, 1.852732, 0.880103, -2.699012, 0.074209, 0, false, false, 0.0, 19.038564], [609, \"2024-11-12\", 10.58, 328.49, 5.794506, 2.358965, 0.092862, 1.820878, 0.786448, -2.417448, 0.136872, 0, false, false, 0.0, 19.038564], [610, \"2024-11-13\", 12.03, 330.24, 5.79982, 2.487404, 0.162518, 1.54483, 0.435803, -2.433489, 0.132506, 0, false, false, 0.0, 19.038564], [611, \"2024-11-14\", 10.31, 311.18, 5.740372, 2.333114, 0.148408, 1.481196, 0.288172, -2.53725, 0.106672, 0, false, false, 0.0, 19.038564], [612, \"2024-11-15\", 10.06, 320.72, 5.770568, 2.308567, 0.118703, 1.623585, 0.372817, -2.47204, 0.122426, 0, false, false, 0.0, 19.038564], [613, \"2024-11-18\", 10.07, 338.74, 5.825233, 2.309561, 0.081452, 1.835084, 0.610821, -2.360349, 0.153242, 0, false, false, 0.0, 19.038564], [614, \"2024-11-19\", 10.17, 346.0, 5.846439, 2.319442, 0.077124, 1.868542, 0.609848, -2.354309, 0.15505, 0, false, false, 0.0, 19.038564], [615, \"2024-11-20\", 10.05, 342.03, 5.834898, 2.307573, 0.049996, 2.015848, 0.91455, -2.21377, 0.201286, 0, false, false, 0.0, 19.038564], [616, \"2024-11-21\", 10.02, 339.64, 5.827886, 2.304583, 0.033593, 2.108807, 1.2303, -2.310378, 0.168643, 0, false, false, 0.0, 19.038564], [617, \"2024-11-22\", 10.24, 352.56, 5.865221, 2.326302, 0.026779, 2.169238, 1.328133, -2.292003, 0.17456, 0, false, false, 0.0, 19.038564], [618, \"2024-11-25\", 11.6, 338.59, 5.82479, 2.451005, 0.081251, 1.977735, 0.600167, -2.271867, 0.181202, 0, false, false, 0.0, 19.038564], [619, \"2024-11-26\", 11.55, 338.23, 5.823726, 2.446685, 0.117835, 1.760449, -0.263059, -2.231309, 0.195079, 0, false, false, 0.0, 19.038564], [620, \"2024-11-27\", 12.22, 332.89, 5.807812, 2.503074, 0.158575, 1.582102, -1.006141, -2.222343, 0.198237, 0, false, false, 0.0, 19.038564], [621, \"2024-11-29\", 12.23, 345.16, 5.844008, 2.503892, 0.19459, 1.366706, -1.730274, -2.22415, 0.197598, 0, false, false, 0.0, 19.038564], [622, \"2024-12-02\", 11.87, 357.09, 5.877988, 2.474014, 0.237325, 1.07902, -2.31402, -2.213853, 0.201256, 1, true, false, 0.0, 19.038564], [623, \"2024-12-03\", 11.88, 351.42, 5.861982, 2.474856, 0.334561, 0.513667, -2.901332, -2.19016, 0.209836, 1, false, false, 0.0, 19.038564], [624, \"2024-12-04\", 11.96, 357.93, 5.880337, 2.481568, 0.712068, -1.705634, -3.726254, -2.165714, 0.218924, 0, false, true, 2.784654, 21.823218], [625, \"2024-12-05\", 12.34, 369.49, 5.912124, 2.512846, 0.777236, -2.082269, -2.896342, -1.588191, 0.489523, 1, true, false, 0.0, 21.823218], [626, \"2024-12-06\", 13.0, 389.22, 5.964145, 2.564949, 0.949892, -3.100341, -2.742237, -1.842769, 0.359444, 1, false, false, 0.0, 21.823218], [627, \"2024-12-09\", 14.45, 389.79, 5.965608, 2.670694, 1.231156, -4.6739, -2.74479, -1.505624, 0.530727, 1, false, false, 0.0, 21.823218], [628, \"2024-12-10\", 14.06, 400.99, 5.993936, 2.643334, 1.293343, -5.108883, -2.345489, -1.14005, 0.698839, 1, false, false, 0.0, 21.823218], [629, \"2024-12-11\", 13.76, 424.77, 6.051548, 2.621766, 1.169921, -4.458065, -1.775838, -1.383943, 0.589949, 1, false, false, 0.0, 21.823218], [630, \"2024-12-12\", 14.2, 418.1, 6.035721, 2.653242, 1.237243, -4.814413, -1.662887, -1.773468, 0.393711, 1, false, false, 0.0, 21.823218], [631, \"2024-12-13\", 14.37, 436.23, 6.07817, 2.665143, 1.227876, -4.798096, -1.464252, -1.484703, 0.541065, 1, false, false, 0.0, 21.823218], [632, \"2024-12-16\", 15.34, 463.02, 6.13777, 2.730464, 1.161495, -4.398525, -1.1925, -1.564146, 0.501575, 1, false, false, 0.0, 21.823218], [633, \"2024-12-17\", 14.7, 479.86, 6.173494, 2.687847, 1.010474, -3.550308, -0.820838, -1.682556, 0.440122, 1, false, false, 0.0, 21.823218], [634, \"2024-12-18\", 13.06, 440.13, 6.08707, 2.569554, 0.908661, -2.961527, -0.552322, -1.999096, 0.28697, 1, false, false, 0.0, 21.823218], [635, \"2024-12-19\", 13.06, 436.17, 6.078032, 2.569554, 0.812129, -2.366594, -0.282735, -2.100481, 0.244321, 0, false, true, 0.284325, 22.107543], [636, \"2024-12-20\", 13.83, 421.06, 6.042775, 2.62684, 0.741676, -1.85494, -0.031357, -2.09893, 0.244945, 0, false, false, 0.0, 22.107543], [637, \"2024-12-23\", 13.75, 430.6, 6.06518, 2.621039, 0.66713, -1.425226, 0.209754, -2.148367, 0.225516, 0, false, false, 0.0, 22.107543], [638, \"2024-12-24\", 14.06, 462.28, 6.136171, 2.643334, 0.630025, -1.222606, 0.379815, -2.658349, 0.081527, 0, false, false, 0.0, 22.107543], [639, \"2024-12-26\", 14.04, 454.13, 6.118384, 2.64191, 0.594788, -0.997231, 0.575674, -2.652226, 0.082676, 0, false, false, 0.0, 22.107543], [640, \"2024-12-27\", 13.65, 431.66, 6.067638, 2.61374, 0.621119, -1.154986, 0.615522, -2.580128, 0.097174, 0, false, false, 0.0, 22.107543], [641, \"2024-12-30\", 13.58, 417.41, 6.034069, 2.608598, 0.637039, -1.235337, 0.703955, -3.555868, 0.006663, 0, false, false, 0.0, 22.107543], [642, \"2024-12-31\", 13.3, 403.84, 6.001019, 2.587764, 0.597899, -1.000237, 0.97875, -3.830207, 0.002613, 0, false, false, 0.0, 22.107543], [643, \"2025-01-02\", 13.25, 379.28, 5.938275, 2.583998, 0.522812, -0.520601, 1.374046, -4.012745, 0.001345, 0, false, false, 0.0, 22.107543], [644, \"2025-01-03\", 16.49, 410.44, 6.01723, 2.802754, 0.370578, 0.572901, 1.825221, -3.659666, 0.004718, 0, false, false, 0.0, 22.107543], [645, \"2025-01-06\", 15.71, 411.05, 6.018715, 2.754297, 0.184337, 1.644824, 2.054069, -3.3977, 0.011038, -1, true, false, 0.0, 22.107543], [646, \"2025-01-07\", 14.95, 394.36, 5.977264, 2.704711, 0.031547, 2.516144, 2.066555, -1.800588, 0.38017, -1, false, false, 0.0, 22.107543], [647, \"2025-01-08\", 14.21, 394.94, 5.978734, 2.653946, 0.053955, 2.331366, 1.733343, -1.685448, 0.438625, -1, false, false, 0.0, 22.107543], [648, \"2025-01-10\", 13.85, 394.74, 5.978227, 2.628285, 0.068966, 2.21599, 1.516634, -1.689995, 0.436275, -1, false, false, 0.0, 22.107543], [649, \"2025-01-13\", 13.49, 403.31, 5.999705, 2.601949, 0.098338, 2.011949, 1.29462, -1.607162, 0.479995, -1, false, false, 0.0, 22.107543], [650, \"2025-01-14\", 13.34, 396.36, 5.982323, 2.590767, 0.139881, 1.753953, 1.091026, -1.712213, 0.424831, -1, false, false, 0.0, 22.107543], [651, \"2025-01-15\", 13.94, 428.22, 6.059637, 2.634762, 0.130555, 1.843649, 1.052214, -1.758016, 0.401496, -1, false, false, 0.0, 22.107543], [652, \"2025-01-16\", 14.44, 413.82, 6.025431, 2.670002, 0.015273, 2.577979, 1.310242, -1.67053, 0.446357, -1, false, false, 0.0, 22.107543], [653, \"2025-01-17\", 14.21, 426.5, 6.055612, 2.653946, -0.108484, 3.31088, 1.540511, -1.451294, 0.557453, -1, false, false, 0.0, 22.107543], [654, \"2025-01-21\", 13.29, 424.07, 6.049899, 2.587012, -0.053544, 2.910946, 1.233755, -1.379921, 0.591863, -1, false, false, 0.0, 22.107543], [655, \"2025-01-22\", 12.69, 415.11, 6.028544, 2.540814, 0.020722, 2.415894, 0.887475, -1.606528, 0.480314, 0, false, true, -0.77107, 21.336473], [656, \"2025-01-23\", 12.49, 412.38, 6.021945, 2.524928, 0.038985, 2.29016, 0.73809, -1.701313, 0.430436, 0, false, false, 0.0, 21.336473], [657, \"2025-01-24\", 12.77, 406.58, 6.007781, 2.547099, 0.084233, 2.041046, 0.516056, -1.628729, 0.468156, 0, false, false, 0.0, 21.336473], [658, \"2025-01-27\", 12.85, 397.15, 5.984314, 2.553344, 0.139891, 1.716191, 0.236587, -1.646946, 0.458634, 0, false, false, 0.0, 21.336473], [659, \"2025-01-28\", 12.71, 398.09, 5.986678, 2.542389, 0.209518, 1.28807, -0.135616, -1.69983, 0.4312, 0, false, false, 0.0, 21.336473], [660, \"2025-01-29\", 12.42, 389.1, 5.963836, 2.519308, 0.455669, -0.198226, -1.31651, -1.747156, 0.406995, 0, false, false, 0.0, 21.336473], [661, \"2025-01-30\", 12.51, 400.28, 5.992164, 2.526528, 0.534962, -0.67905, -1.783028, -1.823407, 0.368904, 0, false, false, 0.0, 21.336473], [662, \"2025-01-31\", 12.56, 404.6, 6.002899, 2.530517, 0.534564, -0.678414, -1.843873, -1.810275, 0.375372, 0, false, false, 0.0, 21.336473], [663, \"2025-02-03\", 12.39, 383.68, 5.949809, 2.51689, 0.768519, -2.055654, -2.546723, -1.832225, 0.364584, 1, true, false, 0.0, 21.336473], [664, \"2025-02-04\", 12.87, 392.21, 5.971797, 2.554899, 0.649509, -1.323836, -1.792578, -1.684059, 0.439344, 1, false, false, 0.0, 21.336473], [665, \"2025-02-05\", 12.77, 378.17, 5.935344, 2.547099, 0.509089, -0.474521, -1.122626, -1.816806, 0.37215, 1, false, false, 0.0, 21.336473], [666, \"2025-02-06\", 12.8, 374.32, 5.925111, 2.549445, 0.584755, -0.915295, -1.257213, -1.851846, 0.355042, 1, false, false, 0.0, 21.336473], [667, \"2025-02-07\", 12.48, 361.62, 5.890594, 2.524127, 0.582485, -0.907056, -1.128364, -1.71023, 0.42585, 1, false, false, 0.0, 21.336473], [668, \"2025-02-10\", 12.99, 350.73, 5.860017, 2.56418, 0.419723, 0.104599, -0.456947, -1.762494, 0.399235, 0, false, true, -2.160252, 19.176221], [669, \"2025-02-11\", 12.44, 328.5, 5.794537, 2.520917, 0.334648, 0.581785, -0.123012, -1.768571, 0.396173, 0, false, false, 0.0, 19.176221], [670, \"2025-02-12\", 12.48, 336.51, 5.818628, 2.524127, 0.308618, 0.728394, -0.000303, -1.790117, 0.385379, 0, false, false, 0.0, 19.176221], [671, \"2025-02-13\", 13.3, 355.94, 5.874762, 2.587764, 0.216406, 1.31643, 0.388273, -1.83174, 0.364821, 0, false, false, 0.0, 19.176221], [672, \"2025-02-14\", 14.03, 355.84, 5.874481, 2.641198, 0.073761, 2.207892, 0.976807, -1.810122, 0.375448, 0, false, false, 0.0, 19.176221], [673, \"2025-02-18\", 14.44, 354.11, 5.869608, 2.670002, -0.116576, 3.35426, 1.706007, -1.710844, 0.425534, 0, false, false, 0.0, 19.176221], [674, \"2025-02-19\", 13.93, 360.56, 5.887658, 2.634045, -0.211998, 3.882215, 1.908256, -1.579121, 0.494073, 0, false, false, 0.0, 19.176221], [675, \"2025-02-20\", 13.61, 354.4, 5.870426, 2.610805, -0.244956, 4.0488, 1.823344, -1.58473, 0.491259, 0, false, false, 0.0, 19.176221], [676, \"2025-02-21\", 12.97, 337.8, 5.822454, 2.562639, -0.207449, 3.770499, 1.543445, -1.600126, 0.48353, 0, false, false, 0.0, 19.176221], [677, \"2025-02-24\", 11.96, 330.53, 5.800697, 2.481568, -0.089197, 2.998973, 1.079504, -1.66292, 0.450311, 0, false, false, 0.0, 19.176221], [678, \"2025-02-25\", 11.45, 302.8, 5.713073, 2.43799, 0.126088, 1.717639, 0.408219, -1.836399, 0.362546, 0, false, false, 0.0, 19.176221], [679, \"2025-02-26\", 11.4, 290.8, 5.672636, 2.433613, 0.270384, 0.899823, -0.010036, -2.05962, 0.261058, 0, false, false, 0.0, 19.176221], [680, \"2025-02-27\", 11.6, 281.95, 5.64173, 2.451005, 0.3381, 0.543538, -0.218094, -2.063828, 0.259306, 0, false, false, 0.0, 19.176221], [681, \"2025-02-28\", 11.84, 292.98, 5.680104, 2.471484, 0.39548, 0.225117, -0.417087, -2.033385, 0.27213, 0, false, false, 0.0, 19.176221], [682, \"2025-03-03\", 11.51, 284.65, 5.65126, 2.443216, 0.479761, -0.268036, -0.699636, -2.005115, 0.284335, 0, false, false, 0.0, 19.176221], [683, \"2025-03-04\", 11.26, 272.04, 5.605949, 2.421257, 0.538174, -0.595718, -0.970792, -2.066646, 0.258136, 0, false, false, 0.0, 19.176221], [684, \"2025-03-05\", 11.42, 279.1, 5.63157, 2.435366, 0.591097, -0.893439, -1.173697, -2.050241, 0.264987, 0, false, false, 0.0, 19.176221], [685, \"2025-03-06\", 11.03, 263.45, 5.573864, 2.400619, 0.63065, -1.114539, -1.257059, -2.27643, 0.179683, 0, false, false, 0.0, 19.176221], [686, \"2025-03-07\", 11.17, 262.67, 5.570898, 2.413232, 0.657483, -1.24954, -1.308545, -2.748396, 0.066032, 0, false, false, 0.0, 19.176221], [687, \"2025-03-10\", 10.96, 222.15, 5.403353, 2.394252, 0.585452, -0.769149, -1.04578, -2.658481, 0.081502, 0, false, false, 0.0, 19.176221], [688, \"2025-03-11\", 10.79, 230.58, 5.440598, 2.37862, 0.562734, -0.682987, -0.957554, -2.340249, 0.159315, 0, false, false, 0.0, 19.176221], [689, \"2025-03-12\", 11.06, 248.09, 5.513792, 2.403335, 0.560277, -0.685915, -0.90429, -2.948322, 0.04001, 0, false, false, 0.0, 19.176221], [690, \"2025-03-13\", 10.61, 240.68, 5.483468, 2.361797, 0.57454, -0.788677, -0.898616, -2.971765, 0.037617, 0, false, false, 0.0, 19.176221], [691, \"2025-03-14\", 10.75, 249.98, 5.521381, 2.374906, 0.582738, -0.842612, -0.853269, -2.852746, 0.051125, 0, false, false, 0.0, 19.176221], [692, \"2025-03-17\", 11.02, 238.01, 5.472313, 2.399712, 0.541855, -0.56549, -0.638305, -2.56617, 0.100193, 0, false, false, 0.0, 19.176221], [693, \"2025-03-18\", 11.2, 225.31, 5.417477, 2.415914, 0.450211, -0.023095, -0.280124, -2.660398, 0.081145, 0, false, false, 0.0, 19.176221], [694, \"2025-03-19\", 11.36, 235.86, 5.463238, 2.430098, 0.375071, 0.380995, 0.047034, -2.661382, 0.080963, 0, false, false, 0.0, 19.176221], [695, \"2025-03-20\", 10.88, 236.26, 5.464933, 2.386926, 0.301335, 0.740149, 0.443367, -2.658644, 0.081472, 0, false, false, 0.0, 19.176221], [696, \"2025-03-21\", 11.6, 248.71, 5.516288, 2.451005, 0.219285, 1.241366, 1.127412, -2.662713, 0.080716, 0, false, false, 0.0, 19.176221], [697, \"2025-03-24\", 12.19, 278.39, 5.629023, 2.500616, 0.234198, 1.182312, 1.426001, -2.725817, 0.069676, 0, false, false, 0.0, 19.176221], [698, \"2025-03-25\", 12.36, 288.14, 5.663446, 2.514465, 0.302263, 0.802617, 1.148858, -2.740479, 0.067292, 0, false, false, 0.0, 19.176221], [699, \"2025-03-26\", 12.1, 272.06, 5.606023, 2.493205, 0.346027, 0.553368, 0.882584, -2.910819, 0.044104, 0, false, false, 0.0, 19.176221], [700, \"2025-03-27\", 13.02, 273.13, 5.609948, 2.566487, 0.404548, 0.296996, 0.579093, -2.957708, 0.039037, 0, false, false, 0.0, 19.176221], [701, \"2025-03-28\", 12.41, 263.55, 5.574243, 2.518503, 0.441837, 0.055594, 0.280457, -2.89844, 0.04553, 0, false, false, 0.0, 19.176221], [702, \"2025-03-31\", 12.45, 259.16, 5.557446, 2.521721, 0.498607, -0.249262, -0.114991, -2.804298, 0.057662, 0, false, false, 0.0, 19.176221], [703, \"2025-04-01\", 13.28, 268.46, 5.592702, 2.586259, 0.593491, -0.73296, -0.727309, -2.598622, 0.093282, 0, false, false, 0.0, 19.176221], [704, \"2025-04-02\", 12.49, 282.76, 5.644598, 2.524928, 0.663671, -1.221229, -1.301616, -2.463718, 0.124553, 0, false, false, 0.0, 19.176221], [705, \"2025-04-03\", 11.53, 267.28, 5.588297, 2.444952, 0.66968, -1.297417, -1.364838, -2.41832, 0.136632, 0, false, false, 0.0, 19.176221], [706, \"2025-04-04\", 11.21, 239.43, 5.478261, 2.416806, 0.689992, -1.363151, -1.424663, -2.355535, 0.154681, 0, false, false, 0.0, 19.176221], [707, \"2025-04-07\", 11.21, 233.29, 5.452282, 2.416806, 0.711856, -1.464435, -1.436818, -2.3484, 0.156832, 0, false, false, 0.0, 19.176221], [708, \"2025-04-08\", 10.8, 221.86, 5.402047, 2.379546, 0.683049, -1.310318, -1.181293, -2.281905, 0.17787, 0, false, false, 0.0, 19.176221], [709, \"2025-04-09\", 11.77, 272.2, 5.606537, 2.465554, 0.652059, -1.190237, -0.995133, -2.315998, 0.16686, 0, false, false, 0.0, 19.176221], [710, \"2025-04-10\", 11.46, 252.4, 5.531015, 2.438863, 0.623627, -1.010428, -0.777499, -2.395515, 0.143006, 0, false, false, 0.0, 19.176221], [711, \"2025-04-11\", 11.47, 252.31, 5.530658, 2.439735, 0.612836, -0.949651, -0.70223, -2.686553, 0.076394, 0, false, false, 0.0, 19.176221], [712, \"2025-04-14\", 12.03, 252.35, 5.530817, 2.487404, 0.594488, -0.800603, -0.523876, -2.885937, 0.047008, 0, false, false, 0.0, 19.176221], [713, \"2025-04-15\", 11.95, 254.89, 5.540832, 2.480731, 0.621716, -0.964091, -0.64457, -2.626468, 0.087649, 0, false, false, 0.0, 19.176221]];\\n\\n        // Define the dt_args\\n        let dt_args = {\"layout\": {\"topStart\": \"pageLength\", \"topEnd\": \"search\", \"bottomStart\": \"info\", \"bottomEnd\": \"paging\"}, \"order\": [], \"warn_on_selected_rows_not_rendered\": true, \"filtered_row_count\": 36, \"fnInfoCallback\": function (oSettings, iStart, iEnd, iMax, iTotal, sPre) { return sPre + \\' (<a href=\"https://mwouts.github.io/itables/downsampling.html\">downsampled</a> from 654x15 to 618x15 as maxBytes=64KB)\\'; }};\\n        dt_args[\"data\"] = data;\\n\\n        \\n        new DataTable(table, dt_args);\\n    });\\n</script>\\n'"
      ]
     },
     "execution_count": 15,
     "metadata": {},
     "output_type": "execute_result"
    }
   ],
   "source": []
  },
  {
   "cell_type": "code",
   "execution_count": 16,
   "id": "3a963998",
   "metadata": {},
   "outputs": [
    {
     "data": {
      "text/html": [
       "<table id=\"itables_817ad8db_4e43_4548_b32c_756cf7ab14c5\" class=\"display nowrap\" data-quarto-disable-processing=\"true\" style=\"table-layout:auto;width:auto;margin:auto;caption-side:bottom\">\n",
       "<thead>\n",
       "    <tr style=\"text-align: right;\">\n",
       "      <th></th>\n",
       "      <th>timestamp</th>\n",
       "      <th>close_RIVN</th>\n",
       "      <th>close_TSLA</th>\n",
       "      <th>log_close_TSLA</th>\n",
       "      <th>log_close_RIVN</th>\n",
       "      <th>hedge_ratio</th>\n",
       "      <th>spread</th>\n",
       "      <th>z_score</th>\n",
       "      <th>adf_stat</th>\n",
       "      <th>p_value</th>\n",
       "      <th>position</th>\n",
       "      <th>trade_entry</th>\n",
       "      <th>trade_exit</th>\n",
       "      <th>pnl</th>\n",
       "      <th>cumulative_pnl</th>\n",
       "    </tr>\n",
       "  </thead><tbody><tr>\n",
       "<td style=\"vertical-align:middle; text-align:left\">\n",
       "\n",
       "Loading ITables v2.3.0 from the internet...\n",
       "(need <a href=https://mwouts.github.io/itables/troubleshooting.html>help</a>?)</td>\n",
       "</tr></tbody>\n",
       "</table>\n",
       "<link href=\"https://www.unpkg.com/dt_for_itables@2.2.0/dt_bundle.css\" rel=\"stylesheet\">\n",
       "<script type=\"module\">\n",
       "    import {DataTable, jQuery as $} from 'https://www.unpkg.com/dt_for_itables@2.2.0/dt_bundle.js';\n",
       "\n",
       "    document.querySelectorAll(\"#itables_817ad8db_4e43_4548_b32c_756cf7ab14c5:not(.dataTable)\").forEach(table => {\n",
       "        if (!(table instanceof HTMLTableElement))\n",
       "            return;\n",
       "\n",
       "        // Define the table data\n",
       "        const data = [[60, \"2022-09-07\", 33.25, 283.7, 5.647917, 3.504055, 1.136397, -2.914224, -1.467068, -2.822955, 0.055069, 0, false, false, 0.0, 0.0], [61, \"2022-09-08\", 36.88, 289.26, 5.667326, 3.607669, 1.094585, -2.595703, -1.117577, -2.79323, 0.059247, 0, false, false, 0.0, 0.0], [62, \"2022-09-09\", 37.55, 299.68, 5.702715, 3.625673, 1.214359, -3.299473, -1.426614, -2.774224, 0.062051, 0, false, false, 0.0, 0.0], [63, \"2022-09-12\", 38.74, 304.42, 5.718408, 3.656873, 1.224588, -3.345824, -1.302861, -2.617943, 0.089345, 0, false, false, 0.0, 0.0], [64, \"2022-09-13\", 38.76, 292.13, 5.677199, 3.657389, 1.228464, -3.316846, -1.159201, -2.653474, 0.082441, 0, false, false, 0.0, 0.0], [65, \"2022-09-14\", 40.1, 302.61, 5.712445, 3.691376, 1.309754, -3.790523, -1.301619, -2.64798, 0.083481, 0, false, false, 0.0, 0.0], [66, \"2022-09-15\", 39.69, 303.75, 5.716205, 3.681099, 1.46123, -4.67159, -1.603399, -2.518768, 0.110974, 0, false, false, 0.0, 0.0], [67, \"2022-09-16\", 39.26, 303.35, 5.714887, 3.670206, 1.606027, -5.508057, -1.776292, -2.34025, 0.159315, 0, false, false, 0.0, 0.0], [68, \"2022-09-19\", 37.94, 309.07, 5.733568, 3.636006, 1.610883, -5.600098, -1.594248, -2.208307, 0.203244, 0, false, false, 0.0, 0.0], [69, \"2022-09-20\", 35.75, 308.73, 5.732467, 3.57655, 1.481604, -4.916699, -1.152601, -2.297599, 0.172743, 0, false, false, 0.0, 0.0], [70, \"2022-09-21\", 35.1, 300.8, 5.706446, 3.558201, 1.493769, -4.965909, -1.061089, -2.521524, 0.110325, 0, false, false, 0.0, 0.0], [71, \"2022-09-22\", 33.33, 288.59, 5.665007, 3.506458, 1.56313, -5.348683, -1.148286, -2.293607, 0.174038, 0, false, false, 0.0, 0.0], [72, \"2022-09-23\", 33.56, 275.33, 5.61797, 3.513335, 1.553768, -5.215686, -1.078889, -2.136551, 0.230073, 0, false, false, 0.0, 0.0], [73, \"2022-09-26\", 33.85, 276.01, 5.620437, 3.521939, 1.495401, -4.882867, -0.861087, -2.216168, 0.20043, 0, false, false, 0.0, 0.0], [74, \"2022-09-27\", 33.79, 282.94, 5.645235, 3.520165, 1.474344, -4.802853, -0.756225, -2.269745, 0.181912, 0, false, false, 0.0, 0.0], [75, \"2022-09-28\", 35.08, 287.81, 5.662301, 3.557631, 1.425994, -4.516777, -0.461828, -2.214295, 0.201098, 0, false, false, 0.0, 0.0], [76, \"2022-09-29\", 32.31, 268.21, 5.59177, 3.475377, 1.383335, -4.259913, -0.161593, -2.240357, 0.191926, 0, false, false, 0.0, 0.0], [77, \"2022-09-30\", 32.91, 265.25, 5.580673, 3.493777, 1.260365, -3.539908, 0.562877, -2.237171, 0.193032, 0, false, false, 0.0, 0.0], [78, \"2022-10-03\", 31.89, 242.4, 5.490589, 3.462292, 0.980943, -1.923662, 1.948478, -2.326529, 0.163554, 0, false, false, 0.0, 0.0], [79, \"2022-10-04\", 36.3, 249.44, 5.519218, 3.591818, 0.728046, -0.426425, 2.666015, -2.422356, 0.135526, -1, true, false, 0.0, 0.0], [80, \"2022-10-05\", 36.13, 240.81, 5.484008, 3.587124, 0.538343, 0.634846, 2.649043, -2.462698, 0.124816, -1, false, false, 0.0, 0.0], [81, \"2022-10-06\", 36.76, 238.13, 5.472817, 3.60441, 0.40064, 1.411781, 2.470632, -2.451898, 0.127621, -1, false, false, 0.0, 0.0], [82, \"2022-10-07\", 33.95, 223.07, 5.407486, 3.524889, 0.349401, 1.635511, 2.129493, -2.41531, 0.137462, -1, false, false, 0.0, 0.0], [83, \"2022-10-10\", 31.48, 222.96, 5.406992, 3.449352, 0.36927, 1.452711, 1.771916, -2.840601, 0.052704, -1, false, false, 0.0, 0.0], [84, \"2022-10-11\", 32.33, 216.5, 5.377591, 3.475996, 0.350315, 1.592144, 1.603177, -3.18816, 0.02068, -1, false, false, 0.0, 0.0], [85, \"2022-10-12\", 32.35, 217.24, 5.381003, 3.476614, 0.309131, 1.813181, 1.486376, -2.97903, 0.0369, -1, false, false, 0.0, 0.0], [86, \"2022-10-13\", 32.5, 221.72, 5.401415, 3.48124, 0.265151, 2.049052, 1.391384, -1.872304, 0.3452, -1, false, false, 0.0, 0.0], [87, \"2022-10-14\", 28.71, 204.99, 5.322961, 3.357245, 0.290718, 1.809764, 1.185194, -1.871049, 0.345801, -1, false, false, 0.0, 0.0], [88, \"2022-10-17\", 30.7, 219.35, 5.390669, 3.424263, 0.270447, 1.96637, 1.119193, -2.143495, 0.227388, -1, false, false, 0.0, 0.0], [89, \"2022-10-18\", 31.64, 220.19, 5.394491, 3.454422, 0.267991, 2.008746, 1.025749, -2.050023, 0.265079, 0, false, true, -2.435171, -2.435171], [90, \"2022-10-19\", 31.5, 222.04, 5.402858, 3.449988, 0.274309, 1.967937, 0.918368, -1.940805, 0.313115, 0, false, false, 0.0, -2.435171], [91, \"2022-10-20\", 30.73, 207.28, 5.334071, 3.425239, 0.322908, 1.702823, 0.751605, -1.925498, 0.320163, 0, false, false, 0.0, -2.435171], [92, \"2022-10-21\", 31.92, 214.44, 5.36803, 3.463233, 0.338591, 1.645665, 0.656747, -1.966374, 0.301509, 0, false, false, 0.0, -2.435171], [93, \"2022-10-24\", 31.34, 211.25, 5.353042, 3.444895, 0.360692, 1.514094, 0.533789, -1.900534, 0.33181, 0, false, false, 0.0, -2.435171], [94, \"2022-10-25\", 34.49, 222.41, 5.404523, 3.540669, 0.393626, 1.413311, 0.415797, -1.912522, 0.326194, 0, false, false, 0.0, -2.435171], [95, \"2022-10-26\", 34.44, 224.64, 5.414499, 3.539219, 0.427603, 1.223963, 0.235923, -1.848815, 0.356509, 0, false, false, 0.0, -2.435171], [96, \"2022-10-27\", 34.5, 225.09, 5.4165, 3.540959, 0.614279, 0.213718, -0.549166, -1.860911, 0.350667, 0, false, false, 0.0, -2.435171], [97, \"2022-10-28\", 34.48, 228.52, 5.431624, 3.540379, 0.970209, -1.729432, -2.398444, -2.048493, 0.265723, 1, true, false, 0.0, -2.435171], [98, \"2022-10-31\", 34.97, 227.54, 5.427326, 3.554491, 1.209166, -3.00805, -3.025448, -2.196913, 0.207368, 0, false, true, 1.278617, -1.156553], [99, \"2022-11-01\", 33.48, 227.82, 5.428556, 3.510948, 1.362266, -3.884186, -2.779594, -2.208559, 0.203154, 1, true, false, 0.0, -1.156553], [100, \"2022-11-02\", 31.52, 214.98, 5.370545, 3.450622, 1.431359, -4.236557, -2.363754, -2.201141, 0.205832, 1, false, false, 0.0, -1.156553], [101, \"2022-11-03\", 32.24, 215.31, 5.372079, 3.473208, 1.371143, -3.892678, -1.865336, -2.254608, 0.187026, 1, false, false, 0.0, -1.156553], [102, \"2022-11-04\", 31.99, 207.47, 5.334987, 3.465423, 1.185991, -2.861823, -1.266131, -2.344336, 0.158067, 1, false, false, 0.0, -1.156553], [103, \"2022-11-07\", 31.32, 197.08, 5.28361, 3.444257, 0.932961, -1.485143, -0.621705, -2.506101, 0.113997, 1, false, false, 0.0, -1.156553], [104, \"2022-11-08\", 31.85, 191.3, 5.253843, 3.461037, 0.653401, 0.028173, 0.049145, -2.596018, 0.093823, 0, false, true, -3.91236, -5.068913], [105, \"2022-11-09\", 28.07, 177.59, 5.179478, 3.334701, 0.683539, -0.205673, -0.00768, -2.59494, 0.094048, 0, false, false, 0.0, -5.068913], [106, \"2022-11-10\", 32.96, 190.72, 5.250806, 3.495295, 0.56708, 0.517668, 0.347952, -2.591988, 0.094664, 0, false, false, 0.0, -5.068913], [107, \"2022-11-11\", 34.9, 195.97, 5.277962, 3.552487, 0.43415, 1.261059, 0.698103, -2.414185, 0.137773, 0, false, false, 0.0, -5.068913], [108, \"2022-11-14\", 34.38, 190.95, 5.252012, 3.537475, 0.367907, 1.605224, 0.867907, -2.360942, 0.153065, 0, false, false, 0.0, -5.068913], [109, \"2022-11-15\", 35.15, 194.42, 5.270021, 3.559625, 0.321791, 1.86378, 0.991858, -2.406139, 0.140011, 0, false, false, 0.0, -5.068913], [110, \"2022-11-16\", 33.32, 186.92, 5.230681, 3.506158, 0.311086, 1.878968, 1.002969, -2.592145, 0.094632, 0, false, false, 0.0, -5.068913], [111, \"2022-11-17\", 32.07, 183.17, 5.210415, 3.467921, 0.302413, 1.892226, 1.000325, -2.558293, 0.101927, 0, false, false, 0.0, -5.068913], [112, \"2022-11-18\", 30.34, 180.19, 5.194012, 3.412467, 0.353836, 1.574638, 0.8591, -2.186198, 0.211293, 0, false, false, 0.0, -5.068913], [113, \"2022-11-21\", 28.42, 167.87, 5.12319, 3.347093, 0.447928, 1.052271, 0.637385, -2.198444, 0.206811, 0, false, false, 0.0, -5.068913], [114, \"2022-11-22\", 28.94, 169.91, 5.135269, 3.365225, 0.478866, 0.906118, 0.587035, -2.204293, 0.204691, 0, false, false, 0.0, -5.068913], [115, \"2022-11-23\", 29.71, 183.2, 5.210578, 3.391484, 0.49527, 0.810842, 0.55616, -2.196516, 0.207513, 0, false, false, 0.0, -5.068913], [116, \"2022-11-25\", 29.53, 182.86, 5.208721, 3.385407, 0.510104, 0.728415, 0.503373, -2.260993, 0.184857, 0, false, false, 0.0, -5.068913], [117, \"2022-11-28\", 28.64, 182.92, 5.209049, 3.354804, 0.541856, 0.53225, 0.362996, -2.22963, 0.195668, 0, false, false, 0.0, -5.068913], [118, \"2022-11-29\", 28.85, 180.83, 5.197557, 3.36211, 0.550533, 0.500682, 0.279016, -2.218633, 0.199552, 0, false, false, 0.0, -5.068913], [119, \"2022-11-30\", 32.04, 194.7, 5.27146, 3.466985, 0.623365, 0.180942, 0.02628, -2.354618, 0.154957, 0, false, false, 0.0, -5.068913], [120, \"2022-12-01\", 31.48, 194.7, 5.27146, 3.449352, 0.756296, -0.53743, -0.555252, -2.320978, 0.165291, 0, false, false, 0.0, -5.068913], [121, \"2022-12-02\", 31.36, 194.86, 5.272281, 3.445533, 0.931201, -1.46402, -1.509421, -2.681352, 0.077321, 0, false, false, 0.0, -5.068913], [122, \"2022-12-05\", 29.53, 182.45, 5.206476, 3.385407, 1.137106, -2.534908, -2.456937, -2.615501, 0.089836, 1, true, false, 0.0, -5.068913], [123, \"2022-12-06\", 27.89, 179.82, 5.191956, 3.328268, 1.286726, -3.352358, -2.602494, -2.589299, 0.095229, 1, false, false, 0.0, -5.068913], [124, \"2022-12-07\", 27.94, 174.04, 5.159285, 3.330059, 1.32781, -3.520493, -2.217629, -2.7948, 0.05902, 1, false, false, 0.0, -5.068913], [125, \"2022-12-08\", 28.58, 173.44, 5.155832, 3.352707, 1.281524, -3.254617, -1.787379, -3.144649, 0.023421, 1, false, false, 0.0, -5.068913], [126, \"2022-12-09\", 27.29, 179.05, 5.187665, 3.30652, 1.306782, -3.472625, -1.658102, -3.394328, 0.011154, 1, false, false, 0.0, -5.068913], [127, \"2022-12-12\", 25.61, 167.82, 5.122892, 3.242983, 1.32531, -3.546436, -1.495231, -2.992899, 0.035563, 1, false, false, 0.0, -5.068913], [128, \"2022-12-13\", 24.96, 160.95, 5.081094, 3.217275, 1.290361, -3.33917, -1.254103, -2.66939, 0.079487, 1, false, false, 0.0, -5.068913], [129, \"2022-12-14\", 24.54, 156.8, 5.054971, 3.200304, 1.193708, -2.833855, -0.922689, -3.235067, 0.018043, 1, false, false, 0.0, -5.068913], [130, \"2022-12-15\", 23.97, 157.67, 5.060504, 3.176803, 1.1946, -2.868476, -0.85145, -3.698377, 0.004136, 1, false, false, 0.0, -5.068913], [131, \"2022-12-16\", 22.48, 150.23, 5.012167, 3.112626, 1.222477, -3.014635, -0.839448, -3.316618, 0.014152, 1, false, false, 0.0, -5.068913], [132, \"2022-12-19\", 22.03, 149.87, 5.009768, 3.092405, 1.265085, -3.245379, -0.873154, -3.204424, 0.01973, 0, false, true, 0.710471, -4.358442], [133, \"2022-12-20\", 21.4, 137.8, 4.925803, 3.063391, 1.224327, -2.967405, -0.647237, -3.375062, 0.011839, 0, false, false, 0.0, -4.358442], [134, \"2022-12-21\", 21.03, 137.57, 4.924133, 3.04595, 1.208007, -2.902439, -0.535646, -3.467723, 0.008856, 0, false, false, 0.0, -4.358442], [135, \"2022-12-22\", 19.73, 125.35, 4.83111, 2.98214, 1.140792, -2.529149, -0.231738, -3.446467, 0.009473, 0, false, false, 0.0, -4.358442], [136, \"2022-12-23\", 19.14, 123.15, 4.813403, 2.95178, 1.110601, -2.393989, -0.047638, -3.322194, 0.013915, 0, false, false, 0.0, -4.358442], [137, \"2022-12-27\", 17.74, 109.1, 4.692265, 2.875822, 1.052994, -2.065103, 0.324765, -2.863922, 0.049707, 0, false, false, 0.0, -4.358442], [138, \"2022-12-28\", 17.74, 112.71, 4.724818, 2.875822, 1.038744, -2.032055, 0.553777, -2.825735, 0.054691, 0, false, false, 0.0, -4.358442], [139, \"2022-12-29\", 18.73, 121.82, 4.802545, 2.930127, 1.026008, -1.997322, 0.899665, -2.74539, 0.066508, 0, false, false, 0.0, -4.358442], [140, \"2022-12-30\", 18.43, 123.18, 4.813647, 2.91398, 1.025061, -2.020303, 1.224903, -2.751715, 0.065509, 0, false, false, 0.0, -4.358442], [141, \"2023-01-03\", 17.34, 108.1, 4.683057, 2.853016, 0.992743, -1.796054, 1.714448, -2.678562, 0.077822, 0, false, false, 0.0, -4.358442], [142, \"2023-01-04\", 17.71, 113.64, 4.733036, 2.874129, 0.974569, -1.738539, 1.621479, -2.638998, 0.085202, 0, false, false, 0.0, -4.358442], [143, \"2023-01-05\", 16.56, 110.34, 4.703567, 2.80699, 0.987513, -1.837844, 1.309448, -2.76592, 0.063309, 0, false, false, 0.0, -4.358442], [144, \"2023-01-06\", 16.4, 113.06, 4.727919, 2.797281, 0.991658, -1.891199, 1.115628, -2.830569, 0.054038, 0, false, false, 0.0, -4.358442], [145, \"2023-01-09\", 16.62, 119.77, 4.785573, 2.810607, 0.975472, -1.857588, 1.058289, -2.925001, 0.042517, 0, false, false, 0.0, -4.358442], [146, \"2023-01-10\", 16.45, 118.85, 4.777862, 2.800325, 0.993708, -1.947475, 0.832479, -2.803976, 0.057708, 0, false, false, 0.0, -4.358442], [147, \"2023-01-11\", 17.08, 123.22, 4.813971, 2.837908, 0.999614, -1.974206, 0.718213, -3.05022, 0.030463, 0, false, false, 0.0, -4.358442], [148, \"2023-01-12\", 17.58, 123.56, 4.816727, 2.866762, 0.98282, -1.867213, 0.844481, -3.092447, 0.027117, 0, false, false, 0.0, -4.358442], [149, \"2023-01-13\", 16.45, 122.4, 4.807294, 2.800325, 0.949295, -1.763217, 0.95336, -3.153668, 0.022828, 0, false, false, 0.0, -4.358442], [150, \"2023-01-17\", 16.93, 131.49, 4.878931, 2.829087, 0.855234, -1.343542, 1.599546, -3.100588, 0.02651, 0, false, false, 0.0, -4.358442], [151, \"2023-01-18\", 16.5, 128.78, 4.858106, 2.80336, 0.745972, -0.820653, 2.231833, -3.299177, 0.014915, -1, true, false, 0.0, -4.358442], [152, \"2023-01-19\", 15.79, 127.17, 4.845525, 2.759377, 0.55482, 0.070983, 2.961558, -3.329634, 0.013605, -1, false, false, 0.0, -4.358442], [153, \"2023-01-20\", 16.23, 133.42, 4.893502, 2.786861, 0.225965, 1.681099, 3.356314, -3.316644, 0.014151, 0, false, true, -2.501752, -6.860194], [154, \"2023-01-23\", 18.1, 143.75, 4.968076, 2.895912, 0.02598, 2.766843, 3.043006, -2.920013, 0.04307, -1, true, false, 0.0, -6.860194], [155, \"2023-01-24\", 18.05, 143.89, 4.969049, 2.893146, 0.046331, 2.662927, 2.357259, -2.636002, 0.085782, -1, false, false, 0.0, -6.860194], [156, \"2023-01-25\", 18.69, 144.43, 4.972795, 2.927989, 0.120556, 2.328491, 1.837084, -2.760763, 0.064101, -1, false, false, 0.0, -6.860194], [157, \"2023-01-26\", 18.31, 160.27, 5.07686, 2.907447, 0.185474, 1.965824, 1.442233, -2.885383, 0.047074, -1, false, false, 0.0, -6.860194], [158, \"2023-01-27\", 19.83, 177.9, 5.181222, 2.987196, 0.285899, 1.505889, 1.074911, -2.925083, 0.042508, -1, false, false, 0.0, -6.860194], [159, \"2023-01-30\", 18.04, 166.66, 5.115956, 2.892592, 0.278838, 1.466066, 0.953334, -2.958254, 0.038981, -1, false, false, 0.0, -6.860194], [160, \"2023-01-31\", 19.4, 173.22, 5.154562, 2.965273, 0.313163, 1.351053, 0.806029, -2.526934, 0.109058, -1, false, false, 0.0, -6.860194], [161, \"2023-02-01\", 19.71, 181.41, 5.20076, 2.981126, 0.3607, 1.105214, 0.603484, -2.205592, 0.204222, -1, false, false, 0.0, -6.860194], [162, \"2023-02-02\", 20.88, 188.27, 5.237877, 3.038792, 0.424853, 0.813464, 0.383887, -2.004335, 0.284676, 0, false, true, 1.95338, -4.906815], [163, \"2023-02-03\", 19.9, 189.98, 5.246919, 2.99072, 0.43789, 0.693145, 0.255098, -1.907568, 0.328509, 0, false, false, 0.0, -4.906815], [164, \"2023-02-06\", 20.22, 194.76, 5.271768, 3.006672, 0.445793, 0.656553, 0.168278, -2.140373, 0.228593, 0, false, false, 0.0, -4.906815], [165, \"2023-02-07\", 19.91, 196.81, 5.282239, 2.991222, 0.439779, 0.668207, 0.105115, -2.44503, 0.129428, 0, false, false, 0.0, -4.906815], [166, \"2023-02-08\", 20.08, 201.29, 5.304747, 2.999724, 0.433052, 0.702492, 0.046542, -2.484853, 0.119203, 0, false, false, 0.0, -4.906815], [167, \"2023-02-09\", 19.42, 207.32, 5.334263, 2.966303, 0.417279, 0.740425, -0.021316, -2.406655, 0.139867, 0, false, false, 0.0, -4.906815], [168, \"2023-02-10\", 18.85, 196.89, 5.282645, 2.936513, 0.42335, 0.700103, -0.164571, -2.425642, 0.13463, 0, false, false, 0.0, -4.906815], [169, \"2023-02-13\", 18.92, 194.64, 5.271152, 2.94022, 0.410581, 0.775983, -0.242452, -2.369773, 0.15045, 0, false, false, 0.0, -4.906815], [170, \"2023-02-14\", 19.49, 209.25, 5.34353, 2.969902, 0.393089, 0.869421, -0.308075, -2.35762, 0.154057, 0, false, false, 0.0, -4.906815], [171, \"2023-02-15\", 21.15, 214.24, 5.367097, 3.05164, 0.39458, 0.933891, -0.394453, -2.161445, 0.220535, 0, false, false, 0.0, -4.906815], [172, \"2023-02-16\", 20.68, 202.04, 5.308466, 3.029167, 0.351868, 1.161286, -0.170475, -2.007191, 0.283429, 0, false, false, 0.0, -4.906815], [173, \"2023-02-17\", 20.22, 208.31, 5.339027, 3.006672, 0.283008, 1.495684, 0.336248, -2.068719, 0.257277, 0, false, false, 0.0, -4.906815], [174, \"2023-02-21\", 19.08, 197.37, 5.28508, 2.948641, 0.26966, 1.523468, 0.545245, -1.983674, 0.293777, 0, false, false, 0.0, -4.906815], [175, \"2023-02-22\", 19.02, 200.86, 5.302608, 2.945491, 0.242872, 1.657634, 1.03447, -2.082917, 0.251439, 0, false, false, 0.0, -4.906815], [176, \"2023-02-23\", 18.18, 202.07, 5.308614, 2.900322, 0.254772, 1.547836, 1.047204, -1.943452, 0.311904, 0, false, false, 0.0, -4.906815], [177, \"2023-02-24\", 17.32, 196.88, 5.282594, 2.851862, 0.192408, 1.835447, 1.820568, -2.092088, 0.247708, 0, false, false, 0.0, -4.906815], [178, \"2023-02-27\", 18.45, 207.63, 5.335758, 2.915064, 0.186139, 1.921869, 1.840369, -1.739476, 0.410896, 0, false, false, 0.0, -4.906815], [179, \"2023-02-28\", 19.3, 205.71, 5.326467, 2.960105, 0.022134, 2.842207, 2.868173, -1.701205, 0.430492, -1, true, false, 0.0, -4.906815], [180, \"2023-03-01\", 15.76, 202.77, 5.312072, 2.757475, -0.088712, 3.22872, 2.647793, -1.008978, 0.749976, -1, false, false, 0.0, -4.906815], [181, \"2023-03-02\", 15.72, 190.9, 5.25175, 2.754934, 0.399402, 0.657376, -0.825504, -1.151568, 0.694075, -1, false, false, 0.0, -4.906815], [182, \"2023-03-03\", 16.92, 197.79, 5.287206, 2.828496, 0.871194, -1.777685, -2.899764, -2.099605, 0.244674, -1, false, false, 0.0, -4.906815], [183, \"2023-03-06\", 17.13, 193.81, 5.266878, 2.840831, 1.332614, -4.177886, -3.256332, -2.286602, 0.176325, -1, false, false, 0.0, -4.906815], [184, \"2023-03-07\", 14.64, 187.71, 5.234898, 2.683758, 1.986039, -7.712952, -3.304876, -2.073832, 0.255166, -1, false, false, 0.0, -4.906815], [185, \"2023-03-08\", 15.13, 182.0, 5.204007, 2.71668, 2.056692, -7.98636, -2.57688, -1.605246, 0.480958, -1, false, false, 0.0, -4.906815], [186, \"2023-03-09\", 14.53, 172.92, 5.152829, 2.676215, 1.828719, -6.746859, -1.855295, -2.491582, 0.117536, -1, false, false, 0.0, -4.906815], [187, \"2023-03-10\", 14.16, 173.44, 5.155832, 2.650421, 1.805411, -6.657975, -1.600094, -3.21537, 0.019112, -1, false, false, 0.0, -4.906815], [188, \"2023-03-13\", 13.73, 174.48, 5.16181, 2.619583, 1.847872, -6.918783, -1.475948, -2.291946, 0.174579, -1, false, false, 0.0, -4.906815], [189, \"2023-03-14\", 13.21, 183.26, 5.210906, 2.580974, 1.963408, -7.650158, -1.467538, -2.103569, 0.243082, 0, false, true, 10.492364, 5.58555], [190, \"2023-03-15\", 13.03, 180.45, 5.195454, 2.567254, 2.06824, -8.178191, -1.413491, -1.7453, 0.407936, 0, false, false, 0.0, 5.58555], [191, \"2023-03-16\", 13.46, 184.13, 5.215642, 2.599722, 2.094997, -8.327032, -1.293872, -1.673453, 0.44484, 0, false, false, 0.0, 5.58555], [192, \"2023-03-17\", 13.01, 180.13, 5.193679, 2.565718, 2.066786, -8.168505, -1.134494, -1.636068, 0.464316, 0, false, false, 0.0, 5.58555], [193, \"2023-03-20\", 13.02, 183.25, 5.210851, 2.566487, 2.046825, -8.099214, -1.012444, -1.716052, 0.422861, 0, false, false, 0.0, 5.58555], [194, \"2023-03-21\", 13.61, 197.58, 5.286144, 2.610805, 1.834402, -7.086108, -0.715931, -1.589925, 0.488653, 0, false, false, 0.0, 5.58555], [195, \"2023-03-22\", 13.29, 191.15, 5.253058, 2.587012, 1.700677, -6.346742, -0.484532, -1.964003, 0.302576, 0, false, false, 0.0, 5.58555], [196, \"2023-03-23\", 13.71, 192.22, 5.258641, 2.618125, 1.571144, -5.643956, -0.257544, -1.919, 0.323177, 0, false, false, 0.0, 5.58555], [197, \"2023-03-24\", 13.62, 190.41, 5.24918, 2.611539, 1.482404, -5.169864, -0.067916, -1.969308, 0.30019, 0, false, false, 0.0, 5.58555], [198, \"2023-03-27\", 13.31, 191.81, 5.256505, 2.588516, 1.238186, -3.920014, 0.348636, -1.944509, 0.311421, 0, false, false, 0.0, 5.58555], [199, \"2023-03-28\", 12.96, 189.19, 5.242752, 2.561868, 0.748138, -1.360436, 1.239052, -2.119573, 0.236717, 0, false, false, 0.0, 5.58555], [200, \"2023-03-29\", 14.24, 193.88, 5.267239, 2.656055, 0.600669, -0.50781, 1.802827, -2.296743, 0.173021, 0, false, false, 0.0, 5.58555], [201, \"2023-03-30\", 14.4, 195.28, 5.274434, 2.667228, 0.529108, -0.123517, 2.015252, -2.197795, 0.207047, -1, true, false, 0.0, 5.58555], [202, \"2023-03-31\", 15.48, 207.46, 5.334939, 2.739549, 0.42582, 0.467825, 2.037672, -2.205335, 0.204315, -1, false, false, 0.0, 5.58555], [203, \"2023-04-03\", 15.23, 194.77, 5.271819, 2.723267, 0.333561, 0.964793, 1.90527, -2.178372, 0.214189, -1, false, false, 0.0, 5.58555], [204, \"2023-04-04\", 15.38, 192.58, 5.260512, 2.733068, 0.391633, 0.672877, 1.58997, -2.165445, 0.219025, -1, false, false, 0.0, 5.58555], [205, \"2023-04-05\", 14.63, 185.52, 5.223163, 2.683074, 0.44564, 0.355426, 1.3388, -2.221931, 0.198382, -1, false, false, 0.0, 5.58555], [206, \"2023-04-06\", 14.47, 185.06, 5.22068, 2.672078, 0.618258, -0.555649, 0.981397, -2.230376, 0.195406, -1, false, false, 0.0, 5.58555], [207, \"2023-04-10\", 14.81, 184.51, 5.217704, 2.695303, 0.763344, -1.287602, 0.705277, -2.274078, 0.180465, -1, false, false, 0.0, 5.58555], [208, \"2023-04-11\", 14.74, 186.79, 5.229985, 2.690565, 0.892876, -1.979163, 0.452933, -2.278778, 0.178904, 0, false, true, 1.855646, 7.441195], [209, \"2023-04-12\", 14.19, 180.54, 5.195952, 2.652537, 0.742608, -1.20602, 0.595069, -2.275047, 0.180142, 0, false, false, 0.0, 7.441195], [210, \"2023-04-13\", 14.37, 185.9, 5.225209, 2.665143, 0.62645, -0.608187, 0.688494, -2.239453, 0.192239, 0, false, false, 0.0, 7.441195], [211, \"2023-04-14\", 13.38, 185.0, 5.220356, 2.593761, 0.630628, -0.698343, 0.586476, -2.257959, 0.185886, 0, false, false, 0.0, 7.441195], [212, \"2023-04-17\", 13.73, 187.04, 5.231322, 2.619583, 0.516493, -0.082356, 0.714797, -2.35901, 0.153641, 0, false, false, 0.0, 7.441195], [213, \"2023-04-18\", 13.43, 184.31, 5.216619, 2.597491, 0.452773, 0.235548, 0.770467, -2.337955, 0.160019, 0, false, false, 0.0, 7.441195], [214, \"2023-04-19\", 12.82, 180.59, 5.196229, 2.551006, 0.753233, -1.362967, 0.02077, -2.228359, 0.196114, 0, false, false, 0.0, 7.441195], [215, \"2023-04-20\", 12.35, 162.99, 5.093689, 2.513656, 0.853215, -1.832356, -0.356182, -2.225417, 0.19715, 0, false, false, 0.0, 7.441195], [216, \"2023-04-21\", 12.25, 165.08, 5.10643, 2.505526, 0.938269, -2.285678, -0.834847, -2.195234, 0.20798, 0, false, false, 0.0, 7.441195], [217, \"2023-04-24\", 12.36, 162.55, 5.090986, 2.514465, 0.947251, -2.307977, -1.182217, -2.174232, 0.21573, 0, false, false, 0.0, 7.441195], [218, \"2023-04-25\", 12.0, 160.67, 5.079353, 2.484907, 1.009756, -2.643999, -1.713386, -2.246679, 0.189742, 0, false, false, 0.0, 7.441195], [219, \"2023-04-26\", 12.04, 153.75, 5.035328, 2.488234, 0.991183, -2.502698, -1.447565, -2.237515, 0.192913, 0, false, false, 0.0, 7.441195], [220, \"2023-04-27\", 12.67, 160.19, 5.076361, 2.539237, 0.976106, -2.41583, -1.234415, -2.240525, 0.191867, 0, false, false, 0.0, 7.441195], [221, \"2023-04-28\", 12.82, 164.31, 5.101755, 2.551006, 0.986588, -2.482322, -1.161706, -2.236051, 0.193422, 0, false, false, 0.0, 7.441195], [222, \"2023-05-01\", 12.65, 161.83, 5.086546, 2.537657, 1.006014, -2.579481, -1.128254, -2.25674, 0.1863, 0, false, false, 0.0, 7.441195], [223, \"2023-05-02\", 12.68, 160.31, 5.077109, 2.540026, 0.958861, -2.328216, -0.847986, -2.276221, 0.179752, 0, false, false, 0.0, 7.441195], [224, \"2023-05-03\", 12.81, 160.61, 5.078979, 2.550226, 0.881142, -1.925076, -0.403711, -2.304435, 0.170542, 0, false, false, 0.0, 7.441195], [225, \"2023-05-04\", 12.95, 161.2, 5.082646, 2.561096, 0.825583, -1.63505, -0.012256, -2.329093, 0.162757, 0, false, false, 0.0, 7.441195], [226, \"2023-05-05\", 13.41, 170.06, 5.136151, 2.596001, 0.795134, -1.487928, 0.214521, -2.349032, 0.156641, 0, false, false, 0.0, 7.441195], [227, \"2023-05-08\", 13.87, 171.79, 5.146273, 2.629728, 0.741168, -1.184523, 0.562605, -2.357111, 0.154209, 0, false, false, 0.0, 7.441195], [228, \"2023-05-09\", 13.86, 169.15, 5.130786, 2.629007, 0.670655, -0.811978, 0.911744, -2.383086, 0.146567, 0, false, false, 0.0, 7.441195], [229, \"2023-05-10\", 14.11, 168.54, 5.127173, 2.646884, 0.627501, -0.570422, 1.118186, -2.398287, 0.14222, 0, false, false, 0.0, 7.441195], [230, \"2023-05-11\", 13.84, 172.08, 5.147959, 2.627563, 0.581978, -0.368437, 1.307668, -2.416126, 0.137236, 0, false, false, 0.0, 7.441195], [231, \"2023-05-12\", 12.91, 167.98, 5.123845, 2.558002, 0.63777, -0.70983, 0.935319, -2.465312, 0.124144, 0, false, false, 0.0, 7.441195], [232, \"2023-05-15\", 13.44, 166.35, 5.114094, 2.598235, 0.689517, -0.928017, 0.789618, -2.569305, 0.099509, 0, false, false, 0.0, 7.441195], [233, \"2023-05-16\", 13.08, 166.52, 5.115115, 2.571084, 0.857412, -1.814679, -0.14258, -2.560741, 0.101386, 0, false, false, 0.0, 7.441195], [234, \"2023-05-17\", 13.41, 173.86, 5.15825, 2.596001, 1.263783, -3.922908, -2.354236, -2.672433, 0.078931, 1, true, false, 0.0, 7.441195], [235, \"2023-05-18\", 13.54, 176.89, 5.175528, 2.605648, 1.108354, -3.130671, -1.318413, -2.662323, 0.080788, 1, false, false, 0.0, 7.441195], [236, \"2023-05-19\", 13.47, 180.14, 5.193734, 2.600465, 0.930962, -2.234707, -0.36031, -2.736292, 0.067966, 0, false, true, -1.688201, 5.752994], [237, \"2023-05-22\", 14.23, 188.87, 5.241059, 2.655352, 0.812259, -1.601746, 0.282483, -2.794724, 0.059031, 0, false, false, 0.0, 5.752994], [238, \"2023-05-23\", 14.2, 185.77, 5.224509, 2.653242, 0.739069, -1.208031, 0.634809, -3.155818, 0.022689, 0, false, false, 0.0, 5.752994], [239, \"2023-05-24\", 14.38, 182.9, 5.20894, 2.665838, 0.705615, -1.009666, 0.769362, -3.222634, 0.018711, 0, false, false, 0.0, 5.752994], [240, \"2023-05-25\", 14.57, 184.47, 5.217487, 2.678965, 0.726871, -1.113474, 0.589565, -2.528888, 0.108603, 0, false, false, 0.0, 5.752994], [241, \"2023-05-26\", 15.14, 193.17, 5.263571, 2.71734, 0.761225, -1.289419, 0.338586, -2.329658, 0.162581, 0, false, false, 0.0, 5.752994], [242, \"2023-05-30\", 14.87, 201.16, 5.304101, 2.699346, 0.68867, -0.953428, 0.637663, -2.218387, 0.19964, 0, false, false, 0.0, 5.752994], [243, \"2023-05-31\", 14.73, 203.93, 5.317777, 2.689886, 0.611433, -0.561579, 0.981862, -2.524903, 0.109532, 0, false, false, 0.0, 5.752994], [244, \"2023-06-01\", 14.58, 207.52, 5.335228, 2.679651, 0.529639, -0.146095, 1.300836, -2.261108, 0.184818, 0, false, false, 0.0, 5.752994], [245, \"2023-06-02\", 14.48, 213.97, 5.365836, 2.672768, 0.439504, 0.314463, 1.581154, -1.764079, 0.398435, 0, false, false, 0.0, 5.752994], [246, \"2023-06-05\", 14.34, 217.61, 5.382704, 2.663053, 0.368643, 0.678755, 1.69264, -1.999822, 0.286651, 0, false, false, 0.0, 5.752994], [247, \"2023-06-06\", 14.5, 221.31, 5.399564, 2.674149, 0.338677, 0.845438, 1.621134, -2.180128, 0.213537, 0, false, false, 0.0, 5.752994], [248, \"2023-06-07\", 13.82, 224.57, 5.414187, 2.626117, 0.27592, 1.132233, 1.647221, -2.603476, 0.092281, 0, false, false, 0.0, 5.752994], [249, \"2023-06-08\", 14.05, 234.86, 5.45899, 2.642622, 0.240615, 1.32911, 1.604311, -2.829399, 0.054195, 0, false, false, 0.0, 5.752994], [250, \"2023-06-09\", 13.87, 244.4, 5.498806, 2.629728, 0.184124, 1.617265, 1.618225, -3.000085, 0.034886, 0, false, false, 0.0, 5.752994], [251, \"2023-06-12\", 14.0, 249.83, 5.520781, 2.639057, 0.111056, 2.025943, 1.661485, -3.067058, 0.029089, 0, false, false, 0.0, 5.752994], [252, \"2023-06-13\", 15.25, 258.71, 5.555708, 2.72458, 0.128063, 2.013098, 1.466172, -3.331804, 0.013515, 0, false, false, 0.0, 5.752994], [253, \"2023-06-14\", 14.74, 256.79, 5.548259, 2.690565, 0.092174, 2.179158, 1.391938, -2.955637, 0.03925, 0, false, false, 0.0, 5.752994], [254, \"2023-06-15\", 15.24, 255.9, 5.544787, 2.723924, 0.088462, 2.233421, 1.359251, -2.951365, 0.039693, 0, false, false, 0.0, 5.752994], [255, \"2023-06-16\", 14.88, 260.54, 5.562756, 2.700018, 0.06904, 2.315967, 1.333279, -2.936987, 0.041213, 0, false, false, 0.0, 5.752994], [256, \"2023-06-20\", 15.7, 274.45, 5.614769, 2.753661, 0.075929, 2.327337, 1.242243, -3.021615, 0.032925, 0, false, false, 0.0, 5.752994], [257, \"2023-06-21\", 14.62, 259.46, 5.558603, 2.68239, 0.065977, 2.315651, 1.131315, -2.487322, 0.11859, 0, false, false, 0.0, 5.752994], [258, \"2023-06-22\", 14.15, 264.61, 5.578257, 2.649715, 0.03709, 2.442815, 1.116958, -1.48006, 0.543351, 0, false, false, 0.0, 5.752994], [259, \"2023-06-23\", 13.53, 256.6, 5.547518, 2.604909, 0.002977, 2.588393, 1.119256, -1.422411, 0.571486, 0, false, false, 0.0, 5.752994], [260, \"2023-06-26\", 13.45, 241.05, 5.485004, 2.598979, -0.002192, 2.611003, 1.051048, -1.333755, 0.613592, 0, false, false, 0.0, 5.752994], [261, \"2023-06-27\", 13.94, 250.21, 5.522301, 2.634762, 0.040638, 2.410349, 0.833794, -1.33558, 0.612742, 0, false, false, 0.0, 5.752994], [262, \"2023-06-28\", 14.64, 256.24, 5.546115, 2.683758, 0.091691, 2.175227, 0.556982, -1.434587, 0.565587, 0, false, false, 0.0, 5.752994], [263, \"2023-06-29\", 16.01, 257.5, 5.55102, 2.773214, 0.190459, 1.715971, -0.050141, -1.41525, 0.574943, 0, false, false, 0.0, 5.752994], [264, \"2023-06-30\", 16.66, 261.77, 5.567466, 2.813011, 0.337255, 0.935354, -1.25249, -1.509912, 0.528602, 0, false, false, 0.0, 5.752994], [265, \"2023-07-03\", 19.56, 279.82, 5.634147, 2.973487, 0.740289, -1.197413, -3.198501, -1.62241, 0.471466, 1, true, false, 0.0, 5.752994], [266, \"2023-07-05\", 20.43, 282.48, 5.643608, 3.017004, 1.217128, -3.851991, -3.48153, -1.893827, 0.334971, 0, false, true, 2.654578, 8.407572], [267, \"2023-07-06\", 21.62, 276.54, 5.622355, 3.073619, 1.839407, -7.26818, -3.354194, -1.85441, 0.353803, 1, true, false, 0.0, 8.407572], [268, \"2023-07-07\", 24.7, 274.43, 5.614696, 3.206803, 2.713837, -12.030569, -3.237268, -1.235626, 0.658086, 0, false, true, 4.762388, 13.169961], [269, \"2023-07-10\", 25.51, 269.61, 5.596976, 3.239071, 3.4786, -16.230573, -2.952235, -0.432147, 0.904592, 1, true, false, 0.0, 13.169961], [270, \"2023-07-11\", 24.85, 269.79, 5.597644, 3.212858, 3.893415, -18.581095, -2.564142, -0.71012, 0.844111, 1, false, false, 0.0, 13.169961], [271, \"2023-07-12\", 25.91, 271.99, 5.605765, 3.254629, 4.212963, -20.362254, -2.268671, -1.697266, 0.432522, 1, false, false, 0.0, 13.169961], [272, \"2023-07-13\", 25.52, 277.9, 5.627261, 3.239462, 4.429357, -21.685685, -2.028182, -1.631975, 0.466457, 1, false, false, 0.0, 13.169961], [273, \"2023-07-14\", 24.82, 281.38, 5.639706, 3.21165, 4.48064, -22.057845, -1.778052, -1.671293, 0.445961, 1, false, false, 0.0, 13.169961], [274, \"2023-07-17\", 23.99, 290.38, 5.67119, 3.177637, 4.234838, -20.838936, -1.460786, -2.439243, 0.130965, 1, false, false, 0.0, 13.169961], [275, \"2023-07-18\", 24.69, 293.34, 5.681332, 3.206398, 3.965812, -19.324699, -1.179035, -3.488066, 0.008299, 1, false, false, 0.0, 13.169961], [276, \"2023-07-19\", 24.83, 291.26, 5.674216, 3.212053, 3.977419, -19.356685, -1.067842, -3.379995, 0.01166, 1, false, false, 0.0, 13.169961], [277, \"2023-07-20\", 25.81, 262.9, 5.571774, 3.250762, 3.679872, -17.252651, -0.780466, -1.898238, 0.33289, 1, false, false, 0.0, 13.169961], [278, \"2023-07-21\", 25.27, 260.02, 5.560759, 3.229618, 3.324299, -15.256008, -0.514426, -2.75922, 0.064339, 1, false, false, 0.0, 13.169961], [279, \"2023-07-24\", 25.81, 269.06, 5.594934, 3.250762, 3.033989, -13.724208, -0.291145, -2.694301, 0.07503, 0, false, true, -2.506365, 10.663596], [280, \"2023-07-25\", 25.35, 265.28, 5.580786, 3.232779, 2.525579, -10.861938, 0.086081, -2.514423, 0.112004, 0, false, false, 0.0, 10.663596], [281, \"2023-07-26\", 27.15, 264.35, 5.577274, 3.301377, 1.579976, -5.510583, 0.770814, -2.849116, 0.051593, 0, false, false, 0.0, 10.663596], [282, \"2023-07-27\", 26.05, 255.71, 5.544044, 3.260018, 0.445007, 0.79288, 1.545931, -3.154333, 0.022785, 0, false, false, 0.0, 10.663596], [283, \"2023-07-28\", 26.94, 266.44, 5.585149, 3.293612, -0.396775, 5.509661, 2.001056, -3.220955, 0.018803, -1, true, false, 0.0, 10.663596], [284, \"2023-07-31\", 27.64, 267.43, 5.588858, 3.319264, -1.096994, 9.45021, 2.195525, -3.17138, 0.021702, -1, false, false, 0.0, 10.663596], [285, \"2023-08-01\", 27.3, 261.07, 5.564789, 3.306887, -0.973905, 8.72646, 1.909538, -3.217272, 0.019006, -1, false, false, 0.0, 10.663596], [286, \"2023-08-02\", 25.91, 254.11, 5.537767, 3.254629, -0.67388, 6.986422, 1.587343, -3.465874, 0.008908, -1, false, false, 0.0, 10.663596], [287, \"2023-08-03\", 26.5, 259.32, 5.558063, 3.277145, -0.581037, 6.506585, 1.4013, -3.645438, 0.004949, -1, false, false, 0.0, 10.663596], [288, \"2023-08-04\", 25.26, 253.86, 5.536783, 3.229222, -0.479396, 5.883533, 1.218365, -3.282319, 0.015688, -1, false, false, 0.0, 10.663596], [289, \"2023-08-07\", 24.28, 251.45, 5.527244, 3.189653, -0.336351, 5.048747, 1.039907, -3.275718, 0.015999, -1, false, false, 0.0, 10.663596], [290, \"2023-08-08\", 24.8, 249.7, 5.52026, 3.210844, -0.243297, 4.553909, 0.904721, -3.269513, 0.016297, -1, false, false, 0.0, 10.663596], [291, \"2023-08-09\", 22.35, 242.19, 5.489723, 3.106826, 0.026105, 2.963516, 0.69683, -3.203714, 0.019771, -1, false, false, 0.0, 10.663596], [292, \"2023-08-10\", 21.91, 245.34, 5.502645, 3.086943, 0.214319, 1.907619, 0.53538, -3.296592, 0.015032, -1, false, false, 0.0, 10.663596], [293, \"2023-08-11\", 21.57, 242.65, 5.49162, 3.071303, 0.435447, 0.679993, 0.353934, -3.251364, 0.017198, 0, false, true, 4.829667, 15.493263], [294, \"2023-08-14\", 21.56, 239.76, 5.479638, 3.07084, 0.787385, -1.243744, 0.093148, -3.514855, 0.007614, 0, false, false, 0.0, 15.493263], [295, \"2023-08-15\", 20.78, 232.96, 5.450867, 3.033991, 1.285998, -3.97581, -0.279687, -3.5503, 0.006785, 0, false, false, 0.0, 15.493263], [296, \"2023-08-16\", 21.04, 225.6, 5.418764, 3.046425, 1.779964, -6.59878, -0.705275, -3.560784, 0.006557, 0, false, false, 0.0, 15.493263], [297, \"2023-08-17\", 20.95, 219.22, 5.390076, 3.042139, 1.584423, -5.498021, -0.71798, -3.559256, 0.006589, 0, false, false, 0.0, 15.493263], [298, \"2023-08-18\", 20.78, 215.49, 5.372915, 3.033991, 1.449348, -4.753233, -0.771212, -3.327696, 0.013685, 0, false, false, 0.0, 15.493263], [299, \"2023-08-21\", 21.18, 231.28, 5.443629, 3.053057, 1.516653, -5.203041, -1.014179, -3.305877, 0.014618, 0, false, false, 0.0, 15.493263], [300, \"2023-08-22\", 20.08, 233.19, 5.451854, 2.999724, 1.6211, -5.838273, -1.2567, -3.228101, 0.018415, 0, false, false, 0.0, 15.493263], [301, \"2023-08-23\", 20.32, 236.86, 5.467469, 3.011606, 1.635974, -5.933034, -1.263859, -3.241623, 0.017698, 0, false, false, 0.0, 15.493263], [302, \"2023-08-24\", 19.64, 230.04, 5.438253, 2.977568, 1.661504, -6.058113, -1.176386, -3.26, 0.016764, 0, false, false, 0.0, 15.493263], [303, \"2023-08-25\", 20.07, 238.59, 5.474747, 2.999226, 1.669287, -6.139699, -1.074959, -3.263258, 0.016603, 0, false, false, 0.0, 15.493263], [304, \"2023-08-28\", 20.53, 238.82, 5.47571, 3.021887, 1.612209, -5.806104, -0.934396, -3.273698, 0.016096, 0, false, false, 0.0, 15.493263], [305, \"2023-08-29\", 22.31, 257.18, 5.549776, 3.105035, 1.341478, -4.339869, -0.592683, -3.291432, 0.015266, 0, false, false, 0.0, 15.493263], [306, \"2023-08-30\", 22.88, 256.9, 5.548687, 3.130263, 1.173151, -3.379187, -0.324727, -3.299853, 0.014885, 0, false, false, 0.0, 15.493263], [307, \"2023-08-31\", 22.73, 258.08, 5.55327, 3.123686, 0.948922, -2.145934, 0.03487, -3.310601, 0.014411, 0, false, false, 0.0, 15.493263], [308, \"2023-09-01\", 23.31, 245.01, 5.501299, 3.148882, 0.853898, -1.548663, 0.294893, -3.313188, 0.014299, 0, false, false, 0.0, 15.493263], [309, \"2023-09-05\", 23.39, 256.49, 5.54709, 3.152309, 0.809058, -1.33561, 0.492858, -3.338862, 0.013228, 0, false, false, 0.0, 15.493263], [310, \"2023-09-06\", 23.26, 251.92, 5.529112, 3.146735, 0.757423, -1.04114, 0.770779, -3.376239, 0.011796, 0, false, false, 0.0, 15.493263], [311, \"2023-09-07\", 23.42, 251.49, 5.527403, 3.15359, 0.794838, -1.239799, 0.880095, -3.350798, 0.012755, 0, false, false, 0.0, 15.493263], [312, \"2023-09-08\", 23.1, 248.5, 5.515443, 3.139833, 0.821496, -1.391084, 0.99339, -3.402403, 0.010877, 0, false, false, 0.0, 15.493263], [313, \"2023-09-11\", 23.41, 273.58, 5.611594, 3.153163, 0.77454, -1.193243, 1.204502, -3.407794, 0.010696, 0, false, false, 0.0, 15.493263], [314, \"2023-09-12\", 23.58, 267.48, 5.589045, 3.160399, 0.779844, -1.198186, 1.199455, -3.4095, 0.010639, 0, false, false, 0.0, 15.493263], [315, \"2023-09-13\", 23.25, 271.3, 5.603225, 3.146305, 0.74683, -1.038353, 1.160202, -3.428521, 0.010024, 0, false, false, 0.0, 15.493263], [316, \"2023-09-14\", 24.11, 276.04, 5.620546, 3.182627, 0.772878, -1.161372, 1.006413, -3.434028, 0.009852, 0, false, false, 0.0, 15.493263], [317, \"2023-09-15\", 24.18, 274.39, 5.61455, 3.185526, 0.845552, -1.561871, 0.737567, -3.483266, 0.008427, 0, false, false, 0.0, 15.493263], [318, \"2023-09-18\", 23.71, 265.28, 5.580786, 3.165897, 0.993645, -2.379424, 0.297342, -3.52398, 0.007392, 0, false, false, 0.0, 15.493263], [319, \"2023-09-19\", 22.74, 266.5, 5.585374, 3.124125, 1.017656, -2.559863, 0.151464, -3.555399, 0.006673, 0, false, false, 0.0, 15.493263], [320, \"2023-09-20\", 22.4, 262.59, 5.570594, 3.109061, 0.962716, -2.253839, 0.228501, -3.521929, 0.007441, 0, false, false, 0.0, 15.493263], [321, \"2023-09-21\", 21.53, 255.7, 5.544005, 3.069447, 0.915956, -2.008619, 0.277696, -3.515105, 0.007608, 0, false, false, 0.0, 15.493263], [322, \"2023-09-22\", 20.59, 244.88, 5.500768, 3.024806, 0.862477, -1.719479, 0.364077, -3.50721, 0.007804, 0, false, false, 0.0, 15.493263], [323, \"2023-09-25\", 21.13, 246.99, 5.509348, 3.050694, 0.776453, -1.227056, 0.650458, -3.477845, 0.008575, 0, false, false, 0.0, 15.493263], [324, \"2023-09-26\", 22.26, 244.12, 5.49766, 3.102791, 0.627621, -0.347655, 1.544667, -3.369717, 0.012036, 0, false, false, 0.0, 15.493263], [325, \"2023-09-27\", 23.05, 240.5, 5.48272, 3.137666, 0.522064, 0.275336, 2.253121, -3.284879, 0.015568, -1, true, false, 0.0, 15.493263], [326, \"2023-09-28\", 23.08, 246.38, 5.506875, 3.138966, 0.485939, 0.462962, 2.270265, -3.282669, 0.015671, -1, false, false, 0.0, 15.493263], [327, \"2023-09-29\", 24.28, 250.22, 5.522341, 3.189653, 0.439004, 0.765322, 2.183219, -3.481088, 0.008486, -1, false, false, 0.0, 15.493263], [328, \"2023-10-02\", 23.66, 251.6, 5.527841, 3.163786, 0.462694, 0.606088, 1.72919, -3.567575, 0.006412, -1, false, false, 0.0, 15.493263], [329, \"2023-10-03\", 21.69, 246.53, 5.507484, 3.076851, 0.503127, 0.305889, 1.277195, -3.514252, 0.007629, -1, false, false, 0.0, 15.493263], [330, \"2023-10-04\", 23.69, 261.16, 5.565133, 3.165053, 0.526639, 0.234235, 1.104952, -3.680161, 0.004401, -1, false, false, 0.0, 15.493263], [331, \"2023-10-05\", 18.27, 260.05, 5.560874, 2.90526, 0.485017, 0.208142, 0.986296, -3.900178, 0.002034, -1, false, false, 0.0, 15.493263], [332, \"2023-10-06\", 18.92, 260.53, 5.562718, 2.94022, 0.475263, 0.296465, 0.970297, -3.953326, 0.001676, -1, false, false, 0.0, 15.493263], [333, \"2023-10-09\", 18.78, 259.67, 5.559412, 2.932792, 0.397916, 0.720613, 1.219342, -3.632869, 0.005163, -1, false, false, 0.0, 15.493263], [334, \"2023-10-10\", 19.64, 263.62, 5.574509, 2.977568, 0.24079, 1.635284, 1.737176, -3.690101, 0.004255, -1, false, false, 0.0, 15.493263], [335, \"2023-10-11\", 19.37, 262.99, 5.572116, 2.963725, 0.054184, 2.661807, 2.103325, -4.846422, 4.4e-05, 0, false, true, -2.386471, 13.106792], [336, \"2023-10-12\", 19.33, 258.87, 5.556326, 2.961658, -0.306061, 4.66223, 2.618704, -4.176545, 0.000722, -1, true, false, 0.0, 13.106792], [337, \"2023-10-13\", 19.3, 251.12, 5.525931, 2.960105, -0.740946, 7.054522, 2.823768, -4.195234, 0.000671, -1, false, false, 0.0, 13.106792], [338, \"2023-10-16\", 19.66, 253.92, 5.537019, 2.978586, -1.061935, 8.85854, 2.692616, -4.470337, 0.000222, -1, false, false, 0.0, 13.106792], [339, \"2023-10-17\", 19.9, 254.85, 5.540675, 2.99072, -1.475628, 11.166695, 2.643981, -3.993958, 0.001442, -1, false, false, 0.0, 13.106792], [340, \"2023-10-18\", 18.09, 242.68, 5.491744, 2.895359, -1.219741, 9.593863, 1.891799, -2.552006, 0.103328, -1, false, false, 0.0, 13.106792], [341, \"2023-10-19\", 17.16, 220.11, 5.394127, 2.842581, 0.131276, 2.134464, -0.074951, -2.787658, 0.060058, 0, false, true, 2.527766, 15.634558], [342, \"2023-10-20\", 16.72, 211.99, 5.356539, 2.816606, 0.616034, -0.483207, -0.797765, -3.899043, 0.002042, 0, false, false, 0.0, 15.634558], [343, \"2023-10-23\", 17.07, 212.08, 5.356964, 2.837323, 0.748157, -1.170525, -0.984398, -3.433188, 0.009878, 0, false, false, 0.0, 15.634558], [344, \"2023-10-24\", 17.43, 216.52, 5.377683, 2.858193, 0.80696, -1.48138, -1.037857, -2.992452, 0.035605, 0, false, false, 0.0, 15.634558], [345, \"2023-10-25\", 17.02, 212.42, 5.358565, 2.834389, 0.867713, -1.815306, -1.072922, -2.797818, 0.058586, 0, false, false, 0.0, 15.634558], [346, \"2023-10-26\", 16.17, 205.76, 5.32671, 2.783158, 0.891656, -1.966438, -1.053657, -3.045188, 0.030884, 0, false, false, 0.0, 15.634558], [347, \"2023-10-27\", 16.01, 207.3, 5.334167, 2.773214, 0.875956, -1.899284, -0.979529, -3.074461, 0.028502, 0, false, false, 0.0, 15.634558], [348, \"2023-10-30\", 15.72, 197.36, 5.285029, 2.754934, 0.826486, -1.613071, -0.86604, -3.073478, 0.028579, 0, false, false, 0.0, 15.634558], [349, \"2023-10-31\", 16.22, 200.84, 5.302509, 2.786245, 0.790366, -1.404676, -0.784526, -3.167176, 0.021965, 0, false, false, 0.0, 15.634558], [350, \"2023-11-01\", 16.13, 205.66, 5.326224, 2.780681, 0.702076, -0.958732, -0.658183, -3.008892, 0.034072, 0, false, false, 0.0, 15.634558], [351, \"2023-11-02\", 17.59, 218.51, 5.386832, 2.867331, 0.7268, -1.047821, -0.659042, -3.036359, 0.031636, 0, false, false, 0.0, 15.634558], [352, \"2023-11-03\", 17.71, 219.96, 5.393446, 2.874129, 0.740985, -1.122333, -0.65414, -2.984392, 0.036378, 0, false, false, 0.0, 15.634558], [353, \"2023-11-06\", 17.18, 219.27, 5.390304, 2.843746, 0.770339, -1.308615, -0.666541, -2.923906, 0.042638, 0, false, false, 0.0, 15.634558], [354, \"2023-11-07\", 17.42, 222.18, 5.403488, 2.857619, 0.781594, -1.365715, -0.637749, -2.947372, 0.04011, 0, false, false, 0.0, 15.634558], [355, \"2023-11-08\", 17.0, 222.11, 5.403173, 2.833213, 0.814216, -1.566139, -0.629622, -3.088873, 0.027388, 0, false, false, 0.0, 15.634558], [356, \"2023-11-09\", 15.33, 209.98, 5.347012, 2.729812, 0.878547, -1.967791, -0.649005, -2.806573, 0.057341, 0, false, false, 0.0, 15.634558], [357, \"2023-11-10\", 15.4, 214.65, 5.369009, 2.734368, 0.897699, -2.085387, -0.599767, -2.828345, 0.054338, 0, false, false, 0.0, 15.634558], [358, \"2023-11-13\", 16.19, 223.71, 5.410351, 2.784394, 0.843497, -1.779222, -0.451258, -3.065465, 0.029217, 0, false, false, 0.0, 15.634558], [359, \"2023-11-14\", 16.9, 237.41, 5.469789, 2.827314, 0.593881, -0.42109, 0.102551, -3.221539, 0.018771, 0, false, false, 0.0, 15.634558], [360, \"2023-11-15\", 17.24, 242.84, 5.492403, 2.847232, 0.475003, 0.238325, 1.431349, -3.276421, 0.015966, 0, false, false, 0.0, 15.634558], [361, \"2023-11-16\", 16.39, 233.59, 5.453567, 2.796671, 0.391779, 0.660076, 2.55794, -3.403142, 0.010852, -1, true, false, 0.0, 15.634558], [362, \"2023-11-17\", 16.7, 234.3, 5.456602, 2.815409, 0.36414, 0.828442, 2.324271, -3.537523, 0.007074, -1, false, false, 0.0, 15.634558], [363, \"2023-11-20\", 16.93, 235.6, 5.462135, 2.829087, 0.368211, 0.817869, 1.95071, -3.578579, 0.006184, -1, false, false, 0.0, 15.634558], [364, \"2023-11-21\", 15.72, 241.2, 5.485626, 2.754934, 0.26286, 1.312981, 2.043962, -3.379664, 0.011672, -1, false, false, 0.0, 15.634558], [365, \"2023-11-22\", 15.98, 234.21, 5.456218, 2.771338, 0.243369, 1.443466, 1.848097, -3.40911, 0.010652, -1, false, false, 0.0, 15.634558], [366, \"2023-11-24\", 16.43, 235.45, 5.461499, 2.799109, 0.227087, 1.558875, 1.696376, -3.3444, 0.013007, -1, false, false, 0.0, 15.634558], [367, \"2023-11-27\", 16.66, 236.08, 5.464171, 2.813011, 0.20958, 1.667832, 1.572786, -3.38331, 0.011541, -1, false, false, 0.0, 15.634558], [368, \"2023-11-28\", 17.42, 246.72, 5.508254, 2.857619, 0.202, 1.74495, 1.447933, -3.405258, 0.010781, -1, false, false, 0.0, 15.634558], [405, \"2024-01-23\", 16.04, 209.14, 5.343004, 2.775086, 1.912892, -7.445501, 1.187167, -1.238815, 0.65668, -1, false, false, 0.0, 25.70227], [406, \"2024-01-24\", 15.34, 207.83, 5.33672, 2.730464, 1.902215, -7.421123, 1.102956, -1.258926, 0.647748, -1, false, false, 0.0, 25.70227], [407, \"2024-01-25\", 15.0, 182.63, 5.207462, 2.70805, 1.570036, -5.467855, 1.454295, -1.286729, 0.635222, -1, false, false, 0.0, 25.70227], [408, \"2024-01-26\", 15.29, 183.25, 5.210851, 2.727199, 1.37279, -4.426206, 1.559948, -1.288198, 0.634554, -1, false, false, 0.0, 25.70227], [409, \"2024-01-29\", 16.12, 190.93, 5.251907, 2.780061, 1.216966, -3.611329, 1.616148, -1.326941, 0.616758, 0, false, true, -4.569345, 21.132925], [410, \"2024-01-30\", 15.66, 191.59, 5.255358, 2.75111, 1.080643, -2.928058, 1.637867, -1.293978, 0.631923, 0, false, false, 0.0, 21.132925], [411, \"2024-01-31\", 15.31, 187.29, 5.232658, 2.728506, 1.015004, -2.582662, 1.602474, -1.284483, 0.636241, 0, false, false, 0.0, 21.132925], [412, \"2024-02-01\", 15.53, 188.86, 5.241006, 2.742774, 0.951845, -2.245854, 1.562992, -1.276215, 0.639983, 0, false, false, 0.0, 21.132925], [413, \"2024-02-02\", 15.6, 187.91, 5.235963, 2.747271, 0.906803, -2.000715, 1.491981, -1.272784, 0.64153, 0, false, false, 0.0, 21.132925], [414, \"2024-02-05\", 14.94, 181.06, 5.198828, 2.704042, 0.879135, -1.866428, 1.406743, -1.254002, 0.649945, 0, false, false, 0.0, 21.132925], [415, \"2024-02-06\", 15.5, 185.1, 5.220896, 2.74084, 0.818775, -1.533897, 1.39758, -1.228206, 0.661346, 0, false, false, 0.0, 21.132925], [416, \"2024-02-07\", 15.17, 187.58, 5.234205, 2.71932, 0.764852, -1.28407, 1.372172, -1.214289, 0.667419, 0, false, false, 0.0, 21.132925], [417, \"2024-02-08\", 16.11, 189.56, 5.244706, 2.77944, 0.664343, -0.704846, 1.451768, -1.23996, 0.656174, 0, false, false, 0.0, 21.132925], [418, \"2024-02-09\", 16.68, 193.57, 5.265639, 2.81421, 0.531433, 0.015875, 1.534289, -1.31188, 0.62372, 0, false, false, 0.0, 21.132925], [419, \"2024-02-12\", 16.33, 188.13, 5.237133, 2.793004, 0.398118, 0.708006, 1.568222, -1.259955, 0.647288, 0, false, false, 0.0, 21.132925], [420, \"2024-02-13\", 15.38, 184.02, 5.215044, 2.733068, 0.259659, 1.378933, 1.584424, -1.232793, 0.659332, 0, false, false, 0.0, 21.132925], [421, \"2024-02-14\", 15.54, 188.71, 5.240211, 2.743417, 0.181169, 1.794052, 1.534608, -1.186979, 0.679172, 0, false, false, 0.0, 21.132925], [422, \"2024-02-15\", 16.35, 200.45, 5.300565, 2.794228, 0.236842, 1.538834, 1.327094, -1.165721, 0.688165, 0, false, false, 0.0, 21.132925], [423, \"2024-02-16\", 16.3, 199.95, 5.298067, 2.791165, 0.364669, 0.859122, 1.030938, -1.302106, 0.628208, 0, false, false, 0.0, 21.132925], [424, \"2024-02-20\", 15.89, 193.76, 5.26662, 2.76569, 0.399687, 0.660691, 0.892859, -1.358719, 0.601899, 0, false, false, 0.0, 21.132925], [425, \"2024-02-21\", 15.39, 194.77, 5.271819, 2.733718, 0.432985, 0.451101, 0.755663, -1.341235, 0.610103, 0, false, false, 0.0, 21.132925], [426, \"2024-02-22\", 11.45, 197.41, 5.285283, 2.43799, -0.047328, 2.688134, 1.624161, -1.36471, 0.599073, 0, false, false, 0.0, 21.132925], [427, \"2024-02-23\", 10.07, 191.97, 5.257339, 2.309561, -0.402604, 4.426185, 2.146908, -1.024127, 0.744363, -1, true, false, 0.0, 21.132925], [428, \"2024-02-26\", 10.7, 199.4, 5.295313, 2.370244, -1.356308, 9.552321, 3.092506, -0.917322, 0.782215, 0, false, true, -5.126136, 16.006789], [429, \"2024-02-27\", 11.14, 199.73, 5.296966, 2.410542, -1.916411, 12.561704, 2.918204, -0.244289, 0.933032, -1, true, false, 0.0, 16.006789], [430, \"2024-02-28\", 11.3, 202.04, 5.308466, 2.424803, -2.307934, 14.67639, 2.62016, -0.173045, 0.941659, -1, false, false, 0.0, 16.006789], [431, \"2024-02-29\", 11.32, 201.88, 5.307673, 2.426571, -2.564792, 16.039647, 2.324591, -0.084735, 0.950938, -1, false, false, 0.0, 16.006789], [432, \"2024-03-01\", 11.35, 202.64, 5.311431, 2.429218, -2.705685, 16.800277, 2.052866, -0.05455, 0.953782, -1, false, false, 0.0, 16.006789], [433, \"2024-03-04\", 10.91, 188.14, 5.237186, 2.38968, -2.280906, 14.335209, 1.473294, -0.046305, 0.954531, -1, false, false, 0.0, 16.006789], [434, \"2024-03-05\", 10.93, 180.74, 5.19706, 2.391511, -1.35736, 9.445793, 0.653499, -0.755615, 0.831814, -1, false, false, 0.0, 16.006789], [435, \"2024-03-06\", 11.03, 176.54, 5.173547, 2.400619, -0.27371, 3.816671, -0.266156, -1.570086, 0.498601, 0, false, true, 8.745033, 24.751822], [436, \"2024-03-07\", 12.51, 178.65, 5.185429, 2.526528, -0.011681, 2.587102, -0.505849, -1.975067, 0.297611, 0, false, false, 0.0, 24.751822], [437, \"2024-03-08\", 12.78, 175.34, 5.166727, 2.547881, 0.097596, 2.043628, -0.629645, -1.514316, 0.526418, 0, false, false, 0.0, 24.751822], [438, \"2024-03-11\", 12.69, 177.77, 5.180491, 2.540814, 0.043992, 2.312914, -0.613691, -1.491866, 0.537531, 0, false, false, 0.0, 24.751822], [439, \"2024-03-12\", 12.37, 177.54, 5.179196, 2.515274, 0.13692, 1.80614, -0.714489, -2.01511, 0.279988, 0, false, false, 0.0, 24.751822], [440, \"2024-03-13\", 11.71, 169.48, 5.132735, 2.460443, 0.329805, 0.76764, -0.882618, -2.021651, 0.277161, 0, false, false, 0.0, 24.751822], [441, \"2024-03-14\", 10.69, 162.5, 5.090678, 2.369309, 0.490386, -0.127089, -1.003639, -2.262103, 0.184482, 0, false, false, 0.0, 24.751822], [442, \"2024-03-15\", 11.04, 163.57, 5.097241, 2.401525, 0.340254, 0.667169, -0.858018, -2.15931, 0.221344, 0, false, false, 0.0, 24.751822], [443, \"2024-03-18\", 11.4, 173.8, 5.157905, 2.433613, 0.132249, 1.751487, -0.688928, -2.113001, 0.239319, 0, false, false, 0.0, 24.751822], [444, \"2024-03-19\", 11.26, 171.32, 5.143533, 2.421257, 0.002534, 2.408223, -0.600346, -2.06422, 0.259143, 0, false, false, 0.0, 24.751822], [445, \"2024-03-20\", 11.36, 175.66, 5.16855, 2.430098, -0.170805, 3.312912, -0.479946, -2.187297, 0.210888, 0, false, false, 0.0, 24.751822], [446, \"2024-03-21\", 11.17, 172.82, 5.152251, 2.413232, -0.172802, 3.303553, -0.488341, -2.090736, 0.248256, 0, false, false, 0.0, 24.751822], [447, \"2024-03-22\", 10.8, 170.83, 5.140669, 2.379546, -0.067152, 2.724752, -0.569994, -2.027307, 0.27473, 0, false, false, 0.0, 24.751822], [448, \"2024-03-25\", 10.65, 172.63, 5.151151, 2.36556, 0.032631, 2.197473, -0.597562, -2.362218, 0.152685, 0, false, false, 0.0, 24.751822], [449, \"2024-03-26\", 10.52, 177.67, 5.179928, 2.353278, 0.07634, 1.957844, -0.565151, -2.307298, 0.169625, 0, false, false, 0.0, 24.751822], [450, \"2024-03-27\", 10.99, 179.83, 5.192012, 2.396986, 0.102569, 1.864446, -0.506617, -2.500549, 0.115341, 0, false, false, 0.0, 24.751822], [451, \"2024-03-28\", 10.95, 175.79, 5.16929, 2.393339, 0.157727, 1.578, -0.492222, -2.333269, 0.161462, 0, false, false, 0.0, 24.751822], [452, \"2024-04-01\", 11.09, 175.22, 5.166042, 2.406044, 0.305344, 0.828624, -0.653404, -2.296765, 0.173014, 0, false, false, 0.0, 24.751822], [453, \"2024-04-02\", 10.51, 166.63, 5.115776, 2.352327, 0.740417, -1.435479, -1.725527, -2.516036, 0.111621, 0, false, false, 0.0, 24.751822], [454, \"2024-04-03\", 10.54, 168.38, 5.126223, 2.355178, 0.995526, -2.74811, -2.717325, -2.641322, 0.084754, 1, true, false, 0.0, 24.751822], [455, \"2024-04-04\", 10.13, 171.11, 5.142307, 2.315501, 1.114876, -3.417533, -2.495544, -2.587579, 0.095592, 1, false, false, 0.0, 24.751822], [456, \"2024-04-05\", 10.1, 164.9, 5.105339, 2.312535, 1.095116, -3.278405, -2.020981, -2.681262, 0.077337, 1, false, false, 0.0, 24.751822], [457, \"2024-04-08\", 10.44, 172.98, 5.153176, 2.345645, 0.923068, -2.411086, -1.422067, -2.49719, 0.116159, 1, false, false, 0.0, 24.751822], [458, \"2024-04-09\", 10.63, 176.88, 5.175472, 2.36368, 0.570799, -0.590476, -0.528328, -2.551374, 0.103469, 1, false, false, 0.0, 24.751822], [459, \"2024-04-10\", 10.27, 171.76, 5.146098, 2.329227, 0.315339, 0.706461, 0.094431, -2.87834, 0.047925, 0, false, true, -3.454571, 21.297251], [460, \"2024-04-11\", 9.57, 174.6, 5.162498, 2.258633, 0.26043, 0.914162, 0.187335, -3.013187, 0.033681, 0, false, false, 0.0, 21.297251], [461, \"2024-04-12\", 9.13, 171.05, 5.141956, 2.211566, 0.436798, -0.03443, -0.255036, -3.092687, 0.027099, 0, false, false, 0.0, 21.297251], [462, \"2024-04-15\", 8.4, 161.48, 5.084381, 2.128232, 1.720692, -6.620424, -2.527018, -3.172153, 0.021654, 1, true, false, 0.0, 21.297251], [463, \"2024-04-16\", 8.71, 157.11, 5.056946, 2.164472, 1.781544, -6.844699, -2.138516, -2.344609, 0.157984, 1, false, false, 0.0, 21.297251], [464, \"2024-04-17\", 8.74, 155.45, 5.046324, 2.16791, 1.747341, -6.649737, -1.787033, -2.67878, 0.077783, 1, false, false, 0.0, 21.297251], [465, \"2024-04-18\", 8.83, 149.93, 5.010169, 2.178155, 1.47795, -5.226625, -1.227768, -2.768883, 0.062858, 1, false, false, 0.0, 21.297251], [466, \"2024-04-19\", 8.63, 147.05, 4.990773, 2.155245, 1.331075, -4.48785, -0.913563, -2.672188, 0.078976, 1, false, false, 0.0, 21.297251], [467, \"2024-04-22\", 8.79, 142.05, 4.956179, 2.173615, 1.135433, -3.453793, -0.518415, -2.68227, 0.077157, 1, false, false, 0.0, 21.297251], [468, \"2024-04-23\", 9.04, 144.68, 4.974524, 2.201659, 1.027472, -2.909524, -0.271564, -2.731243, 0.068786, 0, false, true, -3.7109, 17.586351], [469, \"2024-04-24\", 8.84, 162.13, 5.088398, 2.179287, 1.039032, -3.107723, -0.26693, -2.701707, 0.073743, 0, false, false, 0.0, 17.586351], [470, \"2024-04-25\", 8.52, 170.18, 5.136857, 2.142416, 0.934113, -2.655989, -0.024585, -2.655055, 0.082144, 0, false, false, 0.0, 17.586351], [471, \"2024-04-26\", 9.04, 168.29, 5.125689, 2.201659, 0.846022, -2.134789, 0.267372, -2.689816, 0.075817, 0, false, false, 0.0, 17.586351], [472, \"2024-04-29\", 9.38, 194.05, 5.268116, 2.23858, 0.553177, -0.675623, 0.943425, -2.70433, 0.073292, 0, false, false, 0.0, 17.586351], [473, \"2024-04-30\", 8.9, 183.28, 5.211015, 2.186051, 0.445504, -0.135475, 1.120379, -2.777835, 0.06151, 0, false, false, 0.0, 17.586351], [474, \"2024-05-01\", 9.21, 179.99, 5.192901, 2.22029, 0.397542, 0.155895, 1.138862, -2.744142, 0.066706, 0, false, false, 0.0, 17.586351], [475, \"2024-05-02\", 9.83, 180.01, 5.193012, 2.285439, 0.396452, 0.226659, 1.061742, -2.746504, 0.066331, 0, false, false, 0.0, 17.586351], [476, \"2024-05-03\", 10.07, 181.19, 5.199546, 2.309561, 0.43386, 0.053684, 0.908741, -2.726284, 0.069599, 0, false, false, 0.0, 17.586351], [477, \"2024-05-06\", 10.33, 184.76, 5.219058, 2.335052, 0.454616, -0.037615, 0.81225, -2.706689, 0.072888, 0, false, false, 0.0, 17.586351], [478, \"2024-05-07\", 10.25, 177.81, 5.180716, 2.327278, 0.442983, 0.032311, 0.819724, -2.699105, 0.074193, 0, false, false, 0.0, 17.586351], [479, \"2024-05-08\", 10.27, 174.72, 5.163185, 2.329227, 0.45172, -0.003085, 0.830893, -2.696566, 0.074634, 0, false, false, 0.0, 17.586351], [480, \"2024-05-09\", 10.22, 171.97, 5.14732, 2.324347, 0.463058, -0.059162, 0.844826, -2.6923, 0.07538, 0, false, false, 0.0, 17.586351], [481, \"2024-05-10\", 9.99, 168.47, 5.126758, 2.301585, 0.470458, -0.110341, 0.827454, -2.691246, 0.075565, 0, false, false, 0.0, 17.586351], [482, \"2024-05-13\", 10.9, 171.89, 5.146855, 2.388763, 0.474512, -0.05348, 0.775132, -2.689635, 0.075849, 0, false, false, 0.0, 17.586351], [483, \"2024-05-14\", 11.19, 177.55, 5.179252, 2.415021, 0.503576, -0.193129, 0.653205, -2.689742, 0.07583, 0, false, false, 0.0, 17.586351], [484, \"2024-05-15\", 10.2, 173.99, 5.158998, 2.322388, 0.486345, -0.186667, 0.604339, -2.683702, 0.076901, 0, false, false, 0.0, 17.586351], [485, \"2024-05-16\", 10.13, 174.84, 5.163871, 2.315501, 0.470257, -0.112845, 0.586282, -2.717717, 0.071022, 0, false, false, 0.0, 17.586351], [486, \"2024-05-17\", 10.5, 177.46, 5.178745, 2.351375, 0.424614, 0.152406, 0.717162, -2.72411, 0.069958, 0, false, false, 0.0, 17.586351], [487, \"2024-05-20\", 10.28, 174.95, 5.1645, 2.3302, 0.360399, 0.468917, 0.914183, -3.25038, 0.017248, 0, false, false, 0.0, 17.586351], [488, \"2024-05-21\", 10.05, 186.6, 5.228967, 2.307573, 0.254302, 0.977834, 1.300952, -3.377214, 0.011761, 0, false, false, 0.0, 17.586351], [489, \"2024-05-22\", 10.7, 180.11, 5.193568, 2.370244, -0.031531, 2.534002, 2.572408, -3.785603, 0.003058, -1, true, false, 0.0, 17.586351], [490, \"2024-05-23\", 9.95, 173.74, 5.15756, 2.297573, -0.32362, 3.96666, 3.101239, -4.316278, 0.000416, 0, false, true, -1.432658, 16.153692], [491, \"2024-05-24\", 10.44, 179.24, 5.188726, 2.345645, -0.665059, 5.796453, 3.197191, -5.126805, 1.2e-05, -1, true, false, 0.0, 16.153692], [492, \"2024-05-28\", 10.42, 176.75, 5.174736, 2.343727, -0.529411, 5.083292, 2.233327, -4.121224, 0.000893, -1, false, false, 0.0, 16.153692], [493, \"2024-05-29\", 10.22, 176.19, 5.171563, 2.324347, -0.177719, 3.243433, 1.12289, -3.18762, 0.020713, -1, false, false, 0.0, 16.153692], [494, \"2024-05-30\", 10.97, 178.79, 5.186212, 2.395164, 0.03825, 2.19679, 0.521592, -2.3437, 0.158261, -1, false, false, 0.0, 16.153692], [495, \"2024-05-31\", 10.92, 178.08, 5.182233, 2.390596, 0.151337, 1.606334, 0.178061, -2.727085, 0.069468, 0, false, true, 4.190119, 20.343812], [496, \"2024-06-03\", 11.4, 176.29, 5.17213, 2.433613, 0.217971, 1.306238, -0.012864, -2.753237, 0.06527, 0, false, false, 0.0, 20.343812], [497, \"2024-06-04\", 11.22, 174.77, 5.163471, 2.417698, 0.274421, 1.000732, -0.205817, -2.833709, 0.053618, 0, false, false, 0.0, 20.343812], [498, \"2024-06-05\", 11.45, 175.0, 5.164786, 2.43799, 0.244557, 1.174903, -0.14475, -2.793695, 0.05918, 0, false, false, 0.0, 20.343812], [499, \"2024-06-06\", 11.74, 177.94, 5.181446, 2.463002, 0.339671, 0.703015, -0.427551, -2.704194, 0.073315, 0, false, false, 0.0, 20.343812], [500, \"2024-06-07\", 11.52, 177.48, 5.178858, 2.444085, 0.293116, 0.926079, -0.337032, -2.703043, 0.073513, 0, false, false, 0.0, 20.343812], [501, \"2024-06-10\", 11.87, 173.79, 5.157848, 2.474014, -0.468258, 4.88922, 1.656336, -2.727911, 0.069332, 0, false, false, 0.0, 20.343812], [502, \"2024-06-11\", 11.83, 170.66, 5.139673, 2.470639, -0.897565, 7.083829, 2.281857, -2.30379, 0.170748, -1, true, false, 0.0, 20.343812], [503, \"2024-06-12\", 11.8, 177.29, 5.177787, 2.4681, -0.877319, 7.010671, 1.919525, -2.226475, 0.196777, -1, false, false, 0.0, 20.343812], [504, \"2024-06-13\", 11.11, 182.47, 5.206586, 2.407846, -0.851492, 6.841213, 1.62808, -2.445027, 0.129429, -1, false, false, 0.0, 20.343812], [505, \"2024-06-14\", 10.88, 178.01, 5.18184, 2.386926, -1.020388, 7.674413, 1.723789, -2.332034, 0.161844, -1, false, false, 0.0, 20.343812], [506, \"2024-06-17\", 10.96, 187.44, 5.233459, 2.394252, -0.710769, 6.114032, 1.014619, -1.923395, 0.321137, -1, false, false, 0.0, 20.343812], [507, \"2024-06-18\", 11.02, 184.86, 5.219599, 2.399712, -0.731443, 6.21755, 0.957275, -2.270504, 0.181658, -1, false, false, 0.0, 20.343812], [508, \"2024-06-20\", 10.33, 181.57, 5.201641, 2.335052, -0.543352, 5.161376, 0.466765, -2.005016, 0.284378, 0, false, true, 1.922453, 22.266265], [509, \"2024-06-21\", 10.32, 183.01, 5.209541, 2.334084, -0.657595, 5.759851, 0.645839, -2.164314, 0.219451, 0, false, false, 0.0, 22.266265], [510, \"2024-06-24\", 11.01, 182.58, 5.207188, 2.398804, -0.951645, 7.354201, 1.182845, -1.917185, 0.32402, 0, false, false, 0.0, 22.266265], [511, \"2024-06-25\", 11.96, 187.35, 5.232979, 2.481568, -0.464401, 4.911767, 0.238105, -1.6318, 0.466549, 0, false, false, 0.0, 22.266265], [512, \"2024-06-26\", 14.74, 196.37, 5.280001, 2.690565, 0.906759, -2.097126, -2.097748, -2.038665, 0.269881, 1, true, false, 0.0, 22.266265], [513, \"2024-06-27\", 14.47, 197.42, 5.285333, 2.672078, 1.337717, -4.398201, -2.319007, -2.62983, 0.086987, 1, false, false, 0.0, 22.266265], [514, \"2024-06-28\", 13.42, 197.88, 5.287661, 2.596746, 1.399685, -4.804312, -2.053526, -2.631622, 0.086636, 1, false, false, 0.0, 22.266265], [515, \"2024-07-01\", 13.92, 209.86, 5.346441, 2.633327, 1.324853, -4.449922, -1.730163, -2.641714, 0.084679, 1, false, false, 0.0, 22.266265], [516, \"2024-07-02\", 14.89, 231.26, 5.443543, 2.70069, 1.176309, -3.7026, -1.416001, -2.607367, 0.091484, 1, false, false, 0.0, 22.266265], [517, \"2024-07-03\", 14.65, 246.39, 5.506916, 2.68444, 0.984206, -2.735499, -1.12261, -2.541492, 0.105702, 1, false, false, 0.0, 22.266265], [518, \"2024-07-05\", 14.79, 251.52, 5.527523, 2.693951, 0.902829, -2.296454, -0.966911, -2.562153, 0.101075, 1, false, false, 0.0, 22.266265], [519, \"2024-07-08\", 15.49, 252.94, 5.533152, 2.740195, 0.900988, -2.245108, -0.906718, -2.551316, 0.103482, 1, false, false, 0.0, 22.266265], [520, \"2024-07-09\", 15.71, 262.33, 5.569603, 2.754297, 0.883898, -2.168662, -0.843546, -2.531237, 0.108058, 1, false, false, 0.0, 22.266265], [521, \"2024-07-10\", 16.37, 263.26, 5.573142, 2.79545, 0.917147, -2.315941, -0.79391, -3.101811, 0.026419, 1, false, false, 0.0, 22.266265], [522, \"2024-07-11\", 16.76, 241.03, 5.484921, 2.818995, 0.998447, -2.657408, -0.777831, -2.854249, 0.050933, 0, false, true, 0.560282, 22.826547], [523, \"2024-07-12\", 18.11, 248.23, 5.514356, 2.896464, 1.081082, -3.065004, -0.776687, -2.851191, 0.051325, 0, false, false, 0.0, 22.826547], [524, \"2024-07-15\", 17.5, 252.64, 5.531966, 2.862201, 1.101517, -3.231351, -0.730322, -2.597572, 0.0935, 0, false, false, 0.0, 22.826547], [525, \"2024-07-16\", 17.94, 256.56, 5.547363, 2.887033, 1.121236, -3.332872, -0.676738, -2.644821, 0.084083, 0, false, false, 0.0, 22.826547], [526, \"2024-07-17\", 17.19, 248.5, 5.515443, 2.844328, 1.108454, -3.269289, -0.586438, -2.542108, 0.105562, 0, false, false, 0.0, 22.826547], [527, \"2024-07-18\", 16.9, 249.23, 5.518376, 2.827314, 1.086564, -3.168756, -0.486509, -2.559575, 0.101643, 0, false, false, 0.0, 22.826547], [528, \"2024-07-19\", 16.75, 239.2, 5.4773, 2.818398, 1.016479, -2.74916, -0.294736, -2.638238, 0.085349, 0, false, false, 0.0, 22.826547], [529, \"2024-07-22\", 17.22, 251.51, 5.527483, 2.846071, 0.903525, -2.148146, -0.006635, -2.616053, 0.089725, 0, false, false, 0.0, 22.826547], [530, \"2024-07-23\", 17.5, 246.38, 5.506875, 2.862201, 0.785611, -1.464059, 0.562614, -2.627701, 0.087406, 0, false, false, 0.0, 22.826547], [531, \"2024-07-24\", 16.27, 215.99, 5.375232, 2.789323, 0.608592, -0.481999, 2.281913, -2.55505, 0.102648, -1, true, false, 0.0, 22.826547], [532, \"2024-07-25\", 16.25, 220.25, 5.394763, 2.788093, 0.620286, -0.558202, 1.928848, -2.618806, 0.089172, -1, false, false, 0.0, 22.826547], [533, \"2024-07-26\", 16.21, 219.8, 5.392718, 2.785628, 0.598142, -0.439981, 1.790667, -2.574079, 0.098474, -1, false, false, 0.0, 22.826547], [534, \"2024-07-29\", 16.3, 232.1, 5.447168, 2.791165, 0.41351, 0.538704, 2.259746, -2.580542, 0.097086, -1, false, false, 0.0, 22.826547], [535, \"2024-07-30\", 16.22, 222.62, 5.405466, 2.786245, 0.170115, 1.866696, 2.631414, -2.61018, 0.090911, -1, false, false, 0.0, 22.826547], [536, \"2024-07-31\", 16.41, 232.07, 5.447039, 2.797891, 0.104973, 2.226097, 2.328262, -2.619362, 0.089061, -1, false, false, 0.0, 22.826547], [537, \"2024-08-01\", 15.24, 216.86, 5.379252, 2.723924, 0.229801, 1.487765, 1.643637, -2.621414, 0.088652, -1, false, false, 0.0, 22.826547], [538, \"2024-08-02\", 14.72, 207.67, 5.33595, 2.689207, 0.413384, 0.483409, 0.987162, -2.650482, 0.083006, -1, false, false, 0.0, 22.826547], [539, \"2024-08-05\", 14.61, 198.88, 5.292702, 2.681706, 0.531341, -0.130522, 0.594576, -2.668853, 0.079585, -1, false, false, 0.0, 22.826547], [540, \"2024-08-06\", 14.8, 200.64, 5.301512, 2.694627, 0.650835, -0.755784, 0.219165, -2.671568, 0.079089, 0, false, true, 0.273785, 23.100332], [541, \"2024-08-07\", 13.79, 191.76, 5.256245, 2.623944, 0.788936, -1.522899, -0.222279, -2.659908, 0.081237, 0, false, false, 0.0, 23.100332], [542, \"2024-08-08\", 14.72, 198.84, 5.2925, 2.689207, 0.786712, -1.474467, -0.232486, -2.638928, 0.085216, 0, false, false, 0.0, 23.100332], [543, \"2024-08-09\", 13.95, 200.0, 5.298317, 2.63548, 0.796389, -1.58404, -0.346579, -2.657085, 0.081763, 0, false, false, 0.0, 23.100332], [544, \"2024-08-12\", 13.39, 197.49, 5.285688, 2.594508, 0.851059, -1.903923, -0.593094, -2.63446, 0.086082, 0, false, false, 0.0, 23.100332], [545, \"2024-08-13\", 13.54, 207.83, 5.33672, 2.605648, 0.881846, -2.100515, -0.783028, -2.595788, 0.093871, 0, false, false, 0.0, 23.100332], [546, \"2024-08-14\", 13.25, 201.38, 5.305194, 2.583998, 0.937916, -2.391827, -1.032637, -2.577305, 0.097779, 0, false, false, 0.0, 23.100332], [547, \"2024-08-15\", 13.76, 214.14, 5.36663, 2.621766, 0.984598, -2.662205, -1.256823, -2.542794, 0.105406, 0, false, false, 0.0, 23.100332], [548, \"2024-08-16\", 13.21, 216.12, 5.375834, 2.580974, 0.978258, -2.677977, -1.273931, -2.5497, 0.103845, 0, false, false, 0.0, 23.100332], [549, \"2024-08-19\", 13.53, 222.72, 5.405915, 2.604909, 0.939507, -2.473985, -1.112669, -2.592744, 0.094506, 0, false, false, 0.0, 23.100332], [550, \"2024-08-20\", 13.2, 221.1, 5.398615, 2.580217, 0.757895, -1.511368, -0.470529, -2.774982, 0.061937, 0, false, false, 0.0, 23.100332], [551, \"2024-08-21\", 13.07, 223.27, 5.408382, 2.57032, 0.603211, -0.692076, 0.081019, -2.678213, 0.077885, 0, false, false, 0.0, 23.100332], [552, \"2024-08-22\", 12.81, 210.66, 5.350245, 2.550226, 0.548406, -0.383881, 0.279875, -2.51077, 0.112876, 0, false, false, 0.0, 23.100332], [553, \"2024-08-23\", 13.96, 220.32, 5.395081, 2.636196, 0.45187, 0.198321, 0.639172, -2.510323, 0.112983, 0, false, false, 0.0, 23.100332], [554, \"2024-08-26\", 14.36, 213.21, 5.362278, 2.664447, 0.273528, 1.197716, 1.244979, -2.521003, 0.110447, 0, false, false, 0.0, 23.100332], [555, \"2024-08-27\", 14.48, 209.21, 5.343339, 2.672768, 0.121823, 2.021826, 1.753643, -2.520369, 0.110597, 0, false, false, 0.0, 23.100332], [556, \"2024-08-28\", 13.83, 205.75, 5.326662, 2.62684, -0.273531, 4.083846, 2.633092, -2.50359, 0.114603, -1, true, false, 0.0, 23.100332], [557, \"2024-08-29\", 14.09, 206.28, 5.329234, 2.645465, -0.389118, 4.719167, 2.45992, -2.373188, 0.149447, -1, false, false, 0.0, 23.100332], [558, \"2024-08-30\", 14.13, 214.11, 5.36649, 2.6483, -0.360693, 4.583955, 2.030898, -2.381288, 0.147088, -1, false, false, 0.0, 23.100332], [559, \"2024-09-03\", 13.15, 210.6, 5.349961, 2.576422, -0.315077, 4.262069, 1.66101, -2.433467, 0.132512, -1, false, false, 0.0, 23.100332], [560, \"2024-09-04\", 13.28, 219.41, 5.390942, 2.586259, -0.260032, 3.988076, 1.386856, -2.82603, 0.054651, -1, false, false, 0.0, 23.100332], [561, \"2024-09-05\", 13.74, 230.17, 5.438818, 2.620311, -0.232416, 3.884378, 1.211624, -2.861866, 0.049966, -1, false, false, 0.0, 23.100332], [562, \"2024-09-06\", 13.23, 210.73, 5.350578, 2.582487, -0.090765, 3.068135, 0.83738, -2.660119, 0.081197, -1, false, false, 0.0, 23.100332], [563, \"2024-09-09\", 13.08, 216.27, 5.376528, 2.571084, -0.058893, 2.887725, 0.698509, -2.811302, 0.056677, -1, false, false, 0.0, 23.100332], [564, \"2024-09-10\", 13.23, 226.17, 5.421287, 2.582487, -0.163922, 3.471157, 0.816725, -3.187166, 0.02074, -1, false, false, 0.0, 23.100332], [565, \"2024-09-11\", 13.93, 228.13, 5.429916, 2.634045, -0.087124, 3.107119, 0.611966, -2.633191, 0.08633, -1, false, false, 0.0, 23.100332], [566, \"2024-09-12\", 13.72, 229.81, 5.437253, 2.618855, -0.140324, 3.381833, 0.63549, -3.136747, 0.023951, 0, false, true, 0.702014, 23.802345], [567, \"2024-09-13\", 13.5, 230.29, 5.439339, 2.60269, -0.128205, 3.300041, 0.529273, -2.823773, 0.054957, 0, false, false, 0.0, 23.802345], [568, \"2024-09-16\", 13.2, 226.78, 5.42398, 2.580217, -0.169989, 3.502232, 0.5411, -3.326993, 0.013714, 0, false, false, 0.0, 23.802345], [569, \"2024-09-17\", 13.1, 227.87, 5.428775, 2.572612, -0.209566, 3.710296, 0.574274, -3.873924, 0.002235, 0, false, false, 0.0, 23.802345], [570, \"2024-09-18\", 12.9, 227.2, 5.425831, 2.557227, -0.251835, 3.92364, 0.630296, -2.947381, 0.040109, 0, false, false, 0.0, 23.802345], [571, \"2024-09-19\", 13.15, 243.92, 5.49684, 2.576422, -0.245352, 3.925081, 0.568792, -1.868587, 0.34698, 0, false, false, 0.0, 23.802345], [572, \"2024-09-20\", 11.71, 238.25, 5.473321, 2.460443, -0.526024, 5.339542, 1.609367, -2.115857, 0.238187, 0, false, false, 0.0, 23.802345], [573, \"2024-09-23\", 11.91, 250.0, 5.521461, 2.477378, -0.63726, 5.995983, 2.152005, -1.231441, 0.659927, -1, true, false, 0.0, 23.802345], [574, \"2024-09-24\", 11.84, 254.27, 5.538397, 2.471484, -0.669087, 6.177154, 2.167875, -1.128458, 0.703591, -1, false, false, 0.0, 23.802345], [575, \"2024-09-25\", 11.03, 257.02, 5.549154, 2.400619, -0.766966, 6.656632, 2.277566, -1.050409, 0.734438, -1, false, false, 0.0, 23.802345], [576, \"2024-09-26\", 11.17, 254.22, 5.5382, 2.413232, -0.877489, 7.272939, 2.279776, -0.659796, 0.85689, -1, false, false, 0.0, 23.802345], [577, \"2024-09-27\", 11.6, 260.46, 5.562449, 2.451005, -0.88408, 7.368657, 1.992527, -0.565882, 0.878506, -1, false, false, 0.0, 23.802345], [578, \"2024-09-30\", 11.22, 261.63, 5.566931, 2.417698, -0.888376, 7.363225, 1.728964, -0.811377, 0.815757, -1, false, false, 0.0, 23.802345], [579, \"2024-10-01\", 10.44, 258.02, 5.553037, 2.345645, -1.073765, 8.308302, 1.955004, -0.866703, 0.79874, -1, false, false, 0.0, 23.802345], [580, \"2024-10-02\", 10.64, 249.02, 5.517533, 2.36462, -1.154484, 8.734526, 1.863919, -0.418691, 0.906931, -1, false, false, 0.0, 23.802345], [581, \"2024-10-03\", 10.78, 240.66, 5.483385, 2.377693, -1.134747, 8.59995, 1.572484, -0.592052, 0.872768, -1, false, false, 0.0, 23.802345], [582, \"2024-10-04\", 10.44, 250.08, 5.521781, 2.345645, -1.326703, 9.67141, 1.802143, -0.909689, 0.784765, -1, false, false, 0.0, 23.802345], [583, \"2024-10-07\", 10.49, 240.83, 5.484091, 2.350422, -1.4489, 10.29632, 1.810227, -0.303288, 0.925037, 0, false, true, -4.300337, 19.502009], [584, \"2024-10-08\", 10.47, 244.5, 5.499215, 2.348514, -1.457608, 10.364215, 1.617927, -0.363312, 0.916047, 0, false, false, 0.0, 19.502009], [585, \"2024-10-09\", 10.42, 241.05, 5.485004, 2.343727, -1.306235, 9.50843, 1.156882, -0.551867, 0.881492, 0, false, false, 0.0, 19.502009], [586, \"2024-10-10\", 10.26, 238.77, 5.475501, 2.328253, -1.080103, 8.242357, 0.565866, -1.089042, 0.719422, 0, false, false, 0.0, 19.502009], [587, \"2024-10-11\", 10.5, 217.8, 5.383577, 2.351375, -0.481263, 4.94229, -0.915436, -1.417905, 0.573663, 0, false, false, 0.0, 19.502009], [588, \"2024-10-14\", 10.35, 219.16, 5.389802, 2.336987, -0.064011, 2.68199, -1.844594, -2.046843, 0.266419, 0, false, false, 0.0, 19.502009], [589, \"2024-10-15\", 10.15, 219.57, 5.391671, 2.317474, 0.265394, 0.886558, -2.284984, -1.969866, 0.29994, 1, true, false, 0.0, 19.502009], [590, \"2024-10-16\", 10.24, 221.33, 5.399655, 2.326302, 0.508789, -0.420981, -2.339935, -1.867364, 0.347566, 1, false, false, 0.0, 19.502009], [591, \"2024-10-17\", 10.12, 220.89, 5.397665, 2.314514, 0.516958, -0.47585, -2.0475, -2.086117, 0.250134, 1, false, false, 0.0, 19.502009], [592, \"2024-10-18\", 10.04, 220.7, 5.396804, 2.306577, 0.552744, -0.676475, -1.826463, -2.171977, 0.216573, 1, false, false, 0.0, 19.502009], [593, \"2024-10-21\", 10.03, 218.85, 5.388387, 2.305581, 0.519955, -0.496137, -1.570227, -1.979807, 0.295497, 1, false, false, 0.0, 19.502009], [594, \"2024-10-22\", 10.49, 217.97, 5.384357, 2.350422, 0.426095, 0.056177, -1.290833, -1.939544, 0.313693, 1, false, false, 0.0, 19.502009], [595, \"2024-10-23\", 10.16, 213.65, 5.364339, 2.318458, 0.407186, 0.134177, -1.15198, -2.096761, 0.245819, 1, false, false, 0.0, 19.502009], [596, \"2024-10-24\", 10.43, 260.48, 5.562526, 2.344686, 0.333488, 0.489652, -0.971837, -2.126549, 0.233974, 1, false, false, 0.0, 19.502009], [597, \"2024-10-25\", 10.45, 269.19, 5.595417, 2.346602, 0.210503, 1.168749, -0.743325, -2.211352, 0.202151, 1, false, false, 0.0, 19.502009], [598, \"2024-10-28\", 10.86, 262.51, 5.570289, 2.385086, 0.178583, 1.390326, -0.626723, -2.258471, 0.185712, 1, false, false, 0.0, 19.502009], [599, \"2024-10-29\", 10.47, 259.52, 5.558834, 2.348514, 0.179626, 1.350003, -0.566226, -2.265425, 0.183362, 0, false, true, -0.463444, 19.038564], [600, \"2024-10-30\", 10.39, 257.55, 5.551214, 2.340844, 0.160883, 1.447749, -0.474454, -2.343058, 0.158457, 0, false, false, 0.0, 19.038564], [601, \"2024-10-31\", 10.1, 249.85, 5.520861, 2.312535, 0.138592, 1.547386, -0.382145, -2.240293, 0.191948, 0, false, false, 0.0, 19.038564], [602, \"2024-11-01\", 10.18, 248.98, 5.517373, 2.320425, 0.127529, 1.616803, -0.287161, -2.320641, 0.165397, 0, false, false, 0.0, 19.038564], [603, \"2024-11-04\", 10.29, 242.84, 5.492403, 2.331173, 0.123888, 1.65073, -0.185779, -2.440174, 0.130717, 0, false, false, 0.0, 19.038564], [604, \"2024-11-05\", 10.59, 251.44, 5.527204, 2.35991, 0.130369, 1.639332, -0.071148, -2.476678, 0.121252, 0, false, false, 0.0, 19.038564], [605, \"2024-11-06\", 9.71, 288.53, 5.664799, 2.273156, 0.024539, 2.134147, 0.323961, -2.590262, 0.095027, 0, false, false, 0.0, 19.038564], [606, \"2024-11-07\", 10.05, 296.91, 5.693429, 2.307573, -0.005174, 2.337029, 0.871737, -2.736911, 0.067866, 0, false, false, 0.0, 19.038564], [607, \"2024-11-08\", 10.59, 321.22, 5.772126, 2.35991, 0.03645, 2.149517, 1.080373, -2.737359, 0.067794, 0, false, false, 0.0, 19.038564], [608, \"2024-11-11\", 11.04, 350.0, 5.857933, 2.401525, 0.093684, 1.852732, 0.880103, -2.699012, 0.074209, 0, false, false, 0.0, 19.038564], [609, \"2024-11-12\", 10.58, 328.49, 5.794506, 2.358965, 0.092862, 1.820878, 0.786448, -2.417448, 0.136872, 0, false, false, 0.0, 19.038564], [610, \"2024-11-13\", 12.03, 330.24, 5.79982, 2.487404, 0.162518, 1.54483, 0.435803, -2.433489, 0.132506, 0, false, false, 0.0, 19.038564], [611, \"2024-11-14\", 10.31, 311.18, 5.740372, 2.333114, 0.148408, 1.481196, 0.288172, -2.53725, 0.106672, 0, false, false, 0.0, 19.038564], [612, \"2024-11-15\", 10.06, 320.72, 5.770568, 2.308567, 0.118703, 1.623585, 0.372817, -2.47204, 0.122426, 0, false, false, 0.0, 19.038564], [613, \"2024-11-18\", 10.07, 338.74, 5.825233, 2.309561, 0.081452, 1.835084, 0.610821, -2.360349, 0.153242, 0, false, false, 0.0, 19.038564], [614, \"2024-11-19\", 10.17, 346.0, 5.846439, 2.319442, 0.077124, 1.868542, 0.609848, -2.354309, 0.15505, 0, false, false, 0.0, 19.038564], [615, \"2024-11-20\", 10.05, 342.03, 5.834898, 2.307573, 0.049996, 2.015848, 0.91455, -2.21377, 0.201286, 0, false, false, 0.0, 19.038564], [616, \"2024-11-21\", 10.02, 339.64, 5.827886, 2.304583, 0.033593, 2.108807, 1.2303, -2.310378, 0.168643, 0, false, false, 0.0, 19.038564], [617, \"2024-11-22\", 10.24, 352.56, 5.865221, 2.326302, 0.026779, 2.169238, 1.328133, -2.292003, 0.17456, 0, false, false, 0.0, 19.038564], [618, \"2024-11-25\", 11.6, 338.59, 5.82479, 2.451005, 0.081251, 1.977735, 0.600167, -2.271867, 0.181202, 0, false, false, 0.0, 19.038564], [619, \"2024-11-26\", 11.55, 338.23, 5.823726, 2.446685, 0.117835, 1.760449, -0.263059, -2.231309, 0.195079, 0, false, false, 0.0, 19.038564], [620, \"2024-11-27\", 12.22, 332.89, 5.807812, 2.503074, 0.158575, 1.582102, -1.006141, -2.222343, 0.198237, 0, false, false, 0.0, 19.038564], [621, \"2024-11-29\", 12.23, 345.16, 5.844008, 2.503892, 0.19459, 1.366706, -1.730274, -2.22415, 0.197598, 0, false, false, 0.0, 19.038564], [622, \"2024-12-02\", 11.87, 357.09, 5.877988, 2.474014, 0.237325, 1.07902, -2.31402, -2.213853, 0.201256, 1, true, false, 0.0, 19.038564], [623, \"2024-12-03\", 11.88, 351.42, 5.861982, 2.474856, 0.334561, 0.513667, -2.901332, -2.19016, 0.209836, 1, false, false, 0.0, 19.038564], [624, \"2024-12-04\", 11.96, 357.93, 5.880337, 2.481568, 0.712068, -1.705634, -3.726254, -2.165714, 0.218924, 0, false, true, 2.784654, 21.823218], [625, \"2024-12-05\", 12.34, 369.49, 5.912124, 2.512846, 0.777236, -2.082269, -2.896342, -1.588191, 0.489523, 1, true, false, 0.0, 21.823218], [626, \"2024-12-06\", 13.0, 389.22, 5.964145, 2.564949, 0.949892, -3.100341, -2.742237, -1.842769, 0.359444, 1, false, false, 0.0, 21.823218], [627, \"2024-12-09\", 14.45, 389.79, 5.965608, 2.670694, 1.231156, -4.6739, -2.74479, -1.505624, 0.530727, 1, false, false, 0.0, 21.823218], [628, \"2024-12-10\", 14.06, 400.99, 5.993936, 2.643334, 1.293343, -5.108883, -2.345489, -1.14005, 0.698839, 1, false, false, 0.0, 21.823218], [629, \"2024-12-11\", 13.76, 424.77, 6.051548, 2.621766, 1.169921, -4.458065, -1.775838, -1.383943, 0.589949, 1, false, false, 0.0, 21.823218], [630, \"2024-12-12\", 14.2, 418.1, 6.035721, 2.653242, 1.237243, -4.814413, -1.662887, -1.773468, 0.393711, 1, false, false, 0.0, 21.823218], [631, \"2024-12-13\", 14.37, 436.23, 6.07817, 2.665143, 1.227876, -4.798096, -1.464252, -1.484703, 0.541065, 1, false, false, 0.0, 21.823218], [632, \"2024-12-16\", 15.34, 463.02, 6.13777, 2.730464, 1.161495, -4.398525, -1.1925, -1.564146, 0.501575, 1, false, false, 0.0, 21.823218], [633, \"2024-12-17\", 14.7, 479.86, 6.173494, 2.687847, 1.010474, -3.550308, -0.820838, -1.682556, 0.440122, 1, false, false, 0.0, 21.823218], [634, \"2024-12-18\", 13.06, 440.13, 6.08707, 2.569554, 0.908661, -2.961527, -0.552322, -1.999096, 0.28697, 1, false, false, 0.0, 21.823218], [635, \"2024-12-19\", 13.06, 436.17, 6.078032, 2.569554, 0.812129, -2.366594, -0.282735, -2.100481, 0.244321, 0, false, true, 0.284325, 22.107543], [636, \"2024-12-20\", 13.83, 421.06, 6.042775, 2.62684, 0.741676, -1.85494, -0.031357, -2.09893, 0.244945, 0, false, false, 0.0, 22.107543], [637, \"2024-12-23\", 13.75, 430.6, 6.06518, 2.621039, 0.66713, -1.425226, 0.209754, -2.148367, 0.225516, 0, false, false, 0.0, 22.107543], [638, \"2024-12-24\", 14.06, 462.28, 6.136171, 2.643334, 0.630025, -1.222606, 0.379815, -2.658349, 0.081527, 0, false, false, 0.0, 22.107543], [639, \"2024-12-26\", 14.04, 454.13, 6.118384, 2.64191, 0.594788, -0.997231, 0.575674, -2.652226, 0.082676, 0, false, false, 0.0, 22.107543], [640, \"2024-12-27\", 13.65, 431.66, 6.067638, 2.61374, 0.621119, -1.154986, 0.615522, -2.580128, 0.097174, 0, false, false, 0.0, 22.107543], [641, \"2024-12-30\", 13.58, 417.41, 6.034069, 2.608598, 0.637039, -1.235337, 0.703955, -3.555868, 0.006663, 0, false, false, 0.0, 22.107543], [642, \"2024-12-31\", 13.3, 403.84, 6.001019, 2.587764, 0.597899, -1.000237, 0.97875, -3.830207, 0.002613, 0, false, false, 0.0, 22.107543], [643, \"2025-01-02\", 13.25, 379.28, 5.938275, 2.583998, 0.522812, -0.520601, 1.374046, -4.012745, 0.001345, 0, false, false, 0.0, 22.107543], [644, \"2025-01-03\", 16.49, 410.44, 6.01723, 2.802754, 0.370578, 0.572901, 1.825221, -3.659666, 0.004718, 0, false, false, 0.0, 22.107543], [645, \"2025-01-06\", 15.71, 411.05, 6.018715, 2.754297, 0.184337, 1.644824, 2.054069, -3.3977, 0.011038, -1, true, false, 0.0, 22.107543], [646, \"2025-01-07\", 14.95, 394.36, 5.977264, 2.704711, 0.031547, 2.516144, 2.066555, -1.800588, 0.38017, -1, false, false, 0.0, 22.107543], [647, \"2025-01-08\", 14.21, 394.94, 5.978734, 2.653946, 0.053955, 2.331366, 1.733343, -1.685448, 0.438625, -1, false, false, 0.0, 22.107543], [648, \"2025-01-10\", 13.85, 394.74, 5.978227, 2.628285, 0.068966, 2.21599, 1.516634, -1.689995, 0.436275, -1, false, false, 0.0, 22.107543], [649, \"2025-01-13\", 13.49, 403.31, 5.999705, 2.601949, 0.098338, 2.011949, 1.29462, -1.607162, 0.479995, -1, false, false, 0.0, 22.107543], [650, \"2025-01-14\", 13.34, 396.36, 5.982323, 2.590767, 0.139881, 1.753953, 1.091026, -1.712213, 0.424831, -1, false, false, 0.0, 22.107543], [651, \"2025-01-15\", 13.94, 428.22, 6.059637, 2.634762, 0.130555, 1.843649, 1.052214, -1.758016, 0.401496, -1, false, false, 0.0, 22.107543], [652, \"2025-01-16\", 14.44, 413.82, 6.025431, 2.670002, 0.015273, 2.577979, 1.310242, -1.67053, 0.446357, -1, false, false, 0.0, 22.107543], [653, \"2025-01-17\", 14.21, 426.5, 6.055612, 2.653946, -0.108484, 3.31088, 1.540511, -1.451294, 0.557453, -1, false, false, 0.0, 22.107543], [654, \"2025-01-21\", 13.29, 424.07, 6.049899, 2.587012, -0.053544, 2.910946, 1.233755, -1.379921, 0.591863, -1, false, false, 0.0, 22.107543], [655, \"2025-01-22\", 12.69, 415.11, 6.028544, 2.540814, 0.020722, 2.415894, 0.887475, -1.606528, 0.480314, 0, false, true, -0.77107, 21.336473], [656, \"2025-01-23\", 12.49, 412.38, 6.021945, 2.524928, 0.038985, 2.29016, 0.73809, -1.701313, 0.430436, 0, false, false, 0.0, 21.336473], [657, \"2025-01-24\", 12.77, 406.58, 6.007781, 2.547099, 0.084233, 2.041046, 0.516056, -1.628729, 0.468156, 0, false, false, 0.0, 21.336473], [658, \"2025-01-27\", 12.85, 397.15, 5.984314, 2.553344, 0.139891, 1.716191, 0.236587, -1.646946, 0.458634, 0, false, false, 0.0, 21.336473], [659, \"2025-01-28\", 12.71, 398.09, 5.986678, 2.542389, 0.209518, 1.28807, -0.135616, -1.69983, 0.4312, 0, false, false, 0.0, 21.336473], [660, \"2025-01-29\", 12.42, 389.1, 5.963836, 2.519308, 0.455669, -0.198226, -1.31651, -1.747156, 0.406995, 0, false, false, 0.0, 21.336473], [661, \"2025-01-30\", 12.51, 400.28, 5.992164, 2.526528, 0.534962, -0.67905, -1.783028, -1.823407, 0.368904, 0, false, false, 0.0, 21.336473], [662, \"2025-01-31\", 12.56, 404.6, 6.002899, 2.530517, 0.534564, -0.678414, -1.843873, -1.810275, 0.375372, 0, false, false, 0.0, 21.336473], [663, \"2025-02-03\", 12.39, 383.68, 5.949809, 2.51689, 0.768519, -2.055654, -2.546723, -1.832225, 0.364584, 1, true, false, 0.0, 21.336473], [664, \"2025-02-04\", 12.87, 392.21, 5.971797, 2.554899, 0.649509, -1.323836, -1.792578, -1.684059, 0.439344, 1, false, false, 0.0, 21.336473], [665, \"2025-02-05\", 12.77, 378.17, 5.935344, 2.547099, 0.509089, -0.474521, -1.122626, -1.816806, 0.37215, 1, false, false, 0.0, 21.336473], [666, \"2025-02-06\", 12.8, 374.32, 5.925111, 2.549445, 0.584755, -0.915295, -1.257213, -1.851846, 0.355042, 1, false, false, 0.0, 21.336473], [667, \"2025-02-07\", 12.48, 361.62, 5.890594, 2.524127, 0.582485, -0.907056, -1.128364, -1.71023, 0.42585, 1, false, false, 0.0, 21.336473], [668, \"2025-02-10\", 12.99, 350.73, 5.860017, 2.56418, 0.419723, 0.104599, -0.456947, -1.762494, 0.399235, 0, false, true, -2.160252, 19.176221], [669, \"2025-02-11\", 12.44, 328.5, 5.794537, 2.520917, 0.334648, 0.581785, -0.123012, -1.768571, 0.396173, 0, false, false, 0.0, 19.176221], [670, \"2025-02-12\", 12.48, 336.51, 5.818628, 2.524127, 0.308618, 0.728394, -0.000303, -1.790117, 0.385379, 0, false, false, 0.0, 19.176221], [671, \"2025-02-13\", 13.3, 355.94, 5.874762, 2.587764, 0.216406, 1.31643, 0.388273, -1.83174, 0.364821, 0, false, false, 0.0, 19.176221], [672, \"2025-02-14\", 14.03, 355.84, 5.874481, 2.641198, 0.073761, 2.207892, 0.976807, -1.810122, 0.375448, 0, false, false, 0.0, 19.176221], [673, \"2025-02-18\", 14.44, 354.11, 5.869608, 2.670002, -0.116576, 3.35426, 1.706007, -1.710844, 0.425534, 0, false, false, 0.0, 19.176221], [674, \"2025-02-19\", 13.93, 360.56, 5.887658, 2.634045, -0.211998, 3.882215, 1.908256, -1.579121, 0.494073, 0, false, false, 0.0, 19.176221], [675, \"2025-02-20\", 13.61, 354.4, 5.870426, 2.610805, -0.244956, 4.0488, 1.823344, -1.58473, 0.491259, 0, false, false, 0.0, 19.176221], [676, \"2025-02-21\", 12.97, 337.8, 5.822454, 2.562639, -0.207449, 3.770499, 1.543445, -1.600126, 0.48353, 0, false, false, 0.0, 19.176221], [677, \"2025-02-24\", 11.96, 330.53, 5.800697, 2.481568, -0.089197, 2.998973, 1.079504, -1.66292, 0.450311, 0, false, false, 0.0, 19.176221], [678, \"2025-02-25\", 11.45, 302.8, 5.713073, 2.43799, 0.126088, 1.717639, 0.408219, -1.836399, 0.362546, 0, false, false, 0.0, 19.176221], [679, \"2025-02-26\", 11.4, 290.8, 5.672636, 2.433613, 0.270384, 0.899823, -0.010036, -2.05962, 0.261058, 0, false, false, 0.0, 19.176221], [680, \"2025-02-27\", 11.6, 281.95, 5.64173, 2.451005, 0.3381, 0.543538, -0.218094, -2.063828, 0.259306, 0, false, false, 0.0, 19.176221], [681, \"2025-02-28\", 11.84, 292.98, 5.680104, 2.471484, 0.39548, 0.225117, -0.417087, -2.033385, 0.27213, 0, false, false, 0.0, 19.176221], [682, \"2025-03-03\", 11.51, 284.65, 5.65126, 2.443216, 0.479761, -0.268036, -0.699636, -2.005115, 0.284335, 0, false, false, 0.0, 19.176221], [683, \"2025-03-04\", 11.26, 272.04, 5.605949, 2.421257, 0.538174, -0.595718, -0.970792, -2.066646, 0.258136, 0, false, false, 0.0, 19.176221], [684, \"2025-03-05\", 11.42, 279.1, 5.63157, 2.435366, 0.591097, -0.893439, -1.173697, -2.050241, 0.264987, 0, false, false, 0.0, 19.176221], [685, \"2025-03-06\", 11.03, 263.45, 5.573864, 2.400619, 0.63065, -1.114539, -1.257059, -2.27643, 0.179683, 0, false, false, 0.0, 19.176221], [686, \"2025-03-07\", 11.17, 262.67, 5.570898, 2.413232, 0.657483, -1.24954, -1.308545, -2.748396, 0.066032, 0, false, false, 0.0, 19.176221], [687, \"2025-03-10\", 10.96, 222.15, 5.403353, 2.394252, 0.585452, -0.769149, -1.04578, -2.658481, 0.081502, 0, false, false, 0.0, 19.176221], [688, \"2025-03-11\", 10.79, 230.58, 5.440598, 2.37862, 0.562734, -0.682987, -0.957554, -2.340249, 0.159315, 0, false, false, 0.0, 19.176221], [689, \"2025-03-12\", 11.06, 248.09, 5.513792, 2.403335, 0.560277, -0.685915, -0.90429, -2.948322, 0.04001, 0, false, false, 0.0, 19.176221], [690, \"2025-03-13\", 10.61, 240.68, 5.483468, 2.361797, 0.57454, -0.788677, -0.898616, -2.971765, 0.037617, 0, false, false, 0.0, 19.176221], [691, \"2025-03-14\", 10.75, 249.98, 5.521381, 2.374906, 0.582738, -0.842612, -0.853269, -2.852746, 0.051125, 0, false, false, 0.0, 19.176221], [692, \"2025-03-17\", 11.02, 238.01, 5.472313, 2.399712, 0.541855, -0.56549, -0.638305, -2.56617, 0.100193, 0, false, false, 0.0, 19.176221], [693, \"2025-03-18\", 11.2, 225.31, 5.417477, 2.415914, 0.450211, -0.023095, -0.280124, -2.660398, 0.081145, 0, false, false, 0.0, 19.176221], [694, \"2025-03-19\", 11.36, 235.86, 5.463238, 2.430098, 0.375071, 0.380995, 0.047034, -2.661382, 0.080963, 0, false, false, 0.0, 19.176221], [695, \"2025-03-20\", 10.88, 236.26, 5.464933, 2.386926, 0.301335, 0.740149, 0.443367, -2.658644, 0.081472, 0, false, false, 0.0, 19.176221], [696, \"2025-03-21\", 11.6, 248.71, 5.516288, 2.451005, 0.219285, 1.241366, 1.127412, -2.662713, 0.080716, 0, false, false, 0.0, 19.176221], [697, \"2025-03-24\", 12.19, 278.39, 5.629023, 2.500616, 0.234198, 1.182312, 1.426001, -2.725817, 0.069676, 0, false, false, 0.0, 19.176221], [698, \"2025-03-25\", 12.36, 288.14, 5.663446, 2.514465, 0.302263, 0.802617, 1.148858, -2.740479, 0.067292, 0, false, false, 0.0, 19.176221], [699, \"2025-03-26\", 12.1, 272.06, 5.606023, 2.493205, 0.346027, 0.553368, 0.882584, -2.910819, 0.044104, 0, false, false, 0.0, 19.176221], [700, \"2025-03-27\", 13.02, 273.13, 5.609948, 2.566487, 0.404548, 0.296996, 0.579093, -2.957708, 0.039037, 0, false, false, 0.0, 19.176221], [701, \"2025-03-28\", 12.41, 263.55, 5.574243, 2.518503, 0.441837, 0.055594, 0.280457, -2.89844, 0.04553, 0, false, false, 0.0, 19.176221], [702, \"2025-03-31\", 12.45, 259.16, 5.557446, 2.521721, 0.498607, -0.249262, -0.114991, -2.804298, 0.057662, 0, false, false, 0.0, 19.176221], [703, \"2025-04-01\", 13.28, 268.46, 5.592702, 2.586259, 0.593491, -0.73296, -0.727309, -2.598622, 0.093282, 0, false, false, 0.0, 19.176221], [704, \"2025-04-02\", 12.49, 282.76, 5.644598, 2.524928, 0.663671, -1.221229, -1.301616, -2.463718, 0.124553, 0, false, false, 0.0, 19.176221], [705, \"2025-04-03\", 11.53, 267.28, 5.588297, 2.444952, 0.66968, -1.297417, -1.364838, -2.41832, 0.136632, 0, false, false, 0.0, 19.176221], [706, \"2025-04-04\", 11.21, 239.43, 5.478261, 2.416806, 0.689992, -1.363151, -1.424663, -2.355535, 0.154681, 0, false, false, 0.0, 19.176221], [707, \"2025-04-07\", 11.21, 233.29, 5.452282, 2.416806, 0.711856, -1.464435, -1.436818, -2.3484, 0.156832, 0, false, false, 0.0, 19.176221], [708, \"2025-04-08\", 10.8, 221.86, 5.402047, 2.379546, 0.683049, -1.310318, -1.181293, -2.281905, 0.17787, 0, false, false, 0.0, 19.176221], [709, \"2025-04-09\", 11.77, 272.2, 5.606537, 2.465554, 0.652059, -1.190237, -0.995133, -2.315998, 0.16686, 0, false, false, 0.0, 19.176221], [710, \"2025-04-10\", 11.46, 252.4, 5.531015, 2.438863, 0.623627, -1.010428, -0.777499, -2.395515, 0.143006, 0, false, false, 0.0, 19.176221], [711, \"2025-04-11\", 11.47, 252.31, 5.530658, 2.439735, 0.612836, -0.949651, -0.70223, -2.686553, 0.076394, 0, false, false, 0.0, 19.176221], [712, \"2025-04-14\", 12.03, 252.35, 5.530817, 2.487404, 0.594488, -0.800603, -0.523876, -2.885937, 0.047008, 0, false, false, 0.0, 19.176221], [713, \"2025-04-15\", 11.95, 254.89, 5.540832, 2.480731, 0.621716, -0.964091, -0.64457, -2.626468, 0.087649, 0, false, false, 0.0, 19.176221]];\n",
       "\n",
       "        // Define the dt_args\n",
       "        let dt_args = {\"layout\": {\"topStart\": \"pageLength\", \"topEnd\": \"search\", \"bottomStart\": \"info\", \"bottomEnd\": \"paging\"}, \"order\": [], \"warn_on_selected_rows_not_rendered\": true, \"filtered_row_count\": 36, \"fnInfoCallback\": function (oSettings, iStart, iEnd, iMax, iTotal, sPre) { return sPre + ' (<a href=\"https://mwouts.github.io/itables/downsampling.html\">downsampled</a> from 654x15 to 618x15 as maxBytes=64KB)'; }};\n",
       "        dt_args[\"data\"] = data;\n",
       "\n",
       "        \n",
       "        new DataTable(table, dt_args);\n",
       "    });\n",
       "</script>\n"
      ],
      "text/plain": [
       "<IPython.core.display.HTML object>"
      ]
     },
     "metadata": {},
     "output_type": "display_data"
    }
   ],
   "source": [
    "display(HTML(html))"
   ]
  },
  {
   "cell_type": "code",
   "execution_count": null,
   "id": "0606a561",
   "metadata": {},
   "outputs": [],
   "source": []
  }
 ],
 "metadata": {
  "kernelspec": {
   "display_name": "venv",
   "language": "python",
   "name": "python3"
  },
  "language_info": {
   "codemirror_mode": {
    "name": "ipython",
    "version": 3
   },
   "file_extension": ".py",
   "mimetype": "text/x-python",
   "name": "python",
   "nbconvert_exporter": "python",
   "pygments_lexer": "ipython3",
   "version": "3.13.1"
  }
 },
 "nbformat": 4,
 "nbformat_minor": 5
}
